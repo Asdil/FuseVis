{
 "cells": [
  {
   "cell_type": "markdown",
   "metadata": {},
   "source": [
    "# This is the pytorch implementation of the paper \"Structural Similarity based Anatomical and Functional Brain Imaging Fusion\""
   ]
  },
  {
   "cell_type": "code",
   "execution_count": 1,
   "metadata": {},
   "outputs": [],
   "source": [
    "import sys\n",
    "sys.path.append(\"/home/h1/s8993054/.local/lib/python3.6/site-packages/\") # go to parent dir"
   ]
  },
  {
   "cell_type": "code",
   "execution_count": 2,
   "metadata": {},
   "outputs": [],
   "source": [
    "#Import packages\n",
    "import time\n",
    "import torch.nn as nn\n",
    "import torch\n",
    "from torch.utils.data import Dataset, DataLoader\n",
    "import torchvision.datasets as datasets\n",
    "import numpy as np\n",
    "from torchvision import transforms\n",
    "from torch.autograd import Variable\n",
    "from PIL import Image\n",
    "import torchvision.transforms.functional as TF\n",
    "from torchvision.models.vgg import vgg19\n",
    "import torch.nn as nn\n",
    "import torch.nn.functional as F\n",
    "import torch\n",
    "from skimage import img_as_ubyte\n",
    "import torch.nn as nn\n",
    "import torch.utils.data as Data\n",
    "import torchvision      # dataset\n",
    "import matplotlib.pyplot as plt\n",
    "import scipy\n",
    "import numpy as np\n",
    "import argparse\n",
    "import glob\n",
    "import imageio\n",
    "from skimage import color\n",
    "import numpy\n",
    "import natsort\n",
    "import scipy\n",
    "from pytorch_msssim import ssim, ms_ssim, SSIM, MS_SSIM\n",
    "import pprint\n",
    "from scipy.ndimage import correlate\n",
    "from scipy.ndimage.filters import gaussian_gradient_magnitude\n",
    "import torchvision.datasets as dset\n",
    "import torch.utils.data as data\n",
    "import os\n",
    "import os.path\n",
    "from tkinter import *\n",
    "import tkinter as tk\n",
    "import tkinter.font as tkFont\n",
    "from PIL import ImageTk, Image\n",
    "import pylab\n",
    "import cv2\n",
    "import h5py\n",
    "from mpl_toolkits.axes_grid1 import make_axes_locatable\n",
    "from matplotlib.font_manager import FontProperties"
   ]
  },
  {
   "cell_type": "code",
   "execution_count": 3,
   "metadata": {},
   "outputs": [
    {
     "name": "stdout",
     "output_type": "stream",
     "text": [
      "33822867456\n"
     ]
    }
   ],
   "source": [
    "device = 'cuda' if torch.cuda.is_available() else 'cpu'\n",
    "print(torch.cuda.get_device_properties(0).total_memory)"
   ]
  },
  {
   "cell_type": "code",
   "execution_count": 4,
   "metadata": {},
   "outputs": [
    {
     "data": {
      "text/plain": [
       "176"
      ]
     },
     "execution_count": 4,
     "metadata": {},
     "output_type": "execute_result"
    }
   ],
   "source": [
    "import multiprocessing\n",
    "\n",
    "multiprocessing.cpu_count()"
   ]
  },
  {
   "cell_type": "code",
   "execution_count": 5,
   "metadata": {},
   "outputs": [],
   "source": [
    "#define the hyperparameters\n",
    "image_length = 256\n",
    "image_width  = 256\n",
    "mr_channels  = 1\n",
    "gray_channels = 1\n",
    "pet_channels = 4    \n",
    "rgb_channels = 3     \n",
    "batch_size   = 2\n",
    "EPOCH = 200\n",
    "learning_rate = 0.0002"
   ]
  },
  {
   "cell_type": "code",
   "execution_count": 6,
   "metadata": {},
   "outputs": [],
   "source": [
    "#load the train mri data\n",
    "filenames = os.listdir('/home/h1/s8993054/Forschungprojekt/Training/MRI')\n",
    "dataset = os.path.join(os.getcwd(), '/home/h1/s8993054/Forschungprojekt/Training/MRI')\n",
    "data = glob.glob(os.path.join(dataset, \"*.gif\"))\n",
    "data = natsort.natsorted(data,reverse=False)\n",
    "train_mri = np.zeros((len(data), image_width,image_length))\n",
    "for i in range(len(data)):\n",
    "    train_mri[i,:,:] =(imageio.imread(data[i]))\n",
    "    train_mri[i,:,:] =(train_mri[i,:,:] - np.min(train_mri[i,:,:])) / (np.max(train_mri[i,:,:]) - np.min(train_mri[i,:,:]))\n",
    "    train_mri[i,:,:] = np.float32(train_mri[i,:,:])"
   ]
  },
  {
   "cell_type": "code",
   "execution_count": 7,
   "metadata": {},
   "outputs": [],
   "source": [
    "#expand dimension to add the channel\n",
    "train_mri = np.expand_dims(train_mri,axis=1)"
   ]
  },
  {
   "cell_type": "code",
   "execution_count": 8,
   "metadata": {},
   "outputs": [
    {
     "data": {
      "text/plain": [
       "(272, 1, 256, 256)"
      ]
     },
     "execution_count": 8,
     "metadata": {},
     "output_type": "execute_result"
    }
   ],
   "source": [
    "#verify the shape matches the pytorch standard\n",
    "train_mri.shape"
   ]
  },
  {
   "cell_type": "code",
   "execution_count": 9,
   "metadata": {},
   "outputs": [
    {
     "data": {
      "text/plain": [
       "torch.Size([272, 1, 256, 256])"
      ]
     },
     "execution_count": 9,
     "metadata": {},
     "output_type": "execute_result"
    }
   ],
   "source": [
    "#convert the MRI training data to pytorch tensor\n",
    "train_mri_tensor = torch.from_numpy(train_mri).float()\n",
    "train_mri_tensor.shape"
   ]
  },
  {
   "cell_type": "code",
   "execution_count": 10,
   "metadata": {},
   "outputs": [],
   "source": [
    "#load the train pet data\n",
    "filenames = os.listdir('/home/h1/s8993054/Forschungprojekt/Training/PET')\n",
    "dataset = os.path.join(os.getcwd(), '/home/h1/s8993054/Forschungprojekt/Training/PET')\n",
    "data = glob.glob(os.path.join(dataset, \"*.gif\"))\n",
    "data = natsort.natsorted(data,reverse=False)\n",
    "train_other = np.zeros((len(data),image_width,image_length,pet_channels),dtype=float)\n",
    "train_pet = np.zeros((len(data),image_width,image_length),dtype=float)\n",
    "for i in range(len(data)):\n",
    "    train_other[i,:,:,:] =(imageio.imread(data[i]))\n",
    "    train_pet[i,:,:] = 0.2989 * train_other[i,:,:,0] + 0.5870 *  train_other[i,:,:,1]  + 0.1140 * train_other[i,:,:,2]\n",
    "    train_pet[i,:,:] =(train_pet[i,:,:] - np.min(train_pet[i,:,:])) / (np.max(train_pet[i,:,:]) - np.min(train_pet[i,:,:]))"
   ]
  },
  {
   "cell_type": "code",
   "execution_count": 11,
   "metadata": {},
   "outputs": [],
   "source": [
    "#expand the dimension to add the channel\n",
    "train_pet = np.expand_dims(train_pet,axis=1)"
   ]
  },
  {
   "cell_type": "code",
   "execution_count": 12,
   "metadata": {},
   "outputs": [
    {
     "data": {
      "text/plain": [
       "(272, 1, 256, 256)"
      ]
     },
     "execution_count": 12,
     "metadata": {},
     "output_type": "execute_result"
    }
   ],
   "source": [
    "#verify the shape matches the pytorch standard\n",
    "train_pet.shape"
   ]
  },
  {
   "cell_type": "code",
   "execution_count": 13,
   "metadata": {},
   "outputs": [
    {
     "data": {
      "text/plain": [
       "torch.Size([272, 1, 256, 256])"
      ]
     },
     "execution_count": 13,
     "metadata": {},
     "output_type": "execute_result"
    }
   ],
   "source": [
    "#convert the PET training data to pytorch tensor\n",
    "train_pet_tensor = torch.from_numpy(train_pet).float()\n",
    "train_pet_tensor.shape"
   ]
  },
  {
   "cell_type": "code",
   "execution_count": 14,
   "metadata": {},
   "outputs": [
    {
     "name": "stdout",
     "output_type": "stream",
     "text": [
      "DeepFuse(\n",
      "  (layer1): ConvLayer_DeepFuse(\n",
      "    (main): Sequential(\n",
      "      (0): Conv2d(1, 16, kernel_size=(5, 5), stride=(1, 1), padding=(2, 2))\n",
      "      (1): BatchNorm2d(16, eps=1e-05, momentum=0.1, affine=True, track_running_stats=True)\n",
      "      (2): LeakyReLU(negative_slope=0.01)\n",
      "    )\n",
      "  )\n",
      "  (layer2): ConvLayer_DeepFuse(\n",
      "    (main): Sequential(\n",
      "      (0): Conv2d(16, 32, kernel_size=(7, 7), stride=(1, 1), padding=(3, 3))\n",
      "      (1): BatchNorm2d(32, eps=1e-05, momentum=0.1, affine=True, track_running_stats=True)\n",
      "      (2): ReLU()\n",
      "    )\n",
      "  )\n",
      "  (layer3): FusionLayer()\n",
      "  (layer4): ConvLayer_DeepFuse(\n",
      "    (main): Sequential(\n",
      "      (0): Conv2d(32, 32, kernel_size=(7, 7), stride=(1, 1), padding=(3, 3))\n",
      "      (1): BatchNorm2d(32, eps=1e-05, momentum=0.1, affine=True, track_running_stats=True)\n",
      "      (2): LeakyReLU(negative_slope=0.01)\n",
      "    )\n",
      "  )\n",
      "  (layer5): ConvLayer_DeepFuse(\n",
      "    (main): Sequential(\n",
      "      (0): Conv2d(32, 16, kernel_size=(5, 5), stride=(1, 1), padding=(2, 2))\n",
      "      (1): BatchNorm2d(16, eps=1e-05, momentum=0.1, affine=True, track_running_stats=True)\n",
      "      (2): LeakyReLU(negative_slope=0.01)\n",
      "    )\n",
      "  )\n",
      "  (layer6): ConvLayer_DeepFuse(\n",
      "    (main): Sequential(\n",
      "      (0): Conv2d(16, 1, kernel_size=(5, 5), stride=(1, 1), padding=(2, 2))\n",
      "      (1): BatchNorm2d(1, eps=1e-05, momentum=0.1, affine=True, track_running_stats=True)\n",
      "      (2): Tanh()\n",
      "    )\n",
      "  )\n",
      ")\n"
     ]
    }
   ],
   "source": [
    "#define the network\n",
    "class ConvLayer_DeepFuse(nn.Module):\n",
    "    def __init__(self, in_channels = 1, out_channels = 16, kernel_size = 5, last = nn.ReLU):\n",
    "        super().__init__()\n",
    "        if kernel_size == 5:\n",
    "            padding = 2\n",
    "        elif kernel_size == 7:\n",
    "            padding = 3\n",
    "        self.main = nn.Sequential(\n",
    "            nn.Conv2d(in_channels, out_channels, kernel_size = kernel_size, stride = 1, padding = padding),\n",
    "            nn.BatchNorm2d(out_channels),\n",
    "            last()\n",
    "        )\n",
    "\n",
    "    def forward(self, x):\n",
    "        out = self.main(x)\n",
    "        return out\n",
    "\n",
    "class FusionLayer(nn.Module):\n",
    "    def forward(self, x, y):\n",
    "        return x + y\n",
    "\n",
    "# -------------------------------------------------------------------------------------------------------\n",
    "#   Define model\n",
    "# -------------------------------------------------------------------------------------------------------\n",
    "class DeepFuse(nn.Module):\n",
    "    def __init__(self):\n",
    "        super(DeepFuse, self).__init__()\n",
    "        self.layer1 = ConvLayer_DeepFuse(1, 16, 5, last = nn.LeakyReLU)\n",
    "        self.layer2 = ConvLayer_DeepFuse(16, 32, 7)\n",
    "        self.layer3 = FusionLayer()\n",
    "        self.layer4 = ConvLayer_DeepFuse(32, 32, 7, last = nn.LeakyReLU)\n",
    "        self.layer5 = ConvLayer_DeepFuse(32, 16, 5, last = nn.LeakyReLU)\n",
    "        self.layer6 = ConvLayer_DeepFuse(16, 1, 5, last = nn.Tanh)\n",
    "\n",
    "    def setInput(self, y_1, y_2):\n",
    "        self.y_1 = y_1\n",
    "        self.y_2 = y_2\n",
    "\n",
    "    def forward(self):\n",
    "        c11 = self.layer1(self.y_1)\n",
    "        c12 = self.layer1(self.y_2)\n",
    "        c21 = self.layer2(c11)\n",
    "        c22 = self.layer2(c12)\n",
    "        f_m = self.layer3(c21, c22)\n",
    "        c3  = self.layer4(f_m)\n",
    "        c4  = self.layer5(c3)\n",
    "        c5  = self.layer6(c4)\n",
    "        return c5\n",
    "\n",
    "cnn = DeepFuse().to(device)\n",
    "cnn = cnn.float()\n",
    "print(cnn)"
   ]
  },
  {
   "cell_type": "code",
   "execution_count": 15,
   "metadata": {},
   "outputs": [],
   "source": [
    "#define the optimizers and loss functions \n",
    "optimizer = torch.optim.Adam(cnn.parameters(), lr=learning_rate)   # optimize all cnn parameters\n",
    "l2_loss   = nn.MSELoss() #MSEloss"
   ]
  },
  {
   "cell_type": "code",
   "execution_count": 16,
   "metadata": {},
   "outputs": [
    {
     "name": "stdout",
     "output_type": "stream",
     "text": [
      "Epoch: [ 0],step: [100], mri_ssim_loss: [0.83230317], pet_ssim_loss: [0.91837800],  total_ssim_loss: [0.87559885], total_l2_loss: [0.31433308], total_loss: [0.86998618]\n",
      "Epoch: [ 1],step: [200], mri_ssim_loss: [0.87322319], pet_ssim_loss: [0.94983464],  total_ssim_loss: [0.91175878], total_l2_loss: [0.23648410], total_loss: [0.90500599]\n",
      "Epoch: [ 2],step: [300], mri_ssim_loss: [0.69828731], pet_ssim_loss: [0.92143118],  total_ssim_loss: [0.81052870], total_l2_loss: [0.37769613], total_loss: [0.80620039]\n",
      "Epoch: [ 2],step: [400], mri_ssim_loss: [0.81644273], pet_ssim_loss: [0.93207192],  total_ssim_loss: [0.87460423], total_l2_loss: [0.32899630], total_loss: [0.86914814]\n",
      "Epoch: [ 3],step: [500], mri_ssim_loss: [0.72309935], pet_ssim_loss: [0.84361935],  total_ssim_loss: [0.78372097], total_l2_loss: [0.39836556], total_loss: [0.77986747]\n",
      "Epoch: [ 4],step: [600], mri_ssim_loss: [0.82692099], pet_ssim_loss: [0.89714068],  total_ssim_loss: [0.86224151], total_l2_loss: [0.26417130], total_loss: [0.85626084]\n",
      "Epoch: [ 5],step: [700], mri_ssim_loss: [0.64855564], pet_ssim_loss: [0.90409386],  total_ssim_loss: [0.77709138], total_l2_loss: [0.34034437], total_loss: [0.77272391]\n",
      "Epoch: [ 5],step: [800], mri_ssim_loss: [0.78489149], pet_ssim_loss: [0.75674570],  total_ssim_loss: [0.77073419], total_l2_loss: [0.07682195], total_loss: [0.76379508]\n",
      "Epoch: [ 6],step: [900], mri_ssim_loss: [0.80277276], pet_ssim_loss: [0.75751346],  total_ssim_loss: [0.78000736], total_l2_loss: [0.06688610], total_loss: [0.77287620]\n",
      "Epoch: [ 7],step: [1000], mri_ssim_loss: [0.83859754], pet_ssim_loss: [0.81662887],  total_ssim_loss: [0.82754731], total_l2_loss: [0.06145390], total_loss: [0.81988639]\n",
      "Epoch: [ 8],step: [1100], mri_ssim_loss: [0.65539700], pet_ssim_loss: [0.69071573],  total_ssim_loss: [0.67316234], total_l2_loss: [0.08254129], total_loss: [0.66725612]\n",
      "Epoch: [ 8],step: [1200], mri_ssim_loss: [0.70323014], pet_ssim_loss: [0.68277532],  total_ssim_loss: [0.69294143], total_l2_loss: [0.08478373], total_loss: [0.68685985]\n",
      "Epoch: [ 9],step: [1300], mri_ssim_loss: [0.98935992], pet_ssim_loss: [1.00374675],  total_ssim_loss: [0.99659657], total_l2_loss: [0.27787131], total_loss: [0.98940933]\n",
      "Epoch: [10],step: [1400], mri_ssim_loss: [0.90024889], pet_ssim_loss: [0.93971676],  total_ssim_loss: [0.92010128], total_l2_loss: [0.33256939], total_loss: [0.91422600]\n",
      "Epoch: [11],step: [1500], mri_ssim_loss: [0.82207286], pet_ssim_loss: [0.92811811],  total_ssim_loss: [0.87541366], total_l2_loss: [0.33180070], total_loss: [0.86997753]\n",
      "Epoch: [11],step: [1600], mri_ssim_loss: [0.73965853], pet_ssim_loss: [0.89359915],  total_ssim_loss: [0.81709069], total_l2_loss: [0.33357894], total_loss: [0.81225556]\n",
      "Epoch: [12],step: [1700], mri_ssim_loss: [0.88316929], pet_ssim_loss: [0.95459843],  total_ssim_loss: [0.91909820], total_l2_loss: [0.20534657], total_loss: [0.91196066]\n",
      "Epoch: [13],step: [1800], mri_ssim_loss: [0.65462762], pet_ssim_loss: [0.95400059],  total_ssim_loss: [0.80521226], total_l2_loss: [0.39007980], total_loss: [0.80106097]\n",
      "Epoch: [13],step: [1900], mri_ssim_loss: [0.72835159], pet_ssim_loss: [0.87341785],  total_ssim_loss: [0.80131996], total_l2_loss: [0.34906489], total_loss: [0.79679739]\n",
      "Epoch: [14],step: [2000], mri_ssim_loss: [0.77778953], pet_ssim_loss: [0.91814208],  total_ssim_loss: [0.84838688], total_l2_loss: [0.36533427], total_loss: [0.84355634]\n",
      "Epoch: [15],step: [2100], mri_ssim_loss: [0.85965055], pet_ssim_loss: [0.92505866],  total_ssim_loss: [0.89255083], total_l2_loss: [0.25244421], total_loss: [0.88614976]\n",
      "Epoch: [16],step: [2200], mri_ssim_loss: [0.70337534], pet_ssim_loss: [0.92469054],  total_ssim_loss: [0.81469691], total_l2_loss: [0.33648205], total_loss: [0.80991477]\n",
      "Epoch: [16],step: [2300], mri_ssim_loss: [0.74454916], pet_ssim_loss: [0.90965575],  total_ssim_loss: [0.82759780], total_l2_loss: [0.36117387], total_loss: [0.82293355]\n",
      "Epoch: [17],step: [2400], mri_ssim_loss: [0.76047879], pet_ssim_loss: [0.91763151],  total_ssim_loss: [0.83952665], total_l2_loss: [0.34559482], total_loss: [0.83458734]\n",
      "Epoch: [18],step: [2500], mri_ssim_loss: [0.81718606], pet_ssim_loss: [0.91037232],  total_ssim_loss: [0.86405879], total_l2_loss: [0.27247047], total_loss: [0.85814291]\n",
      "Epoch: [19],step: [2600], mri_ssim_loss: [0.73180187], pet_ssim_loss: [0.89363515],  total_ssim_loss: [0.81320405], total_l2_loss: [0.35297146], total_loss: [0.80860174]\n",
      "Epoch: [19],step: [2700], mri_ssim_loss: [0.72216666], pet_ssim_loss: [0.89246887],  total_ssim_loss: [0.80782866], total_l2_loss: [0.33708107], total_loss: [0.80312121]\n",
      "Epoch: [20],step: [2800], mri_ssim_loss: [0.71540326], pet_ssim_loss: [0.90705168],  total_ssim_loss: [0.81180239], total_l2_loss: [0.35315916], total_loss: [0.80721593]\n",
      "Epoch: [21],step: [2900], mri_ssim_loss: [0.80318344], pet_ssim_loss: [0.90477681],  total_ssim_loss: [0.85428488], total_l2_loss: [0.27931559], total_loss: [0.84853518]\n",
      "Epoch: [22],step: [3000], mri_ssim_loss: [0.64769548], pet_ssim_loss: [0.92227733],  total_ssim_loss: [0.78581017], total_l2_loss: [0.32902819], total_loss: [0.78124237]\n",
      "Epoch: [22],step: [3100], mri_ssim_loss: [0.64010841], pet_ssim_loss: [0.92964470],  total_ssim_loss: [0.78574520], total_l2_loss: [0.28574547], total_loss: [0.78074521]\n",
      "Epoch: [23],step: [3200], mri_ssim_loss: [0.71066749], pet_ssim_loss: [0.87383306],  total_ssim_loss: [0.79273981], total_l2_loss: [0.34434873], total_loss: [0.78825587]\n",
      "Epoch: [24],step: [3300], mri_ssim_loss: [0.65546381], pet_ssim_loss: [0.91297817],  total_ssim_loss: [0.78499353], total_l2_loss: [0.43695736], total_loss: [0.78151315]\n",
      "Epoch: [24],step: [3400], mri_ssim_loss: [0.71973562], pet_ssim_loss: [0.89884531],  total_ssim_loss: [0.80982780], total_l2_loss: [0.29266495], total_loss: [0.80465621]\n",
      "Epoch: [25],step: [3500], mri_ssim_loss: [0.64665127], pet_ssim_loss: [0.89315331],  total_ssim_loss: [0.77064180], total_l2_loss: [0.33814985], total_loss: [0.76631689]\n",
      "Epoch: [26],step: [3600], mri_ssim_loss: [0.81077564], pet_ssim_loss: [0.91749078],  total_ssim_loss: [0.86445338], total_l2_loss: [0.21612430], total_loss: [0.85797012]\n",
      "Epoch: [27],step: [3700], mri_ssim_loss: [0.82121682], pet_ssim_loss: [0.75518644],  total_ssim_loss: [0.78800356], total_l2_loss: [0.09626523], total_loss: [0.78108621]\n",
      "Epoch: [27],step: [3800], mri_ssim_loss: [0.76286286], pet_ssim_loss: [0.80863667],  total_ssim_loss: [0.78588712], total_l2_loss: [0.07381205], total_loss: [0.77876639]\n",
      "Epoch: [28],step: [3900], mri_ssim_loss: [0.72323889], pet_ssim_loss: [0.70256364],  total_ssim_loss: [0.71283925], total_l2_loss: [0.09709039], total_loss: [0.70668179]\n",
      "Epoch: [29],step: [4000], mri_ssim_loss: [0.83392954], pet_ssim_loss: [0.81543094],  total_ssim_loss: [0.82462478], total_l2_loss: [0.06366257], total_loss: [0.81701517]\n",
      "Epoch: [30],step: [4100], mri_ssim_loss: [0.67766535], pet_ssim_loss: [0.70536178],  total_ssim_loss: [0.69159669], total_l2_loss: [0.09400576], total_loss: [0.68562078]\n",
      "Epoch: [30],step: [4200], mri_ssim_loss: [0.67595935], pet_ssim_loss: [0.71673703],  total_ssim_loss: [0.69647056], total_l2_loss: [0.08766215], total_loss: [0.69038248]\n",
      "Epoch: [31],step: [4300], mri_ssim_loss: [0.71806318], pet_ssim_loss: [0.76029557],  total_ssim_loss: [0.73930609], total_l2_loss: [0.08171945], total_loss: [0.73273021]\n",
      "Epoch: [32],step: [4400], mri_ssim_loss: [0.80429637], pet_ssim_loss: [0.81880641],  total_ssim_loss: [0.81159496], total_l2_loss: [0.07242464], total_loss: [0.80420327]\n",
      "Epoch: [33],step: [4500], mri_ssim_loss: [0.62946445], pet_ssim_loss: [0.68916768],  total_ssim_loss: [0.65949517], total_l2_loss: [0.09239629], total_loss: [0.65382421]\n",
      "Epoch: [33],step: [4600], mri_ssim_loss: [0.65972185], pet_ssim_loss: [0.72535294],  total_ssim_loss: [0.69273430], total_l2_loss: [0.09797331], total_loss: [0.68678671]\n",
      "Epoch: [34],step: [4700], mri_ssim_loss: [0.88812327], pet_ssim_loss: [0.85951912],  total_ssim_loss: [0.87373543], total_l2_loss: [0.20338053], total_loss: [0.86703193]\n",
      "Epoch: [35],step: [4800], mri_ssim_loss: [0.78903675], pet_ssim_loss: [0.86671746],  total_ssim_loss: [0.82811016], total_l2_loss: [0.08044356], total_loss: [0.82063347]\n",
      "Epoch: [36],step: [4900], mri_ssim_loss: [0.68784004], pet_ssim_loss: [0.72748119],  total_ssim_loss: [0.70777953], total_l2_loss: [0.07918605], total_loss: [0.70149356]\n",
      "Epoch: [36],step: [5000], mri_ssim_loss: [0.61568844], pet_ssim_loss: [0.66005898],  total_ssim_loss: [0.63800681], total_l2_loss: [0.09033890], total_loss: [0.63253009]\n",
      "Epoch: [37],step: [5100], mri_ssim_loss: [0.87055254], pet_ssim_loss: [0.89378607],  total_ssim_loss: [0.88223904], total_l2_loss: [0.05711327], total_loss: [0.87398779]\n",
      "Epoch: [38],step: [5200], mri_ssim_loss: [0.65259463], pet_ssim_loss: [0.73731291],  total_ssim_loss: [0.69520795], total_l2_loss: [0.11039778], total_loss: [0.68935990]\n",
      "Epoch: [38],step: [5300], mri_ssim_loss: [0.76804990], pet_ssim_loss: [0.87915063],  total_ssim_loss: [0.82393360], total_l2_loss: [0.17949313], total_loss: [0.81748921]\n",
      "Epoch: [39],step: [5400], mri_ssim_loss: [0.64266765], pet_ssim_loss: [0.72376293],  total_ssim_loss: [0.68345857], total_l2_loss: [0.08310039], total_loss: [0.67745501]\n",
      "Epoch: [40],step: [5500], mri_ssim_loss: [0.83457357], pet_ssim_loss: [0.84876752],  total_ssim_loss: [0.84171313], total_l2_loss: [0.06465158], total_loss: [0.83394253]\n",
      "Epoch: [41],step: [5600], mri_ssim_loss: [0.68179214], pet_ssim_loss: [0.76320195],  total_ssim_loss: [0.72274131], total_l2_loss: [0.08662303], total_loss: [0.71638012]\n",
      "Epoch: [41],step: [5700], mri_ssim_loss: [0.65371031], pet_ssim_loss: [0.73385406],  total_ssim_loss: [0.69402266], total_l2_loss: [0.08848620], total_loss: [0.68796730]\n",
      "Epoch: [42],step: [5800], mri_ssim_loss: [0.71311504], pet_ssim_loss: [0.79606891],  total_ssim_loss: [0.75484085], total_l2_loss: [0.07009862], total_loss: [0.74799347]\n",
      "Epoch: [43],step: [5900], mri_ssim_loss: [0.79684377], pet_ssim_loss: [0.82357383],  total_ssim_loss: [0.81028903], total_l2_loss: [0.06547699], total_loss: [0.80284089]\n",
      "Epoch: [44],step: [6000], mri_ssim_loss: [0.69435894], pet_ssim_loss: [0.73887420],  total_ssim_loss: [0.71675014], total_l2_loss: [0.08081076], total_loss: [0.71039075]\n",
      "Epoch: [44],step: [6100], mri_ssim_loss: [0.71451962], pet_ssim_loss: [0.76495421],  total_ssim_loss: [0.73988819], total_l2_loss: [0.07980949], total_loss: [0.73328739]\n",
      "Epoch: [45],step: [6200], mri_ssim_loss: [0.65727323], pet_ssim_loss: [0.76612383],  total_ssim_loss: [0.71202511], total_l2_loss: [0.07400601], total_loss: [0.70564491]\n",
      "Epoch: [46],step: [6300], mri_ssim_loss: [0.76649535], pet_ssim_loss: [0.80796814],  total_ssim_loss: [0.78735614], total_l2_loss: [0.06346703], total_loss: [0.78011727]\n",
      "Epoch: [47],step: [6400], mri_ssim_loss: [0.80194253], pet_ssim_loss: [0.85816777],  total_ssim_loss: [0.83022386], total_l2_loss: [0.21721908], total_loss: [0.82409382]\n",
      "Epoch: [47],step: [6500], mri_ssim_loss: [0.60251498], pet_ssim_loss: [0.87161952],  total_ssim_loss: [0.73787463], total_l2_loss: [0.17211232], total_loss: [0.73221701]\n",
      "Epoch: [48],step: [6600], mri_ssim_loss: [0.69947696], pet_ssim_loss: [0.70353824],  total_ssim_loss: [0.70151985], total_l2_loss: [0.08391902], total_loss: [0.69534385]\n",
      "Epoch: [49],step: [6700], mri_ssim_loss: [0.67590225], pet_ssim_loss: [0.73001176],  total_ssim_loss: [0.70311940], total_l2_loss: [0.09341041], total_loss: [0.69702232]\n",
      "Epoch: [49],step: [6800], mri_ssim_loss: [0.70879340], pet_ssim_loss: [0.79908967],  total_ssim_loss: [0.75421250], total_l2_loss: [0.06264928], total_loss: [0.74729687]\n",
      "Epoch: [50],step: [6900], mri_ssim_loss: [0.67882162], pet_ssim_loss: [0.67779255],  total_ssim_loss: [0.67830402], total_l2_loss: [0.08318874], total_loss: [0.67235291]\n",
      "Epoch: [51],step: [7000], mri_ssim_loss: [0.85171419], pet_ssim_loss: [0.86856329],  total_ssim_loss: [0.86018932], total_l2_loss: [0.05125915], total_loss: [0.85210001]\n",
      "Epoch: [52],step: [7100], mri_ssim_loss: [0.65421700], pet_ssim_loss: [0.73108357],  total_ssim_loss: [0.69288093], total_l2_loss: [0.08342698], total_loss: [0.68678641]\n",
      "Epoch: [52],step: [7200], mri_ssim_loss: [0.70106375], pet_ssim_loss: [0.79901910],  total_ssim_loss: [0.75033534], total_l2_loss: [0.06086219], total_loss: [0.74344063]\n",
      "Epoch: [53],step: [7300], mri_ssim_loss: [0.81488365], pet_ssim_loss: [0.87729228],  total_ssim_loss: [0.84627521], total_l2_loss: [0.30315280], total_loss: [0.84084404]\n",
      "Epoch: [54],step: [7400], mri_ssim_loss: [0.91408825], pet_ssim_loss: [0.92394179],  total_ssim_loss: [0.91904461], total_l2_loss: [0.15455209], total_loss: [0.91139972]\n",
      "Epoch: [55],step: [7500], mri_ssim_loss: [0.79645401], pet_ssim_loss: [0.79811800],  total_ssim_loss: [0.79729104], total_l2_loss: [0.19583957], total_loss: [0.79127651]\n",
      "Epoch: [55],step: [7600], mri_ssim_loss: [0.70248312], pet_ssim_loss: [0.70822138],  total_ssim_loss: [0.70536947], total_l2_loss: [0.05716358], total_loss: [0.69888741]\n",
      "Epoch: [56],step: [7700], mri_ssim_loss: [0.71427608], pet_ssim_loss: [0.75227034],  total_ssim_loss: [0.73338723], total_l2_loss: [0.05372659], total_loss: [0.72659063]\n",
      "Epoch: [57],step: [7800], mri_ssim_loss: [0.82136863], pet_ssim_loss: [0.80565369],  total_ssim_loss: [0.81346405], total_l2_loss: [0.04915480], total_loss: [0.80582100]\n",
      "Epoch: [58],step: [7900], mri_ssim_loss: [0.63938934], pet_ssim_loss: [0.70026106],  total_ssim_loss: [0.67000782], total_l2_loss: [0.06930546], total_loss: [0.66400081]\n",
      "Epoch: [58],step: [8000], mri_ssim_loss: [0.68944591], pet_ssim_loss: [0.72270989],  total_ssim_loss: [0.70617771], total_l2_loss: [0.07662407], total_loss: [0.69988215]\n",
      "Epoch: [59],step: [8100], mri_ssim_loss: [0.77328080], pet_ssim_loss: [0.76794177],  total_ssim_loss: [0.77059531], total_l2_loss: [0.11481381], total_loss: [0.76403755]\n",
      "Epoch: [60],step: [8200], mri_ssim_loss: [0.76045871], pet_ssim_loss: [0.82601488],  total_ssim_loss: [0.79343349], total_l2_loss: [0.06112474], total_loss: [0.78611040]\n",
      "Epoch: [61],step: [8300], mri_ssim_loss: [0.47754997], pet_ssim_loss: [0.47754645],  total_ssim_loss: [0.47754821], total_l2_loss: [0.06444118], total_loss: [0.47341716]\n",
      "Epoch: [61],step: [8400], mri_ssim_loss: [0.62293214], pet_ssim_loss: [0.65425360],  total_ssim_loss: [0.63868690], total_l2_loss: [0.06537446], total_loss: [0.63295376]\n",
      "Epoch: [62],step: [8500], mri_ssim_loss: [0.27316308], pet_ssim_loss: [0.24534678],  total_ssim_loss: [0.25917149], total_l2_loss: [0.05079855], total_loss: [0.25708777]\n",
      "Epoch: [63],step: [8600], mri_ssim_loss: [0.75394821], pet_ssim_loss: [0.70923698],  total_ssim_loss: [0.73145849], total_l2_loss: [0.08634724], total_loss: [0.72500741]\n",
      "Epoch: [63],step: [8700], mri_ssim_loss: [0.70088673], pet_ssim_loss: [0.63394940],  total_ssim_loss: [0.66721725], total_l2_loss: [0.07669196], total_loss: [0.66131204]\n",
      "Epoch: [64],step: [8800], mri_ssim_loss: [0.67939651], pet_ssim_loss: [0.74259591],  total_ssim_loss: [0.71118581], total_l2_loss: [0.06149429], total_loss: [0.70468891]\n",
      "Epoch: [65],step: [8900], mri_ssim_loss: [0.25710499], pet_ssim_loss: [0.22981906],  total_ssim_loss: [0.24338017], total_l2_loss: [0.04995501], total_loss: [0.24144591]\n",
      "Epoch: [66],step: [9000], mri_ssim_loss: [0.70004165], pet_ssim_loss: [0.76549709],  total_ssim_loss: [0.73296577], total_l2_loss: [0.06198146], total_loss: [0.72625595]\n",
      "Epoch: [66],step: [9100], mri_ssim_loss: [0.65923685], pet_ssim_loss: [0.74075729],  total_ssim_loss: [0.70024168], total_l2_loss: [0.06676412], total_loss: [0.69390690]\n",
      "Epoch: [67],step: [9200], mri_ssim_loss: [0.75548542], pet_ssim_loss: [0.78337646],  total_ssim_loss: [0.76951468], total_l2_loss: [0.05288079], total_loss: [0.76234835]\n",
      "Epoch: [68],step: [9300], mri_ssim_loss: [0.80434942], pet_ssim_loss: [0.79495263],  total_ssim_loss: [0.79962289], total_l2_loss: [0.04873917], total_loss: [0.79211408]\n",
      "Epoch: [69],step: [9400], mri_ssim_loss: [0.70645905], pet_ssim_loss: [0.71767867],  total_ssim_loss: [0.71210253], total_l2_loss: [0.06031273], total_loss: [0.70558465]\n",
      "Epoch: [69],step: [9500], mri_ssim_loss: [0.39371026], pet_ssim_loss: [0.63906085],  total_ssim_loss: [0.51712161], total_l2_loss: [0.06451876], total_loss: [0.51259553]\n",
      "Epoch: [70],step: [9600], mri_ssim_loss: [0.67564082], pet_ssim_loss: [0.79169655],  total_ssim_loss: [0.73401690], total_l2_loss: [0.05973867], total_loss: [0.72727412]\n",
      "Epoch: [71],step: [9700], mri_ssim_loss: [0.28435737], pet_ssim_loss: [0.24920380],  total_ssim_loss: [0.26667511], total_l2_loss: [0.05278739], total_loss: [0.26453626]\n",
      "Epoch: [72],step: [9800], mri_ssim_loss: [0.41565859], pet_ssim_loss: [0.45311904],  total_ssim_loss: [0.43450123], total_l2_loss: [0.06163514], total_loss: [0.43077257]\n",
      "Epoch: [72],step: [9900], mri_ssim_loss: [0.48648894], pet_ssim_loss: [0.51147211],  total_ssim_loss: [0.49905550], total_l2_loss: [0.05587083], total_loss: [0.49462366]\n",
      "Epoch: [73],step: [10000], mri_ssim_loss: [0.58987772], pet_ssim_loss: [0.66219610],  total_ssim_loss: [0.62625384], total_l2_loss: [0.06653502], total_loss: [0.62065667]\n",
      "Epoch: [74],step: [10100], mri_ssim_loss: [0.47867453], pet_ssim_loss: [0.48442078],  total_ssim_loss: [0.48156488], total_l2_loss: [0.09950714], total_loss: [0.47774431]\n",
      "Epoch: [74],step: [10200], mri_ssim_loss: [0.33947772], pet_ssim_loss: [0.38116515],  total_ssim_loss: [0.36044651], total_l2_loss: [0.05768934], total_loss: [0.35741892]\n",
      "Epoch: [75],step: [10300], mri_ssim_loss: [0.45660877], pet_ssim_loss: [0.42666161],  total_ssim_loss: [0.44154537], total_l2_loss: [0.07611416], total_loss: [0.43789107]\n",
      "Epoch: [76],step: [10400], mri_ssim_loss: [0.19944388], pet_ssim_loss: [0.19183195],  total_ssim_loss: [0.19561508], total_l2_loss: [0.04653701], total_loss: [0.19412430]\n",
      "Epoch: [77],step: [10500], mri_ssim_loss: [0.53690404], pet_ssim_loss: [0.52972716],  total_ssim_loss: [0.53329408], total_l2_loss: [0.07536614], total_loss: [0.52871478]\n",
      "Epoch: [77],step: [10600], mri_ssim_loss: [0.22464108], pet_ssim_loss: [0.36540437],  total_ssim_loss: [0.29544502], total_l2_loss: [0.05656217], total_loss: [0.29305619]\n",
      "Epoch: [78],step: [10700], mri_ssim_loss: [0.40026367], pet_ssim_loss: [0.47729540],  total_ssim_loss: [0.43901065], total_l2_loss: [0.08040105], total_loss: [0.43542457]\n",
      "Epoch: [79],step: [10800], mri_ssim_loss: [0.21752810], pet_ssim_loss: [0.19392955],  total_ssim_loss: [0.20565805], total_l2_loss: [0.04606967], total_loss: [0.20406216]\n",
      "Epoch: [80],step: [10900], mri_ssim_loss: [0.38137972], pet_ssim_loss: [0.43534201],  total_ssim_loss: [0.40852278], total_l2_loss: [0.06493259], total_loss: [0.40508690]\n",
      "Epoch: [80],step: [11000], mri_ssim_loss: [0.32763195], pet_ssim_loss: [0.39513016],  total_ssim_loss: [0.36158356], total_l2_loss: [0.05925194], total_loss: [0.35856026]\n",
      "Epoch: [81],step: [11100], mri_ssim_loss: [0.28678036], pet_ssim_loss: [0.32959956],  total_ssim_loss: [0.30831844], total_l2_loss: [0.05745996], total_loss: [0.30580986]\n",
      "Epoch: [82],step: [11200], mri_ssim_loss: [0.25055897], pet_ssim_loss: [0.20118308],  total_ssim_loss: [0.22572291], total_l2_loss: [0.04783443], total_loss: [0.22394402]\n",
      "Epoch: [83],step: [11300], mri_ssim_loss: [0.32614160], pet_ssim_loss: [0.38822180],  total_ssim_loss: [0.35736793], total_l2_loss: [0.06914783], total_loss: [0.35448572]\n",
      "Epoch: [83],step: [11400], mri_ssim_loss: [0.54055876], pet_ssim_loss: [0.41141009],  total_ssim_loss: [0.47559699], total_l2_loss: [0.07368174], total_loss: [0.47157782]\n",
      "Epoch: [84],step: [11500], mri_ssim_loss: [0.21660614], pet_ssim_loss: [0.22509420],  total_ssim_loss: [0.22087565], total_l2_loss: [0.04545018], total_loss: [0.21912140]\n",
      "Epoch: [85],step: [11600], mri_ssim_loss: [0.26381415], pet_ssim_loss: [0.27216887],  total_ssim_loss: [0.26801658], total_l2_loss: [0.06022446], total_loss: [0.26593867]\n",
      "Epoch: [86],step: [11700], mri_ssim_loss: [0.27685350], pet_ssim_loss: [0.29592562],  total_ssim_loss: [0.28644678], total_l2_loss: [0.05433466], total_loss: [0.28412569]\n",
      "Epoch: [86],step: [11800], mri_ssim_loss: [0.33733380], pet_ssim_loss: [0.35627258],  total_ssim_loss: [0.34686002], total_l2_loss: [0.06035442], total_loss: [0.34399498]\n",
      "Epoch: [87],step: [11900], mri_ssim_loss: [0.17346078], pet_ssim_loss: [0.16124016],  total_ssim_loss: [0.16731381], total_l2_loss: [0.04235373], total_loss: [0.16606422]\n",
      "Epoch: [88],step: [12000], mri_ssim_loss: [0.43543619], pet_ssim_loss: [0.40984738],  total_ssim_loss: [0.42256504], total_l2_loss: [0.08378706], total_loss: [0.41917726]\n",
      "Epoch: [88],step: [12100], mri_ssim_loss: [0.34467816], pet_ssim_loss: [0.34852779],  total_ssim_loss: [0.34661454], total_l2_loss: [0.06545486], total_loss: [0.34380296]\n",
      "Epoch: [89],step: [12200], mri_ssim_loss: [0.25880539], pet_ssim_loss: [0.34117353],  total_ssim_loss: [0.30023658], total_l2_loss: [0.06054594], total_loss: [0.29783967]\n",
      "Epoch: [90],step: [12300], mri_ssim_loss: [0.19950676], pet_ssim_loss: [0.17527914],  total_ssim_loss: [0.18732026], total_l2_loss: [0.04296476], total_loss: [0.18587671]\n",
      "Epoch: [91],step: [12400], mri_ssim_loss: [0.36732078], pet_ssim_loss: [0.35357130],  total_ssim_loss: [0.36040479], total_l2_loss: [0.05689917], total_loss: [0.35736972]\n",
      "Epoch: [91],step: [12500], mri_ssim_loss: [0.23628849], pet_ssim_loss: [0.31049353],  total_ssim_loss: [0.27361363], total_l2_loss: [0.06234417], total_loss: [0.27150095]\n",
      "Epoch: [92],step: [12600], mri_ssim_loss: [0.22637677], pet_ssim_loss: [0.26680112],  total_ssim_loss: [0.24671024], total_l2_loss: [0.05183622], total_loss: [0.24476151]\n",
      "Epoch: [93],step: [12700], mri_ssim_loss: [0.20537102], pet_ssim_loss: [0.17892385],  total_ssim_loss: [0.19206810], total_l2_loss: [0.04200225], total_loss: [0.19056743]\n",
      "Epoch: [94],step: [12800], mri_ssim_loss: [0.34399354], pet_ssim_loss: [0.36461747],  total_ssim_loss: [0.35436738], total_l2_loss: [0.05732995], total_loss: [0.35139701]\n",
      "Epoch: [94],step: [12900], mri_ssim_loss: [0.40808010], pet_ssim_loss: [0.32985139],  total_ssim_loss: [0.36873108], total_l2_loss: [0.05355027], total_loss: [0.36557925]\n",
      "Epoch: [95],step: [13000], mri_ssim_loss: [0.22461784], pet_ssim_loss: [0.33088666],  total_ssim_loss: [0.27807108], total_l2_loss: [0.05620876], total_loss: [0.27585247]\n",
      "Epoch: [96],step: [13100], mri_ssim_loss: [0.25631523], pet_ssim_loss: [0.20240378],  total_ssim_loss: [0.22919777], total_l2_loss: [0.04514164], total_loss: [0.22735721]\n",
      "Epoch: [97],step: [13200], mri_ssim_loss: [0.32093340], pet_ssim_loss: [0.36475873],  total_ssim_loss: [0.34297755], total_l2_loss: [0.05251477], total_loss: [0.34007293]\n",
      "Epoch: [97],step: [13300], mri_ssim_loss: [0.56350410], pet_ssim_loss: [0.38547868],  total_ssim_loss: [0.47395733], total_l2_loss: [0.04704501], total_loss: [0.46968821]\n",
      "Epoch: [98],step: [13400], mri_ssim_loss: [0.37112331], pet_ssim_loss: [0.42737246],  total_ssim_loss: [0.39941663], total_l2_loss: [0.05900898], total_loss: [0.39601254]\n",
      "Epoch: [99],step: [13500], mri_ssim_loss: [0.35366142], pet_ssim_loss: [0.36130607],  total_ssim_loss: [0.35750669], total_l2_loss: [0.08413783], total_loss: [0.35477301]\n",
      "Epoch: [99],step: [13600], mri_ssim_loss: [0.25664592], pet_ssim_loss: [0.33409840],  total_ssim_loss: [0.29560453], total_l2_loss: [0.04714625], total_loss: [0.29311997]\n",
      "Epoch: [100],step: [13700], mri_ssim_loss: [0.41396523], pet_ssim_loss: [0.36461598],  total_ssim_loss: [0.38914257], total_l2_loss: [0.06405853], total_loss: [0.38589174]\n",
      "Epoch: [101],step: [13800], mri_ssim_loss: [0.16559017], pet_ssim_loss: [0.16115868],  total_ssim_loss: [0.16336113], total_l2_loss: [0.03745440], total_loss: [0.16210206]\n",
      "Epoch: [102],step: [13900], mri_ssim_loss: [0.41714990], pet_ssim_loss: [0.43331504],  total_ssim_loss: [0.42528099], total_l2_loss: [0.06363858], total_loss: [0.42166460]\n",
      "Epoch: [102],step: [14000], mri_ssim_loss: [0.16601086], pet_ssim_loss: [0.29093850],  total_ssim_loss: [0.22884947], total_l2_loss: [0.04577602], total_loss: [0.22701874]\n",
      "Epoch: [103],step: [14100], mri_ssim_loss: [0.30611098], pet_ssim_loss: [0.37598968],  total_ssim_loss: [0.34125996], total_l2_loss: [0.06601845], total_loss: [0.33850753]\n",
      "Epoch: [104],step: [14200], mri_ssim_loss: [0.19400561], pet_ssim_loss: [0.17045695],  total_ssim_loss: [0.18216065], total_l2_loss: [0.03781341], total_loss: [0.18071717]\n",
      "Epoch: [105],step: [14300], mri_ssim_loss: [0.37804842], pet_ssim_loss: [0.37615973],  total_ssim_loss: [0.37709841], total_l2_loss: [0.05437334], total_loss: [0.37387118]\n",
      "Epoch: [105],step: [14400], mri_ssim_loss: [0.25558698], pet_ssim_loss: [0.32007456],  total_ssim_loss: [0.28802425], total_l2_loss: [0.04912267], total_loss: [0.28563523]\n",
      "Epoch: [106],step: [14500], mri_ssim_loss: [0.25134361], pet_ssim_loss: [0.27665818],  total_ssim_loss: [0.26407683], total_l2_loss: [0.04771575], total_loss: [0.26191324]\n",
      "Epoch: [107],step: [14600], mri_ssim_loss: [0.21771628], pet_ssim_loss: [0.18742621],  total_ssim_loss: [0.20248038], total_l2_loss: [0.03939294], total_loss: [0.20084950]\n",
      "Epoch: [108],step: [14700], mri_ssim_loss: [0.29712790], pet_ssim_loss: [0.36011338],  total_ssim_loss: [0.32880962], total_l2_loss: [0.05761677], total_loss: [0.32609770]\n",
      "Epoch: [108],step: [14800], mri_ssim_loss: [0.56504852], pet_ssim_loss: [0.35313457],  total_ssim_loss: [0.45845583], total_l2_loss: [0.06190363], total_loss: [0.45449030]\n",
      "Epoch: [109],step: [14900], mri_ssim_loss: [0.19964707], pet_ssim_loss: [0.20286345],  total_ssim_loss: [0.20126492], total_l2_loss: [0.03666358], total_loss: [0.19961892]\n",
      "Epoch: [110],step: [15000], mri_ssim_loss: [0.24481344], pet_ssim_loss: [0.25054216],  total_ssim_loss: [0.24769500], total_l2_loss: [0.05040353], total_loss: [0.24572209]\n",
      "Epoch: [111],step: [15100], mri_ssim_loss: [0.26531971], pet_ssim_loss: [0.26348817],  total_ssim_loss: [0.26439846], total_l2_loss: [0.04453818], total_loss: [0.26219988]\n",
      "Epoch: [111],step: [15200], mri_ssim_loss: [0.29560697], pet_ssim_loss: [0.30320662],  total_ssim_loss: [0.29942960], total_l2_loss: [0.05010510], total_loss: [0.29693633]\n",
      "Epoch: [112],step: [15300], mri_ssim_loss: [0.15338033], pet_ssim_loss: [0.15153694],  total_ssim_loss: [0.15245311], total_l2_loss: [0.03761922], total_loss: [0.15130478]\n",
      "Epoch: [113],step: [15400], mri_ssim_loss: [0.36561930], pet_ssim_loss: [0.37872422],  total_ssim_loss: [0.37221110], total_l2_loss: [0.07175663], total_loss: [0.36920658]\n",
      "Epoch: [113],step: [15500], mri_ssim_loss: [0.32258666], pet_ssim_loss: [0.31495643],  total_ssim_loss: [0.31874865], total_l2_loss: [0.05381522], total_loss: [0.31609932]\n",
      "Epoch: [114],step: [15600], mri_ssim_loss: [0.22558963], pet_ssim_loss: [0.30838799],  total_ssim_loss: [0.26723722], total_l2_loss: [0.04729758], total_loss: [0.26503780]\n",
      "Epoch: [115],step: [15700], mri_ssim_loss: [0.16196561], pet_ssim_loss: [0.15902334],  total_ssim_loss: [0.16048566], total_l2_loss: [0.03480243], total_loss: [0.15922883]\n",
      "Epoch: [116],step: [15800], mri_ssim_loss: [0.34553277], pet_ssim_loss: [0.30593419],  total_ssim_loss: [0.32561469], total_l2_loss: [0.04514282], total_loss: [0.32280996]\n",
      "Epoch: [116],step: [15900], mri_ssim_loss: [0.21678591], pet_ssim_loss: [0.28516507],  total_ssim_loss: [0.25118065], total_l2_loss: [0.05048572], total_loss: [0.24917370]\n",
      "Epoch: [117],step: [16000], mri_ssim_loss: [0.20652270], pet_ssim_loss: [0.24010885],  total_ssim_loss: [0.22341654], total_l2_loss: [0.04221838], total_loss: [0.22160456]\n",
      "Epoch: [118],step: [16100], mri_ssim_loss: [0.17879725], pet_ssim_loss: [0.17084181],  total_ssim_loss: [0.17479566], total_l2_loss: [0.03547025], total_loss: [0.17340241]\n",
      "Epoch: [119],step: [16200], mri_ssim_loss: [0.26740003], pet_ssim_loss: [0.28426319],  total_ssim_loss: [0.27588218], total_l2_loss: [0.04658236], total_loss: [0.27358916]\n",
      "Epoch: [119],step: [16300], mri_ssim_loss: [0.29821074], pet_ssim_loss: [0.40049338],  total_ssim_loss: [0.34965891], total_l2_loss: [0.04357490], total_loss: [0.34659806]\n",
      "Epoch: [120],step: [16400], mri_ssim_loss: [0.20693666], pet_ssim_loss: [0.29586267],  total_ssim_loss: [0.25166646], total_l2_loss: [0.04444031], total_loss: [0.24959420]\n",
      "Epoch: [121],step: [16500], mri_ssim_loss: [0.24238122], pet_ssim_loss: [0.22160912],  total_ssim_loss: [0.23193285], total_l2_loss: [0.03838307], total_loss: [0.22999735]\n",
      "Epoch: [122],step: [16600], mri_ssim_loss: [0.29914933], pet_ssim_loss: [0.33930635],  total_ssim_loss: [0.31934834], total_l2_loss: [0.04184134], total_loss: [0.31657329]\n",
      "Epoch: [122],step: [16700], mri_ssim_loss: [0.50161910], pet_ssim_loss: [0.38518131],  total_ssim_loss: [0.44305092], total_l2_loss: [0.03665396], total_loss: [0.43898696]\n",
      "Epoch: [123],step: [16800], mri_ssim_loss: [0.37814903], pet_ssim_loss: [0.43911088],  total_ssim_loss: [0.40881285], total_l2_loss: [0.04754245], total_loss: [0.40520015]\n",
      "Epoch: [124],step: [16900], mri_ssim_loss: [0.32316273], pet_ssim_loss: [0.34245783],  total_ssim_loss: [0.33286816], total_l2_loss: [0.07243060], total_loss: [0.33026379]\n",
      "Epoch: [124],step: [17000], mri_ssim_loss: [0.22798407], pet_ssim_loss: [0.32705510],  total_ssim_loss: [0.27781680], total_l2_loss: [0.04075092], total_loss: [0.27544615]\n",
      "Epoch: [125],step: [17100], mri_ssim_loss: [0.44635749], pet_ssim_loss: [0.40408844],  total_ssim_loss: [0.42509615], total_l2_loss: [0.05296424], total_loss: [0.42137486]\n",
      "Epoch: [126],step: [17200], mri_ssim_loss: [0.15470839], pet_ssim_loss: [0.15629917],  total_ssim_loss: [0.15550855], total_l2_loss: [0.03501239], total_loss: [0.15430358]\n",
      "Epoch: [127],step: [17300], mri_ssim_loss: [0.34920025], pet_ssim_loss: [0.38220668],  total_ssim_loss: [0.36580250], total_l2_loss: [0.05319435], total_loss: [0.36267641]\n",
      "Epoch: [127],step: [17400], mri_ssim_loss: [0.25159144], pet_ssim_loss: [0.35677063],  total_ssim_loss: [0.30449659], total_l2_loss: [0.03791665], total_loss: [0.30183080]\n",
      "Epoch: [128],step: [17500], mri_ssim_loss: [0.28802192], pet_ssim_loss: [0.37086940],  total_ssim_loss: [0.32969421], total_l2_loss: [0.05544737], total_loss: [0.32695174]\n",
      "Epoch: [129],step: [17600], mri_ssim_loss: [0.17838007], pet_ssim_loss: [0.15638316],  total_ssim_loss: [0.16731563], total_l2_loss: [0.03370875], total_loss: [0.16597956]\n",
      "Epoch: [130],step: [17700], mri_ssim_loss: [0.39754224], pet_ssim_loss: [0.40254939],  total_ssim_loss: [0.40006083], total_l2_loss: [0.04479558], total_loss: [0.39650819]\n",
      "Epoch: [130],step: [17800], mri_ssim_loss: [0.24324739], pet_ssim_loss: [0.30847836],  total_ssim_loss: [0.27605855], total_l2_loss: [0.04034472], total_loss: [0.27370140]\n",
      "Epoch: [131],step: [17900], mri_ssim_loss: [0.22638839], pet_ssim_loss: [0.24459004],  total_ssim_loss: [0.23554383], total_l2_loss: [0.03943317], total_loss: [0.23358272]\n",
      "Epoch: [132],step: [18000], mri_ssim_loss: [0.21863210], pet_ssim_loss: [0.18607515],  total_ssim_loss: [0.20225596], total_l2_loss: [0.03510955], total_loss: [0.20058450]\n",
      "Epoch: [133],step: [18100], mri_ssim_loss: [0.28136110], pet_ssim_loss: [0.33644730],  total_ssim_loss: [0.30906945], total_l2_loss: [0.04734793], total_loss: [0.30645224]\n",
      "Epoch: [133],step: [18200], mri_ssim_loss: [0.55747133], pet_ssim_loss: [0.32887757],  total_ssim_loss: [0.44248867], total_l2_loss: [0.05120505], total_loss: [0.43857586]\n",
      "Epoch: [134],step: [18300], mri_ssim_loss: [0.19223744], pet_ssim_loss: [0.19074434],  total_ssim_loss: [0.19148642], total_l2_loss: [0.03162869], total_loss: [0.18988785]\n",
      "Epoch: [135],step: [18400], mri_ssim_loss: [0.23017955], pet_ssim_loss: [0.24612296],  total_ssim_loss: [0.23819908], total_l2_loss: [0.04354199], total_loss: [0.23625252]\n",
      "Epoch: [136],step: [18500], mri_ssim_loss: [0.29168499], pet_ssim_loss: [0.27955508],  total_ssim_loss: [0.28558365], total_l2_loss: [0.03628802], total_loss: [0.28309068]\n",
      "Epoch: [136],step: [18600], mri_ssim_loss: [0.27530766], pet_ssim_loss: [0.28142619],  total_ssim_loss: [0.27838528], total_l2_loss: [0.03994337], total_loss: [0.27600086]\n",
      "Epoch: [137],step: [18700], mri_ssim_loss: [0.14737809], pet_ssim_loss: [0.13798940],  total_ssim_loss: [0.14265558], total_l2_loss: [0.03359656], total_loss: [0.14156500]\n",
      "Epoch: [138],step: [18800], mri_ssim_loss: [0.35415339], pet_ssim_loss: [0.35660315],  total_ssim_loss: [0.35538563], total_l2_loss: [0.06220355], total_loss: [0.35245380]\n",
      "Epoch: [138],step: [18900], mri_ssim_loss: [0.29988539], pet_ssim_loss: [0.29544950],  total_ssim_loss: [0.29765415], total_l2_loss: [0.04544757], total_loss: [0.29513210]\n",
      "Epoch: [139],step: [19000], mri_ssim_loss: [0.24926531], pet_ssim_loss: [0.32441342],  total_ssim_loss: [0.28706482], total_l2_loss: [0.04009126], total_loss: [0.28459507]\n",
      "Epoch: [140],step: [19100], mri_ssim_loss: [0.16000509], pet_ssim_loss: [0.15112329],  total_ssim_loss: [0.15553755], total_l2_loss: [0.03170177], total_loss: [0.15429920]\n",
      "Epoch: [141],step: [19200], mri_ssim_loss: [0.34551132], pet_ssim_loss: [0.28720760],  total_ssim_loss: [0.31618458], total_l2_loss: [0.03830194], total_loss: [0.31340575]\n",
      "Epoch: [141],step: [19300], mri_ssim_loss: [0.20008039], pet_ssim_loss: [0.27019083],  total_ssim_loss: [0.23534596], total_l2_loss: [0.04363685], total_loss: [0.23342887]\n",
      "Epoch: [142],step: [19400], mri_ssim_loss: [0.19853866], pet_ssim_loss: [0.23914886],  total_ssim_loss: [0.21896559], total_l2_loss: [0.03716245], total_loss: [0.21714756]\n",
      "Epoch: [143],step: [19500], mri_ssim_loss: [0.17304587], pet_ssim_loss: [0.15930486],  total_ssim_loss: [0.16613415], total_l2_loss: [0.03135142], total_loss: [0.16478632]\n",
      "Epoch: [144],step: [19600], mri_ssim_loss: [0.28959739], pet_ssim_loss: [0.29088455],  total_ssim_loss: [0.29024485], total_l2_loss: [0.04045061], total_loss: [0.28774691]\n",
      "Epoch: [144],step: [19700], mri_ssim_loss: [0.33825660], pet_ssim_loss: [0.31198680],  total_ssim_loss: [0.32504290], total_l2_loss: [0.03839278], total_loss: [0.32217640]\n",
      "Epoch: [145],step: [19800], mri_ssim_loss: [0.47663277], pet_ssim_loss: [0.54477048],  total_ssim_loss: [0.51090604], total_l2_loss: [0.03792809], total_loss: [0.50617623]\n",
      "Epoch: [146],step: [19900], mri_ssim_loss: [0.23515850], pet_ssim_loss: [0.19349086],  total_ssim_loss: [0.21419969], total_l2_loss: [0.03499565], total_loss: [0.21240765]\n",
      "Epoch: [147],step: [20000], mri_ssim_loss: [0.31137663], pet_ssim_loss: [0.34025657],  total_ssim_loss: [0.32590324], total_l2_loss: [0.03661863], total_loss: [0.32301039]\n",
      "Epoch: [147],step: [20100], mri_ssim_loss: [0.48198783], pet_ssim_loss: [0.39596587],  total_ssim_loss: [0.43871880], total_l2_loss: [0.03257548], total_loss: [0.43465739]\n",
      "Epoch: [148],step: [20200], mri_ssim_loss: [0.30320823], pet_ssim_loss: [0.31984222],  total_ssim_loss: [0.31157511], total_l2_loss: [0.04280099], total_loss: [0.30888739]\n",
      "Epoch: [149],step: [20300], mri_ssim_loss: [0.31323898], pet_ssim_loss: [0.32315427],  total_ssim_loss: [0.31822640], total_l2_loss: [0.06588317], total_loss: [0.31570297]\n",
      "Epoch: [149],step: [20400], mri_ssim_loss: [0.21370530], pet_ssim_loss: [0.31075096],  total_ssim_loss: [0.26251927], total_l2_loss: [0.03584611], total_loss: [0.26025254]\n",
      "Epoch: [150],step: [20500], mri_ssim_loss: [0.37699568], pet_ssim_loss: [0.32174861],  total_ssim_loss: [0.34920642], total_l2_loss: [0.04680875], total_loss: [0.34618244]\n",
      "Epoch: [151],step: [20600], mri_ssim_loss: [0.15207148], pet_ssim_loss: [0.14749682],  total_ssim_loss: [0.14977042], total_l2_loss: [0.03173631], total_loss: [0.14859009]\n",
      "Epoch: [152],step: [20700], mri_ssim_loss: [0.35176867], pet_ssim_loss: [0.40231651],  total_ssim_loss: [0.37719426], total_l2_loss: [0.04813622], total_loss: [0.37390369]\n",
      "Epoch: [152],step: [20800], mri_ssim_loss: [0.15027666], pet_ssim_loss: [0.23679453],  total_ssim_loss: [0.19379516], total_l2_loss: [0.03422750], total_loss: [0.19219948]\n",
      "Epoch: [153],step: [20900], mri_ssim_loss: [0.26528311], pet_ssim_loss: [0.34758627],  total_ssim_loss: [0.30668163], total_l2_loss: [0.05025471], total_loss: [0.30411738]\n",
      "Epoch: [154],step: [21000], mri_ssim_loss: [0.17697430], pet_ssim_loss: [0.14902049],  total_ssim_loss: [0.16291353], total_l2_loss: [0.03057994], total_loss: [0.16159020]\n",
      "Epoch: [155],step: [21100], mri_ssim_loss: [0.36620116], pet_ssim_loss: [0.32768130],  total_ssim_loss: [0.34682566], total_l2_loss: [0.03957830], total_loss: [0.34375319]\n",
      "Epoch: [155],step: [21200], mri_ssim_loss: [0.23266673], pet_ssim_loss: [0.28749925],  total_ssim_loss: [0.26024750], total_l2_loss: [0.03563217], total_loss: [0.25800136]\n",
      "Epoch: [156],step: [21300], mri_ssim_loss: [0.23922646], pet_ssim_loss: [0.23372924],  total_ssim_loss: [0.23646137], total_l2_loss: [0.03508330], total_loss: [0.23444760]\n",
      "Epoch: [157],step: [21400], mri_ssim_loss: [0.20562792], pet_ssim_loss: [0.16452098],  total_ssim_loss: [0.18495113], total_l2_loss: [0.03196255], total_loss: [0.18342125]\n",
      "Epoch: [158],step: [21500], mri_ssim_loss: [0.29019642], pet_ssim_loss: [0.28871953],  total_ssim_loss: [0.28945357], total_l2_loss: [0.04220238], total_loss: [0.28698108]\n",
      "Epoch: [158],step: [21600], mri_ssim_loss: [0.39557958], pet_ssim_loss: [0.45148605],  total_ssim_loss: [0.42370057], total_l2_loss: [0.04732875], total_loss: [0.41993687]\n",
      "Epoch: [159],step: [21700], mri_ssim_loss: [0.38995802], pet_ssim_loss: [0.37584352],  total_ssim_loss: [0.38285846], total_l2_loss: [0.03019798], total_loss: [0.37933186]\n",
      "Epoch: [160],step: [21800], mri_ssim_loss: [0.22453791], pet_ssim_loss: [0.23087871],  total_ssim_loss: [0.22772734], total_l2_loss: [0.03912241], total_loss: [0.22584130]\n",
      "Epoch: [161],step: [21900], mri_ssim_loss: [0.23270905], pet_ssim_loss: [0.22926331],  total_ssim_loss: [0.23097584], total_l2_loss: [0.03309493], total_loss: [0.22899704]\n",
      "Epoch: [161],step: [22000], mri_ssim_loss: [0.28564793], pet_ssim_loss: [0.28984994],  total_ssim_loss: [0.28776157], total_l2_loss: [0.03644322], total_loss: [0.28524837]\n",
      "Epoch: [162],step: [22100], mri_ssim_loss: [0.15019172], pet_ssim_loss: [0.13517368],  total_ssim_loss: [0.14263764], total_l2_loss: [0.03360062], total_loss: [0.14154728]\n",
      "Epoch: [163],step: [22200], mri_ssim_loss: [0.36422253], pet_ssim_loss: [0.37053692],  total_ssim_loss: [0.36739868], total_l2_loss: [0.05822252], total_loss: [0.36430693]\n",
      "Epoch: [163],step: [22300], mri_ssim_loss: [0.30347598], pet_ssim_loss: [0.30510449],  total_ssim_loss: [0.30429512], total_l2_loss: [0.04261869], total_loss: [0.30167836]\n",
      "Epoch: [164],step: [22400], mri_ssim_loss: [0.22030985], pet_ssim_loss: [0.30786628],  total_ssim_loss: [0.26435074], total_l2_loss: [0.03670860], total_loss: [0.26207432]\n",
      "Epoch: [165],step: [22500], mri_ssim_loss: [0.15885818], pet_ssim_loss: [0.14671314],  total_ssim_loss: [0.15274923], total_l2_loss: [0.03037605], total_loss: [0.15152550]\n",
      "Epoch: [166],step: [22600], mri_ssim_loss: [0.35754955], pet_ssim_loss: [0.25541377],  total_ssim_loss: [0.30617526], total_l2_loss: [0.03586434], total_loss: [0.30347216]\n",
      "Epoch: [166],step: [22700], mri_ssim_loss: [0.20011961], pet_ssim_loss: [0.25588971],  total_ssim_loss: [0.22817197], total_l2_loss: [0.04036121], total_loss: [0.22629388]\n",
      "Epoch: [167],step: [22800], mri_ssim_loss: [0.19123167], pet_ssim_loss: [0.22298574],  total_ssim_loss: [0.20720398], total_l2_loss: [0.03399530], total_loss: [0.20547190]\n",
      "Epoch: [168],step: [22900], mri_ssim_loss: [0.18026173], pet_ssim_loss: [0.16043770],  total_ssim_loss: [0.17029025], total_l2_loss: [0.03072709], total_loss: [0.16889462]\n",
      "Epoch: [169],step: [23000], mri_ssim_loss: [0.28018981], pet_ssim_loss: [0.28569537],  total_ssim_loss: [0.28295910], total_l2_loss: [0.03717732], total_loss: [0.28050131]\n",
      "Epoch: [169],step: [23100], mri_ssim_loss: [0.33187735], pet_ssim_loss: [0.32879627],  total_ssim_loss: [0.33032757], total_l2_loss: [0.03480858], total_loss: [0.32737240]\n",
      "Epoch: [170],step: [23200], mri_ssim_loss: [0.19920886], pet_ssim_loss: [0.26491499],  total_ssim_loss: [0.23225905], total_l2_loss: [0.03603999], total_loss: [0.23029687]\n",
      "Epoch: [171],step: [23300], mri_ssim_loss: [0.23730040], pet_ssim_loss: [0.19751585],  total_ssim_loss: [0.21728878], total_l2_loss: [0.03348093], total_loss: [0.21545070]\n",
      "Epoch: [172],step: [23400], mri_ssim_loss: [0.30715156], pet_ssim_loss: [0.30443251],  total_ssim_loss: [0.30578387], total_l2_loss: [0.03401409], total_loss: [0.30306616]\n",
      "Epoch: [172],step: [23500], mri_ssim_loss: [0.46688145], pet_ssim_loss: [0.40863013],  total_ssim_loss: [0.43758106], total_l2_loss: [0.03045620], total_loss: [0.43350980]\n",
      "Epoch: [173],step: [23600], mri_ssim_loss: [0.45940638], pet_ssim_loss: [0.43742871],  total_ssim_loss: [0.44835162], total_l2_loss: [0.04135213], total_loss: [0.44428161]\n",
      "Epoch: [174],step: [23700], mri_ssim_loss: [0.31102061], pet_ssim_loss: [0.31233156],  total_ssim_loss: [0.31168002], total_l2_loss: [0.06115197], total_loss: [0.30917475]\n",
      "Epoch: [174],step: [23800], mri_ssim_loss: [0.23634064], pet_ssim_loss: [0.33070344],  total_ssim_loss: [0.28380513], total_l2_loss: [0.03395178], total_loss: [0.28130659]\n",
      "Epoch: [175],step: [23900], mri_ssim_loss: [0.42137110], pet_ssim_loss: [0.35882366],  total_ssim_loss: [0.38990974], total_l2_loss: [0.04442857], total_loss: [0.38645494]\n",
      "Epoch: [176],step: [24000], mri_ssim_loss: [0.15811574], pet_ssim_loss: [0.13934010],  total_ssim_loss: [0.14867160], total_l2_loss: [0.03118636], total_loss: [0.14749674]\n",
      "Epoch: [177],step: [24100], mri_ssim_loss: [0.31808531], pet_ssim_loss: [0.36761153],  total_ssim_loss: [0.34299701], total_l2_loss: [0.04477388], total_loss: [0.34001479]\n",
      "Epoch: [177],step: [24200], mri_ssim_loss: [0.23122823], pet_ssim_loss: [0.29664171],  total_ssim_loss: [0.26413122], total_l2_loss: [0.03158151], total_loss: [0.26180571]\n",
      "Epoch: [178],step: [24300], mri_ssim_loss: [0.27522743], pet_ssim_loss: [0.35485220],  total_ssim_loss: [0.31527871], total_l2_loss: [0.04719909], total_loss: [0.31259790]\n",
      "Epoch: [179],step: [24400], mri_ssim_loss: [0.17244434], pet_ssim_loss: [0.14685768],  total_ssim_loss: [0.15957426], total_l2_loss: [0.02939148], total_loss: [0.15827243]\n",
      "Epoch: [180],step: [24500], mri_ssim_loss: [0.36012268], pet_ssim_loss: [0.31279755],  total_ssim_loss: [0.33631814], total_l2_loss: [0.03680593], total_loss: [0.33332300]\n",
      "Epoch: [180],step: [24600], mri_ssim_loss: [0.23942173], pet_ssim_loss: [0.27848566],  total_ssim_loss: [0.25907087], total_l2_loss: [0.03374366], total_loss: [0.25681758]\n",
      "Epoch: [181],step: [24700], mri_ssim_loss: [0.22591668], pet_ssim_loss: [0.23519897],  total_ssim_loss: [0.23058568], total_l2_loss: [0.03282475], total_loss: [0.22860807]\n",
      "Epoch: [182],step: [24800], mri_ssim_loss: [0.20317352], pet_ssim_loss: [0.16682047],  total_ssim_loss: [0.18488795], total_l2_loss: [0.03178499], total_loss: [0.18335693]\n",
      "Epoch: [183],step: [24900], mri_ssim_loss: [0.30531389], pet_ssim_loss: [0.34334862],  total_ssim_loss: [0.32444537], total_l2_loss: [0.03950526], total_loss: [0.32159597]\n",
      "Epoch: [183],step: [25000], mri_ssim_loss: [0.46363008], pet_ssim_loss: [0.36012602],  total_ssim_loss: [0.41156754], total_l2_loss: [0.04368022], total_loss: [0.40788868]\n",
      "Epoch: [184],step: [25100], mri_ssim_loss: [0.20066226], pet_ssim_loss: [0.17799962],  total_ssim_loss: [0.18926296], total_l2_loss: [0.02753459], total_loss: [0.18764567]\n",
      "Epoch: [185],step: [25200], mri_ssim_loss: [0.23470259], pet_ssim_loss: [0.25108433],  total_ssim_loss: [0.24294260], total_l2_loss: [0.03665537], total_loss: [0.24087973]\n",
      "Epoch: [186],step: [25300], mri_ssim_loss: [0.26239222], pet_ssim_loss: [0.26044548],  total_ssim_loss: [0.26141304], total_l2_loss: [0.02988426], total_loss: [0.25909773]\n",
      "Epoch: [186],step: [25400], mri_ssim_loss: [0.26786172], pet_ssim_loss: [0.26121175],  total_ssim_loss: [0.26451677], total_l2_loss: [0.03363619], total_loss: [0.26220796]\n",
      "Epoch: [187],step: [25500], mri_ssim_loss: [0.14364815], pet_ssim_loss: [0.13029039],  total_ssim_loss: [0.13692920], total_l2_loss: [0.03200039], total_loss: [0.13587990]\n",
      "Epoch: [188],step: [25600], mri_ssim_loss: [0.37991279], pet_ssim_loss: [0.36422873],  total_ssim_loss: [0.37202370], total_l2_loss: [0.05507125], total_loss: [0.36885419]\n",
      "Epoch: [188],step: [25700], mri_ssim_loss: [0.29435539], pet_ssim_loss: [0.29043722],  total_ssim_loss: [0.29238456], total_l2_loss: [0.03989878], total_loss: [0.28985971]\n",
      "Epoch: [189],step: [25800], mri_ssim_loss: [0.20839250], pet_ssim_loss: [0.26646829],  total_ssim_loss: [0.23760463], total_l2_loss: [0.03382104], total_loss: [0.23556679]\n",
      "Epoch: [190],step: [25900], mri_ssim_loss: [0.16061127], pet_ssim_loss: [0.14316285],  total_ssim_loss: [0.15183473], total_l2_loss: [0.02981676], total_loss: [0.15061456]\n",
      "Epoch: [191],step: [26000], mri_ssim_loss: [0.34770966], pet_ssim_loss: [0.25955403],  total_ssim_loss: [0.30336738], total_l2_loss: [0.03352027], total_loss: [0.30066893]\n",
      "Epoch: [191],step: [26100], mri_ssim_loss: [0.26526606], pet_ssim_loss: [0.29434657],  total_ssim_loss: [0.27989358], total_l2_loss: [0.03869898], total_loss: [0.27748162]\n",
      "Epoch: [192],step: [26200], mri_ssim_loss: [0.20188057], pet_ssim_loss: [0.21401215],  total_ssim_loss: [0.20798275], total_l2_loss: [0.03214881], total_loss: [0.20622441]\n",
      "Epoch: [193],step: [26300], mri_ssim_loss: [0.21417868], pet_ssim_loss: [0.20504910],  total_ssim_loss: [0.20958650], total_l2_loss: [0.02987489], total_loss: [0.20778939]\n",
      "Epoch: [194],step: [26400], mri_ssim_loss: [0.31582415], pet_ssim_loss: [0.27047324],  total_ssim_loss: [0.29301265], total_l2_loss: [0.03502757], total_loss: [0.29043278]\n",
      "Epoch: [194],step: [26500], mri_ssim_loss: [0.33919168], pet_ssim_loss: [0.34749377],  total_ssim_loss: [0.34336764], total_l2_loss: [0.03306314], total_loss: [0.34026459]\n",
      "Epoch: [195],step: [26600], mri_ssim_loss: [0.21399689], pet_ssim_loss: [0.26119161],  total_ssim_loss: [0.23773584], total_l2_loss: [0.03389573], total_loss: [0.23569743]\n",
      "Epoch: [196],step: [26700], mri_ssim_loss: [0.30058599], pet_ssim_loss: [0.25671947],  total_ssim_loss: [0.27852112], total_l2_loss: [0.03304895], total_loss: [0.27606639]\n",
      "Epoch: [197],step: [26800], mri_ssim_loss: [0.30850434], pet_ssim_loss: [0.30710101],  total_ssim_loss: [0.30779848], total_l2_loss: [0.03194618], total_loss: [0.30503994]\n",
      "Epoch: [197],step: [26900], mri_ssim_loss: [0.42098868], pet_ssim_loss: [0.43587255],  total_ssim_loss: [0.42847526], total_l2_loss: [0.02853701], total_loss: [0.42447588]\n",
      "Epoch: [198],step: [27000], mri_ssim_loss: [0.48602855], pet_ssim_loss: [0.45468897],  total_ssim_loss: [0.47026476], total_l2_loss: [0.03881953], total_loss: [0.46595031]\n",
      "Epoch: [199],step: [27100], mri_ssim_loss: [0.36179566], pet_ssim_loss: [0.35943758],  total_ssim_loss: [0.36060956], total_l2_loss: [0.05850190], total_loss: [0.35758850]\n",
      "Epoch: [199],step: [27200], mri_ssim_loss: [0.23286355], pet_ssim_loss: [0.33203757],  total_ssim_loss: [0.28274807], total_l2_loss: [0.03275798], total_loss: [0.28024819]\n"
     ]
    },
    {
     "name": "stderr",
     "output_type": "stream",
     "text": [
      "/software/ml/JupyterHub/conda-env-20191018-0822/lib/python3.6/site-packages/torch/serialization.py:256: UserWarning: Couldn't retrieve source code for container of type DeepFuse. It won't be checked for correctness upon loading.\n",
      "  \"type \" + obj.__name__ + \". It won't be checked \"\n",
      "/software/ml/JupyterHub/conda-env-20191018-0822/lib/python3.6/site-packages/torch/serialization.py:256: UserWarning: Couldn't retrieve source code for container of type ConvLayer_DeepFuse. It won't be checked for correctness upon loading.\n",
      "  \"type \" + obj.__name__ + \". It won't be checked \"\n",
      "/software/ml/JupyterHub/conda-env-20191018-0822/lib/python3.6/site-packages/torch/serialization.py:256: UserWarning: Couldn't retrieve source code for container of type FusionLayer. It won't be checked for correctness upon loading.\n",
      "  \"type \" + obj.__name__ + \". It won't be checked \"\n"
     ]
    }
   ],
   "source": [
    "# perform the training\n",
    "counter = 0\n",
    "start_time = time.time()\n",
    "lamda = 0.99\n",
    "gamma_ssim = 0.497\n",
    "gamma_l2 = 0.5\n",
    "ep_ssim_mri_loss = []\n",
    "ep_ssim_pet_loss = []\n",
    "ep_l2_mri_loss = []\n",
    "ep_l2_pet_loss = []\n",
    "for epoch in range(EPOCH):\n",
    "    ssim_mri_Loss = []\n",
    "    ssim_pet_Loss = []\n",
    "    l2_mri_Loss = []\n",
    "    l2_pet_Loss = []\n",
    "    #run batch images\n",
    "    batch_idxs = 272 // batch_size\n",
    "    for idx in range(0, batch_idxs):\n",
    "        b_x = train_mri_tensor[idx*batch_size : (idx+1)*batch_size,:,:,:].to(device)\n",
    "        b_y = train_pet_tensor[idx*batch_size : (idx+1)*batch_size,:,:,:].to(device)\n",
    "        counter += 1\n",
    "        cnn.setInput(b_x,b_y)               # cnn output\n",
    "        output = cnn.forward()\n",
    "        ssim_loss_mri = 1 - ssim(output, b_x,data_range=1)\n",
    "        ssim_loss_pet = 1 - ssim(output, b_y,data_range=1)\n",
    "        l2_loss_mri   = l2_loss(output,b_x)\n",
    "        l2_loss_pet   = l2_loss(output,b_y)\n",
    "        ssim_total = gamma_ssim*ssim_loss_mri + (1-gamma_ssim)*ssim_loss_pet\n",
    "        l2_total = gamma_l2*l2_loss_mri + (1-gamma_l2)*l2_loss_pet\n",
    "        loss_total = lamda*ssim_total + (1-lamda)*l2_total \n",
    "        optimizer.zero_grad()           # clear gradients for this training step\n",
    "        loss_total.backward()           # backpropagation, compute gradients\n",
    "        optimizer.step()                # apply gradients\n",
    "    \n",
    "        #store all the loss values at each epoch\n",
    "        ssim_mri_Loss.append(ssim_loss_mri.item())\n",
    "        ssim_pet_Loss.append(ssim_loss_pet.item())\n",
    "        l2_mri_Loss.append(l2_loss_mri.item())\n",
    "        l2_pet_Loss.append(l2_loss_pet.item())\n",
    "\n",
    "        if counter % 100 == 0:\n",
    "            print(\"Epoch: [%2d],step: [%2d], mri_ssim_loss: [%.8f], pet_ssim_loss: [%.8f],  total_ssim_loss: [%.8f], total_l2_loss: [%.8f], total_loss: [%.8f]\" \n",
    "            %(epoch, counter, ssim_loss_mri, ssim_loss_pet, ssim_total, l2_total, loss_total))\n",
    "\n",
    "    av_ssim_mri_loss = np.average(ssim_mri_Loss)\n",
    "    ep_ssim_mri_loss.append(av_ssim_mri_loss)\n",
    "    \n",
    "    av_ssim_pet_loss = np.average(ssim_pet_Loss)\n",
    "    ep_ssim_pet_loss.append(av_ssim_pet_loss)\n",
    "    \n",
    "    av_l2_mri_loss = np.average(l2_mri_Loss)\n",
    "    ep_l2_mri_loss.append(av_l2_mri_loss)\n",
    "    \n",
    "    av_l2_pet_loss = np.average(l2_pet_Loss)\n",
    "    ep_l2_pet_loss.append(av_l2_pet_loss)\n",
    "    \n",
    "\n",
    "    if(epoch == EPOCH -1):\n",
    "      #Save a checkpoint\n",
    "      torch.save(cnn, '/home/h1/s8993054/Forschungprojekt/DeepFuse/Checkpoint/checkpoint_lambda_0.99_gamma_ssim_0.497_gamma_l2_0.5.pth') "
   ]
  },
  {
   "cell_type": "code",
   "execution_count": 17,
   "metadata": {},
   "outputs": [],
   "source": [
    "l1 = np.asarray(ep_ssim_mri_loss)\n",
    "l2 = np.asarray(ep_ssim_pet_loss)\n",
    "l3 = np.asarray(ep_l2_mri_loss)\n",
    "l4 = np.asarray(ep_l2_pet_loss)"
   ]
  },
  {
   "cell_type": "code",
   "execution_count": 18,
   "metadata": {},
   "outputs": [],
   "source": [
    "h5f = h5py.File('/home/h1/s8993054/Forschungprojekt/DeepFuse/Loss curves/H5 Files/lamda_0.99/gamma_0.497_0.5_ssim_mri.h5', 'w')\n",
    "h5f.create_dataset('data', data=l1)\n",
    "h5f.close()\n",
    "\n",
    "h5f = h5py.File('/home/h1/s8993054/Forschungprojekt/DeepFuse/Loss curves/H5 Files/lamda_0.99/gamma_0.497_0.5_ssim_pet.h5', 'w')\n",
    "h5f.create_dataset('data', data=l2)\n",
    "h5f.close()\n",
    "\n",
    "h5f = h5py.File('/home/h1/s8993054/Forschungprojekt/DeepFuse/Loss curves/H5 Files/lamda_0.99/gamma_0.497_0.5_l2_mri.h5', 'w')\n",
    "h5f.create_dataset('data', data=l3)\n",
    "h5f.close()\n",
    "\n",
    "h5f = h5py.File('/home/h1/s8993054/Forschungprojekt/DeepFuse/Loss curves/H5 Files/lamda_0.99/gamma_0.497_0.5_l2_pet.h5', 'w')\n",
    "h5f.create_dataset('data', data=l4)\n",
    "h5f.close()"
   ]
  },
  {
   "cell_type": "code",
   "execution_count": 19,
   "metadata": {},
   "outputs": [
    {
     "name": "stderr",
     "output_type": "stream",
     "text": [
      "The PostScript backend does not support transparency; partially transparent artists will be rendered opaque.\n",
      "The PostScript backend does not support transparency; partially transparent artists will be rendered opaque.\n"
     ]
    },
    {
     "data": {
      "image/png": "[encoded data removed]",
      "text/plain": [
       "<Figure size 432x288 with 1 Axes>"
      ]
     },
     "metadata": {
      "needs_background": "light"
     },
     "output_type": "display_data"
    }
   ],
   "source": [
    "#DeepFuse SSIM gamma_ssim = 0.497 gamma_l2 = 0.5\n",
    "fontP = FontProperties()\n",
    "fontP.set_size('large')\n",
    "plt.plot(l1,'b',label='$1-SSIM_{MRI}$')\n",
    "plt.plot(l2,'c',label='$1-SSIM_{PET}$')\n",
    "plt.xlabel('epoch',fontsize= 15)\n",
    "plt.ylabel('Loss values',fontsize= 15)\n",
    "plt.legend(loc=1, prop=fontP)\n",
    "plt.title('DeepFuse $\\lambda = 0.99, \\gamma_{ssim} = 0.497, \\gamma_{l2} = 0.5$',fontsize='15')\n",
    "plt.savefig('/home/h1/s8993054/Forschungprojekt/DeepFuse/Loss curves/Images/lamda_0.99/gamma_0.497_0.5_ssim.eps', format='eps', dpi=100)"
   ]
  },
  {
   "cell_type": "code",
   "execution_count": 20,
   "metadata": {},
   "outputs": [
    {
     "name": "stderr",
     "output_type": "stream",
     "text": [
      "The PostScript backend does not support transparency; partially transparent artists will be rendered opaque.\n",
      "The PostScript backend does not support transparency; partially transparent artists will be rendered opaque.\n"
     ]
    },
    {
     "data": {
      "image/png": "[encoded data removed]",
      "text/plain": [
       "<Figure size 432x288 with 1 Axes>"
      ]
     },
     "metadata": {
      "needs_background": "light"
     },
     "output_type": "display_data"
    }
   ],
   "source": [
    "#DeepFuse L2 gamma_ssim = 0.497 gamma_l2 = 0.5\n",
    "fontP = FontProperties()\n",
    "fontP.set_size('large')\n",
    "plt.plot(l3,'b',label='$l2_{MRI}$')\n",
    "plt.plot(l4,'c',label='$l2_{PET}$')\n",
    "plt.xlabel('epoch',fontsize= 15)\n",
    "plt.ylabel('Loss values',fontsize= 15)\n",
    "plt.legend(loc=1, prop=fontP)\n",
    "plt.title('DeepFuse $\\lambda = 0.99, \\gamma_{ssim} = 0.497, \\gamma_{l2} = 0.5$',fontsize='15')\n",
    "plt.savefig('/home/h1/s8993054/Forschungprojekt/DeepFuse/Loss curves/Images/lamda_0.99/gamma_0.497_0.5_l2.eps', format='eps', dpi=100)"
   ]
  },
  {
   "cell_type": "code",
   "execution_count": null,
   "metadata": {},
   "outputs": [],
   "source": []
  }
 ],
 "metadata": {
  "kernelspec": {
   "display_name": "Python 3",
   "language": "python",
   "name": "python3"
  },
  "language_info": {
   "codemirror_mode": {
    "name": "ipython",
    "version": 3
   },
   "file_extension": ".py",
   "mimetype": "text/x-python",
   "name": "python",
   "nbconvert_exporter": "python",
   "pygments_lexer": "ipython3",
   "version": "3.6.9"
  }
 },
 "nbformat": 4,
 "nbformat_minor": 4
}
