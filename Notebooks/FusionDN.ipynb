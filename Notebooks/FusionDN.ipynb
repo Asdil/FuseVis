{
 "cells": [
  {
   "cell_type": "code",
   "execution_count": 1,
   "metadata": {},
   "outputs": [
    {
     "name": "stderr",
     "output_type": "stream",
     "text": [
      "C:\\Program Files (x86)\\Microsoft Visual Studio\\Shared\\Anaconda3_64\\lib\\site-packages\\h5py\\__init__.py:36: FutureWarning: Conversion of the second argument of issubdtype from `float` to `np.floating` is deprecated. In future, it will be treated as `np.float64 == np.dtype(float).type`.\n",
      "  from ._conv import register_converters as _register_converters\n"
     ]
    }
   ],
   "source": [
    "#Import packages\n",
    "import time\n",
    "import torch.nn as nn\n",
    "import torch\n",
    "from torch.utils.data import Dataset, DataLoader\n",
    "import torchvision.datasets as datasets\n",
    "import numpy as np\n",
    "from torchvision import transforms\n",
    "from torch.autograd import Variable\n",
    "from PIL import Image\n",
    "import torchvision.transforms.functional as TF\n",
    "from torchvision.models.vgg import vgg19\n",
    "import torch.nn as nn\n",
    "import torch.nn.functional as F\n",
    "import torch\n",
    "from skimage import img_as_ubyte\n",
    "import torch.nn as nn\n",
    "import torch.utils.data as Data\n",
    "import torchvision      # dataset\n",
    "import matplotlib.pyplot as plt\n",
    "import scipy\n",
    "import numpy as np\n",
    "import argparse\n",
    "import glob\n",
    "import imageio\n",
    "from skimage import color\n",
    "import numpy\n",
    "import natsort\n",
    "import scipy\n",
    "from pytorch_msssim import ssim, ms_ssim, SSIM, MS_SSIM\n",
    "import pprint\n",
    "from scipy.ndimage import correlate\n",
    "from scipy.ndimage.filters import gaussian_gradient_magnitude\n",
    "import torchvision.datasets as dset\n",
    "import torch.utils.data as data\n",
    "import os\n",
    "import os.path\n",
    "from tkinter import *\n",
    "import tkinter as tk\n",
    "import tkinter.font as tkFont\n",
    "from PIL import ImageTk, Image\n",
    "import pylab\n",
    "import cv2\n",
    "import h5py\n",
    "from mpl_toolkits.axes_grid1 import make_axes_locatable"
   ]
  },
  {
   "cell_type": "code",
   "execution_count": 2,
   "metadata": {},
   "outputs": [
    {
     "name": "stdout",
     "output_type": "stream",
     "text": [
      "11811160064\n"
     ]
    }
   ],
   "source": [
    "device = 'cuda' if torch.cuda.is_available() else 'cpu'\n",
    "print(torch.cuda.get_device_properties(0).total_memory)"
   ]
  },
  {
   "cell_type": "code",
   "execution_count": 3,
   "metadata": {},
   "outputs": [
    {
     "data": {
      "text/plain": [
       "12"
      ]
     },
     "execution_count": 3,
     "metadata": {},
     "output_type": "execute_result"
    }
   ],
   "source": [
    "import multiprocessing\n",
    "\n",
    "multiprocessing.cpu_count()"
   ]
  },
  {
   "cell_type": "code",
   "execution_count": 4,
   "metadata": {},
   "outputs": [],
   "source": [
    "#define the hyperparameters\n",
    "image_length = 256\n",
    "image_width  = 256\n",
    "mr_channels  = 1\n",
    "gray_channels = 1\n",
    "pet_channels = 4    \n",
    "rgb_channels = 3     \n",
    "batch_size   = 1\n",
    "EPOCH = 50\n",
    "learning_rate = 0.002 "
   ]
  },
  {
   "cell_type": "code",
   "execution_count": 5,
   "metadata": {},
   "outputs": [],
   "source": [
    "#load the train mri data\n",
    "filenames = os.listdir('C:/Users/horan/Desktop/Suraka/Training/MRI')\n",
    "dataset = os.path.join(os.getcwd(), 'C:/Users/horan/Desktop/Suraka/Training/MRI')\n",
    "data = glob.glob(os.path.join(dataset, \"*.gif\"))\n",
    "data = natsort.natsorted(data,reverse=False)\n",
    "train_mri = np.zeros((len(data), image_width,image_length))\n",
    "for i in range(len(data)):\n",
    "    train_mri[i,:,:] =(imageio.imread(data[i]))\n",
    "    train_mri[i,:,:] =(train_mri[i,:,:] - np.min(train_mri[i,:,:])) / (np.max(train_mri[i,:,:]) - np.min(train_mri[i,:,:]))\n",
    "    train_mri[i,:,:] = np.float32(train_mri[i,:,:])"
   ]
  },
  {
   "cell_type": "code",
   "execution_count": 6,
   "metadata": {},
   "outputs": [],
   "source": [
    "#expand dimension to add the channel\n",
    "train_mri = np.expand_dims(train_mri,axis=1)"
   ]
  },
  {
   "cell_type": "code",
   "execution_count": 7,
   "metadata": {},
   "outputs": [
    {
     "data": {
      "text/plain": [
       "(272, 1, 256, 256)"
      ]
     },
     "execution_count": 7,
     "metadata": {},
     "output_type": "execute_result"
    }
   ],
   "source": [
    "#verify the shape matches the pytorch standard\n",
    "train_mri.shape"
   ]
  },
  {
   "cell_type": "code",
   "execution_count": 8,
   "metadata": {},
   "outputs": [
    {
     "data": {
      "text/plain": [
       "torch.Size([272, 1, 256, 256])"
      ]
     },
     "execution_count": 8,
     "metadata": {},
     "output_type": "execute_result"
    }
   ],
   "source": [
    "#convert the MRI training data to pytorch tensor\n",
    "train_mri_tensor = torch.from_numpy(train_mri).float()\n",
    "train_mri_tensor.shape"
   ]
  },
  {
   "cell_type": "code",
   "execution_count": 9,
   "metadata": {},
   "outputs": [],
   "source": [
    "#load the train pet data\n",
    "filenames = os.listdir('C:/Users/horan/Desktop/Suraka/Training/PET')\n",
    "dataset = os.path.join(os.getcwd(), 'C:/Users/horan/Desktop/Suraka/Training/PET')\n",
    "data = glob.glob(os.path.join(dataset, \"*.gif\"))\n",
    "data = natsort.natsorted(data,reverse=False)\n",
    "train_other = np.zeros((len(data),image_width,image_length,pet_channels),dtype=float)\n",
    "train_pet = np.zeros((len(data),image_width,image_length),dtype=float)\n",
    "for i in range(len(data)):\n",
    "    train_other[i,:,:,:] =(imageio.imread(data[i]))\n",
    "    train_pet[i,:,:] = 0.2989 * train_other[i,:,:,0] + 0.5870 *  train_other[i,:,:,1]  + 0.1140 * train_other[i,:,:,2]\n",
    "    train_pet[i,:,:] =(train_pet[i,:,:] - np.min(train_pet[i,:,:])) / (np.max(train_pet[i,:,:]) - np.min(train_pet[i,:,:]))"
   ]
  },
  {
   "cell_type": "code",
   "execution_count": 10,
   "metadata": {},
   "outputs": [],
   "source": [
    "#expand the dimension to add the channel\n",
    "train_pet = np.expand_dims(train_pet,axis=1)"
   ]
  },
  {
   "cell_type": "code",
   "execution_count": 11,
   "metadata": {},
   "outputs": [
    {
     "data": {
      "text/plain": [
       "(272, 1, 256, 256)"
      ]
     },
     "execution_count": 11,
     "metadata": {},
     "output_type": "execute_result"
    }
   ],
   "source": [
    "#verify the shape matches the pytorch standard\n",
    "train_pet.shape"
   ]
  },
  {
   "cell_type": "code",
   "execution_count": 12,
   "metadata": {},
   "outputs": [
    {
     "data": {
      "text/plain": [
       "torch.Size([272, 1, 256, 256])"
      ]
     },
     "execution_count": 12,
     "metadata": {},
     "output_type": "execute_result"
    }
   ],
   "source": [
    "#convert the PET training data to pytorch tensor\n",
    "train_pet_tensor = torch.from_numpy(train_pet).float()\n",
    "train_pet_tensor.shape"
   ]
  },
  {
   "cell_type": "code",
   "execution_count": 13,
   "metadata": {},
   "outputs": [
    {
     "name": "stdout",
     "output_type": "stream",
     "text": [
      "FusionDN(\n",
      "  (layer1): Sequential(\n",
      "    (0): Conv2d(2, 48, kernel_size=(3, 3), stride=(1, 1), padding=(1, 1))\n",
      "    (1): BatchNorm2d(48, eps=1e-05, momentum=0.1, affine=True, track_running_stats=True)\n",
      "    (2): ReLU()\n",
      "  )\n",
      "  (layer2): Sequential(\n",
      "    (0): Conv2d(48, 48, kernel_size=(3, 3), stride=(1, 1), padding=(1, 1))\n",
      "    (1): BatchNorm2d(48, eps=1e-05, momentum=0.1, affine=True, track_running_stats=True)\n",
      "    (2): ReLU()\n",
      "    (3): Conv2d(48, 48, kernel_size=(3, 3), stride=(1, 1), padding=(1, 1))\n",
      "    (4): BatchNorm2d(48, eps=1e-05, momentum=0.1, affine=True, track_running_stats=True)\n",
      "    (5): ReLU()\n",
      "  )\n",
      "  (layer3): Sequential(\n",
      "    (0): Conv2d(96, 48, kernel_size=(3, 3), stride=(1, 1), padding=(1, 1))\n",
      "    (1): BatchNorm2d(48, eps=1e-05, momentum=0.1, affine=True, track_running_stats=True)\n",
      "    (2): ReLU()\n",
      "    (3): Conv2d(48, 48, kernel_size=(3, 3), stride=(1, 1), padding=(1, 1))\n",
      "    (4): BatchNorm2d(48, eps=1e-05, momentum=0.1, affine=True, track_running_stats=True)\n",
      "    (5): ReLU()\n",
      "  )\n",
      "  (layer4): Sequential(\n",
      "    (0): Conv2d(144, 48, kernel_size=(3, 3), stride=(1, 1), padding=(1, 1))\n",
      "    (1): BatchNorm2d(48, eps=1e-05, momentum=0.1, affine=True, track_running_stats=True)\n",
      "    (2): ReLU()\n",
      "    (3): Conv2d(48, 48, kernel_size=(3, 3), stride=(1, 1), padding=(1, 1))\n",
      "    (4): BatchNorm2d(48, eps=1e-05, momentum=0.1, affine=True, track_running_stats=True)\n",
      "    (5): ReLU()\n",
      "  )\n",
      "  (layer5): Sequential(\n",
      "    (0): Conv2d(192, 48, kernel_size=(3, 3), stride=(1, 1), padding=(1, 1))\n",
      "    (1): BatchNorm2d(48, eps=1e-05, momentum=0.1, affine=True, track_running_stats=True)\n",
      "    (2): ReLU()\n",
      "    (3): Conv2d(48, 48, kernel_size=(3, 3), stride=(1, 1), padding=(1, 1))\n",
      "    (4): BatchNorm2d(48, eps=1e-05, momentum=0.1, affine=True, track_running_stats=True)\n",
      "    (5): ReLU()\n",
      "  )\n",
      "  (layer6): Sequential(\n",
      "    (0): Conv2d(240, 240, kernel_size=(3, 3), stride=(1, 1), padding=(1, 1))\n",
      "    (1): BatchNorm2d(240, eps=1e-05, momentum=0.1, affine=True, track_running_stats=True)\n",
      "    (2): ReLU()\n",
      "  )\n",
      "  (layer7): Sequential(\n",
      "    (0): Conv2d(240, 128, kernel_size=(3, 3), stride=(1, 1), padding=(1, 1))\n",
      "    (1): BatchNorm2d(128, eps=1e-05, momentum=0.1, affine=True, track_running_stats=True)\n",
      "    (2): ReLU()\n",
      "  )\n",
      "  (layer8): Sequential(\n",
      "    (0): Conv2d(128, 64, kernel_size=(3, 3), stride=(1, 1), padding=(1, 1))\n",
      "    (1): BatchNorm2d(64, eps=1e-05, momentum=0.1, affine=True, track_running_stats=True)\n",
      "    (2): ReLU()\n",
      "  )\n",
      "  (layer9): Sequential(\n",
      "    (0): Conv2d(64, 1, kernel_size=(3, 3), stride=(1, 1), padding=(1, 1))\n",
      "    (1): Tanh()\n",
      "  )\n",
      ")\n"
     ]
    }
   ],
   "source": [
    "#define the generator network\n",
    "class FusionDN(nn.Module):\n",
    "    def  __init__(self):\n",
    "        super(FusionDN, self).__init__()\n",
    "        ##### Encoder Layer 1#####\n",
    "        self.layer1 = nn.Sequential( #input shape (,2,256,256)\n",
    "                         nn.Conv2d(in_channels=2, out_channels=48, kernel_size=3, stride=1, padding=1),\n",
    "                         nn.BatchNorm2d(48),\n",
    "                         nn.ReLU())        \n",
    "        ##### Encoder Layer 2#####\n",
    "        self.layer2 = nn.Sequential( \n",
    "                         nn.Conv2d(in_channels=48, out_channels=48, kernel_size=3, stride=1, padding=1),\n",
    "                         nn.BatchNorm2d(48),\n",
    "                         nn.ReLU(),\n",
    "                         nn.Conv2d(in_channels=48, out_channels=48, kernel_size=3, stride=1, padding=1),\n",
    "                         nn.BatchNorm2d(48),\n",
    "                         nn.ReLU())    \n",
    "        ##### Encoder Layer 3#####\n",
    "        self.layer3 = nn.Sequential(\n",
    "                         nn.Conv2d(in_channels=96, out_channels=48, kernel_size=3, stride=1, padding=1),\n",
    "                         nn.BatchNorm2d(48),\n",
    "                         nn.ReLU(),\n",
    "                         nn.Conv2d(in_channels=48, out_channels=48, kernel_size=3, stride=1, padding=1),\n",
    "                         nn.BatchNorm2d(48),\n",
    "                         nn.ReLU())     \n",
    "        ##### Encoder Layer 4#####\n",
    "        self.layer4 = nn.Sequential( \n",
    "                         nn.Conv2d(in_channels=144, out_channels=48, kernel_size=3, stride=1, padding=1),\n",
    "                         nn.BatchNorm2d(48),\n",
    "                         nn.ReLU(),\n",
    "                         nn.Conv2d(in_channels=48, out_channels=48, kernel_size=3, stride=1, padding=1),\n",
    "                         nn.BatchNorm2d(48),\n",
    "                         nn.ReLU())      \n",
    "        ##### Encoder Layer 5#####\n",
    "        self.layer5 = nn.Sequential( \n",
    "                         nn.Conv2d(in_channels=192, out_channels=48, kernel_size=3, stride=1, padding=1),\n",
    "                         nn.BatchNorm2d(48),\n",
    "                         nn.ReLU(),\n",
    "                         nn.Conv2d(in_channels=48, out_channels=48, kernel_size=3, stride=1, padding=1),\n",
    "                         nn.BatchNorm2d(48),\n",
    "                         nn.ReLU())        \n",
    "        \n",
    "        ##### Decoder Layer 1#####\n",
    "        self.layer6 = nn.Sequential( \n",
    "                         nn.Conv2d(in_channels=240, out_channels=240, kernel_size=3, stride=1, padding=1),\n",
    "                         nn.BatchNorm2d(240),\n",
    "                         nn.ReLU())     \n",
    "        ##### Decoder Layer 2#####\n",
    "        self.layer7 = nn.Sequential( \n",
    "                         nn.Conv2d(in_channels=240, out_channels=128, kernel_size=3, stride=1, padding=1),\n",
    "                         nn.BatchNorm2d(128),\n",
    "                         nn.ReLU())       \n",
    "        ##### Decoder Layer 3#####\n",
    "        self.layer8 = nn.Sequential( \n",
    "                         nn.Conv2d(in_channels=128, out_channels=64, kernel_size=3, stride=1, padding=1),\n",
    "                         nn.BatchNorm2d(64),\n",
    "                         nn.ReLU())       \n",
    "        ##### Decoder Layer 4#####\n",
    "        self.layer9 = nn.Sequential(\n",
    "                         nn.Conv2d(in_channels=64, out_channels=1, kernel_size=3, stride=1, padding=1),\n",
    "                         nn.Tanh())         \n",
    "\n",
    "\n",
    "    def forward(self, x, y):\n",
    "        #Encoder \n",
    "        xy = torch.cat((x,y),1)\n",
    "        x1 = self.layer1(xy)\n",
    "        x2 = self.layer2(x1)\n",
    "        concat1 = torch.cat((x1,x2),1)\n",
    "        x3 = self.layer3(concat1)\n",
    "        concat2 = torch.cat((x3,concat1),1)\n",
    "        x4 = self.layer4(concat2)\n",
    "        concat3 = torch.cat((x4,concat2),1)\n",
    "        x5 = self.layer5(concat3)\n",
    "        concat4 = torch.cat((x5,concat3),1)\n",
    "        #Decoder\n",
    "        x6 = self.layer6(concat4)\n",
    "        x7 = self.layer7(x6)\n",
    "        x8 = self.layer8(x7)\n",
    "        fused = self.layer9(x8)\n",
    "        return fused\n",
    "\n",
    "gen = FusionDN().to(device)\n",
    "gen = gen.float()\n",
    "print(gen)"
   ]
  },
  {
   "cell_type": "code",
   "execution_count": 14,
   "metadata": {},
   "outputs": [],
   "source": [
    "#define the optimizers and loss functions \n",
    "gen_optimizer = torch.optim.Adam(gen.parameters(), lr=learning_rate)   # optimize all cnn parameters\n",
    "l2_loss   = nn.MSELoss() #MSEloss"
   ]
  },
  {
   "cell_type": "code",
   "execution_count": 21,
   "metadata": {},
   "outputs": [
    {
     "name": "stdout",
     "output_type": "stream",
     "text": [
      "Epoch: [ 0],step: [100], mri_ssim_loss: [0.77688199], pet_ssim_loss: [0.88556379], total_loss: [1.66244578]\n",
      "Epoch: [ 0],step: [200], mri_ssim_loss: [0.58692586], pet_ssim_loss: [0.70742905], total_loss: [1.29435492]\n",
      "Epoch: [ 1],step: [300], mri_ssim_loss: [0.70947784], pet_ssim_loss: [0.78880936], total_loss: [1.49828720]\n",
      "Epoch: [ 1],step: [400], mri_ssim_loss: [0.86357588], pet_ssim_loss: [0.91396499], total_loss: [1.77754092]\n",
      "Epoch: [ 1],step: [500], mri_ssim_loss: [0.47294545], pet_ssim_loss: [0.77239472], total_loss: [1.24534011]\n",
      "Epoch: [ 2],step: [600], mri_ssim_loss: [0.67411149], pet_ssim_loss: [0.79751849], total_loss: [1.47162998]\n",
      "Epoch: [ 2],step: [700], mri_ssim_loss: [0.83645898], pet_ssim_loss: [0.75870025], total_loss: [1.59515929]\n",
      "Epoch: [ 2],step: [800], mri_ssim_loss: [0.89205605], pet_ssim_loss: [0.86113548], total_loss: [1.75319147]\n",
      "Epoch: [ 3],step: [900], mri_ssim_loss: [0.78230375], pet_ssim_loss: [0.91086352], total_loss: [1.69316721]\n",
      "Epoch: [ 3],step: [1000], mri_ssim_loss: [0.59945428], pet_ssim_loss: [0.69491291], total_loss: [1.29436719]\n",
      "Epoch: [ 4],step: [1100], mri_ssim_loss: [0.81639397], pet_ssim_loss: [0.75755835], total_loss: [1.57395232]\n",
      "Epoch: [ 4],step: [1200], mri_ssim_loss: [0.82955819], pet_ssim_loss: [0.91688979], total_loss: [1.74644804]\n",
      "Epoch: [ 4],step: [1300], mri_ssim_loss: [0.74542367], pet_ssim_loss: [0.77391827], total_loss: [1.51934195]\n",
      "Epoch: [ 5],step: [1400], mri_ssim_loss: [0.59399903], pet_ssim_loss: [0.62435967], total_loss: [1.21835876]\n",
      "Epoch: [ 5],step: [1500], mri_ssim_loss: [0.96223921], pet_ssim_loss: [0.95624125], total_loss: [1.91848040]\n",
      "Epoch: [ 5],step: [1600], mri_ssim_loss: [0.59561765], pet_ssim_loss: [0.77023500], total_loss: [1.36585259]\n",
      "Epoch: [ 6],step: [1700], mri_ssim_loss: [0.54236257], pet_ssim_loss: [0.78652596], total_loss: [1.32888854]\n",
      "Epoch: [ 6],step: [1800], mri_ssim_loss: [0.64160383], pet_ssim_loss: [0.78402704], total_loss: [1.42563081]\n",
      "Epoch: [ 6],step: [1900], mri_ssim_loss: [0.73032773], pet_ssim_loss: [0.71504366], total_loss: [1.44537139]\n",
      "Epoch: [ 7],step: [2000], mri_ssim_loss: [0.78000772], pet_ssim_loss: [0.88143295], total_loss: [1.66144061]\n",
      "Epoch: [ 7],step: [2100], mri_ssim_loss: [0.66382563], pet_ssim_loss: [0.85162520], total_loss: [1.51545084]\n",
      "Epoch: [ 8],step: [2200], mri_ssim_loss: [0.62355220], pet_ssim_loss: [0.78212583], total_loss: [1.40567803]\n",
      "Epoch: [ 8],step: [2300], mri_ssim_loss: [0.81333542], pet_ssim_loss: [0.89825255], total_loss: [1.71158791]\n",
      "Epoch: [ 8],step: [2400], mri_ssim_loss: [0.62834084], pet_ssim_loss: [0.78979963], total_loss: [1.41814041]\n",
      "Epoch: [ 9],step: [2500], mri_ssim_loss: [0.76745975], pet_ssim_loss: [0.72921264], total_loss: [1.49667239]\n",
      "Epoch: [ 9],step: [2600], mri_ssim_loss: [0.83545202], pet_ssim_loss: [0.91555548], total_loss: [1.75100756]\n",
      "Epoch: [ 9],step: [2700], mri_ssim_loss: [0.67908025], pet_ssim_loss: [0.75081551], total_loss: [1.42989576]\n",
      "Epoch: [10],step: [2800], mri_ssim_loss: [0.80537641], pet_ssim_loss: [0.88955408], total_loss: [1.69493055]\n",
      "Epoch: [10],step: [2900], mri_ssim_loss: [0.81653309], pet_ssim_loss: [0.78462136], total_loss: [1.60115445]\n",
      "Epoch: [11],step: [3000], mri_ssim_loss: [0.64229435], pet_ssim_loss: [0.79655087], total_loss: [1.43884516]\n",
      "Epoch: [11],step: [3100], mri_ssim_loss: [0.76474291], pet_ssim_loss: [0.84583354], total_loss: [1.61057639]\n",
      "Epoch: [11],step: [3200], mri_ssim_loss: [0.59761560], pet_ssim_loss: [0.70448923], total_loss: [1.30210483]\n",
      "Epoch: [12],step: [3300], mri_ssim_loss: [0.60478669], pet_ssim_loss: [0.71787232], total_loss: [1.32265902]\n",
      "Epoch: [12],step: [3400], mri_ssim_loss: [0.86298621], pet_ssim_loss: [0.93082184], total_loss: [1.79380798]\n",
      "Epoch: [12],step: [3500], mri_ssim_loss: [0.62969613], pet_ssim_loss: [0.77471411], total_loss: [1.40441024]\n",
      "Epoch: [13],step: [3600], mri_ssim_loss: [0.56867999], pet_ssim_loss: [0.86654413], total_loss: [1.43522406]\n",
      "Epoch: [13],step: [3700], mri_ssim_loss: [0.70188761], pet_ssim_loss: [0.74495757], total_loss: [1.44684517]\n",
      "Epoch: [13],step: [3800], mri_ssim_loss: [0.66864616], pet_ssim_loss: [0.74113357], total_loss: [1.40977979]\n",
      "Epoch: [14],step: [3900], mri_ssim_loss: [0.77935016], pet_ssim_loss: [0.87328982], total_loss: [1.65263999]\n",
      "Epoch: [14],step: [4000], mri_ssim_loss: [0.65257406], pet_ssim_loss: [0.75431293], total_loss: [1.40688705]\n",
      "Epoch: [15],step: [4100], mri_ssim_loss: [0.59066427], pet_ssim_loss: [0.73217773], total_loss: [1.32284200]\n",
      "Epoch: [15],step: [4200], mri_ssim_loss: [0.82253617], pet_ssim_loss: [0.87159544], total_loss: [1.69413161]\n",
      "Epoch: [15],step: [4300], mri_ssim_loss: [0.89828801], pet_ssim_loss: [0.99029994], total_loss: [1.88858795]\n",
      "Epoch: [16],step: [4400], mri_ssim_loss: [0.77687687], pet_ssim_loss: [0.99194443], total_loss: [1.76882124]\n",
      "Epoch: [16],step: [4500], mri_ssim_loss: [0.96845359], pet_ssim_loss: [0.99757934], total_loss: [1.96603298]\n",
      "Epoch: [16],step: [4600], mri_ssim_loss: [0.79165757], pet_ssim_loss: [0.95574361], total_loss: [1.74740124]\n",
      "Epoch: [17],step: [4700], mri_ssim_loss: [0.70652866], pet_ssim_loss: [0.97495031], total_loss: [1.68147898]\n",
      "Epoch: [17],step: [4800], mri_ssim_loss: [0.75948155], pet_ssim_loss: [0.96047539], total_loss: [1.71995687]\n",
      "Epoch: [18],step: [4900], mri_ssim_loss: [0.73246157], pet_ssim_loss: [0.94749695], total_loss: [1.67995858]\n",
      "Epoch: [18],step: [5000], mri_ssim_loss: [0.80384332], pet_ssim_loss: [0.95052993], total_loss: [1.75437331]\n",
      "Epoch: [18],step: [5100], mri_ssim_loss: [0.64251840], pet_ssim_loss: [0.86855358], total_loss: [1.51107192]\n",
      "Epoch: [19],step: [5200], mri_ssim_loss: [0.61689126], pet_ssim_loss: [0.91011167], total_loss: [1.52700293]\n",
      "Epoch: [19],step: [5300], mri_ssim_loss: [0.82238251], pet_ssim_loss: [0.96783143], total_loss: [1.79021394]\n",
      "Epoch: [19],step: [5400], mri_ssim_loss: [0.75313896], pet_ssim_loss: [0.92359906], total_loss: [1.67673802]\n",
      "Epoch: [20],step: [5500], mri_ssim_loss: [0.61402577], pet_ssim_loss: [0.96151984], total_loss: [1.57554555]\n",
      "Epoch: [20],step: [5600], mri_ssim_loss: [0.72847271], pet_ssim_loss: [0.91563118], total_loss: [1.64410388]\n",
      "Epoch: [20],step: [5700], mri_ssim_loss: [0.94455701], pet_ssim_loss: [0.97120428], total_loss: [1.91576123]\n",
      "Epoch: [21],step: [5800], mri_ssim_loss: [0.75421077], pet_ssim_loss: [0.93102467], total_loss: [1.68523550]\n",
      "Epoch: [21],step: [5900], mri_ssim_loss: [0.76400858], pet_ssim_loss: [0.89263135], total_loss: [1.65663993]\n",
      "Epoch: [22],step: [6000], mri_ssim_loss: [0.62231565], pet_ssim_loss: [0.96832395], total_loss: [1.59063959]\n",
      "Epoch: [22],step: [6100], mri_ssim_loss: [0.78269970], pet_ssim_loss: [0.91217881], total_loss: [1.69487858]\n",
      "Epoch: [22],step: [6200], mri_ssim_loss: [0.61231458], pet_ssim_loss: [0.88896912], total_loss: [1.50128365]\n",
      "Epoch: [23],step: [6300], mri_ssim_loss: [0.66775954], pet_ssim_loss: [0.92520362], total_loss: [1.59296322]\n",
      "Epoch: [23],step: [6400], mri_ssim_loss: [0.81548834], pet_ssim_loss: [0.95869577], total_loss: [1.77418411]\n",
      "Epoch: [23],step: [6500], mri_ssim_loss: [0.88523865], pet_ssim_loss: [0.87058580], total_loss: [1.75582445]\n",
      "Epoch: [24],step: [6600], mri_ssim_loss: [0.72556794], pet_ssim_loss: [0.80655473], total_loss: [1.53212261]\n",
      "Epoch: [24],step: [6700], mri_ssim_loss: [0.76564759], pet_ssim_loss: [0.97186041], total_loss: [1.73750806]\n",
      "Epoch: [24],step: [6800], mri_ssim_loss: [0.66053593], pet_ssim_loss: [0.96354675], total_loss: [1.62408268]\n",
      "Epoch: [25],step: [6900], mri_ssim_loss: [0.82728040], pet_ssim_loss: [0.94384348], total_loss: [1.77112389]\n",
      "Epoch: [25],step: [7000], mri_ssim_loss: [0.58282638], pet_ssim_loss: [0.95712668], total_loss: [1.53995299]\n",
      "Epoch: [26],step: [7100], mri_ssim_loss: [0.69393349], pet_ssim_loss: [0.95325327], total_loss: [1.64718676]\n",
      "Epoch: [26],step: [7200], mri_ssim_loss: [0.80197334], pet_ssim_loss: [0.92006052], total_loss: [1.72203386]\n",
      "Epoch: [26],step: [7300], mri_ssim_loss: [0.74446183], pet_ssim_loss: [0.91495413], total_loss: [1.65941596]\n",
      "Epoch: [27],step: [7400], mri_ssim_loss: [0.58846271], pet_ssim_loss: [0.95696652], total_loss: [1.54542923]\n",
      "Epoch: [27],step: [7500], mri_ssim_loss: [0.78105831], pet_ssim_loss: [0.92682958], total_loss: [1.70788789]\n",
      "Epoch: [27],step: [7600], mri_ssim_loss: [0.82253730], pet_ssim_loss: [0.92881751], total_loss: [1.75135481]\n"
     ]
    },
    {
     "name": "stdout",
     "output_type": "stream",
     "text": [
      "Epoch: [28],step: [7700], mri_ssim_loss: [0.75274688], pet_ssim_loss: [0.92315322], total_loss: [1.67590010]\n",
      "Epoch: [28],step: [7800], mri_ssim_loss: [0.74582011], pet_ssim_loss: [0.87121344], total_loss: [1.61703348]\n",
      "Epoch: [29],step: [7900], mri_ssim_loss: [0.78722417], pet_ssim_loss: [0.93110740], total_loss: [1.71833158]\n",
      "Epoch: [29],step: [8000], mri_ssim_loss: [0.81140059], pet_ssim_loss: [0.94694686], total_loss: [1.75834751]\n",
      "Epoch: [29],step: [8100], mri_ssim_loss: [0.79554129], pet_ssim_loss: [0.88332891], total_loss: [1.67887020]\n",
      "Epoch: [30],step: [8200], mri_ssim_loss: [0.61659372], pet_ssim_loss: [0.89427549], total_loss: [1.51086926]\n",
      "Epoch: [30],step: [8300], mri_ssim_loss: [0.88355279], pet_ssim_loss: [0.97384775], total_loss: [1.85740054]\n",
      "Epoch: [30],step: [8400], mri_ssim_loss: [0.77041793], pet_ssim_loss: [0.86272383], total_loss: [1.63314176]\n",
      "Epoch: [31],step: [8500], mri_ssim_loss: [0.60349703], pet_ssim_loss: [0.95024538], total_loss: [1.55374241]\n",
      "Epoch: [31],step: [8600], mri_ssim_loss: [0.69355571], pet_ssim_loss: [0.93838406], total_loss: [1.63193977]\n",
      "Epoch: [31],step: [8700], mri_ssim_loss: [0.75517476], pet_ssim_loss: [0.87502646], total_loss: [1.63020122]\n",
      "Epoch: [32],step: [8800], mri_ssim_loss: [0.76509231], pet_ssim_loss: [0.93254858], total_loss: [1.69764090]\n",
      "Epoch: [32],step: [8900], mri_ssim_loss: [0.58219337], pet_ssim_loss: [0.92321348], total_loss: [1.50540686]\n",
      "Epoch: [33],step: [9000], mri_ssim_loss: [0.65603209], pet_ssim_loss: [0.85840154], total_loss: [1.51443362]\n",
      "Epoch: [33],step: [9100], mri_ssim_loss: [0.81316072], pet_ssim_loss: [0.96011204], total_loss: [1.77327275]\n",
      "Epoch: [33],step: [9200], mri_ssim_loss: [0.61696094], pet_ssim_loss: [0.93317604], total_loss: [1.55013704]\n",
      "Epoch: [34],step: [9300], mri_ssim_loss: [0.72512829], pet_ssim_loss: [0.92665225], total_loss: [1.65178061]\n",
      "Epoch: [34],step: [9400], mri_ssim_loss: [0.83609873], pet_ssim_loss: [0.95102155], total_loss: [1.78712034]\n",
      "Epoch: [34],step: [9500], mri_ssim_loss: [0.74998415], pet_ssim_loss: [0.91167355], total_loss: [1.66165769]\n",
      "Epoch: [35],step: [9600], mri_ssim_loss: [0.18106031], pet_ssim_loss: [0.37553871], total_loss: [0.55659902]\n",
      "Epoch: [35],step: [9700], mri_ssim_loss: [0.27807409], pet_ssim_loss: [0.51607168], total_loss: [0.79414576]\n",
      "Epoch: [36],step: [9800], mri_ssim_loss: [0.21294552], pet_ssim_loss: [0.45163512], total_loss: [0.66458064]\n",
      "Epoch: [36],step: [9900], mri_ssim_loss: [0.10609186], pet_ssim_loss: [0.26208580], total_loss: [0.36817765]\n",
      "Epoch: [36],step: [10000], mri_ssim_loss: [0.24301106], pet_ssim_loss: [0.50543773], total_loss: [0.74844879]\n",
      "Epoch: [37],step: [10100], mri_ssim_loss: [0.19243973], pet_ssim_loss: [0.67401969], total_loss: [0.86645943]\n",
      "Epoch: [37],step: [10200], mri_ssim_loss: [0.05585331], pet_ssim_loss: [0.20026565], total_loss: [0.25611895]\n",
      "Epoch: [37],step: [10300], mri_ssim_loss: [0.36835086], pet_ssim_loss: [0.61032510], total_loss: [0.97867596]\n",
      "Epoch: [38],step: [10400], mri_ssim_loss: [0.16326582], pet_ssim_loss: [0.60843968], total_loss: [0.77170551]\n",
      "Epoch: [38],step: [10500], mri_ssim_loss: [0.16663253], pet_ssim_loss: [0.44469106], total_loss: [0.61132360]\n",
      "Epoch: [38],step: [10600], mri_ssim_loss: [0.27380461], pet_ssim_loss: [0.51351786], total_loss: [0.78732246]\n",
      "Epoch: [39],step: [10700], mri_ssim_loss: [0.09259671], pet_ssim_loss: [0.30727029], total_loss: [0.39986700]\n",
      "Epoch: [39],step: [10800], mri_ssim_loss: [0.20185238], pet_ssim_loss: [0.41883314], total_loss: [0.62068552]\n",
      "Epoch: [40],step: [10900], mri_ssim_loss: [0.19353199], pet_ssim_loss: [0.60129762], total_loss: [0.79482961]\n",
      "Epoch: [40],step: [11000], mri_ssim_loss: [0.09129274], pet_ssim_loss: [0.23952562], total_loss: [0.33081836]\n",
      "Epoch: [40],step: [11100], mri_ssim_loss: [0.42221314], pet_ssim_loss: [0.62694764], total_loss: [1.04916072]\n",
      "Epoch: [41],step: [11200], mri_ssim_loss: [0.15820163], pet_ssim_loss: [0.58243334], total_loss: [0.74063498]\n",
      "Epoch: [41],step: [11300], mri_ssim_loss: [0.21256149], pet_ssim_loss: [0.49068850], total_loss: [0.70324999]\n",
      "Epoch: [41],step: [11400], mri_ssim_loss: [0.23855227], pet_ssim_loss: [0.43365258], total_loss: [0.67220485]\n",
      "Epoch: [42],step: [11500], mri_ssim_loss: [0.13917297], pet_ssim_loss: [0.46263462], total_loss: [0.60180759]\n",
      "Epoch: [42],step: [11600], mri_ssim_loss: [0.14440763], pet_ssim_loss: [0.35478640], total_loss: [0.49919403]\n",
      "Epoch: [43],step: [11700], mri_ssim_loss: [0.20408773], pet_ssim_loss: [0.44709098], total_loss: [0.65117872]\n",
      "Epoch: [43],step: [11800], mri_ssim_loss: [0.08767033], pet_ssim_loss: [0.27244592], total_loss: [0.36011624]\n",
      "Epoch: [43],step: [11900], mri_ssim_loss: [0.25609142], pet_ssim_loss: [0.51298714], total_loss: [0.76907855]\n",
      "Epoch: [44],step: [12000], mri_ssim_loss: [0.17800617], pet_ssim_loss: [0.56874847], total_loss: [0.74675465]\n",
      "Epoch: [44],step: [12100], mri_ssim_loss: [0.04922783], pet_ssim_loss: [0.22792101], total_loss: [0.27714884]\n",
      "Epoch: [44],step: [12200], mri_ssim_loss: [0.30995107], pet_ssim_loss: [0.49998158], total_loss: [0.80993265]\n",
      "Epoch: [45],step: [12300], mri_ssim_loss: [0.17577600], pet_ssim_loss: [0.57103145], total_loss: [0.74680746]\n",
      "Epoch: [45],step: [12400], mri_ssim_loss: [0.18155247], pet_ssim_loss: [0.42798066], total_loss: [0.60953313]\n",
      "Epoch: [45],step: [12500], mri_ssim_loss: [0.12141436], pet_ssim_loss: [0.16664243], total_loss: [0.28805679]\n",
      "Epoch: [46],step: [12600], mri_ssim_loss: [0.08926892], pet_ssim_loss: [0.31005859], total_loss: [0.39932752]\n",
      "Epoch: [46],step: [12700], mri_ssim_loss: [0.28730899], pet_ssim_loss: [0.45791745], total_loss: [0.74522644]\n",
      "Epoch: [47],step: [12800], mri_ssim_loss: [0.18518823], pet_ssim_loss: [0.57960677], total_loss: [0.76479501]\n",
      "Epoch: [47],step: [12900], mri_ssim_loss: [0.09756231], pet_ssim_loss: [0.24294555], total_loss: [0.34050786]\n",
      "Epoch: [47],step: [13000], mri_ssim_loss: [0.55826700], pet_ssim_loss: [0.51046544], total_loss: [1.06873250]\n",
      "Epoch: [48],step: [13100], mri_ssim_loss: [0.14069563], pet_ssim_loss: [0.60286254], total_loss: [0.74355817]\n",
      "Epoch: [48],step: [13200], mri_ssim_loss: [0.22657943], pet_ssim_loss: [0.56223416], total_loss: [0.78881359]\n",
      "Epoch: [48],step: [13300], mri_ssim_loss: [0.16194725], pet_ssim_loss: [0.34824038], total_loss: [0.51018763]\n",
      "Epoch: [49],step: [13400], mri_ssim_loss: [0.17697358], pet_ssim_loss: [0.50776565], total_loss: [0.68473923]\n",
      "Epoch: [49],step: [13500], mri_ssim_loss: [0.15831536], pet_ssim_loss: [0.39840770], total_loss: [0.55672306]\n",
      "Epoch: [49],step: [13600], mri_ssim_loss: [0.20173079], pet_ssim_loss: [0.53678739], total_loss: [0.73851818]\n"
     ]
    },
    {
     "name": "stderr",
     "output_type": "stream",
     "text": [
      "C:\\Program Files (x86)\\Microsoft Visual Studio\\Shared\\Anaconda3_64\\lib\\site-packages\\torch\\serialization.py:250: UserWarning: Couldn't retrieve source code for container of type FusionDN. It won't be checked for correctness upon loading.\n",
      "  \"type \" + obj.__name__ + \". It won't be checked \"\n"
     ]
    }
   ],
   "source": [
    "# perform the training\n",
    "counter = 0\n",
    "start_time = time.time()\n",
    "lamda = 1\n",
    "ep_ssim_mri_loss = []\n",
    "ep_ssim_pet_loss = []\n",
    "ep_total_loss =[]\n",
    "for epoch in range(EPOCH):\n",
    "    ssim_mri_Loss = []\n",
    "    ssim_pet_Loss   = []\n",
    "    total_Loss = []\n",
    "    #run batch images\n",
    "    batch_idxs = 272 // batch_size\n",
    "    for idx in range(0, batch_idxs):\n",
    "        #ge tthe mri and pet batches\n",
    "        b_x = train_mri_tensor[idx*batch_size : (idx+1)*batch_size,:,:,:].to(device)\n",
    "        b_y = train_pet_tensor[idx*batch_size : (idx+1)*batch_size,:,:,:].to(device)\n",
    "        \n",
    "        counter += 1  \n",
    "        #clear the generator gradients\n",
    "        gen_optimizer.zero_grad()    \n",
    "\n",
    "        #get a fused image from generator\n",
    "        output = gen(b_x,b_y)               # gen output   \n",
    "        \n",
    "        #define the generator loss\n",
    "        ssim_loss_mri = 1 - ssim(output, b_x,data_range=1)\n",
    "        ssim_loss_pet = 1 - ssim(output, b_y,data_range=1)\n",
    "        total_loss = ssim_loss_mri + ssim_loss_pet\n",
    "\n",
    "        #update the generator\n",
    "        total_loss.backward(retain_graph=True)  # backpropagation, compute gradients\n",
    "        gen_optimizer.step()                # apply gradients\n",
    "\n",
    "        #store all the loss values at each epoch\n",
    "        ssim_mri_Loss.append(ssim_loss_mri.item())\n",
    "        ssim_pet_Loss.append(ssim_loss_pet.item())\n",
    "        total_Loss.append(total_loss.item())\n",
    "        if counter % 100 == 0:\n",
    "            print(\"Epoch: [%2d],step: [%2d], mri_ssim_loss: [%.8f], pet_ssim_loss: [%.8f], total_loss: [%.8f]\"\n",
    "            %(epoch, counter, ssim_loss_mri, ssim_loss_pet, total_loss))\n",
    "    \n",
    "    av_ssim_mri_loss = np.average(ssim_mri_Loss)\n",
    "    ep_ssim_mri_loss.append(av_ssim_mri_loss)\n",
    "    \n",
    "    av_ssim_pet_loss = np.average(ssim_pet_Loss)\n",
    "    ep_ssim_pet_loss.append(av_ssim_pet_loss)\n",
    "    \n",
    "    av_total_loss = np.average(total_Loss)\n",
    "    ep_total_loss.append(av_total_loss)\n",
    "    \n",
    "    if(epoch == EPOCH -1):\n",
    "        #Save a checkpoint\n",
    "        torch.save(gen, 'C:/Users/horan/Desktop/Suraka/.ipynb_checkpoints/FusionDN/checkpoint.pth') "
   ]
  },
  {
   "cell_type": "code",
   "execution_count": 22,
   "metadata": {},
   "outputs": [],
   "source": [
    "l1 = np.asarray(ep_ssim_mri_loss)\n",
    "l2 = np.asarray(ep_ssim_pet_loss)\n",
    "l4 = np.asarray(ep_total_loss)"
   ]
  },
  {
   "cell_type": "code",
   "execution_count": 24,
   "metadata": {},
   "outputs": [],
   "source": [
    "h5f = h5py.File('C:/Users/horan/Desktop/Suraka/Loss curves/FusionGAN/H5 Files/Loss_GEN.h5', 'w')\n",
    "h5f.create_dataset('MRI_dataset', data=l1)\n",
    "h5f.close()"
   ]
  },
  {
   "cell_type": "code",
   "execution_count": 25,
   "metadata": {},
   "outputs": [
    {
     "data": {
      "text/plain": [
       "[<matplotlib.lines.Line2D at 0x1c829c27198>]"
      ]
     },
     "execution_count": 25,
     "metadata": {},
     "output_type": "execute_result"
    },
    {
     "data": {
      "image/png": "[encoded data removed]",
      "text/plain": [
       "<Figure size 432x288 with 1 Axes>"
      ]
     },
     "metadata": {},
     "output_type": "display_data"
    }
   ],
   "source": [
    "plt.plot(l1)\n",
    "#plt.savefig('C:/Users/horan/Desktop/Suraka/Loss curves/VIFNet/Loss curves/SSIM_MRI_loss_curve.png', bbox_inches = 'tight',pad_inches = 0)\n",
    "#plt.close()"
   ]
  },
  {
   "cell_type": "code",
   "execution_count": 26,
   "metadata": {},
   "outputs": [],
   "source": [
    "#load the test input MRI dataset\n",
    "filenames = os.listdir('C:/Users/horan/Desktop/Suraka/MRI/')\n",
    "dataset = os.path.join(os.getcwd(), 'C:/Users/horan/Desktop/Suraka/MRI/')\n",
    "data = glob.glob(os.path.join(dataset, \"*.gif\"))\n",
    "data = natsort.natsorted(data,reverse=False)\n",
    "test_mri = np.zeros((len(data), image_width,image_length))\n",
    "for i in range(len(data)):\n",
    "    test_mri[i,:,:] =(imageio.imread(data[i]))\n",
    "    test_mri[i,:,:] =(test_mri[i,:,:] - np.min(test_mri[i,:,:])) / (np.max(test_mri[i,:,:]) - np.min(test_mri[i,:,:]))\n",
    "    test_mri[i,:,:] = np.float32(test_mri[i,:,:])"
   ]
  },
  {
   "cell_type": "code",
   "execution_count": 27,
   "metadata": {},
   "outputs": [
    {
     "data": {
      "text/plain": [
       "(1, 1, 256, 256)"
      ]
     },
     "execution_count": 27,
     "metadata": {},
     "output_type": "execute_result"
    }
   ],
   "source": [
    "#expand dimension to add the channel\n",
    "test_mri = np.expand_dims(test_mri,axis=1)\n",
    "#verify the shape matches the pytorch standard\n",
    "test_mri.shape"
   ]
  },
  {
   "cell_type": "code",
   "execution_count": 28,
   "metadata": {},
   "outputs": [
    {
     "data": {
      "text/plain": [
       "<matplotlib.image.AxesImage at 0x1c829f6c4a8>"
      ]
     },
     "execution_count": 28,
     "metadata": {},
     "output_type": "execute_result"
    },
    {
     "data": {
      "image/png": "[encoded data removed]",
      "text/plain": [
       "<Figure size 432x288 with 1 Axes>"
      ]
     },
     "metadata": {},
     "output_type": "display_data"
    }
   ],
   "source": [
    "#verify the test mri image\n",
    "#test_mri = test_mri[0,:,:,:]\n",
    "#test_mri = np.expand_dims(test_mri,axis=0)\n",
    "plt.imshow(test_mri[0,0,:,:],'gray')\n",
    "#plt.savefig('MRI.png', bbox_inches = 'tight',pad_inches = 0,dpi=200)"
   ]
  },
  {
   "cell_type": "code",
   "execution_count": 29,
   "metadata": {},
   "outputs": [
    {
     "name": "stdout",
     "output_type": "stream",
     "text": [
      "torch.Size([1, 1, 256, 256])\n"
     ]
    }
   ],
   "source": [
    "#convert the MRI Testing data to pytorch tensor\n",
    "test_mri_tensor = torch.from_numpy(test_mri).float()\n",
    "print(test_mri_tensor.shape)\n",
    "test_mri_tensor.requires_grad =True"
   ]
  },
  {
   "cell_type": "code",
   "execution_count": 30,
   "metadata": {},
   "outputs": [],
   "source": [
    "#load the test input PET dataset\n",
    "filenames = os.listdir('C:/Users/horan/Desktop/Suraka/PET/')\n",
    "dataset = os.path.join(os.getcwd(), 'C:/Users/horan/Desktop/Suraka/PET/')\n",
    "data = glob.glob(os.path.join(dataset, \"*.png\"))\n",
    "data = natsort.natsorted(data,reverse=False)\n",
    "test_pet = np.zeros((len(data), image_width,image_length))\n",
    "for i in range(len(data)):\n",
    "    test_pet[i,:,:] =(imageio.imread(data[i]))\n",
    "    test_pet[i,:,:] =(test_pet[i,:,:] - np.min(test_pet[i,:,:])) / (np.max(test_pet[i,:,:]) - np.min(test_pet[i,:,:]))\n",
    "    test_pet[i,:,:] = np.float32(test_pet[i,:,:])"
   ]
  },
  {
   "cell_type": "code",
   "execution_count": 31,
   "metadata": {},
   "outputs": [
    {
     "data": {
      "text/plain": [
       "(1, 1, 256, 256)"
      ]
     },
     "execution_count": 31,
     "metadata": {},
     "output_type": "execute_result"
    }
   ],
   "source": [
    "#expand dimension to add the channel\n",
    "test_pet = np.expand_dims(test_pet,axis=1)\n",
    "#verify the shape matches the pytorch standard\n",
    "test_pet.shape "
   ]
  },
  {
   "cell_type": "code",
   "execution_count": 32,
   "metadata": {},
   "outputs": [
    {
     "data": {
      "text/plain": [
       "<matplotlib.image.AxesImage at 0x1c82a1bc898>"
      ]
     },
     "execution_count": 32,
     "metadata": {},
     "output_type": "execute_result"
    },
    {
     "data": {
      "image/png": "[encoded data removed]",
      "text/plain": [
       "<Figure size 432x288 with 1 Axes>"
      ]
     },
     "metadata": {},
     "output_type": "display_data"
    }
   ],
   "source": [
    "#verify the test pet image\n",
    "#test_pet = test_pet[2,:,:,:]\n",
    "#test_pet = np.expand_dims(test_pet,axis=0)\n",
    "plt.imshow(test_pet[0,0,:,:],'gray')"
   ]
  },
  {
   "cell_type": "code",
   "execution_count": 33,
   "metadata": {},
   "outputs": [
    {
     "data": {
      "text/plain": [
       "<matplotlib.image.AxesImage at 0x1c82a815198>"
      ]
     },
     "execution_count": 33,
     "metadata": {},
     "output_type": "execute_result"
    },
    {
     "data": {
      "image/png": "[encoded data removed]",
      "text/plain": [
       "<Figure size 432x288 with 1 Axes>"
      ]
     },
     "metadata": {},
     "output_type": "display_data"
    }
   ],
   "source": [
    "plt.imshow(test_pet[0,0,:,:],'gray')\n",
    "#plt.savefig('PET.png', bbox_inches = 'tight',pad_inches = 0,dpi=200)"
   ]
  },
  {
   "cell_type": "code",
   "execution_count": 34,
   "metadata": {},
   "outputs": [
    {
     "name": "stdout",
     "output_type": "stream",
     "text": [
      "torch.Size([1, 1, 256, 256])\n"
     ]
    }
   ],
   "source": [
    "#convert the MRI Testing data to pytorch tensor\n",
    "test_pet_tensor = torch.from_numpy(test_pet).float()\n",
    "print(test_pet_tensor.shape)\n",
    "test_pet_tensor.requires_grad =True"
   ]
  },
  {
   "cell_type": "code",
   "execution_count": 36,
   "metadata": {},
   "outputs": [
    {
     "data": {
      "text/plain": [
       "FusionDN(\n",
       "  (layer1): Sequential(\n",
       "    (0): Conv2d(2, 48, kernel_size=(3, 3), stride=(1, 1), padding=(1, 1))\n",
       "    (1): BatchNorm2d(48, eps=1e-05, momentum=0.1, affine=True, track_running_stats=True)\n",
       "    (2): ReLU()\n",
       "  )\n",
       "  (layer2): Sequential(\n",
       "    (0): Conv2d(48, 48, kernel_size=(3, 3), stride=(1, 1), padding=(1, 1))\n",
       "    (1): BatchNorm2d(48, eps=1e-05, momentum=0.1, affine=True, track_running_stats=True)\n",
       "    (2): ReLU()\n",
       "    (3): Conv2d(48, 48, kernel_size=(3, 3), stride=(1, 1), padding=(1, 1))\n",
       "    (4): BatchNorm2d(48, eps=1e-05, momentum=0.1, affine=True, track_running_stats=True)\n",
       "    (5): ReLU()\n",
       "  )\n",
       "  (layer3): Sequential(\n",
       "    (0): Conv2d(96, 48, kernel_size=(3, 3), stride=(1, 1), padding=(1, 1))\n",
       "    (1): BatchNorm2d(48, eps=1e-05, momentum=0.1, affine=True, track_running_stats=True)\n",
       "    (2): ReLU()\n",
       "    (3): Conv2d(48, 48, kernel_size=(3, 3), stride=(1, 1), padding=(1, 1))\n",
       "    (4): BatchNorm2d(48, eps=1e-05, momentum=0.1, affine=True, track_running_stats=True)\n",
       "    (5): ReLU()\n",
       "  )\n",
       "  (layer4): Sequential(\n",
       "    (0): Conv2d(144, 48, kernel_size=(3, 3), stride=(1, 1), padding=(1, 1))\n",
       "    (1): BatchNorm2d(48, eps=1e-05, momentum=0.1, affine=True, track_running_stats=True)\n",
       "    (2): ReLU()\n",
       "    (3): Conv2d(48, 48, kernel_size=(3, 3), stride=(1, 1), padding=(1, 1))\n",
       "    (4): BatchNorm2d(48, eps=1e-05, momentum=0.1, affine=True, track_running_stats=True)\n",
       "    (5): ReLU()\n",
       "  )\n",
       "  (layer5): Sequential(\n",
       "    (0): Conv2d(192, 48, kernel_size=(3, 3), stride=(1, 1), padding=(1, 1))\n",
       "    (1): BatchNorm2d(48, eps=1e-05, momentum=0.1, affine=True, track_running_stats=True)\n",
       "    (2): ReLU()\n",
       "    (3): Conv2d(48, 48, kernel_size=(3, 3), stride=(1, 1), padding=(1, 1))\n",
       "    (4): BatchNorm2d(48, eps=1e-05, momentum=0.1, affine=True, track_running_stats=True)\n",
       "    (5): ReLU()\n",
       "  )\n",
       "  (layer6): Sequential(\n",
       "    (0): Conv2d(240, 240, kernel_size=(3, 3), stride=(1, 1), padding=(1, 1))\n",
       "    (1): BatchNorm2d(240, eps=1e-05, momentum=0.1, affine=True, track_running_stats=True)\n",
       "    (2): ReLU()\n",
       "  )\n",
       "  (layer7): Sequential(\n",
       "    (0): Conv2d(240, 128, kernel_size=(3, 3), stride=(1, 1), padding=(1, 1))\n",
       "    (1): BatchNorm2d(128, eps=1e-05, momentum=0.1, affine=True, track_running_stats=True)\n",
       "    (2): ReLU()\n",
       "  )\n",
       "  (layer8): Sequential(\n",
       "    (0): Conv2d(128, 64, kernel_size=(3, 3), stride=(1, 1), padding=(1, 1))\n",
       "    (1): BatchNorm2d(64, eps=1e-05, momentum=0.1, affine=True, track_running_stats=True)\n",
       "    (2): ReLU()\n",
       "  )\n",
       "  (layer9): Sequential(\n",
       "    (0): Conv2d(64, 1, kernel_size=(3, 3), stride=(1, 1), padding=(1, 1))\n",
       "    (1): Tanh()\n",
       "  )\n",
       ")"
      ]
     },
     "execution_count": 36,
     "metadata": {},
     "output_type": "execute_result"
    }
   ],
   "source": [
    "#load the model\n",
    "device = torch.device(\"cuda\" if torch.cuda.is_available() else \"cpu\")\n",
    "gen =torch.load('C:/Users/horan/Desktop/Suraka/.ipynb_checkpoints/FusionDN/checkpoint.pth')\n",
    "gen.eval()"
   ]
  },
  {
   "cell_type": "code",
   "execution_count": 37,
   "metadata": {},
   "outputs": [],
   "source": [
    "#predicted the fused image\n",
    "fused = gen(test_mri_tensor.to(device), test_pet_tensor.to(device))\n",
    "fused_numpy = fused.data.cpu().numpy()"
   ]
  },
  {
   "cell_type": "code",
   "execution_count": 38,
   "metadata": {},
   "outputs": [
    {
     "data": {
      "text/plain": [
       "torch.Size([1, 1, 256, 256])"
      ]
     },
     "execution_count": 38,
     "metadata": {},
     "output_type": "execute_result"
    }
   ],
   "source": [
    "fused.shape"
   ]
  },
  {
   "cell_type": "code",
   "execution_count": 39,
   "metadata": {},
   "outputs": [
    {
     "data": {
      "text/plain": [
       "<matplotlib.image.AxesImage at 0x1c8544609b0>"
      ]
     },
     "execution_count": 39,
     "metadata": {},
     "output_type": "execute_result"
    },
    {
     "data": {
      "image/png": "[encoded data removed]",
      "text/plain": [
       "<Figure size 432x288 with 1 Axes>"
      ]
     },
     "metadata": {},
     "output_type": "display_data"
    }
   ],
   "source": [
    "#verify the output image\n",
    "plt.imshow(fused_numpy[0,0,:,:],'gray')\n",
    "#plt.savefig('Fused.png', bbox_inches = 'tight',pad_inches = 0,dpi=200)"
   ]
  },
  {
   "cell_type": "code",
   "execution_count": null,
   "metadata": {},
   "outputs": [],
   "source": [
    "#imageio.imwrite('C:/Users/horan/Desktop/Suraka/Fused/Fused.png',np.uint8(cv2.normalize(fused_numpy[0,0,:,:], None, alpha=0, beta=255, norm_type=cv2.NORM_MINMAX, dtype=cv2.CV_32F)))"
   ]
  },
  {
   "cell_type": "code",
   "execution_count": null,
   "metadata": {},
   "outputs": [],
   "source": [
    "#calculate the guidance image for MRI and PET wrt to the fused image\n",
    "time1 = time.time()\n",
    "count = 0 \n",
    "guide_fuse_mri = np.zeros((256,256),dtype=float)\n",
    "guide_fuse_pet = np.zeros((256,256),dtype=float)\n",
    "\n",
    "for y_coord in range(0,256):\n",
    "    for x_coord in range(0,256):\n",
    "        jacob_fuse_mri = torch.autograd.grad(fused[0,0,y_coord,x_coord], test_mri_tensor, retain_graph=True, create_graph=True)[0]\n",
    "        jacob_numpy_mri = np.squeeze(jacob_fuse_mri.data.cpu().numpy())  \n",
    "        guide_fuse_mri[y_coord,x_coord] = jacob_numpy_mri[y_coord,x_coord]\n",
    "        jacob_fuse_pet = torch.autograd.grad(fused[0,0,y_coord,x_coord], test_pet_tensor, retain_graph=True, create_graph=True)[0]\n",
    "        jacob_numpy_pet = np.squeeze(jacob_fuse_pet.data.cpu().numpy())  \n",
    "        guide_fuse_pet[y_coord,x_coord] = jacob_numpy_pet[y_coord,x_coord]\n",
    "        count += 1\n",
    "        if count % 100 == 0:\n",
    "            print('Count is %d' %count)\n",
    "time2 = time.time()\n",
    "print('Time taken to compute is %d seconds' %(time2-time1))"
   ]
  },
  {
   "cell_type": "code",
   "execution_count": null,
   "metadata": {},
   "outputs": [],
   "source": [
    "plt.imshow(guide_fuse_mri,cmap='viridis')\n",
    "plt.colorbar()\n",
    "#plt.savefig('Jacob_Fused_MRI.png', bbox_inches = 'tight',pad_inches = 0,dpi=200)"
   ]
  },
  {
   "cell_type": "code",
   "execution_count": null,
   "metadata": {},
   "outputs": [],
   "source": [
    "#guide_fuse_mri.shape"
   ]
  },
  {
   "cell_type": "code",
   "execution_count": null,
   "metadata": {},
   "outputs": [],
   "source": [
    "#plt.imshow(guide_fuse_pet,cmap='viridis')\n",
    "#plt.colorbar()\n",
    "#plt.savefig('Jacob_Fused_PET.png', bbox_inches = 'tight',pad_inches = 0,dpi=200)"
   ]
  },
  {
   "cell_type": "code",
   "execution_count": null,
   "metadata": {},
   "outputs": [],
   "source": [
    "#guide_fuse_pet.shape"
   ]
  },
  {
   "cell_type": "code",
   "execution_count": null,
   "metadata": {},
   "outputs": [],
   "source": [
    "#plt.imshow(fused_RGB)\n",
    "#plt.savefig('Fused_RGB.png', bbox_inches = 'tight',pad_inches = 0,dpi=200)"
   ]
  },
  {
   "cell_type": "code",
   "execution_count": null,
   "metadata": {},
   "outputs": [],
   "source": [
    "#plt.imshow(mri_RGB)\n",
    "#plt.savefig('MRI_RGB.png', bbox_inches = 'tight',pad_inches = 0,dpi=200)"
   ]
  },
  {
   "cell_type": "code",
   "execution_count": null,
   "metadata": {},
   "outputs": [],
   "source": [
    "#plt.imshow(pet_RGB)\n",
    "#plt.savefig('PET_RGB.png', bbox_inches = 'tight',pad_inches = 0,dpi=200)"
   ]
  },
  {
   "cell_type": "code",
   "execution_count": null,
   "metadata": {},
   "outputs": [],
   "source": [
    "#h5f = h5py.File('C:/Users/horan/Desktop/Suraka/Jacobian_MRI.h5', 'w')\n",
    "#h5f.create_dataset('MRI_dataset', data=guide_fuse_mri)\n",
    "#h5f.close()"
   ]
  },
  {
   "cell_type": "code",
   "execution_count": null,
   "metadata": {},
   "outputs": [],
   "source": [
    "#h5f = h5py.File('C:/Users/horan/Desktop/Suraka/Jacobian_PET.h5', 'w')\n",
    "#h5f.create_dataset('PET_dataset', data=guide_fuse_pet)\n",
    "#h5f.close()"
   ]
  },
  {
   "cell_type": "code",
   "execution_count": null,
   "metadata": {},
   "outputs": [],
   "source": [
    "hf = h5py.File('C:/Users/horan/Desktop/Suraka/Guidance images/FunFuseAn/H5 Files/Jacobian_MRI.h5', 'r')\n",
    "guide_fuse_mri =  np.array(hf.get('MRI_dataset'))\n",
    "hf.close()"
   ]
  },
  {
   "cell_type": "code",
   "execution_count": null,
   "metadata": {},
   "outputs": [],
   "source": [
    "plt.imshow(guide_fuse_mri,cmap='viridis')\n",
    "plt.colorbar()"
   ]
  },
  {
   "cell_type": "code",
   "execution_count": null,
   "metadata": {},
   "outputs": [],
   "source": [
    "hf = h5py.File('C:/Users/horan/Desktop/Suraka/Guidance images/FunFuseAn/H5 Files/Jacobian_PET.h5', 'r')\n",
    "guide_fuse_pet =  np.array(hf.get('PET_dataset'))\n",
    "hf.close()"
   ]
  },
  {
   "cell_type": "code",
   "execution_count": null,
   "metadata": {},
   "outputs": [],
   "source": [
    "plt.imshow(guide_fuse_pet,cmap='viridis')\n",
    "plt.colorbar()"
   ]
  },
  {
   "cell_type": "code",
   "execution_count": null,
   "metadata": {},
   "outputs": [],
   "source": [
    "#define overlay images\n",
    "fused_RGB = np.zeros((256,256,3),dtype=float)\n",
    "mri_RGB   = np.zeros((256,256,3),dtype=float)\n",
    "pet_RGB   = np.zeros((256,256,3),dtype=float)"
   ]
  },
  {
   "cell_type": "code",
   "execution_count": null,
   "metadata": {},
   "outputs": [],
   "source": [
    "fused_RGB[:,:,0]  = guide_fuse_mri \n",
    "fused_RGB[:,:,1]  = guide_fuse_pet \n",
    "fused_RGB[:,:,2]  = fused_numpy[0,0,:,:]"
   ]
  },
  {
   "cell_type": "code",
   "execution_count": null,
   "metadata": {},
   "outputs": [],
   "source": [
    "plt.imshow(fused_RGB)"
   ]
  },
  {
   "cell_type": "code",
   "execution_count": null,
   "metadata": {},
   "outputs": [],
   "source": [
    "mri_RGB[:,:,0]  = guide_fuse_mri\n",
    "mri_RGB[:,:,1]  = guide_fuse_pet \n",
    "mri_RGB[:,:,2]  = test_mri[0,0,:,:]"
   ]
  },
  {
   "cell_type": "code",
   "execution_count": null,
   "metadata": {},
   "outputs": [],
   "source": [
    "plt.imshow(mri_RGB)"
   ]
  },
  {
   "cell_type": "code",
   "execution_count": null,
   "metadata": {},
   "outputs": [],
   "source": [
    "pet_RGB[:,:,0]  = guide_fuse_mri\n",
    "pet_RGB[:,:,1]  = guide_fuse_pet \n",
    "pet_RGB[:,:,2]  = test_pet[0,0,:,:]"
   ]
  },
  {
   "cell_type": "code",
   "execution_count": null,
   "metadata": {},
   "outputs": [],
   "source": [
    "plt.imshow(pet_RGB)"
   ]
  },
  {
   "cell_type": "code",
   "execution_count": null,
   "metadata": {},
   "outputs": [],
   "source": [
    "#define the window\n",
    "root = Tk()  \n",
    "root.title('Visualisation of fusion networks')\n",
    "root.configure(background='white')\n",
    "\n",
    "\n",
    "#Label the images\n",
    "#fontStyle = tkFont.Font(family=\"Lucida Grande\", size=15)\n",
    "#w1 = tk.Label(root, bg='white', font=fontStyle, text=\"Fused Image\")\n",
    "#w1.grid(row=0, column=1)\n",
    "#w1.pack()\n",
    "\n",
    "#define the frame\n",
    "canvasframe = Frame(root)  # define Input and output frame\n",
    "buttonframe = Frame(root)  # define button frame\n",
    "canvasframe.pack()  # pack the Input and Output frame\n",
    "buttonframe.pack()  # pack the button frame\n",
    "\n",
    "\n",
    "#define the canvas\n",
    "canvas = Canvas(canvasframe, width=1800, height=920, bg = 'white')\n",
    "canvas.grid(row=0, column=0)\n",
    "\n",
    "#Insert fused image to the canvas\n",
    "img_fused = ImageTk.PhotoImage(file =\"C:/Users/horan/Desktop/Suraka/Fused/Fused.png\") # load the image\n",
    "canvas.create_image(0, 0, image=img_fused, anchor=NW)\n",
    "\n",
    "#Insert MRI image to the canvas\n",
    "img_mri = ImageTk.PhotoImage(file =\"C:/Users/horan/Desktop/Suraka/MRI/MRI.gif\") # load the image\n",
    "canvas.create_image(620, 0, image=img_mri, anchor=NW)\n",
    "\n",
    "#Insert PET image to the canvas\n",
    "img_pet = ImageTk.PhotoImage(file =\"C:/Users/horan/Desktop/Suraka/PET/3.png\") # load the image\n",
    "canvas.create_image(1240, 0, image=img_pet, anchor=NW)\n",
    "\n",
    "def start_mouseover():  # function called when user clicks the button \n",
    "    # link the function to the left-mouse-click event\n",
    "    canvas.bind(\"<B1-Motion>\", Coordinates)\n",
    "\n",
    "def Coordinates(event): # function called when left-mouse-button is clicked with a mouseover\n",
    "    x_coord = event.x  # save x and y coordinates selected by the user   \n",
    "    y_coord = event.y\n",
    "    print('mouse position is at' + '(' + str(y_coord) + ',' + str(x_coord) + ')', end='\\r')\n",
    "    #display the output MRI Jacobian image\n",
    "    #img_MR_out = ImageTk.PhotoImage(file ='C:/Users/cgvadmin/Desktop/Suraka/Fused_MRI/im_' + str(y_coord) + '_' + str(x_coord) + '.png') # load the image\n",
    "    jacobian_fuse_mri = torch.autograd.grad(fused[0,0,y_coord,x_coord], test_mri_tensor, retain_graph=True, create_graph=True)[0]\n",
    "    jacobian_fuse_pet = torch.autograd.grad(fused[0,0,y_coord,x_coord], test_pet_tensor, retain_graph=True, create_graph=True)[0]\n",
    "    \n",
    "    jacob_val_mri = np.squeeze(jacobian_fuse_mri.data.cpu().numpy())    \n",
    "    jacob_val_pet = np.squeeze(jacobian_fuse_pet.data.cpu().numpy())\n",
    "    \n",
    "    x_mri = np.asarray(np.where(np.any(jacob_val_mri, axis = 0)))\n",
    "    y_mri = np.asarray(np.where(np.any(jacob_val_mri, axis = 1)))\n",
    "    minx_mri, maxx_mri, miny_mri, maxy_mri = np.min(x_mri), np.max(x_mri), np.min(y_mri), np.max(y_mri)  #return min and max coordinates\n",
    "    zoom_im_mri = jacob_val_mri[miny_mri:maxy_mri,minx_mri:maxx_mri] \n",
    "    \n",
    "    x_pet = np.asarray(np.where(np.any(jacob_val_pet, axis = 0)))\n",
    "    y_pet = np.asarray(np.where(np.any(jacob_val_pet, axis = 1)))\n",
    "    minx_pet, maxx_pet, miny_pet, maxy_pet = np.min(x_pet), np.max(x_pet), np.min(y_pet), np.max(y_pet)  #return min and max coordinates\n",
    "    zoom_im_pet = jacob_val_pet[miny_pet:maxy_pet,minx_pet:maxx_pet] \n",
    "    \n",
    "    plt.imshow(fused_numpy[0,0,miny_mri:maxy_mri,minx_mri:maxx_mri], cmap = 'gray', aspect ='equal')\n",
    "    plt.title('Zoom Fused')\n",
    "    plt.savefig('C:/Users/horan/Desktop/Suraka/Guidance images/FunFuseAn/Resultant images/foo11.png', bbox_inches = 'tight',pad_inches = 0)\n",
    "    plt.close()\n",
    "    im_out11 = ImageTk.PhotoImage(file ='C:/Users/horan/Desktop/Suraka/Guidance images/FunFuseAn/Resultant images/foo11.png')\n",
    "    canvas.create_image(320,0,image=im_out11,anchor=NW)\n",
    "    canvas.image11 = im_out11\n",
    "    plt.tight_layout()\n",
    "    \n",
    "    plt.imshow(test_mri[0,0,miny_mri:maxy_mri,minx_mri:maxx_mri], cmap = 'gray', aspect ='equal')\n",
    "    plt.title('Zoom MRI')\n",
    "    plt.savefig('C:/Users/horan/Desktop/Suraka/Guidance images/FunFuseAn/Resultant images/foo12.png', bbox_inches = 'tight',pad_inches = 0)\n",
    "    plt.close()\n",
    "    im_out12 = ImageTk.PhotoImage(file ='C:/Users/horan/Desktop/Suraka/Guidance images/FunFuseAn/Resultant images/foo12.png')\n",
    "    canvas.create_image(950,0,image=im_out12,anchor=NW)\n",
    "    canvas.image12 = im_out12\n",
    "    plt.tight_layout()\n",
    "    \n",
    "    plt.imshow(test_pet[0,0,miny_mri:maxy_mri,minx_mri:maxx_mri], cmap = 'gray', aspect ='equal')\n",
    "    plt.title('Zoom PET')\n",
    "    plt.savefig('C:/Users/horan/Desktop/Suraka/Guidance images/FunFuseAn/Resultant images/foo13.png', bbox_inches = 'tight',pad_inches = 0)\n",
    "    plt.close()\n",
    "    im_out13 = ImageTk.PhotoImage(file ='C:/Users/horan/Desktop/Suraka/Guidance images/FunFuseAn/Resultant images/foo13.png')\n",
    "    canvas.create_image(1500,0,image=im_out13,anchor=NW)\n",
    "    canvas.image13 = im_out13\n",
    "    plt.tight_layout()\n",
    "    \n",
    "    plt.imshow(jacob_val_mri,cmap='viridis', aspect ='equal')\n",
    "    plt.title('Fused wrt MRI')\n",
    "    plt.savefig('C:/Users/horan/Desktop/Suraka/Guidance images/FunFuseAn/Resultant images/foo1.png', bbox_inches = 'tight',pad_inches = 0)\n",
    "    plt.close()\n",
    "    im_out1 = ImageTk.PhotoImage(file ='C:/Users/horan/Desktop/Suraka/Guidance images/FunFuseAn/Resultant images/foo1.png')\n",
    "    canvas.create_image(0,320,image=im_out1,anchor=NW)\n",
    "    canvas.image1 = im_out1\n",
    "    #plt.tight_layout()\n",
    "    \n",
    "    #f.add_subplot(1,5,2)\n",
    "    plt.imshow(zoom_im_mri,cmap='viridis',aspect ='equal')\n",
    "    plt.title('Zoomed (Fused wrt MRI)')\n",
    "    plt.colorbar()\n",
    "    plt.savefig('C:/Users/horan/Desktop/Suraka/Guidance images/FunFuseAn/Resultant images/foo2.png', bbox_inches = 'tight',pad_inches = 0)\n",
    "    plt.close()\n",
    "    im_out2 = ImageTk.PhotoImage(file ='C:/Users/horan/Desktop/Suraka/Guidance images/FunFuseAn/Resultant images/foo2.png')\n",
    "    canvas.create_image(280,320,image=im_out2,anchor=NW)\n",
    "    canvas.image2 = im_out2\n",
    "    #plt.tight_layout()\n",
    "    #divider = make_axes_locatable(plt)\n",
    "    #cax = divider.append_axes(\"right\", size=\"5%\", pad=0.05)\n",
    "    #plt.colorbar(cax=cax)\n",
    "    \n",
    "    #f.add_subplot(1,5,3)\n",
    "    plt.xlim(0,0.7)\n",
    "    plt.ylim(0,0.7)\n",
    "    plt.plot(jacob_val_mri[y_coord,x_coord],jacob_val_pet[y_coord,x_coord],'-ro')\n",
    "    plt.xlabel('MRI pixel score (Fused wrt MRI)')\n",
    "    plt.ylabel('PET pixel score (Fused wrt PET)')\n",
    "    plt.title('Mouse position at: (' + str(y_coord) + ',' + str(x_coord) + ')')\n",
    "    plt.gca().set_aspect('equal', adjustable='box')\n",
    "    plt.draw()\n",
    "    plt.savefig('C:/Users/horan/Desktop/Suraka/Guidance images/FunFuseAn/Resultant images/foo3.png', bbox_inches = 'tight',pad_inches = 0.1)\n",
    "    plt.close()\n",
    "    im_out3 = ImageTk.PhotoImage(file ='C:/Users/horan/Desktop/Suraka/Guidance images/FunFuseAn/Resultant images/foo3.png')\n",
    "    canvas.create_image(600,320,image=im_out3,anchor=NW)\n",
    "    canvas.image3 = im_out3\n",
    "    \n",
    "    #f.add_subplot(1,5,4)\n",
    "    plt.imshow(jacob_val_pet,cmap='viridis',aspect ='equal')\n",
    "    plt.title('Fused wrt PET')\n",
    "    plt.savefig('C:/Users/horan/Desktop/Suraka/Guidance images/FunFuseAn/Resultant images/foo4.png', bbox_inches = 'tight',pad_inches = 0)\n",
    "    plt.close()\n",
    "    im_out4 = ImageTk.PhotoImage(file ='C:/Users/horan/Desktop/Suraka/Guidance images/FunFuseAn/Resultant images/foo4.png')\n",
    "    canvas.create_image(900,320,image=im_out4,anchor=NW)\n",
    "    canvas.image4 = im_out4\n",
    "    #plt.tight_layout()\n",
    "    \n",
    "    #f.add_subplot(1,5,5)\n",
    "    plt.imshow(zoom_im_pet,cmap='viridis',aspect ='equal')\n",
    "    plt.title('Zoomed (Fused wrt PET)')\n",
    "    plt.colorbar()\n",
    "    plt.savefig('C:/Users/horan/Desktop/Suraka/Guidance images/FunFuseAn/Resultant images/foo5.png', bbox_inches = 'tight',pad_inches = 0)\n",
    "    plt.close()\n",
    "    im_out5 = ImageTk.PhotoImage(file ='C:/Users/horan/Desktop/Suraka/Guidance images/FunFuseAn/Resultant images/foo5.png')\n",
    "    canvas.create_image(1180,320,image=im_out5,anchor=NW)\n",
    "    canvas.image5 = im_out5\n",
    "\n",
    "    plt.imshow(guide_fuse_mri,cmap='viridis')\n",
    "    plt.title('Fused wrt MRI')\n",
    "    plt.colorbar()\n",
    "    plt.savefig('C:/Users/horan/Desktop/Suraka/Guidance images/FunFuseAn/Resultant images/foo6.png', bbox_inches = 'tight',pad_inches = 0)\n",
    "    plt.close()\n",
    "    im_out6 = ImageTk.PhotoImage(file ='C:/Users/horan/Desktop/Suraka/Guidance images/FunFuseAn/Resultant images/foo6.png')\n",
    "    canvas.create_image(0,650,image=im_out6,anchor=NW)\n",
    "    canvas.image6 = im_out6\n",
    "    \n",
    "    plt.imshow(fused_RGB)\n",
    "    plt.savefig('C:/Users/horan/Desktop/Suraka/Guidance images/FunFuseAn/Resultant images/foo8.png', bbox_inches = 'tight',pad_inches = 0)\n",
    "    plt.close()\n",
    "    im_out8 = ImageTk.PhotoImage(file ='C:/Users/horan/Desktop/Suraka/Guidance images/FunFuseAn/Resultant images/foo8.png')\n",
    "    canvas.create_image(300,650,image=im_out8,anchor=NW)\n",
    "    canvas.image8 = im_out8\n",
    "    \n",
    "    plt.imshow(mri_RGB)\n",
    "    plt.savefig('C:/Users/horan/Desktop/Suraka/Guidance images/FunFuseAn/Resultant images/foo9.png', bbox_inches = 'tight',pad_inches = 0)\n",
    "    plt.close()\n",
    "    im_out9 = ImageTk.PhotoImage(file ='C:/Users/horan/Desktop/Suraka/Guidance images/FunFuseAn/Resultant images/foo9.png')\n",
    "    canvas.create_image(600,650,image=im_out9,anchor=NW)\n",
    "    canvas.image9 = im_out9\n",
    "    \n",
    "    plt.imshow(pet_RGB)\n",
    "    plt.savefig('C:/Users/horan/Desktop/Suraka/Guidance images/FunFuseAn/Resultant images/foo10.png', bbox_inches = 'tight',pad_inches = 0)\n",
    "    plt.close()\n",
    "    im_out10 = ImageTk.PhotoImage(file ='C:/Users/horan/Desktop/Suraka/Guidance images/FunFuseAn/Resultant images/foo10.png')\n",
    "    canvas.create_image(900,650,image=im_out10,anchor=NW)\n",
    "    canvas.image10 = im_out10\n",
    "    \n",
    "    plt.imshow(guide_fuse_pet,cmap='viridis')\n",
    "    plt.colorbar()\n",
    "    plt.savefig('C:/Users/horan/Desktop/Suraka/Guidance images/FunFuseAn/Resultant images/foo7.png', bbox_inches = 'tight',pad_inches = 0)\n",
    "    plt.close()\n",
    "    im_out7 = ImageTk.PhotoImage(file ='C:/Users/horan/Desktop/Suraka/Guidance images/FunFuseAn/Resultant images/foo7.png')\n",
    "    canvas.create_image(1200,650,image=im_out7,anchor=NW)\n",
    "    canvas.image7 = im_out7\n",
    "    \n",
    "    radius = 5\n",
    "    i = canvas.create_oval(x_coord-radius, y_coord-radius, x_coord+radius, y_coord+radius, fill = 'red')\n",
    "    canvas.after(20,canvas.delete,i)\n",
    "\n",
    "# insert button to the middleframe and link it to \"Start Mouseover\"\n",
    "button_start_mouseover = Button(buttonframe, text=\"Start Mouseover\",command=start_mouseover)\n",
    "button_start_mouseover.grid(row=1, column=0, pady=0)\n",
    "\n",
    "\n",
    "root.mainloop()  #keep the GUI open"
   ]
  },
  {
   "cell_type": "code",
   "execution_count": null,
   "metadata": {},
   "outputs": [],
   "source": []
  }
 ],
 "metadata": {
  "kernelspec": {
   "display_name": "Python 3",
   "language": "python",
   "name": "python3"
  },
  "language_info": {
   "codemirror_mode": {
    "name": "ipython",
    "version": 3
   },
   "file_extension": ".py",
   "mimetype": "text/x-python",
   "name": "python",
   "nbconvert_exporter": "python",
   "pygments_lexer": "ipython3",
   "version": "3.6.5"
  }
 },
 "nbformat": 4,
 "nbformat_minor": 4
}
