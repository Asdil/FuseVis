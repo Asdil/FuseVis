{
 "cells": [
  {
   "cell_type": "markdown",
   "metadata": {},
   "source": [
    "# This is the pytorch implementation of the paper \"Structural Similarity based Anatomical and Functional Brain Imaging Fusion\""
   ]
  },
  {
   "cell_type": "code",
   "execution_count": 1,
   "metadata": {},
   "outputs": [],
   "source": [
    "import sys\n",
    "sys.path.append(\"/home/h1/s8993054/.local/lib/python3.6/site-packages/\") # go to parent dir"
   ]
  },
  {
   "cell_type": "code",
   "execution_count": 2,
   "metadata": {},
   "outputs": [],
   "source": [
    "#Import packages\n",
    "import time\n",
    "import torch.nn as nn\n",
    "import torch\n",
    "from torch.utils.data import Dataset, DataLoader\n",
    "import torchvision.datasets as datasets\n",
    "import numpy as np\n",
    "from torchvision import transforms\n",
    "from torch.autograd import Variable\n",
    "from PIL import Image\n",
    "import torchvision.transforms.functional as TF\n",
    "from torchvision.models.vgg import vgg19\n",
    "import torch.nn as nn\n",
    "import torch.nn.functional as F\n",
    "import torch\n",
    "from skimage import img_as_ubyte\n",
    "import torch.nn as nn\n",
    "import torch.utils.data as Data\n",
    "import torchvision      # dataset\n",
    "import matplotlib.pyplot as plt\n",
    "import scipy\n",
    "import numpy as np\n",
    "import argparse\n",
    "import glob\n",
    "import imageio\n",
    "from skimage import color\n",
    "import numpy\n",
    "import natsort\n",
    "import scipy\n",
    "from pytorch_msssim import ssim, ms_ssim, SSIM, MS_SSIM\n",
    "import pprint\n",
    "from scipy.ndimage import correlate\n",
    "from scipy.ndimage.filters import gaussian_gradient_magnitude\n",
    "import torchvision.datasets as dset\n",
    "import torch.utils.data as data\n",
    "import os\n",
    "import os.path\n",
    "from tkinter import *\n",
    "import tkinter as tk\n",
    "import tkinter.font as tkFont\n",
    "from PIL import ImageTk, Image\n",
    "import pylab\n",
    "import cv2\n",
    "import h5py\n",
    "from mpl_toolkits.axes_grid1 import make_axes_locatable\n",
    "from matplotlib.font_manager import FontProperties"
   ]
  },
  {
   "cell_type": "code",
   "execution_count": 3,
   "metadata": {},
   "outputs": [
    {
     "name": "stdout",
     "output_type": "stream",
     "text": [
      "33822867456\n"
     ]
    }
   ],
   "source": [
    "device = 'cuda' if torch.cuda.is_available() else 'cpu'\n",
    "print(torch.cuda.get_device_properties(0).total_memory)"
   ]
  },
  {
   "cell_type": "code",
   "execution_count": 4,
   "metadata": {},
   "outputs": [
    {
     "data": {
      "text/plain": [
       "176"
      ]
     },
     "execution_count": 4,
     "metadata": {},
     "output_type": "execute_result"
    }
   ],
   "source": [
    "import multiprocessing\n",
    "\n",
    "multiprocessing.cpu_count()"
   ]
  },
  {
   "cell_type": "code",
   "execution_count": 5,
   "metadata": {},
   "outputs": [],
   "source": [
    "#define the hyperparameters\n",
    "image_length = 256\n",
    "image_width  = 256\n",
    "mr_channels  = 1\n",
    "gray_channels = 1\n",
    "pet_channels = 4    \n",
    "rgb_channels = 3     \n",
    "batch_size   = 2\n",
    "EPOCH = 200\n",
    "learning_rate = 0.002"
   ]
  },
  {
   "cell_type": "code",
   "execution_count": 6,
   "metadata": {},
   "outputs": [],
   "source": [
    "#load the train mri data\n",
    "filenames = os.listdir('/home/h1/s8993054/Forschungprojekt/Training/MRI')\n",
    "dataset = os.path.join(os.getcwd(), '/home/h1/s8993054/Forschungprojekt/Training/MRI')\n",
    "data = glob.glob(os.path.join(dataset, \"*.gif\"))\n",
    "data = natsort.natsorted(data,reverse=False)\n",
    "train_mri = np.zeros((len(data), image_width,image_length))\n",
    "for i in range(len(data)):\n",
    "    train_mri[i,:,:] =(imageio.imread(data[i]))\n",
    "    train_mri[i,:,:] =(train_mri[i,:,:] - np.min(train_mri[i,:,:])) / (np.max(train_mri[i,:,:]) - np.min(train_mri[i,:,:]))\n",
    "    train_mri[i,:,:] = np.float32(train_mri[i,:,:])"
   ]
  },
  {
   "cell_type": "code",
   "execution_count": 7,
   "metadata": {},
   "outputs": [],
   "source": [
    "#expand dimension to add the channel\n",
    "train_mri = np.expand_dims(train_mri,axis=1)"
   ]
  },
  {
   "cell_type": "code",
   "execution_count": 8,
   "metadata": {},
   "outputs": [
    {
     "data": {
      "text/plain": [
       "(272, 1, 256, 256)"
      ]
     },
     "execution_count": 8,
     "metadata": {},
     "output_type": "execute_result"
    }
   ],
   "source": [
    "#verify the shape matches the pytorch standard\n",
    "train_mri.shape"
   ]
  },
  {
   "cell_type": "code",
   "execution_count": 9,
   "metadata": {},
   "outputs": [
    {
     "data": {
      "text/plain": [
       "torch.Size([272, 1, 256, 256])"
      ]
     },
     "execution_count": 9,
     "metadata": {},
     "output_type": "execute_result"
    }
   ],
   "source": [
    "#convert the MRI training data to pytorch tensor\n",
    "train_mri_tensor = torch.from_numpy(train_mri).float()\n",
    "train_mri_tensor.shape"
   ]
  },
  {
   "cell_type": "code",
   "execution_count": 10,
   "metadata": {},
   "outputs": [],
   "source": [
    "#load the train pet data\n",
    "filenames = os.listdir('/home/h1/s8993054/Forschungprojekt/Training/PET')\n",
    "dataset = os.path.join(os.getcwd(), '/home/h1/s8993054/Forschungprojekt/Training/PET')\n",
    "data = glob.glob(os.path.join(dataset, \"*.gif\"))\n",
    "data = natsort.natsorted(data,reverse=False)\n",
    "train_other = np.zeros((len(data),image_width,image_length,pet_channels),dtype=float)\n",
    "train_pet = np.zeros((len(data),image_width,image_length),dtype=float)\n",
    "for i in range(len(data)):\n",
    "    train_other[i,:,:,:] =(imageio.imread(data[i]))\n",
    "    train_pet[i,:,:] = 0.2989 * train_other[i,:,:,0] + 0.5870 *  train_other[i,:,:,1]  + 0.1140 * train_other[i,:,:,2]\n",
    "    train_pet[i,:,:] =(train_pet[i,:,:] - np.min(train_pet[i,:,:])) / (np.max(train_pet[i,:,:]) - np.min(train_pet[i,:,:]))"
   ]
  },
  {
   "cell_type": "code",
   "execution_count": 11,
   "metadata": {},
   "outputs": [],
   "source": [
    "#expand the dimension to add the channel\n",
    "train_pet = np.expand_dims(train_pet,axis=1)"
   ]
  },
  {
   "cell_type": "code",
   "execution_count": 12,
   "metadata": {},
   "outputs": [
    {
     "data": {
      "text/plain": [
       "(272, 1, 256, 256)"
      ]
     },
     "execution_count": 12,
     "metadata": {},
     "output_type": "execute_result"
    }
   ],
   "source": [
    "#verify the shape matches the pytorch standard\n",
    "train_pet.shape"
   ]
  },
  {
   "cell_type": "code",
   "execution_count": 13,
   "metadata": {},
   "outputs": [
    {
     "data": {
      "text/plain": [
       "torch.Size([272, 1, 256, 256])"
      ]
     },
     "execution_count": 13,
     "metadata": {},
     "output_type": "execute_result"
    }
   ],
   "source": [
    "#convert the PET training data to pytorch tensor\n",
    "train_pet_tensor = torch.from_numpy(train_pet).float()\n",
    "train_pet_tensor.shape"
   ]
  },
  {
   "cell_type": "code",
   "execution_count": 14,
   "metadata": {},
   "outputs": [
    {
     "name": "stdout",
     "output_type": "stream",
     "text": [
      "Let's use 6 GPUs!\n"
     ]
    },
    {
     "data": {
      "text/plain": [
       "DataParallel(\n",
       "  (module): FunFuseAn(\n",
       "    (mri_lf): Sequential(\n",
       "      (0): Conv2d(1, 16, kernel_size=(9, 9), stride=(1, 1), padding=(4, 4))\n",
       "      (1): BatchNorm2d(16, eps=1e-05, momentum=0.1, affine=True, track_running_stats=True)\n",
       "      (2): LeakyReLU(negative_slope=0.2, inplace)\n",
       "    )\n",
       "    (mri_hf): Sequential(\n",
       "      (0): Conv2d(1, 16, kernel_size=(3, 3), stride=(1, 1), padding=(1, 1))\n",
       "      (1): BatchNorm2d(16, eps=1e-05, momentum=0.1, affine=True, track_running_stats=True)\n",
       "      (2): LeakyReLU(negative_slope=0.2, inplace)\n",
       "      (3): Conv2d(16, 32, kernel_size=(3, 3), stride=(1, 1), padding=(1, 1))\n",
       "      (4): BatchNorm2d(32, eps=1e-05, momentum=0.1, affine=True, track_running_stats=True)\n",
       "      (5): LeakyReLU(negative_slope=0.2, inplace)\n",
       "      (6): Conv2d(32, 64, kernel_size=(3, 3), stride=(1, 1), padding=(1, 1))\n",
       "      (7): BatchNorm2d(64, eps=1e-05, momentum=0.1, affine=True, track_running_stats=True)\n",
       "      (8): LeakyReLU(negative_slope=0.2, inplace)\n",
       "    )\n",
       "    (pet_lf): Sequential(\n",
       "      (0): Conv2d(1, 16, kernel_size=(7, 7), stride=(1, 1), padding=(3, 3))\n",
       "      (1): BatchNorm2d(16, eps=1e-05, momentum=0.1, affine=True, track_running_stats=True)\n",
       "      (2): LeakyReLU(negative_slope=0.2, inplace)\n",
       "    )\n",
       "    (pet_hf): Sequential(\n",
       "      (0): Conv2d(1, 16, kernel_size=(5, 5), stride=(1, 1), padding=(2, 2))\n",
       "      (1): BatchNorm2d(16, eps=1e-05, momentum=0.1, affine=True, track_running_stats=True)\n",
       "      (2): LeakyReLU(negative_slope=0.2, inplace)\n",
       "      (3): Conv2d(16, 32, kernel_size=(5, 5), stride=(1, 1), padding=(2, 2))\n",
       "      (4): BatchNorm2d(32, eps=1e-05, momentum=0.1, affine=True, track_running_stats=True)\n",
       "      (5): LeakyReLU(negative_slope=0.2, inplace)\n",
       "      (6): Conv2d(32, 64, kernel_size=(3, 3), stride=(1, 1), padding=(1, 1))\n",
       "      (7): BatchNorm2d(64, eps=1e-05, momentum=0.1, affine=True, track_running_stats=True)\n",
       "      (8): LeakyReLU(negative_slope=0.2, inplace)\n",
       "    )\n",
       "    (recon1): Sequential(\n",
       "      (0): Conv2d(64, 32, kernel_size=(5, 5), stride=(1, 1), padding=(2, 2))\n",
       "      (1): BatchNorm2d(32, eps=1e-05, momentum=0.1, affine=True, track_running_stats=True)\n",
       "      (2): LeakyReLU(negative_slope=0.2, inplace)\n",
       "      (3): Conv2d(32, 16, kernel_size=(5, 5), stride=(1, 1), padding=(2, 2))\n",
       "      (4): BatchNorm2d(16, eps=1e-05, momentum=0.1, affine=True, track_running_stats=True)\n",
       "      (5): LeakyReLU(negative_slope=0.2, inplace)\n",
       "    )\n",
       "    (recon2): Sequential(\n",
       "      (0): Conv2d(16, 1, kernel_size=(5, 5), stride=(1, 1), padding=(2, 2))\n",
       "    )\n",
       "  )\n",
       ")"
      ]
     },
     "execution_count": 14,
     "metadata": {},
     "output_type": "execute_result"
    }
   ],
   "source": [
    "#define the network\n",
    "class FunFuseAn(nn.Module):\n",
    "    def  __init__(self):\n",
    "        super(FunFuseAn, self).__init__()\n",
    "        #####mri lf layer 1#####\n",
    "        self.mri_lf = nn.Sequential( #input shape (,1,256,256)\n",
    "                         nn.Conv2d(in_channels=1, out_channels=16, kernel_size=9, stride=1, padding=4),\n",
    "                         nn.BatchNorm2d(16),\n",
    "                         nn.LeakyReLU(0.2,inplace=True)) #output shape (,16,256,256)   \n",
    "        #####mri hf layers#####\n",
    "        self.mri_hf = nn.Sequential(  #input shape (,1,256,256)\n",
    "                         nn.Conv2d(in_channels = 1, out_channels = 16, kernel_size  = 3, stride= 1, padding = 1),\n",
    "                         nn.BatchNorm2d(16),\n",
    "                         nn.LeakyReLU(0.2,inplace=True),\n",
    "                         nn.Conv2d(in_channels  = 16, out_channels = 32, kernel_size = 3, stride = 1, padding = 1),\n",
    "                         nn.BatchNorm2d(32),\n",
    "                         nn.LeakyReLU(0.2,inplace=True),\n",
    "                         nn.Conv2d(in_channels  = 32, out_channels = 64, kernel_size  = 3, stride = 1, padding = 1),\n",
    "                         nn.BatchNorm2d(64),\n",
    "                         nn.LeakyReLU(0.2,inplace=True)) #output shape (,64,256,256)\n",
    "        #####pet lf layer 1#####\n",
    "        self.pet_lf = nn.Sequential( #input shape (,1,256,256)\n",
    "                         nn.Conv2d(in_channels=1, out_channels=16, kernel_size=7, stride=1, padding=3),\n",
    "                         nn.BatchNorm2d(16),\n",
    "                         nn.LeakyReLU(0.2,inplace=True)) #output shape (,16,256,256)   \n",
    "        #####pet hf layers#####\n",
    "        self.pet_hf = nn.Sequential(  #input shape (,1,256,256)\n",
    "                         nn.Conv2d(in_channels = 1, out_channels = 16, kernel_size  = 5, stride= 1, padding = 2),\n",
    "                         nn.BatchNorm2d(16),\n",
    "                         nn.LeakyReLU(0.2,inplace=True),\n",
    "                         nn.Conv2d(in_channels  = 16, out_channels = 32, kernel_size = 5, stride = 1, padding = 2),\n",
    "                         nn.BatchNorm2d(32),\n",
    "                         nn.LeakyReLU(0.2,inplace=True),\n",
    "                         nn.Conv2d(in_channels  = 32, out_channels = 64, kernel_size  = 3, stride = 1, padding = 1),\n",
    "                         nn.BatchNorm2d(64),\n",
    "                         nn.LeakyReLU(0.2,inplace=True)) #output shape (,64,256,256)\n",
    "        #####reconstruction layer 1#####\n",
    "        self.recon1 = nn.Sequential(  #input shape (, 64, 256, 256)\n",
    "                          nn.Conv2d(in_channels  = 64,  out_channels = 32, kernel_size  = 5, stride = 1, padding = 2),\n",
    "                          nn.BatchNorm2d(32),\n",
    "                          nn.LeakyReLU(0.2,inplace=True),\n",
    "                          nn.Conv2d(in_channels  = 32, out_channels = 16, kernel_size  = 5, stride = 1, padding = 2),\n",
    "                          nn.BatchNorm2d(16),\n",
    "                          nn.LeakyReLU(0.2,inplace=True)) #output shape (,16, 256, 256)\n",
    "        \n",
    "        #####reconstruction layer 2#####\n",
    "        self.recon2 = nn.Sequential(      #input shape (,16, 256, 256)\n",
    "                            nn.Conv2d(in_channels  = 16, out_channels = 1, kernel_size  = 5, stride = 1, padding = 2))   #output shape (,1,256,256)\n",
    "\n",
    "    def forward(self, x, y):\n",
    "        #mri lf layer 1\n",
    "        x1 = self.mri_lf(x)\n",
    "        #mri hf layers\n",
    "        x2 = self.mri_hf(x)\n",
    "        #pet lf layer 1\n",
    "        y1 = self.pet_lf(y)\n",
    "        #pet hf layers\n",
    "        y2 = self.pet_hf(y)\n",
    "        #high frequency fusion layer\n",
    "        fuse_hf = x2 + y2\n",
    "        #reconstruction layer1\n",
    "        recon_hf = self.recon1(fuse_hf)\n",
    "        #low frequency fusion layer\n",
    "        fuse_lf = (x1 + y1 + recon_hf)/3\n",
    "        #reconstruction layer2\n",
    "        recon3 = self.recon2(fuse_lf)\n",
    "        #tanh layer\n",
    "        fused = torch.tanh(recon3)      \n",
    "        return fused\n",
    "        #execute the network\n",
    "\n",
    "cnn = FunFuseAn().float()\n",
    "if torch.cuda.device_count() > 1:\n",
    "    print(\"Let's use\", torch.cuda.device_count(), \"GPUs!\")\n",
    "    cnn = nn.DataParallel(cnn)\n",
    "\n",
    "cnn.to(device)"
   ]
  },
  {
   "cell_type": "code",
   "execution_count": 15,
   "metadata": {},
   "outputs": [],
   "source": [
    "#define the optimizers and loss functions \n",
    "optimizer = torch.optim.Adam(cnn.parameters(), lr=learning_rate)   # optimize all cnn parameters\n",
    "l2_loss   = nn.MSELoss() #MSEloss"
   ]
  },
  {
   "cell_type": "code",
   "execution_count": 16,
   "metadata": {},
   "outputs": [
    {
     "name": "stdout",
     "output_type": "stream",
     "text": [
      "Epoch: [ 0],step: [100], mri_ssim_loss: [0.70912403], pet_ssim_loss: [0.70093191],  total_ssim_loss: [0.70478213], total_l2_loss: [0.09743671], total_loss: [0.69870865]\n",
      "Epoch: [ 1],step: [200], mri_ssim_loss: [0.85608530], pet_ssim_loss: [0.87604308],  total_ssim_loss: [0.86666286], total_l2_loss: [0.08739714], total_loss: [0.85887021]\n",
      "Epoch: [ 2],step: [300], mri_ssim_loss: [0.68358308], pet_ssim_loss: [0.69539785],  total_ssim_loss: [0.68984491], total_l2_loss: [0.03576115], total_loss: [0.68330407]\n",
      "Epoch: [ 2],step: [400], mri_ssim_loss: [0.78104371], pet_ssim_loss: [0.80847764],  total_ssim_loss: [0.79558367], total_l2_loss: [0.57554662], total_loss: [0.79338330]\n",
      "Epoch: [ 3],step: [500], mri_ssim_loss: [0.66549331], pet_ssim_loss: [0.71577775],  total_ssim_loss: [0.69214404], total_l2_loss: [0.44127160], total_loss: [0.68963534]\n",
      "Epoch: [ 4],step: [600], mri_ssim_loss: [0.82183427], pet_ssim_loss: [0.85358310],  total_ssim_loss: [0.83866113], total_l2_loss: [0.38856107], total_loss: [0.83416015]\n",
      "Epoch: [ 5],step: [700], mri_ssim_loss: [0.66386139], pet_ssim_loss: [0.71150947],  total_ssim_loss: [0.68911481], total_l2_loss: [0.26280281], total_loss: [0.68485171]\n",
      "Epoch: [ 5],step: [800], mri_ssim_loss: [0.66346097], pet_ssim_loss: [0.70630342],  total_ssim_loss: [0.68616748], total_l2_loss: [0.14324093], total_loss: [0.68073821]\n",
      "Epoch: [ 6],step: [900], mri_ssim_loss: [0.78849888], pet_ssim_loss: [0.76712531],  total_ssim_loss: [0.77717090], total_l2_loss: [0.19892213], total_loss: [0.77138841]\n",
      "Epoch: [ 7],step: [1000], mri_ssim_loss: [0.88388264], pet_ssim_loss: [0.88698143],  total_ssim_loss: [0.88552499], total_l2_loss: [0.08893196], total_loss: [0.87755907]\n",
      "Epoch: [ 8],step: [1100], mri_ssim_loss: [0.66320062], pet_ssim_loss: [0.71411282],  total_ssim_loss: [0.69018406], total_l2_loss: [0.07729732], total_loss: [0.68405515]\n",
      "Epoch: [ 8],step: [1200], mri_ssim_loss: [0.58458644], pet_ssim_loss: [0.63750964],  total_ssim_loss: [0.61263573], total_l2_loss: [0.01428381], total_loss: [0.60665220]\n",
      "Epoch: [ 9],step: [1300], mri_ssim_loss: [0.80456507], pet_ssim_loss: [0.81330538],  total_ssim_loss: [0.80919743], total_l2_loss: [0.46679443], total_loss: [0.80577338]\n",
      "Epoch: [10],step: [1400], mri_ssim_loss: [0.82669944], pet_ssim_loss: [0.83203018],  total_ssim_loss: [0.82952470], total_l2_loss: [0.36846054], total_loss: [0.82491404]\n",
      "Epoch: [11],step: [1500], mri_ssim_loss: [0.71242082], pet_ssim_loss: [0.72012758],  total_ssim_loss: [0.71650541], total_l2_loss: [0.35562778], total_loss: [0.71289659]\n",
      "Epoch: [11],step: [1600], mri_ssim_loss: [0.63292551], pet_ssim_loss: [0.62909889],  total_ssim_loss: [0.63089740], total_l2_loss: [0.27291930], total_loss: [0.62731761]\n",
      "Epoch: [12],step: [1700], mri_ssim_loss: [0.83040655], pet_ssim_loss: [0.94899952],  total_ssim_loss: [0.89326084], total_l2_loss: [0.14778027], total_loss: [0.88580602]\n",
      "Epoch: [13],step: [1800], mri_ssim_loss: [0.69571501], pet_ssim_loss: [0.68710506],  total_ssim_loss: [0.69115174], total_l2_loss: [0.10494964], total_loss: [0.68528974]\n",
      "Epoch: [13],step: [1900], mri_ssim_loss: [0.72798681], pet_ssim_loss: [0.73464030],  total_ssim_loss: [0.73151314], total_l2_loss: [0.39953172], total_loss: [0.72819334]\n",
      "Epoch: [14],step: [2000], mri_ssim_loss: [0.72634333], pet_ssim_loss: [0.69612712],  total_ssim_loss: [0.71032870], total_l2_loss: [0.37718120], total_loss: [0.70699728]\n",
      "Epoch: [15],step: [2100], mri_ssim_loss: [0.80610430], pet_ssim_loss: [0.88292557],  total_ssim_loss: [0.84681952], total_l2_loss: [0.27654687], total_loss: [0.84111679]\n",
      "Epoch: [16],step: [2200], mri_ssim_loss: [0.72431171], pet_ssim_loss: [0.71236539],  total_ssim_loss: [0.71798015], total_l2_loss: [0.26800081], total_loss: [0.71348035]\n",
      "Epoch: [16],step: [2300], mri_ssim_loss: [0.70576149], pet_ssim_loss: [0.70259410],  total_ssim_loss: [0.70408273], total_l2_loss: [0.22615625], total_loss: [0.69930351]\n",
      "Epoch: [17],step: [2400], mri_ssim_loss: [0.81702650], pet_ssim_loss: [0.76522189],  total_ssim_loss: [0.78957003], total_l2_loss: [0.12998568], total_loss: [0.78297418]\n",
      "Epoch: [18],step: [2500], mri_ssim_loss: [0.87679923], pet_ssim_loss: [0.85048187],  total_ssim_loss: [0.86285102], total_l2_loss: [0.03866523], total_loss: [0.85460919]\n",
      "Epoch: [19],step: [2600], mri_ssim_loss: [0.90890825], pet_ssim_loss: [0.89559549],  total_ssim_loss: [0.90185249], total_l2_loss: [0.46606237], total_loss: [0.89749455]\n",
      "Epoch: [19],step: [2700], mri_ssim_loss: [0.78126431], pet_ssim_loss: [0.88432205],  total_ssim_loss: [0.83588493], total_l2_loss: [0.51507723], total_loss: [0.83267689]\n",
      "Epoch: [20],step: [2800], mri_ssim_loss: [0.73807180], pet_ssim_loss: [0.79017293],  total_ssim_loss: [0.76568538], total_l2_loss: [0.42840368], total_loss: [0.76231253]\n",
      "Epoch: [21],step: [2900], mri_ssim_loss: [0.84606171], pet_ssim_loss: [0.83856535],  total_ssim_loss: [0.84208858], total_l2_loss: [0.28141075], total_loss: [0.83648181]\n",
      "Epoch: [22],step: [3000], mri_ssim_loss: [0.64074874], pet_ssim_loss: [0.77184594],  total_ssim_loss: [0.71023023], total_l2_loss: [0.21189556], total_loss: [0.70524687]\n",
      "Epoch: [22],step: [3100], mri_ssim_loss: [0.68376535], pet_ssim_loss: [0.85742396],  total_ssim_loss: [0.77580440], total_l2_loss: [0.20499781], total_loss: [0.77009636]\n",
      "Epoch: [23],step: [3200], mri_ssim_loss: [1.02607810], pet_ssim_loss: [0.97760844],  total_ssim_loss: [1.00038910], total_l2_loss: [0.47152746], total_loss: [0.99510050]\n",
      "Epoch: [24],step: [3300], mri_ssim_loss: [0.85373813], pet_ssim_loss: [0.68080688],  total_ssim_loss: [0.76208454], total_l2_loss: [0.12129878], total_loss: [0.75567675]\n",
      "Epoch: [24],step: [3400], mri_ssim_loss: [0.69718236], pet_ssim_loss: [0.75963515],  total_ssim_loss: [0.73028231], total_l2_loss: [0.02105578], total_loss: [0.72319007]\n",
      "Epoch: [25],step: [3500], mri_ssim_loss: [0.68994981], pet_ssim_loss: [0.62817079],  total_ssim_loss: [0.65720689], total_l2_loss: [0.02842000], total_loss: [0.65091902]\n",
      "Epoch: [26],step: [3600], mri_ssim_loss: [0.87045860], pet_ssim_loss: [0.83522224],  total_ssim_loss: [0.85178328], total_l2_loss: [0.01129803], total_loss: [0.84337842]\n",
      "Epoch: [27],step: [3700], mri_ssim_loss: [0.72738159], pet_ssim_loss: [0.71548033],  total_ssim_loss: [0.72107387], total_l2_loss: [0.10966426], total_loss: [0.71495980]\n",
      "Epoch: [27],step: [3800], mri_ssim_loss: [0.75979495], pet_ssim_loss: [0.81487709],  total_ssim_loss: [0.78898847], total_l2_loss: [0.12861718], total_loss: [0.78238475]\n",
      "Epoch: [28],step: [3900], mri_ssim_loss: [0.67628533], pet_ssim_loss: [0.64395642],  total_ssim_loss: [0.65915096], total_l2_loss: [0.04685996], total_loss: [0.65302807]\n",
      "Epoch: [29],step: [4000], mri_ssim_loss: [0.82063168], pet_ssim_loss: [0.86213934],  total_ssim_loss: [0.84263074], total_l2_loss: [0.15462813], total_loss: [0.83575070]\n",
      "Epoch: [30],step: [4100], mri_ssim_loss: [0.68845826], pet_ssim_loss: [0.71010029],  total_ssim_loss: [0.69992852], total_l2_loss: [0.08706360], total_loss: [0.69379991]\n",
      "Epoch: [30],step: [4200], mri_ssim_loss: [0.65368730], pet_ssim_loss: [0.69728482],  total_ssim_loss: [0.67679393], total_l2_loss: [0.01330267], total_loss: [0.67015904]\n",
      "Epoch: [31],step: [4300], mri_ssim_loss: [0.79918802], pet_ssim_loss: [0.77042627],  total_ssim_loss: [0.78394425], total_l2_loss: [0.09458053], total_loss: [0.77705061]\n",
      "Epoch: [32],step: [4400], mri_ssim_loss: [0.83000773], pet_ssim_loss: [0.85981238],  total_ssim_loss: [0.84580421], total_l2_loss: [0.08168566], total_loss: [0.83816308]\n",
      "Epoch: [33],step: [4500], mri_ssim_loss: [0.75071162], pet_ssim_loss: [0.72272807],  total_ssim_loss: [0.73588032], total_l2_loss: [0.08378522], total_loss: [0.72935939]\n",
      "Epoch: [33],step: [4600], mri_ssim_loss: [0.73558182], pet_ssim_loss: [0.74031579],  total_ssim_loss: [0.73809081], total_l2_loss: [0.06464695], total_loss: [0.73135638]\n",
      "Epoch: [34],step: [4700], mri_ssim_loss: [0.81117165], pet_ssim_loss: [0.80412245],  total_ssim_loss: [0.80743551], total_l2_loss: [0.02901508], total_loss: [0.79965132]\n",
      "Epoch: [35],step: [4800], mri_ssim_loss: [0.81670314], pet_ssim_loss: [0.80426532],  total_ssim_loss: [0.81011105], total_l2_loss: [0.02932725], total_loss: [0.80230319]\n",
      "Epoch: [36],step: [4900], mri_ssim_loss: [0.74615395], pet_ssim_loss: [0.72694564],  total_ssim_loss: [0.73597354], total_l2_loss: [0.05272153], total_loss: [0.72914100]\n",
      "Epoch: [36],step: [5000], mri_ssim_loss: [0.62432188], pet_ssim_loss: [0.68122816],  total_ssim_loss: [0.65448219], total_l2_loss: [0.03403702], total_loss: [0.64827770]\n",
      "Epoch: [37],step: [5100], mri_ssim_loss: [0.79802942], pet_ssim_loss: [0.85249352],  total_ssim_loss: [0.82689536], total_l2_loss: [0.00955495], total_loss: [0.81872195]\n",
      "Epoch: [38],step: [5200], mri_ssim_loss: [0.70024943], pet_ssim_loss: [0.69621944],  total_ssim_loss: [0.69811356], total_l2_loss: [0.03446274], total_loss: [0.69147706]\n",
      "Epoch: [38],step: [5300], mri_ssim_loss: [0.79591513], pet_ssim_loss: [0.71681094],  total_ssim_loss: [0.75398993], total_l2_loss: [0.02729158], total_loss: [0.74672300]\n",
      "Epoch: [39],step: [5400], mri_ssim_loss: [0.74735165], pet_ssim_loss: [0.70551264],  total_ssim_loss: [0.72517693], total_l2_loss: [0.27643925], total_loss: [0.72068959]\n",
      "Epoch: [40],step: [5500], mri_ssim_loss: [0.83370638], pet_ssim_loss: [0.86562228],  total_ssim_loss: [0.85062182], total_l2_loss: [0.11891499], total_loss: [0.84330475]\n",
      "Epoch: [41],step: [5600], mri_ssim_loss: [0.72218716], pet_ssim_loss: [0.69076902],  total_ssim_loss: [0.70553553], total_l2_loss: [0.05472015], total_loss: [0.69902742]\n",
      "Epoch: [41],step: [5700], mri_ssim_loss: [0.73648214], pet_ssim_loss: [0.77613127],  total_ssim_loss: [0.75749618], total_l2_loss: [0.27287301], total_loss: [0.75264990]\n",
      "Epoch: [42],step: [5800], mri_ssim_loss: [0.85462081], pet_ssim_loss: [0.84526873],  total_ssim_loss: [0.84966421], total_l2_loss: [0.39981622], total_loss: [0.84516573]\n",
      "Epoch: [43],step: [5900], mri_ssim_loss: [0.83093810], pet_ssim_loss: [0.86036545],  total_ssim_loss: [0.84653455], total_l2_loss: [0.28738374], total_loss: [0.84094304]\n",
      "Epoch: [44],step: [6000], mri_ssim_loss: [0.75570452], pet_ssim_loss: [0.75523108],  total_ssim_loss: [0.75545359], total_l2_loss: [0.22443801], total_loss: [0.75014341]\n",
      "Epoch: [44],step: [6100], mri_ssim_loss: [0.72633433], pet_ssim_loss: [0.74624705],  total_ssim_loss: [0.73688805], total_l2_loss: [0.15006328], total_loss: [0.73101979]\n",
      "Epoch: [45],step: [6200], mri_ssim_loss: [0.69101298], pet_ssim_loss: [0.75279188],  total_ssim_loss: [0.72375578], total_l2_loss: [0.09468152], total_loss: [0.71746504]\n",
      "Epoch: [46],step: [6300], mri_ssim_loss: [0.81036878], pet_ssim_loss: [0.85994947],  total_ssim_loss: [0.83664656], total_l2_loss: [0.12131713], total_loss: [0.82949328]\n",
      "Epoch: [47],step: [6400], mri_ssim_loss: [0.65107632], pet_ssim_loss: [0.74040341],  total_ssim_loss: [0.69841969], total_l2_loss: [0.07429180], total_loss: [0.69217843]\n",
      "Epoch: [47],step: [6500], mri_ssim_loss: [0.67039818], pet_ssim_loss: [0.82093674],  total_ssim_loss: [0.75018358], total_l2_loss: [0.21802385], total_loss: [0.74486196]\n",
      "Epoch: [48],step: [6600], mri_ssim_loss: [0.62229878], pet_ssim_loss: [0.71286076],  total_ssim_loss: [0.67029661], total_l2_loss: [0.03911942], total_loss: [0.66398484]\n",
      "Epoch: [49],step: [6700], mri_ssim_loss: [0.66027439], pet_ssim_loss: [0.75652671],  total_ssim_loss: [0.71128809], total_l2_loss: [0.27460778], total_loss: [0.70692134]\n",
      "Epoch: [49],step: [6800], mri_ssim_loss: [0.75187904], pet_ssim_loss: [0.78899860],  total_ssim_loss: [0.77155238], total_l2_loss: [0.10361628], total_loss: [0.76487303]\n",
      "Epoch: [50],step: [6900], mri_ssim_loss: [0.65720415], pet_ssim_loss: [0.75923133],  total_ssim_loss: [0.71127856], total_l2_loss: [0.25016001], total_loss: [0.70666736]\n",
      "Epoch: [51],step: [7000], mri_ssim_loss: [0.81927657], pet_ssim_loss: [0.91897863],  total_ssim_loss: [0.87211859], total_l2_loss: [0.14267530], total_loss: [0.86482418]\n",
      "Epoch: [52],step: [7100], mri_ssim_loss: [0.75021493], pet_ssim_loss: [0.76887500],  total_ssim_loss: [0.76010478], total_l2_loss: [0.21508828], total_loss: [0.75465465]\n",
      "Epoch: [52],step: [7200], mri_ssim_loss: [0.74461013], pet_ssim_loss: [0.78823680],  total_ssim_loss: [0.76773226], total_l2_loss: [0.05717288], total_loss: [0.76062667]\n",
      "Epoch: [53],step: [7300], mri_ssim_loss: [0.75983518], pet_ssim_loss: [0.64127845],  total_ssim_loss: [0.69700009], total_l2_loss: [0.13885710], total_loss: [0.69141865]\n",
      "Epoch: [54],step: [7400], mri_ssim_loss: [0.85052276], pet_ssim_loss: [0.85571229],  total_ssim_loss: [0.85327315], total_l2_loss: [0.06232972], total_loss: [0.84536374]\n",
      "Epoch: [55],step: [7500], mri_ssim_loss: [0.66438413], pet_ssim_loss: [0.61284316],  total_ssim_loss: [0.63706744], total_l2_loss: [0.01634608], total_loss: [0.63086021]\n",
      "Epoch: [55],step: [7600], mri_ssim_loss: [0.75540626], pet_ssim_loss: [0.71949077],  total_ssim_loss: [0.73637104], total_l2_loss: [0.03347977], total_loss: [0.72934216]\n",
      "Epoch: [56],step: [7700], mri_ssim_loss: [0.95423043], pet_ssim_loss: [0.94401252],  total_ssim_loss: [0.94881493], total_l2_loss: [0.30289912], total_loss: [0.94235575]\n",
      "Epoch: [57],step: [7800], mri_ssim_loss: [0.87030327], pet_ssim_loss: [0.82952839],  total_ssim_loss: [0.84869254], total_l2_loss: [0.05502109], total_loss: [0.84075582]\n",
      "Epoch: [58],step: [7900], mri_ssim_loss: [0.39293122], pet_ssim_loss: [0.37129843],  total_ssim_loss: [0.38146585], total_l2_loss: [0.01086515], total_loss: [0.37775984]\n",
      "Epoch: [58],step: [8000], mri_ssim_loss: [0.62716752], pet_ssim_loss: [0.71170008],  total_ssim_loss: [0.67196977], total_l2_loss: [0.04001709], total_loss: [0.66565025]\n",
      "Epoch: [59],step: [8100], mri_ssim_loss: [0.78729665], pet_ssim_loss: [0.80106473],  total_ssim_loss: [0.79459369], total_l2_loss: [0.01699170], total_loss: [0.78681767]\n",
      "Epoch: [60],step: [8200], mri_ssim_loss: [0.82546371], pet_ssim_loss: [0.81446636],  total_ssim_loss: [0.81963509], total_l2_loss: [0.03626638], total_loss: [0.81180137]\n",
      "Epoch: [61],step: [8300], mri_ssim_loss: [0.72626227], pet_ssim_loss: [0.76567185],  total_ssim_loss: [0.74714935], total_l2_loss: [0.02373196], total_loss: [0.73991519]\n",
      "Epoch: [61],step: [8400], mri_ssim_loss: [0.60745227], pet_ssim_loss: [0.71533346],  total_ssim_loss: [0.66462928], total_l2_loss: [0.01608738], total_loss: [0.65814388]\n",
      "Epoch: [62],step: [8500], mri_ssim_loss: [0.91242719], pet_ssim_loss: [0.88050568],  total_ssim_loss: [0.89550877], total_l2_loss: [0.02488752], total_loss: [0.88680255]\n",
      "Epoch: [63],step: [8600], mri_ssim_loss: [0.79947138], pet_ssim_loss: [0.67581606],  total_ssim_loss: [0.73393404], total_l2_loss: [0.04268921], total_loss: [0.72702157]\n",
      "Epoch: [63],step: [8700], mri_ssim_loss: [0.71878356], pet_ssim_loss: [0.77102661],  total_ssim_loss: [0.74647236], total_l2_loss: [0.02921816], total_loss: [0.73929983]\n",
      "Epoch: [64],step: [8800], mri_ssim_loss: [0.84201646], pet_ssim_loss: [0.70909941],  total_ssim_loss: [0.77157038], total_l2_loss: [0.06111800], total_loss: [0.76446587]\n",
      "Epoch: [65],step: [8900], mri_ssim_loss: [0.85704470], pet_ssim_loss: [0.82915515],  total_ssim_loss: [0.84226322], total_l2_loss: [0.01771751], total_loss: [0.83401781]\n",
      "Epoch: [66],step: [9000], mri_ssim_loss: [0.79019791], pet_ssim_loss: [0.77237624],  total_ssim_loss: [0.78075242], total_l2_loss: [0.02372411], total_loss: [0.77318215]\n",
      "Epoch: [66],step: [9100], mri_ssim_loss: [0.73442763], pet_ssim_loss: [0.69035017],  total_ssim_loss: [0.71106660], total_l2_loss: [0.01873570], total_loss: [0.70414329]\n",
      "Epoch: [67],step: [9200], mri_ssim_loss: [0.85816467], pet_ssim_loss: [0.73037314],  total_ssim_loss: [0.79043514], total_l2_loss: [0.02422468], total_loss: [0.78277302]\n",
      "Epoch: [68],step: [9300], mri_ssim_loss: [0.88297951], pet_ssim_loss: [0.82572150],  total_ssim_loss: [0.85263276], total_l2_loss: [0.08961126], total_loss: [0.84500253]\n",
      "Epoch: [69],step: [9400], mri_ssim_loss: [0.73906702], pet_ssim_loss: [0.86687034],  total_ssim_loss: [0.80680275], total_l2_loss: [0.15349059], total_loss: [0.80026960]\n",
      "Epoch: [69],step: [9500], mri_ssim_loss: [0.77988535], pet_ssim_loss: [0.75451148],  total_ssim_loss: [0.76643717], total_l2_loss: [0.07617737], total_loss: [0.75953454]\n",
      "Epoch: [70],step: [9600], mri_ssim_loss: [0.71148312], pet_ssim_loss: [0.76983708],  total_ssim_loss: [0.74241072], total_l2_loss: [0.03829520], total_loss: [0.73536956]\n",
      "Epoch: [71],step: [9700], mri_ssim_loss: [0.83572263], pet_ssim_loss: [0.85655701],  total_ssim_loss: [0.84676480], total_l2_loss: [0.06629922], total_loss: [0.83896017]\n",
      "Epoch: [72],step: [9800], mri_ssim_loss: [0.64820802], pet_ssim_loss: [0.77750170],  total_ssim_loss: [0.71673363], total_l2_loss: [0.04567523], total_loss: [0.71002305]\n",
      "Epoch: [72],step: [9900], mri_ssim_loss: [0.64480054], pet_ssim_loss: [0.81375408],  total_ssim_loss: [0.73434591], total_l2_loss: [0.09447451], total_loss: [0.72794718]\n",
      "Epoch: [73],step: [10000], mri_ssim_loss: [0.58987153], pet_ssim_loss: [0.64654255],  total_ssim_loss: [0.61990714], total_l2_loss: [0.01179271], total_loss: [0.61382598]\n",
      "Epoch: [74],step: [10100], mri_ssim_loss: [0.74628758], pet_ssim_loss: [0.67228854],  total_ssim_loss: [0.70706809], total_l2_loss: [0.02254529], total_loss: [0.70022285]\n",
      "Epoch: [74],step: [10200], mri_ssim_loss: [0.74431896], pet_ssim_loss: [0.79215717],  total_ssim_loss: [0.76967323], total_l2_loss: [0.01885722], total_loss: [0.76216507]\n",
      "Epoch: [75],step: [10300], mri_ssim_loss: [0.61666244], pet_ssim_loss: [0.64458573],  total_ssim_loss: [0.63146174], total_l2_loss: [0.01750050], total_loss: [0.62532210]\n",
      "Epoch: [76],step: [10400], mri_ssim_loss: [0.87424719], pet_ssim_loss: [0.88478243],  total_ssim_loss: [0.87983084], total_l2_loss: [0.03062524], total_loss: [0.87133878]\n",
      "Epoch: [77],step: [10500], mri_ssim_loss: [0.74229050], pet_ssim_loss: [0.72530460],  total_ssim_loss: [0.73328793], total_l2_loss: [0.02684059], total_loss: [0.72622347]\n",
      "Epoch: [77],step: [10600], mri_ssim_loss: [0.75220966], pet_ssim_loss: [0.76740360],  total_ssim_loss: [0.76026243], total_l2_loss: [0.01772270], total_loss: [0.75283700]\n",
      "Epoch: [78],step: [10700], mri_ssim_loss: [0.59644878], pet_ssim_loss: [0.65837336],  total_ssim_loss: [0.62926877], total_l2_loss: [0.01355785], total_loss: [0.62311167]\n",
      "Epoch: [79],step: [10800], mri_ssim_loss: [0.34146082], pet_ssim_loss: [0.28107238],  total_ssim_loss: [0.30945495], total_l2_loss: [0.01147726], total_loss: [0.30647516]\n",
      "Epoch: [80],step: [10900], mri_ssim_loss: [0.65015739], pet_ssim_loss: [0.52889287],  total_ssim_loss: [0.58588719], total_l2_loss: [0.01028430], total_loss: [0.58013117]\n",
      "Epoch: [80],step: [11000], mri_ssim_loss: [0.29173702], pet_ssim_loss: [0.21548820],  total_ssim_loss: [0.25132513], total_l2_loss: [0.00861946], total_loss: [0.24889807]\n",
      "Epoch: [81],step: [11100], mri_ssim_loss: [0.70346910], pet_ssim_loss: [0.68370897],  total_ssim_loss: [0.69299620], total_l2_loss: [0.01108091], total_loss: [0.68617707]\n",
      "Epoch: [82],step: [11200], mri_ssim_loss: [0.52247465], pet_ssim_loss: [0.46592039],  total_ssim_loss: [0.49250090], total_l2_loss: [0.01267026], total_loss: [0.48770258]\n",
      "Epoch: [83],step: [11300], mri_ssim_loss: [0.39507371], pet_ssim_loss: [0.38998759],  total_ssim_loss: [0.39237806], total_l2_loss: [0.00996089], total_loss: [0.38855389]\n",
      "Epoch: [83],step: [11400], mri_ssim_loss: [0.46291065], pet_ssim_loss: [0.33926475],  total_ssim_loss: [0.39737833], total_l2_loss: [0.01262416], total_loss: [0.39353079]\n",
      "Epoch: [84],step: [11500], mri_ssim_loss: [0.78933841], pet_ssim_loss: [0.73594987],  total_ssim_loss: [0.76104248], total_l2_loss: [0.00778366], total_loss: [0.75350988]\n",
      "Epoch: [85],step: [11600], mri_ssim_loss: [0.50239599], pet_ssim_loss: [0.49464470],  total_ssim_loss: [0.49828780], total_l2_loss: [0.01757244], total_loss: [0.49348065]\n",
      "Epoch: [86],step: [11700], mri_ssim_loss: [0.63084626], pet_ssim_loss: [0.74648833],  total_ssim_loss: [0.69213653], total_l2_loss: [0.00733857], total_loss: [0.68528855]\n",
      "Epoch: [86],step: [11800], mri_ssim_loss: [0.59729660], pet_ssim_loss: [0.62330204],  total_ssim_loss: [0.61107945], total_l2_loss: [0.00773613], total_loss: [0.60504603]\n",
      "Epoch: [87],step: [11900], mri_ssim_loss: [0.09867156], pet_ssim_loss: [0.13313293],  total_ssim_loss: [0.11693608], total_l2_loss: [0.01138125], total_loss: [0.11588053]\n",
      "Epoch: [88],step: [12000], mri_ssim_loss: [0.63345605], pet_ssim_loss: [0.54720443],  total_ssim_loss: [0.58774269], total_l2_loss: [0.02263780], total_loss: [0.58209163]\n",
      "Epoch: [88],step: [12100], mri_ssim_loss: [0.36656272], pet_ssim_loss: [0.19543320],  total_ssim_loss: [0.27586406], total_l2_loss: [0.01671254], total_loss: [0.27327254]\n",
      "Epoch: [89],step: [12200], mri_ssim_loss: [0.52065116], pet_ssim_loss: [0.46335763],  total_ssim_loss: [0.49028558], total_l2_loss: [0.00943468], total_loss: [0.48547709]\n",
      "Epoch: [90],step: [12300], mri_ssim_loss: [0.14863497], pet_ssim_loss: [0.12331104],  total_ssim_loss: [0.13521329], total_l2_loss: [0.01312574], total_loss: [0.13399242]\n",
      "Epoch: [91],step: [12400], mri_ssim_loss: [0.33740568], pet_ssim_loss: [0.27858305],  total_ssim_loss: [0.30622968], total_l2_loss: [0.00856489], total_loss: [0.30325302]\n",
      "Epoch: [91],step: [12500], mri_ssim_loss: [0.41952771], pet_ssim_loss: [0.43756402],  total_ssim_loss: [0.42908692], total_l2_loss: [0.01198382], total_loss: [0.42491588]\n",
      "Epoch: [92],step: [12600], mri_ssim_loss: [0.21751827], pet_ssim_loss: [0.20923549],  total_ssim_loss: [0.21312839], total_l2_loss: [0.00983447], total_loss: [0.21109545]\n",
      "Epoch: [93],step: [12700], mri_ssim_loss: [0.15468621], pet_ssim_loss: [0.17566299],  total_ssim_loss: [0.16580391], total_l2_loss: [0.01428164], total_loss: [0.16428868]\n",
      "Epoch: [94],step: [12800], mri_ssim_loss: [0.23423707], pet_ssim_loss: [0.25595802],  total_ssim_loss: [0.24574918], total_l2_loss: [0.01267124], total_loss: [0.24341841]\n",
      "Epoch: [94],step: [12900], mri_ssim_loss: [0.40154052], pet_ssim_loss: [0.41710359],  total_ssim_loss: [0.40978894], total_l2_loss: [0.01025385], total_loss: [0.40579361]\n",
      "Epoch: [95],step: [13000], mri_ssim_loss: [0.18922746], pet_ssim_loss: [0.26865196],  total_ssim_loss: [0.23132244], total_l2_loss: [0.01165105], total_loss: [0.22912572]\n",
      "Epoch: [96],step: [13100], mri_ssim_loss: [0.33084941], pet_ssim_loss: [0.32523745],  total_ssim_loss: [0.32787508], total_l2_loss: [0.01752631], total_loss: [0.32477158]\n",
      "Epoch: [97],step: [13200], mri_ssim_loss: [0.22933108], pet_ssim_loss: [0.38770735],  total_ssim_loss: [0.31327048], total_l2_loss: [0.00824274], total_loss: [0.31022021]\n",
      "Epoch: [97],step: [13300], mri_ssim_loss: [0.55030149], pet_ssim_loss: [0.34589058],  total_ssim_loss: [0.44196367], total_l2_loss: [0.00935248], total_loss: [0.43763757]\n",
      "Epoch: [98],step: [13400], mri_ssim_loss: [0.50483429], pet_ssim_loss: [0.38418716],  total_ssim_loss: [0.44089130], total_l2_loss: [0.01504279], total_loss: [0.43663284]\n",
      "Epoch: [99],step: [13500], mri_ssim_loss: [0.31757390], pet_ssim_loss: [0.25676882],  total_ssim_loss: [0.28534719], total_l2_loss: [0.01816193], total_loss: [0.28267533]\n",
      "Epoch: [99],step: [13600], mri_ssim_loss: [0.42555523], pet_ssim_loss: [0.51697719],  total_ssim_loss: [0.47400886], total_l2_loss: [0.01290712], total_loss: [0.46939784]\n",
      "Epoch: [100],step: [13700], mri_ssim_loss: [0.41942871], pet_ssim_loss: [0.24931133],  total_ssim_loss: [0.32926649], total_l2_loss: [0.01783488], total_loss: [0.32615218]\n",
      "Epoch: [101],step: [13800], mri_ssim_loss: [0.08862174], pet_ssim_loss: [0.16448522],  total_ssim_loss: [0.12882937], total_l2_loss: [0.00952634], total_loss: [0.12763634]\n",
      "Epoch: [102],step: [13900], mri_ssim_loss: [0.32436287], pet_ssim_loss: [0.31639332],  total_ssim_loss: [0.32013899], total_l2_loss: [0.01326940], total_loss: [0.31707028]\n",
      "Epoch: [102],step: [14000], mri_ssim_loss: [0.14864725], pet_ssim_loss: [0.23768264],  total_ssim_loss: [0.19583601], total_l2_loss: [0.00839876], total_loss: [0.19396164]\n",
      "Epoch: [103],step: [14100], mri_ssim_loss: [0.36243224], pet_ssim_loss: [0.27338898],  total_ssim_loss: [0.31523931], total_l2_loss: [0.01382494], total_loss: [0.31222516]\n",
      "Epoch: [104],step: [14200], mri_ssim_loss: [0.12954563], pet_ssim_loss: [0.15186405],  total_ssim_loss: [0.14137439], total_l2_loss: [0.01016175], total_loss: [0.14006226]\n",
      "Epoch: [105],step: [14300], mri_ssim_loss: [0.33152127], pet_ssim_loss: [0.34115726],  total_ssim_loss: [0.33662832], total_l2_loss: [0.01042295], total_loss: [0.33336625]\n",
      "Epoch: [105],step: [14400], mri_ssim_loss: [0.28100324], pet_ssim_loss: [0.25787508],  total_ssim_loss: [0.26874530], total_l2_loss: [0.00825677], total_loss: [0.26614043]\n",
      "Epoch: [106],step: [14500], mri_ssim_loss: [0.27565813], pet_ssim_loss: [0.21857190],  total_ssim_loss: [0.24540243], total_l2_loss: [0.00994725], total_loss: [0.24304786]\n",
      "Epoch: [107],step: [14600], mri_ssim_loss: [0.18811172], pet_ssim_loss: [0.22286117],  total_ssim_loss: [0.20652893], total_l2_loss: [0.01772527], total_loss: [0.20464090]\n",
      "Epoch: [108],step: [14700], mri_ssim_loss: [0.25951016], pet_ssim_loss: [0.23263353],  total_ssim_loss: [0.24526554], total_l2_loss: [0.00918161], total_loss: [0.24290471]\n",
      "Epoch: [108],step: [14800], mri_ssim_loss: [0.32760823], pet_ssim_loss: [0.48243588],  total_ssim_loss: [0.40966684], total_l2_loss: [0.01177898], total_loss: [0.40568796]\n",
      "Epoch: [109],step: [14900], mri_ssim_loss: [0.23525369], pet_ssim_loss: [0.25007319],  total_ssim_loss: [0.24310800], total_l2_loss: [0.00565845], total_loss: [0.24073350]\n",
      "Epoch: [110],step: [15000], mri_ssim_loss: [0.14403677], pet_ssim_loss: [0.25997460],  total_ssim_loss: [0.20548382], total_l2_loss: [0.01613679], total_loss: [0.20359035]\n",
      "Epoch: [111],step: [15100], mri_ssim_loss: [0.22112292], pet_ssim_loss: [0.19141579],  total_ssim_loss: [0.20537813], total_l2_loss: [0.00547678], total_loss: [0.20337911]\n",
      "Epoch: [111],step: [15200], mri_ssim_loss: [0.35833371], pet_ssim_loss: [0.29399109],  total_ssim_loss: [0.32423210], total_l2_loss: [0.00682847], total_loss: [0.32105806]\n",
      "Epoch: [112],step: [15300], mri_ssim_loss: [0.07215965], pet_ssim_loss: [0.15496296],  total_ssim_loss: [0.11604540], total_l2_loss: [0.01002961], total_loss: [0.11498525]\n",
      "Epoch: [113],step: [15400], mri_ssim_loss: [0.37964177], pet_ssim_loss: [0.28678501],  total_ssim_loss: [0.33042768], total_l2_loss: [0.02116802], total_loss: [0.32733509]\n",
      "Epoch: [113],step: [15500], mri_ssim_loss: [0.30978560], pet_ssim_loss: [0.28927124],  total_ssim_loss: [0.29891297], total_l2_loss: [0.01468060], total_loss: [0.29607067]\n",
      "Epoch: [114],step: [15600], mri_ssim_loss: [0.28780258], pet_ssim_loss: [0.22909093],  total_ssim_loss: [0.25668541], total_l2_loss: [0.00677886], total_loss: [0.25418636]\n",
      "Epoch: [115],step: [15700], mri_ssim_loss: [0.11099201], pet_ssim_loss: [0.15421879],  total_ssim_loss: [0.13390219], total_l2_loss: [0.00865075], total_loss: [0.13264968]\n",
      "Epoch: [116],step: [15800], mri_ssim_loss: [0.34983349], pet_ssim_loss: [0.24444437],  total_ssim_loss: [0.29397726], total_l2_loss: [0.01019651], total_loss: [0.29113945]\n",
      "Epoch: [116],step: [15900], mri_ssim_loss: [0.36512297], pet_ssim_loss: [0.33591241],  total_ssim_loss: [0.34964135], total_l2_loss: [0.01363177], total_loss: [0.34628126]\n",
      "Epoch: [117],step: [16000], mri_ssim_loss: [0.20401776], pet_ssim_loss: [0.17594755],  total_ssim_loss: [0.18914054], total_l2_loss: [0.00981836], total_loss: [0.18734732]\n",
      "Epoch: [118],step: [16100], mri_ssim_loss: [0.12734175], pet_ssim_loss: [0.17806143],  total_ssim_loss: [0.15422317], total_l2_loss: [0.01296223], total_loss: [0.15281057]\n",
      "Epoch: [119],step: [16200], mri_ssim_loss: [0.28161275], pet_ssim_loss: [0.26417446],  total_ssim_loss: [0.27237046], total_l2_loss: [0.01267949], total_loss: [0.26977357]\n",
      "Epoch: [119],step: [16300], mri_ssim_loss: [0.38553834], pet_ssim_loss: [0.35848123],  total_ssim_loss: [0.37119806], total_l2_loss: [0.01079782], total_loss: [0.36759406]\n",
      "Epoch: [120],step: [16400], mri_ssim_loss: [0.17589569], pet_ssim_loss: [0.24646378],  total_ssim_loss: [0.21329677], total_l2_loss: [0.00936324], total_loss: [0.21125744]\n",
      "Epoch: [121],step: [16500], mri_ssim_loss: [0.16420782], pet_ssim_loss: [0.20029336],  total_ssim_loss: [0.18333316], total_l2_loss: [0.01957193], total_loss: [0.18169554]\n",
      "Epoch: [122],step: [16600], mri_ssim_loss: [0.22231543], pet_ssim_loss: [0.32458305],  total_ssim_loss: [0.27651727], total_l2_loss: [0.00871263], total_loss: [0.27383921]\n",
      "Epoch: [122],step: [16700], mri_ssim_loss: [0.55280745], pet_ssim_loss: [0.37507540],  total_ssim_loss: [0.45860946], total_l2_loss: [0.01152021], total_loss: [0.45413858]\n",
      "Epoch: [123],step: [16800], mri_ssim_loss: [0.33625090], pet_ssim_loss: [0.42417526],  total_ssim_loss: [0.38285080], total_l2_loss: [0.01883465], total_loss: [0.37921065]\n",
      "Epoch: [124],step: [16900], mri_ssim_loss: [0.28939205], pet_ssim_loss: [0.23942530],  total_ssim_loss: [0.26290965], total_l2_loss: [0.01765799], total_loss: [0.26045713]\n",
      "Epoch: [124],step: [17000], mri_ssim_loss: [0.25331134], pet_ssim_loss: [0.29526663],  total_ssim_loss: [0.27554762], total_l2_loss: [0.01168755], total_loss: [0.27290905]\n",
      "Epoch: [125],step: [17100], mri_ssim_loss: [0.34789824], pet_ssim_loss: [0.29333544],  total_ssim_loss: [0.31897995], total_l2_loss: [0.01526610], total_loss: [0.31594279]\n",
      "Epoch: [126],step: [17200], mri_ssim_loss: [0.08343279], pet_ssim_loss: [0.16693473],  total_ssim_loss: [0.12768881], total_l2_loss: [0.00907309], total_loss: [0.12650266]\n",
      "Epoch: [127],step: [17300], mri_ssim_loss: [0.30223614], pet_ssim_loss: [0.38332844],  total_ssim_loss: [0.34521502], total_l2_loss: [0.01195536], total_loss: [0.34188244]\n",
      "Epoch: [127],step: [17400], mri_ssim_loss: [0.20588112], pet_ssim_loss: [0.26152384],  total_ssim_loss: [0.23537177], total_l2_loss: [0.00850318], total_loss: [0.23310308]\n",
      "Epoch: [128],step: [17500], mri_ssim_loss: [0.32377154], pet_ssim_loss: [0.37904608],  total_ssim_loss: [0.35306704], total_l2_loss: [0.01148853], total_loss: [0.34965125]\n",
      "Epoch: [129],step: [17600], mri_ssim_loss: [0.12394875], pet_ssim_loss: [0.15360904],  total_ssim_loss: [0.13966870], total_l2_loss: [0.00981081], total_loss: [0.13837013]\n",
      "Epoch: [130],step: [17700], mri_ssim_loss: [0.31943738], pet_ssim_loss: [0.30049360],  total_ssim_loss: [0.30939716], total_l2_loss: [0.01035978], total_loss: [0.30640680]\n",
      "Epoch: [130],step: [17800], mri_ssim_loss: [0.35707271], pet_ssim_loss: [0.35343802],  total_ssim_loss: [0.35514632], total_l2_loss: [0.00780175], total_loss: [0.35167289]\n",
      "Epoch: [131],step: [17900], mri_ssim_loss: [0.21168208], pet_ssim_loss: [0.21253121],  total_ssim_loss: [0.21213211], total_l2_loss: [0.01044406], total_loss: [0.21011524]\n",
      "Epoch: [132],step: [18000], mri_ssim_loss: [0.15962899], pet_ssim_loss: [0.19786924],  total_ssim_loss: [0.17989632], total_l2_loss: [0.01953919], total_loss: [0.17829277]\n",
      "Epoch: [133],step: [18100], mri_ssim_loss: [0.24399465], pet_ssim_loss: [0.24911475],  total_ssim_loss: [0.24670830], total_l2_loss: [0.00887424], total_loss: [0.24432996]\n",
      "Epoch: [133],step: [18200], mri_ssim_loss: [0.54519451], pet_ssim_loss: [0.23443842],  total_ssim_loss: [0.38049376], total_l2_loss: [0.01292596], total_loss: [0.37681809]\n",
      "Epoch: [134],step: [18300], mri_ssim_loss: [0.18100405], pet_ssim_loss: [0.17128968],  total_ssim_loss: [0.17585543], total_l2_loss: [0.00570943], total_loss: [0.17415398]\n",
      "Epoch: [135],step: [18400], mri_ssim_loss: [0.17190099], pet_ssim_loss: [0.23974872],  total_ssim_loss: [0.20786026], total_l2_loss: [0.01842184], total_loss: [0.20596588]\n",
      "Epoch: [136],step: [18500], mri_ssim_loss: [0.21581650], pet_ssim_loss: [0.19144094],  total_ssim_loss: [0.20289744], total_l2_loss: [0.00562285], total_loss: [0.20092469]\n",
      "Epoch: [136],step: [18600], mri_ssim_loss: [0.26765096], pet_ssim_loss: [0.24533302],  total_ssim_loss: [0.25582242], total_l2_loss: [0.00676508], total_loss: [0.25333184]\n",
      "Epoch: [137],step: [18700], mri_ssim_loss: [0.06204855], pet_ssim_loss: [0.15183085],  total_ssim_loss: [0.10963316], total_l2_loss: [0.00869531], total_loss: [0.10862379]\n",
      "Epoch: [138],step: [18800], mri_ssim_loss: [0.39068604], pet_ssim_loss: [0.26731801],  total_ssim_loss: [0.32530099], total_l2_loss: [0.02217669], total_loss: [0.32226974]\n",
      "Epoch: [138],step: [18900], mri_ssim_loss: [0.41040510], pet_ssim_loss: [0.32517672],  total_ssim_loss: [0.36523405], total_l2_loss: [0.01464583], total_loss: [0.36172816]\n",
      "Epoch: [139],step: [19000], mri_ssim_loss: [0.18892789], pet_ssim_loss: [0.21329188],  total_ssim_loss: [0.20184080], total_l2_loss: [0.00664577], total_loss: [0.19988886]\n",
      "Epoch: [140],step: [19100], mri_ssim_loss: [0.09971106], pet_ssim_loss: [0.16265583],  total_ssim_loss: [0.13307178], total_l2_loss: [0.00968207], total_loss: [0.13183789]\n",
      "Epoch: [141],step: [19200], mri_ssim_loss: [0.30551553], pet_ssim_loss: [0.27098894],  total_ssim_loss: [0.28721642], total_l2_loss: [0.00798188], total_loss: [0.28442407]\n",
      "Epoch: [141],step: [19300], mri_ssim_loss: [0.19520348], pet_ssim_loss: [0.22487706],  total_ssim_loss: [0.21093047], total_l2_loss: [0.01234147], total_loss: [0.20894457]\n",
      "Epoch: [142],step: [19400], mri_ssim_loss: [0.18927175], pet_ssim_loss: [0.21025836],  total_ssim_loss: [0.20039465], total_l2_loss: [0.00948245], total_loss: [0.19848554]\n",
      "Epoch: [143],step: [19500], mri_ssim_loss: [0.11712933], pet_ssim_loss: [0.17090309],  total_ssim_loss: [0.14562941], total_l2_loss: [0.01422860], total_loss: [0.14431541]\n",
      "Epoch: [144],step: [19600], mri_ssim_loss: [0.28294706], pet_ssim_loss: [0.26259661],  total_ssim_loss: [0.27216130], total_l2_loss: [0.01220680], total_loss: [0.26956177]\n",
      "Epoch: [144],step: [19700], mri_ssim_loss: [0.37132543], pet_ssim_loss: [0.37734401],  total_ssim_loss: [0.37451527], total_l2_loss: [0.00965282], total_loss: [0.37086666]\n",
      "Epoch: [145],step: [19800], mri_ssim_loss: [0.20611680], pet_ssim_loss: [0.24798781],  total_ssim_loss: [0.22830842], total_l2_loss: [0.00960152], total_loss: [0.22612135]\n",
      "Epoch: [146],step: [19900], mri_ssim_loss: [0.18394065], pet_ssim_loss: [0.18759614],  total_ssim_loss: [0.18587805], total_l2_loss: [0.02446645], total_loss: [0.18426393]\n",
      "Epoch: [147],step: [20000], mri_ssim_loss: [0.22237074], pet_ssim_loss: [0.32033342],  total_ssim_loss: [0.27429095], total_l2_loss: [0.00853332], total_loss: [0.27163336]\n",
      "Epoch: [147],step: [20100], mri_ssim_loss: [0.66089445], pet_ssim_loss: [0.34994853],  total_ssim_loss: [0.49609309], total_l2_loss: [0.01278773], total_loss: [0.49126005]\n",
      "Epoch: [148],step: [20200], mri_ssim_loss: [0.27980608], pet_ssim_loss: [0.33374631],  total_ssim_loss: [0.30839437], total_l2_loss: [0.01915763], total_loss: [0.30550200]\n",
      "Epoch: [149],step: [20300], mri_ssim_loss: [0.32753336], pet_ssim_loss: [0.20631814],  total_ssim_loss: [0.26328927], total_l2_loss: [0.01889082], total_loss: [0.26084530]\n",
      "Epoch: [149],step: [20400], mri_ssim_loss: [0.31352377], pet_ssim_loss: [0.29622042],  total_ssim_loss: [0.30435300], total_l2_loss: [0.01240203], total_loss: [0.30143347]\n",
      "Epoch: [150],step: [20500], mri_ssim_loss: [0.38985801], pet_ssim_loss: [0.34404361],  total_ssim_loss: [0.36557639], total_l2_loss: [0.01529296], total_loss: [0.36207354]\n",
      "Epoch: [151],step: [20600], mri_ssim_loss: [0.08103371], pet_ssim_loss: [0.16230547],  total_ssim_loss: [0.12410774], total_l2_loss: [0.00873715], total_loss: [0.12295404]\n",
      "Epoch: [152],step: [20700], mri_ssim_loss: [0.29601675], pet_ssim_loss: [0.31026447],  total_ssim_loss: [0.30356804], total_l2_loss: [0.01238507], total_loss: [0.30065623]\n",
      "Epoch: [152],step: [20800], mri_ssim_loss: [0.14363170], pet_ssim_loss: [0.24399406],  total_ssim_loss: [0.19682373], total_l2_loss: [0.00865164], total_loss: [0.19494201]\n",
      "Epoch: [153],step: [20900], mri_ssim_loss: [0.23021901], pet_ssim_loss: [0.26699102],  total_ssim_loss: [0.24970816], total_l2_loss: [0.01189600], total_loss: [0.24733004]\n",
      "Epoch: [154],step: [21000], mri_ssim_loss: [0.12422085], pet_ssim_loss: [0.15234220],  total_ssim_loss: [0.13912517], total_l2_loss: [0.01053602], total_loss: [0.13783929]\n",
      "Epoch: [155],step: [21100], mri_ssim_loss: [0.32817703], pet_ssim_loss: [0.29417551],  total_ssim_loss: [0.31015623], total_l2_loss: [0.00986161], total_loss: [0.30715328]\n",
      "Epoch: [155],step: [21200], mri_ssim_loss: [0.28116584], pet_ssim_loss: [0.27842236],  total_ssim_loss: [0.27971178], total_l2_loss: [0.00784051], total_loss: [0.27699307]\n",
      "Epoch: [156],step: [21300], mri_ssim_loss: [0.18572998], pet_ssim_loss: [0.22473586],  total_ssim_loss: [0.20640308], total_l2_loss: [0.01005527], total_loss: [0.20443960]\n",
      "Epoch: [157],step: [21400], mri_ssim_loss: [0.16884506], pet_ssim_loss: [0.17231882],  total_ssim_loss: [0.17068616], total_l2_loss: [0.02068314], total_loss: [0.16918613]\n",
      "Epoch: [158],step: [21500], mri_ssim_loss: [0.27790809], pet_ssim_loss: [0.21641904],  total_ssim_loss: [0.24531889], total_l2_loss: [0.00922338], total_loss: [0.24295793]\n",
      "Epoch: [158],step: [21600], mri_ssim_loss: [0.61607552], pet_ssim_loss: [0.21389270],  total_ssim_loss: [0.40291861], total_l2_loss: [0.01257509], total_loss: [0.39901519]\n",
      "Epoch: [159],step: [21700], mri_ssim_loss: [0.23995996], pet_ssim_loss: [0.22239923],  total_ssim_loss: [0.23065278], total_l2_loss: [0.00582861], total_loss: [0.22840455]\n",
      "Epoch: [160],step: [21800], mri_ssim_loss: [0.19256973], pet_ssim_loss: [0.20709109],  total_ssim_loss: [0.20026605], total_l2_loss: [0.02086829], total_loss: [0.19847207]\n",
      "Epoch: [161],step: [21900], mri_ssim_loss: [0.25118464], pet_ssim_loss: [0.18937975],  total_ssim_loss: [0.21842805], total_l2_loss: [0.00645606], total_loss: [0.21630834]\n",
      "Epoch: [161],step: [22000], mri_ssim_loss: [0.25694346], pet_ssim_loss: [0.24923819],  total_ssim_loss: [0.25285965], total_l2_loss: [0.00680190], total_loss: [0.25039905]\n",
      "Epoch: [162],step: [22100], mri_ssim_loss: [0.07903564], pet_ssim_loss: [0.13528776],  total_ssim_loss: [0.10884926], total_l2_loss: [0.00895594], total_loss: [0.10785032]\n",
      "Epoch: [163],step: [22200], mri_ssim_loss: [0.33927214], pet_ssim_loss: [0.28667271],  total_ssim_loss: [0.31139445], total_l2_loss: [0.01941886], total_loss: [0.30847469]\n",
      "Epoch: [163],step: [22300], mri_ssim_loss: [0.43974102], pet_ssim_loss: [0.33888364],  total_ssim_loss: [0.38628659], total_l2_loss: [0.01488779], total_loss: [0.38257262]\n",
      "Epoch: [164],step: [22400], mri_ssim_loss: [0.19103897], pet_ssim_loss: [0.22107416],  total_ssim_loss: [0.20695761], total_l2_loss: [0.00683387], total_loss: [0.20495637]\n",
      "Epoch: [165],step: [22500], mri_ssim_loss: [0.10470068], pet_ssim_loss: [0.15029550],  total_ssim_loss: [0.12886593], total_l2_loss: [0.00856214], total_loss: [0.12766290]\n",
      "Epoch: [166],step: [22600], mri_ssim_loss: [0.35293519], pet_ssim_loss: [0.21160102],  total_ssim_loss: [0.27802807], total_l2_loss: [0.01115894], total_loss: [0.27535936]\n",
      "Epoch: [166],step: [22700], mri_ssim_loss: [0.19057488], pet_ssim_loss: [0.20637906],  total_ssim_loss: [0.19895110], total_l2_loss: [0.01176003], total_loss: [0.19707918]\n",
      "Epoch: [167],step: [22800], mri_ssim_loss: [0.17134285], pet_ssim_loss: [0.20849407],  total_ssim_loss: [0.19103299], total_l2_loss: [0.00988939], total_loss: [0.18922156]\n",
      "Epoch: [168],step: [22900], mri_ssim_loss: [0.13316441], pet_ssim_loss: [0.15291756],  total_ssim_loss: [0.14363357], total_l2_loss: [0.01480767], total_loss: [0.14234531]\n",
      "Epoch: [169],step: [23000], mri_ssim_loss: [0.33466214], pet_ssim_loss: [0.27107507],  total_ssim_loss: [0.30096099], total_l2_loss: [0.01349827], total_loss: [0.29808635]\n",
      "Epoch: [169],step: [23100], mri_ssim_loss: [0.34217304], pet_ssim_loss: [0.38063884],  total_ssim_loss: [0.36255991], total_l2_loss: [0.01008485], total_loss: [0.35903516]\n",
      "Epoch: [170],step: [23200], mri_ssim_loss: [0.18058193], pet_ssim_loss: [0.24410236],  total_ssim_loss: [0.21424773], total_l2_loss: [0.00967446], total_loss: [0.21220200]\n",
      "Epoch: [171],step: [23300], mri_ssim_loss: [0.18506199], pet_ssim_loss: [0.18363845],  total_ssim_loss: [0.18430752], total_l2_loss: [0.02545367], total_loss: [0.18271898]\n",
      "Epoch: [172],step: [23400], mri_ssim_loss: [0.23500550], pet_ssim_loss: [0.32053292],  total_ssim_loss: [0.28033501], total_l2_loss: [0.00933023], total_loss: [0.27762496]\n",
      "Epoch: [172],step: [23500], mri_ssim_loss: [0.54684711], pet_ssim_loss: [0.32402217],  total_ssim_loss: [0.42874989], total_l2_loss: [0.01194509], total_loss: [0.42458186]\n",
      "Epoch: [173],step: [23600], mri_ssim_loss: [0.26410496], pet_ssim_loss: [0.32398999],  total_ssim_loss: [0.29584402], total_l2_loss: [0.01561367], total_loss: [0.29304171]\n",
      "Epoch: [174],step: [23700], mri_ssim_loss: [0.31556082], pet_ssim_loss: [0.20538598],  total_ssim_loss: [0.25716814], total_l2_loss: [0.02001125], total_loss: [0.25479659]\n",
      "Epoch: [174],step: [23800], mri_ssim_loss: [0.32469451], pet_ssim_loss: [0.34785628],  total_ssim_loss: [0.33697027], total_l2_loss: [0.01150373], total_loss: [0.33371562]\n",
      "Epoch: [175],step: [23900], mri_ssim_loss: [0.34963894], pet_ssim_loss: [0.32393467],  total_ssim_loss: [0.33601567], total_l2_loss: [0.01474483], total_loss: [0.33280298]\n",
      "Epoch: [176],step: [24000], mri_ssim_loss: [0.07927001], pet_ssim_loss: [0.15853554],  total_ssim_loss: [0.12128074], total_l2_loss: [0.00835304], total_loss: [0.12015146]\n",
      "Epoch: [177],step: [24100], mri_ssim_loss: [0.30251247], pet_ssim_loss: [0.29800802],  total_ssim_loss: [0.30012512], total_l2_loss: [0.01303662], total_loss: [0.29725423]\n",
      "Epoch: [177],step: [24200], mri_ssim_loss: [0.15391356], pet_ssim_loss: [0.22362280],  total_ssim_loss: [0.19085944], total_l2_loss: [0.00873069], total_loss: [0.18903816]\n",
      "Epoch: [178],step: [24300], mri_ssim_loss: [0.22330558], pet_ssim_loss: [0.26606899],  total_ssim_loss: [0.24597019], total_l2_loss: [0.01200629], total_loss: [0.24363054]\n",
      "Epoch: [179],step: [24400], mri_ssim_loss: [0.13961828], pet_ssim_loss: [0.13384181],  total_ssim_loss: [0.13655674], total_l2_loss: [0.00951611], total_loss: [0.13528633]\n",
      "Epoch: [180],step: [24500], mri_ssim_loss: [0.35629296], pet_ssim_loss: [0.25678635],  total_ssim_loss: [0.30355445], total_l2_loss: [0.01027471], total_loss: [0.30062166]\n",
      "Epoch: [180],step: [24600], mri_ssim_loss: [0.19391978], pet_ssim_loss: [0.23002338],  total_ssim_loss: [0.21305469], total_l2_loss: [0.00940004], total_loss: [0.21101815]\n",
      "Epoch: [181],step: [24700], mri_ssim_loss: [0.19448209], pet_ssim_loss: [0.22462928],  total_ssim_loss: [0.21046010], total_l2_loss: [0.01067826], total_loss: [0.20846228]\n",
      "Epoch: [182],step: [24800], mri_ssim_loss: [0.16544592], pet_ssim_loss: [0.17241251],  total_ssim_loss: [0.16913822], total_l2_loss: [0.02227543], total_loss: [0.16766959]\n",
      "Epoch: [183],step: [24900], mri_ssim_loss: [0.31151056], pet_ssim_loss: [0.20089400],  total_ssim_loss: [0.25288376], total_l2_loss: [0.00996685], total_loss: [0.25045457]\n",
      "Epoch: [183],step: [25000], mri_ssim_loss: [0.56848395], pet_ssim_loss: [0.23337430],  total_ssim_loss: [0.39087582], total_l2_loss: [0.01212607], total_loss: [0.38708833]\n",
      "Epoch: [184],step: [25100], mri_ssim_loss: [0.16901094], pet_ssim_loss: [0.17554700],  total_ssim_loss: [0.17247504], total_l2_loss: [0.00589129], total_loss: [0.17080921]\n",
      "Epoch: [185],step: [25200], mri_ssim_loss: [0.20773661], pet_ssim_loss: [0.20666623],  total_ssim_loss: [0.20716929], total_l2_loss: [0.02141708], total_loss: [0.20531178]\n",
      "Epoch: [186],step: [25300], mri_ssim_loss: [0.23957735], pet_ssim_loss: [0.17487133],  total_ssim_loss: [0.20528315], total_l2_loss: [0.00609986], total_loss: [0.20329133]\n",
      "Epoch: [186],step: [25400], mri_ssim_loss: [0.24991727], pet_ssim_loss: [0.23449409],  total_ssim_loss: [0.24174297], total_l2_loss: [0.00703777], total_loss: [0.23939592]\n",
      "Epoch: [187],step: [25500], mri_ssim_loss: [0.08152878], pet_ssim_loss: [0.12985611],  total_ssim_loss: [0.10714225], total_l2_loss: [0.00908208], total_loss: [0.10616165]\n",
      "Epoch: [188],step: [25600], mri_ssim_loss: [0.37195849], pet_ssim_loss: [0.25443172],  total_ssim_loss: [0.30966932], total_l2_loss: [0.02309542], total_loss: [0.30680358]\n",
      "Epoch: [188],step: [25700], mri_ssim_loss: [0.34915626], pet_ssim_loss: [0.29519862],  total_ssim_loss: [0.32055873], total_l2_loss: [0.01382824], total_loss: [0.31749141]\n",
      "Epoch: [189],step: [25800], mri_ssim_loss: [0.19107437], pet_ssim_loss: [0.20670068],  total_ssim_loss: [0.19935632], total_l2_loss: [0.00704597], total_loss: [0.19743320]\n",
      "Epoch: [190],step: [25900], mri_ssim_loss: [0.11280012], pet_ssim_loss: [0.13800150],  total_ssim_loss: [0.12615685], total_l2_loss: [0.00815749], total_loss: [0.12497686]\n",
      "Epoch: [191],step: [26000], mri_ssim_loss: [0.37365550], pet_ssim_loss: [0.25642288],  total_ssim_loss: [0.31152219], total_l2_loss: [0.00827322], total_loss: [0.30848971]\n",
      "Epoch: [191],step: [26100], mri_ssim_loss: [0.20962489], pet_ssim_loss: [0.22638988],  total_ssim_loss: [0.21851033], total_l2_loss: [0.01186659], total_loss: [0.21644390]\n",
      "Epoch: [192],step: [26200], mri_ssim_loss: [0.18041694], pet_ssim_loss: [0.19531870],  total_ssim_loss: [0.18831486], total_l2_loss: [0.01022429], total_loss: [0.18653394]\n",
      "Epoch: [193],step: [26300], mri_ssim_loss: [0.11281276], pet_ssim_loss: [0.16640770],  total_ssim_loss: [0.14121807], total_l2_loss: [0.01221339], total_loss: [0.13992801]\n",
      "Epoch: [194],step: [26400], mri_ssim_loss: [0.28550738], pet_ssim_loss: [0.22624928],  total_ssim_loss: [0.25410059], total_l2_loss: [0.01336032], total_loss: [0.25169319]\n",
      "Epoch: [194],step: [26500], mri_ssim_loss: [0.34672868], pet_ssim_loss: [0.34635377],  total_ssim_loss: [0.34652996], total_l2_loss: [0.01082926], total_loss: [0.34317297]\n",
      "Epoch: [195],step: [26600], mri_ssim_loss: [0.19721872], pet_ssim_loss: [0.21873218],  total_ssim_loss: [0.20862085], total_l2_loss: [0.00971405], total_loss: [0.20663178]\n",
      "Epoch: [196],step: [26700], mri_ssim_loss: [0.18656945], pet_ssim_loss: [0.17693353],  total_ssim_loss: [0.18146241], total_l2_loss: [0.02412728], total_loss: [0.17988907]\n",
      "Epoch: [197],step: [26800], mri_ssim_loss: [0.25876105], pet_ssim_loss: [0.28377712],  total_ssim_loss: [0.27201957], total_l2_loss: [0.00880733], total_loss: [0.26938742]\n",
      "Epoch: [197],step: [26900], mri_ssim_loss: [0.60425186], pet_ssim_loss: [0.32097137],  total_ssim_loss: [0.45411319], total_l2_loss: [0.01335147], total_loss: [0.44970557]\n",
      "Epoch: [198],step: [27000], mri_ssim_loss: [0.32107961], pet_ssim_loss: [0.25965750],  total_ssim_loss: [0.28852588], total_l2_loss: [0.01664851], total_loss: [0.28580710]\n",
      "Epoch: [199],step: [27100], mri_ssim_loss: [0.31961656], pet_ssim_loss: [0.19365144],  total_ssim_loss: [0.25285503], total_l2_loss: [0.01992360], total_loss: [0.25052571]\n",
      "Epoch: [199],step: [27200], mri_ssim_loss: [0.26730013], pet_ssim_loss: [0.29242587],  total_ssim_loss: [0.28061676], total_l2_loss: [0.01149889], total_loss: [0.27792558]\n"
     ]
    },
    {
     "name": "stderr",
     "output_type": "stream",
     "text": [
      "/software/ml/JupyterHub/conda-env-20191018-0822/lib/python3.6/site-packages/torch/serialization.py:256: UserWarning: Couldn't retrieve source code for container of type FunFuseAn. It won't be checked for correctness upon loading.\n",
      "  \"type \" + obj.__name__ + \". It won't be checked \"\n"
     ]
    }
   ],
   "source": [
    "# perform the training\n",
    "counter = 0\n",
    "start_time = time.time()\n",
    "lamda = 0.99\n",
    "gamma_ssim = 0.47\n",
    "gamma_l2 = 0.5\n",
    "ep_ssim_mri_loss = []\n",
    "ep_ssim_pet_loss = []\n",
    "ep_l2_mri_loss = []\n",
    "ep_l2_pet_loss = []\n",
    "for epoch in range(EPOCH):\n",
    "    ssim_mri_Loss = []\n",
    "    ssim_pet_Loss = []\n",
    "    l2_mri_Loss = []\n",
    "    l2_pet_Loss = []\n",
    "    #run batch images\n",
    "    batch_idxs = 272 // batch_size\n",
    "    for idx in range(0, batch_idxs):\n",
    "        b_x = train_mri_tensor[idx*batch_size : (idx+1)*batch_size,:,:,:].to(device)\n",
    "        b_y = train_pet_tensor[idx*batch_size : (idx+1)*batch_size,:,:,:].to(device)\n",
    "        counter += 1\n",
    "        output = cnn(b_x,b_y)               # cnn output\n",
    "        ssim_loss_mri = 1 - ssim(output, b_x,data_range=1)\n",
    "        ssim_loss_pet = 1 - ssim(output, b_y,data_range=1)\n",
    "        l2_loss_mri   = l2_loss(output,b_x)\n",
    "        l2_loss_pet   = l2_loss(output,b_y)\n",
    "        ssim_total = gamma_ssim*ssim_loss_mri + (1-gamma_ssim)*ssim_loss_pet\n",
    "        l2_total = gamma_l2*l2_loss_mri + (1-gamma_l2)*l2_loss_pet\n",
    "        loss_total = lamda*ssim_total + (1-lamda)*l2_total \n",
    "        optimizer.zero_grad()           # clear gradients for this training step\n",
    "        loss_total.backward()           # backpropagation, compute gradients\n",
    "        optimizer.step()                # apply gradients\n",
    "    \n",
    "        #store all the loss values at each epoch\n",
    "        ssim_mri_Loss.append(ssim_loss_mri.item())\n",
    "        ssim_pet_Loss.append(ssim_loss_pet.item())\n",
    "        l2_mri_Loss.append(l2_loss_mri.item())\n",
    "        l2_pet_Loss.append(l2_loss_pet.item())\n",
    "\n",
    "        if counter % 100 == 0:\n",
    "            print(\"Epoch: [%2d],step: [%2d], mri_ssim_loss: [%.8f], pet_ssim_loss: [%.8f],  total_ssim_loss: [%.8f], total_l2_loss: [%.8f], total_loss: [%.8f]\" \n",
    "            %(epoch, counter, ssim_loss_mri, ssim_loss_pet, ssim_total, l2_total, loss_total))\n",
    "\n",
    "    av_ssim_mri_loss = np.average(ssim_mri_Loss)\n",
    "    ep_ssim_mri_loss.append(av_ssim_mri_loss)\n",
    "    \n",
    "    av_ssim_pet_loss = np.average(ssim_pet_Loss)\n",
    "    ep_ssim_pet_loss.append(av_ssim_pet_loss)\n",
    "    \n",
    "    av_l2_mri_loss = np.average(l2_mri_Loss)\n",
    "    ep_l2_mri_loss.append(av_l2_mri_loss)\n",
    "    \n",
    "    av_l2_pet_loss = np.average(l2_pet_Loss)\n",
    "    ep_l2_pet_loss.append(av_l2_pet_loss)\n",
    "    \n",
    "\n",
    "    if(epoch == EPOCH -1):\n",
    "      #Save a checkpoint\n",
    "      torch.save(cnn, '/home/h1/s8993054/Forschungprojekt/FunFuseAn/Checkpoint/checkpoint_lambda_0.99_gamma_ssim_0.47_gamma_l2_0.5.pth') "
   ]
  },
  {
   "cell_type": "code",
   "execution_count": 17,
   "metadata": {},
   "outputs": [],
   "source": [
    "l1 = np.asarray(ep_ssim_mri_loss)\n",
    "l2 = np.asarray(ep_ssim_pet_loss)\n",
    "l3 = np.asarray(ep_l2_mri_loss)\n",
    "l4 = np.asarray(ep_l2_pet_loss)"
   ]
  },
  {
   "cell_type": "code",
   "execution_count": 18,
   "metadata": {},
   "outputs": [],
   "source": [
    "h5f = h5py.File('/home/h1/s8993054/Forschungprojekt/FunFuseAn/Loss curves/H5 Files/lamda_0.99/gamma_0.47_0.5_ssim_mri.h5', 'w')\n",
    "h5f.create_dataset('data', data=l1)\n",
    "h5f.close()\n",
    "\n",
    "h5f = h5py.File('/home/h1/s8993054/Forschungprojekt/FunFuseAn/Loss curves/H5 Files/lamda_0.99/gamma_0.47_0.5_ssim_pet.h5', 'w')\n",
    "h5f.create_dataset('data', data=l2)\n",
    "h5f.close()\n",
    "\n",
    "h5f = h5py.File('/home/h1/s8993054/Forschungprojekt/FunFuseAn/Loss curves/H5 Files/lamda_0.99/gamma_0.47_0.5_l2_mri.h5', 'w')\n",
    "h5f.create_dataset('data', data=l3)\n",
    "h5f.close()\n",
    "\n",
    "h5f = h5py.File('/home/h1/s8993054/Forschungprojekt/FunFuseAn/Loss curves/H5 Files/lamda_0.99/gamma_0.47_0.5_l2_pet.h5', 'w')\n",
    "h5f.create_dataset('data', data=l4)\n",
    "h5f.close()"
   ]
  },
  {
   "cell_type": "code",
   "execution_count": 19,
   "metadata": {},
   "outputs": [
    {
     "name": "stderr",
     "output_type": "stream",
     "text": [
      "The PostScript backend does not support transparency; partially transparent artists will be rendered opaque.\n",
      "The PostScript backend does not support transparency; partially transparent artists will be rendered opaque.\n"
     ]
    },
    {
     "data": {
      "image/png": "[encoded data removed]",
      "text/plain": [
       "<Figure size 432x288 with 1 Axes>"
      ]
     },
     "metadata": {
      "needs_background": "light"
     },
     "output_type": "display_data"
    }
   ],
   "source": [
    "#FunFuseAn SSIM gamma_ssim = 0.1 gamma_l2 = 0.1\n",
    "fontP = FontProperties()\n",
    "fontP.set_size('large')\n",
    "plt.plot(l1,'b',label='$1-SSIM_{MRI}$')\n",
    "plt.plot(l2,'c',label='$1-SSIM_{PET}$')\n",
    "plt.xlabel('epoch',fontsize= 15)\n",
    "plt.ylabel('Loss values',fontsize= 15)\n",
    "plt.legend(loc=1, prop=fontP)\n",
    "plt.title('FunFuseAn $\\lambda = 0.99, \\gamma_{ssim} = 0.47, \\gamma_{l2} = 0.5$',fontsize='15')\n",
    "plt.savefig('/home/h1/s8993054/Forschungprojekt/FunFuseAn/Loss curves/Images/lamda_0.99/gamma_0.47_0.5_ssim.eps', format='eps', dpi=100)"
   ]
  },
  {
   "cell_type": "code",
   "execution_count": 20,
   "metadata": {},
   "outputs": [
    {
     "name": "stderr",
     "output_type": "stream",
     "text": [
      "The PostScript backend does not support transparency; partially transparent artists will be rendered opaque.\n",
      "The PostScript backend does not support transparency; partially transparent artists will be rendered opaque.\n"
     ]
    },
    {
     "data": {
      "image/png": "[encoded data removed]",
      "text/plain": [
       "<Figure size 432x288 with 1 Axes>"
      ]
     },
     "metadata": {
      "needs_background": "light"
     },
     "output_type": "display_data"
    }
   ],
   "source": [
    "#FunFuseAn L2 gamma_ssim = 0.1 gamma_l2 = 0.1\n",
    "fontP = FontProperties()\n",
    "fontP.set_size('large')\n",
    "plt.plot(l3,'b',label='$l2_{MRI}$')\n",
    "plt.plot(l4,'c',label='$l2_{PET}$')\n",
    "plt.xlabel('epoch',fontsize= 15)\n",
    "plt.ylabel('Loss values',fontsize= 15)\n",
    "plt.legend(loc=1, prop=fontP)\n",
    "plt.title('FunFuseAn $\\lambda = 0.99, \\gamma_{ssim} = 0.47, \\gamma_{l2} = 0.5$',fontsize='15')\n",
    "plt.savefig('/home/h1/s8993054/Forschungprojekt/FunFuseAn/Loss curves/Images/lamda_0.99/gamma_0.47_0.5_l2.eps', format='eps', dpi=100)"
   ]
  },
  {
   "cell_type": "code",
   "execution_count": null,
   "metadata": {},
   "outputs": [],
   "source": []
  }
 ],
 "metadata": {
  "kernelspec": {
   "display_name": "Python 3",
   "language": "python",
   "name": "python3"
  },
  "language_info": {
   "codemirror_mode": {
    "name": "ipython",
    "version": 3
   },
   "file_extension": ".py",
   "mimetype": "text/x-python",
   "name": "python",
   "nbconvert_exporter": "python",
   "pygments_lexer": "ipython3",
   "version": "3.6.9"
  }
 },
 "nbformat": 4,
 "nbformat_minor": 4
}
