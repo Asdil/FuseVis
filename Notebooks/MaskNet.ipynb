{
 "cells": [
  {
   "cell_type": "markdown",
   "metadata": {},
   "source": [
    "This is the pytorch implementation of the deep learning model proposed in the paper 'A Deep Model for Multi-Focus Image Fusion Based on Gradients and Connected Regions'"
   ]
  },
  {
   "cell_type": "code",
   "execution_count": 16,
   "metadata": {},
   "outputs": [],
   "source": [
    "#Import packages\n",
    "import time\n",
    "import torch.nn as nn\n",
    "import torch\n",
    "import torch.nn.functional as F\n",
    "from torch.utils.data import Dataset, DataLoader\n",
    "import torchvision.datasets as datasets\n",
    "import numpy as np\n",
    "from torchvision import transforms\n",
    "from torch.autograd import Variable\n",
    "from PIL import Image\n",
    "import torchvision.transforms.functional as TF\n",
    "from torchvision.models.vgg import vgg19\n",
    "import torch.nn as nn\n",
    "import torch.nn.functional as F\n",
    "import torch\n",
    "from skimage import img_as_ubyte\n",
    "import torch.nn as nn\n",
    "import torch.utils.data as Data\n",
    "import torchvision      # dataset\n",
    "import matplotlib.pyplot as plt\n",
    "import scipy\n",
    "import numpy as np\n",
    "import argparse\n",
    "import glob\n",
    "import imageio\n",
    "from skimage import color\n",
    "import numpy\n",
    "import natsort\n",
    "import scipy\n",
    "from pytorch_msssim import ssim, ms_ssim, SSIM, MS_SSIM\n",
    "import pprint\n",
    "from scipy.ndimage import correlate\n",
    "from scipy.ndimage.filters import gaussian_gradient_magnitude\n",
    "import torchvision.datasets as dset\n",
    "import torch.utils.data as data\n",
    "import os\n",
    "import os.path\n",
    "from tkinter import *\n",
    "import tkinter as tk\n",
    "import tkinter.font as tkFont\n",
    "from PIL import ImageTk, Image\n",
    "import pylab\n",
    "import cv2\n",
    "import h5py\n",
    "from mpl_toolkits.axes_grid1 import make_axes_locatable"
   ]
  },
  {
   "cell_type": "code",
   "execution_count": 17,
   "metadata": {},
   "outputs": [
    {
     "name": "stdout",
     "output_type": "stream",
     "text": [
      "11811160064\n"
     ]
    }
   ],
   "source": [
    "device = 'cuda' if torch.cuda.is_available() else 'cpu'\n",
    "print(torch.cuda.get_device_properties(0).total_memory)"
   ]
  },
  {
   "cell_type": "code",
   "execution_count": 18,
   "metadata": {},
   "outputs": [
    {
     "data": {
      "text/plain": [
       "12"
      ]
     },
     "execution_count": 18,
     "metadata": {},
     "output_type": "execute_result"
    }
   ],
   "source": [
    "import multiprocessing\n",
    "multiprocessing.cpu_count()"
   ]
  },
  {
   "cell_type": "code",
   "execution_count": 19,
   "metadata": {},
   "outputs": [],
   "source": [
    "#define the hyperparameters\n",
    "image_length = 256\n",
    "image_width  = 256\n",
    "mr_channels  = 1\n",
    "gray_channels = 1\n",
    "pet_channels = 4    \n",
    "rgb_channels = 3     \n",
    "batch_size   = 1\n",
    "EPOCH = 50\n",
    "learning_rate = 0.0002 "
   ]
  },
  {
   "cell_type": "code",
   "execution_count": 20,
   "metadata": {},
   "outputs": [],
   "source": [
    "#load the train mri data\n",
    "filenames = os.listdir('C:/Users/horan/Desktop/Suraka/Training/MRI')\n",
    "dataset = os.path.join(os.getcwd(), 'C:/Users/horan/Desktop/Suraka/Training/MRI')\n",
    "data = glob.glob(os.path.join(dataset, \"*.gif\"))\n",
    "data = natsort.natsorted(data,reverse=False)\n",
    "train_mri = np.zeros((len(data), image_width,image_length))\n",
    "for i in range(len(data)):\n",
    "    train_mri[i,:,:] =(imageio.imread(data[i]))\n",
    "    train_mri[i,:,:] =(train_mri[i,:,:] - np.min(train_mri[i,:,:])) / (np.max(train_mri[i,:,:]) - np.min(train_mri[i,:,:]))\n",
    "    train_mri[i,:,:] = np.float32(train_mri[i,:,:])"
   ]
  },
  {
   "cell_type": "code",
   "execution_count": 21,
   "metadata": {},
   "outputs": [],
   "source": [
    "#expand dimension to add the channel\n",
    "train_mri = np.expand_dims(train_mri,axis=1)"
   ]
  },
  {
   "cell_type": "code",
   "execution_count": 22,
   "metadata": {},
   "outputs": [
    {
     "data": {
      "text/plain": [
       "(272, 1, 256, 256)"
      ]
     },
     "execution_count": 22,
     "metadata": {},
     "output_type": "execute_result"
    }
   ],
   "source": [
    "#verify the shape matches the pytorch standard\n",
    "train_mri.shape"
   ]
  },
  {
   "cell_type": "code",
   "execution_count": 23,
   "metadata": {},
   "outputs": [
    {
     "data": {
      "text/plain": [
       "torch.Size([272, 1, 256, 256])"
      ]
     },
     "execution_count": 23,
     "metadata": {},
     "output_type": "execute_result"
    }
   ],
   "source": [
    "#convert the MRI training data to pytorch tensor\n",
    "train_mri_tensor = torch.from_numpy(train_mri).float()\n",
    "train_mri_tensor.shape"
   ]
  },
  {
   "cell_type": "code",
   "execution_count": 24,
   "metadata": {},
   "outputs": [],
   "source": [
    "#load the train pet data\n",
    "filenames = os.listdir('C:/Users/horan/Desktop/Suraka/Training/PET')\n",
    "dataset = os.path.join(os.getcwd(), 'C:/Users/horan/Desktop/Suraka/Training/PET')\n",
    "data = glob.glob(os.path.join(dataset, \"*.gif\"))\n",
    "data = natsort.natsorted(data,reverse=False)\n",
    "train_other = np.zeros((len(data),image_width,image_length,pet_channels),dtype=float)\n",
    "train_pet = np.zeros((len(data),image_width,image_length),dtype=float)\n",
    "for i in range(len(data)):\n",
    "    train_other[i,:,:,:] =(imageio.imread(data[i]))\n",
    "    train_pet[i,:,:] = 0.2989 * train_other[i,:,:,0] + 0.5870 *  train_other[i,:,:,1]  + 0.1140 * train_other[i,:,:,2]\n",
    "    train_pet[i,:,:] =(train_pet[i,:,:] - np.min(train_pet[i,:,:])) / (np.max(train_pet[i,:,:]) - np.min(train_pet[i,:,:]))"
   ]
  },
  {
   "cell_type": "code",
   "execution_count": 25,
   "metadata": {},
   "outputs": [],
   "source": [
    "#expand the dimension to add the channel\n",
    "train_pet = np.expand_dims(train_pet,axis=1)"
   ]
  },
  {
   "cell_type": "code",
   "execution_count": 26,
   "metadata": {},
   "outputs": [
    {
     "data": {
      "text/plain": [
       "(272, 1, 256, 256)"
      ]
     },
     "execution_count": 26,
     "metadata": {},
     "output_type": "execute_result"
    }
   ],
   "source": [
    "#verify the shape matches the pytorch standard\n",
    "train_pet.shape"
   ]
  },
  {
   "cell_type": "code",
   "execution_count": 27,
   "metadata": {},
   "outputs": [
    {
     "data": {
      "text/plain": [
       "torch.Size([272, 1, 256, 256])"
      ]
     },
     "execution_count": 27,
     "metadata": {},
     "output_type": "execute_result"
    }
   ],
   "source": [
    "#convert the PET training data to pytorch tensor\n",
    "train_pet_tensor = torch.from_numpy(train_pet).float()\n",
    "train_pet_tensor.shape"
   ]
  },
  {
   "cell_type": "code",
   "execution_count": 49,
   "metadata": {},
   "outputs": [
    {
     "name": "stdout",
     "output_type": "stream",
     "text": [
      "MaskNet(\n",
      "  (layer1): Sequential(\n",
      "    (0): Conv2d(2, 48, kernel_size=(3, 3), stride=(1, 1), padding=(1, 1))\n",
      "    (1): BatchNorm2d(48, eps=1e-05, momentum=0.1, affine=True, track_running_stats=True)\n",
      "    (2): LeakyReLU(negative_slope=0.2, inplace)\n",
      "  )\n",
      "  (layer2): Sequential(\n",
      "    (0): Conv2d(48, 48, kernel_size=(3, 3), stride=(1, 1), padding=(1, 1))\n",
      "    (1): BatchNorm2d(48, eps=1e-05, momentum=0.1, affine=True, track_running_stats=True)\n",
      "    (2): LeakyReLU(negative_slope=0.2, inplace)\n",
      "  )\n",
      "  (layer3): Sequential(\n",
      "    (0): Conv2d(96, 48, kernel_size=(3, 3), stride=(1, 1), padding=(1, 1))\n",
      "    (1): BatchNorm2d(48, eps=1e-05, momentum=0.1, affine=True, track_running_stats=True)\n",
      "    (2): LeakyReLU(negative_slope=0.2, inplace)\n",
      "  )\n",
      "  (layer4): Sequential(\n",
      "    (0): Conv2d(144, 48, kernel_size=(3, 3), stride=(1, 1), padding=(1, 1))\n",
      "    (1): BatchNorm2d(48, eps=1e-05, momentum=0.1, affine=True, track_running_stats=True)\n",
      "    (2): LeakyReLU(negative_slope=0.2, inplace)\n",
      "  )\n",
      "  (layer5): Sequential(\n",
      "    (0): Conv2d(192, 192, kernel_size=(3, 3), stride=(1, 1), padding=(1, 1))\n",
      "    (1): BatchNorm2d(192, eps=1e-05, momentum=0.1, affine=True, track_running_stats=True)\n",
      "    (2): LeakyReLU(negative_slope=0.2, inplace)\n",
      "  )\n",
      "  (layer6): Sequential(\n",
      "    (0): Conv2d(192, 128, kernel_size=(3, 3), stride=(1, 1), padding=(1, 1))\n",
      "    (1): BatchNorm2d(128, eps=1e-05, momentum=0.1, affine=True, track_running_stats=True)\n",
      "    (2): LeakyReLU(negative_slope=0.2, inplace)\n",
      "  )\n",
      "  (layer7): Sequential(\n",
      "    (0): Conv2d(128, 64, kernel_size=(3, 3), stride=(1, 1), padding=(1, 1))\n",
      "    (1): BatchNorm2d(64, eps=1e-05, momentum=0.1, affine=True, track_running_stats=True)\n",
      "    (2): LeakyReLU(negative_slope=0.2, inplace)\n",
      "  )\n",
      "  (layer8): Sequential(\n",
      "    (0): Conv2d(64, 1, kernel_size=(3, 3), stride=(1, 1), padding=(1, 1))\n",
      "    (1): BatchNorm2d(1, eps=1e-05, momentum=0.1, affine=True, track_running_stats=True)\n",
      "    (2): LeakyReLU(negative_slope=0.2, inplace)\n",
      "  )\n",
      ")\n"
     ]
    }
   ],
   "source": [
    "#define the Mask-Net network\n",
    "class MaskNet(nn.Module):\n",
    "    def  __init__(self):\n",
    "        super(MaskNet, self).__init__()\n",
    "        #####encoder layer 1#####\n",
    "        self.layer1 = nn.Sequential(  #input shape (,2,256,256)\n",
    "                         nn.Conv2d(in_channels=2, out_channels=48, kernel_size=3, stride=1, padding=1),\n",
    "                         nn.BatchNorm2d(48),\n",
    "                         nn.LeakyReLU(0.2,inplace=True)) #output shape (,48,256,256)   \n",
    "        #####encoder layer 2#####\n",
    "        self.layer2 = nn.Sequential(  #input shape (,48,256,256)\n",
    "                         nn.Conv2d(in_channels = 48, out_channels = 48, kernel_size  = 3, stride= 1, padding = 1),\n",
    "                         nn.BatchNorm2d(48),\n",
    "                         nn.LeakyReLU(0.2,inplace=True))  #output shape (,48,256,256)\n",
    "        #####encoder layer 3#####\n",
    "        self.layer3 = nn.Sequential(  #input shape (,96,256,256)\n",
    "                         nn.Conv2d(in_channels = 96, out_channels = 48, kernel_size  = 3, stride= 1, padding = 1),\n",
    "                         nn.BatchNorm2d(48),\n",
    "                         nn.LeakyReLU(0.2,inplace=True))  #output shape (,48,256,256)     \n",
    "        #####encoder layer 4#####\n",
    "        self.layer4 = nn.Sequential(  #input shape (,144,256,256)\n",
    "                         nn.Conv2d(in_channels = 144, out_channels = 48, kernel_size  = 3, stride= 1, padding = 1),\n",
    "                         nn.BatchNorm2d(48),\n",
    "                         nn.LeakyReLU(0.2,inplace=True))  #output shape (,48,256,256) \n",
    "        #####decoder layer 1#####\n",
    "        self.layer5 = nn.Sequential(  #input shape (,192,256,256)\n",
    "                         nn.Conv2d(in_channels = 192, out_channels = 192, kernel_size  = 3, stride= 1, padding = 1),\n",
    "                         nn.BatchNorm2d(192),\n",
    "                         nn.LeakyReLU(0.2,inplace=True))  #output shape (,192,256,256)    \n",
    "        #####decoder layer 2#####\n",
    "        self.layer6 = nn.Sequential(  #input shape (,192,256,256)\n",
    "                         nn.Conv2d(in_channels = 192, out_channels = 128, kernel_size  = 3, stride= 1, padding = 1),\n",
    "                         nn.BatchNorm2d(128),\n",
    "                         nn.LeakyReLU(0.2,inplace=True))  #output shape (,128,256,256)    \n",
    "        #####decoder layer 3#####\n",
    "        self.layer7 = nn.Sequential(  #input shape (,128,256,256)\n",
    "                         nn.Conv2d(in_channels = 128, out_channels = 64, kernel_size  = 3, stride= 1, padding = 1),\n",
    "                         nn.BatchNorm2d(64),\n",
    "                         nn.LeakyReLU(0.2,inplace=True))  #output shape (,64,256,256)  \n",
    "        #####decoder layer 4#####\n",
    "        self.layer8 = nn.Sequential(  #input shape (,64,256,256)\n",
    "                         nn.Conv2d(in_channels = 64, out_channels = 1, kernel_size  = 3, stride= 1, padding = 1),\n",
    "                         nn.BatchNorm2d(1),\n",
    "                         nn.LeakyReLU(0.2,inplace=True))  #output shape (,1,256,256)          \n",
    " \n",
    "    def forward(self, x, y):\n",
    "        #encoder layer 1\n",
    "        en1 = self.layer1(torch.cat((x,y),dim=1))\n",
    "        #encoder layer 2\n",
    "        en2 = self.layer2(en1)\n",
    "        #concat layer 1\n",
    "        concat1 = torch.cat((en1,en2),dim=1)\n",
    "        #encoder layer 3\n",
    "        en3 = self.layer3(concat1)\n",
    "        #concat layer 2\n",
    "        concat2 = torch.cat((concat1,en3),dim=1)\n",
    "        #encoder layer 4\n",
    "        en4 = self.layer4(concat2)\n",
    "        #concat layer 3\n",
    "        concat3 = torch.cat((concat2,en4),dim=1)\n",
    "        #decoder layer 1\n",
    "        dec1 = self.layer5(concat3)\n",
    "        #decoder layer 2\n",
    "        dec2 = self.layer6(dec1)\n",
    "        #decoder layer 3\n",
    "        dec3 = self.layer7(dec2)\n",
    "        #decoder layer 4\n",
    "        dec4 = self.layer8(dec3)\n",
    "        #tanh layer\n",
    "        fused = torch.tanh(dec4)      \n",
    "        return fused\n",
    "        #execute the network\n",
    "\n",
    "cnn = MaskNet().to(device)\n",
    "cnn = cnn.float()\n",
    "print(cnn)"
   ]
  },
  {
   "cell_type": "code",
   "execution_count": 50,
   "metadata": {},
   "outputs": [],
   "source": [
    "#define the optimizers and loss functions \n",
    "optimizer = torch.optim.Adam(cnn.parameters(), lr=learning_rate)   #optimize all cnn parameters\n",
    "MSE_loss   = nn.MSELoss()                                           #MSEloss"
   ]
  },
  {
   "cell_type": "code",
   "execution_count": 51,
   "metadata": {},
   "outputs": [
    {
     "name": "stdout",
     "output_type": "stream",
     "text": [
      "Epoch: [ 0],step: [100], ssim_mri_loss: [0.30408281], ssim_pet_loss: [0.27843350], total_loss: [0.58251631]\n",
      "Epoch: [ 0],step: [200], ssim_mri_loss: [0.61665058], ssim_pet_loss: [0.53206158], total_loss: [1.14871216]\n",
      "Epoch: [ 1],step: [300], ssim_mri_loss: [0.35848594], ssim_pet_loss: [0.44155943], total_loss: [0.80004537]\n",
      "Epoch: [ 1],step: [400], ssim_mri_loss: [0.16218597], ssim_pet_loss: [0.15696067], total_loss: [0.31914663]\n",
      "Epoch: [ 1],step: [500], ssim_mri_loss: [0.79653072], ssim_pet_loss: [0.38177544], total_loss: [1.17830610]\n",
      "Epoch: [ 2],step: [600], ssim_mri_loss: [0.53800988], ssim_pet_loss: [0.44602150], total_loss: [0.98403138]\n",
      "Epoch: [ 2],step: [700], ssim_mri_loss: [0.34456712], ssim_pet_loss: [0.42103213], total_loss: [0.76559925]\n",
      "Epoch: [ 2],step: [800], ssim_mri_loss: [0.21524978], ssim_pet_loss: [0.31623769], total_loss: [0.53148746]\n",
      "Epoch: [ 3],step: [900], ssim_mri_loss: [0.24455869], ssim_pet_loss: [0.20656651], total_loss: [0.45112520]\n",
      "Epoch: [ 3],step: [1000], ssim_mri_loss: [0.51269054], ssim_pet_loss: [0.47841799], total_loss: [0.99110854]\n",
      "Epoch: [ 4],step: [1100], ssim_mri_loss: [0.22983110], ssim_pet_loss: [0.33979672], total_loss: [0.56962782]\n",
      "Epoch: [ 4],step: [1200], ssim_mri_loss: [0.17644817], ssim_pet_loss: [0.16413546], total_loss: [0.34058362]\n",
      "Epoch: [ 4],step: [1300], ssim_mri_loss: [0.25117660], ssim_pet_loss: [0.31819338], total_loss: [0.56936997]\n",
      "Epoch: [ 5],step: [1400], ssim_mri_loss: [0.33590150], ssim_pet_loss: [0.56540275], total_loss: [0.90130424]\n",
      "Epoch: [ 5],step: [1500], ssim_mri_loss: [0.20137733], ssim_pet_loss: [0.16349959], total_loss: [0.36487693]\n",
      "Epoch: [ 5],step: [1600], ssim_mri_loss: [0.36931169], ssim_pet_loss: [0.33471167], total_loss: [0.70402336]\n",
      "Epoch: [ 6],step: [1700], ssim_mri_loss: [0.45561934], ssim_pet_loss: [0.43405670], total_loss: [0.88967603]\n",
      "Epoch: [ 6],step: [1800], ssim_mri_loss: [0.38944262], ssim_pet_loss: [0.30246091], total_loss: [0.69190353]\n",
      "Epoch: [ 6],step: [1900], ssim_mri_loss: [0.33479142], ssim_pet_loss: [0.34327966], total_loss: [0.67807108]\n",
      "Epoch: [ 7],step: [2000], ssim_mri_loss: [0.22520465], ssim_pet_loss: [0.13605821], total_loss: [0.36126286]\n",
      "Epoch: [ 7],step: [2100], ssim_mri_loss: [0.43576390], ssim_pet_loss: [0.37118918], total_loss: [0.80695307]\n",
      "Epoch: [ 8],step: [2200], ssim_mri_loss: [0.39590460], ssim_pet_loss: [0.45287198], total_loss: [0.84877658]\n",
      "Epoch: [ 8],step: [2300], ssim_mri_loss: [0.12426382], ssim_pet_loss: [0.15440381], total_loss: [0.27866763]\n",
      "Epoch: [ 8],step: [2400], ssim_mri_loss: [0.47246367], ssim_pet_loss: [0.61612916], total_loss: [1.08859277]\n",
      "Epoch: [ 9],step: [2500], ssim_mri_loss: [0.14127505], ssim_pet_loss: [0.43221366], total_loss: [0.57348871]\n",
      "Epoch: [ 9],step: [2600], ssim_mri_loss: [0.28756279], ssim_pet_loss: [0.20018935], total_loss: [0.48775214]\n",
      "Epoch: [ 9],step: [2700], ssim_mri_loss: [0.26620936], ssim_pet_loss: [0.32411069], total_loss: [0.59032005]\n",
      "Epoch: [10],step: [2800], ssim_mri_loss: [0.20858467], ssim_pet_loss: [0.21840107], total_loss: [0.42698574]\n",
      "Epoch: [10],step: [2900], ssim_mri_loss: [0.39925200], ssim_pet_loss: [0.31526440], total_loss: [0.71451640]\n",
      "Epoch: [11],step: [3000], ssim_mri_loss: [0.33816463], ssim_pet_loss: [0.27328533], total_loss: [0.61144996]\n",
      "Epoch: [11],step: [3100], ssim_mri_loss: [0.14224577], ssim_pet_loss: [0.16794187], total_loss: [0.31018764]\n",
      "Epoch: [11],step: [3200], ssim_mri_loss: [0.37732452], ssim_pet_loss: [0.40245301], total_loss: [0.77977753]\n",
      "Epoch: [12],step: [3300], ssim_mri_loss: [0.31499583], ssim_pet_loss: [0.61663556], total_loss: [0.93163139]\n",
      "Epoch: [12],step: [3400], ssim_mri_loss: [0.15777093], ssim_pet_loss: [0.13140428], total_loss: [0.28917521]\n",
      "Epoch: [12],step: [3500], ssim_mri_loss: [0.38253540], ssim_pet_loss: [0.30071646], total_loss: [0.68325186]\n",
      "Epoch: [13],step: [3600], ssim_mri_loss: [0.43014932], ssim_pet_loss: [0.40432382], total_loss: [0.83447313]\n",
      "Epoch: [13],step: [3700], ssim_mri_loss: [0.30165082], ssim_pet_loss: [0.35097808], total_loss: [0.65262890]\n",
      "Epoch: [13],step: [3800], ssim_mri_loss: [0.42400008], ssim_pet_loss: [0.34735948], total_loss: [0.77135956]\n",
      "Epoch: [14],step: [3900], ssim_mri_loss: [0.17072177], ssim_pet_loss: [0.18834668], total_loss: [0.35906845]\n",
      "Epoch: [14],step: [4000], ssim_mri_loss: [0.29143608], ssim_pet_loss: [0.32503211], total_loss: [0.61646819]\n",
      "Epoch: [15],step: [4100], ssim_mri_loss: [0.36135244], ssim_pet_loss: [0.44123167], total_loss: [0.80258411]\n",
      "Epoch: [15],step: [4200], ssim_mri_loss: [0.12273669], ssim_pet_loss: [0.14022821], total_loss: [0.26296490]\n",
      "Epoch: [15],step: [4300], ssim_mri_loss: [0.57378435], ssim_pet_loss: [0.43323916], total_loss: [1.00702357]\n",
      "Epoch: [16],step: [4400], ssim_mri_loss: [0.18838954], ssim_pet_loss: [0.50699484], total_loss: [0.69538438]\n",
      "Epoch: [16],step: [4500], ssim_mri_loss: [0.34825945], ssim_pet_loss: [0.44522822], total_loss: [0.79348767]\n",
      "Epoch: [16],step: [4600], ssim_mri_loss: [0.24880868], ssim_pet_loss: [0.30139107], total_loss: [0.55019975]\n",
      "Epoch: [17],step: [4700], ssim_mri_loss: [0.32622564], ssim_pet_loss: [0.30892169], total_loss: [0.63514733]\n",
      "Epoch: [17],step: [4800], ssim_mri_loss: [0.21861678], ssim_pet_loss: [0.24253488], total_loss: [0.46115166]\n",
      "Epoch: [18],step: [4900], ssim_mri_loss: [0.28023070], ssim_pet_loss: [0.27826405], total_loss: [0.55849475]\n",
      "Epoch: [18],step: [5000], ssim_mri_loss: [0.13523054], ssim_pet_loss: [0.16298890], total_loss: [0.29821944]\n",
      "Epoch: [18],step: [5100], ssim_mri_loss: [0.37133229], ssim_pet_loss: [0.43855715], total_loss: [0.80988944]\n",
      "Epoch: [19],step: [5200], ssim_mri_loss: [0.25505841], ssim_pet_loss: [0.52180624], total_loss: [0.77686465]\n",
      "Epoch: [19],step: [5300], ssim_mri_loss: [0.14498854], ssim_pet_loss: [0.12652713], total_loss: [0.27151567]\n",
      "Epoch: [19],step: [5400], ssim_mri_loss: [0.33750772], ssim_pet_loss: [0.25710648], total_loss: [0.59461421]\n",
      "Epoch: [20],step: [5500], ssim_mri_loss: [0.41288477], ssim_pet_loss: [0.37542659], total_loss: [0.78831136]\n",
      "Epoch: [20],step: [5600], ssim_mri_loss: [0.16624546], ssim_pet_loss: [0.37262249], total_loss: [0.53886795]\n",
      "Epoch: [20],step: [5700], ssim_mri_loss: [0.14813805], ssim_pet_loss: [0.19589752], total_loss: [0.34403557]\n",
      "Epoch: [21],step: [5800], ssim_mri_loss: [0.16158992], ssim_pet_loss: [0.19297397], total_loss: [0.35456389]\n",
      "Epoch: [21],step: [5900], ssim_mri_loss: [0.35500717], ssim_pet_loss: [0.30417824], total_loss: [0.65918541]\n",
      "Epoch: [22],step: [6000], ssim_mri_loss: [0.25068516], ssim_pet_loss: [0.43204731], total_loss: [0.68273246]\n",
      "Epoch: [22],step: [6100], ssim_mri_loss: [0.15672988], ssim_pet_loss: [0.10169578], total_loss: [0.25842565]\n",
      "Epoch: [22],step: [6200], ssim_mri_loss: [0.44652653], ssim_pet_loss: [0.46224594], total_loss: [0.90877247]\n",
      "Epoch: [23],step: [6300], ssim_mri_loss: [0.22089159], ssim_pet_loss: [0.45374441], total_loss: [0.67463601]\n",
      "Epoch: [23],step: [6400], ssim_mri_loss: [0.35287166], ssim_pet_loss: [0.41548133], total_loss: [0.76835299]\n",
      "Epoch: [23],step: [6500], ssim_mri_loss: [0.22170979], ssim_pet_loss: [0.16261727], total_loss: [0.38432705]\n",
      "Epoch: [24],step: [6600], ssim_mri_loss: [0.35463983], ssim_pet_loss: [0.30002755], total_loss: [0.65466738]\n",
      "Epoch: [24],step: [6700], ssim_mri_loss: [0.24628711], ssim_pet_loss: [0.16349214], total_loss: [0.40977925]\n",
      "Epoch: [24],step: [6800], ssim_mri_loss: [0.53141630], ssim_pet_loss: [0.22250915], total_loss: [0.75392544]\n",
      "Epoch: [25],step: [6900], ssim_mri_loss: [0.18582708], ssim_pet_loss: [0.10922980], total_loss: [0.29505688]\n",
      "Epoch: [25],step: [7000], ssim_mri_loss: [0.38896674], ssim_pet_loss: [0.28772855], total_loss: [0.67669529]\n",
      "Epoch: [26],step: [7100], ssim_mri_loss: [0.13218200], ssim_pet_loss: [0.38492739], total_loss: [0.51710939]\n",
      "Epoch: [26],step: [7200], ssim_mri_loss: [0.16075361], ssim_pet_loss: [0.12207091], total_loss: [0.28282452]\n",
      "Epoch: [26],step: [7300], ssim_mri_loss: [0.47388089], ssim_pet_loss: [0.43538320], total_loss: [0.90926409]\n",
      "Epoch: [27],step: [7400], ssim_mri_loss: [0.40150291], ssim_pet_loss: [0.32242972], total_loss: [0.72393262]\n",
      "Epoch: [27],step: [7500], ssim_mri_loss: [0.16637743], ssim_pet_loss: [0.36298686], total_loss: [0.52936429]\n",
      "Epoch: [27],step: [7600], ssim_mri_loss: [0.10137665], ssim_pet_loss: [0.26752418], total_loss: [0.36890084]\n"
     ]
    },
    {
     "name": "stdout",
     "output_type": "stream",
     "text": [
      "Epoch: [28],step: [7700], ssim_mri_loss: [0.19677180], ssim_pet_loss: [0.20366973], total_loss: [0.40044153]\n",
      "Epoch: [28],step: [7800], ssim_mri_loss: [0.39020759], ssim_pet_loss: [0.36947155], total_loss: [0.75967914]\n",
      "Epoch: [29],step: [7900], ssim_mri_loss: [0.12752116], ssim_pet_loss: [0.30013990], total_loss: [0.42766106]\n",
      "Epoch: [29],step: [8000], ssim_mri_loss: [0.16696763], ssim_pet_loss: [0.10614902], total_loss: [0.27311665]\n",
      "Epoch: [29],step: [8100], ssim_mri_loss: [0.18687338], ssim_pet_loss: [0.25342554], total_loss: [0.44029891]\n",
      "Epoch: [30],step: [8200], ssim_mri_loss: [0.22874701], ssim_pet_loss: [0.46456295], total_loss: [0.69330996]\n",
      "Epoch: [30],step: [8300], ssim_mri_loss: [0.17835760], ssim_pet_loss: [0.15462703], total_loss: [0.33298463]\n",
      "Epoch: [30],step: [8400], ssim_mri_loss: [0.25368297], ssim_pet_loss: [0.20275635], total_loss: [0.45643932]\n",
      "Epoch: [31],step: [8500], ssim_mri_loss: [0.35367179], ssim_pet_loss: [0.33116454], total_loss: [0.68483633]\n",
      "Epoch: [31],step: [8600], ssim_mri_loss: [0.25367987], ssim_pet_loss: [0.19458777], total_loss: [0.44826764]\n",
      "Epoch: [31],step: [8700], ssim_mri_loss: [0.24212855], ssim_pet_loss: [0.23763818], total_loss: [0.47976673]\n",
      "Epoch: [32],step: [8800], ssim_mri_loss: [0.20826983], ssim_pet_loss: [0.10129714], total_loss: [0.30956697]\n",
      "Epoch: [32],step: [8900], ssim_mri_loss: [0.35024184], ssim_pet_loss: [0.26293439], total_loss: [0.61317623]\n",
      "Epoch: [33],step: [9000], ssim_mri_loss: [0.21842670], ssim_pet_loss: [0.35760677], total_loss: [0.57603347]\n",
      "Epoch: [33],step: [9100], ssim_mri_loss: [0.15202498], ssim_pet_loss: [0.11021185], total_loss: [0.26223683]\n",
      "Epoch: [33],step: [9200], ssim_mri_loss: [0.47916442], ssim_pet_loss: [0.35760379], total_loss: [0.83676821]\n",
      "Epoch: [34],step: [9300], ssim_mri_loss: [0.08751410], ssim_pet_loss: [0.38896829], total_loss: [0.47648239]\n",
      "Epoch: [34],step: [9400], ssim_mri_loss: [0.22707051], ssim_pet_loss: [0.15046722], total_loss: [0.37753773]\n",
      "Epoch: [34],step: [9500], ssim_mri_loss: [0.19164109], ssim_pet_loss: [0.22910976], total_loss: [0.42075086]\n",
      "Epoch: [35],step: [9600], ssim_mri_loss: [0.22790349], ssim_pet_loss: [0.19219184], total_loss: [0.42009532]\n",
      "Epoch: [35],step: [9700], ssim_mri_loss: [0.33509004], ssim_pet_loss: [0.18690282], total_loss: [0.52199286]\n",
      "Epoch: [36],step: [9800], ssim_mri_loss: [0.20804989], ssim_pet_loss: [0.23253798], total_loss: [0.44058788]\n",
      "Epoch: [36],step: [9900], ssim_mri_loss: [0.17272109], ssim_pet_loss: [0.10402799], total_loss: [0.27674907]\n",
      "Epoch: [36],step: [10000], ssim_mri_loss: [0.22062999], ssim_pet_loss: [0.27505213], total_loss: [0.49568212]\n",
      "Epoch: [37],step: [10100], ssim_mri_loss: [0.27280599], ssim_pet_loss: [0.54905111], total_loss: [0.82185709]\n",
      "Epoch: [37],step: [10200], ssim_mri_loss: [0.17427248], ssim_pet_loss: [0.12893701], total_loss: [0.30320948]\n",
      "Epoch: [37],step: [10300], ssim_mri_loss: [0.29113114], ssim_pet_loss: [0.17540509], total_loss: [0.46653622]\n",
      "Epoch: [38],step: [10400], ssim_mri_loss: [0.37378961], ssim_pet_loss: [0.27376801], total_loss: [0.64755762]\n",
      "Epoch: [38],step: [10500], ssim_mri_loss: [0.16971117], ssim_pet_loss: [0.26322269], total_loss: [0.43293387]\n",
      "Epoch: [38],step: [10600], ssim_mri_loss: [0.31089604], ssim_pet_loss: [0.21101552], total_loss: [0.52191156]\n",
      "Epoch: [39],step: [10700], ssim_mri_loss: [0.22461504], ssim_pet_loss: [0.09986740], total_loss: [0.32448244]\n",
      "Epoch: [39],step: [10800], ssim_mri_loss: [0.20666766], ssim_pet_loss: [0.23408628], total_loss: [0.44075394]\n",
      "Epoch: [40],step: [10900], ssim_mri_loss: [0.25152540], ssim_pet_loss: [0.34180409], total_loss: [0.59332949]\n",
      "Epoch: [40],step: [11000], ssim_mri_loss: [0.16613239], ssim_pet_loss: [0.08738321], total_loss: [0.25351560]\n",
      "Epoch: [40],step: [11100], ssim_mri_loss: [0.49957663], ssim_pet_loss: [0.30853367], total_loss: [0.80811030]\n",
      "Epoch: [41],step: [11200], ssim_mri_loss: [0.16187358], ssim_pet_loss: [0.42326784], total_loss: [0.58514142]\n",
      "Epoch: [41],step: [11300], ssim_mri_loss: [0.21492785], ssim_pet_loss: [0.23050249], total_loss: [0.44543034]\n",
      "Epoch: [41],step: [11400], ssim_mri_loss: [0.20116913], ssim_pet_loss: [0.21725410], total_loss: [0.41842324]\n",
      "Epoch: [42],step: [11500], ssim_mri_loss: [0.29111958], ssim_pet_loss: [0.21791846], total_loss: [0.50903803]\n",
      "Epoch: [42],step: [11600], ssim_mri_loss: [0.22452146], ssim_pet_loss: [0.14608109], total_loss: [0.37060255]\n",
      "Epoch: [43],step: [11700], ssim_mri_loss: [0.33677953], ssim_pet_loss: [0.23516130], total_loss: [0.57194084]\n",
      "Epoch: [43],step: [11800], ssim_mri_loss: [0.18501490], ssim_pet_loss: [0.08623594], total_loss: [0.27125084]\n",
      "Epoch: [43],step: [11900], ssim_mri_loss: [0.27606428], ssim_pet_loss: [0.35403413], total_loss: [0.63009840]\n",
      "Epoch: [44],step: [12000], ssim_mri_loss: [0.21352684], ssim_pet_loss: [0.49413234], total_loss: [0.70765918]\n",
      "Epoch: [44],step: [12100], ssim_mri_loss: [0.17548281], ssim_pet_loss: [0.09320474], total_loss: [0.26868755]\n",
      "Epoch: [44],step: [12200], ssim_mri_loss: [0.34325629], ssim_pet_loss: [0.14715987], total_loss: [0.49041617]\n",
      "Epoch: [45],step: [12300], ssim_mri_loss: [0.36343551], ssim_pet_loss: [0.28339809], total_loss: [0.64683360]\n",
      "Epoch: [45],step: [12400], ssim_mri_loss: [0.14571708], ssim_pet_loss: [0.27508718], total_loss: [0.42080426]\n",
      "Epoch: [45],step: [12500], ssim_mri_loss: [0.21374154], ssim_pet_loss: [0.19808716], total_loss: [0.41182870]\n",
      "Epoch: [46],step: [12600], ssim_mri_loss: [0.21977478], ssim_pet_loss: [0.12455148], total_loss: [0.34432626]\n",
      "Epoch: [46],step: [12700], ssim_mri_loss: [0.32181859], ssim_pet_loss: [0.21606970], total_loss: [0.53788829]\n",
      "Epoch: [47],step: [12800], ssim_mri_loss: [0.21564645], ssim_pet_loss: [0.36605793], total_loss: [0.58170438]\n",
      "Epoch: [47],step: [12900], ssim_mri_loss: [0.18078744], ssim_pet_loss: [0.07468414], total_loss: [0.25547159]\n",
      "Epoch: [47],step: [13000], ssim_mri_loss: [0.41112262], ssim_pet_loss: [0.43855488], total_loss: [0.84967750]\n",
      "Epoch: [48],step: [13100], ssim_mri_loss: [0.15901935], ssim_pet_loss: [0.42806286], total_loss: [0.58708221]\n",
      "Epoch: [48],step: [13200], ssim_mri_loss: [0.30874097], ssim_pet_loss: [0.28767186], total_loss: [0.59641284]\n",
      "Epoch: [48],step: [13300], ssim_mri_loss: [0.23700500], ssim_pet_loss: [0.11994028], total_loss: [0.35694528]\n",
      "Epoch: [49],step: [13400], ssim_mri_loss: [0.32912105], ssim_pet_loss: [0.21387261], total_loss: [0.54299366]\n",
      "Epoch: [49],step: [13500], ssim_mri_loss: [0.24401504], ssim_pet_loss: [0.15974748], total_loss: [0.40376252]\n",
      "Epoch: [49],step: [13600], ssim_mri_loss: [0.45905954], ssim_pet_loss: [0.25218523], total_loss: [0.71124476]\n"
     ]
    },
    {
     "name": "stderr",
     "output_type": "stream",
     "text": [
      "C:\\Program Files (x86)\\Microsoft Visual Studio\\Shared\\Anaconda3_64\\lib\\site-packages\\torch\\serialization.py:250: UserWarning: Couldn't retrieve source code for container of type MaskNet. It won't be checked for correctness upon loading.\n",
      "  \"type \" + obj.__name__ + \". It won't be checked \"\n"
     ]
    }
   ],
   "source": [
    "# perform the training\n",
    "counter = 0\n",
    "start_time = time.time()\n",
    "lamda = 1\n",
    "ep_ssim_mri_loss = []\n",
    "ep_ssim_pet_loss = []\n",
    "for epoch in range(EPOCH):\n",
    "    ssim_mri_Loss = []\n",
    "    ssim_pet_Loss   = []\n",
    "    #run batch images\n",
    "    batch_idxs = 272 // batch_size\n",
    "    for idx in range(0, batch_idxs):\n",
    "        #reconstruct mri\n",
    "        b_x = train_mri_tensor[idx*batch_size : (idx+1)*batch_size,:,:,:].to(device)\n",
    "        b_y = train_pet_tensor[idx*batch_size : (idx+1)*batch_size,:,:,:].to(device)\n",
    "        counter += 1\n",
    "        #encoder\n",
    "        output = cnn(b_x,b_y) \n",
    "        #loss        \n",
    "        ssim_mri_loss = 1 - ssim(output, b_x,data_range=1)\n",
    "        ssim_pet_loss = 1 - ssim(output, b_y,data_range=1)\n",
    "        loss_total = ssim_mri_loss + ssim_pet_loss\n",
    "        optimizer.zero_grad()              # clear gradients for this training step\n",
    "        loss_total.backward()              # backpropagation, compute gradients\n",
    "        optimizer.step()                   # apply gradients\n",
    "                \n",
    "        ssim_mri_Loss.append(ssim_mri_loss.item())\n",
    "        ssim_pet_Loss.append(ssim_pet_loss.item())\n",
    "        \n",
    "        if counter % 100 == 0:\n",
    "            print(\"Epoch: [%2d],step: [%2d], ssim_mri_loss: [%.8f], ssim_pet_loss: [%.8f], total_loss: [%.8f]\" \n",
    "                   %(epoch, counter, ssim_mri_loss, ssim_pet_loss, loss_total))\n",
    "    \n",
    "    av_ssim_mri_loss = np.average(ssim_mri_Loss)\n",
    "    ep_ssim_mri_loss.append(av_ssim_mri_loss)\n",
    "    \n",
    "    av_ssim_pet_loss = np.average(ssim_pet_Loss)\n",
    "    ep_ssim_pet_loss.append(av_ssim_pet_loss)\n",
    "    \n",
    "    if(epoch == EPOCH -1):\n",
    "        #Save a checkpoint\n",
    "        torch.save(cnn, 'C:/Users/horan/Desktop/Suraka/.ipynb_checkpoints/MaskNet/checkpoint.pth') "
   ]
  },
  {
   "cell_type": "code",
   "execution_count": 52,
   "metadata": {},
   "outputs": [],
   "source": [
    "l1 = np.asarray(ep_ssim_mri_loss)\n",
    "l2 = np.asarray(ep_ssim_pet_loss)"
   ]
  },
  {
   "cell_type": "code",
   "execution_count": 54,
   "metadata": {},
   "outputs": [],
   "source": [
    "h5f = h5py.File('C:/Users/horan/Desktop/Suraka/Loss curves/MaskNet/H5 Files/Loss_SSIM_PET.h5', 'w')\n",
    "h5f.create_dataset('PET_dataset', data=l2)\n",
    "h5f.close()"
   ]
  },
  {
   "cell_type": "code",
   "execution_count": 56,
   "metadata": {},
   "outputs": [
    {
     "data": {
      "text/plain": [
       "[<matplotlib.lines.Line2D at 0x2844b4e4240>]"
      ]
     },
     "execution_count": 56,
     "metadata": {},
     "output_type": "execute_result"
    },
    {
     "data": {
      "image/png": "[encoded data removed]",
      "text/plain": [
       "<Figure size 432x288 with 1 Axes>"
      ]
     },
     "metadata": {},
     "output_type": "display_data"
    }
   ],
   "source": [
    "plt.plot(l2)\n",
    "#plt.savefig('C:/Users/horan/Desktop/Suraka/Loss curves/VIFNet/Loss curves/SSIM_MRI_loss_curve.png', bbox_inches = 'tight',pad_inches = 0)\n",
    "#plt.close()"
   ]
  },
  {
   "cell_type": "code",
   "execution_count": 57,
   "metadata": {},
   "outputs": [],
   "source": [
    "#load the test input MRI dataset\n",
    "filenames = os.listdir('C:/Users/horan/Desktop/Suraka/MRI/')\n",
    "dataset = os.path.join(os.getcwd(), 'C:/Users/horan/Desktop/Suraka/MRI/')\n",
    "data = glob.glob(os.path.join(dataset, \"*.gif\"))\n",
    "data = natsort.natsorted(data,reverse=False)\n",
    "test_mri = np.zeros((len(data), image_width,image_length))\n",
    "for i in range(len(data)):\n",
    "    test_mri[i,:,:] =(imageio.imread(data[i]))\n",
    "    test_mri[i,:,:] =(test_mri[i,:,:] - np.min(test_mri[i,:,:])) / (np.max(test_mri[i,:,:]) - np.min(test_mri[i,:,:]))\n",
    "    test_mri[i,:,:] = np.float32(test_mri[i,:,:])"
   ]
  },
  {
   "cell_type": "code",
   "execution_count": 58,
   "metadata": {},
   "outputs": [
    {
     "data": {
      "text/plain": [
       "(1, 1, 256, 256)"
      ]
     },
     "execution_count": 58,
     "metadata": {},
     "output_type": "execute_result"
    }
   ],
   "source": [
    "#expand dimension to add the channel\n",
    "test_mri = np.expand_dims(test_mri,axis=1)\n",
    "#verify the shape matches the pytorch standard\n",
    "test_mri.shape"
   ]
  },
  {
   "cell_type": "code",
   "execution_count": 59,
   "metadata": {},
   "outputs": [
    {
     "data": {
      "text/plain": [
       "<matplotlib.image.AxesImage at 0x2844b531b38>"
      ]
     },
     "execution_count": 59,
     "metadata": {},
     "output_type": "execute_result"
    },
    {
     "data": {
      "image/png": "[encoded data removed]",
      "text/plain": [
       "<Figure size 432x288 with 1 Axes>"
      ]
     },
     "metadata": {},
     "output_type": "display_data"
    }
   ],
   "source": [
    "#verify the test mri image\n",
    "#test_mri = test_mri[0,:,:,:]\n",
    "#test_mri = np.expand_dims(test_mri,axis=0)\n",
    "plt.imshow(test_mri[0,0,:,:],'gray')\n",
    "#plt.savefig('MRI.png', bbox_inches = 'tight',pad_inches = 0,dpi=200)"
   ]
  },
  {
   "cell_type": "code",
   "execution_count": 60,
   "metadata": {},
   "outputs": [
    {
     "name": "stdout",
     "output_type": "stream",
     "text": [
      "torch.Size([1, 1, 256, 256])\n"
     ]
    }
   ],
   "source": [
    "#convert the MRI Testing data to pytorch tensor\n",
    "test_mri_tensor = torch.from_numpy(test_mri).float()\n",
    "print(test_mri_tensor.shape)\n",
    "test_mri_tensor.requires_grad =True"
   ]
  },
  {
   "cell_type": "code",
   "execution_count": 61,
   "metadata": {},
   "outputs": [],
   "source": [
    "#load the test input PET dataset\n",
    "filenames = os.listdir('C:/Users/horan/Desktop/Suraka/PET/')\n",
    "dataset = os.path.join(os.getcwd(), 'C:/Users/horan/Desktop/Suraka/PET/')\n",
    "data = glob.glob(os.path.join(dataset, \"*.png\"))\n",
    "data = natsort.natsorted(data,reverse=False)\n",
    "test_pet = np.zeros((len(data), image_width,image_length))\n",
    "for i in range(len(data)):\n",
    "    test_pet[i,:,:] =(imageio.imread(data[i]))\n",
    "    test_pet[i,:,:] =(test_pet[i,:,:] - np.min(test_pet[i,:,:])) / (np.max(test_pet[i,:,:]) - np.min(test_pet[i,:,:]))\n",
    "    test_pet[i,:,:] = np.float32(test_pet[i,:,:])"
   ]
  },
  {
   "cell_type": "code",
   "execution_count": 62,
   "metadata": {},
   "outputs": [
    {
     "data": {
      "text/plain": [
       "(1, 1, 256, 256)"
      ]
     },
     "execution_count": 62,
     "metadata": {},
     "output_type": "execute_result"
    }
   ],
   "source": [
    "#expand dimension to add the channel\n",
    "test_pet = np.expand_dims(test_pet,axis=1)\n",
    "#verify the shape matches the pytorch standard\n",
    "test_pet.shape "
   ]
  },
  {
   "cell_type": "code",
   "execution_count": 63,
   "metadata": {},
   "outputs": [
    {
     "data": {
      "text/plain": [
       "<matplotlib.image.AxesImage at 0x284509d6c88>"
      ]
     },
     "execution_count": 63,
     "metadata": {},
     "output_type": "execute_result"
    },
    {
     "data": {
      "image/png": "[encoded data removed]",
      "text/plain": [
       "<Figure size 432x288 with 1 Axes>"
      ]
     },
     "metadata": {},
     "output_type": "display_data"
    }
   ],
   "source": [
    "plt.imshow(test_pet[0,0,:,:],'gray')\n",
    "#plt.savefig('PET.png', bbox_inches = 'tight',pad_inches = 0,dpi=200)"
   ]
  },
  {
   "cell_type": "code",
   "execution_count": 64,
   "metadata": {},
   "outputs": [
    {
     "name": "stdout",
     "output_type": "stream",
     "text": [
      "torch.Size([1, 1, 256, 256])\n"
     ]
    }
   ],
   "source": [
    "#convert the MRI Testing data to pytorch tensor\n",
    "test_pet_tensor = torch.from_numpy(test_pet).float()\n",
    "print(test_pet_tensor.shape)\n",
    "test_pet_tensor.requires_grad =True"
   ]
  },
  {
   "cell_type": "code",
   "execution_count": 65,
   "metadata": {},
   "outputs": [
    {
     "data": {
      "text/plain": [
       "MaskNet(\n",
       "  (layer1): Sequential(\n",
       "    (0): Conv2d(2, 48, kernel_size=(3, 3), stride=(1, 1), padding=(1, 1))\n",
       "    (1): BatchNorm2d(48, eps=1e-05, momentum=0.1, affine=True, track_running_stats=True)\n",
       "    (2): LeakyReLU(negative_slope=0.2, inplace)\n",
       "  )\n",
       "  (layer2): Sequential(\n",
       "    (0): Conv2d(48, 48, kernel_size=(3, 3), stride=(1, 1), padding=(1, 1))\n",
       "    (1): BatchNorm2d(48, eps=1e-05, momentum=0.1, affine=True, track_running_stats=True)\n",
       "    (2): LeakyReLU(negative_slope=0.2, inplace)\n",
       "  )\n",
       "  (layer3): Sequential(\n",
       "    (0): Conv2d(96, 48, kernel_size=(3, 3), stride=(1, 1), padding=(1, 1))\n",
       "    (1): BatchNorm2d(48, eps=1e-05, momentum=0.1, affine=True, track_running_stats=True)\n",
       "    (2): LeakyReLU(negative_slope=0.2, inplace)\n",
       "  )\n",
       "  (layer4): Sequential(\n",
       "    (0): Conv2d(144, 48, kernel_size=(3, 3), stride=(1, 1), padding=(1, 1))\n",
       "    (1): BatchNorm2d(48, eps=1e-05, momentum=0.1, affine=True, track_running_stats=True)\n",
       "    (2): LeakyReLU(negative_slope=0.2, inplace)\n",
       "  )\n",
       "  (layer5): Sequential(\n",
       "    (0): Conv2d(192, 192, kernel_size=(3, 3), stride=(1, 1), padding=(1, 1))\n",
       "    (1): BatchNorm2d(192, eps=1e-05, momentum=0.1, affine=True, track_running_stats=True)\n",
       "    (2): LeakyReLU(negative_slope=0.2, inplace)\n",
       "  )\n",
       "  (layer6): Sequential(\n",
       "    (0): Conv2d(192, 128, kernel_size=(3, 3), stride=(1, 1), padding=(1, 1))\n",
       "    (1): BatchNorm2d(128, eps=1e-05, momentum=0.1, affine=True, track_running_stats=True)\n",
       "    (2): LeakyReLU(negative_slope=0.2, inplace)\n",
       "  )\n",
       "  (layer7): Sequential(\n",
       "    (0): Conv2d(128, 64, kernel_size=(3, 3), stride=(1, 1), padding=(1, 1))\n",
       "    (1): BatchNorm2d(64, eps=1e-05, momentum=0.1, affine=True, track_running_stats=True)\n",
       "    (2): LeakyReLU(negative_slope=0.2, inplace)\n",
       "  )\n",
       "  (layer8): Sequential(\n",
       "    (0): Conv2d(64, 1, kernel_size=(3, 3), stride=(1, 1), padding=(1, 1))\n",
       "    (1): BatchNorm2d(1, eps=1e-05, momentum=0.1, affine=True, track_running_stats=True)\n",
       "    (2): LeakyReLU(negative_slope=0.2, inplace)\n",
       "  )\n",
       ")"
      ]
     },
     "execution_count": 65,
     "metadata": {},
     "output_type": "execute_result"
    }
   ],
   "source": [
    "#load the model\n",
    "device = torch.device(\"cuda\" if torch.cuda.is_available() else \"cpu\")\n",
    "cnn =torch.load('C:/Users/horan/Desktop/Suraka/.ipynb_checkpoints/MaskNet/checkpoint.pth')\n",
    "cnn.eval()"
   ]
  },
  {
   "cell_type": "code",
   "execution_count": 66,
   "metadata": {},
   "outputs": [],
   "source": [
    "#predicted the fused image\n",
    "fuse_test = cnn(test_mri_tensor.to(device),test_pet_tensor.to(device))\n",
    "fused_numpy = fuse_test.data.cpu().numpy()"
   ]
  },
  {
   "cell_type": "code",
   "execution_count": 68,
   "metadata": {},
   "outputs": [
    {
     "data": {
      "text/plain": [
       "torch.Size([1, 1, 256, 256])"
      ]
     },
     "execution_count": 68,
     "metadata": {},
     "output_type": "execute_result"
    }
   ],
   "source": [
    "fuse_test.shape"
   ]
  },
  {
   "cell_type": "code",
   "execution_count": 69,
   "metadata": {},
   "outputs": [
    {
     "data": {
      "text/plain": [
       "array([[[[-0.14104456, -0.06976022, -0.07484604, ..., -0.08061825,\n",
       "          -0.071153  , -0.03332005],\n",
       "         [-0.21483874, -0.04924786, -0.01156501, ..., -0.0179201 ,\n",
       "          -0.03311176, -0.00344966],\n",
       "         [-0.25596288, -0.05388603, -0.0088764 , ..., -0.01055707,\n",
       "          -0.03329092, -0.00778092],\n",
       "         ...,\n",
       "         [-0.25589305, -0.06229866, -0.01076435, ..., -0.00767235,\n",
       "          -0.027253  , -0.00390313],\n",
       "         [-0.21614458, -0.07306459, -0.03176408, ..., -0.03265187,\n",
       "          -0.04283653, -0.01551002],\n",
       "         [-0.11944459, -0.06106373, -0.04208053, ..., -0.0380417 ,\n",
       "          -0.04064364, -0.0250441 ]]]], dtype=float32)"
      ]
     },
     "execution_count": 69,
     "metadata": {},
     "output_type": "execute_result"
    }
   ],
   "source": [
    "fused_numpy"
   ]
  },
  {
   "cell_type": "code",
   "execution_count": 70,
   "metadata": {},
   "outputs": [
    {
     "data": {
      "text/plain": [
       "<matplotlib.image.AxesImage at 0x28450974b38>"
      ]
     },
     "execution_count": 70,
     "metadata": {},
     "output_type": "execute_result"
    },
    {
     "data": {
      "image/png": "[encoded data removed]",
      "text/plain": [
       "<Figure size 432x288 with 1 Axes>"
      ]
     },
     "metadata": {},
     "output_type": "display_data"
    }
   ],
   "source": [
    "#verify the output image\n",
    "plt.imshow(fused_numpy[0,0,:,:],'gray')\n",
    "#plt.savefig('Fused.png', bbox_inches = 'tight',pad_inches = 0,dpi=200)"
   ]
  },
  {
   "cell_type": "code",
   "execution_count": null,
   "metadata": {},
   "outputs": [],
   "source": [
    "#imageio.imwrite('C:/Users/horan/Desktop/Suraka/Fused/Fused.png',np.uint8(cv2.normalize(fused_numpy[0,0,:,:], None, alpha=0, beta=255, norm_type=cv2.NORM_MINMAX, dtype=cv2.CV_32F)))"
   ]
  },
  {
   "cell_type": "code",
   "execution_count": null,
   "metadata": {},
   "outputs": [],
   "source": [
    "#calculate the guidance image for MRI and PET wrt to the fused image\n",
    "time1 = time.time()\n",
    "count = 0 \n",
    "guide_fuse_mri = np.zeros((256,256),dtype=float)\n",
    "guide_fuse_pet = np.zeros((256,256),dtype=float)\n",
    "\n",
    "for y_coord in range(0,256):\n",
    "    for x_coord in range(0,256):\n",
    "        jacob_fuse_mri = torch.autograd.grad(fused[0,0,y_coord,x_coord], test_mri_tensor, retain_graph=True, create_graph=True)[0]\n",
    "        jacob_numpy_mri = np.squeeze(jacob_fuse_mri.data.cpu().numpy())  \n",
    "        guide_fuse_mri[y_coord,x_coord] = jacob_numpy_mri[y_coord,x_coord]\n",
    "        jacob_fuse_pet = torch.autograd.grad(fused[0,0,y_coord,x_coord], test_pet_tensor, retain_graph=True, create_graph=True)[0]\n",
    "        jacob_numpy_pet = np.squeeze(jacob_fuse_pet.data.cpu().numpy())  \n",
    "        guide_fuse_pet[y_coord,x_coord] = jacob_numpy_pet[y_coord,x_coord]\n",
    "        count += 1\n",
    "        if count % 100 == 0:\n",
    "            print('Count is %d' %count)\n",
    "time2 = time.time()\n",
    "print('Time taken to compute is %d seconds' %(time2-time1))"
   ]
  },
  {
   "cell_type": "code",
   "execution_count": null,
   "metadata": {},
   "outputs": [],
   "source": [
    "plt.imshow(guide_fuse_mri,cmap='viridis')\n",
    "plt.colorbar()\n",
    "#plt.savefig('Jacob_Fused_MRI.png', bbox_inches = 'tight',pad_inches = 0,dpi=200)"
   ]
  },
  {
   "cell_type": "code",
   "execution_count": null,
   "metadata": {},
   "outputs": [],
   "source": [
    "#guide_fuse_mri.shape"
   ]
  },
  {
   "cell_type": "code",
   "execution_count": null,
   "metadata": {},
   "outputs": [],
   "source": [
    "#plt.imshow(guide_fuse_pet,cmap='viridis')\n",
    "#plt.colorbar()\n",
    "#plt.savefig('Jacob_Fused_PET.png', bbox_inches = 'tight',pad_inches = 0,dpi=200)"
   ]
  },
  {
   "cell_type": "code",
   "execution_count": null,
   "metadata": {},
   "outputs": [],
   "source": [
    "#guide_fuse_pet.shape"
   ]
  },
  {
   "cell_type": "code",
   "execution_count": null,
   "metadata": {},
   "outputs": [],
   "source": [
    "#plt.imshow(fused_RGB)\n",
    "#plt.savefig('Fused_RGB.png', bbox_inches = 'tight',pad_inches = 0,dpi=200)"
   ]
  },
  {
   "cell_type": "code",
   "execution_count": null,
   "metadata": {},
   "outputs": [],
   "source": [
    "#plt.imshow(mri_RGB)\n",
    "#plt.savefig('MRI_RGB.png', bbox_inches = 'tight',pad_inches = 0,dpi=200)"
   ]
  },
  {
   "cell_type": "code",
   "execution_count": null,
   "metadata": {},
   "outputs": [],
   "source": [
    "#plt.imshow(pet_RGB)\n",
    "#plt.savefig('PET_RGB.png', bbox_inches = 'tight',pad_inches = 0,dpi=200)"
   ]
  },
  {
   "cell_type": "code",
   "execution_count": null,
   "metadata": {},
   "outputs": [],
   "source": [
    "#h5f = h5py.File('C:/Users/horan/Desktop/Suraka/Jacobian_MRI.h5', 'w')\n",
    "#h5f.create_dataset('MRI_dataset', data=guide_fuse_mri)\n",
    "#h5f.close()"
   ]
  },
  {
   "cell_type": "code",
   "execution_count": null,
   "metadata": {},
   "outputs": [],
   "source": [
    "#h5f = h5py.File('C:/Users/horan/Desktop/Suraka/Jacobian_PET.h5', 'w')\n",
    "#h5f.create_dataset('PET_dataset', data=guide_fuse_pet)\n",
    "#h5f.close()"
   ]
  },
  {
   "cell_type": "code",
   "execution_count": null,
   "metadata": {},
   "outputs": [],
   "source": [
    "hf = h5py.File('C:/Users/horan/Desktop/Suraka/Guidance images/FunFuseAn/H5 Files/Jacobian_MRI.h5', 'r')\n",
    "guide_fuse_mri =  np.array(hf.get('MRI_dataset'))\n",
    "hf.close()"
   ]
  },
  {
   "cell_type": "code",
   "execution_count": null,
   "metadata": {},
   "outputs": [],
   "source": [
    "plt.imshow(guide_fuse_mri,cmap='viridis')\n",
    "plt.colorbar()"
   ]
  },
  {
   "cell_type": "code",
   "execution_count": null,
   "metadata": {},
   "outputs": [],
   "source": [
    "hf = h5py.File('C:/Users/horan/Desktop/Suraka/Guidance images/FunFuseAn/H5 Files/Jacobian_PET.h5', 'r')\n",
    "guide_fuse_pet =  np.array(hf.get('PET_dataset'))\n",
    "hf.close()"
   ]
  },
  {
   "cell_type": "code",
   "execution_count": null,
   "metadata": {},
   "outputs": [],
   "source": [
    "plt.imshow(guide_fuse_pet,cmap='viridis')\n",
    "plt.colorbar()"
   ]
  },
  {
   "cell_type": "code",
   "execution_count": null,
   "metadata": {},
   "outputs": [],
   "source": [
    "#define overlay images\n",
    "fused_RGB = np.zeros((256,256,3),dtype=float)\n",
    "mri_RGB   = np.zeros((256,256,3),dtype=float)\n",
    "pet_RGB   = np.zeros((256,256,3),dtype=float)"
   ]
  },
  {
   "cell_type": "code",
   "execution_count": null,
   "metadata": {},
   "outputs": [],
   "source": [
    "fused_RGB[:,:,0]  = guide_fuse_mri \n",
    "fused_RGB[:,:,1]  = guide_fuse_pet \n",
    "fused_RGB[:,:,2]  = fused_numpy[0,0,:,:]"
   ]
  },
  {
   "cell_type": "code",
   "execution_count": null,
   "metadata": {},
   "outputs": [],
   "source": [
    "plt.imshow(fused_RGB)"
   ]
  },
  {
   "cell_type": "code",
   "execution_count": null,
   "metadata": {},
   "outputs": [],
   "source": [
    "mri_RGB[:,:,0]  = guide_fuse_mri\n",
    "mri_RGB[:,:,1]  = guide_fuse_pet \n",
    "mri_RGB[:,:,2]  = test_mri[0,0,:,:]"
   ]
  },
  {
   "cell_type": "code",
   "execution_count": null,
   "metadata": {},
   "outputs": [],
   "source": [
    "plt.imshow(mri_RGB)"
   ]
  },
  {
   "cell_type": "code",
   "execution_count": null,
   "metadata": {},
   "outputs": [],
   "source": [
    "pet_RGB[:,:,0]  = guide_fuse_mri\n",
    "pet_RGB[:,:,1]  = guide_fuse_pet \n",
    "pet_RGB[:,:,2]  = test_pet[0,0,:,:]"
   ]
  },
  {
   "cell_type": "code",
   "execution_count": null,
   "metadata": {},
   "outputs": [],
   "source": [
    "plt.imshow(pet_RGB)"
   ]
  },
  {
   "cell_type": "code",
   "execution_count": null,
   "metadata": {},
   "outputs": [],
   "source": [
    "#define the window\n",
    "root = Tk()  \n",
    "root.title('Visualisation of fusion networks')\n",
    "root.configure(background='white')\n",
    "\n",
    "\n",
    "#Label the images\n",
    "#fontStyle = tkFont.Font(family=\"Lucida Grande\", size=15)\n",
    "#w1 = tk.Label(root, bg='white', font=fontStyle, text=\"Fused Image\")\n",
    "#w1.grid(row=0, column=1)\n",
    "#w1.pack()\n",
    "\n",
    "#define the frame\n",
    "canvasframe = Frame(root)  # define Input and output frame\n",
    "buttonframe = Frame(root)  # define button frame\n",
    "canvasframe.pack()  # pack the Input and Output frame\n",
    "buttonframe.pack()  # pack the button frame\n",
    "\n",
    "\n",
    "#define the canvas\n",
    "canvas = Canvas(canvasframe, width=1800, height=920, bg = 'white')\n",
    "canvas.grid(row=0, column=0)\n",
    "\n",
    "#Insert fused image to the canvas\n",
    "img_fused = ImageTk.PhotoImage(file =\"C:/Users/horan/Desktop/Suraka/Fused/Fused.png\") # load the image\n",
    "canvas.create_image(0, 0, image=img_fused, anchor=NW)\n",
    "\n",
    "#Insert MRI image to the canvas\n",
    "img_mri = ImageTk.PhotoImage(file =\"C:/Users/horan/Desktop/Suraka/MRI/MRI.gif\") # load the image\n",
    "canvas.create_image(620, 0, image=img_mri, anchor=NW)\n",
    "\n",
    "#Insert PET image to the canvas\n",
    "img_pet = ImageTk.PhotoImage(file =\"C:/Users/horan/Desktop/Suraka/PET/3.png\") # load the image\n",
    "canvas.create_image(1240, 0, image=img_pet, anchor=NW)\n",
    "\n",
    "def start_mouseover():  # function called when user clicks the button \n",
    "    # link the function to the left-mouse-click event\n",
    "    canvas.bind(\"<B1-Motion>\", Coordinates)\n",
    "\n",
    "def Coordinates(event): # function called when left-mouse-button is clicked with a mouseover\n",
    "    x_coord = event.x  # save x and y coordinates selected by the user   \n",
    "    y_coord = event.y\n",
    "    print('mouse position is at' + '(' + str(y_coord) + ',' + str(x_coord) + ')', end='\\r')\n",
    "    #display the output MRI Jacobian image\n",
    "    #img_MR_out = ImageTk.PhotoImage(file ='C:/Users/cgvadmin/Desktop/Suraka/Fused_MRI/im_' + str(y_coord) + '_' + str(x_coord) + '.png') # load the image\n",
    "    jacobian_fuse_mri = torch.autograd.grad(fused[0,0,y_coord,x_coord], test_mri_tensor, retain_graph=True, create_graph=True)[0]\n",
    "    jacobian_fuse_pet = torch.autograd.grad(fused[0,0,y_coord,x_coord], test_pet_tensor, retain_graph=True, create_graph=True)[0]\n",
    "    \n",
    "    jacob_val_mri = np.squeeze(jacobian_fuse_mri.data.cpu().numpy())    \n",
    "    jacob_val_pet = np.squeeze(jacobian_fuse_pet.data.cpu().numpy())\n",
    "    \n",
    "    x_mri = np.asarray(np.where(np.any(jacob_val_mri, axis = 0)))\n",
    "    y_mri = np.asarray(np.where(np.any(jacob_val_mri, axis = 1)))\n",
    "    minx_mri, maxx_mri, miny_mri, maxy_mri = np.min(x_mri), np.max(x_mri), np.min(y_mri), np.max(y_mri)  #return min and max coordinates\n",
    "    zoom_im_mri = jacob_val_mri[miny_mri:maxy_mri,minx_mri:maxx_mri] \n",
    "    \n",
    "    x_pet = np.asarray(np.where(np.any(jacob_val_pet, axis = 0)))\n",
    "    y_pet = np.asarray(np.where(np.any(jacob_val_pet, axis = 1)))\n",
    "    minx_pet, maxx_pet, miny_pet, maxy_pet = np.min(x_pet), np.max(x_pet), np.min(y_pet), np.max(y_pet)  #return min and max coordinates\n",
    "    zoom_im_pet = jacob_val_pet[miny_pet:maxy_pet,minx_pet:maxx_pet] \n",
    "    \n",
    "    plt.imshow(fused_numpy[0,0,miny_mri:maxy_mri,minx_mri:maxx_mri], cmap = 'gray', aspect ='equal')\n",
    "    plt.title('Zoom Fused')\n",
    "    plt.savefig('foo11.png', bbox_inches = 'tight',pad_inches = 0)\n",
    "    plt.close()\n",
    "    im_out11 = ImageTk.PhotoImage(file ='foo11.png')\n",
    "    canvas.create_image(320,0,image=im_out11,anchor=NW)\n",
    "    canvas.image11 = im_out11\n",
    "    plt.tight_layout()\n",
    "    \n",
    "    plt.imshow(test_mri[0,0,miny_mri:maxy_mri,minx_mri:maxx_mri], cmap = 'gray', aspect ='equal')\n",
    "    plt.title('Zoom MRI')\n",
    "    plt.savefig('foo12.png', bbox_inches = 'tight',pad_inches = 0)\n",
    "    plt.close()\n",
    "    im_out12 = ImageTk.PhotoImage(file ='foo12.png')\n",
    "    canvas.create_image(950,0,image=im_out12,anchor=NW)\n",
    "    canvas.image12 = im_out12\n",
    "    plt.tight_layout()\n",
    "    \n",
    "    plt.imshow(test_pet[0,0,miny_mri:maxy_mri,minx_mri:maxx_mri], cmap = 'gray', aspect ='equal')\n",
    "    plt.title('Zoom PET')\n",
    "    plt.savefig('foo13.png', bbox_inches = 'tight',pad_inches = 0)\n",
    "    plt.close()\n",
    "    im_out13 = ImageTk.PhotoImage(file ='foo13.png')\n",
    "    canvas.create_image(1500,0,image=im_out13,anchor=NW)\n",
    "    canvas.image13 = im_out13\n",
    "    plt.tight_layout()\n",
    "    \n",
    "    plt.imshow(jacob_val_mri,cmap='viridis', aspect ='equal')\n",
    "    plt.title('Fused wrt MRI')\n",
    "    plt.savefig('foo1.png', bbox_inches = 'tight',pad_inches = 0)\n",
    "    plt.close()\n",
    "    im_out1 = ImageTk.PhotoImage(file ='foo1.png')\n",
    "    canvas.create_image(0,320,image=im_out1,anchor=NW)\n",
    "    canvas.image1 = im_out1\n",
    "    #plt.tight_layout()\n",
    "    \n",
    "    #f.add_subplot(1,5,2)\n",
    "    plt.imshow(zoom_im_mri,cmap='viridis',aspect ='equal')\n",
    "    plt.title('Zoomed (Fused wrt MRI)')\n",
    "    plt.colorbar()\n",
    "    plt.savefig('foo2.png', bbox_inches = 'tight',pad_inches = 0)\n",
    "    plt.close()\n",
    "    im_out2 = ImageTk.PhotoImage(file ='foo2.png')\n",
    "    canvas.create_image(280,320,image=im_out2,anchor=NW)\n",
    "    canvas.image2 = im_out2\n",
    "    #plt.tight_layout()\n",
    "    #divider = make_axes_locatable(plt)\n",
    "    #cax = divider.append_axes(\"right\", size=\"5%\", pad=0.05)\n",
    "    #plt.colorbar(cax=cax)\n",
    "    \n",
    "    #f.add_subplot(1,5,3)\n",
    "    plt.xlim(0,0.7)\n",
    "    plt.ylim(0,0.7)\n",
    "    plt.plot(jacob_val_mri[y_coord,x_coord],jacob_val_pet[y_coord,x_coord],'-ro')\n",
    "    plt.xlabel('MRI pixel score (Fused wrt MRI)')\n",
    "    plt.ylabel('PET pixel score (Fused wrt PET)')\n",
    "    plt.title('Mouse position at: (' + str(y_coord) + ',' + str(x_coord) + ')')\n",
    "    plt.gca().set_aspect('equal', adjustable='box')\n",
    "    plt.draw()\n",
    "    plt.savefig('foo3.png', bbox_inches = 'tight',pad_inches = 0.1)\n",
    "    plt.close()\n",
    "    im_out3 = ImageTk.PhotoImage(file ='foo3.png')\n",
    "    canvas.create_image(600,320,image=im_out3,anchor=NW)\n",
    "    canvas.image3 = im_out3\n",
    "    \n",
    "    #f.add_subplot(1,5,4)\n",
    "    plt.imshow(jacob_val_pet,cmap='viridis',aspect ='equal')\n",
    "    plt.title('Fused wrt PET')\n",
    "    plt.savefig('foo4.png', bbox_inches = 'tight',pad_inches = 0)\n",
    "    plt.close()\n",
    "    im_out4 = ImageTk.PhotoImage(file ='foo4.png')\n",
    "    canvas.create_image(900,320,image=im_out4,anchor=NW)\n",
    "    canvas.image4 = im_out4\n",
    "    #plt.tight_layout()\n",
    "    \n",
    "    #f.add_subplot(1,5,5)\n",
    "    plt.imshow(zoom_im_pet,cmap='viridis',aspect ='equal')\n",
    "    plt.title('Zoomed (Fused wrt PET)')\n",
    "    plt.colorbar()\n",
    "    plt.savefig('foo5.png', bbox_inches = 'tight',pad_inches = 0)\n",
    "    plt.close()\n",
    "    im_out5 = ImageTk.PhotoImage(file ='foo5.png')\n",
    "    canvas.create_image(1180,320,image=im_out5,anchor=NW)\n",
    "    canvas.image5 = im_out5\n",
    "\n",
    "    plt.imshow(guide_fuse_mri,cmap='viridis')\n",
    "    plt.title('Fused wrt MRI')\n",
    "    plt.colorbar()\n",
    "    plt.savefig('foo6.png', bbox_inches = 'tight',pad_inches = 0)\n",
    "    plt.close()\n",
    "    im_out6 = ImageTk.PhotoImage(file ='foo6.png')\n",
    "    canvas.create_image(0,650,image=im_out6,anchor=NW)\n",
    "    canvas.image6 = im_out6\n",
    "    \n",
    "    plt.imshow(fused_RGB)\n",
    "    plt.savefig('foo8.png', bbox_inches = 'tight',pad_inches = 0)\n",
    "    plt.close()\n",
    "    im_out8 = ImageTk.PhotoImage(file ='foo8.png')\n",
    "    canvas.create_image(300,650,image=im_out8,anchor=NW)\n",
    "    canvas.image8 = im_out8\n",
    "    \n",
    "    plt.imshow(mri_RGB)\n",
    "    plt.savefig('foo9.png', bbox_inches = 'tight',pad_inches = 0)\n",
    "    plt.close()\n",
    "    im_out9 = ImageTk.PhotoImage(file ='foo9.png')\n",
    "    canvas.create_image(600,650,image=im_out9,anchor=NW)\n",
    "    canvas.image9 = im_out9\n",
    "    \n",
    "    plt.imshow(pet_RGB)\n",
    "    plt.savefig('foo10.png', bbox_inches = 'tight',pad_inches = 0)\n",
    "    plt.close()\n",
    "    im_out10 = ImageTk.PhotoImage(file ='foo10.png')\n",
    "    canvas.create_image(900,650,image=im_out10,anchor=NW)\n",
    "    canvas.image10 = im_out10\n",
    "    \n",
    "    plt.imshow(guide_fuse_pet,cmap='viridis')\n",
    "    plt.colorbar()\n",
    "    plt.savefig('foo7.png', bbox_inches = 'tight',pad_inches = 0)\n",
    "    plt.close()\n",
    "    im_out7 = ImageTk.PhotoImage(file ='foo7.png')\n",
    "    canvas.create_image(1200,650,image=im_out7,anchor=NW)\n",
    "    canvas.image7 = im_out7\n",
    "    \n",
    "    radius = 5\n",
    "    i = canvas.create_oval(x_coord-radius, y_coord-radius, x_coord+radius, y_coord+radius, fill = 'red')\n",
    "    canvas.after(20,canvas.delete,i)\n",
    "\n",
    "# insert button to the middleframe and link it to \"Start Mouseover\"\n",
    "button_start_mouseover = Button(buttonframe, text=\"Start Mouseover\",command=start_mouseover)\n",
    "button_start_mouseover.grid(row=1, column=0, pady=0)\n",
    "\n",
    "\n",
    "root.mainloop()  #keep the GUI open"
   ]
  },
  {
   "cell_type": "code",
   "execution_count": null,
   "metadata": {},
   "outputs": [],
   "source": []
  }
 ],
 "metadata": {
  "kernelspec": {
   "display_name": "Python 3",
   "language": "python",
   "name": "python3"
  },
  "language_info": {
   "codemirror_mode": {
    "name": "ipython",
    "version": 3
   },
   "file_extension": ".py",
   "mimetype": "text/x-python",
   "name": "python",
   "nbconvert_exporter": "python",
   "pygments_lexer": "ipython3",
   "version": "3.6.5"
  }
 },
 "nbformat": 4,
 "nbformat_minor": 4
}
