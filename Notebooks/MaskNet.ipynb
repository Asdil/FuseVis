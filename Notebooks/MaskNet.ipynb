{
 "cells": [
  {
   "cell_type": "markdown",
   "metadata": {},
   "source": [
    "# This is the pytorch implementation of the paper \"Structural Similarity based Anatomical and Functional Brain Imaging Fusion\""
   ]
  },
  {
   "cell_type": "code",
   "execution_count": 1,
   "metadata": {},
   "outputs": [],
   "source": [
    "import sys\n",
    "sys.path.append(\"/home/h1/s8993054/.local/lib/python3.6/site-packages/\") # go to parent dir"
   ]
  },
  {
   "cell_type": "code",
   "execution_count": 2,
   "metadata": {},
   "outputs": [],
   "source": [
    "#Import packages\n",
    "import time\n",
    "import torch.nn as nn\n",
    "import torch\n",
    "from torch.utils.data import Dataset, DataLoader\n",
    "import torchvision.datasets as datasets\n",
    "import numpy as np\n",
    "from torchvision import transforms\n",
    "from torch.autograd import Variable\n",
    "from PIL import Image\n",
    "import torchvision.transforms.functional as TF\n",
    "from torchvision.models.vgg import vgg19\n",
    "import torch.nn as nn\n",
    "import torch.nn.functional as F\n",
    "import torch\n",
    "from skimage import img_as_ubyte\n",
    "import torch.nn as nn\n",
    "import torch.utils.data as Data\n",
    "import torchvision      # dataset\n",
    "import matplotlib.pyplot as plt\n",
    "import scipy\n",
    "import numpy as np\n",
    "import argparse\n",
    "import glob\n",
    "import imageio\n",
    "from skimage import color\n",
    "import numpy\n",
    "import natsort\n",
    "import scipy\n",
    "from pytorch_msssim import ssim, ms_ssim, SSIM, MS_SSIM\n",
    "import pprint\n",
    "from scipy.ndimage import correlate\n",
    "from scipy.ndimage.filters import gaussian_gradient_magnitude\n",
    "import torchvision.datasets as dset\n",
    "import torch.utils.data as data\n",
    "import os\n",
    "import os.path\n",
    "from tkinter import *\n",
    "import tkinter as tk\n",
    "import tkinter.font as tkFont\n",
    "from PIL import ImageTk, Image\n",
    "import pylab\n",
    "import cv2\n",
    "import h5py\n",
    "from mpl_toolkits.axes_grid1 import make_axes_locatable\n",
    "from matplotlib.font_manager import FontProperties"
   ]
  },
  {
   "cell_type": "code",
   "execution_count": 3,
   "metadata": {},
   "outputs": [
    {
     "name": "stdout",
     "output_type": "stream",
     "text": [
      "33822867456\n"
     ]
    }
   ],
   "source": [
    "device = 'cuda' if torch.cuda.is_available() else 'cpu'\n",
    "print(torch.cuda.get_device_properties(0).total_memory)"
   ]
  },
  {
   "cell_type": "code",
   "execution_count": 4,
   "metadata": {},
   "outputs": [
    {
     "data": {
      "text/plain": [
       "176"
      ]
     },
     "execution_count": 4,
     "metadata": {},
     "output_type": "execute_result"
    }
   ],
   "source": [
    "import multiprocessing\n",
    "\n",
    "multiprocessing.cpu_count()"
   ]
  },
  {
   "cell_type": "code",
   "execution_count": 5,
   "metadata": {},
   "outputs": [],
   "source": [
    "#define the hyperparameters\n",
    "image_length = 256\n",
    "image_width  = 256\n",
    "mr_channels  = 1\n",
    "gray_channels = 1\n",
    "pet_channels = 4    \n",
    "rgb_channels = 3     \n",
    "batch_size   =2\n",
    "EPOCH = 200\n",
    "learning_rate = 0.002"
   ]
  },
  {
   "cell_type": "code",
   "execution_count": 6,
   "metadata": {},
   "outputs": [],
   "source": [
    "#load the train mri data\n",
    "filenames = os.listdir('/home/h1/s8993054/Forschungprojekt/Training/MRI')\n",
    "dataset = os.path.join(os.getcwd(), '/home/h1/s8993054/Forschungprojekt/Training/MRI')\n",
    "data = glob.glob(os.path.join(dataset, \"*.gif\"))\n",
    "data = natsort.natsorted(data,reverse=False)\n",
    "train_mri = np.zeros((len(data), image_width,image_length))\n",
    "for i in range(len(data)):\n",
    "    train_mri[i,:,:] =(imageio.imread(data[i]))\n",
    "    train_mri[i,:,:] =(train_mri[i,:,:] - np.min(train_mri[i,:,:])) / (np.max(train_mri[i,:,:]) - np.min(train_mri[i,:,:]))\n",
    "    train_mri[i,:,:] = np.float32(train_mri[i,:,:])"
   ]
  },
  {
   "cell_type": "code",
   "execution_count": 7,
   "metadata": {},
   "outputs": [],
   "source": [
    "#expand dimension to add the channel\n",
    "train_mri = np.expand_dims(train_mri,axis=1)"
   ]
  },
  {
   "cell_type": "code",
   "execution_count": 8,
   "metadata": {},
   "outputs": [
    {
     "data": {
      "text/plain": [
       "(272, 1, 256, 256)"
      ]
     },
     "execution_count": 8,
     "metadata": {},
     "output_type": "execute_result"
    }
   ],
   "source": [
    "#verify the shape matches the pytorch standard\n",
    "train_mri.shape"
   ]
  },
  {
   "cell_type": "code",
   "execution_count": 9,
   "metadata": {},
   "outputs": [
    {
     "data": {
      "text/plain": [
       "torch.Size([272, 1, 256, 256])"
      ]
     },
     "execution_count": 9,
     "metadata": {},
     "output_type": "execute_result"
    }
   ],
   "source": [
    "#convert the MRI training data to pytorch tensor\n",
    "train_mri_tensor = torch.from_numpy(train_mri).float()\n",
    "train_mri_tensor.shape"
   ]
  },
  {
   "cell_type": "code",
   "execution_count": 10,
   "metadata": {},
   "outputs": [],
   "source": [
    "#load the train pet data\n",
    "filenames = os.listdir('/home/h1/s8993054/Forschungprojekt/Training/PET')\n",
    "dataset = os.path.join(os.getcwd(), '/home/h1/s8993054/Forschungprojekt/Training/PET')\n",
    "data = glob.glob(os.path.join(dataset, \"*.gif\"))\n",
    "data = natsort.natsorted(data,reverse=False)\n",
    "train_other = np.zeros((len(data),image_width,image_length,pet_channels),dtype=float)\n",
    "train_pet = np.zeros((len(data),image_width,image_length),dtype=float)\n",
    "for i in range(len(data)):\n",
    "    train_other[i,:,:,:] =(imageio.imread(data[i]))\n",
    "    train_pet[i,:,:] = 0.2989 * train_other[i,:,:,0] + 0.5870 *  train_other[i,:,:,1]  + 0.1140 * train_other[i,:,:,2]\n",
    "    train_pet[i,:,:] =(train_pet[i,:,:] - np.min(train_pet[i,:,:])) / (np.max(train_pet[i,:,:]) - np.min(train_pet[i,:,:]))"
   ]
  },
  {
   "cell_type": "code",
   "execution_count": 11,
   "metadata": {},
   "outputs": [],
   "source": [
    "#expand the dimension to add the channel\n",
    "train_pet = np.expand_dims(train_pet,axis=1)"
   ]
  },
  {
   "cell_type": "code",
   "execution_count": 12,
   "metadata": {},
   "outputs": [
    {
     "data": {
      "text/plain": [
       "(272, 1, 256, 256)"
      ]
     },
     "execution_count": 12,
     "metadata": {},
     "output_type": "execute_result"
    }
   ],
   "source": [
    "#verify the shape matches the pytorch standard\n",
    "train_pet.shape"
   ]
  },
  {
   "cell_type": "code",
   "execution_count": 13,
   "metadata": {},
   "outputs": [
    {
     "data": {
      "text/plain": [
       "torch.Size([272, 1, 256, 256])"
      ]
     },
     "execution_count": 13,
     "metadata": {},
     "output_type": "execute_result"
    }
   ],
   "source": [
    "#convert the PET training data to pytorch tensor\n",
    "train_pet_tensor = torch.from_numpy(train_pet).float()\n",
    "train_pet_tensor.shape"
   ]
  },
  {
   "cell_type": "code",
   "execution_count": 14,
   "metadata": {},
   "outputs": [
    {
     "name": "stdout",
     "output_type": "stream",
     "text": [
      "MaskNet(\n",
      "  (layer1): Sequential(\n",
      "    (0): Conv2d(2, 48, kernel_size=(3, 3), stride=(1, 1), padding=(1, 1))\n",
      "    (1): BatchNorm2d(48, eps=1e-05, momentum=0.1, affine=True, track_running_stats=True)\n",
      "    (2): LeakyReLU(negative_slope=0.2, inplace)\n",
      "  )\n",
      "  (layer2): Sequential(\n",
      "    (0): Conv2d(48, 48, kernel_size=(3, 3), stride=(1, 1), padding=(1, 1))\n",
      "    (1): BatchNorm2d(48, eps=1e-05, momentum=0.1, affine=True, track_running_stats=True)\n",
      "    (2): LeakyReLU(negative_slope=0.2, inplace)\n",
      "  )\n",
      "  (layer3): Sequential(\n",
      "    (0): Conv2d(96, 48, kernel_size=(3, 3), stride=(1, 1), padding=(1, 1))\n",
      "    (1): BatchNorm2d(48, eps=1e-05, momentum=0.1, affine=True, track_running_stats=True)\n",
      "    (2): LeakyReLU(negative_slope=0.2, inplace)\n",
      "  )\n",
      "  (layer4): Sequential(\n",
      "    (0): Conv2d(144, 48, kernel_size=(3, 3), stride=(1, 1), padding=(1, 1))\n",
      "    (1): BatchNorm2d(48, eps=1e-05, momentum=0.1, affine=True, track_running_stats=True)\n",
      "    (2): LeakyReLU(negative_slope=0.2, inplace)\n",
      "  )\n",
      "  (layer5): Sequential(\n",
      "    (0): Conv2d(192, 192, kernel_size=(3, 3), stride=(1, 1), padding=(1, 1))\n",
      "    (1): BatchNorm2d(192, eps=1e-05, momentum=0.1, affine=True, track_running_stats=True)\n",
      "    (2): LeakyReLU(negative_slope=0.2, inplace)\n",
      "  )\n",
      "  (layer6): Sequential(\n",
      "    (0): Conv2d(192, 128, kernel_size=(3, 3), stride=(1, 1), padding=(1, 1))\n",
      "    (1): BatchNorm2d(128, eps=1e-05, momentum=0.1, affine=True, track_running_stats=True)\n",
      "    (2): LeakyReLU(negative_slope=0.2, inplace)\n",
      "  )\n",
      "  (layer7): Sequential(\n",
      "    (0): Conv2d(128, 64, kernel_size=(3, 3), stride=(1, 1), padding=(1, 1))\n",
      "    (1): BatchNorm2d(64, eps=1e-05, momentum=0.1, affine=True, track_running_stats=True)\n",
      "    (2): LeakyReLU(negative_slope=0.2, inplace)\n",
      "  )\n",
      "  (layer8): Sequential(\n",
      "    (0): Conv2d(64, 1, kernel_size=(3, 3), stride=(1, 1), padding=(1, 1))\n",
      "    (1): BatchNorm2d(1, eps=1e-05, momentum=0.1, affine=True, track_running_stats=True)\n",
      "    (2): LeakyReLU(negative_slope=0.2, inplace)\n",
      "  )\n",
      ")\n"
     ]
    }
   ],
   "source": [
    "#define the Mask-Net network\n",
    "class MaskNet(nn.Module):\n",
    "    def  __init__(self):\n",
    "        super(MaskNet, self).__init__()\n",
    "        #####encoder layer 1#####\n",
    "        self.layer1 = nn.Sequential(  #input shape (,2,256,256)\n",
    "                         nn.Conv2d(in_channels=2, out_channels=48, kernel_size=3, stride=1, padding=1),\n",
    "                         nn.BatchNorm2d(48),\n",
    "                         nn.LeakyReLU(0.2,inplace=True)) #output shape (,48,256,256)   \n",
    "        #####encoder layer 2#####\n",
    "        self.layer2 = nn.Sequential(  #input shape (,48,256,256)\n",
    "                         nn.Conv2d(in_channels = 48, out_channels = 48, kernel_size  = 3, stride= 1, padding = 1),\n",
    "                         nn.BatchNorm2d(48),\n",
    "                         nn.LeakyReLU(0.2,inplace=True))  #output shape (,48,256,256)\n",
    "        #####encoder layer 3#####\n",
    "        self.layer3 = nn.Sequential(  #input shape (,96,256,256)\n",
    "                         nn.Conv2d(in_channels = 96, out_channels = 48, kernel_size  = 3, stride= 1, padding = 1),\n",
    "                         nn.BatchNorm2d(48),\n",
    "                         nn.LeakyReLU(0.2,inplace=True))  #output shape (,48,256,256)     \n",
    "        #####encoder layer 4#####\n",
    "        self.layer4 = nn.Sequential(  #input shape (,144,256,256)\n",
    "                         nn.Conv2d(in_channels = 144, out_channels = 48, kernel_size  = 3, stride= 1, padding = 1),\n",
    "                         nn.BatchNorm2d(48),\n",
    "                         nn.LeakyReLU(0.2,inplace=True))  #output shape (,48,256,256) \n",
    "        #####decoder layer 1#####\n",
    "        self.layer5 = nn.Sequential(  #input shape (,192,256,256)\n",
    "                         nn.Conv2d(in_channels = 192, out_channels = 192, kernel_size  = 3, stride= 1, padding = 1),\n",
    "                         nn.BatchNorm2d(192),\n",
    "                         nn.LeakyReLU(0.2,inplace=True))  #output shape (,192,256,256)    \n",
    "        #####decoder layer 2#####\n",
    "        self.layer6 = nn.Sequential(  #input shape (,192,256,256)\n",
    "                         nn.Conv2d(in_channels = 192, out_channels = 128, kernel_size  = 3, stride= 1, padding = 1),\n",
    "                         nn.BatchNorm2d(128),\n",
    "                         nn.LeakyReLU(0.2,inplace=True))  #output shape (,128,256,256)    \n",
    "        #####decoder layer 3#####\n",
    "        self.layer7 = nn.Sequential(  #input shape (,128,256,256)\n",
    "                         nn.Conv2d(in_channels = 128, out_channels = 64, kernel_size  = 3, stride= 1, padding = 1),\n",
    "                         nn.BatchNorm2d(64),\n",
    "                         nn.LeakyReLU(0.2,inplace=True))  #output shape (,64,256,256)  \n",
    "        #####decoder layer 4#####\n",
    "        self.layer8 = nn.Sequential(  #input shape (,64,256,256)\n",
    "                         nn.Conv2d(in_channels = 64, out_channels = 1, kernel_size  = 3, stride= 1, padding = 1),\n",
    "                         nn.BatchNorm2d(1),\n",
    "                         nn.LeakyReLU(0.2,inplace=True))  #output shape (,1,256,256)          \n",
    " \n",
    "    def forward(self, x, y):\n",
    "        #encoder layer 1\n",
    "        en1 = self.layer1(torch.cat((x,y),dim=1))\n",
    "        #encoder layer 2\n",
    "        en2 = self.layer2(en1)\n",
    "        #concat layer 1\n",
    "        concat1 = torch.cat((en1,en2),dim=1)\n",
    "        #encoder layer 3\n",
    "        en3 = self.layer3(concat1)\n",
    "        #concat layer 2\n",
    "        concat2 = torch.cat((concat1,en3),dim=1)\n",
    "        #encoder layer 4\n",
    "        en4 = self.layer4(concat2)\n",
    "        #concat layer 3\n",
    "        concat3 = torch.cat((concat2,en4),dim=1)\n",
    "        #decoder layer 1\n",
    "        dec1 = self.layer5(concat3)\n",
    "        #decoder layer 2\n",
    "        dec2 = self.layer6(dec1)\n",
    "        #decoder layer 3\n",
    "        dec3 = self.layer7(dec2)\n",
    "        #decoder layer 4\n",
    "        dec4 = self.layer8(dec3)\n",
    "        #tanh layer\n",
    "        fused = torch.tanh(dec4)      \n",
    "        return fused\n",
    "        #execute the network\n",
    "\n",
    "cnn = MaskNet().to(device)\n",
    "cnn = cnn.float()\n",
    "print(cnn)"
   ]
  },
  {
   "cell_type": "code",
   "execution_count": 15,
   "metadata": {},
   "outputs": [],
   "source": [
    "#define the optimizers and loss functions \n",
    "optimizer = torch.optim.Adam(cnn.parameters(), lr=learning_rate)   # optimize all cnn parameters\n",
    "l2_loss   = nn.MSELoss() #MSEloss"
   ]
  },
  {
   "cell_type": "code",
   "execution_count": 16,
   "metadata": {},
   "outputs": [
    {
     "name": "stdout",
     "output_type": "stream",
     "text": [
      "Epoch: [ 0],step: [100], mri_ssim_loss: [0.63304365], pet_ssim_loss: [0.79476070],  total_ssim_loss: [0.71390218], total_l2_loss: [0.04056725], total_loss: [0.70716882]\n",
      "Epoch: [ 1],step: [200], mri_ssim_loss: [0.13803625], pet_ssim_loss: [0.22470093],  total_ssim_loss: [0.18136859], total_l2_loss: [0.02095489], total_loss: [0.17976446]\n",
      "Epoch: [ 2],step: [300], mri_ssim_loss: [0.61949766], pet_ssim_loss: [0.78903472],  total_ssim_loss: [0.70426619], total_l2_loss: [0.01851604], total_loss: [0.69740868]\n",
      "Epoch: [ 2],step: [400], mri_ssim_loss: [0.39780641], pet_ssim_loss: [0.26258457],  total_ssim_loss: [0.33019549], total_l2_loss: [0.01745792], total_loss: [0.32706812]\n",
      "Epoch: [ 3],step: [500], mri_ssim_loss: [0.73675925], pet_ssim_loss: [0.69722611],  total_ssim_loss: [0.71699268], total_l2_loss: [0.02588788], total_loss: [0.71008164]\n",
      "Epoch: [ 4],step: [600], mri_ssim_loss: [0.21676862], pet_ssim_loss: [0.15762663],  total_ssim_loss: [0.18719763], total_l2_loss: [0.00745538], total_loss: [0.18540020]\n",
      "Epoch: [ 5],step: [700], mri_ssim_loss: [0.60284746], pet_ssim_loss: [0.69052237],  total_ssim_loss: [0.64668489], total_l2_loss: [0.02238966], total_loss: [0.64044189]\n",
      "Epoch: [ 5],step: [800], mri_ssim_loss: [0.70709777], pet_ssim_loss: [0.60893971],  total_ssim_loss: [0.65801871], total_l2_loss: [0.01311142], total_loss: [0.65156966]\n",
      "Epoch: [ 6],step: [900], mri_ssim_loss: [0.72548676], pet_ssim_loss: [0.68476605],  total_ssim_loss: [0.70512640], total_l2_loss: [0.01394927], total_loss: [0.69821465]\n",
      "Epoch: [ 7],step: [1000], mri_ssim_loss: [0.22529697], pet_ssim_loss: [0.21470177],  total_ssim_loss: [0.21999937], total_l2_loss: [0.00878723], total_loss: [0.21788725]\n",
      "Epoch: [ 8],step: [1100], mri_ssim_loss: [0.55109829], pet_ssim_loss: [0.63516802],  total_ssim_loss: [0.59313315], total_l2_loss: [0.03212850], total_loss: [0.58752310]\n",
      "Epoch: [ 8],step: [1200], mri_ssim_loss: [1.03989196], pet_ssim_loss: [0.71709800],  total_ssim_loss: [0.87849498], total_l2_loss: [0.02845481], total_loss: [0.86999458]\n",
      "Epoch: [ 9],step: [1300], mri_ssim_loss: [0.52543330], pet_ssim_loss: [0.56616008],  total_ssim_loss: [0.54579669], total_l2_loss: [0.00664985], total_loss: [0.54040527]\n",
      "Epoch: [10],step: [1400], mri_ssim_loss: [0.65658569], pet_ssim_loss: [0.56366718],  total_ssim_loss: [0.61012644], total_l2_loss: [0.02660472], total_loss: [0.60429126]\n",
      "Epoch: [11],step: [1500], mri_ssim_loss: [0.46930957], pet_ssim_loss: [0.43915653],  total_ssim_loss: [0.45423305], total_l2_loss: [0.01525323], total_loss: [0.44984326]\n",
      "Epoch: [11],step: [1600], mri_ssim_loss: [0.63472521], pet_ssim_loss: [0.67492336],  total_ssim_loss: [0.65482426], total_l2_loss: [0.01589961], total_loss: [0.64843506]\n",
      "Epoch: [12],step: [1700], mri_ssim_loss: [0.10984087], pet_ssim_loss: [0.13793409],  total_ssim_loss: [0.12388748], total_l2_loss: [0.00831579], total_loss: [0.12273176]\n",
      "Epoch: [13],step: [1800], mri_ssim_loss: [0.49186313], pet_ssim_loss: [0.37457585],  total_ssim_loss: [0.43321949], total_l2_loss: [0.04717247], total_loss: [0.42935902]\n",
      "Epoch: [13],step: [1900], mri_ssim_loss: [0.67202818], pet_ssim_loss: [0.62978691],  total_ssim_loss: [0.65090752], total_l2_loss: [0.02502873], total_loss: [0.64464873]\n",
      "Epoch: [14],step: [2000], mri_ssim_loss: [0.61861646], pet_ssim_loss: [0.68090856],  total_ssim_loss: [0.64976251], total_l2_loss: [0.01961376], total_loss: [0.64346105]\n",
      "Epoch: [15],step: [2100], mri_ssim_loss: [0.12377858], pet_ssim_loss: [0.16664600],  total_ssim_loss: [0.14521229], total_l2_loss: [0.00673807], total_loss: [0.14382756]\n",
      "Epoch: [16],step: [2200], mri_ssim_loss: [0.30530620], pet_ssim_loss: [0.43843889],  total_ssim_loss: [0.37187254], total_l2_loss: [0.02163741], total_loss: [0.36837018]\n",
      "Epoch: [16],step: [2300], mri_ssim_loss: [0.49047881], pet_ssim_loss: [0.50132889],  total_ssim_loss: [0.49590385], total_l2_loss: [0.02789592], total_loss: [0.49122375]\n",
      "Epoch: [17],step: [2400], mri_ssim_loss: [0.59417403], pet_ssim_loss: [0.65207767],  total_ssim_loss: [0.62312585], total_l2_loss: [0.01838317], total_loss: [0.61707842]\n",
      "Epoch: [18],step: [2500], mri_ssim_loss: [0.11277056], pet_ssim_loss: [0.19465601],  total_ssim_loss: [0.15371329], total_l2_loss: [0.00902866], total_loss: [0.15226644]\n",
      "Epoch: [19],step: [2600], mri_ssim_loss: [0.29709572], pet_ssim_loss: [0.34062374],  total_ssim_loss: [0.31885973], total_l2_loss: [0.02809080], total_loss: [0.31595206]\n",
      "Epoch: [19],step: [2700], mri_ssim_loss: [0.61989933], pet_ssim_loss: [0.31866539],  total_ssim_loss: [0.46928236], total_l2_loss: [0.02193643], total_loss: [0.46480891]\n",
      "Epoch: [20],step: [2800], mri_ssim_loss: [0.60599732], pet_ssim_loss: [0.69174129],  total_ssim_loss: [0.64886928], total_l2_loss: [0.01997071], total_loss: [0.64258033]\n",
      "Epoch: [21],step: [2900], mri_ssim_loss: [0.13919294], pet_ssim_loss: [0.23617995],  total_ssim_loss: [0.18768644], total_l2_loss: [0.01133400], total_loss: [0.18592292]\n",
      "Epoch: [22],step: [3000], mri_ssim_loss: [0.31680322], pet_ssim_loss: [0.48154211],  total_ssim_loss: [0.39917266], total_l2_loss: [0.01915402], total_loss: [0.39537248]\n",
      "Epoch: [22],step: [3100], mri_ssim_loss: [0.53402507], pet_ssim_loss: [0.60109776],  total_ssim_loss: [0.56756139], total_l2_loss: [0.01462287], total_loss: [0.56203198]\n",
      "Epoch: [23],step: [3200], mri_ssim_loss: [0.57463175], pet_ssim_loss: [0.64196330],  total_ssim_loss: [0.60829753], total_l2_loss: [0.02294943], total_loss: [0.60244405]\n",
      "Epoch: [24],step: [3300], mri_ssim_loss: [0.36217761], pet_ssim_loss: [0.38322008],  total_ssim_loss: [0.37269884], total_l2_loss: [0.05576544], total_loss: [0.36952952]\n",
      "Epoch: [24],step: [3400], mri_ssim_loss: [0.41603523], pet_ssim_loss: [0.29977113],  total_ssim_loss: [0.35790318], total_l2_loss: [0.02022040], total_loss: [0.35452637]\n",
      "Epoch: [25],step: [3500], mri_ssim_loss: [0.59305948], pet_ssim_loss: [0.57400388],  total_ssim_loss: [0.58353168], total_l2_loss: [0.03569447], total_loss: [0.57805336]\n",
      "Epoch: [26],step: [3600], mri_ssim_loss: [0.22934198], pet_ssim_loss: [0.20546091],  total_ssim_loss: [0.21740144], total_l2_loss: [0.00835730], total_loss: [0.21531099]\n",
      "Epoch: [27],step: [3700], mri_ssim_loss: [0.41153026], pet_ssim_loss: [0.39759445],  total_ssim_loss: [0.40456235], total_l2_loss: [0.03149493], total_loss: [0.40083170]\n",
      "Epoch: [27],step: [3800], mri_ssim_loss: [0.24449372], pet_ssim_loss: [0.28248304],  total_ssim_loss: [0.26348838], total_l2_loss: [0.01607370], total_loss: [0.26101422]\n",
      "Epoch: [28],step: [3900], mri_ssim_loss: [0.65010202], pet_ssim_loss: [0.59705317],  total_ssim_loss: [0.62357759], total_l2_loss: [0.03524772], total_loss: [0.61769432]\n",
      "Epoch: [29],step: [4000], mri_ssim_loss: [0.14880788], pet_ssim_loss: [0.14844513],  total_ssim_loss: [0.14862651], total_l2_loss: [0.00801562], total_loss: [0.14722040]\n",
      "Epoch: [30],step: [4100], mri_ssim_loss: [0.35806143], pet_ssim_loss: [0.46838748],  total_ssim_loss: [0.41322446], total_l2_loss: [0.02510628], total_loss: [0.40934327]\n",
      "Epoch: [30],step: [4200], mri_ssim_loss: [0.36187482], pet_ssim_loss: [0.23925519],  total_ssim_loss: [0.30056500], total_l2_loss: [0.02047003], total_loss: [0.29776406]\n",
      "Epoch: [31],step: [4300], mri_ssim_loss: [0.56755430], pet_ssim_loss: [0.58842653],  total_ssim_loss: [0.57799041], total_l2_loss: [0.01720415], total_loss: [0.57238251]\n",
      "Epoch: [32],step: [4400], mri_ssim_loss: [0.17161024], pet_ssim_loss: [0.22791225],  total_ssim_loss: [0.19976124], total_l2_loss: [0.00850470], total_loss: [0.19784868]\n",
      "Epoch: [33],step: [4500], mri_ssim_loss: [0.28412312], pet_ssim_loss: [0.41657579],  total_ssim_loss: [0.35034946], total_l2_loss: [0.03181778], total_loss: [0.34716412]\n",
      "Epoch: [33],step: [4600], mri_ssim_loss: [0.63933909], pet_ssim_loss: [0.37191010],  total_ssim_loss: [0.50562459], total_l2_loss: [0.03556171], total_loss: [0.50092393]\n",
      "Epoch: [34],step: [4700], mri_ssim_loss: [0.42077827], pet_ssim_loss: [0.44599825],  total_ssim_loss: [0.43338826], total_l2_loss: [0.00951272], total_loss: [0.42914951]\n",
      "Epoch: [35],step: [4800], mri_ssim_loss: [0.44813013], pet_ssim_loss: [0.48349303],  total_ssim_loss: [0.46581158], total_l2_loss: [0.02367199], total_loss: [0.46139020]\n",
      "Epoch: [36],step: [4900], mri_ssim_loss: [0.32771069], pet_ssim_loss: [0.26845169],  total_ssim_loss: [0.29808119], total_l2_loss: [0.01491715], total_loss: [0.29524955]\n",
      "Epoch: [36],step: [5000], mri_ssim_loss: [0.41882670], pet_ssim_loss: [0.32574141],  total_ssim_loss: [0.37228405], total_l2_loss: [0.02485565], total_loss: [0.36880976]\n",
      "Epoch: [37],step: [5100], mri_ssim_loss: [0.13174820], pet_ssim_loss: [0.15317810],  total_ssim_loss: [0.14246315], total_l2_loss: [0.00956980], total_loss: [0.14113422]\n",
      "Epoch: [38],step: [5200], mri_ssim_loss: [0.41614389], pet_ssim_loss: [0.38383806],  total_ssim_loss: [0.39999098], total_l2_loss: [0.04252459], total_loss: [0.39641631]\n",
      "Epoch: [38],step: [5300], mri_ssim_loss: [0.40307647], pet_ssim_loss: [0.25728130],  total_ssim_loss: [0.33017889], total_l2_loss: [0.02848578], total_loss: [0.32716194]\n",
      "Epoch: [39],step: [5400], mri_ssim_loss: [0.28372955], pet_ssim_loss: [0.32789123],  total_ssim_loss: [0.30581039], total_l2_loss: [0.02240135], total_loss: [0.30297631]\n",
      "Epoch: [40],step: [5500], mri_ssim_loss: [0.18903613], pet_ssim_loss: [0.13727021],  total_ssim_loss: [0.16315317], total_l2_loss: [0.00869207], total_loss: [0.16160856]\n",
      "Epoch: [41],step: [5600], mri_ssim_loss: [0.19526708], pet_ssim_loss: [0.43987179],  total_ssim_loss: [0.31756943], total_l2_loss: [0.01696354], total_loss: [0.31456336]\n",
      "Epoch: [41],step: [5700], mri_ssim_loss: [0.24804044], pet_ssim_loss: [0.27485585],  total_ssim_loss: [0.26144814], total_l2_loss: [0.02491006], total_loss: [0.25908276]\n",
      "Epoch: [42],step: [5800], mri_ssim_loss: [0.27937561], pet_ssim_loss: [0.22127271],  total_ssim_loss: [0.25032416], total_l2_loss: [0.01969520], total_loss: [0.24801786]\n",
      "Epoch: [43],step: [5900], mri_ssim_loss: [0.12699074], pet_ssim_loss: [0.18940818],  total_ssim_loss: [0.15819946], total_l2_loss: [0.00861222], total_loss: [0.15670359]\n",
      "Epoch: [44],step: [6000], mri_ssim_loss: [0.20139086], pet_ssim_loss: [0.32654983],  total_ssim_loss: [0.26397035], total_l2_loss: [0.02074885], total_loss: [0.26153812]\n",
      "Epoch: [44],step: [6100], mri_ssim_loss: [0.37938106], pet_ssim_loss: [0.41429716],  total_ssim_loss: [0.39683911], total_l2_loss: [0.01754227], total_loss: [0.39304614]\n",
      "Epoch: [45],step: [6200], mri_ssim_loss: [0.27539575], pet_ssim_loss: [0.42463672],  total_ssim_loss: [0.35001624], total_l2_loss: [0.01821201], total_loss: [0.34669819]\n",
      "Epoch: [46],step: [6300], mri_ssim_loss: [0.16231847], pet_ssim_loss: [0.23767829],  total_ssim_loss: [0.19999838], total_l2_loss: [0.01184903], total_loss: [0.19811688]\n",
      "Epoch: [47],step: [6400], mri_ssim_loss: [0.27960795], pet_ssim_loss: [0.39424610],  total_ssim_loss: [0.33692703], total_l2_loss: [0.01489163], total_loss: [0.33370668]\n",
      "Epoch: [47],step: [6500], mri_ssim_loss: [0.56947589], pet_ssim_loss: [0.30410731],  total_ssim_loss: [0.43679160], total_l2_loss: [0.01076740], total_loss: [0.43253136]\n",
      "Epoch: [48],step: [6600], mri_ssim_loss: [0.31395811], pet_ssim_loss: [0.39780045],  total_ssim_loss: [0.35587928], total_l2_loss: [0.02018736], total_loss: [0.35252237]\n",
      "Epoch: [49],step: [6700], mri_ssim_loss: [0.32435161], pet_ssim_loss: [0.32831705],  total_ssim_loss: [0.32633433], total_l2_loss: [0.04174970], total_loss: [0.32348847]\n",
      "Epoch: [49],step: [6800], mri_ssim_loss: [0.33845431], pet_ssim_loss: [0.22136033],  total_ssim_loss: [0.27990732], total_l2_loss: [0.01696703], total_loss: [0.27727792]\n",
      "Epoch: [50],step: [6900], mri_ssim_loss: [0.36882997], pet_ssim_loss: [0.34784198],  total_ssim_loss: [0.35833597], total_l2_loss: [0.02814104], total_loss: [0.35503405]\n",
      "Epoch: [51],step: [7000], mri_ssim_loss: [0.12259543], pet_ssim_loss: [0.19225419],  total_ssim_loss: [0.15742481], total_l2_loss: [0.00979927], total_loss: [0.15594855]\n",
      "Epoch: [52],step: [7100], mri_ssim_loss: [0.39506996], pet_ssim_loss: [0.28594381],  total_ssim_loss: [0.34050688], total_l2_loss: [0.02367257], total_loss: [0.33733854]\n",
      "Epoch: [52],step: [7200], mri_ssim_loss: [0.13934571], pet_ssim_loss: [0.23089290],  total_ssim_loss: [0.18511930], total_l2_loss: [0.01074697], total_loss: [0.18337558]\n",
      "Epoch: [53],step: [7300], mri_ssim_loss: [0.37497926], pet_ssim_loss: [0.27319872],  total_ssim_loss: [0.32408899], total_l2_loss: [0.02784208], total_loss: [0.32112652]\n",
      "Epoch: [54],step: [7400], mri_ssim_loss: [0.13581914], pet_ssim_loss: [0.15885854],  total_ssim_loss: [0.14733884], total_l2_loss: [0.00782521], total_loss: [0.14594370]\n",
      "Epoch: [55],step: [7500], mri_ssim_loss: [0.29064840], pet_ssim_loss: [0.40499902],  total_ssim_loss: [0.34782371], total_l2_loss: [0.01604645], total_loss: [0.34450594]\n",
      "Epoch: [55],step: [7600], mri_ssim_loss: [0.25227261], pet_ssim_loss: [0.19506979],  total_ssim_loss: [0.22367120], total_l2_loss: [0.01205670], total_loss: [0.22155505]\n",
      "Epoch: [56],step: [7700], mri_ssim_loss: [0.24348664], pet_ssim_loss: [0.21415848],  total_ssim_loss: [0.22882256], total_l2_loss: [0.01536551], total_loss: [0.22668800]\n",
      "Epoch: [57],step: [7800], mri_ssim_loss: [0.22904676], pet_ssim_loss: [0.17766154],  total_ssim_loss: [0.20335415], total_l2_loss: [0.01169689], total_loss: [0.20143758]\n",
      "Epoch: [58],step: [7900], mri_ssim_loss: [0.28050315], pet_ssim_loss: [0.40319395],  total_ssim_loss: [0.34184855], total_l2_loss: [0.01967530], total_loss: [0.33862683]\n",
      "Epoch: [58],step: [8000], mri_ssim_loss: [0.55188376], pet_ssim_loss: [0.31348532],  total_ssim_loss: [0.43268454], total_l2_loss: [0.02766740], total_loss: [0.42863438]\n",
      "Epoch: [59],step: [8100], mri_ssim_loss: [0.18560499], pet_ssim_loss: [0.27713799],  total_ssim_loss: [0.23137149], total_l2_loss: [0.00711356], total_loss: [0.22912891]\n",
      "Epoch: [60],step: [8200], mri_ssim_loss: [0.24272883], pet_ssim_loss: [0.18462038],  total_ssim_loss: [0.21367460], total_l2_loss: [0.01852447], total_loss: [0.21172312]\n",
      "Epoch: [61],step: [8300], mri_ssim_loss: [0.25245869], pet_ssim_loss: [0.21114194],  total_ssim_loss: [0.23180032], total_l2_loss: [0.00921535], total_loss: [0.22957447]\n",
      "Epoch: [61],step: [8400], mri_ssim_loss: [0.24476093], pet_ssim_loss: [0.26207852],  total_ssim_loss: [0.25341973], total_l2_loss: [0.01279851], total_loss: [0.25101352]\n",
      "Epoch: [62],step: [8500], mri_ssim_loss: [0.16506994], pet_ssim_loss: [0.17145443],  total_ssim_loss: [0.16826218], total_l2_loss: [0.01782155], total_loss: [0.16675778]\n",
      "Epoch: [63],step: [8600], mri_ssim_loss: [0.34221315], pet_ssim_loss: [0.31859398],  total_ssim_loss: [0.33040357], total_l2_loss: [0.03375859], total_loss: [0.32743713]\n",
      "Epoch: [63],step: [8700], mri_ssim_loss: [0.34899431], pet_ssim_loss: [0.22424477],  total_ssim_loss: [0.28661954], total_l2_loss: [0.02313547], total_loss: [0.28398472]\n",
      "Epoch: [64],step: [8800], mri_ssim_loss: [0.27019763], pet_ssim_loss: [0.26731932],  total_ssim_loss: [0.26875848], total_l2_loss: [0.01269172], total_loss: [0.26619783]\n",
      "Epoch: [65],step: [8900], mri_ssim_loss: [0.11487567], pet_ssim_loss: [0.16333550],  total_ssim_loss: [0.13910559], total_l2_loss: [0.00926053], total_loss: [0.13780715]\n",
      "Epoch: [66],step: [9000], mri_ssim_loss: [0.14058244], pet_ssim_loss: [0.42587227],  total_ssim_loss: [0.28322735], total_l2_loss: [0.01119971], total_loss: [0.28050709]\n",
      "Epoch: [66],step: [9100], mri_ssim_loss: [0.29519522], pet_ssim_loss: [0.33288902],  total_ssim_loss: [0.31404212], total_l2_loss: [0.01937751], total_loss: [0.31109548]\n",
      "Epoch: [67],step: [9200], mri_ssim_loss: [0.19500411], pet_ssim_loss: [0.18771130],  total_ssim_loss: [0.19135770], total_l2_loss: [0.01182607], total_loss: [0.18956238]\n",
      "Epoch: [68],step: [9300], mri_ssim_loss: [0.12345886], pet_ssim_loss: [0.17083967],  total_ssim_loss: [0.14714926], total_l2_loss: [0.00941061], total_loss: [0.14577188]\n",
      "Epoch: [69],step: [9400], mri_ssim_loss: [0.15572023], pet_ssim_loss: [0.32886231],  total_ssim_loss: [0.24229127], total_l2_loss: [0.01401158], total_loss: [0.24000847]\n",
      "Epoch: [69],step: [9500], mri_ssim_loss: [0.39315075], pet_ssim_loss: [0.21276700],  total_ssim_loss: [0.30295888], total_l2_loss: [0.01371517], total_loss: [0.30006644]\n",
      "Epoch: [70],step: [9600], mri_ssim_loss: [0.17188114], pet_ssim_loss: [0.31920201],  total_ssim_loss: [0.24554157], total_l2_loss: [0.01252995], total_loss: [0.24321146]\n",
      "Epoch: [71],step: [9700], mri_ssim_loss: [0.12661934], pet_ssim_loss: [0.21965790],  total_ssim_loss: [0.17313862], total_l2_loss: [0.01126632], total_loss: [0.17151991]\n",
      "Epoch: [72],step: [9800], mri_ssim_loss: [0.29809225], pet_ssim_loss: [0.46052009],  total_ssim_loss: [0.37930617], total_l2_loss: [0.01141061], total_loss: [0.37562722]\n",
      "Epoch: [72],step: [9900], mri_ssim_loss: [0.46594000], pet_ssim_loss: [0.36605203],  total_ssim_loss: [0.41599602], total_l2_loss: [0.00980839], total_loss: [0.41193414]\n",
      "Epoch: [73],step: [10000], mri_ssim_loss: [0.23520768], pet_ssim_loss: [0.35147011],  total_ssim_loss: [0.29333889], total_l2_loss: [0.01550121], total_loss: [0.29056051]\n",
      "Epoch: [74],step: [10100], mri_ssim_loss: [0.37220788], pet_ssim_loss: [0.30569339],  total_ssim_loss: [0.33895063], total_l2_loss: [0.03330639], total_loss: [0.33589420]\n",
      "Epoch: [74],step: [10200], mri_ssim_loss: [0.34196746], pet_ssim_loss: [0.17659843],  total_ssim_loss: [0.25928295], total_l2_loss: [0.01629618], total_loss: [0.25685307]\n",
      "Epoch: [75],step: [10300], mri_ssim_loss: [0.35158294], pet_ssim_loss: [0.26294124],  total_ssim_loss: [0.30726209], total_l2_loss: [0.02433940], total_loss: [0.30443287]\n",
      "Epoch: [76],step: [10400], mri_ssim_loss: [0.11908883], pet_ssim_loss: [0.16025925],  total_ssim_loss: [0.13967404], total_l2_loss: [0.01241601], total_loss: [0.13840145]\n",
      "Epoch: [77],step: [10500], mri_ssim_loss: [0.36060226], pet_ssim_loss: [0.30154037],  total_ssim_loss: [0.33107132], total_l2_loss: [0.01898028], total_loss: [0.32795042]\n",
      "Epoch: [77],step: [10600], mri_ssim_loss: [0.16341722], pet_ssim_loss: [0.18714511],  total_ssim_loss: [0.17528117], total_l2_loss: [0.00897434], total_loss: [0.17361811]\n",
      "Epoch: [78],step: [10700], mri_ssim_loss: [0.29166955], pet_ssim_loss: [0.23039258],  total_ssim_loss: [0.26103106], total_l2_loss: [0.02129486], total_loss: [0.25863370]\n",
      "Epoch: [79],step: [10800], mri_ssim_loss: [0.13192856], pet_ssim_loss: [0.14429486],  total_ssim_loss: [0.13811171], total_l2_loss: [0.00905178], total_loss: [0.13682112]\n",
      "Epoch: [80],step: [10900], mri_ssim_loss: [0.20004892], pet_ssim_loss: [0.51297235],  total_ssim_loss: [0.35651064], total_l2_loss: [0.01214695], total_loss: [0.35306701]\n",
      "Epoch: [80],step: [11000], mri_ssim_loss: [0.26291537], pet_ssim_loss: [0.16469383],  total_ssim_loss: [0.21380460], total_l2_loss: [0.01062398], total_loss: [0.21177280]\n",
      "Epoch: [81],step: [11100], mri_ssim_loss: [0.20964539], pet_ssim_loss: [0.25917494],  total_ssim_loss: [0.23441017], total_l2_loss: [0.01052152], total_loss: [0.23217128]\n",
      "Epoch: [82],step: [11200], mri_ssim_loss: [0.14017093], pet_ssim_loss: [0.19342631],  total_ssim_loss: [0.16679862], total_l2_loss: [0.01105944], total_loss: [0.16524123]\n",
      "Epoch: [83],step: [11300], mri_ssim_loss: [0.25848246], pet_ssim_loss: [0.28205526],  total_ssim_loss: [0.27026886], total_l2_loss: [0.01670958], total_loss: [0.26773328]\n",
      "Epoch: [83],step: [11400], mri_ssim_loss: [0.56863403], pet_ssim_loss: [0.25541615],  total_ssim_loss: [0.41202509], total_l2_loss: [0.02155507], total_loss: [0.40812039]\n",
      "Epoch: [84],step: [11500], mri_ssim_loss: [0.17153203], pet_ssim_loss: [0.21252227],  total_ssim_loss: [0.19202715], total_l2_loss: [0.00649922], total_loss: [0.19017188]\n",
      "Epoch: [85],step: [11600], mri_ssim_loss: [0.19611579], pet_ssim_loss: [0.20254362],  total_ssim_loss: [0.19932970], total_l2_loss: [0.01572521], total_loss: [0.19749366]\n",
      "Epoch: [86],step: [11700], mri_ssim_loss: [0.22897768], pet_ssim_loss: [0.22660697],  total_ssim_loss: [0.22779232], total_l2_loss: [0.00777351], total_loss: [0.22559214]\n",
      "Epoch: [86],step: [11800], mri_ssim_loss: [0.24959528], pet_ssim_loss: [0.22454810],  total_ssim_loss: [0.23707169], total_l2_loss: [0.01153927], total_loss: [0.23481637]\n",
      "Epoch: [87],step: [11900], mri_ssim_loss: [0.13978338], pet_ssim_loss: [0.15683508],  total_ssim_loss: [0.14830923], total_l2_loss: [0.01796561], total_loss: [0.14700580]\n",
      "Epoch: [88],step: [12000], mri_ssim_loss: [0.31149060], pet_ssim_loss: [0.33258182],  total_ssim_loss: [0.32203621], total_l2_loss: [0.03042132], total_loss: [0.31912008]\n",
      "Epoch: [88],step: [12100], mri_ssim_loss: [0.32238901], pet_ssim_loss: [0.21699423],  total_ssim_loss: [0.26969162], total_l2_loss: [0.02027986], total_loss: [0.26719752]\n",
      "Epoch: [89],step: [12200], mri_ssim_loss: [0.20955187], pet_ssim_loss: [0.22637528],  total_ssim_loss: [0.21796358], total_l2_loss: [0.01117758], total_loss: [0.21589571]\n",
      "Epoch: [90],step: [12300], mri_ssim_loss: [0.09997582], pet_ssim_loss: [0.15349281],  total_ssim_loss: [0.12673432], total_l2_loss: [0.00999344], total_loss: [0.12556690]\n",
      "Epoch: [91],step: [12400], mri_ssim_loss: [0.13034654], pet_ssim_loss: [0.42795509],  total_ssim_loss: [0.27915081], total_l2_loss: [0.01027709], total_loss: [0.27646208]\n",
      "Epoch: [91],step: [12500], mri_ssim_loss: [0.21392930], pet_ssim_loss: [0.20239794],  total_ssim_loss: [0.20816362], total_l2_loss: [0.01764239], total_loss: [0.20625842]\n",
      "Epoch: [92],step: [12600], mri_ssim_loss: [0.19388568], pet_ssim_loss: [0.18004036],  total_ssim_loss: [0.18696302], total_l2_loss: [0.01038446], total_loss: [0.18519723]\n",
      "Epoch: [93],step: [12700], mri_ssim_loss: [0.09755707], pet_ssim_loss: [0.17820197],  total_ssim_loss: [0.13787952], total_l2_loss: [0.00952241], total_loss: [0.13659595]\n",
      "Epoch: [94],step: [12800], mri_ssim_loss: [0.22034621], pet_ssim_loss: [0.26619613],  total_ssim_loss: [0.24327117], total_l2_loss: [0.01230770], total_loss: [0.24096155]\n",
      "Epoch: [94],step: [12900], mri_ssim_loss: [0.41558182], pet_ssim_loss: [0.17902148],  total_ssim_loss: [0.29730165], total_l2_loss: [0.01304202], total_loss: [0.29445904]\n",
      "Epoch: [95],step: [13000], mri_ssim_loss: [0.13083971], pet_ssim_loss: [0.29233509],  total_ssim_loss: [0.21158740], total_l2_loss: [0.01232950], total_loss: [0.20959482]\n",
      "Epoch: [96],step: [13100], mri_ssim_loss: [0.16281658], pet_ssim_loss: [0.18798649],  total_ssim_loss: [0.17540154], total_l2_loss: [0.01239283], total_loss: [0.17377146]\n",
      "Epoch: [97],step: [13200], mri_ssim_loss: [0.25784874], pet_ssim_loss: [0.32271534],  total_ssim_loss: [0.29028204], total_l2_loss: [0.01127455], total_loss: [0.28749198]\n",
      "Epoch: [97],step: [13300], mri_ssim_loss: [0.45897579], pet_ssim_loss: [0.37294340],  total_ssim_loss: [0.41595960], total_l2_loss: [0.00978639], total_loss: [0.41189787]\n",
      "Epoch: [98],step: [13400], mri_ssim_loss: [0.25422132], pet_ssim_loss: [0.36037380],  total_ssim_loss: [0.30729756], total_l2_loss: [0.01504013], total_loss: [0.30437499]\n",
      "Epoch: [99],step: [13500], mri_ssim_loss: [0.27937257], pet_ssim_loss: [0.25628901],  total_ssim_loss: [0.26783079], total_l2_loss: [0.03168301], total_loss: [0.26546931]\n",
      "Epoch: [99],step: [13600], mri_ssim_loss: [0.36263353], pet_ssim_loss: [0.10954303],  total_ssim_loss: [0.23608828], total_l2_loss: [0.01699266], total_loss: [0.23389733]\n",
      "Epoch: [100],step: [13700], mri_ssim_loss: [0.35809052], pet_ssim_loss: [0.25181568],  total_ssim_loss: [0.30495310], total_l2_loss: [0.02329460], total_loss: [0.30213651]\n",
      "Epoch: [101],step: [13800], mri_ssim_loss: [0.10392779], pet_ssim_loss: [0.14435118],  total_ssim_loss: [0.12413949], total_l2_loss: [0.01287379], total_loss: [0.12302683]\n",
      "Epoch: [102],step: [13900], mri_ssim_loss: [0.33721197], pet_ssim_loss: [0.25471926],  total_ssim_loss: [0.29596561], total_l2_loss: [0.01879347], total_loss: [0.29319391]\n",
      "Epoch: [102],step: [14000], mri_ssim_loss: [0.16245919], pet_ssim_loss: [0.18555892],  total_ssim_loss: [0.17400905], total_l2_loss: [0.00907563], total_loss: [0.17235973]\n",
      "Epoch: [103],step: [14100], mri_ssim_loss: [0.28790641], pet_ssim_loss: [0.28477252],  total_ssim_loss: [0.28633946], total_l2_loss: [0.02039148], total_loss: [0.28367999]\n",
      "Epoch: [104],step: [14200], mri_ssim_loss: [0.10537010], pet_ssim_loss: [0.16574228],  total_ssim_loss: [0.13555619], total_l2_loss: [0.00976219], total_loss: [0.13429825]\n",
      "Epoch: [105],step: [14300], mri_ssim_loss: [0.19672960], pet_ssim_loss: [0.42740369],  total_ssim_loss: [0.31206664], total_l2_loss: [0.01217427], total_loss: [0.30906773]\n",
      "Epoch: [105],step: [14400], mri_ssim_loss: [0.27687681], pet_ssim_loss: [0.15840125],  total_ssim_loss: [0.21763903], total_l2_loss: [0.01048994], total_loss: [0.21556754]\n",
      "Epoch: [106],step: [14500], mri_ssim_loss: [0.19032192], pet_ssim_loss: [0.22613931],  total_ssim_loss: [0.20823061], total_l2_loss: [0.01068515], total_loss: [0.20625517]\n",
      "Epoch: [107],step: [14600], mri_ssim_loss: [0.12900937], pet_ssim_loss: [0.17990845],  total_ssim_loss: [0.15445891], total_l2_loss: [0.01132167], total_loss: [0.15302753]\n",
      "Epoch: [108],step: [14700], mri_ssim_loss: [0.19318020], pet_ssim_loss: [0.31340456],  total_ssim_loss: [0.25329238], total_l2_loss: [0.01534164], total_loss: [0.25091287]\n",
      "Epoch: [108],step: [14800], mri_ssim_loss: [0.54523075], pet_ssim_loss: [0.27419734],  total_ssim_loss: [0.40971404], total_l2_loss: [0.02034456], total_loss: [0.40582037]\n",
      "Epoch: [109],step: [14900], mri_ssim_loss: [0.16399157], pet_ssim_loss: [0.20668268],  total_ssim_loss: [0.18533713], total_l2_loss: [0.00759877], total_loss: [0.18355973]\n",
      "Epoch: [110],step: [15000], mri_ssim_loss: [0.21392810], pet_ssim_loss: [0.17520756],  total_ssim_loss: [0.19456783], total_l2_loss: [0.01493339], total_loss: [0.19277149]\n",
      "Epoch: [111],step: [15100], mri_ssim_loss: [0.23457015], pet_ssim_loss: [0.18680489],  total_ssim_loss: [0.21068752], total_l2_loss: [0.00733084], total_loss: [0.20865396]\n",
      "Epoch: [111],step: [15200], mri_ssim_loss: [0.22972548], pet_ssim_loss: [0.24601829],  total_ssim_loss: [0.23787189], total_l2_loss: [0.00994497], total_loss: [0.23559262]\n",
      "Epoch: [112],step: [15300], mri_ssim_loss: [0.13150650], pet_ssim_loss: [0.14304554],  total_ssim_loss: [0.13727602], total_l2_loss: [0.02096718], total_loss: [0.13611294]\n",
      "Epoch: [113],step: [15400], mri_ssim_loss: [0.35763538], pet_ssim_loss: [0.24912012],  total_ssim_loss: [0.30337775], total_l2_loss: [0.03142189], total_loss: [0.30065817]\n",
      "Epoch: [113],step: [15500], mri_ssim_loss: [0.35696054], pet_ssim_loss: [0.16011488],  total_ssim_loss: [0.25853771], total_l2_loss: [0.02022474], total_loss: [0.25615457]\n",
      "Epoch: [114],step: [15600], mri_ssim_loss: [0.25540137], pet_ssim_loss: [0.27277988],  total_ssim_loss: [0.26409063], total_l2_loss: [0.01016247], total_loss: [0.26155135]\n",
      "Epoch: [115],step: [15700], mri_ssim_loss: [0.10856950], pet_ssim_loss: [0.14638972],  total_ssim_loss: [0.12747961], total_l2_loss: [0.01158441], total_loss: [0.12632066]\n",
      "Epoch: [116],step: [15800], mri_ssim_loss: [0.12290025], pet_ssim_loss: [0.43968654],  total_ssim_loss: [0.28129339], total_l2_loss: [0.01059974], total_loss: [0.27858648]\n",
      "Epoch: [116],step: [15900], mri_ssim_loss: [0.19570398], pet_ssim_loss: [0.21208620],  total_ssim_loss: [0.20389509], total_l2_loss: [0.01738233], total_loss: [0.20202996]\n",
      "Epoch: [117],step: [16000], mri_ssim_loss: [0.25476348], pet_ssim_loss: [0.29683036],  total_ssim_loss: [0.27579692], total_l2_loss: [0.01114345], total_loss: [0.27315038]\n",
      "Epoch: [118],step: [16100], mri_ssim_loss: [0.07746780], pet_ssim_loss: [0.20141852],  total_ssim_loss: [0.13944316], total_l2_loss: [0.01093509], total_loss: [0.13815807]\n",
      "Epoch: [119],step: [16200], mri_ssim_loss: [0.15134931], pet_ssim_loss: [0.32713354],  total_ssim_loss: [0.23924142], total_l2_loss: [0.01248087], total_loss: [0.23697382]\n",
      "Epoch: [119],step: [16300], mri_ssim_loss: [0.40333229], pet_ssim_loss: [0.18323708],  total_ssim_loss: [0.29328468], total_l2_loss: [0.01315139], total_loss: [0.29048336]\n",
      "Epoch: [120],step: [16400], mri_ssim_loss: [0.14313447], pet_ssim_loss: [0.29081893],  total_ssim_loss: [0.21697670], total_l2_loss: [0.01165727], total_loss: [0.21492352]\n",
      "Epoch: [121],step: [16500], mri_ssim_loss: [0.13180494], pet_ssim_loss: [0.19989216],  total_ssim_loss: [0.16584855], total_l2_loss: [0.01278593], total_loss: [0.16431792]\n",
      "Epoch: [122],step: [16600], mri_ssim_loss: [0.22733504], pet_ssim_loss: [0.33672398],  total_ssim_loss: [0.28202951], total_l2_loss: [0.01077957], total_loss: [0.27931702]\n",
      "Epoch: [122],step: [16700], mri_ssim_loss: [0.42141140], pet_ssim_loss: [0.40302503],  total_ssim_loss: [0.41221821], total_l2_loss: [0.01000094], total_loss: [0.40819606]\n",
      "Epoch: [123],step: [16800], mri_ssim_loss: [0.48510665], pet_ssim_loss: [0.58041352],  total_ssim_loss: [0.53276008], total_l2_loss: [0.01454478], total_loss: [0.52757794]\n",
      "Epoch: [124],step: [16900], mri_ssim_loss: [0.28967172], pet_ssim_loss: [0.23454022],  total_ssim_loss: [0.26210597], total_l2_loss: [0.03013145], total_loss: [0.25978622]\n",
      "Epoch: [124],step: [17000], mri_ssim_loss: [0.36811066], pet_ssim_loss: [0.09917212],  total_ssim_loss: [0.23364139], total_l2_loss: [0.01799853], total_loss: [0.23148496]\n",
      "Epoch: [125],step: [17100], mri_ssim_loss: [0.36517656], pet_ssim_loss: [0.24072045],  total_ssim_loss: [0.30294850], total_l2_loss: [0.02221737], total_loss: [0.30014119]\n",
      "Epoch: [126],step: [17200], mri_ssim_loss: [0.11047530], pet_ssim_loss: [0.13546610],  total_ssim_loss: [0.12297070], total_l2_loss: [0.01406463], total_loss: [0.12188164]\n",
      "Epoch: [127],step: [17300], mri_ssim_loss: [0.33182985], pet_ssim_loss: [0.27162701],  total_ssim_loss: [0.30172843], total_l2_loss: [0.01821391], total_loss: [0.29889330]\n",
      "Epoch: [127],step: [17400], mri_ssim_loss: [0.15669656], pet_ssim_loss: [0.18854940],  total_ssim_loss: [0.17262298], total_l2_loss: [0.00930770], total_loss: [0.17098983]\n",
      "Epoch: [128],step: [17500], mri_ssim_loss: [0.28084457], pet_ssim_loss: [0.24432039],  total_ssim_loss: [0.26258248], total_l2_loss: [0.01854436], total_loss: [0.26014209]\n",
      "Epoch: [129],step: [17600], mri_ssim_loss: [0.11087388], pet_ssim_loss: [0.15563655],  total_ssim_loss: [0.13325521], total_l2_loss: [0.01046217], total_loss: [0.13202728]\n",
      "Epoch: [130],step: [17700], mri_ssim_loss: [0.20768631], pet_ssim_loss: [0.42727041],  total_ssim_loss: [0.31747836], total_l2_loss: [0.01236195], total_loss: [0.31442720]\n",
      "Epoch: [130],step: [17800], mri_ssim_loss: [0.27588516], pet_ssim_loss: [0.14573616],  total_ssim_loss: [0.21081066], total_l2_loss: [0.01028979], total_loss: [0.20880544]\n",
      "Epoch: [131],step: [17900], mri_ssim_loss: [0.29088533], pet_ssim_loss: [0.35875535],  total_ssim_loss: [0.32482034], total_l2_loss: [0.01040079], total_loss: [0.32167614]\n",
      "Epoch: [132],step: [18000], mri_ssim_loss: [0.12117201], pet_ssim_loss: [0.18869281],  total_ssim_loss: [0.15493241], total_l2_loss: [0.01124581], total_loss: [0.15349555]\n",
      "Epoch: [133],step: [18100], mri_ssim_loss: [0.23538303], pet_ssim_loss: [0.37383556],  total_ssim_loss: [0.30460930], total_l2_loss: [0.01643194], total_loss: [0.30172753]\n",
      "Epoch: [133],step: [18200], mri_ssim_loss: [0.52260888], pet_ssim_loss: [0.26904464],  total_ssim_loss: [0.39582676], total_l2_loss: [0.02096850], total_loss: [0.39207819]\n",
      "Epoch: [134],step: [18300], mri_ssim_loss: [0.15454209], pet_ssim_loss: [0.21349096],  total_ssim_loss: [0.18401653], total_l2_loss: [0.00713173], total_loss: [0.18224768]\n",
      "Epoch: [135],step: [18400], mri_ssim_loss: [0.23196203], pet_ssim_loss: [0.18403256],  total_ssim_loss: [0.20799729], total_l2_loss: [0.01532916], total_loss: [0.20607062]\n",
      "Epoch: [136],step: [18500], mri_ssim_loss: [0.24083215], pet_ssim_loss: [0.17186677],  total_ssim_loss: [0.20634946], total_l2_loss: [0.00791672], total_loss: [0.20436513]\n",
      "Epoch: [136],step: [18600], mri_ssim_loss: [0.24295676], pet_ssim_loss: [0.26683235],  total_ssim_loss: [0.25489455], total_l2_loss: [0.01064837], total_loss: [0.25245211]\n",
      "Epoch: [137],step: [18700], mri_ssim_loss: [0.13613176], pet_ssim_loss: [0.12885606],  total_ssim_loss: [0.13249391], total_l2_loss: [0.01888402], total_loss: [0.13135782]\n",
      "Epoch: [138],step: [18800], mri_ssim_loss: [0.33972716], pet_ssim_loss: [0.26387483],  total_ssim_loss: [0.30180100], total_l2_loss: [0.03062444], total_loss: [0.29908922]\n",
      "Epoch: [138],step: [18900], mri_ssim_loss: [0.34992731], pet_ssim_loss: [0.15746152],  total_ssim_loss: [0.25369442], total_l2_loss: [0.02039285], total_loss: [0.25136140]\n",
      "Epoch: [139],step: [19000], mri_ssim_loss: [0.22286463], pet_ssim_loss: [0.22626781],  total_ssim_loss: [0.22456622], total_l2_loss: [0.01003887], total_loss: [0.22242095]\n",
      "Epoch: [140],step: [19100], mri_ssim_loss: [0.11237037], pet_ssim_loss: [0.13927925],  total_ssim_loss: [0.12582481], total_l2_loss: [0.01132744], total_loss: [0.12467983]\n",
      "Epoch: [141],step: [19200], mri_ssim_loss: [0.14530671], pet_ssim_loss: [0.40276587],  total_ssim_loss: [0.27403629], total_l2_loss: [0.01001970], total_loss: [0.27139613]\n",
      "Epoch: [141],step: [19300], mri_ssim_loss: [0.20875007], pet_ssim_loss: [0.21502173],  total_ssim_loss: [0.21188590], total_l2_loss: [0.01730407], total_loss: [0.20994009]\n",
      "Epoch: [142],step: [19400], mri_ssim_loss: [0.22600496], pet_ssim_loss: [0.23609948],  total_ssim_loss: [0.23105222], total_l2_loss: [0.01095436], total_loss: [0.22885124]\n",
      "Epoch: [143],step: [19500], mri_ssim_loss: [0.10619426], pet_ssim_loss: [0.16344583],  total_ssim_loss: [0.13482004], total_l2_loss: [0.01096982], total_loss: [0.13358155]\n",
      "Epoch: [144],step: [19600], mri_ssim_loss: [0.18476886], pet_ssim_loss: [0.29351604],  total_ssim_loss: [0.23914245], total_l2_loss: [0.01227440], total_loss: [0.23687376]\n",
      "Epoch: [144],step: [19700], mri_ssim_loss: [0.38765705], pet_ssim_loss: [0.22130835],  total_ssim_loss: [0.30448270], total_l2_loss: [0.01333221], total_loss: [0.30157122]\n",
      "Epoch: [145],step: [19800], mri_ssim_loss: [0.15422618], pet_ssim_loss: [0.27811992],  total_ssim_loss: [0.21617305], total_l2_loss: [0.01164039], total_loss: [0.21412773]\n",
      "Epoch: [146],step: [19900], mri_ssim_loss: [0.14073467], pet_ssim_loss: [0.19393289],  total_ssim_loss: [0.16733378], total_l2_loss: [0.01303252], total_loss: [0.16579077]\n",
      "Epoch: [147],step: [20000], mri_ssim_loss: [0.24332142], pet_ssim_loss: [0.31543052],  total_ssim_loss: [0.27937597], total_l2_loss: [0.01101664], total_loss: [0.27669239]\n",
      "Epoch: [147],step: [20100], mri_ssim_loss: [0.59987205], pet_ssim_loss: [0.23473293],  total_ssim_loss: [0.41730249], total_l2_loss: [0.01027224], total_loss: [0.41323221]\n",
      "Epoch: [148],step: [20200], mri_ssim_loss: [0.23123258], pet_ssim_loss: [0.32744110],  total_ssim_loss: [0.27933684], total_l2_loss: [0.01437631], total_loss: [0.27668723]\n",
      "Epoch: [149],step: [20300], mri_ssim_loss: [0.29982305], pet_ssim_loss: [0.21952832],  total_ssim_loss: [0.25967568], total_l2_loss: [0.03017592], total_loss: [0.25738066]\n",
      "Epoch: [149],step: [20400], mri_ssim_loss: [0.49698192], pet_ssim_loss: [0.26728028],  total_ssim_loss: [0.38213110], total_l2_loss: [0.01931978], total_loss: [0.37850299]\n",
      "Epoch: [150],step: [20500], mri_ssim_loss: [0.32616639], pet_ssim_loss: [0.27469933],  total_ssim_loss: [0.30043286], total_l2_loss: [0.02257842], total_loss: [0.29765433]\n",
      "Epoch: [151],step: [20600], mri_ssim_loss: [0.11259103], pet_ssim_loss: [0.14649546],  total_ssim_loss: [0.12954324], total_l2_loss: [0.01384950], total_loss: [0.12838630]\n",
      "Epoch: [152],step: [20700], mri_ssim_loss: [0.36319178], pet_ssim_loss: [0.22512817],  total_ssim_loss: [0.29415998], total_l2_loss: [0.01919155], total_loss: [0.29141030]\n",
      "Epoch: [152],step: [20800], mri_ssim_loss: [0.17376018], pet_ssim_loss: [0.16599983],  total_ssim_loss: [0.16988000], total_l2_loss: [0.00918289], total_loss: [0.16827305]\n",
      "Epoch: [153],step: [20900], mri_ssim_loss: [0.31125420], pet_ssim_loss: [0.21497267],  total_ssim_loss: [0.26311344], total_l2_loss: [0.01970294], total_loss: [0.26067933]\n",
      "Epoch: [154],step: [21000], mri_ssim_loss: [0.12034851], pet_ssim_loss: [0.14382529],  total_ssim_loss: [0.13208690], total_l2_loss: [0.01091627], total_loss: [0.13087520]\n",
      "Epoch: [155],step: [21100], mri_ssim_loss: [0.21354461], pet_ssim_loss: [0.45143402],  total_ssim_loss: [0.33248931], total_l2_loss: [0.01218242], total_loss: [0.32928625]\n",
      "Epoch: [155],step: [21200], mri_ssim_loss: [0.27295363], pet_ssim_loss: [0.14600003],  total_ssim_loss: [0.20947683], total_l2_loss: [0.01042125], total_loss: [0.20748629]\n",
      "Epoch: [156],step: [21300], mri_ssim_loss: [0.17776418], pet_ssim_loss: [0.23124123],  total_ssim_loss: [0.20450270], total_l2_loss: [0.01062280], total_loss: [0.20256391]\n",
      "Epoch: [157],step: [21400], mri_ssim_loss: [0.13310653], pet_ssim_loss: [0.17340100],  total_ssim_loss: [0.15325376], total_l2_loss: [0.01264550], total_loss: [0.15184768]\n",
      "Epoch: [158],step: [21500], mri_ssim_loss: [0.18733513], pet_ssim_loss: [0.30787551],  total_ssim_loss: [0.24760532], total_l2_loss: [0.01469224], total_loss: [0.24527620]\n",
      "Epoch: [158],step: [21600], mri_ssim_loss: [0.56123912], pet_ssim_loss: [0.24044293],  total_ssim_loss: [0.40084103], total_l2_loss: [0.01981539], total_loss: [0.39703077]\n",
      "Epoch: [159],step: [21700], mri_ssim_loss: [0.18111020], pet_ssim_loss: [0.20487934],  total_ssim_loss: [0.19299477], total_l2_loss: [0.00787928], total_loss: [0.19114363]\n",
      "Epoch: [160],step: [21800], mri_ssim_loss: [0.21582973], pet_ssim_loss: [0.16656721],  total_ssim_loss: [0.19119847], total_l2_loss: [0.01597501], total_loss: [0.18944624]\n",
      "Epoch: [161],step: [21900], mri_ssim_loss: [0.25303006], pet_ssim_loss: [0.15850163],  total_ssim_loss: [0.20576584], total_l2_loss: [0.00773393], total_loss: [0.20378552]\n",
      "Epoch: [161],step: [22000], mri_ssim_loss: [0.21470690], pet_ssim_loss: [0.23784935],  total_ssim_loss: [0.22627813], total_l2_loss: [0.01019713], total_loss: [0.22411731]\n",
      "Epoch: [162],step: [22100], mri_ssim_loss: [0.12191075], pet_ssim_loss: [0.11771494],  total_ssim_loss: [0.11981285], total_l2_loss: [0.02080926], total_loss: [0.11882281]\n",
      "Epoch: [163],step: [22200], mri_ssim_loss: [0.33600324], pet_ssim_loss: [0.26468003],  total_ssim_loss: [0.30034164], total_l2_loss: [0.02961447], total_loss: [0.29763436]\n",
      "Epoch: [163],step: [22300], mri_ssim_loss: [0.35535014], pet_ssim_loss: [0.15919685],  total_ssim_loss: [0.25727350], total_l2_loss: [0.02041873], total_loss: [0.25490493]\n",
      "Epoch: [164],step: [22400], mri_ssim_loss: [0.21892804], pet_ssim_loss: [0.25262547],  total_ssim_loss: [0.23577675], total_l2_loss: [0.00969406], total_loss: [0.23351593]\n",
      "Epoch: [165],step: [22500], mri_ssim_loss: [0.11996341], pet_ssim_loss: [0.15294129],  total_ssim_loss: [0.13645235], total_l2_loss: [0.01228246], total_loss: [0.13521065]\n",
      "Epoch: [166],step: [22600], mri_ssim_loss: [0.18325090], pet_ssim_loss: [0.38272512],  total_ssim_loss: [0.28298801], total_l2_loss: [0.01022996], total_loss: [0.28026044]\n",
      "Epoch: [166],step: [22700], mri_ssim_loss: [0.18942821], pet_ssim_loss: [0.22114503],  total_ssim_loss: [0.20528662], total_l2_loss: [0.01672735], total_loss: [0.20340104]\n",
      "Epoch: [167],step: [22800], mri_ssim_loss: [0.22941864], pet_ssim_loss: [0.16114223],  total_ssim_loss: [0.19528043], total_l2_loss: [0.01095262], total_loss: [0.19343716]\n",
      "Epoch: [168],step: [22900], mri_ssim_loss: [0.10497558], pet_ssim_loss: [0.16909456],  total_ssim_loss: [0.13703507], total_l2_loss: [0.01097993], total_loss: [0.13577452]\n",
      "Epoch: [169],step: [23000], mri_ssim_loss: [0.17037892], pet_ssim_loss: [0.31323820],  total_ssim_loss: [0.24180856], total_l2_loss: [0.01250187], total_loss: [0.23951550]\n",
      "Epoch: [169],step: [23100], mri_ssim_loss: [0.38456511], pet_ssim_loss: [0.19298494],  total_ssim_loss: [0.28877503], total_l2_loss: [0.01353599], total_loss: [0.28602263]\n",
      "Epoch: [170],step: [23200], mri_ssim_loss: [0.12679523], pet_ssim_loss: [0.28969479],  total_ssim_loss: [0.20824501], total_l2_loss: [0.01215063], total_loss: [0.20628406]\n",
      "Epoch: [171],step: [23300], mri_ssim_loss: [0.15583348], pet_ssim_loss: [0.18252200],  total_ssim_loss: [0.16917774], total_l2_loss: [0.01394507], total_loss: [0.16762541]\n",
      "Epoch: [172],step: [23400], mri_ssim_loss: [0.40608156], pet_ssim_loss: [0.48851275],  total_ssim_loss: [0.44729716], total_l2_loss: [0.01127038], total_loss: [0.44293690]\n",
      "Epoch: [172],step: [23500], mri_ssim_loss: [0.56764019], pet_ssim_loss: [0.27452588],  total_ssim_loss: [0.42108303], total_l2_loss: [0.01023710], total_loss: [0.41697457]\n",
      "Epoch: [173],step: [23600], mri_ssim_loss: [0.21648163], pet_ssim_loss: [0.32532418],  total_ssim_loss: [0.27090290], total_l2_loss: [0.01431007], total_loss: [0.26833698]\n",
      "Epoch: [174],step: [23700], mri_ssim_loss: [0.30756658], pet_ssim_loss: [0.21301240],  total_ssim_loss: [0.26028949], total_l2_loss: [0.03144988], total_loss: [0.25800109]\n",
      "Epoch: [174],step: [23800], mri_ssim_loss: [0.35387456], pet_ssim_loss: [0.09451485],  total_ssim_loss: [0.22419471], total_l2_loss: [0.01772996], total_loss: [0.22213006]\n",
      "Epoch: [175],step: [23900], mri_ssim_loss: [0.35474956], pet_ssim_loss: [0.23507637],  total_ssim_loss: [0.29491296], total_l2_loss: [0.02333676], total_loss: [0.29219723]\n",
      "Epoch: [176],step: [24000], mri_ssim_loss: [0.11868316], pet_ssim_loss: [0.11975777],  total_ssim_loss: [0.11922047], total_l2_loss: [0.01436239], total_loss: [0.11817189]\n",
      "Epoch: [177],step: [24100], mri_ssim_loss: [0.32733047], pet_ssim_loss: [0.25422084],  total_ssim_loss: [0.29077566], total_l2_loss: [0.01842399], total_loss: [0.28805214]\n",
      "Epoch: [177],step: [24200], mri_ssim_loss: [0.14648139], pet_ssim_loss: [0.18747604],  total_ssim_loss: [0.16697872], total_l2_loss: [0.00961513], total_loss: [0.16540509]\n",
      "Epoch: [178],step: [24300], mri_ssim_loss: [0.29058290], pet_ssim_loss: [0.21752280],  total_ssim_loss: [0.25405285], total_l2_loss: [0.01866223], total_loss: [0.25169894]\n",
      "Epoch: [179],step: [24400], mri_ssim_loss: [0.11865830], pet_ssim_loss: [0.14789641],  total_ssim_loss: [0.13327736], total_l2_loss: [0.01153175], total_loss: [0.13205990]\n",
      "Epoch: [180],step: [24500], mri_ssim_loss: [0.19511878], pet_ssim_loss: [0.41298711],  total_ssim_loss: [0.30405295], total_l2_loss: [0.01204446], total_loss: [0.30113286]\n",
      "Epoch: [180],step: [24600], mri_ssim_loss: [0.27594328], pet_ssim_loss: [0.14165884],  total_ssim_loss: [0.20880106], total_l2_loss: [0.01082209], total_loss: [0.20682128]\n",
      "Epoch: [181],step: [24700], mri_ssim_loss: [0.14935774], pet_ssim_loss: [0.25885844],  total_ssim_loss: [0.20410809], total_l2_loss: [0.01049273], total_loss: [0.20217195]\n",
      "Epoch: [182],step: [24800], mri_ssim_loss: [0.12607992], pet_ssim_loss: [0.20658755],  total_ssim_loss: [0.16633373], total_l2_loss: [0.01298720], total_loss: [0.16480027]\n",
      "Epoch: [183],step: [24900], mri_ssim_loss: [0.21049130], pet_ssim_loss: [0.30162036],  total_ssim_loss: [0.25605583], total_l2_loss: [0.01616531], total_loss: [0.25365692]\n",
      "Epoch: [183],step: [25000], mri_ssim_loss: [0.53819650], pet_ssim_loss: [0.24693668],  total_ssim_loss: [0.39256659], total_l2_loss: [0.01970307], total_loss: [0.38883796]\n",
      "Epoch: [184],step: [25100], mri_ssim_loss: [0.18103063], pet_ssim_loss: [0.19346756],  total_ssim_loss: [0.18724909], total_l2_loss: [0.00772877], total_loss: [0.18545389]\n",
      "Epoch: [185],step: [25200], mri_ssim_loss: [0.22012526], pet_ssim_loss: [0.16644824],  total_ssim_loss: [0.19328675], total_l2_loss: [0.01662936], total_loss: [0.19152018]\n",
      "Epoch: [186],step: [25300], mri_ssim_loss: [0.23813641], pet_ssim_loss: [0.16888791],  total_ssim_loss: [0.20351216], total_l2_loss: [0.00777606], total_loss: [0.20155479]\n",
      "Epoch: [186],step: [25400], mri_ssim_loss: [0.22304034], pet_ssim_loss: [0.24465406],  total_ssim_loss: [0.23384720], total_l2_loss: [0.01047598], total_loss: [0.23161349]\n",
      "Epoch: [187],step: [25500], mri_ssim_loss: [0.11986101], pet_ssim_loss: [0.10724974],  total_ssim_loss: [0.11355537], total_l2_loss: [0.01897626], total_loss: [0.11260958]\n",
      "Epoch: [188],step: [25600], mri_ssim_loss: [0.34886986], pet_ssim_loss: [0.24546540],  total_ssim_loss: [0.29716763], total_l2_loss: [0.03006312], total_loss: [0.29449660]\n",
      "Epoch: [188],step: [25700], mri_ssim_loss: [0.35745013], pet_ssim_loss: [0.16817176],  total_ssim_loss: [0.26281095], total_l2_loss: [0.02060364], total_loss: [0.26038885]\n",
      "Epoch: [189],step: [25800], mri_ssim_loss: [0.21399689], pet_ssim_loss: [0.21764576],  total_ssim_loss: [0.21582133], total_l2_loss: [0.01002208], total_loss: [0.21376334]\n",
      "Epoch: [190],step: [25900], mri_ssim_loss: [0.11616123], pet_ssim_loss: [0.13079435],  total_ssim_loss: [0.12347779], total_l2_loss: [0.01272041], total_loss: [0.12237021]\n",
      "Epoch: [191],step: [26000], mri_ssim_loss: [0.14681828], pet_ssim_loss: [0.40106565],  total_ssim_loss: [0.27394196], total_l2_loss: [0.01016352], total_loss: [0.27130416]\n",
      "Epoch: [191],step: [26100], mri_ssim_loss: [0.19644821], pet_ssim_loss: [0.20760250],  total_ssim_loss: [0.20202535], total_l2_loss: [0.01634876], total_loss: [0.20016858]\n",
      "Epoch: [192],step: [26200], mri_ssim_loss: [0.19968492], pet_ssim_loss: [0.17557108],  total_ssim_loss: [0.18762800], total_l2_loss: [0.01102079], total_loss: [0.18586193]\n",
      "Epoch: [193],step: [26300], mri_ssim_loss: [0.12439460], pet_ssim_loss: [0.16122437],  total_ssim_loss: [0.14280948], total_l2_loss: [0.01220268], total_loss: [0.14150341]\n",
      "Epoch: [194],step: [26400], mri_ssim_loss: [0.16581792], pet_ssim_loss: [0.32160568],  total_ssim_loss: [0.24371180], total_l2_loss: [0.01245757], total_loss: [0.24139926]\n",
      "Epoch: [194],step: [26500], mri_ssim_loss: [0.41566133], pet_ssim_loss: [0.21443444],  total_ssim_loss: [0.31504789], total_l2_loss: [0.01279123], total_loss: [0.31202534]\n",
      "Epoch: [195],step: [26600], mri_ssim_loss: [0.12291896], pet_ssim_loss: [0.30329192],  total_ssim_loss: [0.21310544], total_l2_loss: [0.01245337], total_loss: [0.21109891]\n",
      "Epoch: [196],step: [26700], mri_ssim_loss: [0.12509120], pet_ssim_loss: [0.19891739],  total_ssim_loss: [0.16200429], total_l2_loss: [0.01338767], total_loss: [0.16051812]\n",
      "Epoch: [197],step: [26800], mri_ssim_loss: [0.22921437], pet_ssim_loss: [0.32201803],  total_ssim_loss: [0.27561620], total_l2_loss: [0.01117468], total_loss: [0.27297181]\n",
      "Epoch: [197],step: [26900], mri_ssim_loss: [0.47342503], pet_ssim_loss: [0.33385348],  total_ssim_loss: [0.40363926], total_l2_loss: [0.01031455], total_loss: [0.39970601]\n",
      "Epoch: [198],step: [27000], mri_ssim_loss: [0.27058971], pet_ssim_loss: [0.32324076],  total_ssim_loss: [0.29691523], total_l2_loss: [0.01485751], total_loss: [0.29409465]\n",
      "Epoch: [199],step: [27100], mri_ssim_loss: [0.31496578], pet_ssim_loss: [0.19840163],  total_ssim_loss: [0.25668371], total_l2_loss: [0.03074127], total_loss: [0.25442427]\n",
      "Epoch: [199],step: [27200], mri_ssim_loss: [0.35472924], pet_ssim_loss: [0.09159732],  total_ssim_loss: [0.22316328], total_l2_loss: [0.01798938], total_loss: [0.22111154]\n"
     ]
    },
    {
     "name": "stderr",
     "output_type": "stream",
     "text": [
      "/software/ml/JupyterHub/conda-env-20191018-0822/lib/python3.6/site-packages/torch/serialization.py:256: UserWarning: Couldn't retrieve source code for container of type MaskNet. It won't be checked for correctness upon loading.\n",
      "  \"type \" + obj.__name__ + \". It won't be checked \"\n"
     ]
    }
   ],
   "source": [
    "# perform the training\n",
    "counter = 0\n",
    "start_time = time.time()\n",
    "lamda = 0.99\n",
    "gamma_ssim = 0.5\n",
    "gamma_l2 = 0.494\n",
    "ep_ssim_mri_loss = []\n",
    "ep_ssim_pet_loss = []\n",
    "ep_l2_mri_loss = []\n",
    "ep_l2_pet_loss = []\n",
    "for epoch in range(EPOCH):\n",
    "    ssim_mri_Loss = []\n",
    "    ssim_pet_Loss = []\n",
    "    l2_mri_Loss = []\n",
    "    l2_pet_Loss = []\n",
    "    #run batch images\n",
    "    batch_idxs = 272 // batch_size\n",
    "    for idx in range(0, batch_idxs):\n",
    "        b_x = train_mri_tensor[idx*batch_size : (idx+1)*batch_size,:,:,:].to(device)\n",
    "        b_y = train_pet_tensor[idx*batch_size : (idx+1)*batch_size,:,:,:].to(device)\n",
    "        counter += 1\n",
    "        output = cnn(b_x,b_y)               # cnn output\n",
    "        ssim_loss_mri = 1 - ssim(output, b_x,data_range=1)\n",
    "        ssim_loss_pet = 1 - ssim(output, b_y,data_range=1)\n",
    "        l2_loss_mri   = l2_loss(output,b_x)\n",
    "        l2_loss_pet   = l2_loss(output,b_y)\n",
    "        ssim_total = gamma_ssim*ssim_loss_mri + (1-gamma_ssim)*ssim_loss_pet\n",
    "        l2_total = gamma_l2*l2_loss_mri + (1-gamma_l2)*l2_loss_pet\n",
    "        loss_total = lamda*ssim_total + (1-lamda)*l2_total \n",
    "        optimizer.zero_grad()           # clear gradients for this training step\n",
    "        loss_total.backward()           # backpropagation, compute gradients\n",
    "        optimizer.step()                # apply gradients\n",
    "    \n",
    "        #store all the loss values at each epoch\n",
    "        ssim_mri_Loss.append(ssim_loss_mri.item())\n",
    "        ssim_pet_Loss.append(ssim_loss_pet.item())\n",
    "        l2_mri_Loss.append(l2_loss_mri.item())\n",
    "        l2_pet_Loss.append(l2_loss_pet.item())\n",
    "\n",
    "        if counter % 100 == 0:\n",
    "            print(\"Epoch: [%2d],step: [%2d], mri_ssim_loss: [%.8f], pet_ssim_loss: [%.8f],  total_ssim_loss: [%.8f], total_l2_loss: [%.8f], total_loss: [%.8f]\" \n",
    "            %(epoch, counter, ssim_loss_mri, ssim_loss_pet, ssim_total, l2_total, loss_total))\n",
    "\n",
    "    av_ssim_mri_loss = np.average(ssim_mri_Loss)\n",
    "    ep_ssim_mri_loss.append(av_ssim_mri_loss)\n",
    "    \n",
    "    av_ssim_pet_loss = np.average(ssim_pet_Loss)\n",
    "    ep_ssim_pet_loss.append(av_ssim_pet_loss)\n",
    "    \n",
    "    av_l2_mri_loss = np.average(l2_mri_Loss)\n",
    "    ep_l2_mri_loss.append(av_l2_mri_loss)\n",
    "    \n",
    "    av_l2_pet_loss = np.average(l2_pet_Loss)\n",
    "    ep_l2_pet_loss.append(av_l2_pet_loss)\n",
    "    \n",
    "\n",
    "    if(epoch == EPOCH -1):\n",
    "      #Save a checkpoint\n",
    "      torch.save(cnn, '/home/h1/s8993054/Forschungprojekt/MaskNet/Checkpoint/checkpoint_lambda_0.99_gamma_ssim_0.5_gamma_l2_0.494.pth') "
   ]
  },
  {
   "cell_type": "code",
   "execution_count": 17,
   "metadata": {},
   "outputs": [],
   "source": [
    "l1 = np.asarray(ep_ssim_mri_loss)\n",
    "l2 = np.asarray(ep_ssim_pet_loss)\n",
    "l3 = np.asarray(ep_l2_mri_loss)\n",
    "l4 = np.asarray(ep_l2_pet_loss)"
   ]
  },
  {
   "cell_type": "code",
   "execution_count": 18,
   "metadata": {},
   "outputs": [],
   "source": [
    "h5f = h5py.File('/home/h1/s8993054/Forschungprojekt/MaskNet/Loss curves/H5 Files/lamda_0.99/gamma_0.5_0.494_ssim_mri.h5', 'w')\n",
    "h5f.create_dataset('data', data=l1)\n",
    "h5f.close()\n",
    "\n",
    "h5f = h5py.File('/home/h1/s8993054/Forschungprojekt/MaskNet/Loss curves/H5 Files/lamda_0.99/gamma_0.5_0.494_ssim_pet.h5', 'w')\n",
    "h5f.create_dataset('data', data=l2)\n",
    "h5f.close()\n",
    "\n",
    "h5f = h5py.File('/home/h1/s8993054/Forschungprojekt/MaskNet/Loss curves/H5 Files/lamda_0.99/gamma_0.5_0.494_l2_mri.h5', 'w')\n",
    "h5f.create_dataset('data', data=l3)\n",
    "h5f.close()\n",
    "\n",
    "h5f = h5py.File('/home/h1/s8993054/Forschungprojekt/MaskNet/Loss curves/H5 Files/lamda_0.99/gamma_0.5_0.494_l2_pet.h5', 'w')\n",
    "h5f.create_dataset('data', data=l4)\n",
    "h5f.close()"
   ]
  },
  {
   "cell_type": "code",
   "execution_count": 62,
   "metadata": {},
   "outputs": [],
   "source": [
    "h5f = h5py.File('/home/h1/s8993054/Forschungprojekt/MaskNet/Loss curves/H5 Files/lamda_0.99/gamma_0.5_0.494_l2_mri.h5', 'w')\n",
    "h5f.create_dataset('data', data=l3)\n",
    "h5f.close()\n",
    "\n",
    "h5f = h5py.File('/home/h1/s8993054/Forschungprojekt/MaskNet/Loss curves/H5 Files/lamda_0.99/gamma_0.5_0.494_l2_pet.h5', 'w')\n",
    "h5f.create_dataset('data', data=l4)\n",
    "h5f.close()"
   ]
  },
  {
   "cell_type": "code",
   "execution_count": 19,
   "metadata": {},
   "outputs": [
    {
     "name": "stderr",
     "output_type": "stream",
     "text": [
      "The PostScript backend does not support transparency; partially transparent artists will be rendered opaque.\n",
      "The PostScript backend does not support transparency; partially transparent artists will be rendered opaque.\n"
     ]
    },
    {
     "data": {
      "image/png": "[encoded data removed]",
      "text/plain": [
       "<Figure size 432x288 with 1 Axes>"
      ]
     },
     "metadata": {
      "needs_background": "light"
     },
     "output_type": "display_data"
    }
   ],
   "source": [
    "#FunFuseAn SSIM gamma_ssim = 0.1 gamma_l2 = 0.1\n",
    "fontP = FontProperties()\n",
    "fontP.set_size('large')\n",
    "plt.plot(l1,'b',label='$1-SSIM_{MRI}$')\n",
    "plt.plot(l2,'c',label='$1-SSIM_{PET}$')\n",
    "plt.xlabel('epoch',fontsize= 15)\n",
    "plt.ylabel('Loss values',fontsize= 15)\n",
    "plt.legend(loc=1, prop=fontP)\n",
    "plt.title('MaskNet $\\lambda = 0.99, \\gamma_{ssim} = 0.5, \\gamma_{l2} = 0.494$',fontsize='15')\n",
    "plt.savefig('/home/h1/s8993054/Forschungprojekt/MaskNet/Loss curves/Images/lamda_0.99/gamma_0.5_0.494_ssim.eps', format='eps', dpi=100)"
   ]
  },
  {
   "cell_type": "code",
   "execution_count": 63,
   "metadata": {},
   "outputs": [
    {
     "name": "stderr",
     "output_type": "stream",
     "text": [
      "The PostScript backend does not support transparency; partially transparent artists will be rendered opaque.\n",
      "The PostScript backend does not support transparency; partially transparent artists will be rendered opaque.\n"
     ]
    },
    {
     "data": {
      "image/png": "[encoded data removed]",
      "text/plain": [
       "<Figure size 432x288 with 1 Axes>"
      ]
     },
     "metadata": {
      "needs_background": "light"
     },
     "output_type": "display_data"
    }
   ],
   "source": [
    "#FunFuseAn L2 gamma_ssim = 0.1 gamma_l2 = 0.1\n",
    "fontP = FontProperties()\n",
    "fontP.set_size('large')\n",
    "plt.plot(l3,'b',label='$l2_{MRI}$')\n",
    "plt.plot(l4,'c',label='$l2_{PET}$')\n",
    "plt.xlabel('epoch',fontsize= 15)\n",
    "plt.ylabel('Loss values',fontsize= 15)\n",
    "plt.legend(loc=1, prop=fontP)\n",
    "plt.title('MaskNet $\\lambda = 0.99, \\gamma_{ssim} = 0.5, \\gamma_{l2} = 0.494$',fontsize='15')\n",
    "plt.savefig('/home/h1/s8993054/Forschungprojekt/MaskNet/Loss curves/Images/lamda_0.99/gamma_0.5_0.494_l2.eps', format='eps', dpi=100)"
   ]
  },
  {
   "cell_type": "code",
   "execution_count": null,
   "metadata": {},
   "outputs": [],
   "source": []
  }
 ],
 "metadata": {
  "kernelspec": {
   "display_name": "Python 3",
   "language": "python",
   "name": "python3"
  },
  "language_info": {
   "codemirror_mode": {
    "name": "ipython",
    "version": 3
   },
   "file_extension": ".py",
   "mimetype": "text/x-python",
   "name": "python",
   "nbconvert_exporter": "python",
   "pygments_lexer": "ipython3",
   "version": "3.6.9"
  }
 },
 "nbformat": 4,
 "nbformat_minor": 4
}
