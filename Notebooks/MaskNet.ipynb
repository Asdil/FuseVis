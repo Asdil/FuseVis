{
 "cells": [
  {
   "cell_type": "markdown",
   "metadata": {},
   "source": [
    "# This is the pytorch implementation of the paper \"Structural Similarity based Anatomical and Functional Brain Imaging Fusion\""
   ]
  },
  {
   "cell_type": "code",
   "execution_count": 1,
   "metadata": {},
   "outputs": [],
   "source": [
    "import sys\n",
    "sys.path.append(\"/home/h1/s8993054/.local/lib/python3.6/site-packages/\") # go to parent dir"
   ]
  },
  {
   "cell_type": "code",
   "execution_count": 2,
   "metadata": {},
   "outputs": [],
   "source": [
    "#Import packages\n",
    "import time\n",
    "import torch.nn as nn\n",
    "import torch\n",
    "from torch.utils.data import Dataset, DataLoader\n",
    "import torchvision.datasets as datasets\n",
    "import numpy as np\n",
    "from torchvision import transforms\n",
    "from torch.autograd import Variable\n",
    "from PIL import Image\n",
    "import torchvision.transforms.functional as TF\n",
    "from torchvision.models.vgg import vgg19\n",
    "import torch.nn as nn\n",
    "import torch.nn.functional as F\n",
    "import torch\n",
    "from skimage import img_as_ubyte\n",
    "import torch.nn as nn\n",
    "import torch.utils.data as Data\n",
    "import torchvision      # dataset\n",
    "import matplotlib.pyplot as plt\n",
    "import scipy\n",
    "import numpy as np\n",
    "import argparse\n",
    "import glob\n",
    "import imageio\n",
    "from skimage import color\n",
    "import numpy\n",
    "import natsort\n",
    "import scipy\n",
    "from pytorch_msssim import ssim, ms_ssim, SSIM, MS_SSIM\n",
    "import pprint\n",
    "from scipy.ndimage import correlate\n",
    "from scipy.ndimage.filters import gaussian_gradient_magnitude\n",
    "import torchvision.datasets as dset\n",
    "import torch.utils.data as data\n",
    "import os\n",
    "import os.path\n",
    "from tkinter import *\n",
    "import tkinter as tk\n",
    "import tkinter.font as tkFont\n",
    "from PIL import ImageTk, Image\n",
    "import pylab\n",
    "import cv2\n",
    "import h5py\n",
    "from mpl_toolkits.axes_grid1 import make_axes_locatable\n",
    "from matplotlib.font_manager import FontProperties"
   ]
  },
  {
   "cell_type": "code",
   "execution_count": 3,
   "metadata": {},
   "outputs": [
    {
     "name": "stdout",
     "output_type": "stream",
     "text": [
      "33822867456\n"
     ]
    }
   ],
   "source": [
    "device = 'cuda' if torch.cuda.is_available() else 'cpu'\n",
    "print(torch.cuda.get_device_properties(0).total_memory)"
   ]
  },
  {
   "cell_type": "code",
   "execution_count": 4,
   "metadata": {},
   "outputs": [
    {
     "data": {
      "text/plain": [
       "176"
      ]
     },
     "execution_count": 4,
     "metadata": {},
     "output_type": "execute_result"
    }
   ],
   "source": [
    "import multiprocessing\n",
    "\n",
    "multiprocessing.cpu_count()"
   ]
  },
  {
   "cell_type": "code",
   "execution_count": 5,
   "metadata": {},
   "outputs": [],
   "source": [
    "#define the hyperparameters\n",
    "image_length = 256\n",
    "image_width  = 256\n",
    "mr_channels  = 1\n",
    "gray_channels = 1\n",
    "pet_channels = 4    \n",
    "rgb_channels = 3     \n",
    "batch_size   =2\n",
    "EPOCH = 200\n",
    "learning_rate = 0.0002"
   ]
  },
  {
   "cell_type": "code",
   "execution_count": 6,
   "metadata": {},
   "outputs": [],
   "source": [
    "#load the train mri data\n",
    "filenames = os.listdir('/home/h1/s8993054/Forschungprojekt/Training/MRI')\n",
    "dataset = os.path.join(os.getcwd(), '/home/h1/s8993054/Forschungprojekt/Training/MRI')\n",
    "data = glob.glob(os.path.join(dataset, \"*.gif\"))\n",
    "data = natsort.natsorted(data,reverse=False)\n",
    "train_mri = np.zeros((len(data), image_width,image_length))\n",
    "for i in range(len(data)):\n",
    "    train_mri[i,:,:] =(imageio.imread(data[i]))\n",
    "    train_mri[i,:,:] =(train_mri[i,:,:] - np.min(train_mri[i,:,:])) / (np.max(train_mri[i,:,:]) - np.min(train_mri[i,:,:]))\n",
    "    train_mri[i,:,:] = np.float32(train_mri[i,:,:])"
   ]
  },
  {
   "cell_type": "code",
   "execution_count": 7,
   "metadata": {},
   "outputs": [],
   "source": [
    "#expand dimension to add the channel\n",
    "train_mri = np.expand_dims(train_mri,axis=1)"
   ]
  },
  {
   "cell_type": "code",
   "execution_count": 8,
   "metadata": {},
   "outputs": [
    {
     "data": {
      "text/plain": [
       "(272, 1, 256, 256)"
      ]
     },
     "execution_count": 8,
     "metadata": {},
     "output_type": "execute_result"
    }
   ],
   "source": [
    "#verify the shape matches the pytorch standard\n",
    "train_mri.shape"
   ]
  },
  {
   "cell_type": "code",
   "execution_count": 9,
   "metadata": {},
   "outputs": [
    {
     "data": {
      "text/plain": [
       "torch.Size([272, 1, 256, 256])"
      ]
     },
     "execution_count": 9,
     "metadata": {},
     "output_type": "execute_result"
    }
   ],
   "source": [
    "#convert the MRI training data to pytorch tensor\n",
    "train_mri_tensor = torch.from_numpy(train_mri).float()\n",
    "train_mri_tensor.shape"
   ]
  },
  {
   "cell_type": "code",
   "execution_count": 10,
   "metadata": {},
   "outputs": [],
   "source": [
    "#load the train pet data\n",
    "filenames = os.listdir('/home/h1/s8993054/Forschungprojekt/Training/PET')\n",
    "dataset = os.path.join(os.getcwd(), '/home/h1/s8993054/Forschungprojekt/Training/PET')\n",
    "data = glob.glob(os.path.join(dataset, \"*.gif\"))\n",
    "data = natsort.natsorted(data,reverse=False)\n",
    "train_other = np.zeros((len(data),image_width,image_length,pet_channels),dtype=float)\n",
    "train_pet = np.zeros((len(data),image_width,image_length),dtype=float)\n",
    "for i in range(len(data)):\n",
    "    train_other[i,:,:,:] =(imageio.imread(data[i]))\n",
    "    train_pet[i,:,:] = 0.2989 * train_other[i,:,:,0] + 0.5870 *  train_other[i,:,:,1]  + 0.1140 * train_other[i,:,:,2]\n",
    "    train_pet[i,:,:] =(train_pet[i,:,:] - np.min(train_pet[i,:,:])) / (np.max(train_pet[i,:,:]) - np.min(train_pet[i,:,:]))"
   ]
  },
  {
   "cell_type": "code",
   "execution_count": 11,
   "metadata": {},
   "outputs": [],
   "source": [
    "#expand the dimension to add the channel\n",
    "train_pet = np.expand_dims(train_pet,axis=1)"
   ]
  },
  {
   "cell_type": "code",
   "execution_count": 12,
   "metadata": {},
   "outputs": [
    {
     "data": {
      "text/plain": [
       "(272, 1, 256, 256)"
      ]
     },
     "execution_count": 12,
     "metadata": {},
     "output_type": "execute_result"
    }
   ],
   "source": [
    "#verify the shape matches the pytorch standard\n",
    "train_pet.shape"
   ]
  },
  {
   "cell_type": "code",
   "execution_count": 13,
   "metadata": {},
   "outputs": [
    {
     "data": {
      "text/plain": [
       "torch.Size([272, 1, 256, 256])"
      ]
     },
     "execution_count": 13,
     "metadata": {},
     "output_type": "execute_result"
    }
   ],
   "source": [
    "#convert the PET training data to pytorch tensor\n",
    "train_pet_tensor = torch.from_numpy(train_pet).float()\n",
    "train_pet_tensor.shape"
   ]
  },
  {
   "cell_type": "code",
   "execution_count": 14,
   "metadata": {},
   "outputs": [
    {
     "name": "stdout",
     "output_type": "stream",
     "text": [
      "MaskNet(\n",
      "  (layer1): Sequential(\n",
      "    (0): Conv2d(2, 48, kernel_size=(3, 3), stride=(1, 1), padding=(1, 1))\n",
      "    (1): BatchNorm2d(48, eps=1e-05, momentum=0.1, affine=True, track_running_stats=True)\n",
      "    (2): LeakyReLU(negative_slope=0.2, inplace)\n",
      "  )\n",
      "  (layer2): Sequential(\n",
      "    (0): Conv2d(48, 48, kernel_size=(3, 3), stride=(1, 1), padding=(1, 1))\n",
      "    (1): BatchNorm2d(48, eps=1e-05, momentum=0.1, affine=True, track_running_stats=True)\n",
      "    (2): LeakyReLU(negative_slope=0.2, inplace)\n",
      "  )\n",
      "  (layer3): Sequential(\n",
      "    (0): Conv2d(96, 48, kernel_size=(3, 3), stride=(1, 1), padding=(1, 1))\n",
      "    (1): BatchNorm2d(48, eps=1e-05, momentum=0.1, affine=True, track_running_stats=True)\n",
      "    (2): LeakyReLU(negative_slope=0.2, inplace)\n",
      "  )\n",
      "  (layer4): Sequential(\n",
      "    (0): Conv2d(144, 48, kernel_size=(3, 3), stride=(1, 1), padding=(1, 1))\n",
      "    (1): BatchNorm2d(48, eps=1e-05, momentum=0.1, affine=True, track_running_stats=True)\n",
      "    (2): LeakyReLU(negative_slope=0.2, inplace)\n",
      "  )\n",
      "  (layer5): Sequential(\n",
      "    (0): Conv2d(192, 192, kernel_size=(3, 3), stride=(1, 1), padding=(1, 1))\n",
      "    (1): BatchNorm2d(192, eps=1e-05, momentum=0.1, affine=True, track_running_stats=True)\n",
      "    (2): LeakyReLU(negative_slope=0.2, inplace)\n",
      "  )\n",
      "  (layer6): Sequential(\n",
      "    (0): Conv2d(192, 128, kernel_size=(3, 3), stride=(1, 1), padding=(1, 1))\n",
      "    (1): BatchNorm2d(128, eps=1e-05, momentum=0.1, affine=True, track_running_stats=True)\n",
      "    (2): LeakyReLU(negative_slope=0.2, inplace)\n",
      "  )\n",
      "  (layer7): Sequential(\n",
      "    (0): Conv2d(128, 64, kernel_size=(3, 3), stride=(1, 1), padding=(1, 1))\n",
      "    (1): BatchNorm2d(64, eps=1e-05, momentum=0.1, affine=True, track_running_stats=True)\n",
      "    (2): LeakyReLU(negative_slope=0.2, inplace)\n",
      "  )\n",
      "  (layer8): Sequential(\n",
      "    (0): Conv2d(64, 1, kernel_size=(3, 3), stride=(1, 1), padding=(1, 1))\n",
      "    (1): BatchNorm2d(1, eps=1e-05, momentum=0.1, affine=True, track_running_stats=True)\n",
      "    (2): LeakyReLU(negative_slope=0.2, inplace)\n",
      "  )\n",
      ")\n"
     ]
    }
   ],
   "source": [
    "#define the Mask-Net network\n",
    "class MaskNet(nn.Module):\n",
    "    def  __init__(self):\n",
    "        super(MaskNet, self).__init__()\n",
    "        #####encoder layer 1#####\n",
    "        self.layer1 = nn.Sequential(  #input shape (,2,256,256)\n",
    "                         nn.Conv2d(in_channels=2, out_channels=48, kernel_size=3, stride=1, padding=1),\n",
    "                         nn.BatchNorm2d(48),\n",
    "                         nn.LeakyReLU(0.2,inplace=True)) #output shape (,48,256,256)   \n",
    "        #####encoder layer 2#####\n",
    "        self.layer2 = nn.Sequential(  #input shape (,48,256,256)\n",
    "                         nn.Conv2d(in_channels = 48, out_channels = 48, kernel_size  = 3, stride= 1, padding = 1),\n",
    "                         nn.BatchNorm2d(48),\n",
    "                         nn.LeakyReLU(0.2,inplace=True))  #output shape (,48,256,256)\n",
    "        #####encoder layer 3#####\n",
    "        self.layer3 = nn.Sequential(  #input shape (,96,256,256)\n",
    "                         nn.Conv2d(in_channels = 96, out_channels = 48, kernel_size  = 3, stride= 1, padding = 1),\n",
    "                         nn.BatchNorm2d(48),\n",
    "                         nn.LeakyReLU(0.2,inplace=True))  #output shape (,48,256,256)     \n",
    "        #####encoder layer 4#####\n",
    "        self.layer4 = nn.Sequential(  #input shape (,144,256,256)\n",
    "                         nn.Conv2d(in_channels = 144, out_channels = 48, kernel_size  = 3, stride= 1, padding = 1),\n",
    "                         nn.BatchNorm2d(48),\n",
    "                         nn.LeakyReLU(0.2,inplace=True))  #output shape (,48,256,256) \n",
    "        #####decoder layer 1#####\n",
    "        self.layer5 = nn.Sequential(  #input shape (,192,256,256)\n",
    "                         nn.Conv2d(in_channels = 192, out_channels = 192, kernel_size  = 3, stride= 1, padding = 1),\n",
    "                         nn.BatchNorm2d(192),\n",
    "                         nn.LeakyReLU(0.2,inplace=True))  #output shape (,192,256,256)    \n",
    "        #####decoder layer 2#####\n",
    "        self.layer6 = nn.Sequential(  #input shape (,192,256,256)\n",
    "                         nn.Conv2d(in_channels = 192, out_channels = 128, kernel_size  = 3, stride= 1, padding = 1),\n",
    "                         nn.BatchNorm2d(128),\n",
    "                         nn.LeakyReLU(0.2,inplace=True))  #output shape (,128,256,256)    \n",
    "        #####decoder layer 3#####\n",
    "        self.layer7 = nn.Sequential(  #input shape (,128,256,256)\n",
    "                         nn.Conv2d(in_channels = 128, out_channels = 64, kernel_size  = 3, stride= 1, padding = 1),\n",
    "                         nn.BatchNorm2d(64),\n",
    "                         nn.LeakyReLU(0.2,inplace=True))  #output shape (,64,256,256)  \n",
    "        #####decoder layer 4#####\n",
    "        self.layer8 = nn.Sequential(  #input shape (,64,256,256)\n",
    "                         nn.Conv2d(in_channels = 64, out_channels = 1, kernel_size  = 3, stride= 1, padding = 1),\n",
    "                         nn.BatchNorm2d(1),\n",
    "                         nn.LeakyReLU(0.2,inplace=True))  #output shape (,1,256,256)          \n",
    " \n",
    "    def forward(self, x, y):\n",
    "        #encoder layer 1\n",
    "        en1 = self.layer1(torch.cat((x,y),dim=1))\n",
    "        #encoder layer 2\n",
    "        en2 = self.layer2(en1)\n",
    "        #concat layer 1\n",
    "        concat1 = torch.cat((en1,en2),dim=1)\n",
    "        #encoder layer 3\n",
    "        en3 = self.layer3(concat1)\n",
    "        #concat layer 2\n",
    "        concat2 = torch.cat((concat1,en3),dim=1)\n",
    "        #encoder layer 4\n",
    "        en4 = self.layer4(concat2)\n",
    "        #concat layer 3\n",
    "        concat3 = torch.cat((concat2,en4),dim=1)\n",
    "        #decoder layer 1\n",
    "        dec1 = self.layer5(concat3)\n",
    "        #decoder layer 2\n",
    "        dec2 = self.layer6(dec1)\n",
    "        #decoder layer 3\n",
    "        dec3 = self.layer7(dec2)\n",
    "        #decoder layer 4\n",
    "        dec4 = self.layer8(dec3)\n",
    "        #tanh layer\n",
    "        fused = torch.tanh(dec4)      \n",
    "        return fused\n",
    "        #execute the network\n",
    "\n",
    "cnn = MaskNet().to(device)\n",
    "cnn = cnn.float()\n",
    "print(cnn)"
   ]
  },
  {
   "cell_type": "code",
   "execution_count": 15,
   "metadata": {},
   "outputs": [],
   "source": [
    "#define the optimizers and loss functions \n",
    "optimizer = torch.optim.Adam(cnn.parameters(), lr=learning_rate)   # optimize all cnn parameters\n",
    "l2_loss   = nn.MSELoss() #MSEloss"
   ]
  },
  {
   "cell_type": "code",
   "execution_count": 16,
   "metadata": {},
   "outputs": [
    {
     "name": "stdout",
     "output_type": "stream",
     "text": [
      "Epoch: [ 0],step: [100], mri_ssim_loss: [0.81105685], pet_ssim_loss: [0.71773612],  total_ssim_loss: [0.76159680], total_l2_loss: [0.09087256], total_loss: [0.75488955]\n",
      "Epoch: [ 1],step: [200], mri_ssim_loss: [0.88455111], pet_ssim_loss: [0.89365351],  total_ssim_loss: [0.88937533], total_l2_loss: [0.04144714], total_loss: [0.88089609]\n",
      "Epoch: [ 2],step: [300], mri_ssim_loss: [0.67904109], pet_ssim_loss: [0.74930698],  total_ssim_loss: [0.71628201], total_l2_loss: [0.04073346], total_loss: [0.70952654]\n",
      "Epoch: [ 2],step: [400], mri_ssim_loss: [0.82760954], pet_ssim_loss: [0.71476400],  total_ssim_loss: [0.76780140], total_l2_loss: [0.03768814], total_loss: [0.76050025]\n",
      "Epoch: [ 3],step: [500], mri_ssim_loss: [0.67804360], pet_ssim_loss: [0.62497818],  total_ssim_loss: [0.64991891], total_l2_loss: [0.02829747], total_loss: [0.64370275]\n",
      "Epoch: [ 4],step: [600], mri_ssim_loss: [0.83235461], pet_ssim_loss: [0.82466626],  total_ssim_loss: [0.82827973], total_l2_loss: [0.03726299], total_loss: [0.82036960]\n",
      "Epoch: [ 5],step: [700], mri_ssim_loss: [0.67996770], pet_ssim_loss: [0.67931026],  total_ssim_loss: [0.67961919], total_l2_loss: [0.03462688], total_loss: [0.67316926]\n",
      "Epoch: [ 5],step: [800], mri_ssim_loss: [0.69884145], pet_ssim_loss: [0.70104778],  total_ssim_loss: [0.70001078], total_l2_loss: [0.03444774], total_loss: [0.69335514]\n",
      "Epoch: [ 6],step: [900], mri_ssim_loss: [0.71813989], pet_ssim_loss: [0.76826149],  total_ssim_loss: [0.74470437], total_l2_loss: [0.02305228], total_loss: [0.73748785]\n",
      "Epoch: [ 7],step: [1000], mri_ssim_loss: [0.75702894], pet_ssim_loss: [0.83526677],  total_ssim_loss: [0.79849494], total_l2_loss: [0.02827332], total_loss: [0.79079270]\n",
      "Epoch: [ 8],step: [1100], mri_ssim_loss: [0.68861008], pet_ssim_loss: [0.66609198],  total_ssim_loss: [0.67667544], total_l2_loss: [0.02932731], total_loss: [0.67020196]\n",
      "Epoch: [ 8],step: [1200], mri_ssim_loss: [0.56898314], pet_ssim_loss: [0.71018231],  total_ssim_loss: [0.64381868], total_l2_loss: [0.06781478], total_loss: [0.63805860]\n",
      "Epoch: [ 9],step: [1300], mri_ssim_loss: [0.80433363], pet_ssim_loss: [0.77388722],  total_ssim_loss: [0.78819704], total_l2_loss: [0.03472488], total_loss: [0.78066236]\n",
      "Epoch: [10],step: [1400], mri_ssim_loss: [0.89196444], pet_ssim_loss: [0.77793729],  total_ssim_loss: [0.83153003], total_l2_loss: [0.04395685], total_loss: [0.82365435]\n",
      "Epoch: [11],step: [1500], mri_ssim_loss: [0.85907614], pet_ssim_loss: [0.74359888],  total_ssim_loss: [0.79787314], total_l2_loss: [0.04967417], total_loss: [0.79039115]\n",
      "Epoch: [11],step: [1600], mri_ssim_loss: [0.48464525], pet_ssim_loss: [0.31387138],  total_ssim_loss: [0.39413509], total_l2_loss: [0.04039394], total_loss: [0.39059767]\n",
      "Epoch: [12],step: [1700], mri_ssim_loss: [0.18387628], pet_ssim_loss: [0.13591629],  total_ssim_loss: [0.15845749], total_l2_loss: [0.03933167], total_loss: [0.15726623]\n",
      "Epoch: [13],step: [1800], mri_ssim_loss: [0.63935494], pet_ssim_loss: [0.48505574],  total_ssim_loss: [0.55757636], total_l2_loss: [0.07362453], total_loss: [0.55273682]\n",
      "Epoch: [13],step: [1900], mri_ssim_loss: [0.50242066], pet_ssim_loss: [0.39153147],  total_ssim_loss: [0.44364938], total_l2_loss: [0.05225277], total_loss: [0.43973541]\n",
      "Epoch: [14],step: [2000], mri_ssim_loss: [0.27314031], pet_ssim_loss: [0.39786518],  total_ssim_loss: [0.33924448], total_l2_loss: [0.03189690], total_loss: [0.33617103]\n",
      "Epoch: [15],step: [2100], mri_ssim_loss: [0.18753183], pet_ssim_loss: [0.14878607],  total_ssim_loss: [0.16699657], total_l2_loss: [0.02879136], total_loss: [0.16561453]\n",
      "Epoch: [16],step: [2200], mri_ssim_loss: [0.42445332], pet_ssim_loss: [0.35851908],  total_ssim_loss: [0.38950819], total_l2_loss: [0.04713126], total_loss: [0.38608444]\n",
      "Epoch: [16],step: [2300], mri_ssim_loss: [0.44684553], pet_ssim_loss: [0.46692401],  total_ssim_loss: [0.45748711], total_l2_loss: [0.05338937], total_loss: [0.45344615]\n",
      "Epoch: [17],step: [2400], mri_ssim_loss: [0.29877818], pet_ssim_loss: [0.28508830],  total_ssim_loss: [0.29152253], total_l2_loss: [0.04062787], total_loss: [0.28901356]\n",
      "Epoch: [18],step: [2500], mri_ssim_loss: [0.20464396], pet_ssim_loss: [0.19988441],  total_ssim_loss: [0.20212141], total_l2_loss: [0.03106904], total_loss: [0.20041089]\n",
      "Epoch: [19],step: [2600], mri_ssim_loss: [0.39154691], pet_ssim_loss: [0.47177559],  total_ssim_loss: [0.43406808], total_l2_loss: [0.04986373], total_loss: [0.43022603]\n",
      "Epoch: [19],step: [2700], mri_ssim_loss: [0.46860218], pet_ssim_loss: [0.60778469],  total_ssim_loss: [0.54236889], total_l2_loss: [0.03768918], total_loss: [0.53732210]\n",
      "Epoch: [20],step: [2800], mri_ssim_loss: [0.51612544], pet_ssim_loss: [0.58489442],  total_ssim_loss: [0.55257297], total_l2_loss: [0.03101099], total_loss: [0.54735738]\n",
      "Epoch: [21],step: [2900], mri_ssim_loss: [0.32820296], pet_ssim_loss: [0.29611778],  total_ssim_loss: [0.31119782], total_l2_loss: [0.03408043], total_loss: [0.30842662]\n",
      "Epoch: [22],step: [3000], mri_ssim_loss: [0.45543170], pet_ssim_loss: [0.50782597],  total_ssim_loss: [0.48320067], total_l2_loss: [0.03749673], total_loss: [0.47874364]\n",
      "Epoch: [22],step: [3100], mri_ssim_loss: [0.77452660], pet_ssim_loss: [0.36314207],  total_ssim_loss: [0.55649281], total_l2_loss: [0.02648122], total_loss: [0.55119270]\n",
      "Epoch: [23],step: [3200], mri_ssim_loss: [0.50888550], pet_ssim_loss: [0.41235048],  total_ssim_loss: [0.45772192], total_l2_loss: [0.05509100], total_loss: [0.45369560]\n",
      "Epoch: [24],step: [3300], mri_ssim_loss: [0.41441715], pet_ssim_loss: [0.35679340],  total_ssim_loss: [0.38387656], total_l2_loss: [0.08860651], total_loss: [0.38092387]\n",
      "Epoch: [24],step: [3400], mri_ssim_loss: [0.72652608], pet_ssim_loss: [0.70158505],  total_ssim_loss: [0.71330732], total_l2_loss: [0.03663438], total_loss: [0.70654058]\n",
      "Epoch: [25],step: [3500], mri_ssim_loss: [0.51979965], pet_ssim_loss: [0.35736883],  total_ssim_loss: [0.43371129], total_l2_loss: [0.05648464], total_loss: [0.42993903]\n",
      "Epoch: [26],step: [3600], mri_ssim_loss: [0.20304227], pet_ssim_loss: [0.20977890],  total_ssim_loss: [0.20661268], total_l2_loss: [0.02782213], total_loss: [0.20482478]\n",
      "Epoch: [27],step: [3700], mri_ssim_loss: [0.41640413], pet_ssim_loss: [0.39386678],  total_ssim_loss: [0.40445933], total_l2_loss: [0.05373447], total_loss: [0.40095207]\n",
      "Epoch: [27],step: [3800], mri_ssim_loss: [0.24323106], pet_ssim_loss: [0.29791176],  total_ssim_loss: [0.27221182], total_l2_loss: [0.03577022], total_loss: [0.26984739]\n",
      "Epoch: [28],step: [3900], mri_ssim_loss: [0.46901524], pet_ssim_loss: [0.49706197],  total_ssim_loss: [0.48387998], total_l2_loss: [0.05117374], total_loss: [0.47955292]\n",
      "Epoch: [29],step: [4000], mri_ssim_loss: [0.20672303], pet_ssim_loss: [0.17357928],  total_ssim_loss: [0.18915683], total_l2_loss: [0.02938266], total_loss: [0.18755908]\n",
      "Epoch: [30],step: [4100], mri_ssim_loss: [0.41485590], pet_ssim_loss: [0.44383168],  total_ssim_loss: [0.43021303], total_l2_loss: [0.05086129], total_loss: [0.42641953]\n",
      "Epoch: [30],step: [4200], mri_ssim_loss: [0.30036026], pet_ssim_loss: [0.29850674],  total_ssim_loss: [0.29937789], total_l2_loss: [0.03373485], total_loss: [0.29672149]\n",
      "Epoch: [31],step: [4300], mri_ssim_loss: [0.35934705], pet_ssim_loss: [0.43176711],  total_ssim_loss: [0.39772967], total_l2_loss: [0.03951724], total_loss: [0.39414755]\n",
      "Epoch: [32],step: [4400], mri_ssim_loss: [0.36945605], pet_ssim_loss: [0.34952831],  total_ssim_loss: [0.35889435], total_l2_loss: [0.02688629], total_loss: [0.35557428]\n",
      "Epoch: [33],step: [4500], mri_ssim_loss: [0.41259277], pet_ssim_loss: [0.53763336],  total_ssim_loss: [0.47886425], total_l2_loss: [0.05716984], total_loss: [0.47464731]\n",
      "Epoch: [33],step: [4600], mri_ssim_loss: [0.67406583], pet_ssim_loss: [0.39661086],  total_ssim_loss: [0.52701467], total_l2_loss: [0.06034592], total_loss: [0.52234799]\n",
      "Epoch: [34],step: [4700], mri_ssim_loss: [0.27067387], pet_ssim_loss: [0.18599021],  total_ssim_loss: [0.22579151], total_l2_loss: [0.03003146], total_loss: [0.22383392]\n",
      "Epoch: [35],step: [4800], mri_ssim_loss: [0.31078124], pet_ssim_loss: [0.25974983],  total_ssim_loss: [0.28373459], total_l2_loss: [0.04709036], total_loss: [0.28136817]\n",
      "Epoch: [36],step: [4900], mri_ssim_loss: [0.36664993], pet_ssim_loss: [0.37691760],  total_ssim_loss: [0.37209177], total_l2_loss: [0.03558902], total_loss: [0.36872676]\n",
      "Epoch: [36],step: [5000], mri_ssim_loss: [0.37387031], pet_ssim_loss: [0.39611799],  total_ssim_loss: [0.38566157], total_l2_loss: [0.04077071], total_loss: [0.38221267]\n",
      "Epoch: [37],step: [5100], mri_ssim_loss: [0.11442918], pet_ssim_loss: [0.14312690],  total_ssim_loss: [0.12963897], total_l2_loss: [0.02542589], total_loss: [0.12859684]\n",
      "Epoch: [38],step: [5200], mri_ssim_loss: [0.42222607], pet_ssim_loss: [0.40218228],  total_ssim_loss: [0.41160285], total_l2_loss: [0.07531501], total_loss: [0.40823999]\n",
      "Epoch: [38],step: [5300], mri_ssim_loss: [0.38234878], pet_ssim_loss: [0.32036197],  total_ssim_loss: [0.34949577], total_l2_loss: [0.05057339], total_loss: [0.34650657]\n",
      "Epoch: [39],step: [5400], mri_ssim_loss: [0.27247351], pet_ssim_loss: [0.35661942],  total_ssim_loss: [0.31707084], total_l2_loss: [0.04054352], total_loss: [0.31430557]\n",
      "Epoch: [40],step: [5500], mri_ssim_loss: [0.14749849], pet_ssim_loss: [0.17549151],  total_ssim_loss: [0.16233478], total_l2_loss: [0.02544399], total_loss: [0.16096587]\n",
      "Epoch: [41],step: [5600], mri_ssim_loss: [0.31114107], pet_ssim_loss: [0.45535910],  total_ssim_loss: [0.38757661], total_l2_loss: [0.03970259], total_loss: [0.38409787]\n",
      "Epoch: [41],step: [5700], mri_ssim_loss: [0.29598707], pet_ssim_loss: [0.35268533],  total_ssim_loss: [0.32603714], total_l2_loss: [0.05049933], total_loss: [0.32328176]\n",
      "Epoch: [42],step: [5800], mri_ssim_loss: [0.24710810], pet_ssim_loss: [0.25793684],  total_ssim_loss: [0.25284731], total_l2_loss: [0.03671850], total_loss: [0.25068605]\n",
      "Epoch: [43],step: [5900], mri_ssim_loss: [0.21664727], pet_ssim_loss: [0.21268702],  total_ssim_loss: [0.21454832], total_l2_loss: [0.02722728], total_loss: [0.21267511]\n",
      "Epoch: [44],step: [6000], mri_ssim_loss: [0.27931452], pet_ssim_loss: [0.45768178],  total_ssim_loss: [0.37384915], total_l2_loss: [0.04590300], total_loss: [0.37056968]\n",
      "Epoch: [44],step: [6100], mri_ssim_loss: [0.55600345], pet_ssim_loss: [0.30522376],  total_ssim_loss: [0.42309022], total_l2_loss: [0.03527036], total_loss: [0.41921204]\n",
      "Epoch: [45],step: [6200], mri_ssim_loss: [0.25552595], pet_ssim_loss: [0.34360182],  total_ssim_loss: [0.30220616], total_l2_loss: [0.03736094], total_loss: [0.29955772]\n",
      "Epoch: [46],step: [6300], mri_ssim_loss: [0.40159529], pet_ssim_loss: [0.37035394],  total_ssim_loss: [0.38503736], total_l2_loss: [0.02792844], total_loss: [0.38146627]\n",
      "Epoch: [47],step: [6400], mri_ssim_loss: [0.35889262], pet_ssim_loss: [0.40046966],  total_ssim_loss: [0.38092846], total_l2_loss: [0.03713284], total_loss: [0.37749052]\n",
      "Epoch: [47],step: [6500], mri_ssim_loss: [0.51043361], pet_ssim_loss: [0.46010172],  total_ssim_loss: [0.48375767], total_l2_loss: [0.02549220], total_loss: [0.47917503]\n",
      "Epoch: [48],step: [6600], mri_ssim_loss: [0.43829405], pet_ssim_loss: [0.35089421],  total_ssim_loss: [0.39197212], total_l2_loss: [0.04652210], total_loss: [0.38851762]\n",
      "Epoch: [49],step: [6700], mri_ssim_loss: [0.42972946], pet_ssim_loss: [0.37627083],  total_ssim_loss: [0.40139639], total_l2_loss: [0.07059920], total_loss: [0.39808843]\n",
      "Epoch: [49],step: [6800], mri_ssim_loss: [0.31680197], pet_ssim_loss: [0.26394534],  total_ssim_loss: [0.28878796], total_l2_loss: [0.03151999], total_loss: [0.28621528]\n",
      "Epoch: [50],step: [6900], mri_ssim_loss: [0.47949141], pet_ssim_loss: [0.33804154],  total_ssim_loss: [0.40452296], total_l2_loss: [0.04819080], total_loss: [0.40095964]\n",
      "Epoch: [51],step: [7000], mri_ssim_loss: [0.14154601], pet_ssim_loss: [0.16743493],  total_ssim_loss: [0.15526712], total_l2_loss: [0.02276233], total_loss: [0.15394208]\n",
      "Epoch: [52],step: [7100], mri_ssim_loss: [0.38331485], pet_ssim_loss: [0.38366854],  total_ssim_loss: [0.38350230], total_l2_loss: [0.04841898], total_loss: [0.38015148]\n",
      "Epoch: [52],step: [7200], mri_ssim_loss: [0.19235742], pet_ssim_loss: [0.28314686],  total_ssim_loss: [0.24047580], total_l2_loss: [0.02943723], total_loss: [0.23836543]\n",
      "Epoch: [53],step: [7300], mri_ssim_loss: [0.38556945], pet_ssim_loss: [0.31950361],  total_ssim_loss: [0.35055453], total_l2_loss: [0.04637476], total_loss: [0.34751275]\n",
      "Epoch: [54],step: [7400], mri_ssim_loss: [0.19647896], pet_ssim_loss: [0.18368667],  total_ssim_loss: [0.18969905], total_l2_loss: [0.02602123], total_loss: [0.18806228]\n",
      "Epoch: [55],step: [7500], mri_ssim_loss: [0.42041016], pet_ssim_loss: [0.52962798],  total_ssim_loss: [0.47829556], total_l2_loss: [0.03786232], total_loss: [0.47389123]\n",
      "Epoch: [55],step: [7600], mri_ssim_loss: [0.31907725], pet_ssim_loss: [0.25076902],  total_ssim_loss: [0.28287387], total_l2_loss: [0.02882813], total_loss: [0.28033340]\n",
      "Epoch: [56],step: [7700], mri_ssim_loss: [0.30726153], pet_ssim_loss: [0.21372062],  total_ssim_loss: [0.25768483], total_l2_loss: [0.03153135], total_loss: [0.25542328]\n",
      "Epoch: [57],step: [7800], mri_ssim_loss: [0.25815582], pet_ssim_loss: [0.15651357],  total_ssim_loss: [0.20428541], total_l2_loss: [0.02693445], total_loss: [0.20251191]\n",
      "Epoch: [58],step: [7900], mri_ssim_loss: [0.32014841], pet_ssim_loss: [0.36365795],  total_ssim_loss: [0.34320843], total_l2_loss: [0.04743138], total_loss: [0.34025064]\n",
      "Epoch: [58],step: [8000], mri_ssim_loss: [0.60829175], pet_ssim_loss: [0.29998529],  total_ssim_loss: [0.44488931], total_l2_loss: [0.04888275], total_loss: [0.44092923]\n",
      "Epoch: [59],step: [8100], mri_ssim_loss: [0.26353264], pet_ssim_loss: [0.11876279],  total_ssim_loss: [0.18680462], total_l2_loss: [0.02421119], total_loss: [0.18517870]\n",
      "Epoch: [60],step: [8200], mri_ssim_loss: [0.32442296], pet_ssim_loss: [0.20784402],  total_ssim_loss: [0.26263613], total_l2_loss: [0.03905590], total_loss: [0.26040033]\n",
      "Epoch: [61],step: [8300], mri_ssim_loss: [0.35185111], pet_ssim_loss: [0.24012184],  total_ssim_loss: [0.29263461], total_l2_loss: [0.03042455], total_loss: [0.29001251]\n",
      "Epoch: [61],step: [8400], mri_ssim_loss: [0.37709308], pet_ssim_loss: [0.29219151],  total_ssim_loss: [0.33209524], total_l2_loss: [0.03243164], total_loss: [0.32909858]\n",
      "Epoch: [62],step: [8500], mri_ssim_loss: [0.15551209], pet_ssim_loss: [0.09624100],  total_ssim_loss: [0.12409841], total_l2_loss: [0.02419621], total_loss: [0.12309939]\n",
      "Epoch: [63],step: [8600], mri_ssim_loss: [0.80023158], pet_ssim_loss: [0.65936518],  total_ssim_loss: [0.72557235], total_l2_loss: [0.06632300], total_loss: [0.71897984]\n",
      "Epoch: [63],step: [8700], mri_ssim_loss: [0.40613765], pet_ssim_loss: [0.21618462],  total_ssim_loss: [0.30546254], total_l2_loss: [0.04514362], total_loss: [0.30285937]\n",
      "Epoch: [64],step: [8800], mri_ssim_loss: [0.29825741], pet_ssim_loss: [0.30313468],  total_ssim_loss: [0.30084234], total_l2_loss: [0.02937343], total_loss: [0.29812765]\n",
      "Epoch: [65],step: [8900], mri_ssim_loss: [0.17270160], pet_ssim_loss: [0.11519670],  total_ssim_loss: [0.14222400], total_l2_loss: [0.02365084], total_loss: [0.14103827]\n",
      "Epoch: [66],step: [9000], mri_ssim_loss: [0.35867649], pet_ssim_loss: [0.33214331],  total_ssim_loss: [0.34461391], total_l2_loss: [0.03509713], total_loss: [0.34151876]\n",
      "Epoch: [66],step: [9100], mri_ssim_loss: [0.29830050], pet_ssim_loss: [0.29627216],  total_ssim_loss: [0.29722548], total_l2_loss: [0.03601010], total_loss: [0.29461333]\n",
      "Epoch: [67],step: [9200], mri_ssim_loss: [0.32054126], pet_ssim_loss: [0.19984162],  total_ssim_loss: [0.25657046], total_l2_loss: [0.02906431], total_loss: [0.25429538]\n",
      "Epoch: [68],step: [9300], mri_ssim_loss: [0.19628000], pet_ssim_loss: [0.11749709],  total_ssim_loss: [0.15452506], total_l2_loss: [0.02628406], total_loss: [0.15324265]\n",
      "Epoch: [69],step: [9400], mri_ssim_loss: [0.39346337], pet_ssim_loss: [0.42213422],  total_ssim_loss: [0.40865892], total_l2_loss: [0.03760122], total_loss: [0.40494835]\n",
      "Epoch: [69],step: [9500], mri_ssim_loss: [0.63333362], pet_ssim_loss: [0.26730323],  total_ssim_loss: [0.43933749], total_l2_loss: [0.02936981], total_loss: [0.43523782]\n",
      "Epoch: [70],step: [9600], mri_ssim_loss: [0.28015172], pet_ssim_loss: [0.26581967],  total_ssim_loss: [0.27255571], total_l2_loss: [0.03223231], total_loss: [0.27015248]\n",
      "Epoch: [71],step: [9700], mri_ssim_loss: [0.35924447], pet_ssim_loss: [0.24085450],  total_ssim_loss: [0.29649776], total_l2_loss: [0.02629374], total_loss: [0.29379573]\n",
      "Epoch: [72],step: [9800], mri_ssim_loss: [0.41911185], pet_ssim_loss: [0.26320451],  total_ssim_loss: [0.33648095], total_l2_loss: [0.03533661], total_loss: [0.33346951]\n",
      "Epoch: [72],step: [9900], mri_ssim_loss: [0.57277119], pet_ssim_loss: [0.35542512],  total_ssim_loss: [0.45757776], total_l2_loss: [0.02254761], total_loss: [0.45322749]\n",
      "Epoch: [73],step: [10000], mri_ssim_loss: [0.44697523], pet_ssim_loss: [0.21948636],  total_ssim_loss: [0.32640612], total_l2_loss: [0.03958897], total_loss: [0.32353795]\n",
      "Epoch: [74],step: [10100], mri_ssim_loss: [0.40938413], pet_ssim_loss: [0.22745740],  total_ssim_loss: [0.31296295], total_l2_loss: [0.06174028], total_loss: [0.31045073]\n",
      "Epoch: [74],step: [10200], mri_ssim_loss: [0.40079510], pet_ssim_loss: [0.19318807],  total_ssim_loss: [0.29076338], total_l2_loss: [0.02881919], total_loss: [0.28814393]\n",
      "Epoch: [75],step: [10300], mri_ssim_loss: [0.53912032], pet_ssim_loss: [0.32371390],  total_ssim_loss: [0.42495492], total_l2_loss: [0.04164123], total_loss: [0.42112178]\n",
      "Epoch: [76],step: [10400], mri_ssim_loss: [0.17221212], pet_ssim_loss: [0.10374761],  total_ssim_loss: [0.13592592], total_l2_loss: [0.02169053], total_loss: [0.13478357]\n",
      "Epoch: [77],step: [10500], mri_ssim_loss: [0.48765123], pet_ssim_loss: [0.30809915],  total_ssim_loss: [0.39248860], total_l2_loss: [0.04574888], total_loss: [0.38902122]\n",
      "Epoch: [77],step: [10600], mri_ssim_loss: [0.22377872], pet_ssim_loss: [0.22829175],  total_ssim_loss: [0.22617063], total_l2_loss: [0.02569009], total_loss: [0.22416583]\n",
      "Epoch: [78],step: [10700], mri_ssim_loss: [0.38298035], pet_ssim_loss: [0.27126253],  total_ssim_loss: [0.32376990], total_l2_loss: [0.04158713], total_loss: [0.32094806]\n",
      "Epoch: [79],step: [10800], mri_ssim_loss: [0.26117778], pet_ssim_loss: [0.14791155],  total_ssim_loss: [0.20114666], total_l2_loss: [0.02360434], total_loss: [0.19937125]\n",
      "Epoch: [80],step: [10900], mri_ssim_loss: [0.45534039], pet_ssim_loss: [0.26818788],  total_ssim_loss: [0.35614955], total_l2_loss: [0.03532663], total_loss: [0.35294133]\n",
      "Epoch: [80],step: [11000], mri_ssim_loss: [0.32650125], pet_ssim_loss: [0.16459775],  total_ssim_loss: [0.24069238], total_l2_loss: [0.02710842], total_loss: [0.23855653]\n",
      "Epoch: [81],step: [11100], mri_ssim_loss: [0.31911373], pet_ssim_loss: [0.15541732],  total_ssim_loss: [0.23235463], total_l2_loss: [0.02738202], total_loss: [0.23030491]\n",
      "Epoch: [82],step: [11200], mri_ssim_loss: [0.24357134], pet_ssim_loss: [0.10705698],  total_ssim_loss: [0.17121872], total_l2_loss: [0.02655043], total_loss: [0.16977204]\n",
      "Epoch: [83],step: [11300], mri_ssim_loss: [0.34598732], pet_ssim_loss: [0.24528396],  total_ssim_loss: [0.29261452], total_l2_loss: [0.04329635], total_loss: [0.29012135]\n",
      "Epoch: [83],step: [11400], mri_ssim_loss: [0.54907602], pet_ssim_loss: [0.29993129],  total_ssim_loss: [0.41702932], total_l2_loss: [0.04444361], total_loss: [0.41330346]\n",
      "Epoch: [84],step: [11500], mri_ssim_loss: [0.28987181], pet_ssim_loss: [0.10890293],  total_ssim_loss: [0.19395830], total_l2_loss: [0.01997622], total_loss: [0.19221848]\n",
      "Epoch: [85],step: [11600], mri_ssim_loss: [0.35033584], pet_ssim_loss: [0.17540944],  total_ssim_loss: [0.25762483], total_l2_loss: [0.03590973], total_loss: [0.25540769]\n",
      "Epoch: [86],step: [11700], mri_ssim_loss: [0.32809818], pet_ssim_loss: [0.15998733],  total_ssim_loss: [0.23899943], total_l2_loss: [0.02565229], total_loss: [0.23686595]\n",
      "Epoch: [86],step: [11800], mri_ssim_loss: [0.38429344], pet_ssim_loss: [0.18685985],  total_ssim_loss: [0.27965361], total_l2_loss: [0.03126106], total_loss: [0.27716967]\n",
      "Epoch: [87],step: [11900], mri_ssim_loss: [0.17583591], pet_ssim_loss: [0.05916846],  total_ssim_loss: [0.11400215], total_l2_loss: [0.02310750], total_loss: [0.11309320]\n",
      "Epoch: [88],step: [12000], mri_ssim_loss: [0.47479898], pet_ssim_loss: [0.21789640],  total_ssim_loss: [0.33864060], total_l2_loss: [0.05425290], total_loss: [0.33579671]\n",
      "Epoch: [88],step: [12100], mri_ssim_loss: [0.42127204], pet_ssim_loss: [0.16669077],  total_ssim_loss: [0.28634396], total_l2_loss: [0.03796041], total_loss: [0.28386012]\n",
      "Epoch: [89],step: [12200], mri_ssim_loss: [0.31966990], pet_ssim_loss: [0.20652652],  total_ssim_loss: [0.25970390], total_l2_loss: [0.02715553], total_loss: [0.25737843]\n",
      "Epoch: [90],step: [12300], mri_ssim_loss: [0.19747758], pet_ssim_loss: [0.08395672],  total_ssim_loss: [0.13731152], total_l2_loss: [0.02249841], total_loss: [0.13616338]\n",
      "Epoch: [91],step: [12400], mri_ssim_loss: [0.41292274], pet_ssim_loss: [0.23791194],  total_ssim_loss: [0.32016701], total_l2_loss: [0.02938960], total_loss: [0.31725925]\n",
      "Epoch: [91],step: [12500], mri_ssim_loss: [0.30292904], pet_ssim_loss: [0.20421517],  total_ssim_loss: [0.25061068], total_l2_loss: [0.03414735], total_loss: [0.24844605]\n",
      "Epoch: [92],step: [12600], mri_ssim_loss: [0.28815484], pet_ssim_loss: [0.13931203],  total_ssim_loss: [0.20926815], total_l2_loss: [0.02610145], total_loss: [0.20743649]\n",
      "Epoch: [93],step: [12700], mri_ssim_loss: [0.26289451], pet_ssim_loss: [0.13146037],  total_ssim_loss: [0.19323441], total_l2_loss: [0.02491351], total_loss: [0.19155121]\n",
      "Epoch: [94],step: [12800], mri_ssim_loss: [0.45954669], pet_ssim_loss: [0.37399340],  total_ssim_loss: [0.41420341], total_l2_loss: [0.03154700], total_loss: [0.41037685]\n",
      "Epoch: [94],step: [12900], mri_ssim_loss: [0.59710288], pet_ssim_loss: [0.18812954],  total_ssim_loss: [0.38034701], total_l2_loss: [0.02636514], total_loss: [0.37680721]\n",
      "Epoch: [95],step: [13000], mri_ssim_loss: [0.31782568], pet_ssim_loss: [0.24300349],  total_ssim_loss: [0.27816990], total_l2_loss: [0.02805158], total_loss: [0.27566874]\n",
      "Epoch: [96],step: [13100], mri_ssim_loss: [0.36292529], pet_ssim_loss: [0.17322451],  total_ssim_loss: [0.26238388], total_l2_loss: [0.02530179], total_loss: [0.26001307]\n",
      "Epoch: [97],step: [13200], mri_ssim_loss: [0.41967696], pet_ssim_loss: [0.21280336],  total_ssim_loss: [0.31003395], total_l2_loss: [0.03116578], total_loss: [0.30724525]\n",
      "Epoch: [97],step: [13300], mri_ssim_loss: [0.66100442], pet_ssim_loss: [0.22206247],  total_ssim_loss: [0.42836517], total_l2_loss: [0.02109005], total_loss: [0.42429245]\n",
      "Epoch: [98],step: [13400], mri_ssim_loss: [0.43003237], pet_ssim_loss: [0.20919383],  total_ssim_loss: [0.31298792], total_l2_loss: [0.03409317], total_loss: [0.31019899]\n",
      "Epoch: [99],step: [13500], mri_ssim_loss: [0.43361169], pet_ssim_loss: [0.21320844],  total_ssim_loss: [0.31679797], total_l2_loss: [0.05767240], total_loss: [0.31420672]\n",
      "Epoch: [99],step: [13600], mri_ssim_loss: [0.37951422], pet_ssim_loss: [0.12995124],  total_ssim_loss: [0.24724583], total_l2_loss: [0.02611748], total_loss: [0.24503455]\n",
      "Epoch: [100],step: [13700], mri_ssim_loss: [0.50331092], pet_ssim_loss: [0.20932782],  total_ssim_loss: [0.34749985], total_l2_loss: [0.03981305], total_loss: [0.34442300]\n",
      "Epoch: [101],step: [13800], mri_ssim_loss: [0.20027316], pet_ssim_loss: [0.07619649],  total_ssim_loss: [0.13451253], total_l2_loss: [0.02085408], total_loss: [0.13337594]\n",
      "Epoch: [102],step: [13900], mri_ssim_loss: [0.46852422], pet_ssim_loss: [0.17932606],  total_ssim_loss: [0.31524917], total_l2_loss: [0.04187926], total_loss: [0.31251547]\n",
      "Epoch: [102],step: [14000], mri_ssim_loss: [0.22138631], pet_ssim_loss: [0.16138458],  total_ssim_loss: [0.18958539], total_l2_loss: [0.02354402], total_loss: [0.18792498]\n",
      "Epoch: [103],step: [14100], mri_ssim_loss: [0.38737226], pet_ssim_loss: [0.22455752],  total_ssim_loss: [0.30108044], total_l2_loss: [0.03844742], total_loss: [0.29845411]\n",
      "Epoch: [104],step: [14200], mri_ssim_loss: [0.23031259], pet_ssim_loss: [0.08292913],  total_ssim_loss: [0.15219936], total_l2_loss: [0.02123224], total_loss: [0.15088969]\n",
      "Epoch: [105],step: [14300], mri_ssim_loss: [0.46846783], pet_ssim_loss: [0.21219659],  total_ssim_loss: [0.33264408], total_l2_loss: [0.03272014], total_loss: [0.32964483]\n",
      "Epoch: [105],step: [14400], mri_ssim_loss: [0.32231981], pet_ssim_loss: [0.13910079],  total_ssim_loss: [0.22521371], total_l2_loss: [0.02507109], total_loss: [0.22321229]\n",
      "Epoch: [106],step: [14500], mri_ssim_loss: [0.32817769], pet_ssim_loss: [0.12047082],  total_ssim_loss: [0.21809304], total_l2_loss: [0.02574719], total_loss: [0.21616958]\n",
      "Epoch: [107],step: [14600], mri_ssim_loss: [0.27305967], pet_ssim_loss: [0.07375467],  total_ssim_loss: [0.16742802], total_l2_loss: [0.02241878], total_loss: [0.16597793]\n",
      "Epoch: [108],step: [14700], mri_ssim_loss: [0.35979593], pet_ssim_loss: [0.20137489],  total_ssim_loss: [0.27583277], total_l2_loss: [0.03917447], total_loss: [0.27346620]\n",
      "Epoch: [108],step: [14800], mri_ssim_loss: [0.51645708], pet_ssim_loss: [0.30992925],  total_ssim_loss: [0.40699732], total_l2_loss: [0.04004574], total_loss: [0.40332779]\n",
      "Epoch: [109],step: [14900], mri_ssim_loss: [0.26559830], pet_ssim_loss: [0.08536696],  total_ssim_loss: [0.17007568], total_l2_loss: [0.01748095], total_loss: [0.16854973]\n",
      "Epoch: [110],step: [15000], mri_ssim_loss: [0.37336552], pet_ssim_loss: [0.15054917],  total_ssim_loss: [0.25527287], total_l2_loss: [0.03177727], total_loss: [0.25303793]\n",
      "Epoch: [111],step: [15100], mri_ssim_loss: [0.32835799], pet_ssim_loss: [0.15145534],  total_ssim_loss: [0.23459959], total_l2_loss: [0.02242119], total_loss: [0.23247781]\n",
      "Epoch: [111],step: [15200], mri_ssim_loss: [0.35783482], pet_ssim_loss: [0.18426979],  total_ssim_loss: [0.26584533], total_l2_loss: [0.02787854], total_loss: [0.26346564]\n",
      "Epoch: [112],step: [15300], mri_ssim_loss: [0.17867184], pet_ssim_loss: [0.05483937],  total_ssim_loss: [0.11304063], total_l2_loss: [0.02077202], total_loss: [0.11211795]\n",
      "Epoch: [113],step: [15400], mri_ssim_loss: [0.47295225], pet_ssim_loss: [0.16479850],  total_ssim_loss: [0.30963075], total_l2_loss: [0.05144016], total_loss: [0.30704883]\n",
      "Epoch: [113],step: [15500], mri_ssim_loss: [0.42870963], pet_ssim_loss: [0.16372156],  total_ssim_loss: [0.28826594], total_l2_loss: [0.03407707], total_loss: [0.28572404]\n",
      "Epoch: [114],step: [15600], mri_ssim_loss: [0.30127668], pet_ssim_loss: [0.17209208],  total_ssim_loss: [0.23280884], total_l2_loss: [0.02553277], total_loss: [0.23073609]\n",
      "Epoch: [115],step: [15700], mri_ssim_loss: [0.19783556], pet_ssim_loss: [0.06358290],  total_ssim_loss: [0.12668166], total_l2_loss: [0.01946262], total_loss: [0.12560946]\n",
      "Epoch: [116],step: [15800], mri_ssim_loss: [0.42886138], pet_ssim_loss: [0.19357109],  total_ssim_loss: [0.30415753], total_l2_loss: [0.02659782], total_loss: [0.30138195]\n",
      "Epoch: [116],step: [15900], mri_ssim_loss: [0.28978860], pet_ssim_loss: [0.17044771],  total_ssim_loss: [0.22653791], total_l2_loss: [0.03154904], total_loss: [0.22458802]\n",
      "Epoch: [117],step: [16000], mri_ssim_loss: [0.29853535], pet_ssim_loss: [0.10878897],  total_ssim_loss: [0.19796976], total_l2_loss: [0.02370042], total_loss: [0.19622707]\n",
      "Epoch: [118],step: [16100], mri_ssim_loss: [0.23556125], pet_ssim_loss: [0.05933785],  total_ssim_loss: [0.14216284], total_l2_loss: [0.02046480], total_loss: [0.14094587]\n",
      "Epoch: [119],step: [16200], mri_ssim_loss: [0.40744579], pet_ssim_loss: [0.30635649],  total_ssim_loss: [0.35386842], total_l2_loss: [0.02900983], total_loss: [0.35061985]\n",
      "Epoch: [119],step: [16300], mri_ssim_loss: [0.61433005], pet_ssim_loss: [0.17189288],  total_ssim_loss: [0.37983835], total_l2_loss: [0.02368829], total_loss: [0.37627685]\n",
      "Epoch: [120],step: [16400], mri_ssim_loss: [0.31986380], pet_ssim_loss: [0.19461846],  total_ssim_loss: [0.25348377], total_l2_loss: [0.02454945], total_loss: [0.25119442]\n",
      "Epoch: [121],step: [16500], mri_ssim_loss: [0.33578324], pet_ssim_loss: [0.12514007],  total_ssim_loss: [0.22414236], total_l2_loss: [0.02358592], total_loss: [0.22213680]\n",
      "Epoch: [122],step: [16600], mri_ssim_loss: [0.44380772], pet_ssim_loss: [0.21949613],  total_ssim_loss: [0.32492256], total_l2_loss: [0.02724182], total_loss: [0.32194576]\n",
      "Epoch: [122],step: [16700], mri_ssim_loss: [0.63804102], pet_ssim_loss: [0.26367271],  total_ssim_loss: [0.43962580], total_l2_loss: [0.01981184], total_loss: [0.43542767]\n",
      "Epoch: [123],step: [16800], mri_ssim_loss: [0.44070601], pet_ssim_loss: [0.17578775],  total_ssim_loss: [0.30029935], total_l2_loss: [0.03047251], total_loss: [0.29760107]\n",
      "Epoch: [124],step: [16900], mri_ssim_loss: [0.41736054], pet_ssim_loss: [0.15939987],  total_ssim_loss: [0.28064138], total_l2_loss: [0.05268787], total_loss: [0.27836183]\n",
      "Epoch: [124],step: [17000], mri_ssim_loss: [0.37176985], pet_ssim_loss: [0.09509003],  total_ssim_loss: [0.22512953], total_l2_loss: [0.02470844], total_loss: [0.22312532]\n",
      "Epoch: [125],step: [17100], mri_ssim_loss: [0.46992111], pet_ssim_loss: [0.20854110],  total_ssim_loss: [0.33138970], total_l2_loss: [0.04272456], total_loss: [0.32850304]\n",
      "Epoch: [126],step: [17200], mri_ssim_loss: [0.19473487], pet_ssim_loss: [0.07567835],  total_ssim_loss: [0.13163492], total_l2_loss: [0.02668146], total_loss: [0.13058539]\n",
      "Epoch: [127],step: [17300], mri_ssim_loss: [0.45415568], pet_ssim_loss: [0.18764377],  total_ssim_loss: [0.31290436], total_l2_loss: [0.03905740], total_loss: [0.31016588]\n",
      "Epoch: [127],step: [17400], mri_ssim_loss: [0.27185750], pet_ssim_loss: [0.14040577],  total_ssim_loss: [0.20218809], total_l2_loss: [0.02090166], total_loss: [0.20037523]\n",
      "Epoch: [128],step: [17500], mri_ssim_loss: [0.45411021], pet_ssim_loss: [0.26509893],  total_ssim_loss: [0.35393423], total_l2_loss: [0.03638257], total_loss: [0.35075870]\n",
      "Epoch: [129],step: [17600], mri_ssim_loss: [0.23761904], pet_ssim_loss: [0.08475363],  total_ssim_loss: [0.15660037], total_l2_loss: [0.02114997], total_loss: [0.15524587]\n",
      "Epoch: [130],step: [17700], mri_ssim_loss: [0.50104773], pet_ssim_loss: [0.20450830],  total_ssim_loss: [0.34388185], total_l2_loss: [0.03106237], total_loss: [0.34075367]\n",
      "Epoch: [130],step: [17800], mri_ssim_loss: [0.34378690], pet_ssim_loss: [0.11293554],  total_ssim_loss: [0.22143568], total_l2_loss: [0.02325223], total_loss: [0.21945384]\n",
      "Epoch: [131],step: [17900], mri_ssim_loss: [0.34078395], pet_ssim_loss: [0.15013051],  total_ssim_loss: [0.23973763], total_l2_loss: [0.02331004], total_loss: [0.23757336]\n",
      "Epoch: [132],step: [18000], mri_ssim_loss: [0.26991683], pet_ssim_loss: [0.08485091],  total_ssim_loss: [0.17183189], total_l2_loss: [0.02239041], total_loss: [0.17033748]\n",
      "Epoch: [133],step: [18100], mri_ssim_loss: [0.36660397], pet_ssim_loss: [0.18530089],  total_ssim_loss: [0.27051333], total_l2_loss: [0.03695289], total_loss: [0.26817772]\n",
      "Epoch: [133],step: [18200], mri_ssim_loss: [0.52968806], pet_ssim_loss: [0.27830720],  total_ssim_loss: [0.39645618], total_l2_loss: [0.03791957], total_loss: [0.39287084]\n",
      "Epoch: [134],step: [18300], mri_ssim_loss: [0.27559900], pet_ssim_loss: [0.06713015],  total_ssim_loss: [0.16511051], total_l2_loss: [0.01599108], total_loss: [0.16361931]\n",
      "Epoch: [135],step: [18400], mri_ssim_loss: [0.32067752], pet_ssim_loss: [0.09083891],  total_ssim_loss: [0.19886306], total_l2_loss: [0.03143671], total_loss: [0.19718879]\n",
      "Epoch: [136],step: [18500], mri_ssim_loss: [0.34062368], pet_ssim_loss: [0.13151163],  total_ssim_loss: [0.22979429], total_l2_loss: [0.02036081], total_loss: [0.22769997]\n",
      "Epoch: [136],step: [18600], mri_ssim_loss: [0.37532336], pet_ssim_loss: [0.14991724],  total_ssim_loss: [0.25585812], total_l2_loss: [0.02624984], total_loss: [0.25356203]\n",
      "Epoch: [137],step: [18700], mri_ssim_loss: [0.18984324], pet_ssim_loss: [0.06569648],  total_ssim_loss: [0.12404545], total_l2_loss: [0.02481974], total_loss: [0.12305319]\n",
      "Epoch: [138],step: [18800], mri_ssim_loss: [0.48816502], pet_ssim_loss: [0.15157986],  total_ssim_loss: [0.30977488], total_l2_loss: [0.04968437], total_loss: [0.30717397]\n",
      "Epoch: [138],step: [18900], mri_ssim_loss: [0.42120957], pet_ssim_loss: [0.12193513],  total_ssim_loss: [0.26259410], total_l2_loss: [0.03328451], total_loss: [0.26030099]\n",
      "Epoch: [139],step: [19000], mri_ssim_loss: [0.32805431], pet_ssim_loss: [0.18788695],  total_ssim_loss: [0.25376558], total_l2_loss: [0.02185767], total_loss: [0.25144649]\n",
      "Epoch: [140],step: [19100], mri_ssim_loss: [0.20341480], pet_ssim_loss: [0.05500358],  total_ssim_loss: [0.12475686], total_l2_loss: [0.01986795], total_loss: [0.12370797]\n",
      "Epoch: [141],step: [19200], mri_ssim_loss: [0.43383336], pet_ssim_loss: [0.20516694],  total_ssim_loss: [0.31264013], total_l2_loss: [0.02388860], total_loss: [0.30975261]\n",
      "Epoch: [141],step: [19300], mri_ssim_loss: [0.30478388], pet_ssim_loss: [0.14846039],  total_ssim_loss: [0.22193243], total_l2_loss: [0.02972291], total_loss: [0.22001034]\n",
      "Epoch: [142],step: [19400], mri_ssim_loss: [0.29721665], pet_ssim_loss: [0.10340655],  total_ssim_loss: [0.19449730], total_l2_loss: [0.02265291], total_loss: [0.19277886]\n",
      "Epoch: [143],step: [19500], mri_ssim_loss: [0.23877341], pet_ssim_loss: [0.04986256],  total_ssim_loss: [0.13865066], total_l2_loss: [0.02069811], total_loss: [0.13747112]\n",
      "Epoch: [144],step: [19600], mri_ssim_loss: [0.37580442], pet_ssim_loss: [0.21591806],  total_ssim_loss: [0.29106465], total_l2_loss: [0.02759360], total_loss: [0.28842995]\n",
      "Epoch: [144],step: [19700], mri_ssim_loss: [0.57334715], pet_ssim_loss: [0.13310206],  total_ssim_loss: [0.34001726], total_l2_loss: [0.02251496], total_loss: [0.33684224]\n",
      "Epoch: [145],step: [19800], mri_ssim_loss: [0.30647898], pet_ssim_loss: [0.16791165],  total_ssim_loss: [0.23303828], total_l2_loss: [0.02327139], total_loss: [0.23094061]\n",
      "Epoch: [146],step: [19900], mri_ssim_loss: [0.34619784], pet_ssim_loss: [0.13204741],  total_ssim_loss: [0.23269811], total_l2_loss: [0.02295640], total_loss: [0.23060070]\n",
      "Epoch: [147],step: [20000], mri_ssim_loss: [0.43552864], pet_ssim_loss: [0.15793854],  total_ssim_loss: [0.28840590], total_l2_loss: [0.02554335], total_loss: [0.28577727]\n",
      "Epoch: [147],step: [20100], mri_ssim_loss: [0.68167698], pet_ssim_loss: [0.17620695],  total_ssim_loss: [0.41377783], total_l2_loss: [0.01881358], total_loss: [0.40982819]\n",
      "Epoch: [148],step: [20200], mri_ssim_loss: [0.43876672], pet_ssim_loss: [0.17556578],  total_ssim_loss: [0.29927021], total_l2_loss: [0.02838756], total_loss: [0.29656139]\n",
      "Epoch: [149],step: [20300], mri_ssim_loss: [0.42088157], pet_ssim_loss: [0.14674902],  total_ssim_loss: [0.27559131], total_l2_loss: [0.05065882], total_loss: [0.27334198]\n",
      "Epoch: [149],step: [20400], mri_ssim_loss: [0.38424349], pet_ssim_loss: [0.08450949],  total_ssim_loss: [0.22538447], total_l2_loss: [0.02431024], total_loss: [0.22337373]\n",
      "Epoch: [150],step: [20500], mri_ssim_loss: [0.49791968], pet_ssim_loss: [0.13719422],  total_ssim_loss: [0.30673516], total_l2_loss: [0.03780942], total_loss: [0.30404592]\n",
      "Epoch: [151],step: [20600], mri_ssim_loss: [0.22182131], pet_ssim_loss: [0.07001102],  total_ssim_loss: [0.14136185], total_l2_loss: [0.01886682], total_loss: [0.14013690]\n",
      "Epoch: [152],step: [20700], mri_ssim_loss: [0.46272552], pet_ssim_loss: [0.14410573],  total_ssim_loss: [0.29385704], total_l2_loss: [0.03562506], total_loss: [0.29127473]\n",
      "Epoch: [152],step: [20800], mri_ssim_loss: [0.23447037], pet_ssim_loss: [0.12772727],  total_ssim_loss: [0.17789653], total_l2_loss: [0.02034902], total_loss: [0.17632106]\n",
      "Epoch: [153],step: [20900], mri_ssim_loss: [0.38823366], pet_ssim_loss: [0.17424297],  total_ssim_loss: [0.27481860], total_l2_loss: [0.03367185], total_loss: [0.27240711]\n",
      "Epoch: [154],step: [21000], mri_ssim_loss: [0.22710848], pet_ssim_loss: [0.05159771],  total_ssim_loss: [0.13408777], total_l2_loss: [0.01699477], total_loss: [0.13291684]\n",
      "Epoch: [155],step: [21100], mri_ssim_loss: [0.49064356], pet_ssim_loss: [0.16096640],  total_ssim_loss: [0.31591466], total_l2_loss: [0.02861562], total_loss: [0.31304169]\n",
      "Epoch: [155],step: [21200], mri_ssim_loss: [0.34658211], pet_ssim_loss: [0.11353558],  total_ssim_loss: [0.22306745], total_l2_loss: [0.02299079], total_loss: [0.22106668]\n",
      "Epoch: [156],step: [21300], mri_ssim_loss: [0.35179770], pet_ssim_loss: [0.13608009],  total_ssim_loss: [0.23746736], total_l2_loss: [0.02131174], total_loss: [0.23530582]\n",
      "Epoch: [157],step: [21400], mri_ssim_loss: [0.26902831], pet_ssim_loss: [0.05978084],  total_ssim_loss: [0.15812713], total_l2_loss: [0.02075419], total_loss: [0.15675341]\n",
      "Epoch: [158],step: [21500], mri_ssim_loss: [0.36759734], pet_ssim_loss: [0.17278194],  total_ssim_loss: [0.26434517], total_l2_loss: [0.03436559], total_loss: [0.26204538]\n",
      "Epoch: [158],step: [21600], mri_ssim_loss: [0.60992765], pet_ssim_loss: [0.18947029],  total_ssim_loss: [0.38708526], total_l2_loss: [0.03516984], total_loss: [0.38356611]\n",
      "Epoch: [159],step: [21700], mri_ssim_loss: [0.28702724], pet_ssim_loss: [0.09602571],  total_ssim_loss: [0.18579642], total_l2_loss: [0.01906051], total_loss: [0.18412906]\n",
      "Epoch: [160],step: [21800], mri_ssim_loss: [0.32448393], pet_ssim_loss: [0.08236730],  total_ssim_loss: [0.19616212], total_l2_loss: [0.03028924], total_loss: [0.19450340]\n",
      "Epoch: [161],step: [21900], mri_ssim_loss: [0.34844148], pet_ssim_loss: [0.12531108],  total_ssim_loss: [0.23018238], total_l2_loss: [0.01894119], total_loss: [0.22806996]\n",
      "Epoch: [161],step: [22000], mri_ssim_loss: [0.36627352], pet_ssim_loss: [0.13845170],  total_ssim_loss: [0.24552795], total_l2_loss: [0.02247170], total_loss: [0.24329740]\n",
      "Epoch: [162],step: [22100], mri_ssim_loss: [0.18488932], pet_ssim_loss: [0.05590510],  total_ssim_loss: [0.11652768], total_l2_loss: [0.02342703], total_loss: [0.11559667]\n",
      "Epoch: [163],step: [22200], mri_ssim_loss: [0.48012501], pet_ssim_loss: [0.13607174],  total_ssim_loss: [0.29777679], total_l2_loss: [0.04705374], total_loss: [0.29526958]\n",
      "Epoch: [163],step: [22300], mri_ssim_loss: [0.43531609], pet_ssim_loss: [0.12101650],  total_ssim_loss: [0.26873732], total_l2_loss: [0.03126198], total_loss: [0.26636258]\n",
      "Epoch: [164],step: [22400], mri_ssim_loss: [0.33222717], pet_ssim_loss: [0.15125555],  total_ssim_loss: [0.23631221], total_l2_loss: [0.02115300], total_loss: [0.23416063]\n",
      "Epoch: [165],step: [22500], mri_ssim_loss: [0.21143645], pet_ssim_loss: [0.04859793],  total_ssim_loss: [0.12513202], total_l2_loss: [0.01934236], total_loss: [0.12407413]\n",
      "Epoch: [166],step: [22600], mri_ssim_loss: [0.44403923], pet_ssim_loss: [0.20058203],  total_ssim_loss: [0.31500691], total_l2_loss: [0.02247223], total_loss: [0.31208155]\n",
      "Epoch: [166],step: [22700], mri_ssim_loss: [0.29178905], pet_ssim_loss: [0.14916182],  total_ssim_loss: [0.21619661], total_l2_loss: [0.02838532], total_loss: [0.21431850]\n",
      "Epoch: [167],step: [22800], mri_ssim_loss: [0.32678610], pet_ssim_loss: [0.10753590],  total_ssim_loss: [0.21058349], total_l2_loss: [0.02064943], total_loss: [0.20868416]\n",
      "Epoch: [168],step: [22900], mri_ssim_loss: [0.23429334], pet_ssim_loss: [0.04966551],  total_ssim_loss: [0.13644059], total_l2_loss: [0.01828665], total_loss: [0.13525905]\n",
      "Epoch: [169],step: [23000], mri_ssim_loss: [0.36806798], pet_ssim_loss: [0.16771948],  total_ssim_loss: [0.26188326], total_l2_loss: [0.02610987], total_loss: [0.25952554]\n",
      "Epoch: [169],step: [23100], mri_ssim_loss: [0.53993875], pet_ssim_loss: [0.12321365],  total_ssim_loss: [0.31907445], total_l2_loss: [0.02184135], total_loss: [0.31610212]\n",
      "Epoch: [170],step: [23200], mri_ssim_loss: [0.31077218], pet_ssim_loss: [0.16169584],  total_ssim_loss: [0.23176172], total_l2_loss: [0.02135164], total_loss: [0.22965762]\n",
      "Epoch: [171],step: [23300], mri_ssim_loss: [0.31280023], pet_ssim_loss: [0.09281564],  total_ssim_loss: [0.19620839], total_l2_loss: [0.02303175], total_loss: [0.19447662]\n",
      "Epoch: [172],step: [23400], mri_ssim_loss: [0.43710589], pet_ssim_loss: [0.14405859],  total_ssim_loss: [0.28179082], total_l2_loss: [0.02548777], total_loss: [0.27922779]\n",
      "Epoch: [172],step: [23500], mri_ssim_loss: [0.67909229], pet_ssim_loss: [0.14847976],  total_ssim_loss: [0.39786762], total_l2_loss: [0.01609273], total_loss: [0.39404988]\n",
      "Epoch: [173],step: [23600], mri_ssim_loss: [0.43680012], pet_ssim_loss: [0.13335049],  total_ssim_loss: [0.27597180], total_l2_loss: [0.02751960], total_loss: [0.27348727]\n",
      "Epoch: [174],step: [23700], mri_ssim_loss: [0.41971374], pet_ssim_loss: [0.13737512],  total_ssim_loss: [0.27007428], total_l2_loss: [0.04920854], total_loss: [0.26786563]\n",
      "Epoch: [174],step: [23800], mri_ssim_loss: [0.38920510], pet_ssim_loss: [0.07984960],  total_ssim_loss: [0.22524668], total_l2_loss: [0.02187135], total_loss: [0.22321294]\n",
      "Epoch: [175],step: [23900], mri_ssim_loss: [0.50569820], pet_ssim_loss: [0.12098122],  total_ssim_loss: [0.30179819], total_l2_loss: [0.03462380], total_loss: [0.29912645]\n",
      "Epoch: [176],step: [24000], mri_ssim_loss: [0.20504570], pet_ssim_loss: [0.04650521],  total_ssim_loss: [0.12101924], total_l2_loss: [0.01995972], total_loss: [0.12000865]\n",
      "Epoch: [177],step: [24100], mri_ssim_loss: [0.47196543], pet_ssim_loss: [0.11741221],  total_ssim_loss: [0.28405222], total_l2_loss: [0.03375536], total_loss: [0.28154925]\n",
      "Epoch: [177],step: [24200], mri_ssim_loss: [0.26247823], pet_ssim_loss: [0.10652590],  total_ssim_loss: [0.17982349], total_l2_loss: [0.01896284], total_loss: [0.17821489]\n",
      "Epoch: [178],step: [24300], mri_ssim_loss: [0.38572562], pet_ssim_loss: [0.15907753],  total_ssim_loss: [0.26560211], total_l2_loss: [0.03160442], total_loss: [0.26326215]\n",
      "Epoch: [179],step: [24400], mri_ssim_loss: [0.23603046], pet_ssim_loss: [0.04248911],  total_ssim_loss: [0.13345355], total_l2_loss: [0.01723593], total_loss: [0.13229138]\n",
      "Epoch: [180],step: [24500], mri_ssim_loss: [0.49190015], pet_ssim_loss: [0.14726681],  total_ssim_loss: [0.30924445], total_l2_loss: [0.02689053], total_loss: [0.30642092]\n",
      "Epoch: [180],step: [24600], mri_ssim_loss: [0.32327974], pet_ssim_loss: [0.10947883],  total_ssim_loss: [0.20996526], total_l2_loss: [0.01934240], total_loss: [0.20805903]\n",
      "Epoch: [181],step: [24700], mri_ssim_loss: [0.31780112], pet_ssim_loss: [0.10234463],  total_ssim_loss: [0.20360918], total_l2_loss: [0.02074136], total_loss: [0.20178050]\n",
      "Epoch: [182],step: [24800], mri_ssim_loss: [0.26406652], pet_ssim_loss: [0.05004108],  total_ssim_loss: [0.15063304], total_l2_loss: [0.01860263], total_loss: [0.14931273]\n",
      "Epoch: [183],step: [24900], mri_ssim_loss: [0.38639927], pet_ssim_loss: [0.17884433],  total_ssim_loss: [0.27639514], total_l2_loss: [0.03200984], total_loss: [0.27395129]\n",
      "Epoch: [183],step: [25000], mri_ssim_loss: [0.48631239], pet_ssim_loss: [0.32630253],  total_ssim_loss: [0.40150714], total_l2_loss: [0.03350870], total_loss: [0.39782718]\n",
      "Epoch: [184],step: [25100], mri_ssim_loss: [0.28180003], pet_ssim_loss: [0.06152350],  total_ssim_loss: [0.16505347], total_l2_loss: [0.01441385], total_loss: [0.16354708]\n",
      "Epoch: [185],step: [25200], mri_ssim_loss: [0.34340501], pet_ssim_loss: [0.09844279],  total_ssim_loss: [0.21357502], total_l2_loss: [0.02898735], total_loss: [0.21172914]\n",
      "Epoch: [186],step: [25300], mri_ssim_loss: [0.33112288], pet_ssim_loss: [0.10925031],  total_ssim_loss: [0.21353042], total_l2_loss: [0.01779065], total_loss: [0.21157302]\n",
      "Epoch: [186],step: [25400], mri_ssim_loss: [0.37390459], pet_ssim_loss: [0.12600625],  total_ssim_loss: [0.24251847], total_l2_loss: [0.02125482], total_loss: [0.24030584]\n",
      "Epoch: [187],step: [25500], mri_ssim_loss: [0.20005846], pet_ssim_loss: [0.06026804],  total_ssim_loss: [0.12596953], total_l2_loss: [0.02275467], total_loss: [0.12493739]\n",
      "Epoch: [188],step: [25600], mri_ssim_loss: [0.48712993], pet_ssim_loss: [0.12873930],  total_ssim_loss: [0.29718289], total_l2_loss: [0.04596913], total_loss: [0.29467076]\n",
      "Epoch: [188],step: [25700], mri_ssim_loss: [0.42976093], pet_ssim_loss: [0.11914295],  total_ssim_loss: [0.26513338], total_l2_loss: [0.02909993], total_loss: [0.26277304]\n",
      "Epoch: [189],step: [25800], mri_ssim_loss: [0.31997657], pet_ssim_loss: [0.15108180],  total_ssim_loss: [0.23046234], total_l2_loss: [0.01875405], total_loss: [0.22834526]\n",
      "Epoch: [190],step: [25900], mri_ssim_loss: [0.21316695], pet_ssim_loss: [0.04143757],  total_ssim_loss: [0.12215038], total_l2_loss: [0.01745517], total_loss: [0.12110343]\n",
      "Epoch: [191],step: [26000], mri_ssim_loss: [0.45162356], pet_ssim_loss: [0.14933574],  total_ssim_loss: [0.29141101], total_l2_loss: [0.02077636], total_loss: [0.28870466]\n",
      "Epoch: [191],step: [26100], mri_ssim_loss: [0.28437310], pet_ssim_loss: [0.13675439],  total_ssim_loss: [0.20613518], total_l2_loss: [0.02665459], total_loss: [0.20434038]\n",
      "Epoch: [192],step: [26200], mri_ssim_loss: [0.32258946], pet_ssim_loss: [0.09637201],  total_ssim_loss: [0.20269421], total_l2_loss: [0.01906708], total_loss: [0.20085794]\n",
      "Epoch: [193],step: [26300], mri_ssim_loss: [0.23588872], pet_ssim_loss: [0.04191554],  total_ssim_loss: [0.13308293], total_l2_loss: [0.01677082], total_loss: [0.13191982]\n",
      "Epoch: [194],step: [26400], mri_ssim_loss: [0.37117100], pet_ssim_loss: [0.14182788],  total_ssim_loss: [0.24961914], total_l2_loss: [0.02423227], total_loss: [0.24736528]\n",
      "Epoch: [194],step: [26500], mri_ssim_loss: [0.55342883], pet_ssim_loss: [0.11295015],  total_ssim_loss: [0.31997511], total_l2_loss: [0.01934980], total_loss: [0.31696886]\n",
      "Epoch: [195],step: [26600], mri_ssim_loss: [0.31274825], pet_ssim_loss: [0.14731658],  total_ssim_loss: [0.22506946], total_l2_loss: [0.01979076], total_loss: [0.22301668]\n",
      "Epoch: [196],step: [26700], mri_ssim_loss: [0.28554749], pet_ssim_loss: [0.04811800],  total_ssim_loss: [0.15970986], total_l2_loss: [0.02140304], total_loss: [0.15832679]\n",
      "Epoch: [197],step: [26800], mri_ssim_loss: [0.43516994], pet_ssim_loss: [0.12803948],  total_ssim_loss: [0.27239078], total_l2_loss: [0.02240990], total_loss: [0.26989099]\n",
      "Epoch: [197],step: [26900], mri_ssim_loss: [0.74833477], pet_ssim_loss: [0.11243808],  total_ssim_loss: [0.41130954], total_l2_loss: [0.01523569], total_loss: [0.40734881]\n",
      "Epoch: [198],step: [27000], mri_ssim_loss: [0.42942291], pet_ssim_loss: [0.11873364],  total_ssim_loss: [0.26475757], total_l2_loss: [0.02545112], total_loss: [0.26236451]\n",
      "Epoch: [199],step: [27100], mri_ssim_loss: [0.43102247], pet_ssim_loss: [0.13478577],  total_ssim_loss: [0.27401701], total_l2_loss: [0.04604726], total_loss: [0.27173731]\n",
      "Epoch: [199],step: [27200], mri_ssim_loss: [0.48403221], pet_ssim_loss: [0.20924699],  total_ssim_loss: [0.33839604], total_l2_loss: [0.02195666], total_loss: [0.33523163]\n"
     ]
    },
    {
     "name": "stderr",
     "output_type": "stream",
     "text": [
      "/software/ml/JupyterHub/conda-env-20191018-0822/lib/python3.6/site-packages/torch/serialization.py:256: UserWarning: Couldn't retrieve source code for container of type MaskNet. It won't be checked for correctness upon loading.\n",
      "  \"type \" + obj.__name__ + \". It won't be checked \"\n"
     ]
    }
   ],
   "source": [
    "# perform the training\n",
    "counter = 0\n",
    "start_time = time.time()\n",
    "lamda = 0.99\n",
    "gamma_ssim = 0.47\n",
    "gamma_l2 = 0.5\n",
    "ep_ssim_mri_loss = []\n",
    "ep_ssim_pet_loss = []\n",
    "ep_l2_mri_loss = []\n",
    "ep_l2_pet_loss = []\n",
    "for epoch in range(EPOCH):\n",
    "    ssim_mri_Loss = []\n",
    "    ssim_pet_Loss = []\n",
    "    l2_mri_Loss = []\n",
    "    l2_pet_Loss = []\n",
    "    #run batch images\n",
    "    batch_idxs = 272 // batch_size\n",
    "    for idx in range(0, batch_idxs):\n",
    "        b_x = train_mri_tensor[idx*batch_size : (idx+1)*batch_size,:,:,:].to(device)\n",
    "        b_y = train_pet_tensor[idx*batch_size : (idx+1)*batch_size,:,:,:].to(device)\n",
    "        counter += 1\n",
    "        output = cnn(b_x,b_y)               # cnn output\n",
    "        ssim_loss_mri = 1 - ssim(output, b_x,data_range=1)\n",
    "        ssim_loss_pet = 1 - ssim(output, b_y,data_range=1)\n",
    "        l2_loss_mri   = l2_loss(output,b_x)\n",
    "        l2_loss_pet   = l2_loss(output,b_y)\n",
    "        ssim_total = gamma_ssim*ssim_loss_mri + (1-gamma_ssim)*ssim_loss_pet\n",
    "        l2_total = gamma_l2*l2_loss_mri + (1-gamma_l2)*l2_loss_pet\n",
    "        loss_total = lamda*ssim_total + (1-lamda)*l2_total \n",
    "        optimizer.zero_grad()           # clear gradients for this training step\n",
    "        loss_total.backward()           # backpropagation, compute gradients\n",
    "        optimizer.step()                # apply gradients\n",
    "    \n",
    "        #store all the loss values at each epoch\n",
    "        ssim_mri_Loss.append(ssim_loss_mri.item())\n",
    "        ssim_pet_Loss.append(ssim_loss_pet.item())\n",
    "        l2_mri_Loss.append(l2_loss_mri.item())\n",
    "        l2_pet_Loss.append(l2_loss_pet.item())\n",
    "\n",
    "        if counter % 100 == 0:\n",
    "            print(\"Epoch: [%2d],step: [%2d], mri_ssim_loss: [%.8f], pet_ssim_loss: [%.8f],  total_ssim_loss: [%.8f], total_l2_loss: [%.8f], total_loss: [%.8f]\" \n",
    "            %(epoch, counter, ssim_loss_mri, ssim_loss_pet, ssim_total, l2_total, loss_total))\n",
    "\n",
    "    av_ssim_mri_loss = np.average(ssim_mri_Loss)\n",
    "    ep_ssim_mri_loss.append(av_ssim_mri_loss)\n",
    "    \n",
    "    av_ssim_pet_loss = np.average(ssim_pet_Loss)\n",
    "    ep_ssim_pet_loss.append(av_ssim_pet_loss)\n",
    "    \n",
    "    av_l2_mri_loss = np.average(l2_mri_Loss)\n",
    "    ep_l2_mri_loss.append(av_l2_mri_loss)\n",
    "    \n",
    "    av_l2_pet_loss = np.average(l2_pet_Loss)\n",
    "    ep_l2_pet_loss.append(av_l2_pet_loss)\n",
    "    \n",
    "\n",
    "    if(epoch == EPOCH -1):\n",
    "      #Save a checkpoint\n",
    "      torch.save(cnn, '/home/h1/s8993054/Forschungprojekt/MaskNet/Checkpoint/checkpoint_lambda_0.99_gamma_ssim_0.47_gamma_l2_0.5.pth') "
   ]
  },
  {
   "cell_type": "code",
   "execution_count": 17,
   "metadata": {},
   "outputs": [],
   "source": [
    "l1 = np.asarray(ep_ssim_mri_loss)\n",
    "l2 = np.asarray(ep_ssim_pet_loss)\n",
    "l3 = np.asarray(ep_l2_mri_loss)\n",
    "l4 = np.asarray(ep_l2_pet_loss)"
   ]
  },
  {
   "cell_type": "code",
   "execution_count": 18,
   "metadata": {},
   "outputs": [],
   "source": [
    "h5f = h5py.File('/home/h1/s8993054/Forschungprojekt/MaskNet/Loss curves/H5 Files/lamda_0.99/gamma_0.47_0.5_ssim_mri.h5', 'w')\n",
    "h5f.create_dataset('data', data=l1)\n",
    "h5f.close()\n",
    "\n",
    "h5f = h5py.File('/home/h1/s8993054/Forschungprojekt/MaskNet/Loss curves/H5 Files/lamda_0.99/gamma_0.47_0.5_ssim_pet.h5', 'w')\n",
    "h5f.create_dataset('data', data=l2)\n",
    "h5f.close()\n",
    "\n",
    "h5f = h5py.File('/home/h1/s8993054/Forschungprojekt/MaskNet/Loss curves/H5 Files/lamda_0.99/gamma_0.47_0.5_l2_mri.h5', 'w')\n",
    "h5f.create_dataset('data', data=l3)\n",
    "h5f.close()\n",
    "\n",
    "h5f = h5py.File('/home/h1/s8993054/Forschungprojekt/MaskNet/Loss curves/H5 Files/lamda_0.99/gamma_0.47_0.5_l2_pet.h5', 'w')\n",
    "h5f.create_dataset('data', data=l4)\n",
    "h5f.close()"
   ]
  },
  {
   "cell_type": "code",
   "execution_count": 19,
   "metadata": {},
   "outputs": [
    {
     "name": "stderr",
     "output_type": "stream",
     "text": [
      "The PostScript backend does not support transparency; partially transparent artists will be rendered opaque.\n",
      "The PostScript backend does not support transparency; partially transparent artists will be rendered opaque.\n"
     ]
    },
    {
     "data": {
      "image/png": "[encoded data removed]",
      "text/plain": [
       "<Figure size 432x288 with 1 Axes>"
      ]
     },
     "metadata": {
      "needs_background": "light"
     },
     "output_type": "display_data"
    }
   ],
   "source": [
    "#FunFuseAn SSIM gamma_ssim = 0.1 gamma_l2 = 0.1\n",
    "fontP = FontProperties()\n",
    "fontP.set_size('large')\n",
    "plt.plot(l1,'b',label='$1-SSIM_{MRI}$')\n",
    "plt.plot(l2,'c',label='$1-SSIM_{PET}$')\n",
    "plt.xlabel('epoch',fontsize= 15)\n",
    "plt.ylabel('Loss values',fontsize= 15)\n",
    "plt.legend(loc=1, prop=fontP)\n",
    "plt.title('MaskNet $\\lambda = 0.99, \\gamma_{ssim} = 0.47, \\gamma_{l2} = 0.5$',fontsize='15')\n",
    "plt.savefig('/home/h1/s8993054/Forschungprojekt/MaskNet/Loss curves/Images/lamda_0.99/gamma_0.47_0.5_ssim.eps', format='eps', dpi=100)"
   ]
  },
  {
   "cell_type": "code",
   "execution_count": 20,
   "metadata": {},
   "outputs": [
    {
     "name": "stderr",
     "output_type": "stream",
     "text": [
      "The PostScript backend does not support transparency; partially transparent artists will be rendered opaque.\n",
      "The PostScript backend does not support transparency; partially transparent artists will be rendered opaque.\n"
     ]
    },
    {
     "data": {
      "image/png": "[encoded data removed]",
      "text/plain": [
       "<Figure size 432x288 with 1 Axes>"
      ]
     },
     "metadata": {
      "needs_background": "light"
     },
     "output_type": "display_data"
    }
   ],
   "source": [
    "#FunFuseAn L2 gamma_ssim = 0.1 gamma_l2 = 0.1\n",
    "fontP = FontProperties()\n",
    "fontP.set_size('large')\n",
    "plt.plot(l3,'b',label='$l2_{MRI}$')\n",
    "plt.plot(l4,'c',label='$l2_{PET}$')\n",
    "plt.xlabel('epoch',fontsize= 15)\n",
    "plt.ylabel('Loss values',fontsize= 15)\n",
    "plt.legend(loc=1, prop=fontP)\n",
    "plt.title('MaskNet $\\lambda = 0.99, \\gamma_{ssim} = 0.47, \\gamma_{l2} = 0.5$',fontsize='15')\n",
    "plt.savefig('/home/h1/s8993054/Forschungprojekt/MaskNet/Loss curves/Images/lamda_0.99/gamma_0.47_0.5_l2.eps', format='eps', dpi=100)"
   ]
  },
  {
   "cell_type": "code",
   "execution_count": null,
   "metadata": {},
   "outputs": [],
   "source": []
  }
 ],
 "metadata": {
  "kernelspec": {
   "display_name": "Python 3",
   "language": "python",
   "name": "python3"
  },
  "language_info": {
   "codemirror_mode": {
    "name": "ipython",
    "version": 3
   },
   "file_extension": ".py",
   "mimetype": "text/x-python",
   "name": "python",
   "nbconvert_exporter": "python",
   "pygments_lexer": "ipython3",
   "version": "3.6.9"
  }
 },
 "nbformat": 4,
 "nbformat_minor": 4
}
