{
 "cells": [
  {
   "cell_type": "markdown",
   "metadata": {},
   "source": [
    "# This is the pytorch implementation of the paper \"Structural Similarity based Anatomical and Functional Brain Imaging Fusion\""
   ]
  },
  {
   "cell_type": "code",
   "execution_count": 1,
   "metadata": {},
   "outputs": [],
   "source": [
    "import sys\n",
    "sys.path.append(\"/home/h1/s8993054/.local/lib/python3.6/site-packages/\") # go to parent dir"
   ]
  },
  {
   "cell_type": "code",
   "execution_count": 2,
   "metadata": {},
   "outputs": [],
   "source": [
    "#Import packages\n",
    "import time\n",
    "import torch.nn as nn\n",
    "import torch\n",
    "from torch.utils.data import Dataset, DataLoader\n",
    "import torchvision.datasets as datasets\n",
    "import numpy as np\n",
    "from torchvision import transforms\n",
    "from torch.autograd import Variable\n",
    "from PIL import Image\n",
    "import torchvision.transforms.functional as TF\n",
    "from torchvision.models.vgg import vgg19\n",
    "import torch.nn as nn\n",
    "import torch.nn.functional as F\n",
    "import torch\n",
    "from skimage import img_as_ubyte\n",
    "import torch.nn as nn\n",
    "import torch.utils.data as Data\n",
    "import torchvision      # dataset\n",
    "import matplotlib.pyplot as plt\n",
    "import scipy\n",
    "import numpy as np\n",
    "import argparse\n",
    "from torch.optim.lr_scheduler import StepLR, ReduceLROnPlateau\n",
    "import glob\n",
    "import imageio\n",
    "from skimage import color\n",
    "import numpy\n",
    "import natsort\n",
    "import scipy\n",
    "from pytorch_msssim import ssim, ms_ssim, SSIM, MS_SSIM\n",
    "import pprint\n",
    "from scipy.ndimage import correlate\n",
    "from scipy.ndimage.filters import gaussian_gradient_magnitude\n",
    "import torchvision.datasets as dset\n",
    "import torch.utils.data as data\n",
    "import os\n",
    "import os.path\n",
    "from tkinter import *\n",
    "import tkinter as tk\n",
    "import tkinter.font as tkFont\n",
    "from PIL import ImageTk, Image\n",
    "import pylab\n",
    "import cv2\n",
    "import h5py\n",
    "from mpl_toolkits.axes_grid1 import make_axes_locatable\n",
    "from matplotlib.font_manager import FontProperties"
   ]
  },
  {
   "cell_type": "code",
   "execution_count": 3,
   "metadata": {},
   "outputs": [
    {
     "name": "stdout",
     "output_type": "stream",
     "text": [
      "33822867456\n"
     ]
    }
   ],
   "source": [
    "device = 'cuda' if torch.cuda.is_available() else 'cpu'\n",
    "print(torch.cuda.get_device_properties(0).total_memory)"
   ]
  },
  {
   "cell_type": "code",
   "execution_count": 4,
   "metadata": {},
   "outputs": [
    {
     "data": {
      "text/plain": [
       "176"
      ]
     },
     "execution_count": 4,
     "metadata": {},
     "output_type": "execute_result"
    }
   ],
   "source": [
    "import multiprocessing\n",
    "\n",
    "multiprocessing.cpu_count()"
   ]
  },
  {
   "cell_type": "code",
   "execution_count": 5,
   "metadata": {},
   "outputs": [],
   "source": [
    "#define the hyperparameters\n",
    "image_length = 256\n",
    "image_width  = 256\n",
    "mr_channels  = 1\n",
    "gray_channels = 1\n",
    "pet_channels = 4    \n",
    "rgb_channels = 3     \n",
    "batch_size   = 8\n",
    "EPOCH = 200\n",
    "learning_rate = 0.002"
   ]
  },
  {
   "cell_type": "code",
   "execution_count": 6,
   "metadata": {},
   "outputs": [],
   "source": [
    "#load the train mri data\n",
    "filenames = os.listdir('/home/h1/s8993054/Forschungprojekt/Training/MRI')\n",
    "dataset = os.path.join(os.getcwd(), '/home/h1/s8993054/Forschungprojekt/Training/MRI')\n",
    "data = glob.glob(os.path.join(dataset, \"*.gif\"))\n",
    "data = natsort.natsorted(data,reverse=False)\n",
    "train_mri = np.zeros((len(data), image_width,image_length))\n",
    "for i in range(len(data)):\n",
    "    train_mri[i,:,:] =(imageio.imread(data[i]))\n",
    "    train_mri[i,:,:] =(train_mri[i,:,:] - np.min(train_mri[i,:,:])) / (np.max(train_mri[i,:,:]) - np.min(train_mri[i,:,:]))\n",
    "    train_mri[i,:,:] = np.float32(train_mri[i,:,:])"
   ]
  },
  {
   "cell_type": "code",
   "execution_count": 7,
   "metadata": {},
   "outputs": [],
   "source": [
    "#expand dimension to add the channel\n",
    "train_mri = np.expand_dims(train_mri,axis=1)"
   ]
  },
  {
   "cell_type": "code",
   "execution_count": 8,
   "metadata": {},
   "outputs": [
    {
     "data": {
      "text/plain": [
       "(272, 1, 256, 256)"
      ]
     },
     "execution_count": 8,
     "metadata": {},
     "output_type": "execute_result"
    }
   ],
   "source": [
    "#verify the shape matches the pytorch standard\n",
    "train_mri.shape"
   ]
  },
  {
   "cell_type": "code",
   "execution_count": 9,
   "metadata": {},
   "outputs": [
    {
     "data": {
      "text/plain": [
       "torch.Size([272, 1, 256, 256])"
      ]
     },
     "execution_count": 9,
     "metadata": {},
     "output_type": "execute_result"
    }
   ],
   "source": [
    "#convert the MRI training data to pytorch tensor\n",
    "train_mri_tensor = torch.from_numpy(train_mri).float()\n",
    "train_mri_tensor.shape"
   ]
  },
  {
   "cell_type": "code",
   "execution_count": 10,
   "metadata": {},
   "outputs": [],
   "source": [
    "#load the train pet data\n",
    "filenames = os.listdir('/home/h1/s8993054/Forschungprojekt/Training/PET')\n",
    "dataset = os.path.join(os.getcwd(), '/home/h1/s8993054/Forschungprojekt/Training/PET')\n",
    "data = glob.glob(os.path.join(dataset, \"*.gif\"))\n",
    "data = natsort.natsorted(data,reverse=False)\n",
    "train_other = np.zeros((len(data),image_width,image_length,pet_channels),dtype=float)\n",
    "train_pet = np.zeros((len(data),image_width,image_length),dtype=float)\n",
    "for i in range(len(data)):\n",
    "    train_other[i,:,:,:] =(imageio.imread(data[i]))\n",
    "    train_pet[i,:,:] = 0.2989 * train_other[i,:,:,0] + 0.5870 *  train_other[i,:,:,1]  + 0.1140 * train_other[i,:,:,2]\n",
    "    train_pet[i,:,:] =(train_pet[i,:,:] - np.min(train_pet[i,:,:])) / (np.max(train_pet[i,:,:]) - np.min(train_pet[i,:,:]))"
   ]
  },
  {
   "cell_type": "code",
   "execution_count": 11,
   "metadata": {},
   "outputs": [],
   "source": [
    "#expand the dimension to add the channel\n",
    "train_pet = np.expand_dims(train_pet,axis=1)"
   ]
  },
  {
   "cell_type": "code",
   "execution_count": 12,
   "metadata": {},
   "outputs": [
    {
     "data": {
      "text/plain": [
       "(272, 1, 256, 256)"
      ]
     },
     "execution_count": 12,
     "metadata": {},
     "output_type": "execute_result"
    }
   ],
   "source": [
    "#verify the shape matches the pytorch standard\n",
    "train_pet.shape"
   ]
  },
  {
   "cell_type": "code",
   "execution_count": 13,
   "metadata": {},
   "outputs": [
    {
     "data": {
      "text/plain": [
       "torch.Size([272, 1, 256, 256])"
      ]
     },
     "execution_count": 13,
     "metadata": {},
     "output_type": "execute_result"
    }
   ],
   "source": [
    "#convert the PET training data to pytorch tensor\n",
    "train_pet_tensor = torch.from_numpy(train_pet).float()\n",
    "train_pet_tensor.shape"
   ]
  },
  {
   "cell_type": "code",
   "execution_count": 14,
   "metadata": {},
   "outputs": [
    {
     "name": "stdout",
     "output_type": "stream",
     "text": [
      "Let's use 6 GPUs!\n"
     ]
    },
    {
     "data": {
      "text/plain": [
       "DataParallel(\n",
       "  (module): DeepPedestrian(\n",
       "    (conv1): Sequential(\n",
       "      (0): Conv2d(2, 48, kernel_size=(3, 3), stride=(1, 1), padding=(1, 1))\n",
       "      (1): ReLU()\n",
       "      (2): Conv2d(48, 48, kernel_size=(3, 3), stride=(1, 1), padding=(1, 1))\n",
       "      (3): ReLU()\n",
       "      (4): Conv2d(48, 48, kernel_size=(3, 3), stride=(1, 1), padding=(1, 1))\n",
       "      (5): ReLU()\n",
       "      (6): Conv2d(48, 48, kernel_size=(3, 3), stride=(1, 1), padding=(1, 1))\n",
       "    )\n",
       "    (conv2): Sequential(\n",
       "      (0): ReLU()\n",
       "      (1): Conv2d(48, 48, kernel_size=(3, 3), stride=(1, 1), padding=(1, 1))\n",
       "      (2): ReLU()\n",
       "      (3): Conv2d(48, 48, kernel_size=(3, 3), stride=(1, 1), padding=(1, 1))\n",
       "      (4): ReLU()\n",
       "      (5): Conv2d(48, 48, kernel_size=(3, 3), stride=(1, 1), padding=(1, 1))\n",
       "      (6): ReLU()\n",
       "      (7): Conv2d(48, 48, kernel_size=(3, 3), stride=(1, 1), padding=(1, 1))\n",
       "    )\n",
       "    (conv3): Sequential(\n",
       "      (0): ReLU()\n",
       "      (1): Conv2d(48, 48, kernel_size=(3, 3), stride=(1, 1), padding=(1, 1))\n",
       "      (2): ReLU()\n",
       "      (3): Conv2d(48, 48, kernel_size=(3, 3), stride=(1, 1), padding=(1, 1))\n",
       "      (4): ReLU()\n",
       "      (5): Conv2d(48, 48, kernel_size=(3, 3), stride=(1, 1), padding=(1, 1))\n",
       "      (6): ReLU()\n",
       "      (7): Conv2d(48, 48, kernel_size=(3, 3), stride=(1, 1), padding=(1, 1))\n",
       "    )\n",
       "    (conv4): Sequential(\n",
       "      (0): ReLU()\n",
       "      (1): Conv2d(48, 48, kernel_size=(3, 3), stride=(1, 1), padding=(1, 1))\n",
       "      (2): ReLU()\n",
       "      (3): Conv2d(48, 48, kernel_size=(3, 3), stride=(1, 1), padding=(1, 1))\n",
       "      (4): ReLU()\n",
       "      (5): Conv2d(48, 48, kernel_size=(3, 3), stride=(1, 1), padding=(1, 1))\n",
       "      (6): ReLU()\n",
       "      (7): Conv2d(48, 48, kernel_size=(3, 3), stride=(1, 1), padding=(1, 1))\n",
       "    )\n",
       "    (conv5): Sequential(\n",
       "      (0): ReLU()\n",
       "      (1): Conv2d(48, 1, kernel_size=(3, 3), stride=(1, 1), padding=(1, 1))\n",
       "    )\n",
       "  )\n",
       ")"
      ]
     },
     "execution_count": 14,
     "metadata": {},
     "output_type": "execute_result"
    }
   ],
   "source": [
    "#define the fusion network\n",
    "class DeepPedestrian(nn.Module):\n",
    "    def  __init__(self):\n",
    "        super(DeepPedestrian, self).__init__()\n",
    "        #####layer 1#####\n",
    "        self.conv1 = nn.Sequential(                             #input shape  (,2,256,256)\n",
    "                         nn.Conv2d(in_channels=2, out_channels=48, kernel_size=3, stride=1, padding=1),\n",
    "                         nn.ReLU(),\n",
    "                         nn.Conv2d(in_channels = 48, out_channels = 48, kernel_size  = 3, stride= 1, padding = 1),\n",
    "                         nn.ReLU(),\n",
    "                         nn.Conv2d(in_channels = 48, out_channels = 48, kernel_size  = 3, stride= 1, padding = 1),\n",
    "                         nn.ReLU(),\n",
    "                         nn.Conv2d(in_channels = 48, out_channels = 48, kernel_size  = 3, stride= 1, padding = 1)\n",
    "                         )                                     #output shape (,48,256,256)   \n",
    "        #####layer 2#####\n",
    "        self.conv2 = nn.Sequential(                            #input shape  (,48,256,256)\n",
    "                         nn.ReLU(),\n",
    "                         nn.Conv2d(in_channels=48, out_channels=48, kernel_size=3, stride=1, padding=1),\n",
    "                         nn.ReLU(),\n",
    "                         nn.Conv2d(in_channels = 48, out_channels = 48, kernel_size  = 3, stride= 1, padding = 1),\n",
    "                         nn.ReLU(),\n",
    "                         nn.Conv2d(in_channels = 48, out_channels = 48, kernel_size  = 3, stride= 1, padding = 1),\n",
    "                         nn.ReLU(),\n",
    "                         nn.Conv2d(in_channels = 48, out_channels = 48, kernel_size  = 3, stride= 1, padding = 1)\n",
    "                         )                                     #output shape (,48,256,256)   \n",
    "        #####layer 3#####\n",
    "        self.conv3 = nn.Sequential(                            #input shape  (,48,256,256)\n",
    "                         nn.ReLU(), \n",
    "                         nn.Conv2d(in_channels = 48, out_channels = 48, kernel_size=3, stride=1, padding=1),\n",
    "                         nn.ReLU(),\n",
    "                         nn.Conv2d(in_channels = 48, out_channels = 48, kernel_size  = 3, stride= 1, padding = 1),\n",
    "                         nn.ReLU(),\n",
    "                         nn.Conv2d(in_channels = 48, out_channels = 48, kernel_size  = 3, stride= 1, padding = 1),\n",
    "                         nn.ReLU(),\n",
    "                         nn.Conv2d(in_channels = 48, out_channels = 48, kernel_size  = 3, stride= 1, padding = 1)\n",
    "                         )                                     #output shape (,48,256,256)     \n",
    "        #####layer 4#####\n",
    "        self.conv4 = nn.Sequential(                            #input shape  (,48,256,256)\n",
    "                         nn.ReLU(), \n",
    "                         nn.Conv2d(in_channels = 48, out_channels = 48, kernel_size=3, stride=1, padding=1),\n",
    "                         nn.ReLU(),\n",
    "                         nn.Conv2d(in_channels = 48, out_channels = 48, kernel_size  = 3, stride= 1, padding = 1),\n",
    "                         nn.ReLU(),\n",
    "                         nn.Conv2d(in_channels = 48, out_channels = 48, kernel_size  = 3, stride= 1, padding = 1),\n",
    "                         nn.ReLU(),\n",
    "                         nn.Conv2d(in_channels = 48, out_channels = 48, kernel_size  = 3, stride= 1, padding = 1)\n",
    "                         )                                      #output shape (,48,256,256)  \n",
    "        #####layer 5#####\n",
    "        self.conv5 = nn.Sequential(                             #input shape (, 48, 256, 256)\n",
    "                          nn.ReLU(),\n",
    "                          nn.Conv2d(in_channels  = 48,  out_channels = 1, kernel_size  = 3, stride = 1, padding = 1)) \n",
    "                                                                #output shape (,1, 256, 256)\n",
    "        \n",
    "    def forward(self, x, y):\n",
    "        #layer 1\n",
    "        x1 = self.conv1(torch.cat((x,y),dim=1))\n",
    "        #layer 2\n",
    "        x2 = self.conv2(x1)\n",
    "        #residual layer\n",
    "        x3 = x1+x2\n",
    "        #layer 3\n",
    "        x4 = self.conv3(x3)\n",
    "        #layer 4\n",
    "        x5 = self.conv4(x4)\n",
    "        #residual layer\n",
    "        x6 = x4 + x5\n",
    "        #layer 5\n",
    "        fused = self.conv5(x6)\n",
    "        return fused\n",
    "        #execute the network\n",
    "\n",
    "cnn = DeepPedestrian().float()\n",
    "if torch.cuda.device_count() > 1:\n",
    "    print(\"Let's use\", torch.cuda.device_count(), \"GPUs!\")\n",
    "    cnn = nn.DataParallel(cnn)\n",
    "\n",
    "cnn.to(device)"
   ]
  },
  {
   "cell_type": "code",
   "execution_count": 15,
   "metadata": {},
   "outputs": [],
   "source": [
    "#define the optimizers and loss functions \n",
    "optimizer = torch.optim.Adam(cnn.parameters(), lr=learning_rate)   # optimize all cnn parameters\n",
    "scheduler = StepLR(optimizer, step_size=25, gamma=0.1)\n",
    "l2_loss   = nn.MSELoss() #MSEloss"
   ]
  },
  {
   "cell_type": "code",
   "execution_count": 16,
   "metadata": {},
   "outputs": [
    {
     "name": "stdout",
     "output_type": "stream",
     "text": [
      "Epoch: [ 2],step: [100], mri_ssim_loss: [0.25847572], pet_ssim_loss: [0.18528712],  total_ssim_loss: [0.22334519], total_l2_loss: [0.01468381], total_loss: [0.22125858]\n",
      "Epoch: [ 5],step: [200], mri_ssim_loss: [0.32625175], pet_ssim_loss: [0.22081196],  total_ssim_loss: [0.27564064], total_l2_loss: [0.01192656], total_loss: [0.27300349]\n",
      "Epoch: [ 8],step: [300], mri_ssim_loss: [0.58175731], pet_ssim_loss: [0.22356462],  total_ssim_loss: [0.40982479], total_l2_loss: [0.00957805], total_loss: [0.40582234]\n",
      "Epoch: [11],step: [400], mri_ssim_loss: [0.29703748], pet_ssim_loss: [0.21513915],  total_ssim_loss: [0.25772628], total_l2_loss: [0.01367010], total_loss: [0.25528571]\n",
      "Epoch: [14],step: [500], mri_ssim_loss: [0.26795030], pet_ssim_loss: [0.16893899],  total_ssim_loss: [0.22042486], total_l2_loss: [0.00963004], total_loss: [0.21831693]\n",
      "Epoch: [17],step: [600], mri_ssim_loss: [0.20392525], pet_ssim_loss: [0.18475509],  total_ssim_loss: [0.19472358], total_l2_loss: [0.01338044], total_loss: [0.19291013]\n",
      "Epoch: [20],step: [700], mri_ssim_loss: [0.24299932], pet_ssim_loss: [0.17246640],  total_ssim_loss: [0.20914352], total_l2_loss: [0.01104867], total_loss: [0.20716257]\n",
      "Epoch: [23],step: [800], mri_ssim_loss: [0.15041178], pet_ssim_loss: [0.11538911],  total_ssim_loss: [0.13360089], total_l2_loss: [0.01049310], total_loss: [0.13236982]\n",
      "Epoch: [26],step: [900], mri_ssim_loss: [0.16452646], pet_ssim_loss: [0.16215706],  total_ssim_loss: [0.16338915], total_l2_loss: [0.01285991], total_loss: [0.16188386]\n",
      "Epoch: [29],step: [1000], mri_ssim_loss: [0.12271464], pet_ssim_loss: [0.14474642],  total_ssim_loss: [0.13328989], total_l2_loss: [0.00787793], total_loss: [0.13203578]\n",
      "Epoch: [32],step: [1100], mri_ssim_loss: [0.14181125], pet_ssim_loss: [0.19068390],  total_ssim_loss: [0.16527012], total_l2_loss: [0.01516220], total_loss: [0.16376904]\n",
      "Epoch: [35],step: [1200], mri_ssim_loss: [0.20550501], pet_ssim_loss: [0.23884451],  total_ssim_loss: [0.22150797], total_l2_loss: [0.02418249], total_loss: [0.21953472]\n",
      "Epoch: [38],step: [1300], mri_ssim_loss: [0.24941683], pet_ssim_loss: [0.33490229],  total_ssim_loss: [0.29044986], total_l2_loss: [0.02212049], total_loss: [0.28776655]\n",
      "Epoch: [41],step: [1400], mri_ssim_loss: [0.27406120], pet_ssim_loss: [0.28882360],  total_ssim_loss: [0.28114712], total_l2_loss: [0.00887559], total_loss: [0.27842441]\n",
      "Epoch: [44],step: [1500], mri_ssim_loss: [0.18128705], pet_ssim_loss: [0.25053054],  total_ssim_loss: [0.21452391], total_l2_loss: [0.00798598], total_loss: [0.21245854]\n",
      "Epoch: [47],step: [1600], mri_ssim_loss: [0.19472575], pet_ssim_loss: [0.18931830],  total_ssim_loss: [0.19213016], total_l2_loss: [0.00715953], total_loss: [0.19028047]\n",
      "Epoch: [49],step: [1700], mri_ssim_loss: [0.25705397], pet_ssim_loss: [0.15456712],  total_ssim_loss: [0.20786029], total_l2_loss: [0.01237898], total_loss: [0.20590547]\n",
      "Epoch: [52],step: [1800], mri_ssim_loss: [0.18943286], pet_ssim_loss: [0.17784083],  total_ssim_loss: [0.18386868], total_l2_loss: [0.01213915], total_loss: [0.18215138]\n",
      "Epoch: [55],step: [1900], mri_ssim_loss: [0.27966022], pet_ssim_loss: [0.16057694],  total_ssim_loss: [0.22250023], total_l2_loss: [0.01213781], total_loss: [0.22039662]\n",
      "Epoch: [58],step: [2000], mri_ssim_loss: [0.42013186], pet_ssim_loss: [0.31081963],  total_ssim_loss: [0.36766198], total_l2_loss: [0.00997551], total_loss: [0.36408511]\n",
      "Epoch: [61],step: [2100], mri_ssim_loss: [0.28721821], pet_ssim_loss: [0.21361041],  total_ssim_loss: [0.25188646], total_l2_loss: [0.01189159], total_loss: [0.24948651]\n",
      "Epoch: [64],step: [2200], mri_ssim_loss: [0.25723505], pet_ssim_loss: [0.17599779],  total_ssim_loss: [0.21824116], total_l2_loss: [0.00983470], total_loss: [0.21615709]\n",
      "Epoch: [67],step: [2300], mri_ssim_loss: [0.19050944], pet_ssim_loss: [0.19383383],  total_ssim_loss: [0.19210514], total_l2_loss: [0.01444279], total_loss: [0.19032852]\n",
      "Epoch: [70],step: [2400], mri_ssim_loss: [0.23802644], pet_ssim_loss: [0.16732240],  total_ssim_loss: [0.20408849], total_l2_loss: [0.01112051], total_loss: [0.20215882]\n",
      "Epoch: [73],step: [2500], mri_ssim_loss: [0.14973354], pet_ssim_loss: [0.11124629],  total_ssim_loss: [0.13125966], total_l2_loss: [0.01056010], total_loss: [0.13005267]\n",
      "Epoch: [76],step: [2600], mri_ssim_loss: [0.11550444], pet_ssim_loss: [0.12780964],  total_ssim_loss: [0.12141094], total_l2_loss: [0.00907693], total_loss: [0.12028760]\n",
      "Epoch: [79],step: [2700], mri_ssim_loss: [0.12111795], pet_ssim_loss: [0.14337957],  total_ssim_loss: [0.13180351], total_l2_loss: [0.00848460], total_loss: [0.13057032]\n",
      "Epoch: [82],step: [2800], mri_ssim_loss: [0.14513117], pet_ssim_loss: [0.16196704],  total_ssim_loss: [0.15321238], total_l2_loss: [0.01154060], total_loss: [0.15179567]\n",
      "Epoch: [85],step: [2900], mri_ssim_loss: [0.20207435], pet_ssim_loss: [0.22719783],  total_ssim_loss: [0.21413362], total_l2_loss: [0.01769236], total_loss: [0.21216920]\n",
      "Epoch: [88],step: [3000], mri_ssim_loss: [0.23388839], pet_ssim_loss: [0.34583300],  total_ssim_loss: [0.28762180], total_l2_loss: [0.02630889], total_loss: [0.28500867]\n",
      "Epoch: [91],step: [3100], mri_ssim_loss: [0.26399636], pet_ssim_loss: [0.29887295],  total_ssim_loss: [0.28073710], total_l2_loss: [0.00894053], total_loss: [0.27801913]\n",
      "Epoch: [94],step: [3200], mri_ssim_loss: [0.17478073], pet_ssim_loss: [0.25267684],  total_ssim_loss: [0.21217085], total_l2_loss: [0.00885202], total_loss: [0.21013767]\n",
      "Epoch: [97],step: [3300], mri_ssim_loss: [0.19342721], pet_ssim_loss: [0.18889052],  total_ssim_loss: [0.19124959], total_l2_loss: [0.00699112], total_loss: [0.18940702]\n",
      "Epoch: [99],step: [3400], mri_ssim_loss: [0.25694919], pet_ssim_loss: [0.15514284],  total_ssim_loss: [0.20808214], total_l2_loss: [0.01239145], total_loss: [0.20612524]\n",
      "Epoch: [102],step: [3500], mri_ssim_loss: [0.19669664], pet_ssim_loss: [0.17657864],  total_ssim_loss: [0.18704000], total_l2_loss: [0.01283709], total_loss: [0.18529798]\n",
      "Epoch: [105],step: [3600], mri_ssim_loss: [0.27964389], pet_ssim_loss: [0.16240430],  total_ssim_loss: [0.22336888], total_l2_loss: [0.01220695], total_loss: [0.22125727]\n",
      "Epoch: [108],step: [3700], mri_ssim_loss: [0.38247961], pet_ssim_loss: [0.35080802],  total_ssim_loss: [0.36727723], total_l2_loss: [0.01024294], total_loss: [0.36370689]\n",
      "Epoch: [111],step: [3800], mri_ssim_loss: [0.28301519], pet_ssim_loss: [0.21707976],  total_ssim_loss: [0.25136617], total_l2_loss: [0.01189203], total_loss: [0.24897143]\n",
      "Epoch: [114],step: [3900], mri_ssim_loss: [0.25342941], pet_ssim_loss: [0.18044674],  total_ssim_loss: [0.21839774], total_l2_loss: [0.00991985], total_loss: [0.21631296]\n",
      "Epoch: [117],step: [4000], mri_ssim_loss: [0.18952680], pet_ssim_loss: [0.19397867],  total_ssim_loss: [0.19166368], total_l2_loss: [0.01436336], total_loss: [0.18989068]\n",
      "Epoch: [120],step: [4100], mri_ssim_loss: [0.23450172], pet_ssim_loss: [0.16996121],  total_ssim_loss: [0.20352226], total_l2_loss: [0.01116466], total_loss: [0.20159869]\n",
      "Epoch: [123],step: [4200], mri_ssim_loss: [0.14740646], pet_ssim_loss: [0.11291301],  total_ssim_loss: [0.13084960], total_l2_loss: [0.01073511], total_loss: [0.12964845]\n",
      "Epoch: [126],step: [4300], mri_ssim_loss: [0.11226916], pet_ssim_loss: [0.12937713],  total_ssim_loss: [0.12048098], total_l2_loss: [0.00905905], total_loss: [0.11936677]\n",
      "Epoch: [129],step: [4400], mri_ssim_loss: [0.12075531], pet_ssim_loss: [0.14176965],  total_ssim_loss: [0.13084219], total_l2_loss: [0.00839307], total_loss: [0.12961769]\n",
      "Epoch: [132],step: [4500], mri_ssim_loss: [0.14563662], pet_ssim_loss: [0.16082788],  total_ssim_loss: [0.15292841], total_l2_loss: [0.01162728], total_loss: [0.15151541]\n",
      "Epoch: [135],step: [4600], mri_ssim_loss: [0.20274878], pet_ssim_loss: [0.22558355],  total_ssim_loss: [0.21370946], total_l2_loss: [0.01811898], total_loss: [0.21175355]\n",
      "Epoch: [138],step: [4700], mri_ssim_loss: [0.23002839], pet_ssim_loss: [0.34619784],  total_ssim_loss: [0.28578973], total_l2_loss: [0.02473244], total_loss: [0.28317916]\n",
      "Epoch: [141],step: [4800], mri_ssim_loss: [0.26728034], pet_ssim_loss: [0.28955877],  total_ssim_loss: [0.27797398], total_l2_loss: [0.00893528], total_loss: [0.27528358]\n",
      "Epoch: [144],step: [4900], mri_ssim_loss: [0.17333639], pet_ssim_loss: [0.25255549],  total_ssim_loss: [0.21136156], total_l2_loss: [0.00907709], total_loss: [0.20933872]\n",
      "Epoch: [147],step: [5000], mri_ssim_loss: [0.18815529], pet_ssim_loss: [0.19336677],  total_ssim_loss: [0.19065680], total_l2_loss: [0.00697607], total_loss: [0.18882000]\n",
      "Epoch: [149],step: [5100], mri_ssim_loss: [0.25109017], pet_ssim_loss: [0.16085255],  total_ssim_loss: [0.20777610], total_l2_loss: [0.01258555], total_loss: [0.20582420]\n",
      "Epoch: [152],step: [5200], mri_ssim_loss: [0.19053572], pet_ssim_loss: [0.17845273],  total_ssim_loss: [0.18473588], total_l2_loss: [0.01237899], total_loss: [0.18301231]\n",
      "Epoch: [155],step: [5300], mri_ssim_loss: [0.27953386], pet_ssim_loss: [0.16366506],  total_ssim_loss: [0.22391683], total_l2_loss: [0.01224437], total_loss: [0.22180010]\n",
      "Epoch: [158],step: [5400], mri_ssim_loss: [0.42877340], pet_ssim_loss: [0.29727077],  total_ssim_loss: [0.36565214], total_l2_loss: [0.01018010], total_loss: [0.36209744]\n",
      "Epoch: [161],step: [5500], mri_ssim_loss: [0.27895778], pet_ssim_loss: [0.21994382],  total_ssim_loss: [0.25063106], total_l2_loss: [0.01249770], total_loss: [0.24824974]\n",
      "Epoch: [164],step: [5600], mri_ssim_loss: [0.25461572], pet_ssim_loss: [0.17926085],  total_ssim_loss: [0.21844538], total_l2_loss: [0.01049198], total_loss: [0.21636584]\n",
      "Epoch: [167],step: [5700], mri_ssim_loss: [0.18921882], pet_ssim_loss: [0.19295746],  total_ssim_loss: [0.19101337], total_l2_loss: [0.01442042], total_loss: [0.18924743]\n",
      "Epoch: [170],step: [5800], mri_ssim_loss: [0.23316473], pet_ssim_loss: [0.17016327],  total_ssim_loss: [0.20292401], total_l2_loss: [0.01137274], total_loss: [0.20100850]\n",
      "Epoch: [173],step: [5900], mri_ssim_loss: [0.14184403], pet_ssim_loss: [0.11726987],  total_ssim_loss: [0.13004842], total_l2_loss: [0.01100074], total_loss: [0.12885794]\n",
      "Epoch: [176],step: [6000], mri_ssim_loss: [0.11268574], pet_ssim_loss: [0.12618899],  total_ssim_loss: [0.11916730], total_l2_loss: [0.00915016], total_loss: [0.11806713]\n",
      "Epoch: [179],step: [6100], mri_ssim_loss: [0.12346011], pet_ssim_loss: [0.13942957],  total_ssim_loss: [0.13112545], total_l2_loss: [0.00861040], total_loss: [0.12990029]\n",
      "Epoch: [182],step: [6200], mri_ssim_loss: [0.13663375], pet_ssim_loss: [0.16590118],  total_ssim_loss: [0.15068212], total_l2_loss: [0.01199779], total_loss: [0.14929529]\n",
      "Epoch: [185],step: [6300], mri_ssim_loss: [0.20904207], pet_ssim_loss: [0.21646953],  total_ssim_loss: [0.21260725], total_l2_loss: [0.01780493], total_loss: [0.21065924]\n",
      "Epoch: [188],step: [6400], mri_ssim_loss: [0.23549688], pet_ssim_loss: [0.33581561],  total_ssim_loss: [0.28364986], total_l2_loss: [0.02432650], total_loss: [0.28105664]\n",
      "Epoch: [191],step: [6500], mri_ssim_loss: [0.26550090], pet_ssim_loss: [0.28995323],  total_ssim_loss: [0.27723801], total_l2_loss: [0.00914636], total_loss: [0.27455708]\n",
      "Epoch: [194],step: [6600], mri_ssim_loss: [0.17151862], pet_ssim_loss: [0.25074816],  total_ssim_loss: [0.20954880], total_l2_loss: [0.00853409], total_loss: [0.20753865]\n",
      "Epoch: [197],step: [6700], mri_ssim_loss: [0.19348097], pet_ssim_loss: [0.18564767],  total_ssim_loss: [0.18972099], total_l2_loss: [0.00688901], total_loss: [0.18789268]\n",
      "Epoch: [199],step: [6800], mri_ssim_loss: [0.24842572], pet_ssim_loss: [0.16139770],  total_ssim_loss: [0.20665225], total_l2_loss: [0.01266581], total_loss: [0.20471239]\n"
     ]
    },
    {
     "name": "stderr",
     "output_type": "stream",
     "text": [
      "/software/ml/JupyterHub/conda-env-20191018-0822/lib/python3.6/site-packages/torch/serialization.py:256: UserWarning: Couldn't retrieve source code for container of type DeepPedestrian. It won't be checked for correctness upon loading.\n",
      "  \"type \" + obj.__name__ + \". It won't be checked \"\n"
     ]
    }
   ],
   "source": [
    "# perform the training\n",
    "counter = 0\n",
    "start_time = time.time()\n",
    "lamda = 0.99\n",
    "gamma_ssim = 0.52\n",
    "gamma_l2 = 0.5\n",
    "ep_ssim_mri_loss = []\n",
    "ep_ssim_pet_loss = []\n",
    "ep_l2_mri_loss = []\n",
    "ep_l2_pet_loss = []\n",
    "for epoch in range(EPOCH):\n",
    "    ssim_mri_Loss = []\n",
    "    ssim_pet_Loss = []\n",
    "    l2_mri_Loss = []\n",
    "    l2_pet_Loss = []\n",
    "    #run batch images\n",
    "    batch_idxs = 272 // batch_size\n",
    "    for idx in range(0, batch_idxs):\n",
    "        b_x = train_mri_tensor[idx*batch_size : (idx+1)*batch_size,:,:,:].to(device)\n",
    "        b_y = train_pet_tensor[idx*batch_size : (idx+1)*batch_size,:,:,:].to(device)\n",
    "        counter += 1\n",
    "        output = cnn(b_x,b_y)               # cnn output\n",
    "        ssim_loss_mri = 1 - ssim(output, b_x,data_range=1)\n",
    "        ssim_loss_pet = 1 - ssim(output, b_y,data_range=1)\n",
    "        l2_loss_mri   = l2_loss(output,b_x)\n",
    "        l2_loss_pet   = l2_loss(output,b_y)\n",
    "        ssim_total = gamma_ssim*ssim_loss_mri + (1-gamma_ssim)*ssim_loss_pet\n",
    "        l2_total = gamma_l2*l2_loss_mri + (1-gamma_l2)*l2_loss_pet\n",
    "        loss_total = lamda*ssim_total + (1-lamda)*l2_total \n",
    "        optimizer.zero_grad()           # clear gradients for this training step\n",
    "        loss_total.backward()           # backpropagation, compute gradients\n",
    "        optimizer.step()                # apply gradients\n",
    "    \n",
    "        #store all the loss values at each epoch\n",
    "        ssim_mri_Loss.append(ssim_loss_mri.item())\n",
    "        ssim_pet_Loss.append(ssim_loss_pet.item())\n",
    "        l2_mri_Loss.append(l2_loss_mri.item())\n",
    "        l2_pet_Loss.append(l2_loss_pet.item())\n",
    "\n",
    "        if counter % 100 == 0:\n",
    "            print(\"Epoch: [%2d],step: [%2d], mri_ssim_loss: [%.8f], pet_ssim_loss: [%.8f],  total_ssim_loss: [%.8f], total_l2_loss: [%.8f], total_loss: [%.8f]\" \n",
    "            %(epoch, counter, ssim_loss_mri, ssim_loss_pet, ssim_total, l2_total, loss_total))\n",
    "            \n",
    "    #learning schedule\n",
    "    #scheduler.step()\n",
    "\n",
    "    av_ssim_mri_loss = np.average(ssim_mri_Loss)\n",
    "    ep_ssim_mri_loss.append(av_ssim_mri_loss)\n",
    "    \n",
    "    av_ssim_pet_loss = np.average(ssim_pet_Loss)\n",
    "    ep_ssim_pet_loss.append(av_ssim_pet_loss)\n",
    "    \n",
    "    av_l2_mri_loss = np.average(l2_mri_Loss)\n",
    "    ep_l2_mri_loss.append(av_l2_mri_loss)\n",
    "    \n",
    "    av_l2_pet_loss = np.average(l2_pet_Loss)\n",
    "    ep_l2_pet_loss.append(av_l2_pet_loss)\n",
    "    \n",
    "\n",
    "    if(epoch == EPOCH -1):\n",
    "      #Save a checkpoint\n",
    "      torch.save(cnn, '/home/h1/s8993054/Forschungprojekt/DeepPedestrian/Checkpoint/checkpoint_lambda_0.99_gamma_ssim_0.52_gamma_l2_0.5.pth') "
   ]
  },
  {
   "cell_type": "code",
   "execution_count": 49,
   "metadata": {},
   "outputs": [],
   "source": [
    "l1 = np.asarray(ep_ssim_mri_loss)\n",
    "l2 = np.asarray(ep_ssim_pet_loss)\n",
    "l3 = np.asarray(ep_l2_mri_loss)\n",
    "l4 = np.asarray(ep_l2_pet_loss)"
   ]
  },
  {
   "cell_type": "code",
   "execution_count": 59,
   "metadata": {},
   "outputs": [],
   "source": [
    "h5f = h5py.File('/home/h1/s8993054/Forschungprojekt/DeepPedestrian/Loss curves/H5 Files/lamda_0.99/gamma_0.52_0.5_ssim_mri.h5', 'w')\n",
    "h5f.create_dataset('data', data=l1)\n",
    "h5f.close()\n",
    "\n",
    "h5f = h5py.File('/home/h1/s8993054/Forschungprojekt/DeepPedestrian/Loss curves/H5 Files/lamda_0.99/gamma_0.52_0.5_ssim_pet.h5', 'w')\n",
    "h5f.create_dataset('data', data=l2)\n",
    "h5f.close()\n",
    "\n",
    "h5f = h5py.File('/home/h1/s8993054/Forschungprojekt/DeepPedestrian/Loss curves/H5 Files/lamda_0.99/gamma_0.52_0.5_l2_mri.h5', 'w')\n",
    "h5f.create_dataset('data', data=l3)\n",
    "h5f.close()\n",
    "\n",
    "h5f = h5py.File('/home/h1/s8993054/Forschungprojekt/DeepPedestrian/Loss curves/H5 Files/lamda_0.99/gamma_0.52_0.5_l2_pet.h5', 'w')\n",
    "h5f.create_dataset('data', data=l4)\n",
    "h5f.close()"
   ]
  },
  {
   "cell_type": "code",
   "execution_count": 60,
   "metadata": {},
   "outputs": [
    {
     "name": "stderr",
     "output_type": "stream",
     "text": [
      "The PostScript backend does not support transparency; partially transparent artists will be rendered opaque.\n",
      "The PostScript backend does not support transparency; partially transparent artists will be rendered opaque.\n"
     ]
    },
    {
     "data": {
      "image/png": "[encoded data removed]",
      "text/plain": [
       "<Figure size 432x288 with 1 Axes>"
      ]
     },
     "metadata": {
      "needs_background": "light"
     },
     "output_type": "display_data"
    }
   ],
   "source": [
    "#FunFuseAn SSIM gamma_ssim = 0.1 gamma_l2 = 0.1\n",
    "fontP = FontProperties()\n",
    "fontP.set_size('large')\n",
    "plt.plot(l1,'b',label='$1-SSIM_{MRI}$')\n",
    "plt.plot(l2,'c',label='$1-SSIM_{PET}$')\n",
    "plt.xlabel('epoch',fontsize= 15)\n",
    "plt.ylabel('Loss values',fontsize= 15)\n",
    "plt.legend(loc=1, prop=fontP)\n",
    "plt.title('DeepPedestrian $\\lambda = 0.99, \\gamma_{ssim} = 0.52, \\gamma_{l2} = 0.5$',fontsize='15')\n",
    "plt.savefig('/home/h1/s8993054/Forschungprojekt/DeepPedestrian/Loss curves/Images/lamda_0.99/gamma_0.52_0.5_ssim.eps', format='eps', dpi=100)"
   ]
  },
  {
   "cell_type": "code",
   "execution_count": 61,
   "metadata": {},
   "outputs": [
    {
     "name": "stderr",
     "output_type": "stream",
     "text": [
      "The PostScript backend does not support transparency; partially transparent artists will be rendered opaque.\n",
      "The PostScript backend does not support transparency; partially transparent artists will be rendered opaque.\n"
     ]
    },
    {
     "data": {
      "image/png": "[encoded data removed]",
      "text/plain": [
       "<Figure size 432x288 with 1 Axes>"
      ]
     },
     "metadata": {
      "needs_background": "light"
     },
     "output_type": "display_data"
    }
   ],
   "source": [
    "#FunFuseAn L2 gamma_ssim = 0.1 gamma_l2 = 0.1\n",
    "fontP = FontProperties()\n",
    "fontP.set_size('large')\n",
    "plt.plot(l3,'b',label='$l2_{MRI}$')\n",
    "plt.plot(l4,'c',label='$l2_{PET}$')\n",
    "plt.xlabel('epoch',fontsize= 15)\n",
    "plt.ylabel('Loss values',fontsize= 15)\n",
    "plt.legend(loc=1, prop=fontP)\n",
    "plt.title('DeepPedestrian $\\lambda = 0.99, \\gamma_{ssim} = 0.52, \\gamma_{l2} = 0.5$',fontsize='15')\n",
    "plt.savefig('/home/h1/s8993054/Forschungprojekt/DeepPedestrian/Loss curves/Images/lamda_0.99/gamma_0.52_0.5_l2.eps', format='eps', dpi=100)"
   ]
  },
  {
   "cell_type": "code",
   "execution_count": null,
   "metadata": {},
   "outputs": [],
   "source": []
  }
 ],
 "metadata": {
  "kernelspec": {
   "display_name": "Python 3",
   "language": "python",
   "name": "python3"
  },
  "language_info": {
   "codemirror_mode": {
    "name": "ipython",
    "version": 3
   },
   "file_extension": ".py",
   "mimetype": "text/x-python",
   "name": "python",
   "nbconvert_exporter": "python",
   "pygments_lexer": "ipython3",
   "version": "3.6.9"
  }
 },
 "nbformat": 4,
 "nbformat_minor": 4
}
