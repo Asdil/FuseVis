{
 "cells": [
  {
   "cell_type": "markdown",
   "metadata": {},
   "source": [
    "This is the pytorch implementation of the deep learning model proposed in the paper 'Deep Visible and Thermal Image Fusion for Enhanced pedestrian visibility'"
   ]
  },
  {
   "cell_type": "code",
   "execution_count": 1,
   "metadata": {},
   "outputs": [
    {
     "name": "stderr",
     "output_type": "stream",
     "text": [
      "C:\\Program Files (x86)\\Microsoft Visual Studio\\Shared\\Anaconda3_64\\lib\\site-packages\\h5py\\__init__.py:36: FutureWarning: Conversion of the second argument of issubdtype from `float` to `np.floating` is deprecated. In future, it will be treated as `np.float64 == np.dtype(float).type`.\n",
      "  from ._conv import register_converters as _register_converters\n"
     ]
    }
   ],
   "source": [
    "#Import packages\n",
    "import time\n",
    "import torch.nn as nn\n",
    "import torch\n",
    "from torch.utils.data import Dataset, DataLoader\n",
    "import torchvision.datasets as datasets\n",
    "import numpy as np\n",
    "from torchvision import transforms\n",
    "from torch.autograd import Variable\n",
    "from PIL import Image\n",
    "import torchvision.transforms.functional as TF\n",
    "from torchvision.models.vgg import vgg19\n",
    "import torch.nn as nn\n",
    "import torch.nn.functional as F\n",
    "import torch\n",
    "from skimage import img_as_ubyte\n",
    "import torch.nn as nn\n",
    "import torch.utils.data as Data\n",
    "import torchvision      # dataset\n",
    "import matplotlib.pyplot as plt\n",
    "import scipy\n",
    "import numpy as np\n",
    "import argparse\n",
    "import glob\n",
    "import imageio\n",
    "from skimage import color\n",
    "import numpy\n",
    "import natsort\n",
    "import scipy\n",
    "from pytorch_msssim import ssim, ms_ssim, SSIM, MS_SSIM\n",
    "import pprint\n",
    "from scipy.ndimage import correlate\n",
    "from scipy.ndimage.filters import gaussian_gradient_magnitude\n",
    "import torchvision.datasets as dset\n",
    "import torch.utils.data as data\n",
    "import os\n",
    "import os.path\n",
    "from tkinter import *\n",
    "import tkinter as tk\n",
    "import tkinter.font as tkFont\n",
    "from PIL import ImageTk, Image\n",
    "import pylab\n",
    "import cv2\n",
    "import h5py\n",
    "from mpl_toolkits.axes_grid1 import make_axes_locatable"
   ]
  },
  {
   "cell_type": "code",
   "execution_count": 2,
   "metadata": {},
   "outputs": [
    {
     "name": "stdout",
     "output_type": "stream",
     "text": [
      "11811160064\n"
     ]
    }
   ],
   "source": [
    "device = 'cuda' if torch.cuda.is_available() else 'cpu'\n",
    "print(torch.cuda.get_device_properties(0).total_memory)"
   ]
  },
  {
   "cell_type": "code",
   "execution_count": 3,
   "metadata": {},
   "outputs": [
    {
     "data": {
      "text/plain": [
       "12"
      ]
     },
     "execution_count": 3,
     "metadata": {},
     "output_type": "execute_result"
    }
   ],
   "source": [
    "import multiprocessing\n",
    "\n",
    "multiprocessing.cpu_count()"
   ]
  },
  {
   "cell_type": "code",
   "execution_count": 4,
   "metadata": {},
   "outputs": [],
   "source": [
    "#define the hyperparameters\n",
    "image_length = 256\n",
    "image_width  = 256\n",
    "mr_channels  = 1\n",
    "gray_channels = 1\n",
    "pet_channels = 4    \n",
    "rgb_channels = 3     \n",
    "batch_size   = 1\n",
    "EPOCH = 50\n",
    "learning_rate = 0.002 "
   ]
  },
  {
   "cell_type": "code",
   "execution_count": 5,
   "metadata": {},
   "outputs": [],
   "source": [
    "#load the train mri data\n",
    "filenames = os.listdir('C:/Users/horan/Desktop/Suraka/Training/MRI')\n",
    "dataset = os.path.join(os.getcwd(), 'C:/Users/horan/Desktop/Suraka/Training/MRI')\n",
    "data = glob.glob(os.path.join(dataset, \"*.gif\"))\n",
    "data = natsort.natsorted(data,reverse=False)\n",
    "train_mri = np.zeros((len(data), image_width,image_length))\n",
    "for i in range(len(data)):\n",
    "    train_mri[i,:,:] =(imageio.imread(data[i]))\n",
    "    train_mri[i,:,:] =(train_mri[i,:,:] - np.min(train_mri[i,:,:])) / (np.max(train_mri[i,:,:]) - np.min(train_mri[i,:,:]))\n",
    "    train_mri[i,:,:] = np.float32(train_mri[i,:,:])"
   ]
  },
  {
   "cell_type": "code",
   "execution_count": 6,
   "metadata": {},
   "outputs": [],
   "source": [
    "#expand dimension to add the channel\n",
    "train_mri = np.expand_dims(train_mri,axis=1)"
   ]
  },
  {
   "cell_type": "code",
   "execution_count": 7,
   "metadata": {},
   "outputs": [
    {
     "data": {
      "text/plain": [
       "(272, 1, 256, 256)"
      ]
     },
     "execution_count": 7,
     "metadata": {},
     "output_type": "execute_result"
    }
   ],
   "source": [
    "#verify the shape matches the pytorch standard\n",
    "train_mri.shape"
   ]
  },
  {
   "cell_type": "code",
   "execution_count": 8,
   "metadata": {},
   "outputs": [
    {
     "data": {
      "text/plain": [
       "torch.Size([272, 1, 256, 256])"
      ]
     },
     "execution_count": 8,
     "metadata": {},
     "output_type": "execute_result"
    }
   ],
   "source": [
    "#convert the MRI training data to pytorch tensor\n",
    "train_mri_tensor = torch.from_numpy(train_mri).float()\n",
    "train_mri_tensor.shape"
   ]
  },
  {
   "cell_type": "code",
   "execution_count": 9,
   "metadata": {},
   "outputs": [],
   "source": [
    "#load the train pet data\n",
    "filenames = os.listdir('C:/Users/horan/Desktop/Suraka/Training/PET')\n",
    "dataset = os.path.join(os.getcwd(), 'C:/Users/horan/Desktop/Suraka/Training/PET')\n",
    "data = glob.glob(os.path.join(dataset, \"*.gif\"))\n",
    "data = natsort.natsorted(data,reverse=False)\n",
    "train_other = np.zeros((len(data),image_width,image_length,pet_channels),dtype=float)\n",
    "train_pet = np.zeros((len(data),image_width,image_length),dtype=float)\n",
    "for i in range(len(data)):\n",
    "    train_other[i,:,:,:] =(imageio.imread(data[i]))\n",
    "    train_pet[i,:,:] = 0.2989 * train_other[i,:,:,0] + 0.5870 *  train_other[i,:,:,1]  + 0.1140 * train_other[i,:,:,2]\n",
    "    train_pet[i,:,:] =(train_pet[i,:,:] - np.min(train_pet[i,:,:])) / (np.max(train_pet[i,:,:]) - np.min(train_pet[i,:,:]))"
   ]
  },
  {
   "cell_type": "code",
   "execution_count": 10,
   "metadata": {},
   "outputs": [],
   "source": [
    "#expand the dimension to add the channel\n",
    "train_pet = np.expand_dims(train_pet,axis=1)"
   ]
  },
  {
   "cell_type": "code",
   "execution_count": 11,
   "metadata": {},
   "outputs": [
    {
     "data": {
      "text/plain": [
       "(272, 1, 256, 256)"
      ]
     },
     "execution_count": 11,
     "metadata": {},
     "output_type": "execute_result"
    }
   ],
   "source": [
    "#verify the shape matches the pytorch standard\n",
    "train_pet.shape"
   ]
  },
  {
   "cell_type": "code",
   "execution_count": 12,
   "metadata": {},
   "outputs": [
    {
     "data": {
      "text/plain": [
       "torch.Size([272, 1, 256, 256])"
      ]
     },
     "execution_count": 12,
     "metadata": {},
     "output_type": "execute_result"
    }
   ],
   "source": [
    "#convert the PET training data to pytorch tensor\n",
    "train_pet_tensor = torch.from_numpy(train_pet).float()\n",
    "train_pet_tensor.shape"
   ]
  },
  {
   "cell_type": "code",
   "execution_count": 34,
   "metadata": {},
   "outputs": [
    {
     "name": "stdout",
     "output_type": "stream",
     "text": [
      "DeepPedestrian(\n",
      "  (conv1): Sequential(\n",
      "    (0): Conv2d(2, 48, kernel_size=(3, 3), stride=(1, 1), padding=(1, 1))\n",
      "    (1): ReLU()\n",
      "    (2): Conv2d(48, 48, kernel_size=(3, 3), stride=(1, 1), padding=(1, 1))\n",
      "    (3): ReLU()\n",
      "    (4): Conv2d(48, 48, kernel_size=(3, 3), stride=(1, 1), padding=(1, 1))\n",
      "    (5): ReLU()\n",
      "    (6): Conv2d(48, 48, kernel_size=(3, 3), stride=(1, 1), padding=(1, 1))\n",
      "  )\n",
      "  (conv2): Sequential(\n",
      "    (0): ReLU()\n",
      "    (1): Conv2d(48, 48, kernel_size=(3, 3), stride=(1, 1), padding=(1, 1))\n",
      "    (2): ReLU()\n",
      "    (3): Conv2d(48, 48, kernel_size=(3, 3), stride=(1, 1), padding=(1, 1))\n",
      "    (4): ReLU()\n",
      "    (5): Conv2d(48, 48, kernel_size=(3, 3), stride=(1, 1), padding=(1, 1))\n",
      "    (6): ReLU()\n",
      "    (7): Conv2d(48, 48, kernel_size=(3, 3), stride=(1, 1), padding=(1, 1))\n",
      "  )\n",
      "  (conv3): Sequential(\n",
      "    (0): ReLU()\n",
      "    (1): Conv2d(48, 48, kernel_size=(3, 3), stride=(1, 1), padding=(1, 1))\n",
      "    (2): ReLU()\n",
      "    (3): Conv2d(48, 48, kernel_size=(3, 3), stride=(1, 1), padding=(1, 1))\n",
      "    (4): ReLU()\n",
      "    (5): Conv2d(48, 48, kernel_size=(3, 3), stride=(1, 1), padding=(1, 1))\n",
      "    (6): ReLU()\n",
      "    (7): Conv2d(48, 48, kernel_size=(3, 3), stride=(1, 1), padding=(1, 1))\n",
      "  )\n",
      "  (conv4): Sequential(\n",
      "    (0): ReLU()\n",
      "    (1): Conv2d(48, 48, kernel_size=(3, 3), stride=(1, 1), padding=(1, 1))\n",
      "    (2): ReLU()\n",
      "    (3): Conv2d(48, 48, kernel_size=(3, 3), stride=(1, 1), padding=(1, 1))\n",
      "    (4): ReLU()\n",
      "    (5): Conv2d(48, 48, kernel_size=(3, 3), stride=(1, 1), padding=(1, 1))\n",
      "    (6): ReLU()\n",
      "    (7): Conv2d(48, 48, kernel_size=(3, 3), stride=(1, 1), padding=(1, 1))\n",
      "  )\n",
      "  (conv5): Sequential(\n",
      "    (0): ReLU()\n",
      "    (1): Conv2d(48, 1, kernel_size=(3, 3), stride=(1, 1), padding=(1, 1))\n",
      "  )\n",
      ")\n"
     ]
    }
   ],
   "source": [
    "#define the fusion network\n",
    "#define the network\n",
    "class DeepPedestrian(nn.Module):\n",
    "    def  __init__(self):\n",
    "        super(DeepPedestrian, self).__init__()\n",
    "        #####layer 1#####\n",
    "        self.conv1 = nn.Sequential(                             #input shape  (,2,256,256)\n",
    "                         nn.Conv2d(in_channels=2, out_channels=48, kernel_size=3, stride=1, padding=1),\n",
    "                         nn.ReLU(),\n",
    "                         nn.Conv2d(in_channels = 48, out_channels = 48, kernel_size  = 3, stride= 1, padding = 1),\n",
    "                         nn.ReLU(),\n",
    "                         nn.Conv2d(in_channels = 48, out_channels = 48, kernel_size  = 3, stride= 1, padding = 1),\n",
    "                         nn.ReLU(),\n",
    "                         nn.Conv2d(in_channels = 48, out_channels = 48, kernel_size  = 3, stride= 1, padding = 1)\n",
    "                         )                                     #output shape (,48,256,256)   \n",
    "        #####layer 2#####\n",
    "        self.conv2 = nn.Sequential(                            #input shape  (,48,256,256)\n",
    "                         nn.ReLU(),\n",
    "                         nn.Conv2d(in_channels=48, out_channels=48, kernel_size=3, stride=1, padding=1),\n",
    "                         nn.ReLU(),\n",
    "                         nn.Conv2d(in_channels = 48, out_channels = 48, kernel_size  = 3, stride= 1, padding = 1),\n",
    "                         nn.ReLU(),\n",
    "                         nn.Conv2d(in_channels = 48, out_channels = 48, kernel_size  = 3, stride= 1, padding = 1),\n",
    "                         nn.ReLU(),\n",
    "                         nn.Conv2d(in_channels = 48, out_channels = 48, kernel_size  = 3, stride= 1, padding = 1)\n",
    "                         )                                     #output shape (,48,256,256)   \n",
    "        #####layer 3#####\n",
    "        self.conv3 = nn.Sequential(                            #input shape  (,48,256,256)\n",
    "                         nn.ReLU(), \n",
    "                         nn.Conv2d(in_channels = 48, out_channels = 48, kernel_size=3, stride=1, padding=1),\n",
    "                         nn.ReLU(),\n",
    "                         nn.Conv2d(in_channels = 48, out_channels = 48, kernel_size  = 3, stride= 1, padding = 1),\n",
    "                         nn.ReLU(),\n",
    "                         nn.Conv2d(in_channels = 48, out_channels = 48, kernel_size  = 3, stride= 1, padding = 1),\n",
    "                         nn.ReLU(),\n",
    "                         nn.Conv2d(in_channels = 48, out_channels = 48, kernel_size  = 3, stride= 1, padding = 1)\n",
    "                         )                                     #output shape (,48,256,256)     \n",
    "        #####layer 4#####\n",
    "        self.conv4 = nn.Sequential(                            #input shape  (,48,256,256)\n",
    "                         nn.ReLU(), \n",
    "                         nn.Conv2d(in_channels = 48, out_channels = 48, kernel_size=3, stride=1, padding=1),\n",
    "                         nn.ReLU(),\n",
    "                         nn.Conv2d(in_channels = 48, out_channels = 48, kernel_size  = 3, stride= 1, padding = 1),\n",
    "                         nn.ReLU(),\n",
    "                         nn.Conv2d(in_channels = 48, out_channels = 48, kernel_size  = 3, stride= 1, padding = 1),\n",
    "                         nn.ReLU(),\n",
    "                         nn.Conv2d(in_channels = 48, out_channels = 48, kernel_size  = 3, stride= 1, padding = 1)\n",
    "                         )                                      #output shape (,48,256,256)  \n",
    "        #####layer 5#####\n",
    "        self.conv5 = nn.Sequential(                             #input shape (, 48, 256, 256)\n",
    "                          nn.ReLU(),\n",
    "                          nn.Conv2d(in_channels  = 48,  out_channels = 1, kernel_size  = 3, stride = 1, padding = 1)) \n",
    "                                                                #output shape (,1, 256, 256)\n",
    "        \n",
    "    def forward(self, x, y):\n",
    "        #layer 1\n",
    "        x1 = self.conv1(torch.cat((x,y),dim=1))\n",
    "        #layer 2\n",
    "        x2 = self.conv2(x1)\n",
    "        #residual layer\n",
    "        x3 = x1+x2\n",
    "        #layer 3\n",
    "        x4 = self.conv3(x3)\n",
    "        #layer 4\n",
    "        x5 = self.conv4(x4)\n",
    "        #residual layer\n",
    "        x6 = x4 + x5\n",
    "        #layer 5\n",
    "        fused = self.conv5(x6)\n",
    "        return fused\n",
    "        #execute the network\n",
    "\n",
    "cnn = DeepPedestrian().to(device)\n",
    "cnn = cnn.float()\n",
    "print(cnn)"
   ]
  },
  {
   "cell_type": "code",
   "execution_count": 35,
   "metadata": {},
   "outputs": [],
   "source": [
    "#define the optimizers and loss functions \n",
    "optimizer = torch.optim.Adam(cnn.parameters(), lr=learning_rate)   # optimize all cnn parameters\n",
    "l2_loss   = nn.MSELoss() #MSEloss"
   ]
  },
  {
   "cell_type": "code",
   "execution_count": 36,
   "metadata": {},
   "outputs": [
    {
     "name": "stdout",
     "output_type": "stream",
     "text": [
      "Epoch: [ 0],step: [100], mri_ssim_loss: [0.27512664], pet_ssim_loss: [0.05418521],  total_ssim_loss: [0.32931185], total_l2_loss: [0.02671004], total_loss: [0.26879150]\n",
      "Epoch: [ 0],step: [200], mri_ssim_loss: [0.44704807], pet_ssim_loss: [0.15746778],  total_ssim_loss: [0.60451585], total_l2_loss: [0.04383595], total_loss: [0.49237987]\n",
      "Epoch: [ 1],step: [300], mri_ssim_loss: [0.19738376], pet_ssim_loss: [0.24018860],  total_ssim_loss: [0.43757236], total_l2_loss: [0.01364732], total_loss: [0.35278738]\n",
      "Epoch: [ 1],step: [400], mri_ssim_loss: [0.12905037], pet_ssim_loss: [0.10906225],  total_ssim_loss: [0.23811263], total_l2_loss: [0.01842357], total_loss: [0.19417483]\n",
      "Epoch: [ 1],step: [500], mri_ssim_loss: [0.57899708], pet_ssim_loss: [0.20333749],  total_ssim_loss: [0.78233457], total_l2_loss: [0.02268434], total_loss: [0.63040453]\n",
      "Epoch: [ 2],step: [600], mri_ssim_loss: [0.30578053], pet_ssim_loss: [0.25227803],  total_ssim_loss: [0.55805856], total_l2_loss: [0.03234239], total_loss: [0.45291534]\n",
      "Epoch: [ 2],step: [700], mri_ssim_loss: [0.30111420], pet_ssim_loss: [0.10865712],  total_ssim_loss: [0.40977132], total_l2_loss: [0.02589077], total_loss: [0.33299521]\n",
      "Epoch: [ 2],step: [800], mri_ssim_loss: [0.23968124], pet_ssim_loss: [0.11942810],  total_ssim_loss: [0.35910934], total_l2_loss: [0.04453516], total_loss: [0.29619449]\n",
      "Epoch: [ 3],step: [900], mri_ssim_loss: [0.17502785], pet_ssim_loss: [0.16049427],  total_ssim_loss: [0.33552212], total_l2_loss: [0.02773461], total_loss: [0.27396461]\n",
      "Epoch: [ 3],step: [1000], mri_ssim_loss: [0.37224448], pet_ssim_loss: [0.10182822],  total_ssim_loss: [0.47407269], total_l2_loss: [0.03015571], total_loss: [0.38528931]\n",
      "Epoch: [ 4],step: [1100], mri_ssim_loss: [0.22474641], pet_ssim_loss: [0.12013656],  total_ssim_loss: [0.34488297], total_l2_loss: [0.01667266], total_loss: [0.27924091]\n",
      "Epoch: [ 4],step: [1200], mri_ssim_loss: [0.16336119], pet_ssim_loss: [0.10010517],  total_ssim_loss: [0.26346636], total_l2_loss: [0.01699866], total_loss: [0.21417283]\n",
      "Epoch: [ 4],step: [1300], mri_ssim_loss: [0.28936940], pet_ssim_loss: [0.08643097],  total_ssim_loss: [0.37580037], total_l2_loss: [0.01845837], total_loss: [0.30433199]\n",
      "Epoch: [ 5],step: [1400], mri_ssim_loss: [0.32768756], pet_ssim_loss: [0.27469587],  total_ssim_loss: [0.60238343], total_l2_loss: [0.01957435], total_loss: [0.48582160]\n",
      "Epoch: [ 5],step: [1500], mri_ssim_loss: [0.11738700], pet_ssim_loss: [0.05544949],  total_ssim_loss: [0.17283648], total_l2_loss: [0.02143553], total_loss: [0.14255629]\n",
      "Epoch: [ 5],step: [1600], mri_ssim_loss: [0.29272503], pet_ssim_loss: [0.12414193],  total_ssim_loss: [0.41686696], total_l2_loss: [0.02004671], total_loss: [0.33750290]\n",
      "Epoch: [ 6],step: [1700], mri_ssim_loss: [0.29025465], pet_ssim_loss: [0.23031425],  total_ssim_loss: [0.52056891], total_l2_loss: [0.04160749], total_loss: [0.42477661]\n",
      "Epoch: [ 6],step: [1800], mri_ssim_loss: [0.25184065], pet_ssim_loss: [0.14652818],  total_ssim_loss: [0.39836884], total_l2_loss: [0.02215944], total_loss: [0.32312694]\n",
      "Epoch: [ 6],step: [1900], mri_ssim_loss: [0.25897199], pet_ssim_loss: [0.12480402],  total_ssim_loss: [0.38377601], total_l2_loss: [0.01613059], total_loss: [0.31024694]\n",
      "Epoch: [ 7],step: [2000], mri_ssim_loss: [0.16573942], pet_ssim_loss: [0.12576652],  total_ssim_loss: [0.29150593], total_l2_loss: [0.02036141], total_loss: [0.23727703]\n",
      "Epoch: [ 7],step: [2100], mri_ssim_loss: [0.40923309], pet_ssim_loss: [0.16485327],  total_ssim_loss: [0.57408637], total_l2_loss: [0.03587880], total_loss: [0.46644488]\n",
      "Epoch: [ 8],step: [2200], mri_ssim_loss: [0.22140408], pet_ssim_loss: [0.24058747],  total_ssim_loss: [0.46199155], total_l2_loss: [0.01581047], total_loss: [0.37275532]\n",
      "Epoch: [ 8],step: [2300], mri_ssim_loss: [0.13726687], pet_ssim_loss: [0.10867834],  total_ssim_loss: [0.24594522], total_l2_loss: [0.01868342], total_loss: [0.20049286]\n",
      "Epoch: [ 8],step: [2400], mri_ssim_loss: [0.49063891], pet_ssim_loss: [0.25136518],  total_ssim_loss: [0.74200410], total_l2_loss: [0.03602710], total_loss: [0.60080874]\n",
      "Epoch: [ 9],step: [2500], mri_ssim_loss: [0.27013290], pet_ssim_loss: [0.18555409],  total_ssim_loss: [0.45568699], total_l2_loss: [0.01704845], total_loss: [0.36795929]\n",
      "Epoch: [ 9],step: [2600], mri_ssim_loss: [0.19490087], pet_ssim_loss: [0.07315594],  total_ssim_loss: [0.26805681], total_l2_loss: [0.01622221], total_loss: [0.21768990]\n",
      "Epoch: [ 9],step: [2700], mri_ssim_loss: [0.20915443], pet_ssim_loss: [0.15549737],  total_ssim_loss: [0.36465180], total_l2_loss: [0.02773019], total_loss: [0.29726747]\n",
      "Epoch: [10],step: [2800], mri_ssim_loss: [0.17186928], pet_ssim_loss: [0.15452588],  total_ssim_loss: [0.32639515], total_l2_loss: [0.03309428], total_loss: [0.26773497]\n",
      "Epoch: [10],step: [2900], mri_ssim_loss: [0.38606560], pet_ssim_loss: [0.09263229],  total_ssim_loss: [0.47869790], total_l2_loss: [0.04064487], total_loss: [0.39108729]\n",
      "Epoch: [11],step: [3000], mri_ssim_loss: [0.21471184], pet_ssim_loss: [0.16353542],  total_ssim_loss: [0.37824726], total_l2_loss: [0.01073031], total_loss: [0.30474389]\n",
      "Epoch: [11],step: [3100], mri_ssim_loss: [0.14604294], pet_ssim_loss: [0.11689889],  total_ssim_loss: [0.26294184], total_l2_loss: [0.01726483], total_loss: [0.21380645]\n",
      "Epoch: [11],step: [3200], mri_ssim_loss: [0.28172338], pet_ssim_loss: [0.14067012],  total_ssim_loss: [0.42239350], total_l2_loss: [0.01613269], total_loss: [0.34114134]\n",
      "Epoch: [12],step: [3300], mri_ssim_loss: [0.31489778], pet_ssim_loss: [0.30645233],  total_ssim_loss: [0.62135011], total_l2_loss: [0.01916904], total_loss: [0.50091392]\n",
      "Epoch: [12],step: [3400], mri_ssim_loss: [0.12175965], pet_ssim_loss: [0.08654654],  total_ssim_loss: [0.20830619], total_l2_loss: [0.02069916], total_loss: [0.17078479]\n",
      "Epoch: [12],step: [3500], mri_ssim_loss: [0.29380161], pet_ssim_loss: [0.14297384],  total_ssim_loss: [0.43677545], total_l2_loss: [0.01852003], total_loss: [0.35312438]\n",
      "Epoch: [13],step: [3600], mri_ssim_loss: [0.28268033], pet_ssim_loss: [0.29145050],  total_ssim_loss: [0.57413083], total_l2_loss: [0.04563873], total_loss: [0.46843240]\n",
      "Epoch: [13],step: [3700], mri_ssim_loss: [0.24111319], pet_ssim_loss: [0.14443511],  total_ssim_loss: [0.38554829], total_l2_loss: [0.01434204], total_loss: [0.31130704]\n",
      "Epoch: [13],step: [3800], mri_ssim_loss: [0.31027204], pet_ssim_loss: [0.16961694],  total_ssim_loss: [0.47988898], total_l2_loss: [0.03646969], total_loss: [0.39120513]\n",
      "Epoch: [14],step: [3900], mri_ssim_loss: [0.16003078], pet_ssim_loss: [0.14638335],  total_ssim_loss: [0.30641413], total_l2_loss: [0.02345341], total_loss: [0.24982198]\n",
      "Epoch: [14],step: [4000], mri_ssim_loss: [0.25466192], pet_ssim_loss: [0.13591427],  total_ssim_loss: [0.39057618], total_l2_loss: [0.01453636], total_loss: [0.31536824]\n",
      "Epoch: [15],step: [4100], mri_ssim_loss: [0.24462479], pet_ssim_loss: [0.27858436],  total_ssim_loss: [0.52320915], total_l2_loss: [0.02151487], total_loss: [0.42287031]\n",
      "Epoch: [15],step: [4200], mri_ssim_loss: [0.13417143], pet_ssim_loss: [0.10637224],  total_ssim_loss: [0.24054366], total_l2_loss: [0.01730462], total_loss: [0.19589587]\n",
      "Epoch: [15],step: [4300], mri_ssim_loss: [0.47643059], pet_ssim_loss: [0.23267585],  total_ssim_loss: [0.70910645], total_l2_loss: [0.01642738], total_loss: [0.57057065]\n",
      "Epoch: [16],step: [4400], mri_ssim_loss: [0.30984348], pet_ssim_loss: [0.23624414],  total_ssim_loss: [0.54608762], total_l2_loss: [0.01948513], total_loss: [0.44076711]\n",
      "Epoch: [16],step: [4500], mri_ssim_loss: [0.25484455], pet_ssim_loss: [0.15028161],  total_ssim_loss: [0.40512615], total_l2_loss: [0.01573900], total_loss: [0.32724875]\n",
      "Epoch: [16],step: [4600], mri_ssim_loss: [0.22301418], pet_ssim_loss: [0.16504228],  total_ssim_loss: [0.38805646], total_l2_loss: [0.03062906], total_loss: [0.31657097]\n",
      "Epoch: [17],step: [4700], mri_ssim_loss: [0.23160559], pet_ssim_loss: [0.21102440],  total_ssim_loss: [0.44262999], total_l2_loss: [0.03524392], total_loss: [0.36115280]\n",
      "Epoch: [17],step: [4800], mri_ssim_loss: [0.23037362], pet_ssim_loss: [0.12171453],  total_ssim_loss: [0.35208815], total_l2_loss: [0.02127267], total_loss: [0.28592506]\n",
      "Epoch: [18],step: [4900], mri_ssim_loss: [0.26439130], pet_ssim_loss: [0.14195681],  total_ssim_loss: [0.40634811], total_l2_loss: [0.02590431], total_loss: [0.33025935]\n"
     ]
    },
    {
     "name": "stdout",
     "output_type": "stream",
     "text": [
      "Epoch: [18],step: [5000], mri_ssim_loss: [0.13965410], pet_ssim_loss: [0.12532103],  total_ssim_loss: [0.26497513], total_l2_loss: [0.01909080], total_loss: [0.21579826]\n",
      "Epoch: [18],step: [5100], mri_ssim_loss: [0.33484149], pet_ssim_loss: [0.18711299],  total_ssim_loss: [0.52195448], total_l2_loss: [0.02608795], total_loss: [0.42278117]\n",
      "Epoch: [19],step: [5200], mri_ssim_loss: [0.32038420], pet_ssim_loss: [0.25721788],  total_ssim_loss: [0.57760209], total_l2_loss: [0.03294295], total_loss: [0.46867025]\n",
      "Epoch: [19],step: [5300], mri_ssim_loss: [0.11795568], pet_ssim_loss: [0.10554415],  total_ssim_loss: [0.22349983], total_l2_loss: [0.02084289], total_loss: [0.18296845]\n",
      "Epoch: [19],step: [5400], mri_ssim_loss: [0.35533231], pet_ssim_loss: [0.15410596],  total_ssim_loss: [0.50943828], total_l2_loss: [0.04017281], total_loss: [0.41558519]\n",
      "Epoch: [20],step: [5500], mri_ssim_loss: [0.28157294], pet_ssim_loss: [0.28884888],  total_ssim_loss: [0.57042181], total_l2_loss: [0.04917206], total_loss: [0.46617186]\n",
      "Epoch: [20],step: [5600], mri_ssim_loss: [0.24664116], pet_ssim_loss: [0.14639252],  total_ssim_loss: [0.39303368], total_l2_loss: [0.01512352], total_loss: [0.31745166]\n",
      "Epoch: [20],step: [5700], mri_ssim_loss: [0.12193835], pet_ssim_loss: [0.03797311],  total_ssim_loss: [0.15991145], total_l2_loss: [0.00754667], total_loss: [0.12943850]\n",
      "Epoch: [21],step: [5800], mri_ssim_loss: [0.16282099], pet_ssim_loss: [0.15506828],  total_ssim_loss: [0.31788927], total_l2_loss: [0.02656276], total_loss: [0.25962397]\n",
      "Epoch: [21],step: [5900], mri_ssim_loss: [0.31449550], pet_ssim_loss: [0.13876802],  total_ssim_loss: [0.45326352], total_l2_loss: [0.02874083], total_loss: [0.36835897]\n",
      "Epoch: [22],step: [6000], mri_ssim_loss: [0.28416753], pet_ssim_loss: [0.25888872],  total_ssim_loss: [0.54305625], total_l2_loss: [0.01915664], total_loss: [0.43827632]\n",
      "Epoch: [22],step: [6100], mri_ssim_loss: [0.14160317], pet_ssim_loss: [0.10170805],  total_ssim_loss: [0.24331123], total_l2_loss: [0.01662934], total_loss: [0.19797485]\n",
      "Epoch: [22],step: [6200], mri_ssim_loss: [0.51133597], pet_ssim_loss: [0.27211601],  total_ssim_loss: [0.78345197], total_l2_loss: [0.02096865], total_loss: [0.63095534]\n",
      "Epoch: [23],step: [6300], mri_ssim_loss: [0.31820172], pet_ssim_loss: [0.23544312],  total_ssim_loss: [0.55364484], total_l2_loss: [0.01804545], total_loss: [0.44652498]\n",
      "Epoch: [23],step: [6400], mri_ssim_loss: [0.31173253], pet_ssim_loss: [0.20744610],  total_ssim_loss: [0.51917863], total_l2_loss: [0.02566675], total_loss: [0.42047626]\n",
      "Epoch: [23],step: [6500], mri_ssim_loss: [0.21683615], pet_ssim_loss: [0.11705291],  total_ssim_loss: [0.33388907], total_l2_loss: [0.01319534], total_loss: [0.26975033]\n",
      "Epoch: [24],step: [6600], mri_ssim_loss: [0.25069380], pet_ssim_loss: [0.21942198],  total_ssim_loss: [0.47011578], total_l2_loss: [0.03790472], total_loss: [0.38367358]\n",
      "Epoch: [24],step: [6700], mri_ssim_loss: [0.23215920], pet_ssim_loss: [0.14608836],  total_ssim_loss: [0.37824756], total_l2_loss: [0.03185603], total_loss: [0.30896926]\n",
      "Epoch: [24],step: [6800], mri_ssim_loss: [0.47289348], pet_ssim_loss: [0.07492626],  total_ssim_loss: [0.54781973], total_l2_loss: [0.05470560], total_loss: [0.44919690]\n",
      "Epoch: [25],step: [6900], mri_ssim_loss: [0.15742344], pet_ssim_loss: [0.11901069],  total_ssim_loss: [0.27643412], total_l2_loss: [0.02135926], total_loss: [0.22541915]\n",
      "Epoch: [25],step: [7000], mri_ssim_loss: [0.33065134], pet_ssim_loss: [0.22761661],  total_ssim_loss: [0.55826795], total_l2_loss: [0.04152559], total_loss: [0.45491946]\n",
      "Epoch: [26],step: [7100], mri_ssim_loss: [0.16225606], pet_ssim_loss: [0.25684810],  total_ssim_loss: [0.41910416], total_l2_loss: [0.01356620], total_loss: [0.33799657]\n",
      "Epoch: [26],step: [7200], mri_ssim_loss: [0.11975646], pet_ssim_loss: [0.10927641],  total_ssim_loss: [0.22903287], total_l2_loss: [0.01892167], total_loss: [0.18701063]\n",
      "Epoch: [26],step: [7300], mri_ssim_loss: [0.53935897], pet_ssim_loss: [0.21554589],  total_ssim_loss: [0.75490487], total_l2_loss: [0.02264812], total_loss: [0.60845351]\n",
      "Epoch: [27],step: [7400], mri_ssim_loss: [0.29271221], pet_ssim_loss: [0.24602199],  total_ssim_loss: [0.53873420], total_l2_loss: [0.03271129], total_loss: [0.43752962]\n",
      "Epoch: [27],step: [7500], mri_ssim_loss: [0.27078992], pet_ssim_loss: [0.12762541],  total_ssim_loss: [0.39841533], total_l2_loss: [0.02613870], total_loss: [0.32396001]\n",
      "Epoch: [27],step: [7600], mri_ssim_loss: [0.19663668], pet_ssim_loss: [0.11484945],  total_ssim_loss: [0.31148612], total_l2_loss: [0.01643066], total_loss: [0.25247502]\n",
      "Epoch: [28],step: [7700], mri_ssim_loss: [0.15980256], pet_ssim_loss: [0.16274333],  total_ssim_loss: [0.32254589], total_l2_loss: [0.02754515], total_loss: [0.26354572]\n",
      "Epoch: [28],step: [7800], mri_ssim_loss: [0.35072982], pet_ssim_loss: [0.11728883],  total_ssim_loss: [0.46801865], total_l2_loss: [0.03217398], total_loss: [0.38084972]\n",
      "Epoch: [29],step: [7900], mri_ssim_loss: [0.21482027], pet_ssim_loss: [0.12505907],  total_ssim_loss: [0.33987933], total_l2_loss: [0.01736953], total_loss: [0.27537739]\n",
      "Epoch: [29],step: [8000], mri_ssim_loss: [0.15548414], pet_ssim_loss: [0.10258538],  total_ssim_loss: [0.25806952], total_l2_loss: [0.01717452], total_loss: [0.20989051]\n",
      "Epoch: [29],step: [8100], mri_ssim_loss: [0.28128076], pet_ssim_loss: [0.09129107],  total_ssim_loss: [0.37257183], total_l2_loss: [0.01849545], total_loss: [0.30175656]\n",
      "Epoch: [30],step: [8200], mri_ssim_loss: [0.30595851], pet_ssim_loss: [0.28566211],  total_ssim_loss: [0.59162062], total_l2_loss: [0.02042990], total_loss: [0.47738248]\n",
      "Epoch: [30],step: [8300], mri_ssim_loss: [0.10707539], pet_ssim_loss: [0.06210601],  total_ssim_loss: [0.16918141], total_l2_loss: [0.02149022], total_loss: [0.13964318]\n",
      "Epoch: [30],step: [8400], mri_ssim_loss: [0.28087473], pet_ssim_loss: [0.11297864],  total_ssim_loss: [0.39385337], total_l2_loss: [0.01900843], total_loss: [0.31888437]\n",
      "Epoch: [31],step: [8500], mri_ssim_loss: [0.27971101], pet_ssim_loss: [0.23434508],  total_ssim_loss: [0.51405609], total_l2_loss: [0.04160993], total_loss: [0.41956687]\n",
      "Epoch: [31],step: [8600], mri_ssim_loss: [0.21929944], pet_ssim_loss: [0.17244911],  total_ssim_loss: [0.39174855], total_l2_loss: [0.02119669], total_loss: [0.31763819]\n",
      "Epoch: [31],step: [8700], mri_ssim_loss: [0.25677317], pet_ssim_loss: [0.12482226],  total_ssim_loss: [0.38159543], total_l2_loss: [0.01724683], total_loss: [0.30872571]\n",
      "Epoch: [32],step: [8800], mri_ssim_loss: [0.16241091], pet_ssim_loss: [0.12301397],  total_ssim_loss: [0.28542489], total_l2_loss: [0.02149518], total_loss: [0.23263894]\n",
      "Epoch: [32],step: [8900], mri_ssim_loss: [0.40342367], pet_ssim_loss: [0.16418469],  total_ssim_loss: [0.56760836], total_l2_loss: [0.03584855], total_loss: [0.46125641]\n",
      "Epoch: [33],step: [9000], mri_ssim_loss: [0.20875436], pet_ssim_loss: [0.24595463],  total_ssim_loss: [0.45470899], total_l2_loss: [0.01593123], total_loss: [0.36695346]\n",
      "Epoch: [33],step: [9100], mri_ssim_loss: [0.12757438], pet_ssim_loss: [0.11415225],  total_ssim_loss: [0.24172664], total_l2_loss: [0.01884607], total_loss: [0.19715053]\n",
      "Epoch: [33],step: [9200], mri_ssim_loss: [0.43886691], pet_ssim_loss: [0.28278422],  total_ssim_loss: [0.72165114], total_l2_loss: [0.03370080], total_loss: [0.58406109]\n",
      "Epoch: [34],step: [9300], mri_ssim_loss: [0.25661397], pet_ssim_loss: [0.19357240],  total_ssim_loss: [0.45018637], total_l2_loss: [0.01698673], total_loss: [0.36354646]\n",
      "Epoch: [34],step: [9400], mri_ssim_loss: [0.18759191], pet_ssim_loss: [0.07736856],  total_ssim_loss: [0.26496047], total_l2_loss: [0.01615363], total_loss: [0.21519910]\n",
      "Epoch: [34],step: [9500], mri_ssim_loss: [0.20922530], pet_ssim_loss: [0.14896166],  total_ssim_loss: [0.35818696], total_l2_loss: [0.02826466], total_loss: [0.29220250]\n",
      "Epoch: [35],step: [9600], mri_ssim_loss: [0.16345346], pet_ssim_loss: [0.15600306],  total_ssim_loss: [0.31945652], total_l2_loss: [0.03309898], total_loss: [0.26218501]\n",
      "Epoch: [35],step: [9700], mri_ssim_loss: [0.37981284], pet_ssim_loss: [0.09480095],  total_ssim_loss: [0.47461379], total_l2_loss: [0.04022980], total_loss: [0.38773701]\n",
      "Epoch: [36],step: [9800], mri_ssim_loss: [0.20174766], pet_ssim_loss: [0.17154205],  total_ssim_loss: [0.37328970], total_l2_loss: [0.01098002], total_loss: [0.30082777]\n"
     ]
    },
    {
     "name": "stdout",
     "output_type": "stream",
     "text": [
      "Epoch: [36],step: [9900], mri_ssim_loss: [0.14873809], pet_ssim_loss: [0.11007220],  total_ssim_loss: [0.25881028], total_l2_loss: [0.01758596], total_loss: [0.21056542]\n",
      "Epoch: [36],step: [10000], mri_ssim_loss: [0.28268325], pet_ssim_loss: [0.13190949],  total_ssim_loss: [0.41459274], total_l2_loss: [0.01506672], total_loss: [0.33468753]\n",
      "Epoch: [37],step: [10100], mri_ssim_loss: [0.32466030], pet_ssim_loss: [0.28871554],  total_ssim_loss: [0.61337584], total_l2_loss: [0.01974460], total_loss: [0.49464962]\n",
      "Epoch: [37],step: [10200], mri_ssim_loss: [0.11259449], pet_ssim_loss: [0.09240139],  total_ssim_loss: [0.20499587], total_l2_loss: [0.02122236], total_loss: [0.16824117]\n",
      "Epoch: [37],step: [10300], mri_ssim_loss: [0.29382271], pet_ssim_loss: [0.14220095],  total_ssim_loss: [0.43602365], total_l2_loss: [0.01869211], total_loss: [0.35255736]\n",
      "Epoch: [38],step: [10400], mri_ssim_loss: [0.26842064], pet_ssim_loss: [0.29498541],  total_ssim_loss: [0.56340605], total_l2_loss: [0.04672785], total_loss: [0.46007040]\n",
      "Epoch: [38],step: [10500], mri_ssim_loss: [0.22746110], pet_ssim_loss: [0.15253305],  total_ssim_loss: [0.37999415], total_l2_loss: [0.01373532], total_loss: [0.30674240]\n",
      "Epoch: [38],step: [10600], mri_ssim_loss: [0.31522942], pet_ssim_loss: [0.15846097],  total_ssim_loss: [0.47369039], total_l2_loss: [0.03672780], total_loss: [0.38629788]\n",
      "Epoch: [39],step: [10700], mri_ssim_loss: [0.16381121], pet_ssim_loss: [0.13700640],  total_ssim_loss: [0.30081761], total_l2_loss: [0.02421369], total_loss: [0.24549684]\n",
      "Epoch: [39],step: [10800], mri_ssim_loss: [0.26218456], pet_ssim_loss: [0.12047100],  total_ssim_loss: [0.38265556], total_l2_loss: [0.01442632], total_loss: [0.30900970]\n",
      "Epoch: [40],step: [10900], mri_ssim_loss: [0.24493021], pet_ssim_loss: [0.26915783],  total_ssim_loss: [0.51408803], total_l2_loss: [0.02247276], total_loss: [0.41576499]\n",
      "Epoch: [40],step: [11000], mri_ssim_loss: [0.13250971], pet_ssim_loss: [0.10439289],  total_ssim_loss: [0.23690259], total_l2_loss: [0.01746850], total_loss: [0.19301577]\n",
      "Epoch: [40],step: [11100], mri_ssim_loss: [0.43840909], pet_ssim_loss: [0.25913364],  total_ssim_loss: [0.69754273], total_l2_loss: [0.01644599], total_loss: [0.56132340]\n",
      "Epoch: [41],step: [11200], mri_ssim_loss: [0.30424142], pet_ssim_loss: [0.23312128],  total_ssim_loss: [0.53736269], total_l2_loss: [0.01955522], total_loss: [0.43380120]\n",
      "Epoch: [41],step: [11300], mri_ssim_loss: [0.24713176], pet_ssim_loss: [0.15223587],  total_ssim_loss: [0.39936763], total_l2_loss: [0.01583087], total_loss: [0.32266027]\n",
      "Epoch: [41],step: [11400], mri_ssim_loss: [0.22919166], pet_ssim_loss: [0.15156329],  total_ssim_loss: [0.38075495], total_l2_loss: [0.03075132], total_loss: [0.31075424]\n",
      "Epoch: [42],step: [11500], mri_ssim_loss: [0.22135729], pet_ssim_loss: [0.21679509],  total_ssim_loss: [0.43815237], total_l2_loss: [0.03545601], total_loss: [0.35761309]\n",
      "Epoch: [42],step: [11600], mri_ssim_loss: [0.21879536], pet_ssim_loss: [0.12747550],  total_ssim_loss: [0.34627086], total_l2_loss: [0.02043766], total_loss: [0.28110424]\n",
      "Epoch: [43],step: [11700], mri_ssim_loss: [0.25753438], pet_ssim_loss: [0.14047873],  total_ssim_loss: [0.39801311], total_l2_loss: [0.02616780], total_loss: [0.32364404]\n",
      "Epoch: [43],step: [11800], mri_ssim_loss: [0.14673096], pet_ssim_loss: [0.11377406],  total_ssim_loss: [0.26050502], total_l2_loss: [0.01969484], total_loss: [0.21234299]\n",
      "Epoch: [43],step: [11900], mri_ssim_loss: [0.33986062], pet_ssim_loss: [0.17340028],  total_ssim_loss: [0.51326090], total_l2_loss: [0.02485106], total_loss: [0.41557896]\n",
      "Epoch: [44],step: [12000], mri_ssim_loss: [0.34983724], pet_ssim_loss: [0.21531278],  total_ssim_loss: [0.56515002], total_l2_loss: [0.03337613], total_loss: [0.45879525]\n",
      "Epoch: [44],step: [12100], mri_ssim_loss: [0.11319637], pet_ssim_loss: [0.10618407],  total_ssim_loss: [0.21938044], total_l2_loss: [0.02162083], total_loss: [0.17982852]\n",
      "Epoch: [44],step: [12200], mri_ssim_loss: [0.33286732], pet_ssim_loss: [0.13697898],  total_ssim_loss: [0.46984631], total_l2_loss: [0.03874136], total_loss: [0.38362533]\n",
      "Epoch: [45],step: [12300], mri_ssim_loss: [0.29102015], pet_ssim_loss: [0.27083230],  total_ssim_loss: [0.56185246], total_l2_loss: [0.04777661], total_loss: [0.45903727]\n",
      "Epoch: [45],step: [12400], mri_ssim_loss: [0.24808902], pet_ssim_loss: [0.13825053],  total_ssim_loss: [0.38633955], total_l2_loss: [0.01457169], total_loss: [0.31198597]\n",
      "Epoch: [45],step: [12500], mri_ssim_loss: [0.11650604], pet_ssim_loss: [0.03992623],  total_ssim_loss: [0.15643227], total_l2_loss: [0.00747438], total_loss: [0.12664069]\n",
      "Epoch: [46],step: [12600], mri_ssim_loss: [0.16623938], pet_ssim_loss: [0.14564204],  total_ssim_loss: [0.31188142], total_l2_loss: [0.02704944], total_loss: [0.25491503]\n",
      "Epoch: [46],step: [12700], mri_ssim_loss: [0.30353326], pet_ssim_loss: [0.14255065],  total_ssim_loss: [0.44608390], total_l2_loss: [0.02905084], total_loss: [0.36267731]\n",
      "Epoch: [47],step: [12800], mri_ssim_loss: [0.29224932], pet_ssim_loss: [0.23855245],  total_ssim_loss: [0.53080177], total_l2_loss: [0.02003341], total_loss: [0.42864811]\n",
      "Epoch: [47],step: [12900], mri_ssim_loss: [0.14073914], pet_ssim_loss: [0.09837961],  total_ssim_loss: [0.23911875], total_l2_loss: [0.01692491], total_loss: [0.19467999]\n",
      "Epoch: [47],step: [13000], mri_ssim_loss: [0.55450642], pet_ssim_loss: [0.21241349],  total_ssim_loss: [0.76691991], total_l2_loss: [0.02044899], total_loss: [0.61762571]\n",
      "Epoch: [48],step: [13100], mri_ssim_loss: [0.32663548], pet_ssim_loss: [0.21859628],  total_ssim_loss: [0.54523176], total_l2_loss: [0.01797576], total_loss: [0.43978056]\n",
      "Epoch: [48],step: [13200], mri_ssim_loss: [0.30172902], pet_ssim_loss: [0.20820290],  total_ssim_loss: [0.50993192], total_l2_loss: [0.02564967], total_loss: [0.41307548]\n",
      "Epoch: [48],step: [13300], mri_ssim_loss: [0.21642101], pet_ssim_loss: [0.11488765],  total_ssim_loss: [0.33130866], total_l2_loss: [0.01354918], total_loss: [0.26775676]\n",
      "Epoch: [49],step: [13400], mri_ssim_loss: [0.25097948], pet_ssim_loss: [0.21322459],  total_ssim_loss: [0.46420407], total_l2_loss: [0.03864576], total_loss: [0.37909240]\n",
      "Epoch: [49],step: [13500], mri_ssim_loss: [0.23092335], pet_ssim_loss: [0.14358371],  total_ssim_loss: [0.37450707], total_l2_loss: [0.03168925], total_loss: [0.30594352]\n",
      "Epoch: [49],step: [13600], mri_ssim_loss: [0.47089779], pet_ssim_loss: [0.07246166],  total_ssim_loss: [0.54335946], total_l2_loss: [0.05455489], total_loss: [0.44559857]\n"
     ]
    },
    {
     "name": "stderr",
     "output_type": "stream",
     "text": [
      "C:\\Program Files (x86)\\Microsoft Visual Studio\\Shared\\Anaconda3_64\\lib\\site-packages\\torch\\serialization.py:250: UserWarning: Couldn't retrieve source code for container of type DeepPedestrian. It won't be checked for correctness upon loading.\n",
      "  \"type \" + obj.__name__ + \". It won't be checked \"\n"
     ]
    }
   ],
   "source": [
    "# perform the training\n",
    "counter = 0\n",
    "start_time = time.time()\n",
    "lamda = 0.8\n",
    "ep_mri_ssim_loss = []\n",
    "ep_pet_ssim_loss = []\n",
    "ep_total_l2_loss = []\n",
    "for epoch in range(EPOCH):\n",
    "    mri_ssim_Loss = []\n",
    "    pet_ssim_Loss = []\n",
    "    l2_Loss       = []\n",
    "    #run batch images\n",
    "    batch_idxs = 272 // batch_size\n",
    "    for idx in range(0, batch_idxs):\n",
    "        b_x = train_mri_tensor[idx*batch_size : (idx+1)*batch_size,:,:,:].to(device)\n",
    "        b_y = train_pet_tensor[idx*batch_size : (idx+1)*batch_size,:,:,:].to(device)\n",
    "        counter += 1\n",
    "        output = cnn(b_x, b_y)             # cnn output\n",
    "        ssim_loss_mri = 1 - ssim(output, b_x,data_range=1)\n",
    "        ssim_loss_pet = 1 - ssim(output, b_y,data_range=1)\n",
    "        ssim_total = ssim_loss_mri + ssim_loss_pet\n",
    "        l2_total = l2_loss(output,b_x) + l2_loss(output,b_y)\n",
    "        loss_total = lamda*ssim_total + (1-lamda)*l2_total \n",
    "        optimizer.zero_grad()              # clear gradients for this training step\n",
    "        loss_total.backward()              # backpropagation, compute gradients\n",
    "        optimizer.step()                   # apply gradients\n",
    "        \n",
    "        mri_ssim_Loss.append(ssim_loss_mri.item())\n",
    "        pet_ssim_Loss.append(ssim_loss_pet.item())\n",
    "        l2_Loss.append(l2_total.item())\n",
    "        \n",
    "        if counter % 100 == 0:\n",
    "            print(\"Epoch: [%2d],step: [%2d], mri_ssim_loss: [%.8f], pet_ssim_loss: [%.8f],  total_ssim_loss: [%.8f], total_l2_loss: [%.8f], total_loss: [%.8f]\" \n",
    "                   %(epoch, counter, ssim_loss_mri, ssim_loss_pet, ssim_total, l2_total, loss_total))\n",
    "    \n",
    "    av_mri_ssim_loss = np.average(mri_ssim_Loss)\n",
    "    ep_mri_ssim_loss.append(av_mri_ssim_loss)\n",
    "    \n",
    "    av_pet_ssim_loss = np.average(pet_ssim_Loss)\n",
    "    ep_pet_ssim_loss.append(av_pet_ssim_loss)\n",
    "    \n",
    "    av_total_l2_loss = np.average(l2_Loss)\n",
    "    ep_total_l2_loss.append(av_total_l2_loss)\n",
    "    \n",
    "    if(epoch == EPOCH -1):\n",
    "        #Save a checkpoint\n",
    "        torch.save(cnn, 'C:/Users/horan/Desktop/Suraka/.ipynb_checkpoints/DeepPedestrian/checkpoint.pth') "
   ]
  },
  {
   "cell_type": "code",
   "execution_count": 37,
   "metadata": {},
   "outputs": [],
   "source": [
    "l1 = np.asarray(ep_mri_ssim_loss)\n",
    "l2 = np.asarray(ep_pet_ssim_loss)\n",
    "l3 = np.asarray(ep_total_l2_loss)"
   ]
  },
  {
   "cell_type": "code",
   "execution_count": 57,
   "metadata": {},
   "outputs": [],
   "source": [
    "#h5f = h5py.File('C:/Users/horan/Desktop/Suraka/Loss curves/DeepPedestrian/H5 Files/Loss_L2.h5', 'w')\n",
    "#h5f.create_dataset('L2_dataset', data=l3)\n",
    "#h5f.close()"
   ]
  },
  {
   "cell_type": "code",
   "execution_count": 60,
   "metadata": {},
   "outputs": [],
   "source": [
    "#plt.plot(l3)\n",
    "#plt.savefig('C:/Users/horan/Desktop/Suraka/Loss curves/DeepPedestrian/Loss curves/L2_loss_curve.png', bbox_inches = 'tight',pad_inches = 0)\n",
    "#plt.close()"
   ]
  },
  {
   "cell_type": "code",
   "execution_count": 40,
   "metadata": {},
   "outputs": [
    {
     "data": {
      "text/plain": [
       "[<matplotlib.lines.Line2D at 0x1cf5332b860>]"
      ]
     },
     "execution_count": 40,
     "metadata": {},
     "output_type": "execute_result"
    },
    {
     "data": {
      "image/png": "[encoded data removed]",
      "text/plain": [
       "<Figure size 432x288 with 1 Axes>"
      ]
     },
     "metadata": {},
     "output_type": "display_data"
    }
   ],
   "source": [
    "plt.plot(l1)"
   ]
  },
  {
   "cell_type": "code",
   "execution_count": 41,
   "metadata": {},
   "outputs": [],
   "source": [
    "#load the test input MRI dataset\n",
    "filenames = os.listdir('C:/Users/horan/Desktop/Suraka/MRI/')\n",
    "dataset = os.path.join(os.getcwd(), 'C:/Users/horan/Desktop/Suraka/MRI/')\n",
    "data = glob.glob(os.path.join(dataset, \"*.gif\"))\n",
    "data = natsort.natsorted(data,reverse=False)\n",
    "test_mri = np.zeros((len(data), image_width,image_length))\n",
    "for i in range(len(data)):\n",
    "    test_mri[i,:,:] =(imageio.imread(data[i]))\n",
    "    test_mri[i,:,:] =(test_mri[i,:,:] - np.min(test_mri[i,:,:])) / (np.max(test_mri[i,:,:]) - np.min(test_mri[i,:,:]))\n",
    "    test_mri[i,:,:] = np.float32(test_mri[i,:,:])"
   ]
  },
  {
   "cell_type": "code",
   "execution_count": 42,
   "metadata": {},
   "outputs": [
    {
     "data": {
      "text/plain": [
       "(1, 1, 256, 256)"
      ]
     },
     "execution_count": 42,
     "metadata": {},
     "output_type": "execute_result"
    }
   ],
   "source": [
    "#expand dimension to add the channel\n",
    "test_mri = np.expand_dims(test_mri,axis=1)\n",
    "#verify the shape matches the pytorch standard\n",
    "test_mri.shape"
   ]
  },
  {
   "cell_type": "code",
   "execution_count": 43,
   "metadata": {},
   "outputs": [
    {
     "data": {
      "text/plain": [
       "<matplotlib.image.AxesImage at 0x1cf6119ccc0>"
      ]
     },
     "execution_count": 43,
     "metadata": {},
     "output_type": "execute_result"
    },
    {
     "data": {
      "image/png": "[encoded data removed]",
      "text/plain": [
       "<Figure size 432x288 with 1 Axes>"
      ]
     },
     "metadata": {},
     "output_type": "display_data"
    }
   ],
   "source": [
    "#verify the test mri image\n",
    "#test_mri = test_mri[0,:,:,:]\n",
    "#test_mri = np.expand_dims(test_mri,axis=0)\n",
    "plt.imshow(test_mri[0,0,:,:],'gray')\n",
    "#plt.savefig('MRI.png', bbox_inches = 'tight',pad_inches = 0,dpi=200)"
   ]
  },
  {
   "cell_type": "code",
   "execution_count": 44,
   "metadata": {},
   "outputs": [
    {
     "name": "stdout",
     "output_type": "stream",
     "text": [
      "torch.Size([1, 1, 256, 256])\n"
     ]
    }
   ],
   "source": [
    "#convert the MRI Testing data to pytorch tensor\n",
    "test_mri_tensor = torch.from_numpy(test_mri).float()\n",
    "print(test_mri_tensor.shape)\n",
    "test_mri_tensor.requires_grad =True"
   ]
  },
  {
   "cell_type": "code",
   "execution_count": 45,
   "metadata": {},
   "outputs": [],
   "source": [
    "#load the test input PET dataset\n",
    "filenames = os.listdir('C:/Users/horan/Desktop/Suraka/PET/')\n",
    "dataset = os.path.join(os.getcwd(), 'C:/Users/horan/Desktop/Suraka/PET/')\n",
    "data = glob.glob(os.path.join(dataset, \"*.png\"))\n",
    "data = natsort.natsorted(data,reverse=False)\n",
    "test_pet = np.zeros((len(data), image_width,image_length))\n",
    "for i in range(len(data)):\n",
    "    test_pet[i,:,:] =(imageio.imread(data[i]))\n",
    "    test_pet[i,:,:] =(test_pet[i,:,:] - np.min(test_pet[i,:,:])) / (np.max(test_pet[i,:,:]) - np.min(test_pet[i,:,:]))\n",
    "    test_pet[i,:,:] = np.float32(test_pet[i,:,:])"
   ]
  },
  {
   "cell_type": "code",
   "execution_count": 46,
   "metadata": {},
   "outputs": [
    {
     "data": {
      "text/plain": [
       "(1, 1, 256, 256)"
      ]
     },
     "execution_count": 46,
     "metadata": {},
     "output_type": "execute_result"
    }
   ],
   "source": [
    "#expand dimension to add the channel\n",
    "test_pet = np.expand_dims(test_pet,axis=1)\n",
    "#verify the shape matches the pytorch standard\n",
    "test_pet.shape "
   ]
  },
  {
   "cell_type": "code",
   "execution_count": 47,
   "metadata": {},
   "outputs": [
    {
     "data": {
      "text/plain": [
       "<matplotlib.image.AxesImage at 0x1cf611f5dd8>"
      ]
     },
     "execution_count": 47,
     "metadata": {},
     "output_type": "execute_result"
    },
    {
     "data": {
      "image/png": "[encoded data removed]",
      "text/plain": [
       "<Figure size 432x288 with 1 Axes>"
      ]
     },
     "metadata": {},
     "output_type": "display_data"
    }
   ],
   "source": [
    "plt.imshow(test_pet[0,0,:,:],'gray')\n",
    "#plt.savefig('PET.png', bbox_inches = 'tight',pad_inches = 0,dpi=200)"
   ]
  },
  {
   "cell_type": "code",
   "execution_count": 48,
   "metadata": {},
   "outputs": [
    {
     "name": "stdout",
     "output_type": "stream",
     "text": [
      "torch.Size([1, 1, 256, 256])\n"
     ]
    }
   ],
   "source": [
    "#convert the MRI Testing data to pytorch tensor\n",
    "test_pet_tensor = torch.from_numpy(test_pet).float()\n",
    "print(test_pet_tensor.shape)\n",
    "test_pet_tensor.requires_grad =True"
   ]
  },
  {
   "cell_type": "code",
   "execution_count": 49,
   "metadata": {},
   "outputs": [
    {
     "data": {
      "text/plain": [
       "DeepPedestrian(\n",
       "  (conv1): Sequential(\n",
       "    (0): Conv2d(2, 48, kernel_size=(3, 3), stride=(1, 1), padding=(1, 1))\n",
       "    (1): ReLU()\n",
       "    (2): Conv2d(48, 48, kernel_size=(3, 3), stride=(1, 1), padding=(1, 1))\n",
       "    (3): ReLU()\n",
       "    (4): Conv2d(48, 48, kernel_size=(3, 3), stride=(1, 1), padding=(1, 1))\n",
       "    (5): ReLU()\n",
       "    (6): Conv2d(48, 48, kernel_size=(3, 3), stride=(1, 1), padding=(1, 1))\n",
       "  )\n",
       "  (conv2): Sequential(\n",
       "    (0): ReLU()\n",
       "    (1): Conv2d(48, 48, kernel_size=(3, 3), stride=(1, 1), padding=(1, 1))\n",
       "    (2): ReLU()\n",
       "    (3): Conv2d(48, 48, kernel_size=(3, 3), stride=(1, 1), padding=(1, 1))\n",
       "    (4): ReLU()\n",
       "    (5): Conv2d(48, 48, kernel_size=(3, 3), stride=(1, 1), padding=(1, 1))\n",
       "    (6): ReLU()\n",
       "    (7): Conv2d(48, 48, kernel_size=(3, 3), stride=(1, 1), padding=(1, 1))\n",
       "  )\n",
       "  (conv3): Sequential(\n",
       "    (0): ReLU()\n",
       "    (1): Conv2d(48, 48, kernel_size=(3, 3), stride=(1, 1), padding=(1, 1))\n",
       "    (2): ReLU()\n",
       "    (3): Conv2d(48, 48, kernel_size=(3, 3), stride=(1, 1), padding=(1, 1))\n",
       "    (4): ReLU()\n",
       "    (5): Conv2d(48, 48, kernel_size=(3, 3), stride=(1, 1), padding=(1, 1))\n",
       "    (6): ReLU()\n",
       "    (7): Conv2d(48, 48, kernel_size=(3, 3), stride=(1, 1), padding=(1, 1))\n",
       "  )\n",
       "  (conv4): Sequential(\n",
       "    (0): ReLU()\n",
       "    (1): Conv2d(48, 48, kernel_size=(3, 3), stride=(1, 1), padding=(1, 1))\n",
       "    (2): ReLU()\n",
       "    (3): Conv2d(48, 48, kernel_size=(3, 3), stride=(1, 1), padding=(1, 1))\n",
       "    (4): ReLU()\n",
       "    (5): Conv2d(48, 48, kernel_size=(3, 3), stride=(1, 1), padding=(1, 1))\n",
       "    (6): ReLU()\n",
       "    (7): Conv2d(48, 48, kernel_size=(3, 3), stride=(1, 1), padding=(1, 1))\n",
       "  )\n",
       "  (conv5): Sequential(\n",
       "    (0): ReLU()\n",
       "    (1): Conv2d(48, 1, kernel_size=(3, 3), stride=(1, 1), padding=(1, 1))\n",
       "  )\n",
       ")"
      ]
     },
     "execution_count": 49,
     "metadata": {},
     "output_type": "execute_result"
    }
   ],
   "source": [
    "#load the model\n",
    "device = torch.device(\"cuda\" if torch.cuda.is_available() else \"cpu\")\n",
    "cnn =torch.load('C:/Users/horan/Desktop/Suraka/.ipynb_checkpoints/DeepPedestrian/checkpoint.pth')\n",
    "cnn.eval()"
   ]
  },
  {
   "cell_type": "code",
   "execution_count": 50,
   "metadata": {},
   "outputs": [],
   "source": [
    "#predicted the fused image\n",
    "fused = cnn(test_mri_tensor.to(device), test_pet_tensor.to(device))\n",
    "fused_numpy = fused.data.cpu().numpy()"
   ]
  },
  {
   "cell_type": "code",
   "execution_count": 51,
   "metadata": {},
   "outputs": [
    {
     "data": {
      "text/plain": [
       "torch.Size([1, 1, 256, 256])"
      ]
     },
     "execution_count": 51,
     "metadata": {},
     "output_type": "execute_result"
    }
   ],
   "source": [
    "fused.shape"
   ]
  },
  {
   "cell_type": "code",
   "execution_count": 52,
   "metadata": {},
   "outputs": [
    {
     "data": {
      "text/plain": [
       "<matplotlib.image.AxesImage at 0x1cf4a2d0b00>"
      ]
     },
     "execution_count": 52,
     "metadata": {},
     "output_type": "execute_result"
    },
    {
     "data": {
      "image/png": "[encoded data removed]",
      "text/plain": [
       "<Figure size 432x288 with 1 Axes>"
      ]
     },
     "metadata": {},
     "output_type": "display_data"
    }
   ],
   "source": [
    "#verify the output image\n",
    "plt.imshow(fused_numpy[0,0,:,:],'gray')\n",
    "#plt.savefig('Fused.png', bbox_inches = 'tight',pad_inches = 0,dpi=200)"
   ]
  },
  {
   "cell_type": "code",
   "execution_count": null,
   "metadata": {},
   "outputs": [],
   "source": [
    "#imageio.imwrite('C:/Users/horan/Desktop/Suraka/Fused/Fused.png',np.uint8(cv2.normalize(fused_numpy[0,0,:,:], None, alpha=0, beta=255, norm_type=cv2.NORM_MINMAX, dtype=cv2.CV_32F)))"
   ]
  },
  {
   "cell_type": "code",
   "execution_count": null,
   "metadata": {},
   "outputs": [],
   "source": [
    "#calculate the guidance image for MRI and PET wrt to the fused image\n",
    "time1 = time.time()\n",
    "count = 0 \n",
    "guide_fuse_mri = np.zeros((256,256),dtype=float)\n",
    "guide_fuse_pet = np.zeros((256,256),dtype=float)\n",
    "\n",
    "for y_coord in range(0,256):\n",
    "    for x_coord in range(0,256):\n",
    "        jacob_fuse_mri = torch.autograd.grad(fused[0,0,y_coord,x_coord], test_mri_tensor, retain_graph=True, create_graph=True)[0]\n",
    "        jacob_numpy_mri = np.squeeze(jacob_fuse_mri.data.cpu().numpy())  \n",
    "        guide_fuse_mri[y_coord,x_coord] = jacob_numpy_mri[y_coord,x_coord]\n",
    "        jacob_fuse_pet = torch.autograd.grad(fused[0,0,y_coord,x_coord], test_pet_tensor, retain_graph=True, create_graph=True)[0]\n",
    "        jacob_numpy_pet = np.squeeze(jacob_fuse_pet.data.cpu().numpy())  \n",
    "        guide_fuse_pet[y_coord,x_coord] = jacob_numpy_pet[y_coord,x_coord]\n",
    "        count += 1\n",
    "        if count % 100 == 0:\n",
    "            print('Count is %d' %count)\n",
    "time2 = time.time()\n",
    "print('Time taken to compute is %d seconds' %(time2-time1))"
   ]
  },
  {
   "cell_type": "code",
   "execution_count": null,
   "metadata": {},
   "outputs": [],
   "source": [
    "plt.imshow(guide_fuse_mri,cmap='viridis')\n",
    "plt.colorbar()\n",
    "#plt.savefig('Jacob_Fused_MRI.png', bbox_inches = 'tight',pad_inches = 0,dpi=200)"
   ]
  },
  {
   "cell_type": "code",
   "execution_count": null,
   "metadata": {},
   "outputs": [],
   "source": [
    "#guide_fuse_mri.shape"
   ]
  },
  {
   "cell_type": "code",
   "execution_count": null,
   "metadata": {},
   "outputs": [],
   "source": [
    "#plt.imshow(guide_fuse_pet,cmap='viridis')\n",
    "#plt.colorbar()\n",
    "#plt.savefig('Jacob_Fused_PET.png', bbox_inches = 'tight',pad_inches = 0,dpi=200)"
   ]
  },
  {
   "cell_type": "code",
   "execution_count": null,
   "metadata": {},
   "outputs": [],
   "source": [
    "#guide_fuse_pet.shape"
   ]
  },
  {
   "cell_type": "code",
   "execution_count": null,
   "metadata": {},
   "outputs": [],
   "source": [
    "#plt.imshow(fused_RGB)\n",
    "#plt.savefig('Fused_RGB.png', bbox_inches = 'tight',pad_inches = 0,dpi=200)"
   ]
  },
  {
   "cell_type": "code",
   "execution_count": null,
   "metadata": {},
   "outputs": [],
   "source": [
    "#plt.imshow(mri_RGB)\n",
    "#plt.savefig('MRI_RGB.png', bbox_inches = 'tight',pad_inches = 0,dpi=200)"
   ]
  },
  {
   "cell_type": "code",
   "execution_count": null,
   "metadata": {},
   "outputs": [],
   "source": [
    "#plt.imshow(pet_RGB)\n",
    "#plt.savefig('PET_RGB.png', bbox_inches = 'tight',pad_inches = 0,dpi=200)"
   ]
  },
  {
   "cell_type": "code",
   "execution_count": null,
   "metadata": {},
   "outputs": [],
   "source": [
    "#h5f = h5py.File('C:/Users/horan/Desktop/Suraka/Jacobian_MRI.h5', 'w')\n",
    "#h5f.create_dataset('MRI_dataset', data=guide_fuse_mri)\n",
    "#h5f.close()"
   ]
  },
  {
   "cell_type": "code",
   "execution_count": null,
   "metadata": {},
   "outputs": [],
   "source": [
    "#h5f = h5py.File('C:/Users/horan/Desktop/Suraka/Jacobian_PET.h5', 'w')\n",
    "#h5f.create_dataset('PET_dataset', data=guide_fuse_pet)\n",
    "#h5f.close()"
   ]
  },
  {
   "cell_type": "code",
   "execution_count": null,
   "metadata": {},
   "outputs": [],
   "source": [
    "hf = h5py.File('C:/Users/horan/Desktop/Suraka/Guidance images/FunFuseAn/H5 Files/Jacobian_MRI.h5', 'r')\n",
    "guide_fuse_mri =  np.array(hf.get('MRI_dataset'))\n",
    "hf.close()"
   ]
  },
  {
   "cell_type": "code",
   "execution_count": null,
   "metadata": {},
   "outputs": [],
   "source": [
    "plt.imshow(guide_fuse_mri,cmap='viridis')\n",
    "plt.colorbar()"
   ]
  },
  {
   "cell_type": "code",
   "execution_count": null,
   "metadata": {},
   "outputs": [],
   "source": [
    "hf = h5py.File('C:/Users/horan/Desktop/Suraka/Guidance images/FunFuseAn/H5 Files/Jacobian_PET.h5', 'r')\n",
    "guide_fuse_pet =  np.array(hf.get('PET_dataset'))\n",
    "hf.close()"
   ]
  },
  {
   "cell_type": "code",
   "execution_count": null,
   "metadata": {},
   "outputs": [],
   "source": [
    "plt.imshow(guide_fuse_pet,cmap='viridis')\n",
    "plt.colorbar()"
   ]
  },
  {
   "cell_type": "code",
   "execution_count": null,
   "metadata": {},
   "outputs": [],
   "source": [
    "#define overlay images\n",
    "fused_RGB = np.zeros((256,256,3),dtype=float)\n",
    "mri_RGB   = np.zeros((256,256,3),dtype=float)\n",
    "pet_RGB   = np.zeros((256,256,3),dtype=float)"
   ]
  },
  {
   "cell_type": "code",
   "execution_count": null,
   "metadata": {},
   "outputs": [],
   "source": [
    "fused_RGB[:,:,0]  = guide_fuse_mri \n",
    "fused_RGB[:,:,1]  = guide_fuse_pet \n",
    "fused_RGB[:,:,2]  = fused_numpy[0,0,:,:]"
   ]
  },
  {
   "cell_type": "code",
   "execution_count": null,
   "metadata": {},
   "outputs": [],
   "source": [
    "plt.imshow(fused_RGB)"
   ]
  },
  {
   "cell_type": "code",
   "execution_count": null,
   "metadata": {},
   "outputs": [],
   "source": [
    "mri_RGB[:,:,0]  = guide_fuse_mri\n",
    "mri_RGB[:,:,1]  = guide_fuse_pet \n",
    "mri_RGB[:,:,2]  = test_mri[0,0,:,:]"
   ]
  },
  {
   "cell_type": "code",
   "execution_count": null,
   "metadata": {},
   "outputs": [],
   "source": [
    "plt.imshow(mri_RGB)"
   ]
  },
  {
   "cell_type": "code",
   "execution_count": null,
   "metadata": {},
   "outputs": [],
   "source": [
    "pet_RGB[:,:,0]  = guide_fuse_mri\n",
    "pet_RGB[:,:,1]  = guide_fuse_pet \n",
    "pet_RGB[:,:,2]  = test_pet[0,0,:,:]"
   ]
  },
  {
   "cell_type": "code",
   "execution_count": null,
   "metadata": {},
   "outputs": [],
   "source": [
    "plt.imshow(pet_RGB)"
   ]
  },
  {
   "cell_type": "code",
   "execution_count": null,
   "metadata": {},
   "outputs": [],
   "source": [
    "#define the window\n",
    "root = Tk()  \n",
    "root.title('Visualisation of fusion networks')\n",
    "root.configure(background='white')\n",
    "\n",
    "\n",
    "#Label the images\n",
    "#fontStyle = tkFont.Font(family=\"Lucida Grande\", size=15)\n",
    "#w1 = tk.Label(root, bg='white', font=fontStyle, text=\"Fused Image\")\n",
    "#w1.grid(row=0, column=1)\n",
    "#w1.pack()\n",
    "\n",
    "#define the frame\n",
    "canvasframe = Frame(root)  # define Input and output frame\n",
    "buttonframe = Frame(root)  # define button frame\n",
    "canvasframe.pack()  # pack the Input and Output frame\n",
    "buttonframe.pack()  # pack the button frame\n",
    "\n",
    "\n",
    "#define the canvas\n",
    "canvas = Canvas(canvasframe, width=1800, height=920, bg = 'white')\n",
    "canvas.grid(row=0, column=0)\n",
    "\n",
    "#Insert fused image to the canvas\n",
    "img_fused = ImageTk.PhotoImage(file =\"C:/Users/horan/Desktop/Suraka/Fused/Fused.png\") # load the image\n",
    "canvas.create_image(0, 0, image=img_fused, anchor=NW)\n",
    "\n",
    "#Insert MRI image to the canvas\n",
    "img_mri = ImageTk.PhotoImage(file =\"C:/Users/horan/Desktop/Suraka/MRI/MRI.gif\") # load the image\n",
    "canvas.create_image(620, 0, image=img_mri, anchor=NW)\n",
    "\n",
    "#Insert PET image to the canvas\n",
    "img_pet = ImageTk.PhotoImage(file =\"C:/Users/horan/Desktop/Suraka/PET/3.png\") # load the image\n",
    "canvas.create_image(1240, 0, image=img_pet, anchor=NW)\n",
    "\n",
    "def start_mouseover():  # function called when user clicks the button \n",
    "    # link the function to the left-mouse-click event\n",
    "    canvas.bind(\"<B1-Motion>\", Coordinates)\n",
    "\n",
    "def Coordinates(event): # function called when left-mouse-button is clicked with a mouseover\n",
    "    x_coord = event.x  # save x and y coordinates selected by the user   \n",
    "    y_coord = event.y\n",
    "    print('mouse position is at' + '(' + str(y_coord) + ',' + str(x_coord) + ')', end='\\r')\n",
    "    #display the output MRI Jacobian image\n",
    "    #img_MR_out = ImageTk.PhotoImage(file ='C:/Users/cgvadmin/Desktop/Suraka/Fused_MRI/im_' + str(y_coord) + '_' + str(x_coord) + '.png') # load the image\n",
    "    jacobian_fuse_mri = torch.autograd.grad(fused[0,0,y_coord,x_coord], test_mri_tensor, retain_graph=True, create_graph=True)[0]\n",
    "    jacobian_fuse_pet = torch.autograd.grad(fused[0,0,y_coord,x_coord], test_pet_tensor, retain_graph=True, create_graph=True)[0]\n",
    "    \n",
    "    jacob_val_mri = np.squeeze(jacobian_fuse_mri.data.cpu().numpy())    \n",
    "    jacob_val_pet = np.squeeze(jacobian_fuse_pet.data.cpu().numpy())\n",
    "    \n",
    "    x_mri = np.asarray(np.where(np.any(jacob_val_mri, axis = 0)))\n",
    "    y_mri = np.asarray(np.where(np.any(jacob_val_mri, axis = 1)))\n",
    "    minx_mri, maxx_mri, miny_mri, maxy_mri = np.min(x_mri), np.max(x_mri), np.min(y_mri), np.max(y_mri)  #return min and max coordinates\n",
    "    zoom_im_mri = jacob_val_mri[miny_mri:maxy_mri,minx_mri:maxx_mri] \n",
    "    \n",
    "    x_pet = np.asarray(np.where(np.any(jacob_val_pet, axis = 0)))\n",
    "    y_pet = np.asarray(np.where(np.any(jacob_val_pet, axis = 1)))\n",
    "    minx_pet, maxx_pet, miny_pet, maxy_pet = np.min(x_pet), np.max(x_pet), np.min(y_pet), np.max(y_pet)  #return min and max coordinates\n",
    "    zoom_im_pet = jacob_val_pet[miny_pet:maxy_pet,minx_pet:maxx_pet] \n",
    "    \n",
    "    plt.imshow(fused_numpy[0,0,miny_mri:maxy_mri,minx_mri:maxx_mri], cmap = 'gray', aspect ='equal')\n",
    "    plt.title('Zoom Fused')\n",
    "    plt.savefig('foo11.png', bbox_inches = 'tight',pad_inches = 0)\n",
    "    plt.close()\n",
    "    im_out11 = ImageTk.PhotoImage(file ='foo11.png')\n",
    "    canvas.create_image(320,0,image=im_out11,anchor=NW)\n",
    "    canvas.image11 = im_out11\n",
    "    plt.tight_layout()\n",
    "    \n",
    "    plt.imshow(test_mri[0,0,miny_mri:maxy_mri,minx_mri:maxx_mri], cmap = 'gray', aspect ='equal')\n",
    "    plt.title('Zoom MRI')\n",
    "    plt.savefig('foo12.png', bbox_inches = 'tight',pad_inches = 0)\n",
    "    plt.close()\n",
    "    im_out12 = ImageTk.PhotoImage(file ='foo12.png')\n",
    "    canvas.create_image(950,0,image=im_out12,anchor=NW)\n",
    "    canvas.image12 = im_out12\n",
    "    plt.tight_layout()\n",
    "    \n",
    "    plt.imshow(test_pet[0,0,miny_mri:maxy_mri,minx_mri:maxx_mri], cmap = 'gray', aspect ='equal')\n",
    "    plt.title('Zoom PET')\n",
    "    plt.savefig('foo13.png', bbox_inches = 'tight',pad_inches = 0)\n",
    "    plt.close()\n",
    "    im_out13 = ImageTk.PhotoImage(file ='foo13.png')\n",
    "    canvas.create_image(1500,0,image=im_out13,anchor=NW)\n",
    "    canvas.image13 = im_out13\n",
    "    plt.tight_layout()\n",
    "    \n",
    "    plt.imshow(jacob_val_mri,cmap='viridis', aspect ='equal')\n",
    "    plt.title('Fused wrt MRI')\n",
    "    plt.savefig('foo1.png', bbox_inches = 'tight',pad_inches = 0)\n",
    "    plt.close()\n",
    "    im_out1 = ImageTk.PhotoImage(file ='foo1.png')\n",
    "    canvas.create_image(0,320,image=im_out1,anchor=NW)\n",
    "    canvas.image1 = im_out1\n",
    "    #plt.tight_layout()\n",
    "    \n",
    "    #f.add_subplot(1,5,2)\n",
    "    plt.imshow(zoom_im_mri,cmap='viridis',aspect ='equal')\n",
    "    plt.title('Zoomed (Fused wrt MRI)')\n",
    "    plt.colorbar()\n",
    "    plt.savefig('foo2.png', bbox_inches = 'tight',pad_inches = 0)\n",
    "    plt.close()\n",
    "    im_out2 = ImageTk.PhotoImage(file ='foo2.png')\n",
    "    canvas.create_image(280,320,image=im_out2,anchor=NW)\n",
    "    canvas.image2 = im_out2\n",
    "    #plt.tight_layout()\n",
    "    #divider = make_axes_locatable(plt)\n",
    "    #cax = divider.append_axes(\"right\", size=\"5%\", pad=0.05)\n",
    "    #plt.colorbar(cax=cax)\n",
    "    \n",
    "    #f.add_subplot(1,5,3)\n",
    "    plt.xlim(0,0.7)\n",
    "    plt.ylim(0,0.7)\n",
    "    plt.plot(jacob_val_mri[y_coord,x_coord],jacob_val_pet[y_coord,x_coord],'-ro')\n",
    "    plt.xlabel('MRI pixel score (Fused wrt MRI)')\n",
    "    plt.ylabel('PET pixel score (Fused wrt PET)')\n",
    "    plt.title('Mouse position at: (' + str(y_coord) + ',' + str(x_coord) + ')')\n",
    "    plt.gca().set_aspect('equal', adjustable='box')\n",
    "    plt.draw()\n",
    "    plt.savefig('foo3.png', bbox_inches = 'tight',pad_inches = 0.1)\n",
    "    plt.close()\n",
    "    im_out3 = ImageTk.PhotoImage(file ='foo3.png')\n",
    "    canvas.create_image(600,320,image=im_out3,anchor=NW)\n",
    "    canvas.image3 = im_out3\n",
    "    \n",
    "    #f.add_subplot(1,5,4)\n",
    "    plt.imshow(jacob_val_pet,cmap='viridis',aspect ='equal')\n",
    "    plt.title('Fused wrt PET')\n",
    "    plt.savefig('foo4.png', bbox_inches = 'tight',pad_inches = 0)\n",
    "    plt.close()\n",
    "    im_out4 = ImageTk.PhotoImage(file ='foo4.png')\n",
    "    canvas.create_image(900,320,image=im_out4,anchor=NW)\n",
    "    canvas.image4 = im_out4\n",
    "    #plt.tight_layout()\n",
    "    \n",
    "    #f.add_subplot(1,5,5)\n",
    "    plt.imshow(zoom_im_pet,cmap='viridis',aspect ='equal')\n",
    "    plt.title('Zoomed (Fused wrt PET)')\n",
    "    plt.colorbar()\n",
    "    plt.savefig('foo5.png', bbox_inches = 'tight',pad_inches = 0)\n",
    "    plt.close()\n",
    "    im_out5 = ImageTk.PhotoImage(file ='foo5.png')\n",
    "    canvas.create_image(1180,320,image=im_out5,anchor=NW)\n",
    "    canvas.image5 = im_out5\n",
    "\n",
    "    plt.imshow(guide_fuse_mri,cmap='viridis')\n",
    "    plt.title('Fused wrt MRI')\n",
    "    plt.colorbar()\n",
    "    plt.savefig('foo6.png', bbox_inches = 'tight',pad_inches = 0)\n",
    "    plt.close()\n",
    "    im_out6 = ImageTk.PhotoImage(file ='foo6.png')\n",
    "    canvas.create_image(0,650,image=im_out6,anchor=NW)\n",
    "    canvas.image6 = im_out6\n",
    "    \n",
    "    plt.imshow(fused_RGB)\n",
    "    plt.savefig('foo8.png', bbox_inches = 'tight',pad_inches = 0)\n",
    "    plt.close()\n",
    "    im_out8 = ImageTk.PhotoImage(file ='foo8.png')\n",
    "    canvas.create_image(300,650,image=im_out8,anchor=NW)\n",
    "    canvas.image8 = im_out8\n",
    "    \n",
    "    plt.imshow(mri_RGB)\n",
    "    plt.savefig('foo9.png', bbox_inches = 'tight',pad_inches = 0)\n",
    "    plt.close()\n",
    "    im_out9 = ImageTk.PhotoImage(file ='foo9.png')\n",
    "    canvas.create_image(600,650,image=im_out9,anchor=NW)\n",
    "    canvas.image9 = im_out9\n",
    "    \n",
    "    plt.imshow(pet_RGB)\n",
    "    plt.savefig('foo10.png', bbox_inches = 'tight',pad_inches = 0)\n",
    "    plt.close()\n",
    "    im_out10 = ImageTk.PhotoImage(file ='foo10.png')\n",
    "    canvas.create_image(900,650,image=im_out10,anchor=NW)\n",
    "    canvas.image10 = im_out10\n",
    "    \n",
    "    plt.imshow(guide_fuse_pet,cmap='viridis')\n",
    "    plt.colorbar()\n",
    "    plt.savefig('foo7.png', bbox_inches = 'tight',pad_inches = 0)\n",
    "    plt.close()\n",
    "    im_out7 = ImageTk.PhotoImage(file ='foo7.png')\n",
    "    canvas.create_image(1200,650,image=im_out7,anchor=NW)\n",
    "    canvas.image7 = im_out7\n",
    "    \n",
    "    radius = 5\n",
    "    i = canvas.create_oval(x_coord-radius, y_coord-radius, x_coord+radius, y_coord+radius, fill = 'red')\n",
    "    canvas.after(20,canvas.delete,i)\n",
    "\n",
    "# insert button to the middleframe and link it to \"Start Mouseover\"\n",
    "button_start_mouseover = Button(buttonframe, text=\"Start Mouseover\",command=start_mouseover)\n",
    "button_start_mouseover.grid(row=1, column=0, pady=0)\n",
    "\n",
    "\n",
    "root.mainloop()  #keep the GUI open"
   ]
  },
  {
   "cell_type": "code",
   "execution_count": null,
   "metadata": {},
   "outputs": [],
   "source": []
  }
 ],
 "metadata": {
  "kernelspec": {
   "display_name": "Python 3",
   "language": "python",
   "name": "python3"
  },
  "language_info": {
   "codemirror_mode": {
    "name": "ipython",
    "version": 3
   },
   "file_extension": ".py",
   "mimetype": "text/x-python",
   "name": "python",
   "nbconvert_exporter": "python",
   "pygments_lexer": "ipython3",
   "version": "3.6.5"
  }
 },
 "nbformat": 4,
 "nbformat_minor": 4
}
