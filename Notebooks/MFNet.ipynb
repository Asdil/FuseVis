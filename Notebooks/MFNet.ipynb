{
 "cells": [
  {
   "cell_type": "markdown",
   "metadata": {},
   "source": [
    "This is the pytorch implementation of the deep learning model proposed in the paper 'Unsupervised Deep Multi-focus Image FusionXiang Yan,Student Member, IEEE,Syed Zulqarnain Gilani, Hanlin Qin, and Ajmal Mian'"
   ]
  },
  {
   "cell_type": "code",
   "execution_count": 1,
   "metadata": {},
   "outputs": [
    {
     "name": "stderr",
     "output_type": "stream",
     "text": [
      "C:\\Program Files (x86)\\Microsoft Visual Studio\\Shared\\Anaconda3_64\\lib\\site-packages\\h5py\\__init__.py:36: FutureWarning: Conversion of the second argument of issubdtype from `float` to `np.floating` is deprecated. In future, it will be treated as `np.float64 == np.dtype(float).type`.\n",
      "  from ._conv import register_converters as _register_converters\n"
     ]
    }
   ],
   "source": [
    "#Import packages\n",
    "import time\n",
    "import torch.nn as nn\n",
    "import torch\n",
    "import torch.nn.functional as F\n",
    "from torch.utils.data import Dataset, DataLoader\n",
    "import torchvision.datasets as datasets\n",
    "import numpy as np\n",
    "from torchvision import transforms\n",
    "from torch.autograd import Variable\n",
    "from PIL import Image\n",
    "import torchvision.transforms.functional as TF\n",
    "from torchvision.models.vgg import vgg19\n",
    "import torch.nn as nn\n",
    "import torch.nn.functional as F\n",
    "import torch\n",
    "from skimage import img_as_ubyte\n",
    "import torch.nn as nn\n",
    "import torch.utils.data as Data\n",
    "import torchvision      # dataset\n",
    "import matplotlib.pyplot as plt\n",
    "import scipy\n",
    "import numpy as np\n",
    "import argparse\n",
    "import glob\n",
    "import imageio\n",
    "from skimage import color\n",
    "import numpy\n",
    "import natsort\n",
    "import scipy\n",
    "from pytorch_msssim import ssim, ms_ssim, SSIM, MS_SSIM\n",
    "import pprint\n",
    "from scipy.ndimage import correlate\n",
    "from scipy.ndimage.filters import gaussian_gradient_magnitude\n",
    "import torchvision.datasets as dset\n",
    "import torch.utils.data as data\n",
    "import os\n",
    "import os.path\n",
    "from tkinter import *\n",
    "import tkinter as tk\n",
    "import tkinter.font as tkFont\n",
    "from PIL import ImageTk, Image\n",
    "import pylab\n",
    "import cv2\n",
    "import h5py\n",
    "from mpl_toolkits.axes_grid1 import make_axes_locatable"
   ]
  },
  {
   "cell_type": "code",
   "execution_count": 2,
   "metadata": {},
   "outputs": [
    {
     "name": "stdout",
     "output_type": "stream",
     "text": [
      "11811160064\n"
     ]
    }
   ],
   "source": [
    "device = 'cuda' if torch.cuda.is_available() else 'cpu'\n",
    "print(torch.cuda.get_device_properties(0).total_memory)"
   ]
  },
  {
   "cell_type": "code",
   "execution_count": 3,
   "metadata": {},
   "outputs": [
    {
     "data": {
      "text/plain": [
       "12"
      ]
     },
     "execution_count": 3,
     "metadata": {},
     "output_type": "execute_result"
    }
   ],
   "source": [
    "import multiprocessing\n",
    "multiprocessing.cpu_count()"
   ]
  },
  {
   "cell_type": "code",
   "execution_count": 4,
   "metadata": {},
   "outputs": [],
   "source": [
    "#define the hyperparameters\n",
    "image_length = 256\n",
    "image_width  = 256\n",
    "mr_channels  = 1\n",
    "gray_channels = 1\n",
    "pet_channels = 4    \n",
    "rgb_channels = 3     \n",
    "batch_size   = 1\n",
    "EPOCH = 50\n",
    "learning_rate = 0.002 "
   ]
  },
  {
   "cell_type": "code",
   "execution_count": 5,
   "metadata": {},
   "outputs": [],
   "source": [
    "#load the train mri data\n",
    "filenames = os.listdir('C:/Users/horan/Desktop/Suraka/Training/MRI')\n",
    "dataset = os.path.join(os.getcwd(), 'C:/Users/horan/Desktop/Suraka/Training/MRI')\n",
    "data = glob.glob(os.path.join(dataset, \"*.gif\"))\n",
    "data = natsort.natsorted(data,reverse=False)\n",
    "train_mri = np.zeros((len(data), image_width,image_length))\n",
    "for i in range(len(data)):\n",
    "    train_mri[i,:,:] =(imageio.imread(data[i]))\n",
    "    train_mri[i,:,:] =(train_mri[i,:,:] - np.min(train_mri[i,:,:])) / (np.max(train_mri[i,:,:]) - np.min(train_mri[i,:,:]))\n",
    "    train_mri[i,:,:] = np.float32(train_mri[i,:,:])"
   ]
  },
  {
   "cell_type": "code",
   "execution_count": 6,
   "metadata": {},
   "outputs": [],
   "source": [
    "#expand dimension to add the channel\n",
    "train_mri = np.expand_dims(train_mri,axis=1)"
   ]
  },
  {
   "cell_type": "code",
   "execution_count": 7,
   "metadata": {},
   "outputs": [
    {
     "data": {
      "text/plain": [
       "(272, 1, 256, 256)"
      ]
     },
     "execution_count": 7,
     "metadata": {},
     "output_type": "execute_result"
    }
   ],
   "source": [
    "#verify the shape matches the pytorch standard\n",
    "train_mri.shape"
   ]
  },
  {
   "cell_type": "code",
   "execution_count": 8,
   "metadata": {},
   "outputs": [
    {
     "data": {
      "text/plain": [
       "torch.Size([272, 1, 256, 256])"
      ]
     },
     "execution_count": 8,
     "metadata": {},
     "output_type": "execute_result"
    }
   ],
   "source": [
    "#convert the MRI training data to pytorch tensor\n",
    "train_mri_tensor = torch.from_numpy(train_mri).float()\n",
    "train_mri_tensor.shape"
   ]
  },
  {
   "cell_type": "code",
   "execution_count": 9,
   "metadata": {},
   "outputs": [],
   "source": [
    "#load the train pet data\n",
    "filenames = os.listdir('C:/Users/horan/Desktop/Suraka/Training/PET')\n",
    "dataset = os.path.join(os.getcwd(), 'C:/Users/horan/Desktop/Suraka/Training/PET')\n",
    "data = glob.glob(os.path.join(dataset, \"*.gif\"))\n",
    "data = natsort.natsorted(data,reverse=False)\n",
    "train_other = np.zeros((len(data),image_width,image_length,pet_channels),dtype=float)\n",
    "train_pet = np.zeros((len(data),image_width,image_length),dtype=float)\n",
    "for i in range(len(data)):\n",
    "    train_other[i,:,:,:] =(imageio.imread(data[i]))\n",
    "    train_pet[i,:,:] = 0.2989 * train_other[i,:,:,0] + 0.5870 *  train_other[i,:,:,1]  + 0.1140 * train_other[i,:,:,2]\n",
    "    train_pet[i,:,:] =(train_pet[i,:,:] - np.min(train_pet[i,:,:])) / (np.max(train_pet[i,:,:]) - np.min(train_pet[i,:,:]))"
   ]
  },
  {
   "cell_type": "code",
   "execution_count": 10,
   "metadata": {},
   "outputs": [],
   "source": [
    "#expand the dimension to add the channel\n",
    "train_pet = np.expand_dims(train_pet,axis=1)"
   ]
  },
  {
   "cell_type": "code",
   "execution_count": 11,
   "metadata": {},
   "outputs": [
    {
     "data": {
      "text/plain": [
       "(272, 1, 256, 256)"
      ]
     },
     "execution_count": 11,
     "metadata": {},
     "output_type": "execute_result"
    }
   ],
   "source": [
    "#verify the shape matches the pytorch standard\n",
    "train_pet.shape"
   ]
  },
  {
   "cell_type": "code",
   "execution_count": 12,
   "metadata": {},
   "outputs": [
    {
     "data": {
      "text/plain": [
       "torch.Size([272, 1, 256, 256])"
      ]
     },
     "execution_count": 12,
     "metadata": {},
     "output_type": "execute_result"
    }
   ],
   "source": [
    "#convert the PET training data to pytorch tensor\n",
    "train_pet_tensor = torch.from_numpy(train_pet).float()\n",
    "train_pet_tensor.shape"
   ]
  },
  {
   "cell_type": "code",
   "execution_count": 16,
   "metadata": {},
   "outputs": [
    {
     "name": "stdout",
     "output_type": "stream",
     "text": [
      "MFNet(\n",
      "  (conv1): Sequential(\n",
      "    (0): Conv2d(1, 64, kernel_size=(3, 3), stride=(1, 1), padding=(1, 1))\n",
      "  )\n",
      "  (feature_d1): Sequential(\n",
      "    (0): Conv2d(64, 64, kernel_size=(3, 3), stride=(1, 1), padding=(1, 1))\n",
      "    (1): LeakyReLU(negative_slope=0.2, inplace)\n",
      "    (2): Conv2d(64, 64, kernel_size=(3, 3), stride=(1, 1), padding=(1, 1))\n",
      "    (3): LeakyReLU(negative_slope=0.2, inplace)\n",
      "    (4): Conv2d(64, 64, kernel_size=(3, 3), stride=(1, 1), padding=(1, 1))\n",
      "    (5): LeakyReLU(negative_slope=0.2, inplace)\n",
      "    (6): Conv2d(64, 64, kernel_size=(3, 3), stride=(1, 1), padding=(1, 1))\n",
      "    (7): LeakyReLU(negative_slope=0.2, inplace)\n",
      "    (8): Conv2d(64, 64, kernel_size=(3, 3), stride=(1, 1), padding=(1, 1))\n",
      "    (9): LeakyReLU(negative_slope=0.2, inplace)\n",
      "  )\n",
      "  (feature_d2): Sequential(\n",
      "    (0): Conv2d(64, 64, kernel_size=(3, 3), stride=(1, 1), padding=(1, 1))\n",
      "    (1): LeakyReLU(negative_slope=0.2, inplace)\n",
      "    (2): Conv2d(64, 64, kernel_size=(3, 3), stride=(1, 1), padding=(1, 1))\n",
      "    (3): LeakyReLU(negative_slope=0.2, inplace)\n",
      "    (4): Conv2d(64, 64, kernel_size=(3, 3), stride=(1, 1), padding=(1, 1))\n",
      "    (5): LeakyReLU(negative_slope=0.2, inplace)\n",
      "    (6): Conv2d(64, 64, kernel_size=(3, 3), stride=(1, 1), padding=(1, 1))\n",
      "    (7): LeakyReLU(negative_slope=0.2, inplace)\n",
      "    (8): Conv2d(64, 64, kernel_size=(3, 3), stride=(1, 1), padding=(1, 1))\n",
      "    (9): LeakyReLU(negative_slope=0.2, inplace)\n",
      "    (10): Conv2d(64, 64, kernel_size=(3, 3), stride=(1, 1), padding=(1, 1))\n",
      "    (11): LeakyReLU(negative_slope=0.2, inplace)\n",
      "  )\n",
      "  (feature_d3): Sequential(\n",
      "    (0): Conv2d(64, 64, kernel_size=(3, 3), stride=(1, 1), padding=(1, 1))\n",
      "    (1): LeakyReLU(negative_slope=0.2, inplace)\n",
      "    (2): Conv2d(64, 64, kernel_size=(3, 3), stride=(1, 1), padding=(1, 1))\n",
      "    (3): LeakyReLU(negative_slope=0.2, inplace)\n",
      "    (4): Conv2d(64, 64, kernel_size=(3, 3), stride=(1, 1), padding=(1, 1))\n",
      "    (5): LeakyReLU(negative_slope=0.2, inplace)\n",
      "    (6): Conv2d(64, 64, kernel_size=(3, 3), stride=(1, 1), padding=(1, 1))\n",
      "    (7): LeakyReLU(negative_slope=0.2, inplace)\n",
      "    (8): Conv2d(64, 64, kernel_size=(3, 3), stride=(1, 1), padding=(1, 1))\n",
      "    (9): LeakyReLU(negative_slope=0.2, inplace)\n",
      "    (10): Conv2d(64, 64, kernel_size=(3, 3), stride=(1, 1), padding=(1, 1))\n",
      "    (11): LeakyReLU(negative_slope=0.2, inplace)\n",
      "    (12): Conv2d(64, 1, kernel_size=(3, 3), stride=(1, 1), padding=(1, 1))\n",
      "    (13): Sigmoid()\n",
      "  )\n",
      "  (conv2): Sequential(\n",
      "    (0): Conv2d(64, 64, kernel_size=(3, 3), stride=(1, 1), padding=(1, 1))\n",
      "  )\n",
      "  (conv3): Sequential(\n",
      "    (0): Conv2d(64, 64, kernel_size=(3, 3), stride=(1, 1), padding=(1, 1))\n",
      "    (1): LeakyReLU(negative_slope=0.2, inplace)\n",
      "  )\n",
      ")\n"
     ]
    }
   ],
   "source": [
    "#define the fusion network\n",
    "class MFNet(nn.Module):\n",
    "    def  __init__(self):\n",
    "        super(MFNet, self).__init__()\n",
    "        #####conv layer 1#####\n",
    "        self.conv1 = nn.Sequential( #input shape (,1,256,256)\n",
    "                         nn.Conv2d(in_channels=1, out_channels=64, kernel_size=3, stride=1, padding=1))\n",
    "        \n",
    "        #####feature extraction layer D1#####\n",
    "        self.feature_d1 = nn.Sequential(                       #input shape (,64,256,256)\n",
    "                         nn.Conv2d(in_channels = 64, out_channels = 64, kernel_size  = 3, stride= 1, padding = 1),\n",
    "                         nn.LeakyReLU(0.2,inplace=True),\n",
    "                         nn.Conv2d(in_channels  = 64, out_channels = 64, kernel_size = 3, stride = 1, padding = 1),\n",
    "                         nn.LeakyReLU(0.2,inplace=True),\n",
    "                         nn.Conv2d(in_channels  = 64, out_channels = 64, kernel_size  = 3, stride = 1, padding = 1),\n",
    "                         nn.LeakyReLU(0.2,inplace=True),\n",
    "                         nn.Conv2d(in_channels  = 64, out_channels = 64, kernel_size  = 3, stride = 1, padding = 1),\n",
    "                         nn.LeakyReLU(0.2,inplace=True),\n",
    "                         nn.Conv2d(in_channels  = 64, out_channels = 64, kernel_size  = 3, stride = 1, padding = 1),\n",
    "                         nn.LeakyReLU(0.2,inplace=True))       #output shape (,64,256,256)\n",
    "        \n",
    "        #####feature extraction layer D2#####\n",
    "        self.feature_d2 = nn.Sequential(  #input shape (,64,256,256)\n",
    "                         nn.Conv2d(in_channels = 64, out_channels = 64, kernel_size  = 3, stride= 1, padding = 1),\n",
    "                         nn.LeakyReLU(0.2,inplace=True),\n",
    "                         nn.Conv2d(in_channels  = 64, out_channels = 64, kernel_size = 3, stride = 1, padding = 1),\n",
    "                         nn.LeakyReLU(0.2,inplace=True),\n",
    "                         nn.Conv2d(in_channels  = 64, out_channels = 64, kernel_size  = 3, stride = 1, padding = 1),\n",
    "                         nn.LeakyReLU(0.2,inplace=True),\n",
    "                         nn.Conv2d(in_channels  = 64, out_channels = 64, kernel_size  = 3, stride = 1, padding = 1),\n",
    "                         nn.LeakyReLU(0.2,inplace=True),\n",
    "                         nn.Conv2d(in_channels  = 64, out_channels = 64, kernel_size  = 3, stride = 1, padding = 1),\n",
    "                         nn.LeakyReLU(0.2,inplace=True),\n",
    "                         nn.Conv2d(in_channels  = 64, out_channels = 64, kernel_size  = 3, stride = 1, padding = 1),\n",
    "                         nn.LeakyReLU(0.2,inplace=True))        #output shape (,64,256,256)      \n",
    "\n",
    "        #####feature reconstruction layer D3#####\n",
    "        self.feature_d3 = nn.Sequential(  #input shape (,64,256,256)\n",
    "                         nn.Conv2d(in_channels = 64, out_channels = 64, kernel_size  = 3, stride= 1, padding = 1),\n",
    "                         nn.LeakyReLU(0.2,inplace=True),\n",
    "                         nn.Conv2d(in_channels  = 64, out_channels = 64, kernel_size = 3, stride = 1, padding = 1),\n",
    "                         nn.LeakyReLU(0.2,inplace=True),\n",
    "                         nn.Conv2d(in_channels  = 64, out_channels = 64, kernel_size  = 3, stride = 1, padding = 1),\n",
    "                         nn.LeakyReLU(0.2,inplace=True),\n",
    "                         nn.Conv2d(in_channels  = 64, out_channels = 64, kernel_size  = 3, stride = 1, padding = 1),\n",
    "                         nn.LeakyReLU(0.2,inplace=True),\n",
    "                         nn.Conv2d(in_channels  = 64, out_channels = 64, kernel_size  = 3, stride = 1, padding = 1),\n",
    "                         nn.LeakyReLU(0.2,inplace=True),\n",
    "                         nn.Conv2d(in_channels  = 64, out_channels = 64, kernel_size  = 3, stride = 1, padding = 1),\n",
    "                         nn.LeakyReLU(0.2,inplace=True),\n",
    "                         nn.Conv2d(in_channels  = 64, out_channels = 1, kernel_size  = 3, stride = 1, padding = 1),\n",
    "                         nn.Sigmoid())   #output shape (,64,256,256)  \n",
    "        \n",
    "        #####conv layer 2#####\n",
    "        self.conv2 = nn.Sequential( #input shape (,64,256,256)\n",
    "                         nn.Conv2d(in_channels=64, out_channels=64, kernel_size=3, stride=1, padding=1))\n",
    "        \n",
    "        #####conv layer 3#####\n",
    "        self.conv3 = nn.Sequential( #input shape (,64,256,256)\n",
    "                         nn.Conv2d(in_channels=64, out_channels=64, kernel_size=3, stride=1, padding=1),\n",
    "                         nn.LeakyReLU(0.2,inplace=True))\n",
    "\n",
    "    def forward(self, x, y):\n",
    "        #conv layer 1\n",
    "        x1 = self.conv1(x)\n",
    "        y1 = self.conv1(y)\n",
    "        xy_av = self.conv1((x+y)/2)\n",
    "        #feature extraction layer d1\n",
    "        x2 = self.feature_d1(x1)\n",
    "        y2 = self.feature_d1(y1)\n",
    "        #conv layer 2\n",
    "        x3 = self.conv2(x2)\n",
    "        y3 = self.conv2(y2)\n",
    "        #fusion layer\n",
    "        xy = x3+y3\n",
    "        #conv layer 3\n",
    "        xy1 = self.conv3(xy)\n",
    "        #feature extraction layer d2\n",
    "        xy2 = self.feature_d2(xy_av + xy1)\n",
    "        #feature reconstruction layer d3\n",
    "        fused = self.feature_d3(xy2 + xy_av)    \n",
    "        return fused\n",
    "        #execute the network\n",
    "\n",
    "cnn = MFNet().to(device)\n",
    "cnn = cnn.float()\n",
    "print(cnn)"
   ]
  },
  {
   "cell_type": "code",
   "execution_count": 17,
   "metadata": {},
   "outputs": [],
   "source": [
    "#define the optimizers and loss functions \n",
    "optimizer = torch.optim.Adam(cnn.parameters(), lr=learning_rate)   #optimize all cnn parameters\n",
    "MSE_loss   = nn.MSELoss()                                           #MSEloss"
   ]
  },
  {
   "cell_type": "code",
   "execution_count": 18,
   "metadata": {},
   "outputs": [
    {
     "name": "stdout",
     "output_type": "stream",
     "text": [
      "Epoch: [ 0],step: [100], ssim_mri_loss: [0.32261705], ssim_pet_loss: [0.31994671], total_loss: [0.64256376]\n",
      "Epoch: [ 0],step: [200], ssim_mri_loss: [0.65731442], ssim_pet_loss: [0.61005831], total_loss: [1.26737273]\n",
      "Epoch: [ 1],step: [300], ssim_mri_loss: [0.43097734], ssim_pet_loss: [0.49781752], total_loss: [0.92879486]\n",
      "Epoch: [ 1],step: [400], ssim_mri_loss: [0.25270671], ssim_pet_loss: [0.25039661], total_loss: [0.50310332]\n",
      "Epoch: [ 1],step: [500], ssim_mri_loss: [0.91602558], ssim_pet_loss: [0.50441277], total_loss: [1.42043829]\n",
      "Epoch: [ 2],step: [600], ssim_mri_loss: [0.63139117], ssim_pet_loss: [0.52332103], total_loss: [1.15471220]\n",
      "Epoch: [ 2],step: [700], ssim_mri_loss: [0.46563876], ssim_pet_loss: [0.44958651], total_loss: [0.91522527]\n",
      "Epoch: [ 2],step: [800], ssim_mri_loss: [0.39394110], ssim_pet_loss: [0.37742913], total_loss: [0.77137023]\n",
      "Epoch: [ 3],step: [900], ssim_mri_loss: [0.33492613], ssim_pet_loss: [0.33528274], total_loss: [0.67020887]\n",
      "Epoch: [ 3],step: [1000], ssim_mri_loss: [0.61049080], ssim_pet_loss: [0.53309673], total_loss: [1.14358759]\n",
      "Epoch: [ 4],step: [1100], ssim_mri_loss: [0.38081795], ssim_pet_loss: [0.40857220], total_loss: [0.78939015]\n",
      "Epoch: [ 4],step: [1200], ssim_mri_loss: [0.29977316], ssim_pet_loss: [0.30917674], total_loss: [0.60894990]\n",
      "Epoch: [ 4],step: [1300], ssim_mri_loss: [0.40956986], ssim_pet_loss: [0.41925293], total_loss: [0.82882279]\n",
      "Epoch: [ 5],step: [1400], ssim_mri_loss: [0.53737998], ssim_pet_loss: [0.67521560], total_loss: [1.21259558]\n",
      "Epoch: [ 5],step: [1500], ssim_mri_loss: [0.17516679], ssim_pet_loss: [0.17774892], total_loss: [0.35291570]\n",
      "Epoch: [ 5],step: [1600], ssim_mri_loss: [0.52110279], ssim_pet_loss: [0.45062596], total_loss: [0.97172874]\n",
      "Epoch: [ 6],step: [1700], ssim_mri_loss: [0.61655581], ssim_pet_loss: [0.55491143], total_loss: [1.17146730]\n",
      "Epoch: [ 6],step: [1800], ssim_mri_loss: [0.47024298], ssim_pet_loss: [0.43949634], total_loss: [0.90973932]\n",
      "Epoch: [ 6],step: [1900], ssim_mri_loss: [0.45831132], ssim_pet_loss: [0.46119690], total_loss: [0.91950822]\n",
      "Epoch: [ 7],step: [2000], ssim_mri_loss: [0.32915026], ssim_pet_loss: [0.32721037], total_loss: [0.65636063]\n",
      "Epoch: [ 7],step: [2100], ssim_mri_loss: [0.63501441], ssim_pet_loss: [0.52665418], total_loss: [1.16166854]\n",
      "Epoch: [ 8],step: [2200], ssim_mri_loss: [0.52464187], ssim_pet_loss: [0.59753489], total_loss: [1.12217677]\n",
      "Epoch: [ 8],step: [2300], ssim_mri_loss: [0.26924074], ssim_pet_loss: [0.27176392], total_loss: [0.54100466]\n",
      "Epoch: [ 8],step: [2400], ssim_mri_loss: [0.90175909], ssim_pet_loss: [0.54629850], total_loss: [1.44805765]\n",
      "Epoch: [ 9],step: [2500], ssim_mri_loss: [0.36191529], ssim_pet_loss: [0.50942838], total_loss: [0.87134367]\n",
      "Epoch: [ 9],step: [2600], ssim_mri_loss: [0.26816750], ssim_pet_loss: [0.31113523], total_loss: [0.57930273]\n",
      "Epoch: [ 9],step: [2700], ssim_mri_loss: [0.48830336], ssim_pet_loss: [0.46610886], total_loss: [0.95441222]\n",
      "Epoch: [10],step: [2800], ssim_mri_loss: [0.33301467], ssim_pet_loss: [0.33537620], total_loss: [0.66839087]\n",
      "Epoch: [10],step: [2900], ssim_mri_loss: [0.57542169], ssim_pet_loss: [0.41273087], total_loss: [0.98815256]\n",
      "Epoch: [11],step: [3000], ssim_mri_loss: [0.48071778], ssim_pet_loss: [0.47056383], total_loss: [0.95128161]\n",
      "Epoch: [11],step: [3100], ssim_mri_loss: [0.30932873], ssim_pet_loss: [0.31508702], total_loss: [0.62441576]\n",
      "Epoch: [11],step: [3200], ssim_mri_loss: [0.55193913], ssim_pet_loss: [0.56530404], total_loss: [1.11724317]\n",
      "Epoch: [12],step: [3300], ssim_mri_loss: [0.55328894], ssim_pet_loss: [0.70223331], total_loss: [1.25552225]\n",
      "Epoch: [12],step: [3400], ssim_mri_loss: [0.20387185], ssim_pet_loss: [0.21561939], total_loss: [0.41949123]\n",
      "Epoch: [12],step: [3500], ssim_mri_loss: [0.56633389], ssim_pet_loss: [0.45130485], total_loss: [1.01763868]\n",
      "Epoch: [13],step: [3600], ssim_mri_loss: [0.62886864], ssim_pet_loss: [0.55404711], total_loss: [1.18291569]\n",
      "Epoch: [13],step: [3700], ssim_mri_loss: [0.48080891], ssim_pet_loss: [0.46103466], total_loss: [0.94184357]\n",
      "Epoch: [13],step: [3800], ssim_mri_loss: [0.57716346], ssim_pet_loss: [0.52371025], total_loss: [1.10087371]\n",
      "Epoch: [14],step: [3900], ssim_mri_loss: [0.33372277], ssim_pet_loss: [0.33891654], total_loss: [0.67263931]\n",
      "Epoch: [14],step: [4000], ssim_mri_loss: [0.49675614], ssim_pet_loss: [0.46232349], total_loss: [0.95907962]\n",
      "Epoch: [15],step: [4100], ssim_mri_loss: [0.56750667], ssim_pet_loss: [0.62820113], total_loss: [1.19570780]\n",
      "Epoch: [15],step: [4200], ssim_mri_loss: [0.28260261], ssim_pet_loss: [0.27909964], total_loss: [0.56170225]\n",
      "Epoch: [15],step: [4300], ssim_mri_loss: [0.91568309], ssim_pet_loss: [0.54882085], total_loss: [1.46450400]\n",
      "Epoch: [16],step: [4400], ssim_mri_loss: [0.43796587], ssim_pet_loss: [0.60571837], total_loss: [1.04368424]\n",
      "Epoch: [16],step: [4500], ssim_mri_loss: [0.47164148], ssim_pet_loss: [0.54182845], total_loss: [1.01346993]\n",
      "Epoch: [16],step: [4600], ssim_mri_loss: [0.50380385], ssim_pet_loss: [0.48454440], total_loss: [0.98834825]\n",
      "Epoch: [17],step: [4700], ssim_mri_loss: [0.50541425], ssim_pet_loss: [0.43674362], total_loss: [0.94215786]\n",
      "Epoch: [17],step: [4800], ssim_mri_loss: [0.41200691], ssim_pet_loss: [0.35119188], total_loss: [0.76319879]\n",
      "Epoch: [18],step: [4900], ssim_mri_loss: [0.49559903], ssim_pet_loss: [0.45056230], total_loss: [0.94616133]\n",
      "Epoch: [18],step: [5000], ssim_mri_loss: [0.31705022], ssim_pet_loss: [0.31331414], total_loss: [0.63036436]\n",
      "Epoch: [18],step: [5100], ssim_mri_loss: [0.62354243], ssim_pet_loss: [0.61113238], total_loss: [1.23467481]\n",
      "Epoch: [19],step: [5200], ssim_mri_loss: [0.55938232], ssim_pet_loss: [0.64887464], total_loss: [1.20825696]\n",
      "Epoch: [19],step: [5300], ssim_mri_loss: [0.23188013], ssim_pet_loss: [0.23503602], total_loss: [0.46691614]\n",
      "Epoch: [19],step: [5400], ssim_mri_loss: [0.57432574], ssim_pet_loss: [0.39749509], total_loss: [0.97182083]\n",
      "Epoch: [20],step: [5500], ssim_mri_loss: [0.64560294], ssim_pet_loss: [0.56251717], total_loss: [1.20812011]\n",
      "Epoch: [20],step: [5600], ssim_mri_loss: [0.48512113], ssim_pet_loss: [0.46742636], total_loss: [0.95254749]\n",
      "Epoch: [20],step: [5700], ssim_mri_loss: [0.18456376], ssim_pet_loss: [0.14847010], total_loss: [0.33303386]\n",
      "Epoch: [21],step: [5800], ssim_mri_loss: [0.33541340], ssim_pet_loss: [0.33997738], total_loss: [0.67539078]\n",
      "Epoch: [21],step: [5900], ssim_mri_loss: [0.59120798], ssim_pet_loss: [0.54664326], total_loss: [1.13785124]\n",
      "Epoch: [22],step: [6000], ssim_mri_loss: [0.55957466], ssim_pet_loss: [0.60482395], total_loss: [1.16439867]\n",
      "Epoch: [22],step: [6100], ssim_mri_loss: [0.29422414], ssim_pet_loss: [0.29572773], total_loss: [0.58995187]\n",
      "Epoch: [22],step: [6200], ssim_mri_loss: [0.92954987], ssim_pet_loss: [0.47644150], total_loss: [1.40599132]\n",
      "Epoch: [23],step: [6300], ssim_mri_loss: [0.49265939], ssim_pet_loss: [0.64921510], total_loss: [1.14187455]\n",
      "Epoch: [23],step: [6400], ssim_mri_loss: [0.56633008], ssim_pet_loss: [0.63513696], total_loss: [1.20146704]\n",
      "Epoch: [23],step: [6500], ssim_mri_loss: [0.42823607], ssim_pet_loss: [0.33799189], total_loss: [0.76622796]\n",
      "Epoch: [24],step: [6600], ssim_mri_loss: [0.57673442], ssim_pet_loss: [0.52106076], total_loss: [1.09779525]\n",
      "Epoch: [24],step: [6700], ssim_mri_loss: [0.44814277], ssim_pet_loss: [0.39851075], total_loss: [0.84665352]\n",
      "Epoch: [24],step: [6800], ssim_mri_loss: [0.61160827], ssim_pet_loss: [0.27488858], total_loss: [0.88649684]\n",
      "Epoch: [25],step: [6900], ssim_mri_loss: [0.32261705], ssim_pet_loss: [0.31994671], total_loss: [0.64256376]\n",
      "Epoch: [25],step: [7000], ssim_mri_loss: [0.65731442], ssim_pet_loss: [0.61005831], total_loss: [1.26737273]\n",
      "Epoch: [26],step: [7100], ssim_mri_loss: [0.43097734], ssim_pet_loss: [0.49781752], total_loss: [0.92879486]\n",
      "Epoch: [26],step: [7200], ssim_mri_loss: [0.25270671], ssim_pet_loss: [0.25039661], total_loss: [0.50310332]\n",
      "Epoch: [26],step: [7300], ssim_mri_loss: [0.91602558], ssim_pet_loss: [0.50441277], total_loss: [1.42043829]\n",
      "Epoch: [27],step: [7400], ssim_mri_loss: [0.63139117], ssim_pet_loss: [0.52332103], total_loss: [1.15471220]\n",
      "Epoch: [27],step: [7500], ssim_mri_loss: [0.46563876], ssim_pet_loss: [0.44958651], total_loss: [0.91522527]\n",
      "Epoch: [27],step: [7600], ssim_mri_loss: [0.39394110], ssim_pet_loss: [0.37742913], total_loss: [0.77137023]\n"
     ]
    },
    {
     "name": "stdout",
     "output_type": "stream",
     "text": [
      "Epoch: [28],step: [7700], ssim_mri_loss: [0.33492613], ssim_pet_loss: [0.33528274], total_loss: [0.67020887]\n",
      "Epoch: [28],step: [7800], ssim_mri_loss: [0.61049080], ssim_pet_loss: [0.53309673], total_loss: [1.14358759]\n",
      "Epoch: [29],step: [7900], ssim_mri_loss: [0.38081795], ssim_pet_loss: [0.40857220], total_loss: [0.78939015]\n",
      "Epoch: [29],step: [8000], ssim_mri_loss: [0.29977316], ssim_pet_loss: [0.30917674], total_loss: [0.60894990]\n",
      "Epoch: [29],step: [8100], ssim_mri_loss: [0.40956986], ssim_pet_loss: [0.41925293], total_loss: [0.82882279]\n",
      "Epoch: [30],step: [8200], ssim_mri_loss: [0.53737998], ssim_pet_loss: [0.67521560], total_loss: [1.21259558]\n",
      "Epoch: [30],step: [8300], ssim_mri_loss: [0.17516679], ssim_pet_loss: [0.17774892], total_loss: [0.35291570]\n",
      "Epoch: [30],step: [8400], ssim_mri_loss: [0.52110279], ssim_pet_loss: [0.45062596], total_loss: [0.97172874]\n",
      "Epoch: [31],step: [8500], ssim_mri_loss: [0.61655581], ssim_pet_loss: [0.55491143], total_loss: [1.17146730]\n",
      "Epoch: [31],step: [8600], ssim_mri_loss: [0.47024298], ssim_pet_loss: [0.43949634], total_loss: [0.90973932]\n",
      "Epoch: [31],step: [8700], ssim_mri_loss: [0.45831132], ssim_pet_loss: [0.46119690], total_loss: [0.91950822]\n",
      "Epoch: [32],step: [8800], ssim_mri_loss: [0.32915026], ssim_pet_loss: [0.32721037], total_loss: [0.65636063]\n",
      "Epoch: [32],step: [8900], ssim_mri_loss: [0.63501441], ssim_pet_loss: [0.52665418], total_loss: [1.16166854]\n",
      "Epoch: [33],step: [9000], ssim_mri_loss: [0.52464187], ssim_pet_loss: [0.59753489], total_loss: [1.12217677]\n",
      "Epoch: [33],step: [9100], ssim_mri_loss: [0.26924074], ssim_pet_loss: [0.27176392], total_loss: [0.54100466]\n",
      "Epoch: [33],step: [9200], ssim_mri_loss: [0.90175909], ssim_pet_loss: [0.54629850], total_loss: [1.44805765]\n",
      "Epoch: [34],step: [9300], ssim_mri_loss: [0.36191529], ssim_pet_loss: [0.50942838], total_loss: [0.87134367]\n",
      "Epoch: [34],step: [9400], ssim_mri_loss: [0.26816750], ssim_pet_loss: [0.31113523], total_loss: [0.57930273]\n",
      "Epoch: [34],step: [9500], ssim_mri_loss: [0.48830336], ssim_pet_loss: [0.46610886], total_loss: [0.95441222]\n",
      "Epoch: [35],step: [9600], ssim_mri_loss: [0.33301467], ssim_pet_loss: [0.33537620], total_loss: [0.66839087]\n",
      "Epoch: [35],step: [9700], ssim_mri_loss: [0.57542169], ssim_pet_loss: [0.41273087], total_loss: [0.98815256]\n",
      "Epoch: [36],step: [9800], ssim_mri_loss: [0.48071778], ssim_pet_loss: [0.47056383], total_loss: [0.95128161]\n",
      "Epoch: [36],step: [9900], ssim_mri_loss: [0.30932873], ssim_pet_loss: [0.31508702], total_loss: [0.62441576]\n",
      "Epoch: [36],step: [10000], ssim_mri_loss: [0.55193913], ssim_pet_loss: [0.56530404], total_loss: [1.11724317]\n",
      "Epoch: [37],step: [10100], ssim_mri_loss: [0.55328894], ssim_pet_loss: [0.70223331], total_loss: [1.25552225]\n",
      "Epoch: [37],step: [10200], ssim_mri_loss: [0.20387185], ssim_pet_loss: [0.21561939], total_loss: [0.41949123]\n",
      "Epoch: [37],step: [10300], ssim_mri_loss: [0.56633389], ssim_pet_loss: [0.45130485], total_loss: [1.01763868]\n",
      "Epoch: [38],step: [10400], ssim_mri_loss: [0.62886864], ssim_pet_loss: [0.55404711], total_loss: [1.18291569]\n",
      "Epoch: [38],step: [10500], ssim_mri_loss: [0.48080891], ssim_pet_loss: [0.46103466], total_loss: [0.94184357]\n",
      "Epoch: [38],step: [10600], ssim_mri_loss: [0.57716346], ssim_pet_loss: [0.52371025], total_loss: [1.10087371]\n",
      "Epoch: [39],step: [10700], ssim_mri_loss: [0.33372277], ssim_pet_loss: [0.33891654], total_loss: [0.67263931]\n",
      "Epoch: [39],step: [10800], ssim_mri_loss: [0.49675614], ssim_pet_loss: [0.46232349], total_loss: [0.95907962]\n",
      "Epoch: [40],step: [10900], ssim_mri_loss: [0.56750667], ssim_pet_loss: [0.62820113], total_loss: [1.19570780]\n",
      "Epoch: [40],step: [11000], ssim_mri_loss: [0.28260261], ssim_pet_loss: [0.27909964], total_loss: [0.56170225]\n",
      "Epoch: [40],step: [11100], ssim_mri_loss: [0.91568309], ssim_pet_loss: [0.54882085], total_loss: [1.46450400]\n",
      "Epoch: [41],step: [11200], ssim_mri_loss: [0.43796587], ssim_pet_loss: [0.60571837], total_loss: [1.04368424]\n",
      "Epoch: [41],step: [11300], ssim_mri_loss: [0.47164148], ssim_pet_loss: [0.54182845], total_loss: [1.01346993]\n",
      "Epoch: [41],step: [11400], ssim_mri_loss: [0.50380385], ssim_pet_loss: [0.48454440], total_loss: [0.98834825]\n",
      "Epoch: [42],step: [11500], ssim_mri_loss: [0.50541425], ssim_pet_loss: [0.43674362], total_loss: [0.94215786]\n",
      "Epoch: [42],step: [11600], ssim_mri_loss: [0.41200691], ssim_pet_loss: [0.35119188], total_loss: [0.76319879]\n",
      "Epoch: [43],step: [11700], ssim_mri_loss: [0.49559903], ssim_pet_loss: [0.45056230], total_loss: [0.94616133]\n",
      "Epoch: [43],step: [11800], ssim_mri_loss: [0.31705022], ssim_pet_loss: [0.31331414], total_loss: [0.63036436]\n",
      "Epoch: [43],step: [11900], ssim_mri_loss: [0.62354243], ssim_pet_loss: [0.61113238], total_loss: [1.23467481]\n",
      "Epoch: [44],step: [12000], ssim_mri_loss: [0.55938232], ssim_pet_loss: [0.64887464], total_loss: [1.20825696]\n",
      "Epoch: [44],step: [12100], ssim_mri_loss: [0.23188013], ssim_pet_loss: [0.23503602], total_loss: [0.46691614]\n",
      "Epoch: [44],step: [12200], ssim_mri_loss: [0.57432574], ssim_pet_loss: [0.39749509], total_loss: [0.97182083]\n",
      "Epoch: [45],step: [12300], ssim_mri_loss: [0.64560294], ssim_pet_loss: [0.56251717], total_loss: [1.20812011]\n",
      "Epoch: [45],step: [12400], ssim_mri_loss: [0.48512113], ssim_pet_loss: [0.46742636], total_loss: [0.95254749]\n",
      "Epoch: [45],step: [12500], ssim_mri_loss: [0.18456376], ssim_pet_loss: [0.14847010], total_loss: [0.33303386]\n",
      "Epoch: [46],step: [12600], ssim_mri_loss: [0.33541340], ssim_pet_loss: [0.33997738], total_loss: [0.67539078]\n",
      "Epoch: [46],step: [12700], ssim_mri_loss: [0.59120798], ssim_pet_loss: [0.54664326], total_loss: [1.13785124]\n",
      "Epoch: [47],step: [12800], ssim_mri_loss: [0.55957466], ssim_pet_loss: [0.60482395], total_loss: [1.16439867]\n",
      "Epoch: [47],step: [12900], ssim_mri_loss: [0.29422414], ssim_pet_loss: [0.29572773], total_loss: [0.58995187]\n",
      "Epoch: [47],step: [13000], ssim_mri_loss: [0.92954987], ssim_pet_loss: [0.47644150], total_loss: [1.40599132]\n",
      "Epoch: [48],step: [13100], ssim_mri_loss: [0.49265939], ssim_pet_loss: [0.64921510], total_loss: [1.14187455]\n",
      "Epoch: [48],step: [13200], ssim_mri_loss: [0.56633008], ssim_pet_loss: [0.63513696], total_loss: [1.20146704]\n",
      "Epoch: [48],step: [13300], ssim_mri_loss: [0.42823607], ssim_pet_loss: [0.33799189], total_loss: [0.76622796]\n",
      "Epoch: [49],step: [13400], ssim_mri_loss: [0.57673442], ssim_pet_loss: [0.52106076], total_loss: [1.09779525]\n",
      "Epoch: [49],step: [13500], ssim_mri_loss: [0.44814277], ssim_pet_loss: [0.39851075], total_loss: [0.84665352]\n",
      "Epoch: [49],step: [13600], ssim_mri_loss: [0.61160827], ssim_pet_loss: [0.27488858], total_loss: [0.88649684]\n"
     ]
    },
    {
     "name": "stderr",
     "output_type": "stream",
     "text": [
      "C:\\Program Files (x86)\\Microsoft Visual Studio\\Shared\\Anaconda3_64\\lib\\site-packages\\torch\\serialization.py:250: UserWarning: Couldn't retrieve source code for container of type MFNet. It won't be checked for correctness upon loading.\n",
      "  \"type \" + obj.__name__ + \". It won't be checked \"\n"
     ]
    }
   ],
   "source": [
    "# perform the training\n",
    "counter = 0\n",
    "start_time = time.time()\n",
    "lamda = 1\n",
    "ep_ssim_mri_loss = []\n",
    "ep_ssim_pet_loss = []\n",
    "for epoch in range(EPOCH):\n",
    "    ssim_mri_Loss = []\n",
    "    ssim_pet_Loss   = []\n",
    "    #run batch images\n",
    "    batch_idxs = 272 // batch_size\n",
    "    for idx in range(0, batch_idxs):\n",
    "        #reconstruct mri\n",
    "        b_x = train_mri_tensor[idx*batch_size : (idx+1)*batch_size,:,:,:].to(device)\n",
    "        b_y = train_pet_tensor[idx*batch_size : (idx+1)*batch_size,:,:,:].to(device)\n",
    "        counter += 1\n",
    "        #network\n",
    "        output = cnn(b_x,b_y)              \n",
    "        ssim_mri_loss = 1 - ssim(output, b_x,data_range=1)\n",
    "        ssim_pet_loss = 1 - ssim(output, b_y,data_range=1)\n",
    "        loss_total = ssim_mri_loss + ssim_pet_loss\n",
    "        optimizer.zero_grad()              # clear gradients for this training step\n",
    "        loss_total.backward()              # backpropagation, compute gradients\n",
    "        optimizer.step()                   # apply gradients\n",
    "                \n",
    "        ssim_mri_Loss.append(ssim_mri_loss.item())\n",
    "        ssim_pet_Loss.append(ssim_pet_loss.item())\n",
    "        \n",
    "        if counter % 100 == 0:\n",
    "            print(\"Epoch: [%2d],step: [%2d], ssim_mri_loss: [%.8f], ssim_pet_loss: [%.8f], total_loss: [%.8f]\" \n",
    "                   %(epoch, counter, ssim_mri_loss, ssim_pet_loss, loss_total))\n",
    "    \n",
    "    av_ssim_mri_loss = np.average(ssim_mri_Loss)\n",
    "    ep_ssim_mri_loss.append(av_ssim_mri_loss)\n",
    "    \n",
    "    av_ssim_pet_loss = np.average(ssim_pet_Loss)\n",
    "    ep_ssim_pet_loss.append(av_ssim_pet_loss)\n",
    "    \n",
    "    if(epoch == EPOCH -1):\n",
    "        #Save a checkpoint\n",
    "        torch.save(cnn, 'C:/Users/horan/Desktop/Suraka/.ipynb_checkpoints/MFNet/checkpoint.pth') "
   ]
  },
  {
   "cell_type": "code",
   "execution_count": 19,
   "metadata": {},
   "outputs": [],
   "source": [
    "l1 = np.asarray(ep_ssim_mri_loss)\n",
    "l2 = np.asarray(ep_ssim_pet_loss)"
   ]
  },
  {
   "cell_type": "code",
   "execution_count": 21,
   "metadata": {},
   "outputs": [],
   "source": [
    "#h5f = h5py.File('C:/Users/horan/Desktop/Suraka/Loss curves/MFNet/H5 Files/Loss_SSIM_PET.h5', 'w')\n",
    "#h5f.create_dataset('PET_dataset', data=l2)\n",
    "#h5f.close()"
   ]
  },
  {
   "cell_type": "code",
   "execution_count": 26,
   "metadata": {},
   "outputs": [],
   "source": [
    "#plt.plot(l2)\n",
    "#plt.savefig('C:/Users/horan/Desktop/Suraka/Loss curves/MFNet/Loss curves/SSIM_PET_loss_curve.png', bbox_inches = 'tight',pad_inches = 0)\n",
    "#plt.close()"
   ]
  },
  {
   "cell_type": "code",
   "execution_count": 43,
   "metadata": {},
   "outputs": [],
   "source": [
    "#load the test input MRI dataset\n",
    "filenames = os.listdir('C:/Users/horan/Desktop/Suraka/MRI/')\n",
    "dataset = os.path.join(os.getcwd(), 'C:/Users/horan/Desktop/Suraka/MRI/')\n",
    "data = glob.glob(os.path.join(dataset, \"*.gif\"))\n",
    "data = natsort.natsorted(data,reverse=False)\n",
    "test_mri = np.zeros((len(data), image_width,image_length))\n",
    "for i in range(len(data)):\n",
    "    test_mri[i,:,:] =(imageio.imread(data[i]))\n",
    "    test_mri[i,:,:] =(test_mri[i,:,:] - np.min(test_mri[i,:,:])) / (np.max(test_mri[i,:,:]) - np.min(test_mri[i,:,:]))\n",
    "    test_mri[i,:,:] = np.float32(test_mri[i,:,:])"
   ]
  },
  {
   "cell_type": "code",
   "execution_count": 44,
   "metadata": {},
   "outputs": [
    {
     "data": {
      "text/plain": [
       "(1, 1, 256, 256)"
      ]
     },
     "execution_count": 44,
     "metadata": {},
     "output_type": "execute_result"
    }
   ],
   "source": [
    "#expand dimension to add the channel\n",
    "test_mri = np.expand_dims(test_mri,axis=1)\n",
    "#verify the shape matches the pytorch standard\n",
    "test_mri.shape"
   ]
  },
  {
   "cell_type": "code",
   "execution_count": 45,
   "metadata": {},
   "outputs": [
    {
     "data": {
      "text/plain": [
       "<matplotlib.image.AxesImage at 0x22d0d5b5c88>"
      ]
     },
     "execution_count": 45,
     "metadata": {},
     "output_type": "execute_result"
    },
    {
     "data": {
      "image/png": "[encoded data removed]",
      "text/plain": [
       "<Figure size 432x288 with 1 Axes>"
      ]
     },
     "metadata": {},
     "output_type": "display_data"
    }
   ],
   "source": [
    "#verify the test mri image\n",
    "#test_mri = test_mri[0,:,:,:]\n",
    "#test_mri = np.expand_dims(test_mri,axis=0)\n",
    "plt.imshow(test_mri[0,0,:,:],'gray')\n",
    "#plt.savefig('MRI.png', bbox_inches = 'tight',pad_inches = 0,dpi=200)"
   ]
  },
  {
   "cell_type": "code",
   "execution_count": 46,
   "metadata": {},
   "outputs": [
    {
     "name": "stdout",
     "output_type": "stream",
     "text": [
      "torch.Size([1, 1, 256, 256])\n"
     ]
    }
   ],
   "source": [
    "#convert the MRI Testing data to pytorch tensor\n",
    "test_mri_tensor = torch.from_numpy(test_mri).float()\n",
    "print(test_mri_tensor.shape)\n",
    "test_mri_tensor.requires_grad =True"
   ]
  },
  {
   "cell_type": "code",
   "execution_count": 47,
   "metadata": {},
   "outputs": [],
   "source": [
    "#load the test input PET dataset\n",
    "filenames = os.listdir('C:/Users/horan/Desktop/Suraka/PET/')\n",
    "dataset = os.path.join(os.getcwd(), 'C:/Users/horan/Desktop/Suraka/PET/')\n",
    "data = glob.glob(os.path.join(dataset, \"*.png\"))\n",
    "data = natsort.natsorted(data,reverse=False)\n",
    "test_pet = np.zeros((len(data), image_width,image_length))\n",
    "for i in range(len(data)):\n",
    "    test_pet[i,:,:] =(imageio.imread(data[i]))\n",
    "    test_pet[i,:,:] =(test_pet[i,:,:] - np.min(test_pet[i,:,:])) / (np.max(test_pet[i,:,:]) - np.min(test_pet[i,:,:]))\n",
    "    test_pet[i,:,:] = np.float32(test_pet[i,:,:])"
   ]
  },
  {
   "cell_type": "code",
   "execution_count": 48,
   "metadata": {},
   "outputs": [
    {
     "data": {
      "text/plain": [
       "(1, 1, 256, 256)"
      ]
     },
     "execution_count": 48,
     "metadata": {},
     "output_type": "execute_result"
    }
   ],
   "source": [
    "#expand dimension to add the channel\n",
    "test_pet = np.expand_dims(test_pet,axis=1)\n",
    "#verify the shape matches the pytorch standard\n",
    "test_pet.shape "
   ]
  },
  {
   "cell_type": "code",
   "execution_count": 49,
   "metadata": {},
   "outputs": [
    {
     "data": {
      "text/plain": [
       "<matplotlib.image.AxesImage at 0x22d125d4dd8>"
      ]
     },
     "execution_count": 49,
     "metadata": {},
     "output_type": "execute_result"
    },
    {
     "data": {
      "image/png": "[encoded data removed]",
      "text/plain": [
       "<Figure size 432x288 with 1 Axes>"
      ]
     },
     "metadata": {},
     "output_type": "display_data"
    }
   ],
   "source": [
    "plt.imshow(test_pet[0,0,:,:],'gray')\n",
    "#plt.savefig('PET.png', bbox_inches = 'tight',pad_inches = 0,dpi=200)"
   ]
  },
  {
   "cell_type": "code",
   "execution_count": 50,
   "metadata": {},
   "outputs": [
    {
     "name": "stdout",
     "output_type": "stream",
     "text": [
      "torch.Size([1, 1, 256, 256])\n"
     ]
    }
   ],
   "source": [
    "#convert the MRI Testing data to pytorch tensor\n",
    "test_pet_tensor = torch.from_numpy(test_pet).float()\n",
    "print(test_pet_tensor.shape)\n",
    "test_pet_tensor.requires_grad =True"
   ]
  },
  {
   "cell_type": "code",
   "execution_count": 51,
   "metadata": {},
   "outputs": [
    {
     "data": {
      "text/plain": [
       "MFNet(\n",
       "  (conv1): Sequential(\n",
       "    (0): Conv2d(1, 64, kernel_size=(3, 3), stride=(1, 1), padding=(1, 1))\n",
       "  )\n",
       "  (feature_d1): Sequential(\n",
       "    (0): Conv2d(64, 64, kernel_size=(3, 3), stride=(1, 1), padding=(1, 1))\n",
       "    (1): LeakyReLU(negative_slope=0.2, inplace)\n",
       "    (2): Conv2d(64, 64, kernel_size=(3, 3), stride=(1, 1), padding=(1, 1))\n",
       "    (3): LeakyReLU(negative_slope=0.2, inplace)\n",
       "    (4): Conv2d(64, 64, kernel_size=(3, 3), stride=(1, 1), padding=(1, 1))\n",
       "    (5): LeakyReLU(negative_slope=0.2, inplace)\n",
       "    (6): Conv2d(64, 64, kernel_size=(3, 3), stride=(1, 1), padding=(1, 1))\n",
       "    (7): LeakyReLU(negative_slope=0.2, inplace)\n",
       "    (8): Conv2d(64, 64, kernel_size=(3, 3), stride=(1, 1), padding=(1, 1))\n",
       "    (9): LeakyReLU(negative_slope=0.2, inplace)\n",
       "  )\n",
       "  (feature_d2): Sequential(\n",
       "    (0): Conv2d(64, 64, kernel_size=(3, 3), stride=(1, 1), padding=(1, 1))\n",
       "    (1): LeakyReLU(negative_slope=0.2, inplace)\n",
       "    (2): Conv2d(64, 64, kernel_size=(3, 3), stride=(1, 1), padding=(1, 1))\n",
       "    (3): LeakyReLU(negative_slope=0.2, inplace)\n",
       "    (4): Conv2d(64, 64, kernel_size=(3, 3), stride=(1, 1), padding=(1, 1))\n",
       "    (5): LeakyReLU(negative_slope=0.2, inplace)\n",
       "    (6): Conv2d(64, 64, kernel_size=(3, 3), stride=(1, 1), padding=(1, 1))\n",
       "    (7): LeakyReLU(negative_slope=0.2, inplace)\n",
       "    (8): Conv2d(64, 64, kernel_size=(3, 3), stride=(1, 1), padding=(1, 1))\n",
       "    (9): LeakyReLU(negative_slope=0.2, inplace)\n",
       "    (10): Conv2d(64, 64, kernel_size=(3, 3), stride=(1, 1), padding=(1, 1))\n",
       "    (11): LeakyReLU(negative_slope=0.2, inplace)\n",
       "  )\n",
       "  (feature_d3): Sequential(\n",
       "    (0): Conv2d(64, 64, kernel_size=(3, 3), stride=(1, 1), padding=(1, 1))\n",
       "    (1): LeakyReLU(negative_slope=0.2, inplace)\n",
       "    (2): Conv2d(64, 64, kernel_size=(3, 3), stride=(1, 1), padding=(1, 1))\n",
       "    (3): LeakyReLU(negative_slope=0.2, inplace)\n",
       "    (4): Conv2d(64, 64, kernel_size=(3, 3), stride=(1, 1), padding=(1, 1))\n",
       "    (5): LeakyReLU(negative_slope=0.2, inplace)\n",
       "    (6): Conv2d(64, 64, kernel_size=(3, 3), stride=(1, 1), padding=(1, 1))\n",
       "    (7): LeakyReLU(negative_slope=0.2, inplace)\n",
       "    (8): Conv2d(64, 64, kernel_size=(3, 3), stride=(1, 1), padding=(1, 1))\n",
       "    (9): LeakyReLU(negative_slope=0.2, inplace)\n",
       "    (10): Conv2d(64, 64, kernel_size=(3, 3), stride=(1, 1), padding=(1, 1))\n",
       "    (11): LeakyReLU(negative_slope=0.2, inplace)\n",
       "    (12): Conv2d(64, 1, kernel_size=(3, 3), stride=(1, 1), padding=(1, 1))\n",
       "    (13): Sigmoid()\n",
       "  )\n",
       "  (conv2): Sequential(\n",
       "    (0): Conv2d(64, 64, kernel_size=(3, 3), stride=(1, 1), padding=(1, 1))\n",
       "  )\n",
       "  (conv3): Sequential(\n",
       "    (0): Conv2d(64, 64, kernel_size=(3, 3), stride=(1, 1), padding=(1, 1))\n",
       "    (1): LeakyReLU(negative_slope=0.2, inplace)\n",
       "  )\n",
       ")"
      ]
     },
     "execution_count": 51,
     "metadata": {},
     "output_type": "execute_result"
    }
   ],
   "source": [
    "#load the model\n",
    "device = torch.device(\"cuda\" if torch.cuda.is_available() else \"cpu\")\n",
    "cnn =torch.load('C:/Users/horan/Desktop/Suraka/.ipynb_checkpoints/MFNet/checkpoint.pth')\n",
    "cnn.eval()"
   ]
  },
  {
   "cell_type": "code",
   "execution_count": 52,
   "metadata": {},
   "outputs": [],
   "source": [
    "#predicted the fused image\n",
    "fused = cnn(test_mri_tensor.to(device), test_pet_tensor.to(device))\n",
    "fused_numpy = fused.data.cpu().numpy()"
   ]
  },
  {
   "cell_type": "code",
   "execution_count": 53,
   "metadata": {},
   "outputs": [
    {
     "data": {
      "text/plain": [
       "torch.Size([1, 1, 256, 256])"
      ]
     },
     "execution_count": 53,
     "metadata": {},
     "output_type": "execute_result"
    }
   ],
   "source": [
    "fused.shape"
   ]
  },
  {
   "cell_type": "code",
   "execution_count": 54,
   "metadata": {},
   "outputs": [
    {
     "data": {
      "text/plain": [
       "array([[[[0., 0., 0., ..., 0., 0., 0.],\n",
       "         [0., 0., 0., ..., 0., 0., 0.],\n",
       "         [0., 0., 0., ..., 0., 0., 0.],\n",
       "         ...,\n",
       "         [0., 0., 0., ..., 0., 0., 0.],\n",
       "         [0., 0., 0., ..., 0., 0., 0.],\n",
       "         [0., 0., 0., ..., 0., 0., 0.]]]], dtype=float32)"
      ]
     },
     "execution_count": 54,
     "metadata": {},
     "output_type": "execute_result"
    }
   ],
   "source": [
    "fused_numpy"
   ]
  },
  {
   "cell_type": "code",
   "execution_count": 56,
   "metadata": {},
   "outputs": [
    {
     "data": {
      "text/plain": [
       "<matplotlib.image.AxesImage at 0x22d30ab1d68>"
      ]
     },
     "execution_count": 56,
     "metadata": {},
     "output_type": "execute_result"
    },
    {
     "data": {
      "image/png": "[encoded data removed]",
      "text/plain": [
       "<Figure size 432x288 with 1 Axes>"
      ]
     },
     "metadata": {},
     "output_type": "display_data"
    }
   ],
   "source": [
    "#verify the output image\n",
    "plt.imshow(fused_numpy[0,0,:,:],'gray')\n",
    "#plt.savefig('Fused.png', bbox_inches = 'tight',pad_inches = 0,dpi=200)"
   ]
  },
  {
   "cell_type": "code",
   "execution_count": null,
   "metadata": {},
   "outputs": [],
   "source": [
    "#imageio.imwrite('C:/Users/horan/Desktop/Suraka/Fused/Fused.png',np.uint8(cv2.normalize(fused_numpy[0,0,:,:], None, alpha=0, beta=255, norm_type=cv2.NORM_MINMAX, dtype=cv2.CV_32F)))"
   ]
  },
  {
   "cell_type": "code",
   "execution_count": null,
   "metadata": {},
   "outputs": [],
   "source": [
    "#calculate the guidance image for MRI and PET wrt to the fused image\n",
    "time1 = time.time()\n",
    "count = 0 \n",
    "guide_fuse_mri = np.zeros((256,256),dtype=float)\n",
    "guide_fuse_pet = np.zeros((256,256),dtype=float)\n",
    "\n",
    "for y_coord in range(0,256):\n",
    "    for x_coord in range(0,256):\n",
    "        jacob_fuse_mri = torch.autograd.grad(fused[0,0,y_coord,x_coord], test_mri_tensor, retain_graph=True, create_graph=True)[0]\n",
    "        jacob_numpy_mri = np.squeeze(jacob_fuse_mri.data.cpu().numpy())  \n",
    "        guide_fuse_mri[y_coord,x_coord] = jacob_numpy_mri[y_coord,x_coord]\n",
    "        jacob_fuse_pet = torch.autograd.grad(fused[0,0,y_coord,x_coord], test_pet_tensor, retain_graph=True, create_graph=True)[0]\n",
    "        jacob_numpy_pet = np.squeeze(jacob_fuse_pet.data.cpu().numpy())  \n",
    "        guide_fuse_pet[y_coord,x_coord] = jacob_numpy_pet[y_coord,x_coord]\n",
    "        count += 1\n",
    "        if count % 100 == 0:\n",
    "            print('Count is %d' %count)\n",
    "time2 = time.time()\n",
    "print('Time taken to compute is %d seconds' %(time2-time1))"
   ]
  },
  {
   "cell_type": "code",
   "execution_count": null,
   "metadata": {},
   "outputs": [],
   "source": [
    "plt.imshow(guide_fuse_mri,cmap='viridis')\n",
    "plt.colorbar()\n",
    "#plt.savefig('Jacob_Fused_MRI.png', bbox_inches = 'tight',pad_inches = 0,dpi=200)"
   ]
  },
  {
   "cell_type": "code",
   "execution_count": null,
   "metadata": {},
   "outputs": [],
   "source": [
    "#guide_fuse_mri.shape"
   ]
  },
  {
   "cell_type": "code",
   "execution_count": null,
   "metadata": {},
   "outputs": [],
   "source": [
    "#plt.imshow(guide_fuse_pet,cmap='viridis')\n",
    "#plt.colorbar()\n",
    "#plt.savefig('Jacob_Fused_PET.png', bbox_inches = 'tight',pad_inches = 0,dpi=200)"
   ]
  },
  {
   "cell_type": "code",
   "execution_count": null,
   "metadata": {},
   "outputs": [],
   "source": [
    "#guide_fuse_pet.shape"
   ]
  },
  {
   "cell_type": "code",
   "execution_count": null,
   "metadata": {},
   "outputs": [],
   "source": [
    "#plt.imshow(fused_RGB)\n",
    "#plt.savefig('Fused_RGB.png', bbox_inches = 'tight',pad_inches = 0,dpi=200)"
   ]
  },
  {
   "cell_type": "code",
   "execution_count": null,
   "metadata": {},
   "outputs": [],
   "source": [
    "#plt.imshow(mri_RGB)\n",
    "#plt.savefig('MRI_RGB.png', bbox_inches = 'tight',pad_inches = 0,dpi=200)"
   ]
  },
  {
   "cell_type": "code",
   "execution_count": null,
   "metadata": {},
   "outputs": [],
   "source": [
    "#plt.imshow(pet_RGB)\n",
    "#plt.savefig('PET_RGB.png', bbox_inches = 'tight',pad_inches = 0,dpi=200)"
   ]
  },
  {
   "cell_type": "code",
   "execution_count": null,
   "metadata": {},
   "outputs": [],
   "source": [
    "#h5f = h5py.File('C:/Users/horan/Desktop/Suraka/Jacobian_MRI.h5', 'w')\n",
    "#h5f.create_dataset('MRI_dataset', data=guide_fuse_mri)\n",
    "#h5f.close()"
   ]
  },
  {
   "cell_type": "code",
   "execution_count": null,
   "metadata": {},
   "outputs": [],
   "source": [
    "#h5f = h5py.File('C:/Users/horan/Desktop/Suraka/Jacobian_PET.h5', 'w')\n",
    "#h5f.create_dataset('PET_dataset', data=guide_fuse_pet)\n",
    "#h5f.close()"
   ]
  },
  {
   "cell_type": "code",
   "execution_count": null,
   "metadata": {},
   "outputs": [],
   "source": [
    "hf = h5py.File('C:/Users/horan/Desktop/Suraka/Guidance images/FunFuseAn/H5 Files/Jacobian_MRI.h5', 'r')\n",
    "guide_fuse_mri =  np.array(hf.get('MRI_dataset'))\n",
    "hf.close()"
   ]
  },
  {
   "cell_type": "code",
   "execution_count": null,
   "metadata": {},
   "outputs": [],
   "source": [
    "plt.imshow(guide_fuse_mri,cmap='viridis')\n",
    "plt.colorbar()"
   ]
  },
  {
   "cell_type": "code",
   "execution_count": null,
   "metadata": {},
   "outputs": [],
   "source": [
    "hf = h5py.File('C:/Users/horan/Desktop/Suraka/Guidance images/FunFuseAn/H5 Files/Jacobian_PET.h5', 'r')\n",
    "guide_fuse_pet =  np.array(hf.get('PET_dataset'))\n",
    "hf.close()"
   ]
  },
  {
   "cell_type": "code",
   "execution_count": null,
   "metadata": {},
   "outputs": [],
   "source": [
    "plt.imshow(guide_fuse_pet,cmap='viridis')\n",
    "plt.colorbar()"
   ]
  },
  {
   "cell_type": "code",
   "execution_count": null,
   "metadata": {},
   "outputs": [],
   "source": [
    "#define overlay images\n",
    "fused_RGB = np.zeros((256,256,3),dtype=float)\n",
    "mri_RGB   = np.zeros((256,256,3),dtype=float)\n",
    "pet_RGB   = np.zeros((256,256,3),dtype=float)"
   ]
  },
  {
   "cell_type": "code",
   "execution_count": null,
   "metadata": {},
   "outputs": [],
   "source": [
    "fused_RGB[:,:,0]  = guide_fuse_mri \n",
    "fused_RGB[:,:,1]  = guide_fuse_pet \n",
    "fused_RGB[:,:,2]  = fused_numpy[0,0,:,:]"
   ]
  },
  {
   "cell_type": "code",
   "execution_count": null,
   "metadata": {},
   "outputs": [],
   "source": [
    "plt.imshow(fused_RGB)"
   ]
  },
  {
   "cell_type": "code",
   "execution_count": null,
   "metadata": {},
   "outputs": [],
   "source": [
    "mri_RGB[:,:,0]  = guide_fuse_mri\n",
    "mri_RGB[:,:,1]  = guide_fuse_pet \n",
    "mri_RGB[:,:,2]  = test_mri[0,0,:,:]"
   ]
  },
  {
   "cell_type": "code",
   "execution_count": null,
   "metadata": {},
   "outputs": [],
   "source": [
    "plt.imshow(mri_RGB)"
   ]
  },
  {
   "cell_type": "code",
   "execution_count": null,
   "metadata": {},
   "outputs": [],
   "source": [
    "pet_RGB[:,:,0]  = guide_fuse_mri\n",
    "pet_RGB[:,:,1]  = guide_fuse_pet \n",
    "pet_RGB[:,:,2]  = test_pet[0,0,:,:]"
   ]
  },
  {
   "cell_type": "code",
   "execution_count": null,
   "metadata": {},
   "outputs": [],
   "source": [
    "plt.imshow(pet_RGB)"
   ]
  },
  {
   "cell_type": "code",
   "execution_count": null,
   "metadata": {},
   "outputs": [],
   "source": [
    "#define the window\n",
    "root = Tk()  \n",
    "root.title('Visualisation of fusion networks')\n",
    "root.configure(background='white')\n",
    "\n",
    "\n",
    "#Label the images\n",
    "#fontStyle = tkFont.Font(family=\"Lucida Grande\", size=15)\n",
    "#w1 = tk.Label(root, bg='white', font=fontStyle, text=\"Fused Image\")\n",
    "#w1.grid(row=0, column=1)\n",
    "#w1.pack()\n",
    "\n",
    "#define the frame\n",
    "canvasframe = Frame(root)  # define Input and output frame\n",
    "buttonframe = Frame(root)  # define button frame\n",
    "canvasframe.pack()  # pack the Input and Output frame\n",
    "buttonframe.pack()  # pack the button frame\n",
    "\n",
    "\n",
    "#define the canvas\n",
    "canvas = Canvas(canvasframe, width=1800, height=920, bg = 'white')\n",
    "canvas.grid(row=0, column=0)\n",
    "\n",
    "#Insert fused image to the canvas\n",
    "img_fused = ImageTk.PhotoImage(file =\"C:/Users/horan/Desktop/Suraka/Fused/Fused.png\") # load the image\n",
    "canvas.create_image(0, 0, image=img_fused, anchor=NW)\n",
    "\n",
    "#Insert MRI image to the canvas\n",
    "img_mri = ImageTk.PhotoImage(file =\"C:/Users/horan/Desktop/Suraka/MRI/MRI.gif\") # load the image\n",
    "canvas.create_image(620, 0, image=img_mri, anchor=NW)\n",
    "\n",
    "#Insert PET image to the canvas\n",
    "img_pet = ImageTk.PhotoImage(file =\"C:/Users/horan/Desktop/Suraka/PET/3.png\") # load the image\n",
    "canvas.create_image(1240, 0, image=img_pet, anchor=NW)\n",
    "\n",
    "def start_mouseover():  # function called when user clicks the button \n",
    "    # link the function to the left-mouse-click event\n",
    "    canvas.bind(\"<B1-Motion>\", Coordinates)\n",
    "\n",
    "def Coordinates(event): # function called when left-mouse-button is clicked with a mouseover\n",
    "    x_coord = event.x  # save x and y coordinates selected by the user   \n",
    "    y_coord = event.y\n",
    "    print('mouse position is at' + '(' + str(y_coord) + ',' + str(x_coord) + ')', end='\\r')\n",
    "    #display the output MRI Jacobian image\n",
    "    #img_MR_out = ImageTk.PhotoImage(file ='C:/Users/cgvadmin/Desktop/Suraka/Fused_MRI/im_' + str(y_coord) + '_' + str(x_coord) + '.png') # load the image\n",
    "    jacobian_fuse_mri = torch.autograd.grad(fused[0,0,y_coord,x_coord], test_mri_tensor, retain_graph=True, create_graph=True)[0]\n",
    "    jacobian_fuse_pet = torch.autograd.grad(fused[0,0,y_coord,x_coord], test_pet_tensor, retain_graph=True, create_graph=True)[0]\n",
    "    \n",
    "    jacob_val_mri = np.squeeze(jacobian_fuse_mri.data.cpu().numpy())    \n",
    "    jacob_val_pet = np.squeeze(jacobian_fuse_pet.data.cpu().numpy())\n",
    "    \n",
    "    x_mri = np.asarray(np.where(np.any(jacob_val_mri, axis = 0)))\n",
    "    y_mri = np.asarray(np.where(np.any(jacob_val_mri, axis = 1)))\n",
    "    minx_mri, maxx_mri, miny_mri, maxy_mri = np.min(x_mri), np.max(x_mri), np.min(y_mri), np.max(y_mri)  #return min and max coordinates\n",
    "    zoom_im_mri = jacob_val_mri[miny_mri:maxy_mri,minx_mri:maxx_mri] \n",
    "    \n",
    "    x_pet = np.asarray(np.where(np.any(jacob_val_pet, axis = 0)))\n",
    "    y_pet = np.asarray(np.where(np.any(jacob_val_pet, axis = 1)))\n",
    "    minx_pet, maxx_pet, miny_pet, maxy_pet = np.min(x_pet), np.max(x_pet), np.min(y_pet), np.max(y_pet)  #return min and max coordinates\n",
    "    zoom_im_pet = jacob_val_pet[miny_pet:maxy_pet,minx_pet:maxx_pet] \n",
    "    \n",
    "    plt.imshow(fused_numpy[0,0,miny_mri:maxy_mri,minx_mri:maxx_mri], cmap = 'gray', aspect ='equal')\n",
    "    plt.title('Zoom Fused')\n",
    "    plt.savefig('foo11.png', bbox_inches = 'tight',pad_inches = 0)\n",
    "    plt.close()\n",
    "    im_out11 = ImageTk.PhotoImage(file ='foo11.png')\n",
    "    canvas.create_image(320,0,image=im_out11,anchor=NW)\n",
    "    canvas.image11 = im_out11\n",
    "    plt.tight_layout()\n",
    "    \n",
    "    plt.imshow(test_mri[0,0,miny_mri:maxy_mri,minx_mri:maxx_mri], cmap = 'gray', aspect ='equal')\n",
    "    plt.title('Zoom MRI')\n",
    "    plt.savefig('foo12.png', bbox_inches = 'tight',pad_inches = 0)\n",
    "    plt.close()\n",
    "    im_out12 = ImageTk.PhotoImage(file ='foo12.png')\n",
    "    canvas.create_image(950,0,image=im_out12,anchor=NW)\n",
    "    canvas.image12 = im_out12\n",
    "    plt.tight_layout()\n",
    "    \n",
    "    plt.imshow(test_pet[0,0,miny_mri:maxy_mri,minx_mri:maxx_mri], cmap = 'gray', aspect ='equal')\n",
    "    plt.title('Zoom PET')\n",
    "    plt.savefig('foo13.png', bbox_inches = 'tight',pad_inches = 0)\n",
    "    plt.close()\n",
    "    im_out13 = ImageTk.PhotoImage(file ='foo13.png')\n",
    "    canvas.create_image(1500,0,image=im_out13,anchor=NW)\n",
    "    canvas.image13 = im_out13\n",
    "    plt.tight_layout()\n",
    "    \n",
    "    plt.imshow(jacob_val_mri,cmap='viridis', aspect ='equal')\n",
    "    plt.title('Fused wrt MRI')\n",
    "    plt.savefig('foo1.png', bbox_inches = 'tight',pad_inches = 0)\n",
    "    plt.close()\n",
    "    im_out1 = ImageTk.PhotoImage(file ='foo1.png')\n",
    "    canvas.create_image(0,320,image=im_out1,anchor=NW)\n",
    "    canvas.image1 = im_out1\n",
    "    #plt.tight_layout()\n",
    "    \n",
    "    #f.add_subplot(1,5,2)\n",
    "    plt.imshow(zoom_im_mri,cmap='viridis',aspect ='equal')\n",
    "    plt.title('Zoomed (Fused wrt MRI)')\n",
    "    plt.colorbar()\n",
    "    plt.savefig('foo2.png', bbox_inches = 'tight',pad_inches = 0)\n",
    "    plt.close()\n",
    "    im_out2 = ImageTk.PhotoImage(file ='foo2.png')\n",
    "    canvas.create_image(280,320,image=im_out2,anchor=NW)\n",
    "    canvas.image2 = im_out2\n",
    "    #plt.tight_layout()\n",
    "    #divider = make_axes_locatable(plt)\n",
    "    #cax = divider.append_axes(\"right\", size=\"5%\", pad=0.05)\n",
    "    #plt.colorbar(cax=cax)\n",
    "    \n",
    "    #f.add_subplot(1,5,3)\n",
    "    plt.xlim(0,0.7)\n",
    "    plt.ylim(0,0.7)\n",
    "    plt.plot(jacob_val_mri[y_coord,x_coord],jacob_val_pet[y_coord,x_coord],'-ro')\n",
    "    plt.xlabel('MRI pixel score (Fused wrt MRI)')\n",
    "    plt.ylabel('PET pixel score (Fused wrt PET)')\n",
    "    plt.title('Mouse position at: (' + str(y_coord) + ',' + str(x_coord) + ')')\n",
    "    plt.gca().set_aspect('equal', adjustable='box')\n",
    "    plt.draw()\n",
    "    plt.savefig('foo3.png', bbox_inches = 'tight',pad_inches = 0.1)\n",
    "    plt.close()\n",
    "    im_out3 = ImageTk.PhotoImage(file ='foo3.png')\n",
    "    canvas.create_image(600,320,image=im_out3,anchor=NW)\n",
    "    canvas.image3 = im_out3\n",
    "    \n",
    "    #f.add_subplot(1,5,4)\n",
    "    plt.imshow(jacob_val_pet,cmap='viridis',aspect ='equal')\n",
    "    plt.title('Fused wrt PET')\n",
    "    plt.savefig('foo4.png', bbox_inches = 'tight',pad_inches = 0)\n",
    "    plt.close()\n",
    "    im_out4 = ImageTk.PhotoImage(file ='foo4.png')\n",
    "    canvas.create_image(900,320,image=im_out4,anchor=NW)\n",
    "    canvas.image4 = im_out4\n",
    "    #plt.tight_layout()\n",
    "    \n",
    "    #f.add_subplot(1,5,5)\n",
    "    plt.imshow(zoom_im_pet,cmap='viridis',aspect ='equal')\n",
    "    plt.title('Zoomed (Fused wrt PET)')\n",
    "    plt.colorbar()\n",
    "    plt.savefig('foo5.png', bbox_inches = 'tight',pad_inches = 0)\n",
    "    plt.close()\n",
    "    im_out5 = ImageTk.PhotoImage(file ='foo5.png')\n",
    "    canvas.create_image(1180,320,image=im_out5,anchor=NW)\n",
    "    canvas.image5 = im_out5\n",
    "\n",
    "    plt.imshow(guide_fuse_mri,cmap='viridis')\n",
    "    plt.title('Fused wrt MRI')\n",
    "    plt.colorbar()\n",
    "    plt.savefig('foo6.png', bbox_inches = 'tight',pad_inches = 0)\n",
    "    plt.close()\n",
    "    im_out6 = ImageTk.PhotoImage(file ='foo6.png')\n",
    "    canvas.create_image(0,650,image=im_out6,anchor=NW)\n",
    "    canvas.image6 = im_out6\n",
    "    \n",
    "    plt.imshow(fused_RGB)\n",
    "    plt.savefig('foo8.png', bbox_inches = 'tight',pad_inches = 0)\n",
    "    plt.close()\n",
    "    im_out8 = ImageTk.PhotoImage(file ='foo8.png')\n",
    "    canvas.create_image(300,650,image=im_out8,anchor=NW)\n",
    "    canvas.image8 = im_out8\n",
    "    \n",
    "    plt.imshow(mri_RGB)\n",
    "    plt.savefig('foo9.png', bbox_inches = 'tight',pad_inches = 0)\n",
    "    plt.close()\n",
    "    im_out9 = ImageTk.PhotoImage(file ='foo9.png')\n",
    "    canvas.create_image(600,650,image=im_out9,anchor=NW)\n",
    "    canvas.image9 = im_out9\n",
    "    \n",
    "    plt.imshow(pet_RGB)\n",
    "    plt.savefig('foo10.png', bbox_inches = 'tight',pad_inches = 0)\n",
    "    plt.close()\n",
    "    im_out10 = ImageTk.PhotoImage(file ='foo10.png')\n",
    "    canvas.create_image(900,650,image=im_out10,anchor=NW)\n",
    "    canvas.image10 = im_out10\n",
    "    \n",
    "    plt.imshow(guide_fuse_pet,cmap='viridis')\n",
    "    plt.colorbar()\n",
    "    plt.savefig('foo7.png', bbox_inches = 'tight',pad_inches = 0)\n",
    "    plt.close()\n",
    "    im_out7 = ImageTk.PhotoImage(file ='foo7.png')\n",
    "    canvas.create_image(1200,650,image=im_out7,anchor=NW)\n",
    "    canvas.image7 = im_out7\n",
    "    \n",
    "    radius = 5\n",
    "    i = canvas.create_oval(x_coord-radius, y_coord-radius, x_coord+radius, y_coord+radius, fill = 'red')\n",
    "    canvas.after(20,canvas.delete,i)\n",
    "\n",
    "# insert button to the middleframe and link it to \"Start Mouseover\"\n",
    "button_start_mouseover = Button(buttonframe, text=\"Start Mouseover\",command=start_mouseover)\n",
    "button_start_mouseover.grid(row=1, column=0, pady=0)\n",
    "\n",
    "\n",
    "root.mainloop()  #keep the GUI open"
   ]
  },
  {
   "cell_type": "code",
   "execution_count": null,
   "metadata": {},
   "outputs": [],
   "source": []
  }
 ],
 "metadata": {
  "kernelspec": {
   "display_name": "Python 3",
   "language": "python",
   "name": "python3"
  },
  "language_info": {
   "codemirror_mode": {
    "name": "ipython",
    "version": 3
   },
   "file_extension": ".py",
   "mimetype": "text/x-python",
   "name": "python",
   "nbconvert_exporter": "python",
   "pygments_lexer": "ipython3",
   "version": "3.6.5"
  }
 },
 "nbformat": 4,
 "nbformat_minor": 4
}
