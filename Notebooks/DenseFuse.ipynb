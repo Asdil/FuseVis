{
 "cells": [
  {
   "cell_type": "markdown",
   "metadata": {},
   "source": [
    "This is the pytorch implementation of the deep learning model proposed in the paper 'DenseFuse: A Fusion Approach to Infrared and Visible Images'"
   ]
  },
  {
   "cell_type": "code",
   "execution_count": 1,
   "metadata": {},
   "outputs": [
    {
     "name": "stderr",
     "output_type": "stream",
     "text": [
      "C:\\Program Files (x86)\\Microsoft Visual Studio\\Shared\\Anaconda3_64\\lib\\site-packages\\h5py\\__init__.py:36: FutureWarning: Conversion of the second argument of issubdtype from `float` to `np.floating` is deprecated. In future, it will be treated as `np.float64 == np.dtype(float).type`.\n",
      "  from ._conv import register_converters as _register_converters\n"
     ]
    }
   ],
   "source": [
    "#Import packages\n",
    "import time\n",
    "import torch.nn as nn\n",
    "import torch\n",
    "import torch.nn.functional as F\n",
    "from torch.utils.data import Dataset, DataLoader\n",
    "import torchvision.datasets as datasets\n",
    "import numpy as np\n",
    "from torchvision import transforms\n",
    "from torch.autograd import Variable\n",
    "from PIL import Image\n",
    "import torchvision.transforms.functional as TF\n",
    "from torchvision.models.vgg import vgg19\n",
    "import torch.nn as nn\n",
    "import torch.nn.functional as F\n",
    "import torch\n",
    "from skimage import img_as_ubyte\n",
    "import torch.nn as nn\n",
    "import torch.utils.data as Data\n",
    "import torchvision      # dataset\n",
    "import matplotlib.pyplot as plt\n",
    "import scipy\n",
    "import numpy as np\n",
    "import argparse\n",
    "import glob\n",
    "import imageio\n",
    "from skimage import color\n",
    "import numpy\n",
    "import natsort\n",
    "import scipy\n",
    "from pytorch_msssim import ssim, ms_ssim, SSIM, MS_SSIM\n",
    "import pprint\n",
    "from scipy.ndimage import correlate\n",
    "from scipy.ndimage.filters import gaussian_gradient_magnitude\n",
    "import torchvision.datasets as dset\n",
    "import torch.utils.data as data\n",
    "import os\n",
    "import os.path\n",
    "from tkinter import *\n",
    "import tkinter as tk\n",
    "import tkinter.font as tkFont\n",
    "from PIL import ImageTk, Image\n",
    "import pylab\n",
    "import cv2\n",
    "import h5py\n",
    "from mpl_toolkits.axes_grid1 import make_axes_locatable"
   ]
  },
  {
   "cell_type": "code",
   "execution_count": 2,
   "metadata": {},
   "outputs": [
    {
     "name": "stdout",
     "output_type": "stream",
     "text": [
      "11811160064\n"
     ]
    }
   ],
   "source": [
    "device = 'cuda' if torch.cuda.is_available() else 'cpu'\n",
    "print(torch.cuda.get_device_properties(0).total_memory)"
   ]
  },
  {
   "cell_type": "code",
   "execution_count": 3,
   "metadata": {},
   "outputs": [
    {
     "data": {
      "text/plain": [
       "12"
      ]
     },
     "execution_count": 3,
     "metadata": {},
     "output_type": "execute_result"
    }
   ],
   "source": [
    "import multiprocessing\n",
    "\n",
    "multiprocessing.cpu_count()"
   ]
  },
  {
   "cell_type": "code",
   "execution_count": 4,
   "metadata": {},
   "outputs": [],
   "source": [
    "#define the hyperparameters\n",
    "image_length = 256\n",
    "image_width  = 256\n",
    "mr_channels  = 1\n",
    "gray_channels = 1\n",
    "pet_channels = 4    \n",
    "rgb_channels = 3     \n",
    "batch_size   = 1\n",
    "EPOCH = 50\n",
    "learning_rate = 0.002 "
   ]
  },
  {
   "cell_type": "code",
   "execution_count": 5,
   "metadata": {},
   "outputs": [],
   "source": [
    "#load the train mri data\n",
    "filenames = os.listdir('C:/Users/horan/Desktop/Suraka/Training/MRI')\n",
    "dataset = os.path.join(os.getcwd(), 'C:/Users/horan/Desktop/Suraka/Training/MRI')\n",
    "data = glob.glob(os.path.join(dataset, \"*.gif\"))\n",
    "data = natsort.natsorted(data,reverse=False)\n",
    "train_mri = np.zeros((len(data), image_width,image_length))\n",
    "for i in range(len(data)):\n",
    "    train_mri[i,:,:] =(imageio.imread(data[i]))\n",
    "    train_mri[i,:,:] =(train_mri[i,:,:] - np.min(train_mri[i,:,:])) / (np.max(train_mri[i,:,:]) - np.min(train_mri[i,:,:]))\n",
    "    train_mri[i,:,:] = np.float32(train_mri[i,:,:])"
   ]
  },
  {
   "cell_type": "code",
   "execution_count": 6,
   "metadata": {},
   "outputs": [],
   "source": [
    "#expand dimension to add the channel\n",
    "train_mri = np.expand_dims(train_mri,axis=1)"
   ]
  },
  {
   "cell_type": "code",
   "execution_count": 7,
   "metadata": {},
   "outputs": [
    {
     "data": {
      "text/plain": [
       "(272, 1, 256, 256)"
      ]
     },
     "execution_count": 7,
     "metadata": {},
     "output_type": "execute_result"
    }
   ],
   "source": [
    "#verify the shape matches the pytorch standard\n",
    "train_mri.shape"
   ]
  },
  {
   "cell_type": "code",
   "execution_count": 8,
   "metadata": {},
   "outputs": [
    {
     "data": {
      "text/plain": [
       "torch.Size([272, 1, 256, 256])"
      ]
     },
     "execution_count": 8,
     "metadata": {},
     "output_type": "execute_result"
    }
   ],
   "source": [
    "#convert the MRI training data to pytorch tensor\n",
    "train_mri_tensor = torch.from_numpy(train_mri).float()\n",
    "train_mri_tensor.shape"
   ]
  },
  {
   "cell_type": "code",
   "execution_count": 9,
   "metadata": {},
   "outputs": [],
   "source": [
    "#load the train pet data\n",
    "filenames = os.listdir('C:/Users/horan/Desktop/Suraka/Training/PET')\n",
    "dataset = os.path.join(os.getcwd(), 'C:/Users/horan/Desktop/Suraka/Training/PET')\n",
    "data = glob.glob(os.path.join(dataset, \"*.gif\"))\n",
    "data = natsort.natsorted(data,reverse=False)\n",
    "train_other = np.zeros((len(data),image_width,image_length,pet_channels),dtype=float)\n",
    "train_pet = np.zeros((len(data),image_width,image_length),dtype=float)\n",
    "for i in range(len(data)):\n",
    "    train_other[i,:,:,:] =(imageio.imread(data[i]))\n",
    "    train_pet[i,:,:] = 0.2989 * train_other[i,:,:,0] + 0.5870 *  train_other[i,:,:,1]  + 0.1140 * train_other[i,:,:,2]\n",
    "    train_pet[i,:,:] =(train_pet[i,:,:] - np.min(train_pet[i,:,:])) / (np.max(train_pet[i,:,:]) - np.min(train_pet[i,:,:]))"
   ]
  },
  {
   "cell_type": "code",
   "execution_count": 10,
   "metadata": {},
   "outputs": [],
   "source": [
    "#expand the dimension to add the channel\n",
    "train_pet = np.expand_dims(train_pet,axis=1)"
   ]
  },
  {
   "cell_type": "code",
   "execution_count": 11,
   "metadata": {},
   "outputs": [
    {
     "data": {
      "text/plain": [
       "(272, 1, 256, 256)"
      ]
     },
     "execution_count": 11,
     "metadata": {},
     "output_type": "execute_result"
    }
   ],
   "source": [
    "#verify the shape matches the pytorch standard\n",
    "train_pet.shape"
   ]
  },
  {
   "cell_type": "code",
   "execution_count": 12,
   "metadata": {},
   "outputs": [
    {
     "data": {
      "text/plain": [
       "torch.Size([272, 1, 256, 256])"
      ]
     },
     "execution_count": 12,
     "metadata": {},
     "output_type": "execute_result"
    }
   ],
   "source": [
    "#convert the PET training data to pytorch tensor\n",
    "train_pet_tensor = torch.from_numpy(train_pet).float()\n",
    "train_pet_tensor.shape"
   ]
  },
  {
   "cell_type": "code",
   "execution_count": 35,
   "metadata": {},
   "outputs": [
    {
     "name": "stdout",
     "output_type": "stream",
     "text": [
      "DenseFuse_net(\n",
      "  (conv1): ConvLayer(\n",
      "    (reflection_pad): ReflectionPad2d((1, 1, 1, 1))\n",
      "    (conv2d): Conv2d(1, 16, kernel_size=(3, 3), stride=(1, 1))\n",
      "    (dropout): Dropout2d(p=0.5)\n",
      "  )\n",
      "  (DB1): DenseBlock(\n",
      "    (denseblock): Sequential(\n",
      "      (0): DenseConv2d(\n",
      "        (dense_conv): ConvLayer(\n",
      "          (reflection_pad): ReflectionPad2d((1, 1, 1, 1))\n",
      "          (conv2d): Conv2d(16, 16, kernel_size=(3, 3), stride=(1, 1))\n",
      "          (dropout): Dropout2d(p=0.5)\n",
      "        )\n",
      "      )\n",
      "      (1): DenseConv2d(\n",
      "        (dense_conv): ConvLayer(\n",
      "          (reflection_pad): ReflectionPad2d((1, 1, 1, 1))\n",
      "          (conv2d): Conv2d(32, 16, kernel_size=(3, 3), stride=(1, 1))\n",
      "          (dropout): Dropout2d(p=0.5)\n",
      "        )\n",
      "      )\n",
      "      (2): DenseConv2d(\n",
      "        (dense_conv): ConvLayer(\n",
      "          (reflection_pad): ReflectionPad2d((1, 1, 1, 1))\n",
      "          (conv2d): Conv2d(48, 16, kernel_size=(3, 3), stride=(1, 1))\n",
      "          (dropout): Dropout2d(p=0.5)\n",
      "        )\n",
      "      )\n",
      "    )\n",
      "  )\n",
      "  (conv2): ConvLayer(\n",
      "    (reflection_pad): ReflectionPad2d((1, 1, 1, 1))\n",
      "    (conv2d): Conv2d(64, 64, kernel_size=(3, 3), stride=(1, 1))\n",
      "    (dropout): Dropout2d(p=0.5)\n",
      "  )\n",
      "  (conv3): ConvLayer(\n",
      "    (reflection_pad): ReflectionPad2d((1, 1, 1, 1))\n",
      "    (conv2d): Conv2d(64, 32, kernel_size=(3, 3), stride=(1, 1))\n",
      "    (dropout): Dropout2d(p=0.5)\n",
      "  )\n",
      "  (conv4): ConvLayer(\n",
      "    (reflection_pad): ReflectionPad2d((1, 1, 1, 1))\n",
      "    (conv2d): Conv2d(32, 16, kernel_size=(3, 3), stride=(1, 1))\n",
      "    (dropout): Dropout2d(p=0.5)\n",
      "  )\n",
      "  (conv5): ConvLayer(\n",
      "    (reflection_pad): ReflectionPad2d((1, 1, 1, 1))\n",
      "    (conv2d): Conv2d(16, 1, kernel_size=(3, 3), stride=(1, 1))\n",
      "    (dropout): Dropout2d(p=0.5)\n",
      "  )\n",
      ")\n"
     ]
    }
   ],
   "source": [
    "#define the fusion network\n",
    "class ConvLayer(torch.nn.Module):\n",
    "    def __init__(self, in_channels, out_channels, kernel_size, stride, is_last=False):\n",
    "        super(ConvLayer, self).__init__()\n",
    "        reflection_padding = int(np.floor(kernel_size / 2))\n",
    "        self.reflection_pad = nn.ReflectionPad2d(reflection_padding)\n",
    "        self.conv2d = nn.Conv2d(in_channels, out_channels, kernel_size, stride)\n",
    "        self.dropout = nn.Dropout2d(p=0.5)\n",
    "        self.is_last = is_last\n",
    "\n",
    "    def forward(self, x):\n",
    "        out = self.reflection_pad(x)\n",
    "        out = self.conv2d(out)\n",
    "        if self.is_last is False:\n",
    "            out = F.relu(out, inplace=True)\n",
    "        return out\n",
    "\n",
    "# Dense convolution unit\n",
    "class DenseConv2d(torch.nn.Module):\n",
    "    def __init__(self, in_channels, out_channels, kernel_size, stride):\n",
    "        super(DenseConv2d, self).__init__()\n",
    "        self.dense_conv = ConvLayer(in_channels, out_channels, kernel_size, stride)\n",
    "\n",
    "    def forward(self, x):\n",
    "        out = self.dense_conv(x)\n",
    "        out = torch.cat([x, out], 1)\n",
    "        return out\n",
    "\n",
    "# Dense Block unit\n",
    "class DenseBlock(torch.nn.Module):\n",
    "    def __init__(self, in_channels, kernel_size, stride):\n",
    "        super(DenseBlock, self).__init__()\n",
    "        out_channels_def = 16\n",
    "        denseblock = []\n",
    "        denseblock += [DenseConv2d(in_channels, out_channels_def, kernel_size, stride),\n",
    "                       DenseConv2d(in_channels+out_channels_def, out_channels_def, kernel_size, stride),\n",
    "                       DenseConv2d(in_channels+out_channels_def*2, out_channels_def, kernel_size, stride)]\n",
    "        self.denseblock = nn.Sequential(*denseblock)\n",
    "\n",
    "    def forward(self, x):\n",
    "        out = self.denseblock(x)\n",
    "        return out\n",
    "\n",
    "# DenseFuse network\n",
    "class DenseFuse_net(nn.Module):\n",
    "    def __init__(self, input_nc=1, output_nc=1):\n",
    "        super(DenseFuse_net, self).__init__()\n",
    "        denseblock = DenseBlock\n",
    "        nb_filter = [16, 64, 32, 16]\n",
    "        kernel_size = 3\n",
    "        stride = 1\n",
    "        # encoder\n",
    "        self.conv1 = ConvLayer(input_nc, nb_filter[0], kernel_size, stride)\n",
    "        self.DB1 = denseblock(nb_filter[0], kernel_size, stride)\n",
    "        # decoder\n",
    "        self.conv2 = ConvLayer(nb_filter[1], nb_filter[1], kernel_size, stride)\n",
    "        self.conv3 = ConvLayer(nb_filter[1], nb_filter[2], kernel_size, stride)\n",
    "        self.conv4 = ConvLayer(nb_filter[2], nb_filter[3], kernel_size, stride)\n",
    "        self.conv5 = ConvLayer(nb_filter[3], output_nc, kernel_size, stride)\n",
    "\n",
    "    def encoder(self, input):\n",
    "        x1 = self.conv1(input)\n",
    "        x_DB = self.DB1(x1)\n",
    "        return x_DB\n",
    "    \n",
    "    def fusion(self, en1, en2, strategy_type='addition'):\n",
    "        f_0 = (en1 + en2)/2\n",
    "        return f_0\n",
    "\n",
    "    def decoder(self, f_en):\n",
    "        x2 = self.conv2(f_en)\n",
    "        x3 = self.conv3(x2)\n",
    "        x4 = self.conv4(x3)\n",
    "        output = self.conv5(x4)\n",
    "        return output\n",
    "    \n",
    "cnn = DenseFuse_net().to(device)\n",
    "cnn = cnn.float()\n",
    "print(cnn)"
   ]
  },
  {
   "cell_type": "code",
   "execution_count": 14,
   "metadata": {},
   "outputs": [],
   "source": [
    "#define the optimizers and loss functions \n",
    "optimizer = torch.optim.Adam(cnn.parameters(), lr=learning_rate)   #optimize all cnn parameters\n",
    "MSE_loss   = nn.MSELoss()                                           #MSEloss"
   ]
  },
  {
   "cell_type": "code",
   "execution_count": 16,
   "metadata": {},
   "outputs": [
    {
     "name": "stdout",
     "output_type": "stream",
     "text": [
      "Epoch: [ 0],step: [100], ssim_loss: [0.07900888], l2_loss: [0.00056508], total_loss: [0.07957395]\n",
      "Epoch: [ 0],step: [200], ssim_loss: [0.00141162], l2_loss: [0.00001366], total_loss: [0.00142527]\n",
      "Epoch: [ 0],step: [300], ssim_loss: [0.12517095], l2_loss: [0.00227437], total_loss: [0.12744531]\n",
      "Epoch: [ 0],step: [400], ssim_loss: [0.00163347], l2_loss: [0.00000799], total_loss: [0.00164146]\n",
      "Epoch: [ 0],step: [500], ssim_loss: [0.00158119], l2_loss: [0.00006876], total_loss: [0.00164996]\n",
      "Epoch: [ 1],step: [600], ssim_loss: [0.00038850], l2_loss: [0.00000321], total_loss: [0.00039172]\n",
      "Epoch: [ 1],step: [700], ssim_loss: [0.00022459], l2_loss: [0.00000164], total_loss: [0.00022623]\n",
      "Epoch: [ 1],step: [800], ssim_loss: [0.00014907], l2_loss: [0.00000086], total_loss: [0.00014993]\n",
      "Epoch: [ 1],step: [900], ssim_loss: [0.00007349], l2_loss: [0.00000100], total_loss: [0.00007450]\n",
      "Epoch: [ 1],step: [1000], ssim_loss: [0.00340396], l2_loss: [0.00051308], total_loss: [0.00391704]\n",
      "Epoch: [ 2],step: [1100], ssim_loss: [0.00053310], l2_loss: [0.00000797], total_loss: [0.00054107]\n",
      "Epoch: [ 2],step: [1200], ssim_loss: [0.00031519], l2_loss: [0.00000171], total_loss: [0.00031690]\n",
      "Epoch: [ 2],step: [1300], ssim_loss: [0.00030929], l2_loss: [0.00000250], total_loss: [0.00031179]\n",
      "Epoch: [ 2],step: [1400], ssim_loss: [0.00018668], l2_loss: [0.00000457], total_loss: [0.00019125]\n",
      "Epoch: [ 2],step: [1500], ssim_loss: [0.00017148], l2_loss: [0.00000188], total_loss: [0.00017337]\n",
      "Epoch: [ 2],step: [1600], ssim_loss: [0.00307721], l2_loss: [0.00003425], total_loss: [0.00311146]\n",
      "Epoch: [ 3],step: [1700], ssim_loss: [0.00975817], l2_loss: [0.00157535], total_loss: [0.01133353]\n",
      "Epoch: [ 3],step: [1800], ssim_loss: [0.00069463], l2_loss: [0.00001462], total_loss: [0.00070926]\n",
      "Epoch: [ 3],step: [1900], ssim_loss: [0.00032187], l2_loss: [0.00000186], total_loss: [0.00032372]\n",
      "Epoch: [ 3],step: [2000], ssim_loss: [0.00037658], l2_loss: [0.00000519], total_loss: [0.00038177]\n",
      "Epoch: [ 3],step: [2100], ssim_loss: [0.00773972], l2_loss: [0.00010677], total_loss: [0.00784650]\n",
      "Epoch: [ 4],step: [2200], ssim_loss: [0.00048465], l2_loss: [0.00000353], total_loss: [0.00048817]\n",
      "Epoch: [ 4],step: [2300], ssim_loss: [0.00044811], l2_loss: [0.00000245], total_loss: [0.00045055]\n",
      "Epoch: [ 4],step: [2400], ssim_loss: [0.00019169], l2_loss: [0.00000265], total_loss: [0.00019434]\n",
      "Epoch: [ 4],step: [2500], ssim_loss: [0.00008047], l2_loss: [0.00000045], total_loss: [0.00008091]\n",
      "Epoch: [ 4],step: [2600], ssim_loss: [0.00053972], l2_loss: [0.00000530], total_loss: [0.00054502]\n",
      "Epoch: [ 4],step: [2700], ssim_loss: [0.00045037], l2_loss: [0.00000485], total_loss: [0.00045522]\n",
      "Epoch: [ 5],step: [2800], ssim_loss: [0.00034368], l2_loss: [0.00000135], total_loss: [0.00034503]\n",
      "Epoch: [ 5],step: [2900], ssim_loss: [0.00037628], l2_loss: [0.00000218], total_loss: [0.00037846]\n",
      "Epoch: [ 5],step: [3000], ssim_loss: [0.00017947], l2_loss: [0.00000129], total_loss: [0.00018076]\n",
      "Epoch: [ 5],step: [3100], ssim_loss: [0.00028038], l2_loss: [0.00000209], total_loss: [0.00028247]\n",
      "Epoch: [ 5],step: [3200], ssim_loss: [0.00187379], l2_loss: [0.00023798], total_loss: [0.00211177]\n",
      "Epoch: [ 6],step: [3300], ssim_loss: [0.00022441], l2_loss: [0.00000192], total_loss: [0.00022634]\n",
      "Epoch: [ 6],step: [3400], ssim_loss: [0.00018924], l2_loss: [0.00000142], total_loss: [0.00019066]\n",
      "Epoch: [ 6],step: [3500], ssim_loss: [0.00016844], l2_loss: [0.00000125], total_loss: [0.00016969]\n",
      "Epoch: [ 6],step: [3600], ssim_loss: [0.00014734], l2_loss: [0.00000069], total_loss: [0.00014803]\n",
      "Epoch: [ 6],step: [3700], ssim_loss: [0.00128382], l2_loss: [0.00017857], total_loss: [0.00146240]\n",
      "Epoch: [ 6],step: [3800], ssim_loss: [0.00015289], l2_loss: [0.00000158], total_loss: [0.00015447]\n",
      "Epoch: [ 7],step: [3900], ssim_loss: [0.00013942], l2_loss: [0.00000063], total_loss: [0.00014004]\n",
      "Epoch: [ 7],step: [4000], ssim_loss: [0.00014204], l2_loss: [0.00000090], total_loss: [0.00014294]\n",
      "Epoch: [ 7],step: [4100], ssim_loss: [0.00015295], l2_loss: [0.00000080], total_loss: [0.00015375]\n",
      "Epoch: [ 7],step: [4200], ssim_loss: [0.00010335], l2_loss: [0.00000043], total_loss: [0.00010378]\n",
      "Epoch: [ 7],step: [4300], ssim_loss: [0.00008464], l2_loss: [0.00000616], total_loss: [0.00009080]\n",
      "Epoch: [ 8],step: [4400], ssim_loss: [0.00007987], l2_loss: [0.00000095], total_loss: [0.00008082]\n",
      "Epoch: [ 8],step: [4500], ssim_loss: [0.00005901], l2_loss: [0.00000040], total_loss: [0.00005941]\n",
      "Epoch: [ 8],step: [4600], ssim_loss: [0.00004613], l2_loss: [0.00000037], total_loss: [0.00004650]\n",
      "Epoch: [ 8],step: [4700], ssim_loss: [0.00003386], l2_loss: [0.00000021], total_loss: [0.00003407]\n",
      "Epoch: [ 8],step: [4800], ssim_loss: [0.00828373], l2_loss: [0.00147113], total_loss: [0.00975487]\n",
      "Epoch: [ 9],step: [4900], ssim_loss: [0.00006694], l2_loss: [0.00000035], total_loss: [0.00006729]\n",
      "Epoch: [ 9],step: [5000], ssim_loss: [0.00004327], l2_loss: [0.00000039], total_loss: [0.00004366]\n",
      "Epoch: [ 9],step: [5100], ssim_loss: [0.00003803], l2_loss: [0.00000031], total_loss: [0.00003833]\n",
      "Epoch: [ 9],step: [5200], ssim_loss: [0.00002974], l2_loss: [0.00000022], total_loss: [0.00002996]\n",
      "Epoch: [ 9],step: [5300], ssim_loss: [0.00002992], l2_loss: [0.00000381], total_loss: [0.00003373]\n",
      "Epoch: [ 9],step: [5400], ssim_loss: [0.00058156], l2_loss: [0.00002431], total_loss: [0.00060588]\n",
      "Epoch: [10],step: [5500], ssim_loss: [0.00013149], l2_loss: [0.00000045], total_loss: [0.00013194]\n",
      "Epoch: [10],step: [5600], ssim_loss: [0.00025290], l2_loss: [0.00000311], total_loss: [0.00025601]\n",
      "Epoch: [10],step: [5700], ssim_loss: [0.00011414], l2_loss: [0.00000094], total_loss: [0.00011508]\n",
      "Epoch: [10],step: [5800], ssim_loss: [0.00012553], l2_loss: [0.00000272], total_loss: [0.00012824]\n",
      "Epoch: [10],step: [5900], ssim_loss: [0.00308490], l2_loss: [0.00051867], total_loss: [0.00360357]\n",
      "Epoch: [11],step: [6000], ssim_loss: [0.00020236], l2_loss: [0.00000093], total_loss: [0.00020329]\n",
      "Epoch: [11],step: [6100], ssim_loss: [0.00022674], l2_loss: [0.00000130], total_loss: [0.00022804]\n",
      "Epoch: [11],step: [6200], ssim_loss: [0.00025755], l2_loss: [0.00000186], total_loss: [0.00025941]\n",
      "Epoch: [11],step: [6300], ssim_loss: [0.00011426], l2_loss: [0.00000122], total_loss: [0.00011548]\n",
      "Epoch: [11],step: [6400], ssim_loss: [0.00014925], l2_loss: [0.00000081], total_loss: [0.00015006]\n",
      "Epoch: [11],step: [6500], ssim_loss: [0.00004709], l2_loss: [0.00000232], total_loss: [0.00004941]\n",
      "Epoch: [12],step: [6600], ssim_loss: [0.00013185], l2_loss: [0.00000046], total_loss: [0.00013231]\n",
      "Epoch: [12],step: [6700], ssim_loss: [0.00016767], l2_loss: [0.00000098], total_loss: [0.00016865]\n",
      "Epoch: [12],step: [6800], ssim_loss: [0.00008506], l2_loss: [0.00000055], total_loss: [0.00008560]\n",
      "Epoch: [12],step: [6900], ssim_loss: [0.00009483], l2_loss: [0.00000059], total_loss: [0.00009542]\n",
      "Epoch: [12],step: [7000], ssim_loss: [0.00085080], l2_loss: [0.00011252], total_loss: [0.00096332]\n",
      "Epoch: [13],step: [7100], ssim_loss: [0.00007880], l2_loss: [0.00000048], total_loss: [0.00007928]\n",
      "Epoch: [13],step: [7200], ssim_loss: [0.00005335], l2_loss: [0.00000018], total_loss: [0.00005353]\n",
      "Epoch: [13],step: [7300], ssim_loss: [0.00011975], l2_loss: [0.00000077], total_loss: [0.00012052]\n",
      "Epoch: [13],step: [7400], ssim_loss: [0.00006664], l2_loss: [0.00000037], total_loss: [0.00006701]\n",
      "Epoch: [13],step: [7500], ssim_loss: [0.00004977], l2_loss: [0.00000024], total_loss: [0.00005001]\n",
      "Epoch: [13],step: [7600], ssim_loss: [0.00012082], l2_loss: [0.00000119], total_loss: [0.00012200]\n",
      "Epoch: [14],step: [7700], ssim_loss: [0.00009203], l2_loss: [0.00000045], total_loss: [0.00009248]\n",
      "Epoch: [14],step: [7800], ssim_loss: [0.00012362], l2_loss: [0.00000074], total_loss: [0.00012436]\n",
      "Epoch: [14],step: [7900], ssim_loss: [0.00005233], l2_loss: [0.00000040], total_loss: [0.00005273]\n",
      "Epoch: [14],step: [8000], ssim_loss: [0.00006431], l2_loss: [0.00000052], total_loss: [0.00006483]\n",
      "Epoch: [14],step: [8100], ssim_loss: [0.00311947], l2_loss: [0.00048088], total_loss: [0.00360035]\n",
      "Epoch: [15],step: [8200], ssim_loss: [0.00027877], l2_loss: [0.00000092], total_loss: [0.00027970]\n",
      "Epoch: [15],step: [8300], ssim_loss: [0.00022280], l2_loss: [0.00000392], total_loss: [0.00022673]\n"
     ]
    },
    {
     "name": "stdout",
     "output_type": "stream",
     "text": [
      "Epoch: [15],step: [8400], ssim_loss: [0.00018054], l2_loss: [0.00000139], total_loss: [0.00018193]\n",
      "Epoch: [15],step: [8500], ssim_loss: [0.00011474], l2_loss: [0.00000059], total_loss: [0.00011533]\n",
      "Epoch: [15],step: [8600], ssim_loss: [0.00049448], l2_loss: [0.00009840], total_loss: [0.00059288]\n",
      "Epoch: [15],step: [8700], ssim_loss: [0.00008118], l2_loss: [0.00000110], total_loss: [0.00008228]\n",
      "Epoch: [16],step: [8800], ssim_loss: [0.00009716], l2_loss: [0.00000049], total_loss: [0.00009765]\n",
      "Epoch: [16],step: [8900], ssim_loss: [0.00015020], l2_loss: [0.00000116], total_loss: [0.00015136]\n",
      "Epoch: [16],step: [9000], ssim_loss: [0.00012153], l2_loss: [0.00000070], total_loss: [0.00012224]\n",
      "Epoch: [16],step: [9100], ssim_loss: [0.00008667], l2_loss: [0.00000077], total_loss: [0.00008743]\n",
      "Epoch: [16],step: [9200], ssim_loss: [0.00022519], l2_loss: [0.00002773], total_loss: [0.00025292]\n",
      "Epoch: [17],step: [9300], ssim_loss: [0.00009173], l2_loss: [0.00000072], total_loss: [0.00009245]\n",
      "Epoch: [17],step: [9400], ssim_loss: [0.00005776], l2_loss: [0.00000031], total_loss: [0.00005807]\n",
      "Epoch: [17],step: [9500], ssim_loss: [0.00010049], l2_loss: [0.00000063], total_loss: [0.00010112]\n",
      "Epoch: [17],step: [9600], ssim_loss: [0.00004923], l2_loss: [0.00000028], total_loss: [0.00004951]\n",
      "Epoch: [17],step: [9700], ssim_loss: [0.00009054], l2_loss: [0.00000413], total_loss: [0.00009467]\n",
      "Epoch: [18],step: [9800], ssim_loss: [0.00006199], l2_loss: [0.00000053], total_loss: [0.00006252]\n",
      "Epoch: [18],step: [9900], ssim_loss: [0.00004125], l2_loss: [0.00000016], total_loss: [0.00004140]\n",
      "Epoch: [18],step: [10000], ssim_loss: [0.00012285], l2_loss: [0.00000091], total_loss: [0.00012375]\n",
      "Epoch: [18],step: [10100], ssim_loss: [0.00009012], l2_loss: [0.00000175], total_loss: [0.00009187]\n",
      "Epoch: [18],step: [10200], ssim_loss: [0.00012696], l2_loss: [0.00001052], total_loss: [0.00013748]\n",
      "Epoch: [18],step: [10300], ssim_loss: [0.00008291], l2_loss: [0.00000183], total_loss: [0.00008474]\n",
      "Epoch: [19],step: [10400], ssim_loss: [0.00017625], l2_loss: [0.00000098], total_loss: [0.00017723]\n",
      "Epoch: [19],step: [10500], ssim_loss: [0.00015694], l2_loss: [0.00000132], total_loss: [0.00015826]\n",
      "Epoch: [19],step: [10600], ssim_loss: [0.00008357], l2_loss: [0.00000063], total_loss: [0.00008419]\n",
      "Epoch: [19],step: [10700], ssim_loss: [0.00008911], l2_loss: [0.00000057], total_loss: [0.00008968]\n",
      "Epoch: [19],step: [10800], ssim_loss: [0.00485915], l2_loss: [0.00078891], total_loss: [0.00564806]\n",
      "Epoch: [20],step: [10900], ssim_loss: [0.00024235], l2_loss: [0.00000238], total_loss: [0.00024473]\n",
      "Epoch: [20],step: [11000], ssim_loss: [0.00016451], l2_loss: [0.00000078], total_loss: [0.00016529]\n",
      "Epoch: [20],step: [11100], ssim_loss: [0.00016350], l2_loss: [0.00000111], total_loss: [0.00016460]\n",
      "Epoch: [20],step: [11200], ssim_loss: [0.00007147], l2_loss: [0.00000270], total_loss: [0.00007416]\n",
      "Epoch: [20],step: [11300], ssim_loss: [0.00005335], l2_loss: [0.00000032], total_loss: [0.00005366]\n",
      "Epoch: [20],step: [11400], ssim_loss: [0.00001621], l2_loss: [0.00000044], total_loss: [0.00001665]\n",
      "Epoch: [21],step: [11500], ssim_loss: [0.00005394], l2_loss: [0.00000026], total_loss: [0.00005420]\n",
      "Epoch: [21],step: [11600], ssim_loss: [0.00009948], l2_loss: [0.00000067], total_loss: [0.00010015]\n",
      "Epoch: [21],step: [11700], ssim_loss: [0.00005209], l2_loss: [0.00000032], total_loss: [0.00005241]\n",
      "Epoch: [21],step: [11800], ssim_loss: [0.00008160], l2_loss: [0.00000063], total_loss: [0.00008223]\n",
      "Epoch: [21],step: [11900], ssim_loss: [0.00048560], l2_loss: [0.00006875], total_loss: [0.00055435]\n",
      "Epoch: [22],step: [12000], ssim_loss: [0.00009537], l2_loss: [0.00000069], total_loss: [0.00009605]\n",
      "Epoch: [22],step: [12100], ssim_loss: [0.00003570], l2_loss: [0.00000018], total_loss: [0.00003589]\n",
      "Epoch: [22],step: [12200], ssim_loss: [0.00008202], l2_loss: [0.00000050], total_loss: [0.00008252]\n",
      "Epoch: [22],step: [12300], ssim_loss: [0.00006032], l2_loss: [0.00000030], total_loss: [0.00006062]\n",
      "Epoch: [22],step: [12400], ssim_loss: [0.00002646], l2_loss: [0.00000013], total_loss: [0.00002660]\n",
      "Epoch: [22],step: [12500], ssim_loss: [0.00028765], l2_loss: [0.00000270], total_loss: [0.00029035]\n",
      "Epoch: [23],step: [12600], ssim_loss: [0.00020260], l2_loss: [0.00000082], total_loss: [0.00020342]\n",
      "Epoch: [23],step: [12700], ssim_loss: [0.00021809], l2_loss: [0.00000149], total_loss: [0.00021959]\n",
      "Epoch: [23],step: [12800], ssim_loss: [0.00016755], l2_loss: [0.00000098], total_loss: [0.00016853]\n",
      "Epoch: [23],step: [12900], ssim_loss: [0.00005752], l2_loss: [0.00000032], total_loss: [0.00005783]\n",
      "Epoch: [23],step: [13000], ssim_loss: [0.00006193], l2_loss: [0.00000063], total_loss: [0.00006256]\n",
      "Epoch: [24],step: [13100], ssim_loss: [0.00009257], l2_loss: [0.00000088], total_loss: [0.00009345]\n",
      "Epoch: [24],step: [13200], ssim_loss: [0.00006258], l2_loss: [0.00000035], total_loss: [0.00006293]\n",
      "Epoch: [24],step: [13300], ssim_loss: [0.00010353], l2_loss: [0.00000066], total_loss: [0.00010419]\n",
      "Epoch: [24],step: [13400], ssim_loss: [0.00006276], l2_loss: [0.00000030], total_loss: [0.00006306]\n",
      "Epoch: [24],step: [13500], ssim_loss: [0.00356841], l2_loss: [0.00050360], total_loss: [0.00407201]\n",
      "Epoch: [24],step: [13600], ssim_loss: [0.00008553], l2_loss: [0.00000062], total_loss: [0.00008616]\n",
      "Epoch: [25],step: [13700], ssim_loss: [0.00012469], l2_loss: [0.00000048], total_loss: [0.00012518]\n",
      "Epoch: [25],step: [13800], ssim_loss: [0.00016236], l2_loss: [0.00000115], total_loss: [0.00016351]\n",
      "Epoch: [25],step: [13900], ssim_loss: [0.00009638], l2_loss: [0.00000051], total_loss: [0.00009689]\n",
      "Epoch: [25],step: [14000], ssim_loss: [0.00007027], l2_loss: [0.00000052], total_loss: [0.00007080]\n",
      "Epoch: [25],step: [14100], ssim_loss: [0.00038701], l2_loss: [0.00001986], total_loss: [0.00040688]\n",
      "Epoch: [26],step: [14200], ssim_loss: [0.00006151], l2_loss: [0.00000048], total_loss: [0.00006199]\n",
      "Epoch: [26],step: [14300], ssim_loss: [0.00004083], l2_loss: [0.00000021], total_loss: [0.00004104]\n",
      "Epoch: [26],step: [14400], ssim_loss: [0.00008947], l2_loss: [0.00000056], total_loss: [0.00009002]\n",
      "Epoch: [26],step: [14500], ssim_loss: [0.00003541], l2_loss: [0.00000015], total_loss: [0.00003555]\n",
      "Epoch: [26],step: [14600], ssim_loss: [0.00637221], l2_loss: [0.00016891], total_loss: [0.00654112]\n",
      "Epoch: [27],step: [14700], ssim_loss: [0.00028908], l2_loss: [0.00000215], total_loss: [0.00029123]\n",
      "Epoch: [27],step: [14800], ssim_loss: [0.00020069], l2_loss: [0.00000085], total_loss: [0.00020154]\n",
      "Epoch: [27],step: [14900], ssim_loss: [0.00022560], l2_loss: [0.00000150], total_loss: [0.00022710]\n",
      "Epoch: [27],step: [15000], ssim_loss: [0.00013638], l2_loss: [0.00000092], total_loss: [0.00013730]\n",
      "Epoch: [27],step: [15100], ssim_loss: [0.00018674], l2_loss: [0.00000167], total_loss: [0.00018841]\n",
      "Epoch: [27],step: [15200], ssim_loss: [0.00013101], l2_loss: [0.00002826], total_loss: [0.00015927]\n",
      "Epoch: [28],step: [15300], ssim_loss: [0.00013590], l2_loss: [0.00000064], total_loss: [0.00013654]\n",
      "Epoch: [28],step: [15400], ssim_loss: [0.00016493], l2_loss: [0.00000100], total_loss: [0.00016593]\n",
      "Epoch: [28],step: [15500], ssim_loss: [0.00008535], l2_loss: [0.00000051], total_loss: [0.00008586]\n",
      "Epoch: [28],step: [15600], ssim_loss: [0.00026947], l2_loss: [0.00001079], total_loss: [0.00028026]\n",
      "Epoch: [28],step: [15700], ssim_loss: [0.01106840], l2_loss: [0.00142501], total_loss: [0.01249341]\n",
      "Epoch: [29],step: [15800], ssim_loss: [0.00017512], l2_loss: [0.00000221], total_loss: [0.00017732]\n",
      "Epoch: [29],step: [15900], ssim_loss: [0.00017607], l2_loss: [0.00000086], total_loss: [0.00017694]\n",
      "Epoch: [29],step: [16000], ssim_loss: [0.00019592], l2_loss: [0.00000133], total_loss: [0.00019725]\n",
      "Epoch: [29],step: [16100], ssim_loss: [0.00013232], l2_loss: [0.00000151], total_loss: [0.00013383]\n",
      "Epoch: [29],step: [16200], ssim_loss: [0.00009787], l2_loss: [0.00000070], total_loss: [0.00009858]\n",
      "Epoch: [29],step: [16300], ssim_loss: [0.00015563], l2_loss: [0.00000123], total_loss: [0.00015685]\n",
      "Epoch: [30],step: [16400], ssim_loss: [0.00013679], l2_loss: [0.00000054], total_loss: [0.00013733]\n",
      "Epoch: [30],step: [16500], ssim_loss: [0.00018352], l2_loss: [0.00000103], total_loss: [0.00018456]\n",
      "Epoch: [30],step: [16600], ssim_loss: [0.00009024], l2_loss: [0.00000062], total_loss: [0.00009086]\n"
     ]
    },
    {
     "name": "stdout",
     "output_type": "stream",
     "text": [
      "Epoch: [30],step: [16700], ssim_loss: [0.00024641], l2_loss: [0.00000232], total_loss: [0.00024873]\n",
      "Epoch: [30],step: [16800], ssim_loss: [0.00039870], l2_loss: [0.00003329], total_loss: [0.00043198]\n",
      "Epoch: [31],step: [16900], ssim_loss: [0.00017077], l2_loss: [0.00000112], total_loss: [0.00017189]\n",
      "Epoch: [31],step: [17000], ssim_loss: [0.00013560], l2_loss: [0.00000098], total_loss: [0.00013658]\n",
      "Epoch: [31],step: [17100], ssim_loss: [0.00015849], l2_loss: [0.00000116], total_loss: [0.00015965]\n",
      "Epoch: [31],step: [17200], ssim_loss: [0.00016367], l2_loss: [0.00000112], total_loss: [0.00016479]\n",
      "Epoch: [31],step: [17300], ssim_loss: [0.00147879], l2_loss: [0.00020712], total_loss: [0.00168591]\n",
      "Epoch: [31],step: [17400], ssim_loss: [0.00012928], l2_loss: [0.00000113], total_loss: [0.00013041]\n",
      "Epoch: [32],step: [17500], ssim_loss: [0.00012815], l2_loss: [0.00000048], total_loss: [0.00012863]\n",
      "Epoch: [32],step: [17600], ssim_loss: [0.00016391], l2_loss: [0.00000110], total_loss: [0.00016501]\n",
      "Epoch: [32],step: [17700], ssim_loss: [0.00017267], l2_loss: [0.00000093], total_loss: [0.00017360]\n",
      "Epoch: [32],step: [17800], ssim_loss: [0.00011897], l2_loss: [0.00000051], total_loss: [0.00011948]\n",
      "Epoch: [32],step: [17900], ssim_loss: [0.00008875], l2_loss: [0.00000056], total_loss: [0.00008931]\n",
      "Epoch: [33],step: [18000], ssim_loss: [0.00011033], l2_loss: [0.00000070], total_loss: [0.00011103]\n",
      "Epoch: [33],step: [18100], ssim_loss: [0.00008011], l2_loss: [0.00000050], total_loss: [0.00008061]\n",
      "Epoch: [33],step: [18200], ssim_loss: [0.00010645], l2_loss: [0.00000071], total_loss: [0.00010717]\n",
      "Epoch: [33],step: [18300], ssim_loss: [0.00006455], l2_loss: [0.00000037], total_loss: [0.00006492]\n",
      "Epoch: [33],step: [18400], ssim_loss: [0.00304723], l2_loss: [0.00055761], total_loss: [0.00360484]\n",
      "Epoch: [34],step: [18500], ssim_loss: [0.00012034], l2_loss: [0.00000085], total_loss: [0.00012119]\n",
      "Epoch: [34],step: [18600], ssim_loss: [0.00007391], l2_loss: [0.00000032], total_loss: [0.00007423]\n",
      "Epoch: [34],step: [18700], ssim_loss: [0.00014448], l2_loss: [0.00000104], total_loss: [0.00014552]\n",
      "Epoch: [34],step: [18800], ssim_loss: [0.00007159], l2_loss: [0.00000033], total_loss: [0.00007192]\n",
      "Epoch: [34],step: [18900], ssim_loss: [0.00012589], l2_loss: [0.00000534], total_loss: [0.00013122]\n",
      "Epoch: [34],step: [19000], ssim_loss: [0.00009298], l2_loss: [0.00000066], total_loss: [0.00009364]\n",
      "Epoch: [35],step: [19100], ssim_loss: [0.00004917], l2_loss: [0.00000015], total_loss: [0.00004932]\n",
      "Epoch: [35],step: [19200], ssim_loss: [0.00015354], l2_loss: [0.00000098], total_loss: [0.00015453]\n",
      "Epoch: [35],step: [19300], ssim_loss: [0.00008857], l2_loss: [0.00000049], total_loss: [0.00008906]\n",
      "Epoch: [35],step: [19400], ssim_loss: [0.00009632], l2_loss: [0.00000065], total_loss: [0.00009697]\n",
      "Epoch: [35],step: [19500], ssim_loss: [0.00294161], l2_loss: [0.00064045], total_loss: [0.00358206]\n",
      "Epoch: [36],step: [19600], ssim_loss: [0.00009078], l2_loss: [0.00000051], total_loss: [0.00009129]\n",
      "Epoch: [36],step: [19700], ssim_loss: [0.00007778], l2_loss: [0.00000049], total_loss: [0.00007827]\n",
      "Epoch: [36],step: [19800], ssim_loss: [0.00013834], l2_loss: [0.00000114], total_loss: [0.00013948]\n",
      "Epoch: [36],step: [19900], ssim_loss: [0.00008786], l2_loss: [0.00000071], total_loss: [0.00008857]\n",
      "Epoch: [36],step: [20000], ssim_loss: [0.00010955], l2_loss: [0.00000062], total_loss: [0.00011017]\n",
      "Epoch: [36],step: [20100], ssim_loss: [0.00002247], l2_loss: [0.00000007], total_loss: [0.00002254]\n",
      "Epoch: [37],step: [20200], ssim_loss: [0.00007707], l2_loss: [0.00000035], total_loss: [0.00007742]\n",
      "Epoch: [37],step: [20300], ssim_loss: [0.00013703], l2_loss: [0.00000081], total_loss: [0.00013784]\n",
      "Epoch: [37],step: [20400], ssim_loss: [0.00007457], l2_loss: [0.00000047], total_loss: [0.00007504]\n",
      "Epoch: [37],step: [20500], ssim_loss: [0.00009423], l2_loss: [0.00000048], total_loss: [0.00009472]\n",
      "Epoch: [37],step: [20600], ssim_loss: [0.00145245], l2_loss: [0.00008800], total_loss: [0.00154044]\n",
      "Epoch: [38],step: [20700], ssim_loss: [0.00062859], l2_loss: [0.00008304], total_loss: [0.00071163]\n",
      "Epoch: [38],step: [20800], ssim_loss: [0.00011724], l2_loss: [0.00000048], total_loss: [0.00011773]\n",
      "Epoch: [38],step: [20900], ssim_loss: [0.00014472], l2_loss: [0.00000101], total_loss: [0.00014573]\n",
      "Epoch: [38],step: [21000], ssim_loss: [0.00011784], l2_loss: [0.00000072], total_loss: [0.00011855]\n",
      "Epoch: [38],step: [21100], ssim_loss: [0.00005400], l2_loss: [0.00000027], total_loss: [0.00005427]\n",
      "Epoch: [38],step: [21200], ssim_loss: [0.00043160], l2_loss: [0.00000863], total_loss: [0.00044023]\n",
      "Epoch: [39],step: [21300], ssim_loss: [0.00049829], l2_loss: [0.00001244], total_loss: [0.00051073]\n",
      "Epoch: [39],step: [21400], ssim_loss: [0.00025696], l2_loss: [0.00000183], total_loss: [0.00025879]\n",
      "Epoch: [39],step: [21500], ssim_loss: [0.00009048], l2_loss: [0.00000066], total_loss: [0.00009114]\n",
      "Epoch: [39],step: [21600], ssim_loss: [0.00014228], l2_loss: [0.00000128], total_loss: [0.00014355]\n",
      "Epoch: [39],step: [21700], ssim_loss: [0.00036484], l2_loss: [0.00002506], total_loss: [0.00038990]\n",
      "Epoch: [40],step: [21800], ssim_loss: [0.00022995], l2_loss: [0.00000092], total_loss: [0.00023087]\n",
      "Epoch: [40],step: [21900], ssim_loss: [0.00016606], l2_loss: [0.00000106], total_loss: [0.00016711]\n",
      "Epoch: [40],step: [22000], ssim_loss: [0.00014967], l2_loss: [0.00000103], total_loss: [0.00015070]\n",
      "Epoch: [40],step: [22100], ssim_loss: [0.00012696], l2_loss: [0.00000064], total_loss: [0.00012759]\n",
      "Epoch: [40],step: [22200], ssim_loss: [0.00026542], l2_loss: [0.00003315], total_loss: [0.00029857]\n",
      "Epoch: [40],step: [22300], ssim_loss: [0.00010049], l2_loss: [0.00000059], total_loss: [0.00010108]\n",
      "Epoch: [41],step: [22400], ssim_loss: [0.00012642], l2_loss: [0.00000053], total_loss: [0.00012695]\n",
      "Epoch: [41],step: [22500], ssim_loss: [0.00015473], l2_loss: [0.00000102], total_loss: [0.00015576]\n",
      "Epoch: [41],step: [22600], ssim_loss: [0.00013918], l2_loss: [0.00000070], total_loss: [0.00013988]\n",
      "Epoch: [41],step: [22700], ssim_loss: [0.00011444], l2_loss: [0.00000084], total_loss: [0.00011528]\n",
      "Epoch: [41],step: [22800], ssim_loss: [0.00038755], l2_loss: [0.00005725], total_loss: [0.00044480]\n",
      "Epoch: [42],step: [22900], ssim_loss: [0.00009221], l2_loss: [0.00000082], total_loss: [0.00009303]\n",
      "Epoch: [42],step: [23000], ssim_loss: [0.00006628], l2_loss: [0.00000039], total_loss: [0.00006667]\n",
      "Epoch: [42],step: [23100], ssim_loss: [0.00009298], l2_loss: [0.00000058], total_loss: [0.00009356]\n",
      "Epoch: [42],step: [23200], ssim_loss: [0.00006431], l2_loss: [0.00000042], total_loss: [0.00006474]\n",
      "Epoch: [42],step: [23300], ssim_loss: [0.00103295], l2_loss: [0.00012673], total_loss: [0.00115968]\n",
      "Epoch: [43],step: [23400], ssim_loss: [0.00008631], l2_loss: [0.00000041], total_loss: [0.00008672]\n",
      "Epoch: [43],step: [23500], ssim_loss: [0.00004888], l2_loss: [0.00000019], total_loss: [0.00004907]\n",
      "Epoch: [43],step: [23600], ssim_loss: [0.00011921], l2_loss: [0.00000087], total_loss: [0.00012007]\n",
      "Epoch: [43],step: [23700], ssim_loss: [0.00010538], l2_loss: [0.00000106], total_loss: [0.00010644]\n",
      "Epoch: [43],step: [23800], ssim_loss: [0.00014681], l2_loss: [0.00001177], total_loss: [0.00015858]\n",
      "Epoch: [43],step: [23900], ssim_loss: [0.00010318], l2_loss: [0.00000699], total_loss: [0.00011017]\n",
      "Epoch: [44],step: [24000], ssim_loss: [0.00012022], l2_loss: [0.00000082], total_loss: [0.00012104]\n",
      "Epoch: [44],step: [24100], ssim_loss: [0.00014579], l2_loss: [0.00000094], total_loss: [0.00014673]\n",
      "Epoch: [44],step: [24200], ssim_loss: [0.00007933], l2_loss: [0.00000045], total_loss: [0.00007979]\n",
      "Epoch: [44],step: [24300], ssim_loss: [0.00010335], l2_loss: [0.00000060], total_loss: [0.00010396]\n",
      "Epoch: [44],step: [24400], ssim_loss: [0.00908935], l2_loss: [0.00144901], total_loss: [0.01053836]\n",
      "Epoch: [45],step: [24500], ssim_loss: [0.00007886], l2_loss: [0.00000056], total_loss: [0.00007941]\n",
      "Epoch: [45],step: [24600], ssim_loss: [0.00006330], l2_loss: [0.00000029], total_loss: [0.00006359]\n",
      "Epoch: [45],step: [24700], ssim_loss: [0.00012600], l2_loss: [0.00000084], total_loss: [0.00012685]\n",
      "Epoch: [45],step: [24800], ssim_loss: [0.00007999], l2_loss: [0.00000081], total_loss: [0.00008080]\n"
     ]
    },
    {
     "name": "stdout",
     "output_type": "stream",
     "text": [
      "Epoch: [45],step: [24900], ssim_loss: [0.00007868], l2_loss: [0.00000053], total_loss: [0.00007921]\n",
      "Epoch: [45],step: [25000], ssim_loss: [0.00002497], l2_loss: [0.00000052], total_loss: [0.00002550]\n",
      "Epoch: [46],step: [25100], ssim_loss: [0.00009865], l2_loss: [0.00000037], total_loss: [0.00009902]\n",
      "Epoch: [46],step: [25200], ssim_loss: [0.00013280], l2_loss: [0.00000078], total_loss: [0.00013358]\n",
      "Epoch: [46],step: [25300], ssim_loss: [0.00007325], l2_loss: [0.00000046], total_loss: [0.00007371]\n",
      "Epoch: [46],step: [25400], ssim_loss: [0.00011700], l2_loss: [0.00000093], total_loss: [0.00011793]\n",
      "Epoch: [46],step: [25500], ssim_loss: [0.00057608], l2_loss: [0.00009311], total_loss: [0.00066919]\n",
      "Epoch: [47],step: [25600], ssim_loss: [0.00008088], l2_loss: [0.00000050], total_loss: [0.00008138]\n",
      "Epoch: [47],step: [25700], ssim_loss: [0.00006354], l2_loss: [0.00000031], total_loss: [0.00006385]\n",
      "Epoch: [47],step: [25800], ssim_loss: [0.00010663], l2_loss: [0.00000070], total_loss: [0.00010734]\n",
      "Epoch: [47],step: [25900], ssim_loss: [0.00009054], l2_loss: [0.00000047], total_loss: [0.00009101]\n",
      "Epoch: [47],step: [26000], ssim_loss: [0.00004965], l2_loss: [0.00000026], total_loss: [0.00004991]\n",
      "Epoch: [47],step: [26100], ssim_loss: [0.00010383], l2_loss: [0.00000088], total_loss: [0.00010471]\n",
      "Epoch: [48],step: [26200], ssim_loss: [0.00007963], l2_loss: [0.00000035], total_loss: [0.00007998]\n",
      "Epoch: [48],step: [26300], ssim_loss: [0.00011975], l2_loss: [0.00000076], total_loss: [0.00012051]\n",
      "Epoch: [48],step: [26400], ssim_loss: [0.00013560], l2_loss: [0.00000073], total_loss: [0.00013633]\n",
      "Epoch: [48],step: [26500], ssim_loss: [0.00005132], l2_loss: [0.00000029], total_loss: [0.00005161]\n",
      "Epoch: [48],step: [26600], ssim_loss: [0.00020939], l2_loss: [0.00000343], total_loss: [0.00021282]\n",
      "Epoch: [49],step: [26700], ssim_loss: [0.00010264], l2_loss: [0.00000094], total_loss: [0.00010357]\n",
      "Epoch: [49],step: [26800], ssim_loss: [0.00006342], l2_loss: [0.00000039], total_loss: [0.00006380]\n",
      "Epoch: [49],step: [26900], ssim_loss: [0.00009841], l2_loss: [0.00000062], total_loss: [0.00009903]\n",
      "Epoch: [49],step: [27000], ssim_loss: [0.00006384], l2_loss: [0.00000030], total_loss: [0.00006414]\n",
      "Epoch: [49],step: [27100], ssim_loss: [0.00007468], l2_loss: [0.00000035], total_loss: [0.00007503]\n",
      "Epoch: [49],step: [27200], ssim_loss: [0.00003427], l2_loss: [0.00000016], total_loss: [0.00003443]\n"
     ]
    },
    {
     "name": "stderr",
     "output_type": "stream",
     "text": [
      "C:\\Program Files (x86)\\Microsoft Visual Studio\\Shared\\Anaconda3_64\\lib\\site-packages\\torch\\serialization.py:250: UserWarning: Couldn't retrieve source code for container of type DenseFuse_net. It won't be checked for correctness upon loading.\n",
      "  \"type \" + obj.__name__ + \". It won't be checked \"\n",
      "C:\\Program Files (x86)\\Microsoft Visual Studio\\Shared\\Anaconda3_64\\lib\\site-packages\\torch\\serialization.py:250: UserWarning: Couldn't retrieve source code for container of type ConvLayer. It won't be checked for correctness upon loading.\n",
      "  \"type \" + obj.__name__ + \". It won't be checked \"\n",
      "C:\\Program Files (x86)\\Microsoft Visual Studio\\Shared\\Anaconda3_64\\lib\\site-packages\\torch\\serialization.py:250: UserWarning: Couldn't retrieve source code for container of type DenseBlock. It won't be checked for correctness upon loading.\n",
      "  \"type \" + obj.__name__ + \". It won't be checked \"\n",
      "C:\\Program Files (x86)\\Microsoft Visual Studio\\Shared\\Anaconda3_64\\lib\\site-packages\\torch\\serialization.py:250: UserWarning: Couldn't retrieve source code for container of type DenseConv2d. It won't be checked for correctness upon loading.\n",
      "  \"type \" + obj.__name__ + \". It won't be checked \"\n"
     ]
    }
   ],
   "source": [
    "# perform the training\n",
    "counter = 0\n",
    "start_time = time.time()\n",
    "lamda = 1\n",
    "ep_ssim_loss = []\n",
    "ep_l2_loss = []\n",
    "for epoch in range(EPOCH):\n",
    "    ssim_Loss = []\n",
    "    l2_Loss   = []\n",
    "    #run batch images\n",
    "    batch_idxs = 272 // batch_size\n",
    "    for idx in range(0, batch_idxs):\n",
    "        #reconstruct mri\n",
    "        b_x = train_mri_tensor[idx*batch_size : (idx+1)*batch_size,:,:,:].to(device)\n",
    "        counter += 1\n",
    "        #encoder\n",
    "        en = cnn.encoder(b_x)              \n",
    "        #decoder\n",
    "        output = cnn.decoder(en)\n",
    "        ssim_loss = 1 - ssim(output, b_x,data_range=1)\n",
    "        l2_loss = MSE_loss(output,b_x) \n",
    "        loss_total = lamda*ssim_loss + lamda*l2_loss\n",
    "        optimizer.zero_grad()              # clear gradients for this training step\n",
    "        loss_total.backward()              # backpropagation, compute gradients\n",
    "        optimizer.step()                   # apply gradients\n",
    "        \n",
    "        #reconstruct pet\n",
    "        b_y = train_pet_tensor[idx*batch_size : (idx+1)*batch_size,:,:,:].to(device)\n",
    "        counter +=1\n",
    "        #encoder\n",
    "        en = cnn.encoder(b_y)              \n",
    "        #decoder\n",
    "        output = cnn.decoder(en)\n",
    "        ssim_loss = 1 - ssim(output, b_y,data_range=1)\n",
    "        l2_loss = MSE_loss(output,b_y)\n",
    "        loss_total = lamda*ssim_loss + lamda*l2_loss\n",
    "        optimizer.zero_grad()              # clear gradients for this training step\n",
    "        loss_total.backward()              # backpropagation, compute gradients\n",
    "        optimizer.step()                   # apply gradients\n",
    "        \n",
    "        ssim_Loss.append(ssim_loss.item())\n",
    "        l2_Loss.append(l2_loss.item())\n",
    "        \n",
    "        if counter % 100 == 0:\n",
    "            print(\"Epoch: [%2d],step: [%2d], ssim_loss: [%.8f], l2_loss: [%.8f], total_loss: [%.8f]\" \n",
    "                   %(epoch, counter, ssim_loss, l2_loss, loss_total))\n",
    "    \n",
    "    av_ssim_loss = np.average(ssim_Loss)\n",
    "    ep_ssim_loss.append(av_ssim_loss)\n",
    "    \n",
    "    av_l2_loss = np.average(l2_Loss)\n",
    "    ep_l2_loss.append(av_l2_loss)\n",
    "    \n",
    "    if(epoch == EPOCH -1):\n",
    "        #Save a checkpoint\n",
    "        torch.save(cnn, 'C:/Users/horan/Desktop/Suraka/.ipynb_checkpoints/DenseFuse/checkpoint.pth') "
   ]
  },
  {
   "cell_type": "code",
   "execution_count": 17,
   "metadata": {},
   "outputs": [],
   "source": [
    "l1 = np.asarray(ep_ssim_loss)\n",
    "l2 = np.asarray(ep_l2_loss)"
   ]
  },
  {
   "cell_type": "code",
   "execution_count": 21,
   "metadata": {},
   "outputs": [],
   "source": [
    "#h5f = h5py.File('C:/Users/horan/Desktop/Suraka/Loss curves/DenseFuse/H5 Files/Loss_L2.h5', 'w')\n",
    "#h5f.create_dataset('L2_dataset', data=l2)\n",
    "#h5f.close()"
   ]
  },
  {
   "cell_type": "code",
   "execution_count": 19,
   "metadata": {},
   "outputs": [],
   "source": [
    "#plt.plot(l2)\n",
    "#plt.savefig('C:/Users/horan/Desktop/Suraka/Loss curves/DenseFuse/Loss curves/L2_loss_curve.png', bbox_inches = 'tight',pad_inches = 0)\n",
    "#plt.close()"
   ]
  },
  {
   "cell_type": "code",
   "execution_count": 22,
   "metadata": {},
   "outputs": [],
   "source": [
    "#load the test input MRI dataset\n",
    "filenames = os.listdir('C:/Users/horan/Desktop/Suraka/MRI/')\n",
    "dataset = os.path.join(os.getcwd(), 'C:/Users/horan/Desktop/Suraka/MRI/')\n",
    "data = glob.glob(os.path.join(dataset, \"*.gif\"))\n",
    "data = natsort.natsorted(data,reverse=False)\n",
    "test_mri = np.zeros((len(data), image_width,image_length))\n",
    "for i in range(len(data)):\n",
    "    test_mri[i,:,:] =(imageio.imread(data[i]))\n",
    "    test_mri[i,:,:] =(test_mri[i,:,:] - np.min(test_mri[i,:,:])) / (np.max(test_mri[i,:,:]) - np.min(test_mri[i,:,:]))\n",
    "    test_mri[i,:,:] = np.float32(test_mri[i,:,:])"
   ]
  },
  {
   "cell_type": "code",
   "execution_count": 23,
   "metadata": {},
   "outputs": [
    {
     "data": {
      "text/plain": [
       "(1, 1, 256, 256)"
      ]
     },
     "execution_count": 23,
     "metadata": {},
     "output_type": "execute_result"
    }
   ],
   "source": [
    "#expand dimension to add the channel\n",
    "test_mri = np.expand_dims(test_mri,axis=1)\n",
    "#verify the shape matches the pytorch standard\n",
    "test_mri.shape"
   ]
  },
  {
   "cell_type": "code",
   "execution_count": 24,
   "metadata": {},
   "outputs": [
    {
     "data": {
      "text/plain": [
       "<matplotlib.image.AxesImage at 0x23396a68630>"
      ]
     },
     "execution_count": 24,
     "metadata": {},
     "output_type": "execute_result"
    },
    {
     "data": {
      "image/png": "[encoded data removed]",
      "text/plain": [
       "<Figure size 432x288 with 1 Axes>"
      ]
     },
     "metadata": {},
     "output_type": "display_data"
    }
   ],
   "source": [
    "#verify the test mri image\n",
    "#test_mri = test_mri[0,:,:,:]\n",
    "#test_mri = np.expand_dims(test_mri,axis=0)\n",
    "plt.imshow(test_mri[0,0,:,:],'gray')\n",
    "#plt.savefig('MRI.png', bbox_inches = 'tight',pad_inches = 0,dpi=200)"
   ]
  },
  {
   "cell_type": "code",
   "execution_count": 25,
   "metadata": {},
   "outputs": [
    {
     "name": "stdout",
     "output_type": "stream",
     "text": [
      "torch.Size([1, 1, 256, 256])\n"
     ]
    }
   ],
   "source": [
    "#convert the MRI Testing data to pytorch tensor\n",
    "test_mri_tensor = torch.from_numpy(test_mri).float()\n",
    "print(test_mri_tensor.shape)\n",
    "test_mri_tensor.requires_grad =True"
   ]
  },
  {
   "cell_type": "code",
   "execution_count": 26,
   "metadata": {},
   "outputs": [],
   "source": [
    "#load the test input PET dataset\n",
    "filenames = os.listdir('C:/Users/horan/Desktop/Suraka/PET/')\n",
    "dataset = os.path.join(os.getcwd(), 'C:/Users/horan/Desktop/Suraka/PET/')\n",
    "data = glob.glob(os.path.join(dataset, \"*.png\"))\n",
    "data = natsort.natsorted(data,reverse=False)\n",
    "test_pet = np.zeros((len(data), image_width,image_length))\n",
    "for i in range(len(data)):\n",
    "    test_pet[i,:,:] =(imageio.imread(data[i]))\n",
    "    test_pet[i,:,:] =(test_pet[i,:,:] - np.min(test_pet[i,:,:])) / (np.max(test_pet[i,:,:]) - np.min(test_pet[i,:,:]))\n",
    "    test_pet[i,:,:] = np.float32(test_pet[i,:,:])"
   ]
  },
  {
   "cell_type": "code",
   "execution_count": 27,
   "metadata": {},
   "outputs": [
    {
     "data": {
      "text/plain": [
       "(1, 1, 256, 256)"
      ]
     },
     "execution_count": 27,
     "metadata": {},
     "output_type": "execute_result"
    }
   ],
   "source": [
    "#expand dimension to add the channel\n",
    "test_pet = np.expand_dims(test_pet,axis=1)\n",
    "#verify the shape matches the pytorch standard\n",
    "test_pet.shape "
   ]
  },
  {
   "cell_type": "code",
   "execution_count": 28,
   "metadata": {},
   "outputs": [
    {
     "data": {
      "text/plain": [
       "<matplotlib.image.AxesImage at 0x2339e83b7b8>"
      ]
     },
     "execution_count": 28,
     "metadata": {},
     "output_type": "execute_result"
    },
    {
     "data": {
      "image/png": "[encoded data removed]",
      "text/plain": [
       "<Figure size 432x288 with 1 Axes>"
      ]
     },
     "metadata": {},
     "output_type": "display_data"
    }
   ],
   "source": [
    "plt.imshow(test_pet[0,0,:,:],'gray')\n",
    "#plt.savefig('PET.png', bbox_inches = 'tight',pad_inches = 0,dpi=200)"
   ]
  },
  {
   "cell_type": "code",
   "execution_count": 29,
   "metadata": {},
   "outputs": [
    {
     "name": "stdout",
     "output_type": "stream",
     "text": [
      "torch.Size([1, 1, 256, 256])\n"
     ]
    }
   ],
   "source": [
    "#convert the MRI Testing data to pytorch tensor\n",
    "test_pet_tensor = torch.from_numpy(test_pet).float()\n",
    "print(test_pet_tensor.shape)\n",
    "test_pet_tensor.requires_grad =True"
   ]
  },
  {
   "cell_type": "code",
   "execution_count": 30,
   "metadata": {},
   "outputs": [
    {
     "data": {
      "text/plain": [
       "DenseFuse_net(\n",
       "  (conv1): ConvLayer(\n",
       "    (reflection_pad): ReflectionPad2d((1, 1, 1, 1))\n",
       "    (conv2d): Conv2d(1, 16, kernel_size=(3, 3), stride=(1, 1))\n",
       "    (dropout): Dropout2d(p=0.5)\n",
       "  )\n",
       "  (DB1): DenseBlock(\n",
       "    (denseblock): Sequential(\n",
       "      (0): DenseConv2d(\n",
       "        (dense_conv): ConvLayer(\n",
       "          (reflection_pad): ReflectionPad2d((1, 1, 1, 1))\n",
       "          (conv2d): Conv2d(16, 16, kernel_size=(3, 3), stride=(1, 1))\n",
       "          (dropout): Dropout2d(p=0.5)\n",
       "        )\n",
       "      )\n",
       "      (1): DenseConv2d(\n",
       "        (dense_conv): ConvLayer(\n",
       "          (reflection_pad): ReflectionPad2d((1, 1, 1, 1))\n",
       "          (conv2d): Conv2d(32, 16, kernel_size=(3, 3), stride=(1, 1))\n",
       "          (dropout): Dropout2d(p=0.5)\n",
       "        )\n",
       "      )\n",
       "      (2): DenseConv2d(\n",
       "        (dense_conv): ConvLayer(\n",
       "          (reflection_pad): ReflectionPad2d((1, 1, 1, 1))\n",
       "          (conv2d): Conv2d(48, 16, kernel_size=(3, 3), stride=(1, 1))\n",
       "          (dropout): Dropout2d(p=0.5)\n",
       "        )\n",
       "      )\n",
       "    )\n",
       "  )\n",
       "  (conv2): ConvLayer(\n",
       "    (reflection_pad): ReflectionPad2d((1, 1, 1, 1))\n",
       "    (conv2d): Conv2d(64, 64, kernel_size=(3, 3), stride=(1, 1))\n",
       "    (dropout): Dropout2d(p=0.5)\n",
       "  )\n",
       "  (conv3): ConvLayer(\n",
       "    (reflection_pad): ReflectionPad2d((1, 1, 1, 1))\n",
       "    (conv2d): Conv2d(64, 32, kernel_size=(3, 3), stride=(1, 1))\n",
       "    (dropout): Dropout2d(p=0.5)\n",
       "  )\n",
       "  (conv4): ConvLayer(\n",
       "    (reflection_pad): ReflectionPad2d((1, 1, 1, 1))\n",
       "    (conv2d): Conv2d(32, 16, kernel_size=(3, 3), stride=(1, 1))\n",
       "    (dropout): Dropout2d(p=0.5)\n",
       "  )\n",
       "  (conv5): ConvLayer(\n",
       "    (reflection_pad): ReflectionPad2d((1, 1, 1, 1))\n",
       "    (conv2d): Conv2d(16, 1, kernel_size=(3, 3), stride=(1, 1))\n",
       "    (dropout): Dropout2d(p=0.5)\n",
       "  )\n",
       ")"
      ]
     },
     "execution_count": 30,
     "metadata": {},
     "output_type": "execute_result"
    }
   ],
   "source": [
    "#load the model\n",
    "device = torch.device(\"cuda\" if torch.cuda.is_available() else \"cpu\")\n",
    "cnn =torch.load('C:/Users/horan/Desktop/Suraka/.ipynb_checkpoints/DenseFuse/checkpoint.pth')\n",
    "cnn.eval()"
   ]
  },
  {
   "cell_type": "code",
   "execution_count": 47,
   "metadata": {},
   "outputs": [],
   "source": [
    "def _generate_fusion_image(model, strategy_type, img1, img2):\n",
    "    # encoder\n",
    "    # test = torch.unsqueeze(img_ir[:, i, :, :], 1)\n",
    "    en_r = model.encoder(img1)\n",
    "    # vision_features(en_r, 'ir')\n",
    "    en_v = model.encoder(img2)\n",
    "    # vision_features(en_v, 'vi')\n",
    "    # fusion\n",
    "    f = model.fusion(en_r, en_v, strategy_type=strategy_type)\n",
    "    # f = en_v\n",
    "    # decoder\n",
    "    img_fusion = model.decoder(f)\n",
    "    return img_fusion"
   ]
  },
  {
   "cell_type": "code",
   "execution_count": 48,
   "metadata": {},
   "outputs": [],
   "source": [
    "#predicted the fused image\n",
    "fused = _generate_fusion_image(cnn, 'addition', test_mri_tensor.to(device), test_pet_tensor.to(device))\n",
    "fused_numpy = fused.data.cpu().numpy()"
   ]
  },
  {
   "cell_type": "code",
   "execution_count": 49,
   "metadata": {},
   "outputs": [
    {
     "data": {
      "text/plain": [
       "torch.Size([1, 1, 256, 256])"
      ]
     },
     "execution_count": 49,
     "metadata": {},
     "output_type": "execute_result"
    }
   ],
   "source": [
    "fused.shape"
   ]
  },
  {
   "cell_type": "code",
   "execution_count": 50,
   "metadata": {},
   "outputs": [
    {
     "data": {
      "text/plain": [
       "<matplotlib.image.AxesImage at 0x23391ebf550>"
      ]
     },
     "execution_count": 50,
     "metadata": {},
     "output_type": "execute_result"
    },
    {
     "data": {
      "image/png": "[encoded data removed]",
      "text/plain": [
       "<Figure size 432x288 with 1 Axes>"
      ]
     },
     "metadata": {},
     "output_type": "display_data"
    }
   ],
   "source": [
    "#verify the output image\n",
    "plt.imshow(fused_numpy[0,0,:,:],'gray')\n",
    "#plt.savefig('Fused.png', bbox_inches = 'tight',pad_inches = 0,dpi=200)"
   ]
  },
  {
   "cell_type": "code",
   "execution_count": null,
   "metadata": {},
   "outputs": [],
   "source": [
    "#imageio.imwrite('C:/Users/horan/Desktop/Suraka/Fused/Fused.png',np.uint8(cv2.normalize(fused_numpy[0,0,:,:], None, alpha=0, beta=255, norm_type=cv2.NORM_MINMAX, dtype=cv2.CV_32F)))"
   ]
  },
  {
   "cell_type": "code",
   "execution_count": null,
   "metadata": {},
   "outputs": [],
   "source": [
    "#calculate the guidance image for MRI and PET wrt to the fused image\n",
    "time1 = time.time()\n",
    "count = 0 \n",
    "guide_fuse_mri = np.zeros((256,256),dtype=float)\n",
    "guide_fuse_pet = np.zeros((256,256),dtype=float)\n",
    "\n",
    "for y_coord in range(0,256):\n",
    "    for x_coord in range(0,256):\n",
    "        jacob_fuse_mri = torch.autograd.grad(fused[0,0,y_coord,x_coord], test_mri_tensor, retain_graph=True, create_graph=True)[0]\n",
    "        jacob_numpy_mri = np.squeeze(jacob_fuse_mri.data.cpu().numpy())  \n",
    "        guide_fuse_mri[y_coord,x_coord] = jacob_numpy_mri[y_coord,x_coord]\n",
    "        jacob_fuse_pet = torch.autograd.grad(fused[0,0,y_coord,x_coord], test_pet_tensor, retain_graph=True, create_graph=True)[0]\n",
    "        jacob_numpy_pet = np.squeeze(jacob_fuse_pet.data.cpu().numpy())  \n",
    "        guide_fuse_pet[y_coord,x_coord] = jacob_numpy_pet[y_coord,x_coord]\n",
    "        count += 1\n",
    "        if count % 100 == 0:\n",
    "            print('Count is %d' %count)\n",
    "time2 = time.time()\n",
    "print('Time taken to compute is %d seconds' %(time2-time1))"
   ]
  },
  {
   "cell_type": "code",
   "execution_count": null,
   "metadata": {},
   "outputs": [],
   "source": [
    "plt.imshow(guide_fuse_mri,cmap='viridis')\n",
    "plt.colorbar()\n",
    "#plt.savefig('Jacob_Fused_MRI.png', bbox_inches = 'tight',pad_inches = 0,dpi=200)"
   ]
  },
  {
   "cell_type": "code",
   "execution_count": null,
   "metadata": {},
   "outputs": [],
   "source": [
    "#guide_fuse_mri.shape"
   ]
  },
  {
   "cell_type": "code",
   "execution_count": null,
   "metadata": {},
   "outputs": [],
   "source": [
    "#plt.imshow(guide_fuse_pet,cmap='viridis')\n",
    "#plt.colorbar()\n",
    "#plt.savefig('Jacob_Fused_PET.png', bbox_inches = 'tight',pad_inches = 0,dpi=200)"
   ]
  },
  {
   "cell_type": "code",
   "execution_count": null,
   "metadata": {},
   "outputs": [],
   "source": [
    "#guide_fuse_pet.shape"
   ]
  },
  {
   "cell_type": "code",
   "execution_count": null,
   "metadata": {},
   "outputs": [],
   "source": [
    "#plt.imshow(fused_RGB)\n",
    "#plt.savefig('Fused_RGB.png', bbox_inches = 'tight',pad_inches = 0,dpi=200)"
   ]
  },
  {
   "cell_type": "code",
   "execution_count": null,
   "metadata": {},
   "outputs": [],
   "source": [
    "#plt.imshow(mri_RGB)\n",
    "#plt.savefig('MRI_RGB.png', bbox_inches = 'tight',pad_inches = 0,dpi=200)"
   ]
  },
  {
   "cell_type": "code",
   "execution_count": null,
   "metadata": {},
   "outputs": [],
   "source": [
    "#plt.imshow(pet_RGB)\n",
    "#plt.savefig('PET_RGB.png', bbox_inches = 'tight',pad_inches = 0,dpi=200)"
   ]
  },
  {
   "cell_type": "code",
   "execution_count": null,
   "metadata": {},
   "outputs": [],
   "source": [
    "#h5f = h5py.File('C:/Users/horan/Desktop/Suraka/Jacobian_MRI.h5', 'w')\n",
    "#h5f.create_dataset('MRI_dataset', data=guide_fuse_mri)\n",
    "#h5f.close()"
   ]
  },
  {
   "cell_type": "code",
   "execution_count": null,
   "metadata": {},
   "outputs": [],
   "source": [
    "#h5f = h5py.File('C:/Users/horan/Desktop/Suraka/Jacobian_PET.h5', 'w')\n",
    "#h5f.create_dataset('PET_dataset', data=guide_fuse_pet)\n",
    "#h5f.close()"
   ]
  },
  {
   "cell_type": "code",
   "execution_count": null,
   "metadata": {},
   "outputs": [],
   "source": [
    "hf = h5py.File('C:/Users/horan/Desktop/Suraka/Guidance images/FunFuseAn/H5 Files/Jacobian_MRI.h5', 'r')\n",
    "guide_fuse_mri =  np.array(hf.get('MRI_dataset'))\n",
    "hf.close()"
   ]
  },
  {
   "cell_type": "code",
   "execution_count": null,
   "metadata": {},
   "outputs": [],
   "source": [
    "plt.imshow(guide_fuse_mri,cmap='viridis')\n",
    "plt.colorbar()"
   ]
  },
  {
   "cell_type": "code",
   "execution_count": null,
   "metadata": {},
   "outputs": [],
   "source": [
    "hf = h5py.File('C:/Users/horan/Desktop/Suraka/Guidance images/FunFuseAn/H5 Files/Jacobian_PET.h5', 'r')\n",
    "guide_fuse_pet =  np.array(hf.get('PET_dataset'))\n",
    "hf.close()"
   ]
  },
  {
   "cell_type": "code",
   "execution_count": null,
   "metadata": {},
   "outputs": [],
   "source": [
    "plt.imshow(guide_fuse_pet,cmap='viridis')\n",
    "plt.colorbar()"
   ]
  },
  {
   "cell_type": "code",
   "execution_count": null,
   "metadata": {},
   "outputs": [],
   "source": [
    "#define overlay images\n",
    "fused_RGB = np.zeros((256,256,3),dtype=float)\n",
    "mri_RGB   = np.zeros((256,256,3),dtype=float)\n",
    "pet_RGB   = np.zeros((256,256,3),dtype=float)"
   ]
  },
  {
   "cell_type": "code",
   "execution_count": null,
   "metadata": {},
   "outputs": [],
   "source": [
    "fused_RGB[:,:,0]  = guide_fuse_mri \n",
    "fused_RGB[:,:,1]  = guide_fuse_pet \n",
    "fused_RGB[:,:,2]  = fused_numpy[0,0,:,:]"
   ]
  },
  {
   "cell_type": "code",
   "execution_count": null,
   "metadata": {},
   "outputs": [],
   "source": [
    "plt.imshow(fused_RGB)"
   ]
  },
  {
   "cell_type": "code",
   "execution_count": null,
   "metadata": {},
   "outputs": [],
   "source": [
    "mri_RGB[:,:,0]  = guide_fuse_mri\n",
    "mri_RGB[:,:,1]  = guide_fuse_pet \n",
    "mri_RGB[:,:,2]  = test_mri[0,0,:,:]"
   ]
  },
  {
   "cell_type": "code",
   "execution_count": null,
   "metadata": {},
   "outputs": [],
   "source": [
    "plt.imshow(mri_RGB)"
   ]
  },
  {
   "cell_type": "code",
   "execution_count": null,
   "metadata": {},
   "outputs": [],
   "source": [
    "pet_RGB[:,:,0]  = guide_fuse_mri\n",
    "pet_RGB[:,:,1]  = guide_fuse_pet \n",
    "pet_RGB[:,:,2]  = test_pet[0,0,:,:]"
   ]
  },
  {
   "cell_type": "code",
   "execution_count": null,
   "metadata": {},
   "outputs": [],
   "source": [
    "plt.imshow(pet_RGB)"
   ]
  },
  {
   "cell_type": "code",
   "execution_count": null,
   "metadata": {},
   "outputs": [],
   "source": [
    "#define the window\n",
    "root = Tk()  \n",
    "root.title('Visualisation of fusion networks')\n",
    "root.configure(background='white')\n",
    "\n",
    "\n",
    "#Label the images\n",
    "#fontStyle = tkFont.Font(family=\"Lucida Grande\", size=15)\n",
    "#w1 = tk.Label(root, bg='white', font=fontStyle, text=\"Fused Image\")\n",
    "#w1.grid(row=0, column=1)\n",
    "#w1.pack()\n",
    "\n",
    "#define the frame\n",
    "canvasframe = Frame(root)  # define Input and output frame\n",
    "buttonframe = Frame(root)  # define button frame\n",
    "canvasframe.pack()  # pack the Input and Output frame\n",
    "buttonframe.pack()  # pack the button frame\n",
    "\n",
    "\n",
    "#define the canvas\n",
    "canvas = Canvas(canvasframe, width=1800, height=920, bg = 'white')\n",
    "canvas.grid(row=0, column=0)\n",
    "\n",
    "#Insert fused image to the canvas\n",
    "img_fused = ImageTk.PhotoImage(file =\"C:/Users/horan/Desktop/Suraka/Fused/Fused.png\") # load the image\n",
    "canvas.create_image(0, 0, image=img_fused, anchor=NW)\n",
    "\n",
    "#Insert MRI image to the canvas\n",
    "img_mri = ImageTk.PhotoImage(file =\"C:/Users/horan/Desktop/Suraka/MRI/MRI.gif\") # load the image\n",
    "canvas.create_image(620, 0, image=img_mri, anchor=NW)\n",
    "\n",
    "#Insert PET image to the canvas\n",
    "img_pet = ImageTk.PhotoImage(file =\"C:/Users/horan/Desktop/Suraka/PET/3.png\") # load the image\n",
    "canvas.create_image(1240, 0, image=img_pet, anchor=NW)\n",
    "\n",
    "def start_mouseover():  # function called when user clicks the button \n",
    "    # link the function to the left-mouse-click event\n",
    "    canvas.bind(\"<B1-Motion>\", Coordinates)\n",
    "\n",
    "def Coordinates(event): # function called when left-mouse-button is clicked with a mouseover\n",
    "    x_coord = event.x  # save x and y coordinates selected by the user   \n",
    "    y_coord = event.y\n",
    "    print('mouse position is at' + '(' + str(y_coord) + ',' + str(x_coord) + ')', end='\\r')\n",
    "    #display the output MRI Jacobian image\n",
    "    #img_MR_out = ImageTk.PhotoImage(file ='C:/Users/cgvadmin/Desktop/Suraka/Fused_MRI/im_' + str(y_coord) + '_' + str(x_coord) + '.png') # load the image\n",
    "    jacobian_fuse_mri = torch.autograd.grad(fused[0,0,y_coord,x_coord], test_mri_tensor, retain_graph=True, create_graph=True)[0]\n",
    "    jacobian_fuse_pet = torch.autograd.grad(fused[0,0,y_coord,x_coord], test_pet_tensor, retain_graph=True, create_graph=True)[0]\n",
    "    \n",
    "    jacob_val_mri = np.squeeze(jacobian_fuse_mri.data.cpu().numpy())    \n",
    "    jacob_val_pet = np.squeeze(jacobian_fuse_pet.data.cpu().numpy())\n",
    "    \n",
    "    x_mri = np.asarray(np.where(np.any(jacob_val_mri, axis = 0)))\n",
    "    y_mri = np.asarray(np.where(np.any(jacob_val_mri, axis = 1)))\n",
    "    minx_mri, maxx_mri, miny_mri, maxy_mri = np.min(x_mri), np.max(x_mri), np.min(y_mri), np.max(y_mri)  #return min and max coordinates\n",
    "    zoom_im_mri = jacob_val_mri[miny_mri:maxy_mri,minx_mri:maxx_mri] \n",
    "    \n",
    "    x_pet = np.asarray(np.where(np.any(jacob_val_pet, axis = 0)))\n",
    "    y_pet = np.asarray(np.where(np.any(jacob_val_pet, axis = 1)))\n",
    "    minx_pet, maxx_pet, miny_pet, maxy_pet = np.min(x_pet), np.max(x_pet), np.min(y_pet), np.max(y_pet)  #return min and max coordinates\n",
    "    zoom_im_pet = jacob_val_pet[miny_pet:maxy_pet,minx_pet:maxx_pet] \n",
    "    \n",
    "    plt.imshow(fused_numpy[0,0,miny_mri:maxy_mri,minx_mri:maxx_mri], cmap = 'gray', aspect ='equal')\n",
    "    plt.title('Zoom Fused')\n",
    "    plt.savefig('foo11.png', bbox_inches = 'tight',pad_inches = 0)\n",
    "    plt.close()\n",
    "    im_out11 = ImageTk.PhotoImage(file ='foo11.png')\n",
    "    canvas.create_image(320,0,image=im_out11,anchor=NW)\n",
    "    canvas.image11 = im_out11\n",
    "    plt.tight_layout()\n",
    "    \n",
    "    plt.imshow(test_mri[0,0,miny_mri:maxy_mri,minx_mri:maxx_mri], cmap = 'gray', aspect ='equal')\n",
    "    plt.title('Zoom MRI')\n",
    "    plt.savefig('foo12.png', bbox_inches = 'tight',pad_inches = 0)\n",
    "    plt.close()\n",
    "    im_out12 = ImageTk.PhotoImage(file ='foo12.png')\n",
    "    canvas.create_image(950,0,image=im_out12,anchor=NW)\n",
    "    canvas.image12 = im_out12\n",
    "    plt.tight_layout()\n",
    "    \n",
    "    plt.imshow(test_pet[0,0,miny_mri:maxy_mri,minx_mri:maxx_mri], cmap = 'gray', aspect ='equal')\n",
    "    plt.title('Zoom PET')\n",
    "    plt.savefig('foo13.png', bbox_inches = 'tight',pad_inches = 0)\n",
    "    plt.close()\n",
    "    im_out13 = ImageTk.PhotoImage(file ='foo13.png')\n",
    "    canvas.create_image(1500,0,image=im_out13,anchor=NW)\n",
    "    canvas.image13 = im_out13\n",
    "    plt.tight_layout()\n",
    "    \n",
    "    plt.imshow(jacob_val_mri,cmap='viridis', aspect ='equal')\n",
    "    plt.title('Fused wrt MRI')\n",
    "    plt.savefig('foo1.png', bbox_inches = 'tight',pad_inches = 0)\n",
    "    plt.close()\n",
    "    im_out1 = ImageTk.PhotoImage(file ='foo1.png')\n",
    "    canvas.create_image(0,320,image=im_out1,anchor=NW)\n",
    "    canvas.image1 = im_out1\n",
    "    #plt.tight_layout()\n",
    "    \n",
    "    #f.add_subplot(1,5,2)\n",
    "    plt.imshow(zoom_im_mri,cmap='viridis',aspect ='equal')\n",
    "    plt.title('Zoomed (Fused wrt MRI)')\n",
    "    plt.colorbar()\n",
    "    plt.savefig('foo2.png', bbox_inches = 'tight',pad_inches = 0)\n",
    "    plt.close()\n",
    "    im_out2 = ImageTk.PhotoImage(file ='foo2.png')\n",
    "    canvas.create_image(280,320,image=im_out2,anchor=NW)\n",
    "    canvas.image2 = im_out2\n",
    "    #plt.tight_layout()\n",
    "    #divider = make_axes_locatable(plt)\n",
    "    #cax = divider.append_axes(\"right\", size=\"5%\", pad=0.05)\n",
    "    #plt.colorbar(cax=cax)\n",
    "    \n",
    "    #f.add_subplot(1,5,3)\n",
    "    plt.xlim(0,0.7)\n",
    "    plt.ylim(0,0.7)\n",
    "    plt.plot(jacob_val_mri[y_coord,x_coord],jacob_val_pet[y_coord,x_coord],'-ro')\n",
    "    plt.xlabel('MRI pixel score (Fused wrt MRI)')\n",
    "    plt.ylabel('PET pixel score (Fused wrt PET)')\n",
    "    plt.title('Mouse position at: (' + str(y_coord) + ',' + str(x_coord) + ')')\n",
    "    plt.gca().set_aspect('equal', adjustable='box')\n",
    "    plt.draw()\n",
    "    plt.savefig('foo3.png', bbox_inches = 'tight',pad_inches = 0.1)\n",
    "    plt.close()\n",
    "    im_out3 = ImageTk.PhotoImage(file ='foo3.png')\n",
    "    canvas.create_image(600,320,image=im_out3,anchor=NW)\n",
    "    canvas.image3 = im_out3\n",
    "    \n",
    "    #f.add_subplot(1,5,4)\n",
    "    plt.imshow(jacob_val_pet,cmap='viridis',aspect ='equal')\n",
    "    plt.title('Fused wrt PET')\n",
    "    plt.savefig('foo4.png', bbox_inches = 'tight',pad_inches = 0)\n",
    "    plt.close()\n",
    "    im_out4 = ImageTk.PhotoImage(file ='foo4.png')\n",
    "    canvas.create_image(900,320,image=im_out4,anchor=NW)\n",
    "    canvas.image4 = im_out4\n",
    "    #plt.tight_layout()\n",
    "    \n",
    "    #f.add_subplot(1,5,5)\n",
    "    plt.imshow(zoom_im_pet,cmap='viridis',aspect ='equal')\n",
    "    plt.title('Zoomed (Fused wrt PET)')\n",
    "    plt.colorbar()\n",
    "    plt.savefig('foo5.png', bbox_inches = 'tight',pad_inches = 0)\n",
    "    plt.close()\n",
    "    im_out5 = ImageTk.PhotoImage(file ='foo5.png')\n",
    "    canvas.create_image(1180,320,image=im_out5,anchor=NW)\n",
    "    canvas.image5 = im_out5\n",
    "\n",
    "    plt.imshow(guide_fuse_mri,cmap='viridis')\n",
    "    plt.title('Fused wrt MRI')\n",
    "    plt.colorbar()\n",
    "    plt.savefig('foo6.png', bbox_inches = 'tight',pad_inches = 0)\n",
    "    plt.close()\n",
    "    im_out6 = ImageTk.PhotoImage(file ='foo6.png')\n",
    "    canvas.create_image(0,650,image=im_out6,anchor=NW)\n",
    "    canvas.image6 = im_out6\n",
    "    \n",
    "    plt.imshow(fused_RGB)\n",
    "    plt.savefig('foo8.png', bbox_inches = 'tight',pad_inches = 0)\n",
    "    plt.close()\n",
    "    im_out8 = ImageTk.PhotoImage(file ='foo8.png')\n",
    "    canvas.create_image(300,650,image=im_out8,anchor=NW)\n",
    "    canvas.image8 = im_out8\n",
    "    \n",
    "    plt.imshow(mri_RGB)\n",
    "    plt.savefig('foo9.png', bbox_inches = 'tight',pad_inches = 0)\n",
    "    plt.close()\n",
    "    im_out9 = ImageTk.PhotoImage(file ='foo9.png')\n",
    "    canvas.create_image(600,650,image=im_out9,anchor=NW)\n",
    "    canvas.image9 = im_out9\n",
    "    \n",
    "    plt.imshow(pet_RGB)\n",
    "    plt.savefig('foo10.png', bbox_inches = 'tight',pad_inches = 0)\n",
    "    plt.close()\n",
    "    im_out10 = ImageTk.PhotoImage(file ='foo10.png')\n",
    "    canvas.create_image(900,650,image=im_out10,anchor=NW)\n",
    "    canvas.image10 = im_out10\n",
    "    \n",
    "    plt.imshow(guide_fuse_pet,cmap='viridis')\n",
    "    plt.colorbar()\n",
    "    plt.savefig('foo7.png', bbox_inches = 'tight',pad_inches = 0)\n",
    "    plt.close()\n",
    "    im_out7 = ImageTk.PhotoImage(file ='foo7.png')\n",
    "    canvas.create_image(1200,650,image=im_out7,anchor=NW)\n",
    "    canvas.image7 = im_out7\n",
    "    \n",
    "    radius = 5\n",
    "    i = canvas.create_oval(x_coord-radius, y_coord-radius, x_coord+radius, y_coord+radius, fill = 'red')\n",
    "    canvas.after(20,canvas.delete,i)\n",
    "\n",
    "# insert button to the middleframe and link it to \"Start Mouseover\"\n",
    "button_start_mouseover = Button(buttonframe, text=\"Start Mouseover\",command=start_mouseover)\n",
    "button_start_mouseover.grid(row=1, column=0, pady=0)\n",
    "\n",
    "\n",
    "root.mainloop()  #keep the GUI open"
   ]
  },
  {
   "cell_type": "code",
   "execution_count": null,
   "metadata": {},
   "outputs": [],
   "source": []
  }
 ],
 "metadata": {
  "kernelspec": {
   "display_name": "Python 3",
   "language": "python",
   "name": "python3"
  },
  "language_info": {
   "codemirror_mode": {
    "name": "ipython",
    "version": 3
   },
   "file_extension": ".py",
   "mimetype": "text/x-python",
   "name": "python",
   "nbconvert_exporter": "python",
   "pygments_lexer": "ipython3",
   "version": "3.6.5"
  }
 },
 "nbformat": 4,
 "nbformat_minor": 4
}
